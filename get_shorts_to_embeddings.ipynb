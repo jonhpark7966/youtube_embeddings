{
 "cells": [
  {
   "cell_type": "markdown",
   "id": "26b62da5",
   "metadata": {},
   "source": [
    "# Youtube transcription downloader\n",
    "\n",
    "### prerequisite\n",
    "  - google api key (google developer)\n",
    "  - channel id (refer https://commentpicker.com/youtube-channel-id.php)\n",
    "  \n",
    "### Flow\n",
    "  - get video ids of channel id by google api\n",
    "  - get transcription using YouTubeTranscriptApi\n",
    "\n"
   ]
  },
  {
   "cell_type": "code",
   "execution_count": null,
   "id": "52601c1a",
   "metadata": {
    "scrolled": true
   },
   "outputs": [],
   "source": [
    "!pip install google-api-python-client google-auth-httplib2 google-auth-oauthlib"
   ]
  },
  {
   "cell_type": "code",
   "execution_count": 1,
   "id": "b82d9982",
   "metadata": {},
   "outputs": [],
   "source": [
    "import googleapiclient.discovery\n",
    "import googleapiclient.errors"
   ]
  },
  {
   "cell_type": "code",
   "execution_count": 14,
   "id": "90d9dcb6",
   "metadata": {},
   "outputs": [],
   "source": [
    "# google api key\n",
    "#api_key = \"\"\n",
    "\n",
    "#export OPENAI_API_KEY='sk-...'\n",
    "#OPENAI_API_KEY='sk-'\n",
    "\n",
    "#channel_id = \"UCC1LvVTX2ySKYjeIXkAtvsQ\" # 침착맨플러스\n",
    "channel_id = \"UCsJ6RuBiTVWRX156FVbeaGg\" # 슈카월드"
   ]
  },
  {
   "cell_type": "code",
   "execution_count": 31,
   "id": "87854542",
   "metadata": {},
   "outputs": [],
   "source": [
    "def get_videos(api_key, channel_id):\n",
    "    youtube = googleapiclient.discovery.build(\"youtube\", \"v3\", developerKey=api_key)\n",
    "    \n",
    "    shorts_videos = []\n",
    "    next_page_token = None\n",
    "\n",
    "    while True:\n",
    "        request = youtube.search().list(\n",
    "            part=\"snippet\",\n",
    "            channelId=channel_id,\n",
    "            type=\"video\",\n",
    "            maxResults=50,\n",
    "            videoCaption=\"any\",\n",
    "            order=\"date\",\n",
    "            pageToken=next_page_token\n",
    "        ) ## GOOGLE API, shorts means < 4 min videos.\n",
    "        \n",
    "        response = request.execute()\n",
    "\n",
    "        for item in response[\"items\"]:\n",
    "            shorts_videos.append(item)\n",
    "            print(item)\n",
    "\n",
    "        next_page_token = response.get(\"nextPageToken\")\n",
    "\n",
    "        if next_page_token is None:\n",
    "            break\n",
    "\n",
    "    return shorts_videos"
   ]
  },
  {
   "cell_type": "code",
   "execution_count": 32,
   "id": "fd0a7ce0",
   "metadata": {},
   "outputs": [
    {
     "name": "stdout",
     "output_type": "stream",
     "text": [
      "{'kind': 'youtube#searchResult', 'etag': 'DMP-DKe6y-LiwwSvlyMzImyz5Gc', 'id': {'kind': 'youtube#video', 'videoId': 'SZD5DbHo2Gk'}, 'snippet': {'publishedAt': '2023-05-05T10:33:07Z', 'channelId': 'UCsJ6RuBiTVWRX156FVbeaGg', 'title': '처절한 수단 내전과 작전명 프라미스', 'description': '어렵고 딱딱한 경제,시사,금융 이야기를 쉽고 유쾌하게 풀어내는 경제/시사/이슈/잡썰 토크방송입니다. #수단 #작전명프라미스.', 'thumbnails': {'default': {'url': 'https://i.ytimg.com/vi/SZD5DbHo2Gk/default.jpg', 'width': 120, 'height': 90}, 'medium': {'url': 'https://i.ytimg.com/vi/SZD5DbHo2Gk/mqdefault.jpg', 'width': 320, 'height': 180}, 'high': {'url': 'https://i.ytimg.com/vi/SZD5DbHo2Gk/hqdefault.jpg', 'width': 480, 'height': 360}}, 'channelTitle': '슈카월드', 'liveBroadcastContent': 'none', 'publishTime': '2023-05-05T10:33:07Z'}}\n",
      "{'kind': 'youtube#searchResult', 'etag': '_7eQjBUVPe30XpurMRyhfSc14Bg', 'id': {'kind': 'youtube#video', 'videoId': 'MoKfteyJtCk'}, 'snippet': {'publishedAt': '2023-05-04T12:31:27Z', 'channelId': 'UCsJ6RuBiTVWRX156FVbeaGg', 'title': '아이디어로 성공한 고향사랑 기부제도', 'description': '0:00 ~ 9:20 아이디어로 대박난 일본의 고향납세제도 9:20 ~ 29:46 고향과 국민을 잇는 고향사랑 기부제 어렵고 딱딱한 경제,시사,금융 ...', 'thumbnails': {'default': {'url': 'https://i.ytimg.com/vi/MoKfteyJtCk/default.jpg', 'width': 120, 'height': 90}, 'medium': {'url': 'https://i.ytimg.com/vi/MoKfteyJtCk/mqdefault.jpg', 'width': 320, 'height': 180}, 'high': {'url': 'https://i.ytimg.com/vi/MoKfteyJtCk/hqdefault.jpg', 'width': 480, 'height': 360}}, 'channelTitle': '슈카월드', 'liveBroadcastContent': 'none', 'publishTime': '2023-05-04T12:31:27Z'}}\n",
      "{'kind': 'youtube#searchResult', 'etag': 'cUSjF0KZ4rXbj39zCVW04ROTGtc', 'id': {'kind': 'youtube#video', 'videoId': 'gumUNuNOkbA'}, 'snippet': {'publishedAt': '2023-05-03T10:02:00Z', 'channelId': 'UCsJ6RuBiTVWRX156FVbeaGg', 'title': '2023 워싱턴 선언, 무엇이 달라졌나', 'description': '0:00 ~ 3:49 워싱턴 선언 주요 내용 3:49 ~ 9:29 한미 정상회담 성명문 9:29 ~ 15:12 중국의 답례문(?) 어렵고 딱딱한 경제,시사,금융 ...', 'thumbnails': {'default': {'url': 'https://i.ytimg.com/vi/gumUNuNOkbA/default.jpg', 'width': 120, 'height': 90}, 'medium': {'url': 'https://i.ytimg.com/vi/gumUNuNOkbA/mqdefault.jpg', 'width': 320, 'height': 180}, 'high': {'url': 'https://i.ytimg.com/vi/gumUNuNOkbA/hqdefault.jpg', 'width': 480, 'height': 360}}, 'channelTitle': '슈카월드', 'liveBroadcastContent': 'none', 'publishTime': '2023-05-03T10:02:00Z'}}\n",
      "{'kind': 'youtube#searchResult', 'etag': '-Vvs4yKmp0wPsL7UXAGD7d-WVTY', 'id': {'kind': 'youtube#video', 'videoId': '1R-n4wfPt8w'}, 'snippet': {'publishedAt': '2023-05-02T11:27:22Z', 'channelId': 'UCsJ6RuBiTVWRX156FVbeaGg', 'title': '사기인가 조작인가, 초유의 주식 하한가 사태', 'description': '0:00 ~ 7:56 사상 최초 8개 종목 동시 연쇄 하한가 사태 7:56 ~ 14:14 CFD 거래와 마진콜이란 14:14 ~ 29:47 내 돈 만큼만 손해보면 ...', 'thumbnails': {'default': {'url': 'https://i.ytimg.com/vi/1R-n4wfPt8w/default.jpg', 'width': 120, 'height': 90}, 'medium': {'url': 'https://i.ytimg.com/vi/1R-n4wfPt8w/mqdefault.jpg', 'width': 320, 'height': 180}, 'high': {'url': 'https://i.ytimg.com/vi/1R-n4wfPt8w/hqdefault.jpg', 'width': 480, 'height': 360}}, 'channelTitle': '슈카월드', 'liveBroadcastContent': 'none', 'publishTime': '2023-05-02T11:27:22Z'}}\n",
      "{'kind': 'youtube#searchResult', 'etag': 'ULU5ILKfcdvpaiCynUw5HC36180', 'id': {'kind': 'youtube#video', 'videoId': 'jT6fHmDvpRk'}, 'snippet': {'publishedAt': '2023-05-01T02:43:55Z', 'channelId': 'UCsJ6RuBiTVWRX156FVbeaGg', 'title': '5월 1일 근로자의 날, 쉬나요?', 'description': '0:00 ~ 7:57 우리도 근로자의 날에 쉬나요? 7:57 ~ 16:56 근로자의 날(May day)의 기원 어렵고 딱딱한 경제,시사,금융 이야기를 쉽고 ...', 'thumbnails': {'default': {'url': 'https://i.ytimg.com/vi/jT6fHmDvpRk/default.jpg', 'width': 120, 'height': 90}, 'medium': {'url': 'https://i.ytimg.com/vi/jT6fHmDvpRk/mqdefault.jpg', 'width': 320, 'height': 180}, 'high': {'url': 'https://i.ytimg.com/vi/jT6fHmDvpRk/hqdefault.jpg', 'width': 480, 'height': 360}}, 'channelTitle': '슈카월드', 'liveBroadcastContent': 'none', 'publishTime': '2023-05-01T02:43:55Z'}}\n",
      "{'kind': 'youtube#searchResult', 'etag': 'H4LXSKxChEYzDx4_XI5Q-aXisGs', 'id': {'kind': 'youtube#video', 'videoId': 'PLfx6XJl8eo'}, 'snippet': {'publishedAt': '2023-04-29T10:48:52Z', 'channelId': 'UCsJ6RuBiTVWRX156FVbeaGg', 'title': '스페이스X, 인류 역사상 최대 크기 로켓 발사', 'description': '0:00 ~ 13:08 역대 최대 로켓 SpaceX Startship 발사 13:08 ~ 15:30 글로벌 우주선 개발 현황 어렵고 딱딱한 경제,시사,금융 이야기를 ...', 'thumbnails': {'default': {'url': 'https://i.ytimg.com/vi/PLfx6XJl8eo/default.jpg', 'width': 120, 'height': 90}, 'medium': {'url': 'https://i.ytimg.com/vi/PLfx6XJl8eo/mqdefault.jpg', 'width': 320, 'height': 180}, 'high': {'url': 'https://i.ytimg.com/vi/PLfx6XJl8eo/hqdefault.jpg', 'width': 480, 'height': 360}}, 'channelTitle': '슈카월드', 'liveBroadcastContent': 'none', 'publishTime': '2023-04-29T10:48:52Z'}}\n",
      "{'kind': 'youtube#searchResult', 'etag': 'bmrI923Snu9pi0AsHatSoxHUzWM', 'id': {'kind': 'youtube#video', 'videoId': '-0OjGHr2DcM'}, 'snippet': {'publishedAt': '2023-04-28T10:07:04Z', 'channelId': 'UCsJ6RuBiTVWRX156FVbeaGg', 'title': '월 평균 110만원, 대학교보다 비싼 영어유치원', 'description': '0:00 ~ 11:25 영유아부터 불타는 경쟁 시작? 영어유치원의 세계 11:25 ~ 18:45 영유 + 사립초 콤보, 감당할수있나? 어렵고 딱딱한 ...', 'thumbnails': {'default': {'url': 'https://i.ytimg.com/vi/-0OjGHr2DcM/default.jpg', 'width': 120, 'height': 90}, 'medium': {'url': 'https://i.ytimg.com/vi/-0OjGHr2DcM/mqdefault.jpg', 'width': 320, 'height': 180}, 'high': {'url': 'https://i.ytimg.com/vi/-0OjGHr2DcM/hqdefault.jpg', 'width': 480, 'height': 360}}, 'channelTitle': '슈카월드', 'liveBroadcastContent': 'none', 'publishTime': '2023-04-28T10:07:04Z'}}\n",
      "{'kind': 'youtube#searchResult', 'etag': 'HUmk7LtTX1uZ_TiRl2DrT9wI22I', 'id': {'kind': 'youtube#video', 'videoId': 'jrLJrlicy2Y'}, 'snippet': {'publishedAt': '2023-04-27T10:55:18Z', 'channelId': 'UCsJ6RuBiTVWRX156FVbeaGg', 'title': '점심 도시락을 먹는 일본인들, 우리도 바뀔 것인가', 'description': '0:00 ~ 5:43 점심 한 끼 1만 5천원 시대 5:43 ~ 8:13 폭발적인 도시락 판매량 8:13 ~ 19:10 일본의 도시락 문화 어렵고 딱딱한 경제,시사 ...', 'thumbnails': {'default': {'url': 'https://i.ytimg.com/vi/jrLJrlicy2Y/default.jpg', 'width': 120, 'height': 90}, 'medium': {'url': 'https://i.ytimg.com/vi/jrLJrlicy2Y/mqdefault.jpg', 'width': 320, 'height': 180}, 'high': {'url': 'https://i.ytimg.com/vi/jrLJrlicy2Y/hqdefault.jpg', 'width': 480, 'height': 360}}, 'channelTitle': '슈카월드', 'liveBroadcastContent': 'none', 'publishTime': '2023-04-27T10:55:18Z'}}\n",
      "{'kind': 'youtube#searchResult', 'etag': 'CKSzA-bxza0vEaets5cXeTvlilw', 'id': {'kind': 'youtube#video', 'videoId': 'WxvVpzc9mgU'}, 'snippet': {'publishedAt': '2023-04-26T10:32:06Z', 'channelId': 'UCsJ6RuBiTVWRX156FVbeaGg', 'title': '얼어붙은 전세시장, 꽉 막힌 탈출구', 'description': '0:00 ~ 10:48 가슴아픈 전세사기 사건들과 TF 가동 10:48 ~ 22:36 전세계 우리나라만 있는 제도, 전세 어렵고 딱딱한 경제,시사,금융 ...', 'thumbnails': {'default': {'url': 'https://i.ytimg.com/vi/WxvVpzc9mgU/default.jpg', 'width': 120, 'height': 90}, 'medium': {'url': 'https://i.ytimg.com/vi/WxvVpzc9mgU/mqdefault.jpg', 'width': 320, 'height': 180}, 'high': {'url': 'https://i.ytimg.com/vi/WxvVpzc9mgU/hqdefault.jpg', 'width': 480, 'height': 360}}, 'channelTitle': '슈카월드', 'liveBroadcastContent': 'none', 'publishTime': '2023-04-26T10:32:06Z'}}\n",
      "{'kind': 'youtube#searchResult', 'etag': 'H_9IuzRDkoHGPBZDUF2fB0PwrOg', 'id': {'kind': 'youtube#video', 'videoId': 'TdL3eYERx5M'}, 'snippet': {'publishedAt': '2023-04-25T13:21:02Z', 'channelId': 'UCsJ6RuBiTVWRX156FVbeaGg', 'title': '최악의 주가 부진, 디즈니의 구원투수는?', 'description': '0:00 ~ 6:11 9년전 주가로 돌아간 디즈니 6:11 ~ 10:48 \"아니, 볼 게 없네\" 10:48 ~ 13:19 장편 애니메이션의 본가 디즈니에 무슨 일이.', 'thumbnails': {'default': {'url': 'https://i.ytimg.com/vi/TdL3eYERx5M/default.jpg', 'width': 120, 'height': 90}, 'medium': {'url': 'https://i.ytimg.com/vi/TdL3eYERx5M/mqdefault.jpg', 'width': 320, 'height': 180}, 'high': {'url': 'https://i.ytimg.com/vi/TdL3eYERx5M/hqdefault.jpg', 'width': 480, 'height': 360}}, 'channelTitle': '슈카월드', 'liveBroadcastContent': 'none', 'publishTime': '2023-04-25T13:21:02Z'}}\n",
      "{'kind': 'youtube#searchResult', 'etag': 'RSbNYa_81W1aq03VxUJ9e3mUC7Q', 'id': {'kind': 'youtube#video', 'videoId': 'xX8ZwBTAwxM'}, 'snippet': {'publishedAt': '2023-04-24T11:12:14Z', 'channelId': 'UCsJ6RuBiTVWRX156FVbeaGg', 'title': '나으리 우리는 수출만 했을 뿐입니다.', 'description': '0:00 ~ 12:14 러시아가 한국의 무기 제공(?)에 대해 위협했다. 12:14 ~ 14:26 불용치훼, 그리고 한미정상회담 어렵고 딱딱한 경제,시사, ...', 'thumbnails': {'default': {'url': 'https://i.ytimg.com/vi/xX8ZwBTAwxM/default.jpg', 'width': 120, 'height': 90}, 'medium': {'url': 'https://i.ytimg.com/vi/xX8ZwBTAwxM/mqdefault.jpg', 'width': 320, 'height': 180}, 'high': {'url': 'https://i.ytimg.com/vi/xX8ZwBTAwxM/hqdefault.jpg', 'width': 480, 'height': 360}}, 'channelTitle': '슈카월드', 'liveBroadcastContent': 'none', 'publishTime': '2023-04-24T11:12:14Z'}}\n",
      "{'kind': 'youtube#searchResult', 'etag': 'FvqwHl0G8_nDTFCO6fUYoN-SzAc', 'id': {'kind': 'youtube#video', 'videoId': '8mMMMlcGYM0'}, 'snippet': {'publishedAt': '2023-04-21T10:36:55Z', 'channelId': 'UCsJ6RuBiTVWRX156FVbeaGg', 'title': '강아지풀은 좁쌀이고...', 'description': '0:00 ~ 2:25 강아지풀은 좁쌀인가 2:25 ~ 10:24 가지가 영어로 Egg Plant 인 이유 10:24 ~ 13:18 깻잎은 고수인가 어렵고 딱딱한 경제, ...', 'thumbnails': {'default': {'url': 'https://i.ytimg.com/vi/8mMMMlcGYM0/default.jpg', 'width': 120, 'height': 90}, 'medium': {'url': 'https://i.ytimg.com/vi/8mMMMlcGYM0/mqdefault.jpg', 'width': 320, 'height': 180}, 'high': {'url': 'https://i.ytimg.com/vi/8mMMMlcGYM0/hqdefault.jpg', 'width': 480, 'height': 360}}, 'channelTitle': '슈카월드', 'liveBroadcastContent': 'none', 'publishTime': '2023-04-21T10:36:55Z'}}\n",
      "{'kind': 'youtube#searchResult', 'etag': 'lzMSDbwvVkh3wPFaI0UAHleGoXU', 'id': {'kind': 'youtube#video', 'videoId': 'gWkkxSWB1iQ'}, 'snippet': {'publishedAt': '2023-04-20T12:11:07Z', 'channelId': 'UCsJ6RuBiTVWRX156FVbeaGg', 'title': '옳고 그름을 따지지 않고 내 편을 지지하는가', 'description': '0:00 ~ 7:13 우리 사회 갈등이 심각한가? 7:13 ~ 21:06 당동벌이, 군웅할거 어렵고 딱딱한 경제,시사,금융 이야기를 쉽고 유쾌하게 풀어 ...', 'thumbnails': {'default': {'url': 'https://i.ytimg.com/vi/gWkkxSWB1iQ/default.jpg', 'width': 120, 'height': 90}, 'medium': {'url': 'https://i.ytimg.com/vi/gWkkxSWB1iQ/mqdefault.jpg', 'width': 320, 'height': 180}, 'high': {'url': 'https://i.ytimg.com/vi/gWkkxSWB1iQ/hqdefault.jpg', 'width': 480, 'height': 360}}, 'channelTitle': '슈카월드', 'liveBroadcastContent': 'none', 'publishTime': '2023-04-20T12:11:07Z'}}\n",
      "{'kind': 'youtube#searchResult', 'etag': 'IxqFar4BoYHYQc2EDn-toqRh024', 'id': {'kind': 'youtube#video', 'videoId': 'mSEbRa3QfCc'}, 'snippet': {'publishedAt': '2023-04-19T13:16:36Z', 'channelId': 'UCsJ6RuBiTVWRX156FVbeaGg', 'title': '위기의 도시 부산, 그 해결책은?', 'description': '0:00 ~ 5:39 인구 2위 도시 부산의 위기 5:39 ~ 9:36 부산의 롤모델, 미국 시애틀 9:36 ~ 12:25 부산 엑스포 2030 가즈아 어렵고 딱딱한 ...', 'thumbnails': {'default': {'url': 'https://i.ytimg.com/vi/mSEbRa3QfCc/default.jpg', 'width': 120, 'height': 90}, 'medium': {'url': 'https://i.ytimg.com/vi/mSEbRa3QfCc/mqdefault.jpg', 'width': 320, 'height': 180}, 'high': {'url': 'https://i.ytimg.com/vi/mSEbRa3QfCc/hqdefault.jpg', 'width': 480, 'height': 360}}, 'channelTitle': '슈카월드', 'liveBroadcastContent': 'none', 'publishTime': '2023-04-19T13:16:36Z'}}\n",
      "{'kind': 'youtube#searchResult', 'etag': 'xizPF0jMm4QapbX84LGYCBnpDK8', 'id': {'kind': 'youtube#video', 'videoId': 'axeIPBrBHLs'}, 'snippet': {'publishedAt': '2023-04-18T11:29:17Z', 'channelId': 'UCsJ6RuBiTVWRX156FVbeaGg', 'title': '전관예우는 존재하는가', 'description': '0:00 ~ 11:29 전관예우는 존재하는가 11:29 ~ 16:25 사법시스템에 대한 OECD 신뢰도 조사 어렵고 딱딱한 경제,시사,금융 이야기를 ...', 'thumbnails': {'default': {'url': 'https://i.ytimg.com/vi/axeIPBrBHLs/default.jpg', 'width': 120, 'height': 90}, 'medium': {'url': 'https://i.ytimg.com/vi/axeIPBrBHLs/mqdefault.jpg', 'width': 320, 'height': 180}, 'high': {'url': 'https://i.ytimg.com/vi/axeIPBrBHLs/hqdefault.jpg', 'width': 480, 'height': 360}}, 'channelTitle': '슈카월드', 'liveBroadcastContent': 'none', 'publishTime': '2023-04-18T11:29:17Z'}}\n",
      "{'kind': 'youtube#searchResult', 'etag': 'n4I74mzsC7_y8G9WPj8sZ06H4v0', 'id': {'kind': 'youtube#video', 'videoId': 'DFX8WyKeaeE'}, 'snippet': {'publishedAt': '2023-04-17T10:31:06Z', 'channelId': 'UCsJ6RuBiTVWRX156FVbeaGg', 'title': '분열되는 유럽, 갈라치는 중국', 'description': '0:00 ~ 17:10 프랑스 : \"우리는 미국의 속국이 아니다\" 17:10 ~ 25:04 중국의 양면 전술 25:04 ~ 36:04 쉴새없이 몰아치는 중국의 광폭 ...', 'thumbnails': {'default': {'url': 'https://i.ytimg.com/vi/DFX8WyKeaeE/default.jpg', 'width': 120, 'height': 90}, 'medium': {'url': 'https://i.ytimg.com/vi/DFX8WyKeaeE/mqdefault.jpg', 'width': 320, 'height': 180}, 'high': {'url': 'https://i.ytimg.com/vi/DFX8WyKeaeE/hqdefault.jpg', 'width': 480, 'height': 360}}, 'channelTitle': '슈카월드', 'liveBroadcastContent': 'none', 'publishTime': '2023-04-17T10:31:06Z'}}\n",
      "{'kind': 'youtube#searchResult', 'etag': 'ycD9NIB0GiARWOo-iNvrQL1Nob4', 'id': {'kind': 'youtube#video', 'videoId': 'fVEKIewD8ys'}, 'snippet': {'publishedAt': '2023-04-15T10:19:47Z', 'channelId': 'UCsJ6RuBiTVWRX156FVbeaGg', 'title': 'SNS는 우리를 불행하게 만드는가', 'description': '0:00 ~ 13:52 sns사용과 삶의 만족도 13:52 ~ 21:28 이유에 대한 의견들 어렵고 딱딱한 경제,시사,금융 이야기를 쉽고 유쾌하게 풀어 ...', 'thumbnails': {'default': {'url': 'https://i.ytimg.com/vi/fVEKIewD8ys/default.jpg', 'width': 120, 'height': 90}, 'medium': {'url': 'https://i.ytimg.com/vi/fVEKIewD8ys/mqdefault.jpg', 'width': 320, 'height': 180}, 'high': {'url': 'https://i.ytimg.com/vi/fVEKIewD8ys/hqdefault.jpg', 'width': 480, 'height': 360}}, 'channelTitle': '슈카월드', 'liveBroadcastContent': 'none', 'publishTime': '2023-04-15T10:19:47Z'}}\n",
      "{'kind': 'youtube#searchResult', 'etag': 'As6S-XShU0mkjdVgcP0V1ig7Dmo', 'id': {'kind': 'youtube#video', 'videoId': 'qXQoDh4sgq4'}, 'snippet': {'publishedAt': '2023-04-14T11:17:29Z', 'channelId': 'UCsJ6RuBiTVWRX156FVbeaGg', 'title': '눈 앞에 다가온 최대 폭 전기요금 인상', 'description': '0:00 ~ 15:09 상장기업 역사상 최대 적자 -32.6조원 15:09 ~ 24:38 올해는 어쩌지.. 어렵고 딱딱한 경제,시사,금융 이야기를 쉽고 유쾌 ...', 'thumbnails': {'default': {'url': 'https://i.ytimg.com/vi/qXQoDh4sgq4/default.jpg', 'width': 120, 'height': 90}, 'medium': {'url': 'https://i.ytimg.com/vi/qXQoDh4sgq4/mqdefault.jpg', 'width': 320, 'height': 180}, 'high': {'url': 'https://i.ytimg.com/vi/qXQoDh4sgq4/hqdefault.jpg', 'width': 480, 'height': 360}}, 'channelTitle': '슈카월드', 'liveBroadcastContent': 'none', 'publishTime': '2023-04-14T11:17:29Z'}}\n",
      "{'kind': 'youtube#searchResult', 'etag': '4ygdiN1KyFJ6FIXPDsMOrCN0AFY', 'id': {'kind': 'youtube#video', 'videoId': 'AxBs1x8wDa8'}, 'snippet': {'publishedAt': '2023-04-13T11:00:48Z', 'channelId': 'UCsJ6RuBiTVWRX156FVbeaGg', 'title': '코리아디스카운트 해소를 위한 제도적 방안', 'description': \"한국거래소에서 지원하는 공익광고 영상입니다. 0:00 ~ 8:26 이제는 너무 유명한 '코리아 디스카운트' 8:26 ~ 23:42 외국인 투자자, ...\", 'thumbnails': {'default': {'url': 'https://i.ytimg.com/vi/AxBs1x8wDa8/default.jpg', 'width': 120, 'height': 90}, 'medium': {'url': 'https://i.ytimg.com/vi/AxBs1x8wDa8/mqdefault.jpg', 'width': 320, 'height': 180}, 'high': {'url': 'https://i.ytimg.com/vi/AxBs1x8wDa8/hqdefault.jpg', 'width': 480, 'height': 360}}, 'channelTitle': '슈카월드', 'liveBroadcastContent': 'none', 'publishTime': '2023-04-13T11:00:48Z'}}\n",
      "{'kind': 'youtube#searchResult', 'etag': 'PeDbKV7UFFycZbB9MJNHCVuLb5U', 'id': {'kind': 'youtube#video', 'videoId': 'Qub3rxJ6UmE'}, 'snippet': {'publishedAt': '2023-04-12T09:48:48Z', 'channelId': 'UCsJ6RuBiTVWRX156FVbeaGg', 'title': '삼성전자 25년만에 반도체 감산 결정', 'description': '0:00 ~ 8:25 삼성전자 1분기 영업이익 -95.8% 어닝쇼크 8:25 ~ 19:47 왜 그렇게 된걸까 어렵고 딱딱한 경제,시사,금융 이야기를 쉽고 ...', 'thumbnails': {'default': {'url': 'https://i.ytimg.com/vi/Qub3rxJ6UmE/default.jpg', 'width': 120, 'height': 90}, 'medium': {'url': 'https://i.ytimg.com/vi/Qub3rxJ6UmE/mqdefault.jpg', 'width': 320, 'height': 180}, 'high': {'url': 'https://i.ytimg.com/vi/Qub3rxJ6UmE/hqdefault.jpg', 'width': 480, 'height': 360}}, 'channelTitle': '슈카월드', 'liveBroadcastContent': 'none', 'publishTime': '2023-04-12T09:48:48Z'}}\n",
      "{'kind': 'youtube#searchResult', 'etag': 'ZBhPZZ5389znwI39v-3YGFZMfaQ', 'id': {'kind': 'youtube#video', 'videoId': '4RyUx3Q_ne8'}, 'snippet': {'publishedAt': '2023-04-11T08:59:15Z', 'channelId': 'UCsJ6RuBiTVWRX156FVbeaGg', 'title': '대한민국, 해외여행에 미치다.', 'description': '0:00 ~ 17:38 한국vs일본 극명한 해외여행 온도차 17:38 ~ 28:10 우리는 왜 그렇게 해외여행에 나서는가 어렵고 딱딱한 경제,시사, ...', 'thumbnails': {'default': {'url': 'https://i.ytimg.com/vi/4RyUx3Q_ne8/default.jpg', 'width': 120, 'height': 90}, 'medium': {'url': 'https://i.ytimg.com/vi/4RyUx3Q_ne8/mqdefault.jpg', 'width': 320, 'height': 180}, 'high': {'url': 'https://i.ytimg.com/vi/4RyUx3Q_ne8/hqdefault.jpg', 'width': 480, 'height': 360}}, 'channelTitle': '슈카월드', 'liveBroadcastContent': 'none', 'publishTime': '2023-04-11T08:59:15Z'}}\n",
      "{'kind': 'youtube#searchResult', 'etag': 'LZ4Px1a8JKDSUlls_B4HQy31_vU', 'id': {'kind': 'youtube#video', 'videoId': 'JKQdunBezm4'}, 'snippet': {'publishedAt': '2023-04-10T11:35:52Z', 'channelId': 'UCsJ6RuBiTVWRX156FVbeaGg', 'title': '역사상 기소된 첫 전직 대통령', 'description': '0:00 ~ 6:02 혹시 명장면이 나오지 않을까? 6:02 ~ 16:45 충신인가, 배신자인가? 16:45 ~ 22:33 코리안들에게는 상당히 익숙한 장면 ...', 'thumbnails': {'default': {'url': 'https://i.ytimg.com/vi/JKQdunBezm4/default.jpg', 'width': 120, 'height': 90}, 'medium': {'url': 'https://i.ytimg.com/vi/JKQdunBezm4/mqdefault.jpg', 'width': 320, 'height': 180}, 'high': {'url': 'https://i.ytimg.com/vi/JKQdunBezm4/hqdefault.jpg', 'width': 480, 'height': 360}}, 'channelTitle': '슈카월드', 'liveBroadcastContent': 'none', 'publishTime': '2023-04-10T11:35:52Z'}}\n",
      "{'kind': 'youtube#searchResult', 'etag': '6uxhxPxNkz_cq1IyagG45iqpTYs', 'id': {'kind': 'youtube#video', 'videoId': 'c_qPkgoJKWE'}, 'snippet': {'publishedAt': '2023-04-08T10:06:23Z', 'channelId': 'UCsJ6RuBiTVWRX156FVbeaGg', 'title': '사이비 종교, 나는 신이다.', 'description': '0:00 ~ 14:59 종교백화점 대한민국 14:59 ~ 23:44 1992 휴거 사건 23:44 ~ 32:05 너무 당당한 사이비 종교들 어렵고 딱딱한 경제,시사, ...', 'thumbnails': {'default': {'url': 'https://i.ytimg.com/vi/c_qPkgoJKWE/default.jpg', 'width': 120, 'height': 90}, 'medium': {'url': 'https://i.ytimg.com/vi/c_qPkgoJKWE/mqdefault.jpg', 'width': 320, 'height': 180}, 'high': {'url': 'https://i.ytimg.com/vi/c_qPkgoJKWE/hqdefault.jpg', 'width': 480, 'height': 360}}, 'channelTitle': '슈카월드', 'liveBroadcastContent': 'none', 'publishTime': '2023-04-08T10:06:23Z'}}\n",
      "{'kind': 'youtube#searchResult', 'etag': 'P7W1xoTfyNTA3s7t55Au2JTBCdY', 'id': {'kind': 'youtube#video', 'videoId': 'nefoI5x3LXA'}, 'snippet': {'publishedAt': '2023-04-07T12:33:44Z', 'channelId': 'UCsJ6RuBiTVWRX156FVbeaGg', 'title': '소는 풀이 아닌 지방을 먹고 산다.', 'description': '0:00 ~ 2:33 풀만 먹는 소는 왜이렇게 덩치가 클까 2:33 ~ 7:30 풀떼기에서 지방산이 나와? 7:30 ~ 11:43 소의 큰그림 11:43 ~ 18:38 ...', 'thumbnails': {'default': {'url': 'https://i.ytimg.com/vi/nefoI5x3LXA/default.jpg', 'width': 120, 'height': 90}, 'medium': {'url': 'https://i.ytimg.com/vi/nefoI5x3LXA/mqdefault.jpg', 'width': 320, 'height': 180}, 'high': {'url': 'https://i.ytimg.com/vi/nefoI5x3LXA/hqdefault.jpg', 'width': 480, 'height': 360}}, 'channelTitle': '슈카월드', 'liveBroadcastContent': 'none', 'publishTime': '2023-04-07T12:33:44Z'}}\n",
      "{'kind': 'youtube#searchResult', 'etag': 'MrenOXph3p_ihv5ZDee-An4uJIA', 'id': {'kind': 'youtube#video', 'videoId': 'N6ID_2J9rBg'}, 'snippet': {'publishedAt': '2023-04-06T10:15:04Z', 'channelId': 'UCsJ6RuBiTVWRX156FVbeaGg', 'title': '최초 공개되는 ‘북한 인권 보고서’', 'description': '0:00 ~ 5:06 4대 세습을 준비중인 나라?? 5:06 ~ 23:53 뭘하면 사형이고, 뭘하면 아오지인가 어렵고 딱딱한 경제,시사,금융 이야기를 ...', 'thumbnails': {'default': {'url': 'https://i.ytimg.com/vi/N6ID_2J9rBg/default.jpg', 'width': 120, 'height': 90}, 'medium': {'url': 'https://i.ytimg.com/vi/N6ID_2J9rBg/mqdefault.jpg', 'width': 320, 'height': 180}, 'high': {'url': 'https://i.ytimg.com/vi/N6ID_2J9rBg/hqdefault.jpg', 'width': 480, 'height': 360}}, 'channelTitle': '슈카월드', 'liveBroadcastContent': 'none', 'publishTime': '2023-04-06T10:15:04Z'}}\n",
      "{'kind': 'youtube#searchResult', 'etag': '8m68vezcc0o-bm2X0hDK5_rqqnY', 'id': {'kind': 'youtube#video', 'videoId': 'k-v7x6ezvxw'}, 'snippet': {'publishedAt': '2023-04-05T10:18:19Z', 'channelId': 'UCsJ6RuBiTVWRX156FVbeaGg', 'title': '우리 엄마 수익률 미쳤다. 실전투자대회의 반전', 'description': '0:00 ~ 7:02 실전투자대회 특) 7:02 ~ 22:21 아들은 망하고 엄마는 대박난 실전투자대회 22:21 ~ 25:10 전설적인 수익률 4650% ...', 'thumbnails': {'default': {'url': 'https://i.ytimg.com/vi/k-v7x6ezvxw/default.jpg', 'width': 120, 'height': 90}, 'medium': {'url': 'https://i.ytimg.com/vi/k-v7x6ezvxw/mqdefault.jpg', 'width': 320, 'height': 180}, 'high': {'url': 'https://i.ytimg.com/vi/k-v7x6ezvxw/hqdefault.jpg', 'width': 480, 'height': 360}}, 'channelTitle': '슈카월드', 'liveBroadcastContent': 'none', 'publishTime': '2023-04-05T10:18:19Z'}}\n",
      "{'kind': 'youtube#searchResult', 'etag': 'lcpF0ZlLUr6CxdFNNnA37bY8dJA', 'id': {'kind': 'youtube#video', 'videoId': 'q08CAF4iERY'}, 'snippet': {'publishedAt': '2023-04-04T09:52:34Z', 'channelId': 'UCsJ6RuBiTVWRX156FVbeaGg', 'title': '전문직 열풍 대한민국, 사짜 전성시대', 'description': '0:00 ~ 8:06 대한민국 전문직 열풍 8:06 ~ 19:07 나도 부자가 될거야! 어렵고 딱딱한 경제,시사,금융 이야기를 쉽고 유쾌하게 풀어내는 ...', 'thumbnails': {'default': {'url': 'https://i.ytimg.com/vi/q08CAF4iERY/default.jpg', 'width': 120, 'height': 90}, 'medium': {'url': 'https://i.ytimg.com/vi/q08CAF4iERY/mqdefault.jpg', 'width': 320, 'height': 180}, 'high': {'url': 'https://i.ytimg.com/vi/q08CAF4iERY/hqdefault.jpg', 'width': 480, 'height': 360}}, 'channelTitle': '슈카월드', 'liveBroadcastContent': 'none', 'publishTime': '2023-04-04T09:52:34Z'}}\n",
      "{'kind': 'youtube#searchResult', 'etag': 'q8gPxX3AUIkIxSBEtJWYxulWGhc', 'id': {'kind': 'youtube#video', 'videoId': 'mDZNcmO5yTc'}, 'snippet': {'publishedAt': '2023-04-03T12:39:52Z', 'channelId': 'UCsJ6RuBiTVWRX156FVbeaGg', 'title': '전 세계에 퍼지는 틱톡(TikTok) 금지령', 'description': '0:00 ~ 2:13 글로벌 열풍 틱톡의 가장 큰 문제점 2:13 ~ 14:26 미국 청문회에 등장한 틱톡 CEO 14:26 ~ 24:10 ??? : \"틱톡은 반드시 ...', 'thumbnails': {'default': {'url': 'https://i.ytimg.com/vi/mDZNcmO5yTc/default.jpg', 'width': 120, 'height': 90}, 'medium': {'url': 'https://i.ytimg.com/vi/mDZNcmO5yTc/mqdefault.jpg', 'width': 320, 'height': 180}, 'high': {'url': 'https://i.ytimg.com/vi/mDZNcmO5yTc/hqdefault.jpg', 'width': 480, 'height': 360}}, 'channelTitle': '슈카월드', 'liveBroadcastContent': 'none', 'publishTime': '2023-04-03T12:39:52Z'}}\n",
      "{'kind': 'youtube#searchResult', 'etag': 'qP8myrWheVkE6bFYuqiGxzBPoAQ', 'id': {'kind': 'youtube#video', 'videoId': 'dei3jZJ-UMg'}, 'snippet': {'publishedAt': '2023-03-31T10:17:06Z', 'channelId': 'UCsJ6RuBiTVWRX156FVbeaGg', 'title': '전 세계 은행들은 왜 흔들리고 있나', 'description': '0:00 ~ 14:08 6개월만에 - 80% 찍은 썰 푼다 14:08 ~ 22:41 전세계 은행들이 흔들리고 있는 이유 어렵고 딱딱한 경제,시사,금융 이야기 ...', 'thumbnails': {'default': {'url': 'https://i.ytimg.com/vi/dei3jZJ-UMg/default.jpg', 'width': 120, 'height': 90}, 'medium': {'url': 'https://i.ytimg.com/vi/dei3jZJ-UMg/mqdefault.jpg', 'width': 320, 'height': 180}, 'high': {'url': 'https://i.ytimg.com/vi/dei3jZJ-UMg/hqdefault.jpg', 'width': 480, 'height': 360}}, 'channelTitle': '슈카월드', 'liveBroadcastContent': 'none', 'publishTime': '2023-03-31T10:17:06Z'}}\n",
      "{'kind': 'youtube#searchResult', 'etag': 'WVFCTQnhot9gsqLT5g-7CWx6NNM', 'id': {'kind': 'youtube#video', 'videoId': 'HdH0nEfsw7U'}, 'snippet': {'publishedAt': '2023-03-30T10:04:02Z', 'channelId': 'UCsJ6RuBiTVWRX156FVbeaGg', 'title': 'LG 올레드 TV를 획득하라. 그 최후의 승자는? [유료광고 포함]', 'description': 'LG전자의 유료광고가 포함된 영상입니다. https://www.lge.co.kr/tvs/oled65g3kna-wall 어렵고 딱딱한 경제,시사,금융 이야기를 쉽고 ...', 'thumbnails': {'default': {'url': 'https://i.ytimg.com/vi/HdH0nEfsw7U/default.jpg', 'width': 120, 'height': 90}, 'medium': {'url': 'https://i.ytimg.com/vi/HdH0nEfsw7U/mqdefault.jpg', 'width': 320, 'height': 180}, 'high': {'url': 'https://i.ytimg.com/vi/HdH0nEfsw7U/hqdefault.jpg', 'width': 480, 'height': 360}}, 'channelTitle': '슈카월드', 'liveBroadcastContent': 'none', 'publishTime': '2023-03-30T10:04:02Z'}}\n",
      "{'kind': 'youtube#searchResult', 'etag': 'zn5mu-0ziYJVKMXZts2yhvdBar0', 'id': {'kind': 'youtube#video', 'videoId': 'cjifVf9XKm0'}, 'snippet': {'publishedAt': '2023-03-29T10:42:13Z', 'channelId': 'UCsJ6RuBiTVWRX156FVbeaGg', 'title': '코스닥 시총 1위, 2위를 석권한 에코프로그룹', 'description': '0:00 ~ 8:11 올해의 주식 에코프로비엠 8:11 ~ 17:22 전쟁이 끝난 전쟁터, 게임스탑&SM 어렵고 딱딱한 경제,시사,금융 이야기를 쉽고 ...', 'thumbnails': {'default': {'url': 'https://i.ytimg.com/vi/cjifVf9XKm0/default.jpg', 'width': 120, 'height': 90}, 'medium': {'url': 'https://i.ytimg.com/vi/cjifVf9XKm0/mqdefault.jpg', 'width': 320, 'height': 180}, 'high': {'url': 'https://i.ytimg.com/vi/cjifVf9XKm0/hqdefault.jpg', 'width': 480, 'height': 360}}, 'channelTitle': '슈카월드', 'liveBroadcastContent': 'none', 'publishTime': '2023-03-29T10:42:13Z'}}\n",
      "{'kind': 'youtube#searchResult', 'etag': '0ihTC0B3ubHT3H1Xf0WjSNstImA', 'id': {'kind': 'youtube#video', 'videoId': '0J7HpN-7E_o'}, 'snippet': {'publishedAt': '2023-03-28T09:47:56Z', 'channelId': 'UCsJ6RuBiTVWRX156FVbeaGg', 'title': '누구를 위한 사법개혁인가, 불타오르는 이스라엘', 'description': '0:00 ~ 11:56 누구를 위한 법인가? 11:56 ~ 19:40 극단적 정책을 우려하는 글로벌 시각 어렵고 딱딱한 경제,시사,금융 이야기를 쉽고 ...', 'thumbnails': {'default': {'url': 'https://i.ytimg.com/vi/0J7HpN-7E_o/default.jpg', 'width': 120, 'height': 90}, 'medium': {'url': 'https://i.ytimg.com/vi/0J7HpN-7E_o/mqdefault.jpg', 'width': 320, 'height': 180}, 'high': {'url': 'https://i.ytimg.com/vi/0J7HpN-7E_o/hqdefault.jpg', 'width': 480, 'height': 360}}, 'channelTitle': '슈카월드', 'liveBroadcastContent': 'none', 'publishTime': '2023-03-28T09:47:56Z'}}\n",
      "{'kind': 'youtube#searchResult', 'etag': 'MA7GPl7dBg3fWDsmn8M-ADbgWS0', 'id': {'kind': 'youtube#video', 'videoId': 'tub0-HxhQC0'}, 'snippet': {'publishedAt': '2023-03-27T11:53:10Z', 'channelId': 'UCsJ6RuBiTVWRX156FVbeaGg', 'title': '영화, 치킨, 택시.. 끝없이 올라가는 가격, 감당할 수 있을까', 'description': '0:00 ~ 13:59 코로나 종료 이후 최대 수혜주 아니었나? 13:59 ~ 20:27 비슷한 현상 - 택시, 치킨 20:27 ~ 25:16 삶의 만족도 어렵고 ...', 'thumbnails': {'default': {'url': 'https://i.ytimg.com/vi/tub0-HxhQC0/default.jpg', 'width': 120, 'height': 90}, 'medium': {'url': 'https://i.ytimg.com/vi/tub0-HxhQC0/mqdefault.jpg', 'width': 320, 'height': 180}, 'high': {'url': 'https://i.ytimg.com/vi/tub0-HxhQC0/hqdefault.jpg', 'width': 480, 'height': 360}}, 'channelTitle': '슈카월드', 'liveBroadcastContent': 'none', 'publishTime': '2023-03-27T11:53:10Z'}}\n",
      "{'kind': 'youtube#searchResult', 'etag': 'sd_7waCHl-epEMiCSCctD2kaESc', 'id': {'kind': 'youtube#video', 'videoId': 'P7__22-yJDM'}, 'snippet': {'publishedAt': '2023-03-24T10:42:33Z', 'channelId': 'UCsJ6RuBiTVWRX156FVbeaGg', 'title': '생존을 위해 색상이 바뀌는 플라밍고의 비밀 (feat. 홍학)', 'description': '0:00 ~ 1:16 유튜브 최대 스타(?) 연가시 1:16 ~ 8:49 플라밍고(홍학)는 원래 하얗다? 8:49 ~ 16:58 히어로를 만드는 기생 어렵고 ...', 'thumbnails': {'default': {'url': 'https://i.ytimg.com/vi/P7__22-yJDM/default.jpg', 'width': 120, 'height': 90}, 'medium': {'url': 'https://i.ytimg.com/vi/P7__22-yJDM/mqdefault.jpg', 'width': 320, 'height': 180}, 'high': {'url': 'https://i.ytimg.com/vi/P7__22-yJDM/hqdefault.jpg', 'width': 480, 'height': 360}}, 'channelTitle': '슈카월드', 'liveBroadcastContent': 'none', 'publishTime': '2023-03-24T10:42:33Z'}}\n",
      "{'kind': 'youtube#searchResult', 'etag': 'NN4G9fznhz8vtgtRVrUHGTgfOIg', 'id': {'kind': 'youtube#video', 'videoId': 'oRLxVZS_eXc'}, 'snippet': {'publishedAt': '2023-03-23T10:16:26Z', 'channelId': 'UCsJ6RuBiTVWRX156FVbeaGg', 'title': '원나라의 침공에서 베트남을 구한 불세출의 명장, 쩐흥다오', 'description': '0:00 ~ 7:38 몽골과 원의 어마어마한 욕심 7:38 ~ 14:02 만만치 않았던 베트남 14:02 ~ 17:16 원나라를 3번 막아낸 베트남 영웅 어렵고 ...', 'thumbnails': {'default': {'url': 'https://i.ytimg.com/vi/oRLxVZS_eXc/default.jpg', 'width': 120, 'height': 90}, 'medium': {'url': 'https://i.ytimg.com/vi/oRLxVZS_eXc/mqdefault.jpg', 'width': 320, 'height': 180}, 'high': {'url': 'https://i.ytimg.com/vi/oRLxVZS_eXc/hqdefault.jpg', 'width': 480, 'height': 360}}, 'channelTitle': '슈카월드', 'liveBroadcastContent': 'none', 'publishTime': '2023-03-23T10:16:26Z'}}\n",
      "{'kind': 'youtube#searchResult', 'etag': 'mAj0OVw-KYUIOcpkQAFYUZEZc3s', 'id': {'kind': 'youtube#video', 'videoId': 'Ft0dNrMy5yg'}, 'snippet': {'publishedAt': '2023-03-22T11:36:51Z', 'channelId': 'UCsJ6RuBiTVWRX156FVbeaGg', 'title': '책값 할인 가능해질까? 도마에 오른 도서정가제', 'description': '0:00 ~ 14:27 뜨거운 감자, 도서 정가제 14:27 ~ 23:07 찬반 양측의 의견 23:07 ~ 31:42 \"틀림없이 요금을 내릴 것입니다\" 31:42 ...', 'thumbnails': {'default': {'url': 'https://i.ytimg.com/vi/Ft0dNrMy5yg/default.jpg', 'width': 120, 'height': 90}, 'medium': {'url': 'https://i.ytimg.com/vi/Ft0dNrMy5yg/mqdefault.jpg', 'width': 320, 'height': 180}, 'high': {'url': 'https://i.ytimg.com/vi/Ft0dNrMy5yg/hqdefault.jpg', 'width': 480, 'height': 360}}, 'channelTitle': '슈카월드', 'liveBroadcastContent': 'none', 'publishTime': '2023-03-22T11:36:51Z'}}\n",
      "{'kind': 'youtube#searchResult', 'etag': 'eDiXFx45VItHY17SrY6HBz_CJfk', 'id': {'kind': 'youtube#video', 'videoId': 'zuDkvHU477g'}, 'snippet': {'publishedAt': '2023-03-21T12:28:28Z', 'channelId': 'UCsJ6RuBiTVWRX156FVbeaGg', 'title': '세계를 바꾸고 있는 Chat GPT-4 등장', 'description': '0:00 ~ 7:08 양치기 소년 Chat gpt? 7:08 ~ 11:29 눈과 귀가 생긴 AI 등장 11:29 ~ 20:12 업무 방식의 혁명이 오나 20:12 ~ 24:52 검색과 ...', 'thumbnails': {'default': {'url': 'https://i.ytimg.com/vi/zuDkvHU477g/default.jpg', 'width': 120, 'height': 90}, 'medium': {'url': 'https://i.ytimg.com/vi/zuDkvHU477g/mqdefault.jpg', 'width': 320, 'height': 180}, 'high': {'url': 'https://i.ytimg.com/vi/zuDkvHU477g/hqdefault.jpg', 'width': 480, 'height': 360}}, 'channelTitle': '슈카월드', 'liveBroadcastContent': 'none', 'publishTime': '2023-03-21T12:28:28Z'}}\n",
      "{'kind': 'youtube#searchResult', 'etag': '-RMzDptQVqQVrkzgoGLbSsRC_rg', 'id': {'kind': 'youtube#video', 'videoId': 'cy1J9MzV1yI'}, 'snippet': {'publishedAt': '2023-03-20T11:03:36Z', 'channelId': 'UCsJ6RuBiTVWRX156FVbeaGg', 'title': '또다시 돌아온 &#39;설마&#39;, 크레딧 스위스 파산 위기', 'description': '0:00 ~ 12:37 재무보고에 중요한 결함이 발견된 크레딧 스위스 12:37 ~ 18:55 \"살려야 한다\" 18:55 ~ 24:00 그 와중에 미국 연준은.', 'thumbnails': {'default': {'url': 'https://i.ytimg.com/vi/cy1J9MzV1yI/default.jpg', 'width': 120, 'height': 90}, 'medium': {'url': 'https://i.ytimg.com/vi/cy1J9MzV1yI/mqdefault.jpg', 'width': 320, 'height': 180}, 'high': {'url': 'https://i.ytimg.com/vi/cy1J9MzV1yI/hqdefault.jpg', 'width': 480, 'height': 360}}, 'channelTitle': '슈카월드', 'liveBroadcastContent': 'none', 'publishTime': '2023-03-20T11:03:36Z'}}\n",
      "{'kind': 'youtube#searchResult', 'etag': 'jgWZOyoj61n4pSkDuQNZ-zOfizs', 'id': {'kind': 'youtube#video', 'videoId': '8pB3Lwv01rE'}, 'snippet': {'publishedAt': '2023-03-17T11:21:22Z', 'channelId': 'UCsJ6RuBiTVWRX156FVbeaGg', 'title': '야심찬 서울시 &#39;그레이트 한강&#39; 프로젝트', 'description': '0:00 ~ 6:56 높이 180m 대관람차 \"서울링\" 6:56 ~ 11:16 강남과 강북을 잇는 곤돌라 11:16 ~ 16:30 한강 주변 규제 완화 어렵고 딱딱한 ...', 'thumbnails': {'default': {'url': 'https://i.ytimg.com/vi/8pB3Lwv01rE/default.jpg', 'width': 120, 'height': 90}, 'medium': {'url': 'https://i.ytimg.com/vi/8pB3Lwv01rE/mqdefault.jpg', 'width': 320, 'height': 180}, 'high': {'url': 'https://i.ytimg.com/vi/8pB3Lwv01rE/hqdefault.jpg', 'width': 480, 'height': 360}}, 'channelTitle': '슈카월드', 'liveBroadcastContent': 'none', 'publishTime': '2023-03-17T11:21:22Z'}}\n",
      "{'kind': 'youtube#searchResult', 'etag': 'l5NFO4J5He0Hkm9U6Ae8Z4sWANM', 'id': {'kind': 'youtube#video', 'videoId': 'A38uOpTVHj4'}, 'snippet': {'publishedAt': '2023-03-16T12:58:11Z', 'channelId': 'UCsJ6RuBiTVWRX156FVbeaGg', 'title': '대한민국 사교육비 역대 최고액 돌파', 'description': '0:00 ~ 15:58 2022년 사교육비 역대 최고액 돌파 15:58 ~ 25:15 80% 학생이 사교육에 참여하는 나라 25:15 ~ 33:44 청년의 삶 실태 ...', 'thumbnails': {'default': {'url': 'https://i.ytimg.com/vi/A38uOpTVHj4/default.jpg', 'width': 120, 'height': 90}, 'medium': {'url': 'https://i.ytimg.com/vi/A38uOpTVHj4/mqdefault.jpg', 'width': 320, 'height': 180}, 'high': {'url': 'https://i.ytimg.com/vi/A38uOpTVHj4/hqdefault.jpg', 'width': 480, 'height': 360}}, 'channelTitle': '슈카월드', 'liveBroadcastContent': 'none', 'publishTime': '2023-03-16T12:58:11Z'}}\n",
      "{'kind': 'youtube#searchResult', 'etag': 'Gu2C4PlGmIXPmKDgDZeMXZYvkUw', 'id': {'kind': 'youtube#video', 'videoId': 'sHv7ks_ZmEE'}, 'snippet': {'publishedAt': '2023-03-15T10:54:26Z', 'channelId': 'UCsJ6RuBiTVWRX156FVbeaGg', 'title': '주 52시간 대규모 개편, 내 근무시간은 어떻게 될까', 'description': '0:00 ~ 12:09 근로시간 제도 개편 방안 12:09 ~ 25:48 운영상의 걱정 어렵고 딱딱한 경제,시사,금융 이야기를 쉽고 유쾌하게 풀어내는 ...', 'thumbnails': {'default': {'url': 'https://i.ytimg.com/vi/sHv7ks_ZmEE/default.jpg', 'width': 120, 'height': 90}, 'medium': {'url': 'https://i.ytimg.com/vi/sHv7ks_ZmEE/mqdefault.jpg', 'width': 320, 'height': 180}, 'high': {'url': 'https://i.ytimg.com/vi/sHv7ks_ZmEE/hqdefault.jpg', 'width': 480, 'height': 360}}, 'channelTitle': '슈카월드', 'liveBroadcastContent': 'none', 'publishTime': '2023-03-15T10:54:26Z'}}\n",
      "{'kind': 'youtube#searchResult', 'etag': '-ew_NIIamT-sa5isnm4r1xSNWdQ', 'id': {'kind': 'youtube#video', 'videoId': 'rhQB7wzeosk'}, 'snippet': {'publishedAt': '2023-03-14T11:22:29Z', 'channelId': 'UCsJ6RuBiTVWRX156FVbeaGg', 'title': '강력한 미국 반도체 법안, 대한민국 반도체 겨울', 'description': '0:00 ~ 11:34 곤란한 미국 상무부 반도체 지원법 11:34 ~ 18:33 두려운 미국의 2030년 반도체 목표 어렵고 딱딱한 경제,시사,금융 ...', 'thumbnails': {'default': {'url': 'https://i.ytimg.com/vi/rhQB7wzeosk/default.jpg', 'width': 120, 'height': 90}, 'medium': {'url': 'https://i.ytimg.com/vi/rhQB7wzeosk/mqdefault.jpg', 'width': 320, 'height': 180}, 'high': {'url': 'https://i.ytimg.com/vi/rhQB7wzeosk/hqdefault.jpg', 'width': 480, 'height': 360}}, 'channelTitle': '슈카월드', 'liveBroadcastContent': 'none', 'publishTime': '2023-03-14T11:22:29Z'}}\n",
      "{'kind': 'youtube#searchResult', 'etag': 'XlqDM4RHL8a6cDTucYaBijbvWRo', 'id': {'kind': 'youtube#video', 'videoId': 'GjvOaSaJtw4'}, 'snippet': {'publishedAt': '2023-03-13T12:50:02Z', 'channelId': 'UCsJ6RuBiTVWRX156FVbeaGg', 'title': 'SVB 실리콘밸리 은행 파산, 큰 거 오나?', 'description': '0:00 ~ 7:40 먼저 짚고가는 미국의 현재 분위기 7:40 ~ 25:48 svb 실리콘밸리은행 파산 25:48 ~ 37:07 암호화폐 은행 실버게이트 청산, ...', 'thumbnails': {'default': {'url': 'https://i.ytimg.com/vi/GjvOaSaJtw4/default.jpg', 'width': 120, 'height': 90}, 'medium': {'url': 'https://i.ytimg.com/vi/GjvOaSaJtw4/mqdefault.jpg', 'width': 320, 'height': 180}, 'high': {'url': 'https://i.ytimg.com/vi/GjvOaSaJtw4/hqdefault.jpg', 'width': 480, 'height': 360}}, 'channelTitle': '슈카월드', 'liveBroadcastContent': 'none', 'publishTime': '2023-03-13T12:50:02Z'}}\n",
      "{'kind': 'youtube#searchResult', 'etag': 'pufm1rlxPSWSvG45bDmzD2J6X5I', 'id': {'kind': 'youtube#video', 'videoId': 'pZyOi0KC2ho'}, 'snippet': {'publishedAt': '2023-03-11T10:21:09Z', 'channelId': 'UCsJ6RuBiTVWRX156FVbeaGg', 'title': '거지에서 황제가 된 명나라 태조 주원장 이야기', 'description': '0:00 ~ 7:33 서울시 홍보대사가 된 슈카, 뭐라도 해야된다. 7:33 ~ 17:10 중국판 수양대군 이야기 17:10 ~ 22:07 그 와중에 고려는 ...', 'thumbnails': {'default': {'url': 'https://i.ytimg.com/vi/pZyOi0KC2ho/default.jpg', 'width': 120, 'height': 90}, 'medium': {'url': 'https://i.ytimg.com/vi/pZyOi0KC2ho/mqdefault.jpg', 'width': 320, 'height': 180}, 'high': {'url': 'https://i.ytimg.com/vi/pZyOi0KC2ho/hqdefault.jpg', 'width': 480, 'height': 360}}, 'channelTitle': '슈카월드', 'liveBroadcastContent': 'none', 'publishTime': '2023-03-11T10:21:09Z'}}\n",
      "{'kind': 'youtube#searchResult', 'etag': 'yl8nRdOqn_dks0U_XxU_eh2M6j0', 'id': {'kind': 'youtube#video', 'videoId': 'f5lKywJm5dQ'}, 'snippet': {'publishedAt': '2023-03-10T11:55:44Z', 'channelId': 'UCsJ6RuBiTVWRX156FVbeaGg', 'title': '물고기가 사라진다. 무너지고 있는 바다', 'description': '0:00 ~ 10:00 스타벅스 빨대보다 더 거대한 문제 10:00 ~ 21:08 대부분의 대형 물고기는 멸종 수준으로 급감한 현재 어렵고 딱딱한 ...', 'thumbnails': {'default': {'url': 'https://i.ytimg.com/vi/f5lKywJm5dQ/default.jpg', 'width': 120, 'height': 90}, 'medium': {'url': 'https://i.ytimg.com/vi/f5lKywJm5dQ/mqdefault.jpg', 'width': 320, 'height': 180}, 'high': {'url': 'https://i.ytimg.com/vi/f5lKywJm5dQ/hqdefault.jpg', 'width': 480, 'height': 360}}, 'channelTitle': '슈카월드', 'liveBroadcastContent': 'none', 'publishTime': '2023-03-10T11:55:44Z'}}\n",
      "{'kind': 'youtube#searchResult', 'etag': 'd2eyedwIcEPhd_SpVnF0TLRio3E', 'id': {'kind': 'youtube#video', 'videoId': 'Z6UHlW_SE9E'}, 'snippet': {'publishedAt': '2023-03-09T10:02:15Z', 'channelId': 'UCsJ6RuBiTVWRX156FVbeaGg', 'title': '대이직의 시대, 급변하는 채용 시장 [유료광고 포함]', 'description': '그리팅의 유료광고가 포함된 영상입니다. 국내 1등 ATS 그리팅 알아보기 : https://bit.ly/3kXfybe 슈카 구독자 2개월 무료체험 이벤트 ...', 'thumbnails': {'default': {'url': 'https://i.ytimg.com/vi/Z6UHlW_SE9E/default.jpg', 'width': 120, 'height': 90}, 'medium': {'url': 'https://i.ytimg.com/vi/Z6UHlW_SE9E/mqdefault.jpg', 'width': 320, 'height': 180}, 'high': {'url': 'https://i.ytimg.com/vi/Z6UHlW_SE9E/hqdefault.jpg', 'width': 480, 'height': 360}}, 'channelTitle': '슈카월드', 'liveBroadcastContent': 'none', 'publishTime': '2023-03-09T10:02:15Z'}}\n",
      "{'kind': 'youtube#searchResult', 'etag': 'erxEUkRjH3m8PYuCHIharg4s228', 'id': {'kind': 'youtube#video', 'videoId': 'bO96Pvd8jx0'}, 'snippet': {'publishedAt': '2023-03-08T11:57:19Z', 'channelId': 'UCsJ6RuBiTVWRX156FVbeaGg', 'title': '한국식 휴전 모델? 교착상태에 빠지는 우크라이나 전쟁', 'description': '0:00 ~ 7:58 바이든 대통령 깜짝 방문 7:58 ~ 14:09 부산스러운 미국 정계 14:09 ~ 18:21 휴전선이 떠오르는 우크라이나 교착 상태 ...', 'thumbnails': {'default': {'url': 'https://i.ytimg.com/vi/bO96Pvd8jx0/default.jpg', 'width': 120, 'height': 90}, 'medium': {'url': 'https://i.ytimg.com/vi/bO96Pvd8jx0/mqdefault.jpg', 'width': 320, 'height': 180}, 'high': {'url': 'https://i.ytimg.com/vi/bO96Pvd8jx0/hqdefault.jpg', 'width': 480, 'height': 360}}, 'channelTitle': '슈카월드', 'liveBroadcastContent': 'none', 'publishTime': '2023-03-08T11:57:19Z'}}\n",
      "{'kind': 'youtube#searchResult', 'etag': 'vqzKVLUFHamqsURXrPP0k4SSa_A', 'id': {'kind': 'youtube#video', 'videoId': 'MBcEW7Gp1Pw'}, 'snippet': {'publishedAt': '2023-03-07T10:59:18Z', 'channelId': 'UCsJ6RuBiTVWRX156FVbeaGg', 'title': '현대차 생산직 채용, 10만 명 지원설', 'description': '0:00 ~ 9:34 7급 갓무원 vs 현대차 킹산직 9:34 ~ 16:17 돈을 아무리 많이 줘도 누가 지방감? 어렵고 딱딱한 경제,시사,금융 이야기를 ...', 'thumbnails': {'default': {'url': 'https://i.ytimg.com/vi/MBcEW7Gp1Pw/default.jpg', 'width': 120, 'height': 90}, 'medium': {'url': 'https://i.ytimg.com/vi/MBcEW7Gp1Pw/mqdefault.jpg', 'width': 320, 'height': 180}, 'high': {'url': 'https://i.ytimg.com/vi/MBcEW7Gp1Pw/hqdefault.jpg', 'width': 480, 'height': 360}}, 'channelTitle': '슈카월드', 'liveBroadcastContent': 'none', 'publishTime': '2023-03-07T10:59:18Z'}}\n",
      "{'kind': 'youtube#searchResult', 'etag': 'EbrzawxF0mLKZOSR_ug8EmX5QGI', 'id': {'kind': 'youtube#video', 'videoId': 'vHnHXrjoT7c'}, 'snippet': {'publishedAt': '2023-03-06T12:13:12Z', 'channelId': 'UCsJ6RuBiTVWRX156FVbeaGg', 'title': '반전의 반전의 반전? 카카오냐 하이브냐 SM 인수 전쟁', 'description': '0:00 ~ 7:46 지난 상황 정리 7:46 ~ 22:39 관건은 공개매수 마지막날 SM의 주가 22:39 ~ 27:04 카카오의 결단, Go ? Stop? 27:04 ...', 'thumbnails': {'default': {'url': 'https://i.ytimg.com/vi/vHnHXrjoT7c/default.jpg', 'width': 120, 'height': 90}, 'medium': {'url': 'https://i.ytimg.com/vi/vHnHXrjoT7c/mqdefault.jpg', 'width': 320, 'height': 180}, 'high': {'url': 'https://i.ytimg.com/vi/vHnHXrjoT7c/hqdefault.jpg', 'width': 480, 'height': 360}}, 'channelTitle': '슈카월드', 'liveBroadcastContent': 'none', 'publishTime': '2023-03-06T12:13:12Z'}}\n",
      "{'kind': 'youtube#searchResult', 'etag': 'PK23mlieY3JwgB_OpMV2528A9Sc', 'id': {'kind': 'youtube#video', 'videoId': 'sln1Bqw5k0U'}, 'snippet': {'publishedAt': '2023-03-03T11:25:28Z', 'channelId': 'UCsJ6RuBiTVWRX156FVbeaGg', 'title': '개미는 벌인가?', 'description': '0:00 ~ 7:32 불꽃같은 사랑을 나눈 후 즉사하는 수컷들 7:32 ~ 14:13 제국을 이룩한 생명의 위대함 어렵고 딱딱한 경제,시사,금융 ...', 'thumbnails': {'default': {'url': 'https://i.ytimg.com/vi/sln1Bqw5k0U/default.jpg', 'width': 120, 'height': 90}, 'medium': {'url': 'https://i.ytimg.com/vi/sln1Bqw5k0U/mqdefault.jpg', 'width': 320, 'height': 180}, 'high': {'url': 'https://i.ytimg.com/vi/sln1Bqw5k0U/hqdefault.jpg', 'width': 480, 'height': 360}}, 'channelTitle': '슈카월드', 'liveBroadcastContent': 'none', 'publishTime': '2023-03-03T11:25:28Z'}}\n"
     ]
    },
    {
     "name": "stdout",
     "output_type": "stream",
     "text": [
      "{'kind': 'youtube#searchResult', 'etag': 'rDLjff1O4W_B9PR7BxIRs3KBIL4', 'id': {'kind': 'youtube#video', 'videoId': 'vFRbuRWkVTM'}, 'snippet': {'publishedAt': '2023-03-02T13:37:38Z', 'channelId': 'UCsJ6RuBiTVWRX156FVbeaGg', 'title': 'OECD 행복지수 최하위, 경제대국 대한민국', 'description': \"0:00 ~ 9:55 'OECD 국가 삶의 만족도' 최하위 대한민국 9:55 ~ 25:23 우리나라는 왜 불행할까? 어렵고 딱딱한 경제,시사,금융 이야기 ...\", 'thumbnails': {'default': {'url': 'https://i.ytimg.com/vi/vFRbuRWkVTM/default.jpg', 'width': 120, 'height': 90}, 'medium': {'url': 'https://i.ytimg.com/vi/vFRbuRWkVTM/mqdefault.jpg', 'width': 320, 'height': 180}, 'high': {'url': 'https://i.ytimg.com/vi/vFRbuRWkVTM/hqdefault.jpg', 'width': 480, 'height': 360}}, 'channelTitle': '슈카월드', 'liveBroadcastContent': 'none', 'publishTime': '2023-03-02T13:37:38Z'}}\n",
      "{'kind': 'youtube#searchResult', 'etag': 'JPsNmeY6JvHB-pKYO6s1-MxWYVo', 'id': {'kind': 'youtube#video', 'videoId': 't670RRLx7kw'}, 'snippet': {'publishedAt': '2023-03-01T11:44:25Z', 'channelId': 'UCsJ6RuBiTVWRX156FVbeaGg', 'title': '리튬 전쟁, 배터리 재료 리튬을 확보하라', 'description': '0:00 ~ 5:34 배터리 원료, 리튬을 확보하기 위한 전쟁 5:34 ~ 19:20 떠오르는 리튬 대박 삼각지대 어렵고 딱딱한 경제,시사,금융 이야기 ...', 'thumbnails': {'default': {'url': 'https://i.ytimg.com/vi/t670RRLx7kw/default.jpg', 'width': 120, 'height': 90}, 'medium': {'url': 'https://i.ytimg.com/vi/t670RRLx7kw/mqdefault.jpg', 'width': 320, 'height': 180}, 'high': {'url': 'https://i.ytimg.com/vi/t670RRLx7kw/hqdefault.jpg', 'width': 480, 'height': 360}}, 'channelTitle': '슈카월드', 'liveBroadcastContent': 'none', 'publishTime': '2023-03-01T11:44:25Z'}}\n",
      "{'kind': 'youtube#searchResult', 'etag': 'QnUX4UYTo2GKP6ARS_HfRt7bswo', 'id': {'kind': 'youtube#video', 'videoId': 'rXm1DDZcW7I'}, 'snippet': {'publishedAt': '2023-02-28T11:11:50Z', 'channelId': 'UCsJ6RuBiTVWRX156FVbeaGg', 'title': '한 달에 3,700명이 총으로 죽는 나라', 'description': '0:00 ~ 5:22 1월에만 52건의 대량 난사 사건 발생, 말이 되는가 5:22 ~ 18:03 충격적인 과거 사건들 어렵고 딱딱한 경제,시사,금융 ...', 'thumbnails': {'default': {'url': 'https://i.ytimg.com/vi/rXm1DDZcW7I/default.jpg', 'width': 120, 'height': 90}, 'medium': {'url': 'https://i.ytimg.com/vi/rXm1DDZcW7I/mqdefault.jpg', 'width': 320, 'height': 180}, 'high': {'url': 'https://i.ytimg.com/vi/rXm1DDZcW7I/hqdefault.jpg', 'width': 480, 'height': 360}}, 'channelTitle': '슈카월드', 'liveBroadcastContent': 'none', 'publishTime': '2023-02-28T11:11:50Z'}}\n",
      "{'kind': 'youtube#searchResult', 'etag': 'YCx4bPpN3B80j368qs7V5Zh8ctg', 'id': {'kind': 'youtube#video', 'videoId': 'sU8DRDEG86o'}, 'snippet': {'publishedAt': '2023-02-27T13:24:32Z', 'channelId': 'UCsJ6RuBiTVWRX156FVbeaGg', 'title': '출산율 0.78, 20대 부모가 사라졌다.', 'description': '0:00 ~ 9:19 세계 출산 역사를 다시 쓰고 있는 대한민국 9:19 ~ 16:56 20대 엄마가 사라졌다 16:56 ~ 31:04 말이 안되는 상황, 말도 ...', 'thumbnails': {'default': {'url': 'https://i.ytimg.com/vi/sU8DRDEG86o/default.jpg', 'width': 120, 'height': 90}, 'medium': {'url': 'https://i.ytimg.com/vi/sU8DRDEG86o/mqdefault.jpg', 'width': 320, 'height': 180}, 'high': {'url': 'https://i.ytimg.com/vi/sU8DRDEG86o/hqdefault.jpg', 'width': 480, 'height': 360}}, 'channelTitle': '슈카월드', 'liveBroadcastContent': 'none', 'publishTime': '2023-02-27T13:24:32Z'}}\n",
      "{'kind': 'youtube#searchResult', 'etag': 'eTQaap-_PLusewTh9b2oK7gKf5c', 'id': {'kind': 'youtube#video', 'videoId': 'fSjRuMC8Tws'}, 'snippet': {'publishedAt': '2023-02-24T09:55:14Z', 'channelId': 'UCsJ6RuBiTVWRX156FVbeaGg', 'title': '중국 애국주의 영화가 주는 섬뜩한 메시지', 'description': \"0:00 ~ 11:45 중국 역사상 최악의 굴욕 '정강의 변' 11:45 ~ 18:22 중국의 애국주의 극치 영화 어렵고 딱딱한 경제,시사,금융 이야기를 ...\", 'thumbnails': {'default': {'url': 'https://i.ytimg.com/vi/fSjRuMC8Tws/default.jpg', 'width': 120, 'height': 90}, 'medium': {'url': 'https://i.ytimg.com/vi/fSjRuMC8Tws/mqdefault.jpg', 'width': 320, 'height': 180}, 'high': {'url': 'https://i.ytimg.com/vi/fSjRuMC8Tws/hqdefault.jpg', 'width': 480, 'height': 360}}, 'channelTitle': '슈카월드', 'liveBroadcastContent': 'none', 'publishTime': '2023-02-24T09:55:14Z'}}\n",
      "{'kind': 'youtube#searchResult', 'etag': 'wRRMILLrI97BNArUUl1XtXlAExA', 'id': {'kind': 'youtube#video', 'videoId': 'eYTGN1JUVoQ'}, 'snippet': {'publishedAt': '2023-02-23T12:24:58Z', 'channelId': 'UCsJ6RuBiTVWRX156FVbeaGg', 'title': '창고 빌려주고 유튜브 CEO가 된 사람', 'description': '0:00 ~ 13:33 유튜브 CEO가 되는 방법 13:33 ~ 18:12 복이 넝쿨째 굴러들어온 운짱 3자매 18:12 ~ 22:18 미국의 차고 창업 (garage ...', 'thumbnails': {'default': {'url': 'https://i.ytimg.com/vi/eYTGN1JUVoQ/default.jpg', 'width': 120, 'height': 90}, 'medium': {'url': 'https://i.ytimg.com/vi/eYTGN1JUVoQ/mqdefault.jpg', 'width': 320, 'height': 180}, 'high': {'url': 'https://i.ytimg.com/vi/eYTGN1JUVoQ/hqdefault.jpg', 'width': 480, 'height': 360}}, 'channelTitle': '슈카월드', 'liveBroadcastContent': 'none', 'publishTime': '2023-02-23T12:24:58Z'}}\n",
      "{'kind': 'youtube#searchResult', 'etag': '9wY-aiXH0I3IeIFh1o6lkdvZBys', 'id': {'kind': 'youtube#video', 'videoId': '76NunQMTJMc'}, 'snippet': {'publishedAt': '2023-02-22T10:17:38Z', 'channelId': 'UCsJ6RuBiTVWRX156FVbeaGg', 'title': '독특한 섬나라 대한민국', 'description': '0:00 ~ 4:47 OECD 국가중 애플페이 안되는 유이한 국가 4:47 ~ 9:40 자국만의 규제와 방식을 너무 많이 가진 나라 9:40 ~ 21:40 ...', 'thumbnails': {'default': {'url': 'https://i.ytimg.com/vi/76NunQMTJMc/default.jpg', 'width': 120, 'height': 90}, 'medium': {'url': 'https://i.ytimg.com/vi/76NunQMTJMc/mqdefault.jpg', 'width': 320, 'height': 180}, 'high': {'url': 'https://i.ytimg.com/vi/76NunQMTJMc/hqdefault.jpg', 'width': 480, 'height': 360}}, 'channelTitle': '슈카월드', 'liveBroadcastContent': 'none', 'publishTime': '2023-02-22T10:17:38Z'}}\n",
      "{'kind': 'youtube#searchResult', 'etag': 'fmVF0did-94nPwOBcBGPRtuV2Z4', 'id': {'kind': 'youtube#video', 'videoId': 'whsdMqj1JYQ'}, 'snippet': {'publishedAt': '2023-02-21T12:30:58Z', 'channelId': 'UCsJ6RuBiTVWRX156FVbeaGg', 'title': '희미해져가는 통일 의식', 'description': '0:00 ~ 8:23 희미해져가는 우리의 소원은 통일 8:23 ~ 14:53 통일, 관심없다. 42% 14:53 ~ 20:13 지구상 최악의 독재, 세습국가 어렵고 ...', 'thumbnails': {'default': {'url': 'https://i.ytimg.com/vi/whsdMqj1JYQ/default.jpg', 'width': 120, 'height': 90}, 'medium': {'url': 'https://i.ytimg.com/vi/whsdMqj1JYQ/mqdefault.jpg', 'width': 320, 'height': 180}, 'high': {'url': 'https://i.ytimg.com/vi/whsdMqj1JYQ/hqdefault.jpg', 'width': 480, 'height': 360}}, 'channelTitle': '슈카월드', 'liveBroadcastContent': 'none', 'publishTime': '2023-02-21T12:30:58Z'}}\n",
      "{'kind': 'youtube#searchResult', 'etag': 'sOG-cMA0fyn-CFka-hCp3x64Xak', 'id': {'kind': 'youtube#video', 'videoId': 'm05Vw5Qhaxs'}, 'snippet': {'publishedAt': '2023-02-20T12:07:14Z', 'channelId': 'UCsJ6RuBiTVWRX156FVbeaGg', 'title': '&#39;공식적 경기 둔화&#39;를 선언한 대한민국', 'description': '0:00 ~ 7:23 대한민국, 공식적으로 경기 둔화 국면 진입 7:23 ~ 15:14 삼전의 운명을 건 5팩토리 땡겨짓기 15:14 ~ 22:42 반도체 인재 ...', 'thumbnails': {'default': {'url': 'https://i.ytimg.com/vi/m05Vw5Qhaxs/default.jpg', 'width': 120, 'height': 90}, 'medium': {'url': 'https://i.ytimg.com/vi/m05Vw5Qhaxs/mqdefault.jpg', 'width': 320, 'height': 180}, 'high': {'url': 'https://i.ytimg.com/vi/m05Vw5Qhaxs/hqdefault.jpg', 'width': 480, 'height': 360}}, 'channelTitle': '슈카월드', 'liveBroadcastContent': 'none', 'publishTime': '2023-02-20T12:07:14Z'}}\n",
      "{'kind': 'youtube#searchResult', 'etag': '2gPy2PVkMShZXXf5j-LI7QvDu-Q', 'id': {'kind': 'youtube#video', 'videoId': 'WohmjyDLiVg'}, 'snippet': {'publishedAt': '2023-02-17T12:47:49Z', 'channelId': 'UCsJ6RuBiTVWRX156FVbeaGg', 'title': '대우건설 시공권 포기, 불안한 부동산 미분양 리스크', 'description': '0:00 ~ 6:10 대우건설 440억 원 손실 처리, 시공권 포기 6:10 ~ 13:52 고조되는 미분양 리스크 13:52 ~ 21:12 대기업 두산을 뒤흔든 ...', 'thumbnails': {'default': {'url': 'https://i.ytimg.com/vi/WohmjyDLiVg/default.jpg', 'width': 120, 'height': 90}, 'medium': {'url': 'https://i.ytimg.com/vi/WohmjyDLiVg/mqdefault.jpg', 'width': 320, 'height': 180}, 'high': {'url': 'https://i.ytimg.com/vi/WohmjyDLiVg/hqdefault.jpg', 'width': 480, 'height': 360}}, 'channelTitle': '슈카월드', 'liveBroadcastContent': 'none', 'publishTime': '2023-02-17T12:47:49Z'}}\n",
      "{'kind': 'youtube#searchResult', 'etag': 'KYWD1TW8bY4gmyE8TkAdihX4FtA', 'id': {'kind': 'youtube#video', 'videoId': 'jqAi5Qnj3KY'}, 'snippet': {'publishedAt': '2023-02-16T09:49:24Z', 'channelId': 'UCsJ6RuBiTVWRX156FVbeaGg', 'title': '미국 중국의 의문의 풍선 격추시키다.', 'description': '0:00 ~ 10:07 풍선 터트리는데 전투기씩이나? 10:07 ~ 17:56 필사적인 숟가락 얹기 어렵고 딱딱한 경제,시사,금융 이야기를 쉽고 유쾌 ...', 'thumbnails': {'default': {'url': 'https://i.ytimg.com/vi/jqAi5Qnj3KY/default.jpg', 'width': 120, 'height': 90}, 'medium': {'url': 'https://i.ytimg.com/vi/jqAi5Qnj3KY/mqdefault.jpg', 'width': 320, 'height': 180}, 'high': {'url': 'https://i.ytimg.com/vi/jqAi5Qnj3KY/hqdefault.jpg', 'width': 480, 'height': 360}}, 'channelTitle': '슈카월드', 'liveBroadcastContent': 'none', 'publishTime': '2023-02-16T09:49:24Z'}}\n",
      "{'kind': 'youtube#searchResult', 'etag': 'ov5F5tipvf_Mvr3XnloWqS3sa4c', 'id': {'kind': 'youtube#video', 'videoId': 'EXNvRul-4Tk'}, 'snippet': {'publishedAt': '2023-02-15T11:22:29Z', 'channelId': 'UCsJ6RuBiTVWRX156FVbeaGg', 'title': '마음 급한 구글, 회심의 AI 챗봇 바드 공개 대참사', 'description': '0:00 ~ 15:12 불붙는 AI 경쟁과 구글의 비상사태 15:12 ~ 19:11 AI군비 전쟁이 펼쳐지고 있다 19:11 ~ 23:42 가슴 아픈 기업 메타 ...', 'thumbnails': {'default': {'url': 'https://i.ytimg.com/vi/EXNvRul-4Tk/default.jpg', 'width': 120, 'height': 90}, 'medium': {'url': 'https://i.ytimg.com/vi/EXNvRul-4Tk/mqdefault.jpg', 'width': 320, 'height': 180}, 'high': {'url': 'https://i.ytimg.com/vi/EXNvRul-4Tk/hqdefault.jpg', 'width': 480, 'height': 360}}, 'channelTitle': '슈카월드', 'liveBroadcastContent': 'none', 'publishTime': '2023-02-15T11:22:29Z'}}\n",
      "{'kind': 'youtube#searchResult', 'etag': 'rr8b0gNJPRPP0oMtvrk9k40bW2E', 'id': {'kind': 'youtube#video', 'videoId': 'IGB8czwm9-w'}, 'snippet': {'publishedAt': '2023-02-14T11:46:14Z', 'channelId': 'UCsJ6RuBiTVWRX156FVbeaGg', 'title': '치열한 암투와 복잡한 속사정, SM 인수대전', 'description': '0:00 ~ 5:49 발단 5:49 ~ 14:02 전개 14:02 ~ 24:55 위기, 절정 어렵고 딱딱한 경제,시사,금융 이야기를 쉽고 유쾌하게 풀어내는 경제/ ...', 'thumbnails': {'default': {'url': 'https://i.ytimg.com/vi/IGB8czwm9-w/default.jpg', 'width': 120, 'height': 90}, 'medium': {'url': 'https://i.ytimg.com/vi/IGB8czwm9-w/mqdefault.jpg', 'width': 320, 'height': 180}, 'high': {'url': 'https://i.ytimg.com/vi/IGB8czwm9-w/hqdefault.jpg', 'width': 480, 'height': 360}}, 'channelTitle': '슈카월드', 'liveBroadcastContent': 'none', 'publishTime': '2023-02-14T11:46:14Z'}}\n",
      "{'kind': 'youtube#searchResult', 'etag': 'XoTxYYuPaNtbvsf4RZyTXQ7E2tg', 'id': {'kind': 'youtube#video', 'videoId': 'pSwRhoVQM8Y'}, 'snippet': {'publishedAt': '2023-02-13T12:01:22Z', 'channelId': 'UCsJ6RuBiTVWRX156FVbeaGg', 'title': '필사의 구조작전, 기적이 필요한 튀르키예', 'description': '0:00 ~ 14:25 필사적 구조작업이 이루어지고 있는 튀르키예 14:25 ~ 19:04 가장 부유했던 나라의 수도를 폐허로 만든 충격적인 리스본 ...', 'thumbnails': {'default': {'url': 'https://i.ytimg.com/vi/pSwRhoVQM8Y/default.jpg', 'width': 120, 'height': 90}, 'medium': {'url': 'https://i.ytimg.com/vi/pSwRhoVQM8Y/mqdefault.jpg', 'width': 320, 'height': 180}, 'high': {'url': 'https://i.ytimg.com/vi/pSwRhoVQM8Y/hqdefault.jpg', 'width': 480, 'height': 360}}, 'channelTitle': '슈카월드', 'liveBroadcastContent': 'none', 'publishTime': '2023-02-13T12:01:22Z'}}\n",
      "{'kind': 'youtube#searchResult', 'etag': 'FGf9awtNKXJDYUWGfGjcqxzNpGY', 'id': {'kind': 'youtube#video', 'videoId': 'CCDsAC0-XQc'}, 'snippet': {'publishedAt': '2023-02-10T11:37:27Z', 'channelId': 'UCsJ6RuBiTVWRX156FVbeaGg', 'title': '브렉시트 후 3년, 휘청이는 대영제국', 'description': \"0:00 ~10:34 '영국병의 귀환' 10:34 ~ 14:28 브렉시트의 최대 수혜국 14:28 ~ 21:20 생계를 위해 고군분투해야 할 것 어렵고 딱딱한 ...\", 'thumbnails': {'default': {'url': 'https://i.ytimg.com/vi/CCDsAC0-XQc/default.jpg', 'width': 120, 'height': 90}, 'medium': {'url': 'https://i.ytimg.com/vi/CCDsAC0-XQc/mqdefault.jpg', 'width': 320, 'height': 180}, 'high': {'url': 'https://i.ytimg.com/vi/CCDsAC0-XQc/hqdefault.jpg', 'width': 480, 'height': 360}}, 'channelTitle': '슈카월드', 'liveBroadcastContent': 'none', 'publishTime': '2023-02-10T11:37:27Z'}}\n",
      "{'kind': 'youtube#searchResult', 'etag': 'Dp_KBDeaJuT5iQspOQ4hY7vAHOM', 'id': {'kind': 'youtube#video', 'videoId': 'sruC4aX-dZ0'}, 'snippet': {'publishedAt': '2023-02-09T11:29:01Z', 'channelId': 'UCsJ6RuBiTVWRX156FVbeaGg', 'title': '사치품 소비 세계 1위, 럭셔리계의 큰 손 대한민국', 'description': '0:00 ~ 8:07 사치품 세계 최대 큰 손 대한민국 8:07 ~ 18:47 남의 수입에 관심이 많은 나라 18:47 ~ 27:53 대한민국에서 외모가 갖는 ...', 'thumbnails': {'default': {'url': 'https://i.ytimg.com/vi/sruC4aX-dZ0/default.jpg', 'width': 120, 'height': 90}, 'medium': {'url': 'https://i.ytimg.com/vi/sruC4aX-dZ0/mqdefault.jpg', 'width': 320, 'height': 180}, 'high': {'url': 'https://i.ytimg.com/vi/sruC4aX-dZ0/hqdefault.jpg', 'width': 480, 'height': 360}}, 'channelTitle': '슈카월드', 'liveBroadcastContent': 'none', 'publishTime': '2023-02-09T11:29:01Z'}}\n",
      "{'kind': 'youtube#searchResult', 'etag': 'he5qyblqBHs4LYJNdK6kkb125ww', 'id': {'kind': 'youtube#video', 'videoId': 'z9NhFqGs4Yk'}, 'snippet': {'publishedAt': '2023-02-08T13:06:16Z', 'channelId': 'UCsJ6RuBiTVWRX156FVbeaGg', 'title': '무역수지 - 475억 달러, 사상 최대 적자', 'description': '0:00 ~ 7:13 축배를 드는 미국 주식시장 7:13 ~ 29:39 묘하게 일본을 따라가는 모습의 대한민국 29:39 ~ 34:34 누가 대한민국의 미래를 ...', 'thumbnails': {'default': {'url': 'https://i.ytimg.com/vi/z9NhFqGs4Yk/default.jpg', 'width': 120, 'height': 90}, 'medium': {'url': 'https://i.ytimg.com/vi/z9NhFqGs4Yk/mqdefault.jpg', 'width': 320, 'height': 180}, 'high': {'url': 'https://i.ytimg.com/vi/z9NhFqGs4Yk/hqdefault.jpg', 'width': 480, 'height': 360}}, 'channelTitle': '슈카월드', 'liveBroadcastContent': 'none', 'publishTime': '2023-02-08T13:06:16Z'}}\n",
      "{'kind': 'youtube#searchResult', 'etag': 'iOP_BG3RxmP3yr11Q6KfeZQgm84', 'id': {'kind': 'youtube#video', 'videoId': 'AXdwXeMQiL0'}, 'snippet': {'publishedAt': '2023-02-07T11:52:30Z', 'channelId': 'UCsJ6RuBiTVWRX156FVbeaGg', 'title': '미쳐버린 생활 물가, 큰 거 온다.', 'description': '0:00 ~ 5:19 미쳐버린 전기요금, 가스요금, 큰거 오나? 5:19 ~ 13:58 모든게 다 오르는 대한민국 13:58 ~ 15:56 늘어나는 퇴직 공무원 ...', 'thumbnails': {'default': {'url': 'https://i.ytimg.com/vi/AXdwXeMQiL0/default.jpg', 'width': 120, 'height': 90}, 'medium': {'url': 'https://i.ytimg.com/vi/AXdwXeMQiL0/mqdefault.jpg', 'width': 320, 'height': 180}, 'high': {'url': 'https://i.ytimg.com/vi/AXdwXeMQiL0/hqdefault.jpg', 'width': 480, 'height': 360}}, 'channelTitle': '슈카월드', 'liveBroadcastContent': 'none', 'publishTime': '2023-02-07T11:52:30Z'}}\n",
      "{'kind': 'youtube#searchResult', 'etag': '4923hkT3yduVH-0SfnugEpOqwBA', 'id': {'kind': 'youtube#video', 'videoId': '5hMsY35Qo1o'}, 'snippet': {'publishedAt': '2023-02-06T11:15:13Z', 'channelId': 'UCsJ6RuBiTVWRX156FVbeaGg', 'title': '전쟁으로 횡재한 나라 노르웨이', 'description': '0:00 ~ 16:36 전쟁으로 떼돈 벌었지만 전쟁 수혜국은 아닌 나라 16:36 ~ 22:19 박스를 치우고싶은 이야기 어렵고 딱딱한 경제,시사, ...', 'thumbnails': {'default': {'url': 'https://i.ytimg.com/vi/5hMsY35Qo1o/default.jpg', 'width': 120, 'height': 90}, 'medium': {'url': 'https://i.ytimg.com/vi/5hMsY35Qo1o/mqdefault.jpg', 'width': 320, 'height': 180}, 'high': {'url': 'https://i.ytimg.com/vi/5hMsY35Qo1o/hqdefault.jpg', 'width': 480, 'height': 360}}, 'channelTitle': '슈카월드', 'liveBroadcastContent': 'none', 'publishTime': '2023-02-06T11:15:13Z'}}\n",
      "{'kind': 'youtube#searchResult', 'etag': 'biWTVMZtxdbmUlk0BLxKhxdf4u8', 'id': {'kind': 'youtube#video', 'videoId': 'VLOEPFehehA'}, 'snippet': {'publishedAt': '2023-02-03T10:20:53Z', 'channelId': 'UCsJ6RuBiTVWRX156FVbeaGg', 'title': '※글로벌 리딩방※ 60% 보장해드리는 ☆★노리터★☆', 'description': '0:00 ~ 2:15 자신이 있다면 제도권으로 드루와 2:15 ~ 11:39 \"우리는 야망을 행동으로 바꾼다\" 11:39 ~ 20:55 월스트리트의 황제가 된 ...', 'thumbnails': {'default': {'url': 'https://i.ytimg.com/vi/VLOEPFehehA/default.jpg', 'width': 120, 'height': 90}, 'medium': {'url': 'https://i.ytimg.com/vi/VLOEPFehehA/mqdefault.jpg', 'width': 320, 'height': 180}, 'high': {'url': 'https://i.ytimg.com/vi/VLOEPFehehA/hqdefault.jpg', 'width': 480, 'height': 360}}, 'channelTitle': '슈카월드', 'liveBroadcastContent': 'none', 'publishTime': '2023-02-03T10:20:53Z'}}\n",
      "{'kind': 'youtube#searchResult', 'etag': 'JgAkNhfU_Nb3OTyRLFsKRJmCshs', 'id': {'kind': 'youtube#video', 'videoId': 'v9hpFhBr9Uw'}, 'snippet': {'publishedAt': '2023-02-02T13:36:55Z', 'channelId': 'UCsJ6RuBiTVWRX156FVbeaGg', 'title': '25년 된 슬램덩크 흥행과 대한민국 웹툰 시장', 'description': '0:00 ~ 6:23 언제적 슬램덩크가 지금 1위? 6:23 ~ 14:52 흥행 열풍에 대한 여러가지 분석들 14:52 ~ 23:11 대한민국 웹툰 화이팅 ...', 'thumbnails': {'default': {'url': 'https://i.ytimg.com/vi/v9hpFhBr9Uw/default.jpg', 'width': 120, 'height': 90}, 'medium': {'url': 'https://i.ytimg.com/vi/v9hpFhBr9Uw/mqdefault.jpg', 'width': 320, 'height': 180}, 'high': {'url': 'https://i.ytimg.com/vi/v9hpFhBr9Uw/hqdefault.jpg', 'width': 480, 'height': 360}}, 'channelTitle': '슈카월드', 'liveBroadcastContent': 'none', 'publishTime': '2023-02-02T13:36:55Z'}}\n",
      "{'kind': 'youtube#searchResult', 'etag': 'YvSDZT583aMFwb3flvrxuNPSNWQ', 'id': {'kind': 'youtube#video', 'videoId': 'UFAgxZ5DNvw'}, 'snippet': {'publishedAt': '2023-02-01T12:19:31Z', 'channelId': 'UCsJ6RuBiTVWRX156FVbeaGg', 'title': '경제 위기 아르헨티나, 지푸라기라도 잡는 심정', 'description': '0:00 ~ 7:02 브라질-아르헨티나, 달러 대체할 새 화폐 만들겠다? 7:02 ~ 15:34 9번의 IMF를 겪은 아르헨티나, 대체 무슨일이.. 15:34 ...', 'thumbnails': {'default': {'url': 'https://i.ytimg.com/vi/UFAgxZ5DNvw/default.jpg', 'width': 120, 'height': 90}, 'medium': {'url': 'https://i.ytimg.com/vi/UFAgxZ5DNvw/mqdefault.jpg', 'width': 320, 'height': 180}, 'high': {'url': 'https://i.ytimg.com/vi/UFAgxZ5DNvw/hqdefault.jpg', 'width': 480, 'height': 360}}, 'channelTitle': '슈카월드', 'liveBroadcastContent': 'none', 'publishTime': '2023-02-01T12:19:31Z'}}\n",
      "{'kind': 'youtube#searchResult', 'etag': 'y7whfHQ-iRybQMulLSEvhYgChd0', 'id': {'kind': 'youtube#video', 'videoId': 'i6oLlZ-zfNc'}, 'snippet': {'publishedAt': '2023-01-31T10:55:01Z', 'channelId': 'UCsJ6RuBiTVWRX156FVbeaGg', 'title': '독일, 최강탱크 &#39;레오파드2&#39; 우크라이나 보내겠다.', 'description': '0:00 ~ 3:02 전차군단이 간다 3:02 ~ 9:37 EU국가들의 독일 압박 9:37 ~ 15:38 미국도 가세한 지원 15:38 ~ 20:14 본토는 안된다 20:14 ...', 'thumbnails': {'default': {'url': 'https://i.ytimg.com/vi/i6oLlZ-zfNc/default.jpg', 'width': 120, 'height': 90}, 'medium': {'url': 'https://i.ytimg.com/vi/i6oLlZ-zfNc/mqdefault.jpg', 'width': 320, 'height': 180}, 'high': {'url': 'https://i.ytimg.com/vi/i6oLlZ-zfNc/hqdefault.jpg', 'width': 480, 'height': 360}}, 'channelTitle': '슈카월드', 'liveBroadcastContent': 'none', 'publishTime': '2023-01-31T10:55:01Z'}}\n",
      "{'kind': 'youtube#searchResult', 'etag': 'g2dc29UzWE8tsU3Dp1b0imP4n0M', 'id': {'kind': 'youtube#video', 'videoId': '7pm7p4WI3fs'}, 'snippet': {'publishedAt': '2023-01-30T11:18:05Z', 'channelId': 'UCsJ6RuBiTVWRX156FVbeaGg', 'title': '20년 래 최악의 실적, 역사적 붕괴를 겪고 있는 인텔', 'description': '0:00 ~ 10:59 충격적인 인텔의 실적, 역사적 붕괴인가 10:59 ~ 17:05 테슬라 서프라이즈, 비결은 바겐세일 17:05 ~ 26:32 갑자기 AI ...', 'thumbnails': {'default': {'url': 'https://i.ytimg.com/vi/7pm7p4WI3fs/default.jpg', 'width': 120, 'height': 90}, 'medium': {'url': 'https://i.ytimg.com/vi/7pm7p4WI3fs/mqdefault.jpg', 'width': 320, 'height': 180}, 'high': {'url': 'https://i.ytimg.com/vi/7pm7p4WI3fs/hqdefault.jpg', 'width': 480, 'height': 360}}, 'channelTitle': '슈카월드', 'liveBroadcastContent': 'none', 'publishTime': '2023-01-30T11:18:05Z'}}\n",
      "{'kind': 'youtube#searchResult', 'etag': 'CA0yF9guuvzC1peVOe_zI4q9ZL8', 'id': {'kind': 'youtube#video', 'videoId': '751pwfZ_0aI'}, 'snippet': {'publishedAt': '2023-01-27T12:02:37Z', 'channelId': 'UCsJ6RuBiTVWRX156FVbeaGg', 'title': '30년 묵은 난제, 유치원, 어린이집 통합 가능할까', 'description': '0:00 ~ 5:08 교육전문대학원 도입(안) 5:08 ~ 11:02 유치원+어린이집 통합 계획 11:02 ~ 19:06 늘봄학교 추진 어렵고 딱딱한 경제,시사 ...', 'thumbnails': {'default': {'url': 'https://i.ytimg.com/vi/751pwfZ_0aI/default.jpg', 'width': 120, 'height': 90}, 'medium': {'url': 'https://i.ytimg.com/vi/751pwfZ_0aI/mqdefault.jpg', 'width': 320, 'height': 180}, 'high': {'url': 'https://i.ytimg.com/vi/751pwfZ_0aI/hqdefault.jpg', 'width': 480, 'height': 360}}, 'channelTitle': '슈카월드', 'liveBroadcastContent': 'none', 'publishTime': '2023-01-27T12:02:37Z'}}\n",
      "{'kind': 'youtube#searchResult', 'etag': 'vSwThvifl--qv0VzN_aR61ip4pU', 'id': {'kind': 'youtube#video', 'videoId': 'UUqsXSrkl_g'}, 'snippet': {'publishedAt': '2023-01-26T11:19:31Z', 'channelId': 'UCsJ6RuBiTVWRX156FVbeaGg', 'title': '무제한 양적완화 종료, 앞에 선 일본 중앙은행', 'description': '0:00 ~ 9:23 연준과 비슷한 규모의 일본은행 자산규모 9:12 ~ 13:14 11년 연속 최대 예산안을 편성 중인 일본 13:14 ~ 23:25 일본, 묘안 ...', 'thumbnails': {'default': {'url': 'https://i.ytimg.com/vi/UUqsXSrkl_g/default.jpg', 'width': 120, 'height': 90}, 'medium': {'url': 'https://i.ytimg.com/vi/UUqsXSrkl_g/mqdefault.jpg', 'width': 320, 'height': 180}, 'high': {'url': 'https://i.ytimg.com/vi/UUqsXSrkl_g/hqdefault.jpg', 'width': 480, 'height': 360}}, 'channelTitle': '슈카월드', 'liveBroadcastContent': 'none', 'publishTime': '2023-01-26T11:19:31Z'}}\n",
      "{'kind': 'youtube#searchResult', 'etag': 'ZraMVF86Tgu8TDeV7ROHk5geNic', 'id': {'kind': 'youtube#video', 'videoId': 'pltJO57HeFU'}, 'snippet': {'publishedAt': '2023-01-25T10:10:04Z', 'channelId': 'UCsJ6RuBiTVWRX156FVbeaGg', 'title': '먹고 살기 비싼 나라 대한민국', 'description': '0:00 ~ 13:06 한우가 20% 싸졌다고? 어디가? 13:06 ~ 17:59 밀가루, 우유, 뭐 하나 안비싼게 없는 나라 17:59 ~ 22:40 과일까지.', 'thumbnails': {'default': {'url': 'https://i.ytimg.com/vi/pltJO57HeFU/default.jpg', 'width': 120, 'height': 90}, 'medium': {'url': 'https://i.ytimg.com/vi/pltJO57HeFU/mqdefault.jpg', 'width': 320, 'height': 180}, 'high': {'url': 'https://i.ytimg.com/vi/pltJO57HeFU/hqdefault.jpg', 'width': 480, 'height': 360}}, 'channelTitle': '슈카월드', 'liveBroadcastContent': 'none', 'publishTime': '2023-01-25T10:10:04Z'}}\n",
      "{'kind': 'youtube#searchResult', 'etag': '9QJuEgYzVGU_oPjowmWu8Ak55j0', 'id': {'kind': 'youtube#video', 'videoId': 'W2FRfMPuQ0U'}, 'snippet': {'publishedAt': '2023-01-24T09:42:50Z', 'channelId': 'UCsJ6RuBiTVWRX156FVbeaGg', 'title': '프랑스 불타오르는 연금 개혁 시위', 'description': '0:00 ~ 10:21 혁명의 나라, 미쳐버린 시위 스케일 10:21 ~ 16:01 마크롱의 연금 개혁 강행과 프랑스 국민의 격렬한 반대 어렵고 딱딱한 ...', 'thumbnails': {'default': {'url': 'https://i.ytimg.com/vi/W2FRfMPuQ0U/default.jpg', 'width': 120, 'height': 90}, 'medium': {'url': 'https://i.ytimg.com/vi/W2FRfMPuQ0U/mqdefault.jpg', 'width': 320, 'height': 180}, 'high': {'url': 'https://i.ytimg.com/vi/W2FRfMPuQ0U/hqdefault.jpg', 'width': 480, 'height': 360}}, 'channelTitle': '슈카월드', 'liveBroadcastContent': 'none', 'publishTime': '2023-01-24T09:42:50Z'}}\n",
      "{'kind': 'youtube#searchResult', 'etag': 'mB-qnm097WbzqzH88OOS5tMntZw', 'id': {'kind': 'youtube#video', 'videoId': '5IWvoKOLX4Y'}, 'snippet': {'publishedAt': '2023-01-24T03:28:30Z', 'channelId': 'UCsJ6RuBiTVWRX156FVbeaGg', 'title': '[연휴특집] 슈카월드 글로벌 이야기 모음', 'description': '명절 운전 특집 슈카월드 정주행 영상입니다. 새해 복 많이 받으세요!', 'thumbnails': {'default': {'url': 'https://i.ytimg.com/vi/5IWvoKOLX4Y/default.jpg', 'width': 120, 'height': 90}, 'medium': {'url': 'https://i.ytimg.com/vi/5IWvoKOLX4Y/mqdefault.jpg', 'width': 320, 'height': 180}, 'high': {'url': 'https://i.ytimg.com/vi/5IWvoKOLX4Y/hqdefault.jpg', 'width': 480, 'height': 360}}, 'channelTitle': '슈카월드', 'liveBroadcastContent': 'none', 'publishTime': '2023-01-24T03:28:30Z'}}\n",
      "{'kind': 'youtube#searchResult', 'etag': '05Vfu_qeFUlgxpzPV5OS0OumOWs', 'id': {'kind': 'youtube#video', 'videoId': 'U2CNkg0Xzgs'}, 'snippet': {'publishedAt': '2023-01-23T10:42:33Z', 'channelId': 'UCsJ6RuBiTVWRX156FVbeaGg', 'title': '손익분기점 2조원, 아바타2 - 돈의길', 'description': '0:00 ~ 8:31 제임스 카메론 vs 스티븐 스필버그 누가 최고인가? 8:31 ~ 17:15 일본은 외면한 아바타2 17:15 ~ 26:19 고래 이야기 ...', 'thumbnails': {'default': {'url': 'https://i.ytimg.com/vi/U2CNkg0Xzgs/default.jpg', 'width': 120, 'height': 90}, 'medium': {'url': 'https://i.ytimg.com/vi/U2CNkg0Xzgs/mqdefault.jpg', 'width': 320, 'height': 180}, 'high': {'url': 'https://i.ytimg.com/vi/U2CNkg0Xzgs/hqdefault.jpg', 'width': 480, 'height': 360}}, 'channelTitle': '슈카월드', 'liveBroadcastContent': 'none', 'publishTime': '2023-01-23T10:42:33Z'}}\n",
      "{'kind': 'youtube#searchResult', 'etag': 'tkhdPGufOk0Q4kfcHdw-etnbJc0', 'id': {'kind': 'youtube#video', 'videoId': 'Iex5buEpLQo'}, 'snippet': {'publishedAt': '2023-01-22T05:54:05Z', 'channelId': 'UCsJ6RuBiTVWRX156FVbeaGg', 'title': '[연휴특집] 슈카월드 사회이슈 모아보기', 'description': '명절 운전 특집 슈카월드 정주행 영상입니다. 새해 복 많이 받으세요!', 'thumbnails': {'default': {'url': 'https://i.ytimg.com/vi/Iex5buEpLQo/default.jpg', 'width': 120, 'height': 90}, 'medium': {'url': 'https://i.ytimg.com/vi/Iex5buEpLQo/mqdefault.jpg', 'width': 320, 'height': 180}, 'high': {'url': 'https://i.ytimg.com/vi/Iex5buEpLQo/hqdefault.jpg', 'width': 480, 'height': 360}}, 'channelTitle': '슈카월드', 'liveBroadcastContent': 'none', 'publishTime': '2023-01-22T05:54:05Z'}}\n",
      "{'kind': 'youtube#searchResult', 'etag': 'OKaGlD2iSLNUDzO61X3wgLrUH_E', 'id': {'kind': 'youtube#video', 'videoId': 'k62TKitoVIs'}, 'snippet': {'publishedAt': '2023-01-21T09:54:41Z', 'channelId': 'UCsJ6RuBiTVWRX156FVbeaGg', 'title': '최대 정치 이슈에 흔들리는 일본', 'description': '0:00 ~ 5:45 일본을 뒤흔든 이슈 5:45 ~ 14:39 알고보니 역사와 전통 14:39 ~ 21:21 한중일 경제 공동체 떡밥 어렵고 딱딱한 경제,시사, ...', 'thumbnails': {'default': {'url': 'https://i.ytimg.com/vi/k62TKitoVIs/default.jpg', 'width': 120, 'height': 90}, 'medium': {'url': 'https://i.ytimg.com/vi/k62TKitoVIs/mqdefault.jpg', 'width': 320, 'height': 180}, 'high': {'url': 'https://i.ytimg.com/vi/k62TKitoVIs/hqdefault.jpg', 'width': 480, 'height': 360}}, 'channelTitle': '슈카월드', 'liveBroadcastContent': 'none', 'publishTime': '2023-01-21T09:54:41Z'}}\n",
      "{'kind': 'youtube#searchResult', 'etag': 'RuA1Sx5jld7aZiXWFzB4QUEQ-nE', 'id': {'kind': 'youtube#video', 'videoId': 'K3Y7H5XwW24'}, 'snippet': {'publishedAt': '2023-01-20T10:26:07Z', 'channelId': 'UCsJ6RuBiTVWRX156FVbeaGg', 'title': '현대판 영국 런던의 대영주, 25세 웨스트민스터 공작', 'description': '0:00 ~ 6:02 영국에서 가장 부유한 부동산 개발업자(?) 6:02 ~ 18:46 살아있는 현대판 대영주의 삶 어렵고 딱딱한 경제,시사,금융 ...', 'thumbnails': {'default': {'url': 'https://i.ytimg.com/vi/K3Y7H5XwW24/default.jpg', 'width': 120, 'height': 90}, 'medium': {'url': 'https://i.ytimg.com/vi/K3Y7H5XwW24/mqdefault.jpg', 'width': 320, 'height': 180}, 'high': {'url': 'https://i.ytimg.com/vi/K3Y7H5XwW24/hqdefault.jpg', 'width': 480, 'height': 360}}, 'channelTitle': '슈카월드', 'liveBroadcastContent': 'none', 'publishTime': '2023-01-20T10:26:07Z'}}\n",
      "{'kind': 'youtube#searchResult', 'etag': 'f6bqocEjbdxPY4RdyjZG9h-DARM', 'id': {'kind': 'youtube#video', 'videoId': 'nw8gQ5C2MtU'}, 'snippet': {'publishedAt': '2023-01-19T10:17:33Z', 'channelId': 'UCsJ6RuBiTVWRX156FVbeaGg', 'title': '&#39;대통령 선거가 조작됐다.&#39; 브라질 대선 불복 폭동', 'description': '0:00 ~ 6:57 브라질 초유의 대선 불복 strike 6:57 ~ 19:24 선거 주작에 대한 강한 믿음 19:24 ~ 23:35 데칼코마니같은 트럼프와 보우소 ...', 'thumbnails': {'default': {'url': 'https://i.ytimg.com/vi/nw8gQ5C2MtU/default.jpg', 'width': 120, 'height': 90}, 'medium': {'url': 'https://i.ytimg.com/vi/nw8gQ5C2MtU/mqdefault.jpg', 'width': 320, 'height': 180}, 'high': {'url': 'https://i.ytimg.com/vi/nw8gQ5C2MtU/hqdefault.jpg', 'width': 480, 'height': 360}}, 'channelTitle': '슈카월드', 'liveBroadcastContent': 'none', 'publishTime': '2023-01-19T10:17:33Z'}}\n",
      "{'kind': 'youtube#searchResult', 'etag': 'lwNoErlPIMQriCb8_-oXKObJE8E', 'id': {'kind': 'youtube#video', 'videoId': 'GjWMRuYcdgc'}, 'snippet': {'publishedAt': '2023-01-18T13:13:25Z', 'channelId': 'UCsJ6RuBiTVWRX156FVbeaGg', 'title': '코리아 디스카운트, 내 주식 왜 이 모양인가', 'description': '0:00 ~ 18:32 코리아 디스카운트란? 18:32 ~ 22:25 어른이 되기 위해 한 번 쯤 사봐야 하는 섹터 어렵고 딱딱한 경제,시사,금융 이야기 ...', 'thumbnails': {'default': {'url': 'https://i.ytimg.com/vi/GjWMRuYcdgc/default.jpg', 'width': 120, 'height': 90}, 'medium': {'url': 'https://i.ytimg.com/vi/GjWMRuYcdgc/mqdefault.jpg', 'width': 320, 'height': 180}, 'high': {'url': 'https://i.ytimg.com/vi/GjWMRuYcdgc/hqdefault.jpg', 'width': 480, 'height': 360}}, 'channelTitle': '슈카월드', 'liveBroadcastContent': 'none', 'publishTime': '2023-01-18T13:13:25Z'}}\n",
      "{'kind': 'youtube#searchResult', 'etag': 'lU5KZ3nNe1Ldj2QumC5e2VQP2qc', 'id': {'kind': 'youtube#video', 'videoId': 'gJiK5qcqBAY'}, 'snippet': {'publishedAt': '2023-01-17T10:47:20Z', 'channelId': 'UCsJ6RuBiTVWRX156FVbeaGg', 'title': '사상 첫 7연속 기준금리 인상, 다 온건가?', 'description': '0:00 ~ 8:41 7연속 기준금리 인상, 3.5% 8:41 ~ 12:34 가파르게 내려오는 원달러 환율 12:34 ~ 13:58 대 중국 무역 적자와 고난을 앞둔 ...', 'thumbnails': {'default': {'url': 'https://i.ytimg.com/vi/gJiK5qcqBAY/default.jpg', 'width': 120, 'height': 90}, 'medium': {'url': 'https://i.ytimg.com/vi/gJiK5qcqBAY/mqdefault.jpg', 'width': 320, 'height': 180}, 'high': {'url': 'https://i.ytimg.com/vi/gJiK5qcqBAY/hqdefault.jpg', 'width': 480, 'height': 360}}, 'channelTitle': '슈카월드', 'liveBroadcastContent': 'none', 'publishTime': '2023-01-17T10:47:20Z'}}\n",
      "{'kind': 'youtube#searchResult', 'etag': 'usGNB1rveZehlkHhQ6B4maO7W-g', 'id': {'kind': 'youtube#video', 'videoId': 'Jt8_CL9ko3U'}, 'snippet': {'publishedAt': '2023-01-16T10:19:07Z', 'channelId': 'UCsJ6RuBiTVWRX156FVbeaGg', 'title': '부동산 규제 완화, 둔촌 주공에 쏠린 시선', 'description': '0:00 ~ 14:35 1.3 부동산 대책 발표와 불충한 생각 14:35 ~ 18:21 ??? : 나는 따라가겠다 어렵고 딱딱한 경제,시사,금융 이야기를 쉽고 ...', 'thumbnails': {'default': {'url': 'https://i.ytimg.com/vi/Jt8_CL9ko3U/default.jpg', 'width': 120, 'height': 90}, 'medium': {'url': 'https://i.ytimg.com/vi/Jt8_CL9ko3U/mqdefault.jpg', 'width': 320, 'height': 180}, 'high': {'url': 'https://i.ytimg.com/vi/Jt8_CL9ko3U/hqdefault.jpg', 'width': 480, 'height': 360}}, 'channelTitle': '슈카월드', 'liveBroadcastContent': 'none', 'publishTime': '2023-01-16T10:19:07Z'}}\n",
      "{'kind': 'youtube#searchResult', 'etag': 'QZaBTBPT9msQbmXFLtbR7KWxmjU', 'id': {'kind': 'youtube#video', 'videoId': '4HBvCOrbkYY'}, 'snippet': {'publishedAt': '2023-01-14T11:01:20Z', 'channelId': 'UCsJ6RuBiTVWRX156FVbeaGg', 'title': '2배 이상? 국민연금 보험료 인상폭 얼마나 될까', 'description': '어렵고 딱딱한 경제,시사,금융 이야기를 쉽고 유쾌하게 풀어내는 경제/시사/이슈/잡썰 토크방송입니다. #국민연금.', 'thumbnails': {'default': {'url': 'https://i.ytimg.com/vi/4HBvCOrbkYY/default.jpg', 'width': 120, 'height': 90}, 'medium': {'url': 'https://i.ytimg.com/vi/4HBvCOrbkYY/mqdefault.jpg', 'width': 320, 'height': 180}, 'high': {'url': 'https://i.ytimg.com/vi/4HBvCOrbkYY/hqdefault.jpg', 'width': 480, 'height': 360}}, 'channelTitle': '슈카월드', 'liveBroadcastContent': 'none', 'publishTime': '2023-01-14T11:01:20Z'}}\n",
      "{'kind': 'youtube#searchResult', 'etag': 'WWvrMx1QLr1usr7LKhRt0nIgcFo', 'id': {'kind': 'youtube#video', 'videoId': 'VwyhmHFS31s'}, 'snippet': {'publishedAt': '2023-01-13T09:59:56Z', 'channelId': 'UCsJ6RuBiTVWRX156FVbeaGg', 'title': '세계 최대 박람회 CES 2023, SK와 함께 리뷰하기 [유료광고 포함]', 'description': '어렵고 딱딱한 경제,시사,금융 이야기를 쉽고 유쾌하게 풀어내는 경제/시사/이슈/잡썰 토크방송입니다. #CES2023.', 'thumbnails': {'default': {'url': 'https://i.ytimg.com/vi/VwyhmHFS31s/default.jpg', 'width': 120, 'height': 90}, 'medium': {'url': 'https://i.ytimg.com/vi/VwyhmHFS31s/mqdefault.jpg', 'width': 320, 'height': 180}, 'high': {'url': 'https://i.ytimg.com/vi/VwyhmHFS31s/hqdefault.jpg', 'width': 480, 'height': 360}}, 'channelTitle': '슈카월드', 'liveBroadcastContent': 'none', 'publishTime': '2023-01-13T09:59:56Z'}}\n",
      "{'kind': 'youtube#searchResult', 'etag': 'jvsADhENu8PSFxTbRYp9YnywQrk', 'id': {'kind': 'youtube#video', 'videoId': 'mEGbgTHL4Es'}, 'snippet': {'publishedAt': '2023-01-12T14:10:32Z', 'channelId': 'UCsJ6RuBiTVWRX156FVbeaGg', 'title': '본격 군비경쟁의 시대', 'description': '0:00 ~ 9:41 스웩 넘치는 북힙 마스터 9:41 ~ 19:11 본격 군비 경쟁이 치열해지는 시대 19:11 ~ 24:17 아픈 추억 어렵고 딱딱한 경제, ...', 'thumbnails': {'default': {'url': 'https://i.ytimg.com/vi/mEGbgTHL4Es/default.jpg', 'width': 120, 'height': 90}, 'medium': {'url': 'https://i.ytimg.com/vi/mEGbgTHL4Es/mqdefault.jpg', 'width': 320, 'height': 180}, 'high': {'url': 'https://i.ytimg.com/vi/mEGbgTHL4Es/hqdefault.jpg', 'width': 480, 'height': 360}}, 'channelTitle': '슈카월드', 'liveBroadcastContent': 'none', 'publishTime': '2023-01-12T14:10:32Z'}}\n",
      "{'kind': 'youtube#searchResult', 'etag': '0U4MGExmQ7eOSGxslPTpXKbZ6lo', 'id': {'kind': 'youtube#video', 'videoId': 'Fni91yltVhc'}, 'snippet': {'publishedAt': '2023-01-11T11:59:43Z', 'channelId': 'UCsJ6RuBiTVWRX156FVbeaGg', 'title': '결혼 축의금 5만원, 민폐?', 'description': '0:00 ~ 9:25 쿨타임 돌았다. 출산률 근황 9:25 ~ 11:22 신혼부부 통계 11:22 ~ 28:16 결혼식 비용 (집 빼고) 5천만 원 시대? 어렵고 ...', 'thumbnails': {'default': {'url': 'https://i.ytimg.com/vi/Fni91yltVhc/default.jpg', 'width': 120, 'height': 90}, 'medium': {'url': 'https://i.ytimg.com/vi/Fni91yltVhc/mqdefault.jpg', 'width': 320, 'height': 180}, 'high': {'url': 'https://i.ytimg.com/vi/Fni91yltVhc/hqdefault.jpg', 'width': 480, 'height': 360}}, 'channelTitle': '슈카월드', 'liveBroadcastContent': 'none', 'publishTime': '2023-01-11T11:59:43Z'}}\n",
      "{'kind': 'youtube#searchResult', 'etag': '8cqZ5lI6dC_yGD3Gi_86WRgBg4c', 'id': {'kind': 'youtube#video', 'videoId': '30dFsJEvVxg'}, 'snippet': {'publishedAt': '2023-01-10T13:31:06Z', 'channelId': 'UCsJ6RuBiTVWRX156FVbeaGg', 'title': '야단법석 미국 하원의장 선거', 'description': '0:00 ~ 8:37 100년 만의 미국 하원의장 선출 실패, 그리고 재투표 8:37 ~ 16:50 다사다난한 미 하원과 민주당의 팝콘각 16:50 ~ 22:15 ...', 'thumbnails': {'default': {'url': 'https://i.ytimg.com/vi/30dFsJEvVxg/default.jpg', 'width': 120, 'height': 90}, 'medium': {'url': 'https://i.ytimg.com/vi/30dFsJEvVxg/mqdefault.jpg', 'width': 320, 'height': 180}, 'high': {'url': 'https://i.ytimg.com/vi/30dFsJEvVxg/hqdefault.jpg', 'width': 480, 'height': 360}}, 'channelTitle': '슈카월드', 'liveBroadcastContent': 'none', 'publishTime': '2023-01-10T13:31:06Z'}}\n",
      "{'kind': 'youtube#searchResult', 'etag': 'Ksr7GIbMsMsLmUCLjFQzq1VTqKs', 'id': {'kind': 'youtube#video', 'videoId': 'gdkC-YnrMIA'}, 'snippet': {'publishedAt': '2023-01-09T14:40:07Z', 'channelId': 'UCsJ6RuBiTVWRX156FVbeaGg', 'title': '지구 온난화 최대 피해자, 푸틴', 'description': '0:00 ~ 2:04 러시아 우크라이나의 현재 2:04 ~ 10:35 살벌했던 경고에 비해 머쓱해진 푸틴 어렵고 딱딱한 경제,시사,금융 이야기를 ...', 'thumbnails': {'default': {'url': 'https://i.ytimg.com/vi/gdkC-YnrMIA/default.jpg', 'width': 120, 'height': 90}, 'medium': {'url': 'https://i.ytimg.com/vi/gdkC-YnrMIA/mqdefault.jpg', 'width': 320, 'height': 180}, 'high': {'url': 'https://i.ytimg.com/vi/gdkC-YnrMIA/hqdefault.jpg', 'width': 480, 'height': 360}}, 'channelTitle': '슈카월드', 'liveBroadcastContent': 'none', 'publishTime': '2023-01-09T14:40:07Z'}}\n",
      "{'kind': 'youtube#searchResult', 'etag': '1qsEZf1qemmYbj-LFC-cYIiboC4', 'id': {'kind': 'youtube#video', 'videoId': 'JMHo0CHbjXI'}, 'snippet': {'publishedAt': '2023-01-06T12:04:31Z', 'channelId': 'UCsJ6RuBiTVWRX156FVbeaGg', 'title': '평균 퇴직 연령 49세', 'description': '0:00 ~ 9:59 평균수명 90세로 증가, 50세 퇴직은 왜 그대로? 9:59 ~ 19:09 퇴직과 은퇴는 다르다 어렵고 딱딱한 경제,시사,금융 이야기 ...', 'thumbnails': {'default': {'url': 'https://i.ytimg.com/vi/JMHo0CHbjXI/default.jpg', 'width': 120, 'height': 90}, 'medium': {'url': 'https://i.ytimg.com/vi/JMHo0CHbjXI/mqdefault.jpg', 'width': 320, 'height': 180}, 'high': {'url': 'https://i.ytimg.com/vi/JMHo0CHbjXI/hqdefault.jpg', 'width': 480, 'height': 360}}, 'channelTitle': '슈카월드', 'liveBroadcastContent': 'none', 'publishTime': '2023-01-06T12:04:31Z'}}\n",
      "{'kind': 'youtube#searchResult', 'etag': 'aNIi7f84vVA5Tlm0_phLSo11YQ0', 'id': {'kind': 'youtube#video', 'videoId': '9fI-1Bz9RzM'}, 'snippet': {'publishedAt': '2023-01-05T10:51:45Z', 'channelId': 'UCsJ6RuBiTVWRX156FVbeaGg', 'title': '저물어가는 미국 베이비부머 시대와 부의 이전', 'description': '0:00 ~ 10:19 9경원, 미국 역사상 최대 부의 이전이 온다. 10:19 ~ 19:11 미국에서 불고 있는 부의 전달의 역할에 대한 논쟁 어렵고 ...', 'thumbnails': {'default': {'url': 'https://i.ytimg.com/vi/9fI-1Bz9RzM/default.jpg', 'width': 120, 'height': 90}, 'medium': {'url': 'https://i.ytimg.com/vi/9fI-1Bz9RzM/mqdefault.jpg', 'width': 320, 'height': 180}, 'high': {'url': 'https://i.ytimg.com/vi/9fI-1Bz9RzM/hqdefault.jpg', 'width': 480, 'height': 360}}, 'channelTitle': '슈카월드', 'liveBroadcastContent': 'none', 'publishTime': '2023-01-05T10:51:45Z'}}\n",
      "{'kind': 'youtube#searchResult', 'etag': 'Ie5Dk-K99PWl36lZZIgSfOYMKB0', 'id': {'kind': 'youtube#video', 'videoId': 'znN_cCzm-z8'}, 'snippet': {'publishedAt': '2023-01-04T11:19:17Z', 'channelId': 'UCsJ6RuBiTVWRX156FVbeaGg', 'title': '몽골, 희대의 석탄 스캔들', 'description': '0:00 ~ 3:50 영하 21도의 추위에도 일어난 몽골 시민들 3:50 ~ 16:34 극한의 환경 조건, 몽골 16:34 ~ 23:48 시민들이 일어났으니, 축제 ...', 'thumbnails': {'default': {'url': 'https://i.ytimg.com/vi/znN_cCzm-z8/default.jpg', 'width': 120, 'height': 90}, 'medium': {'url': 'https://i.ytimg.com/vi/znN_cCzm-z8/mqdefault.jpg', 'width': 320, 'height': 180}, 'high': {'url': 'https://i.ytimg.com/vi/znN_cCzm-z8/hqdefault.jpg', 'width': 480, 'height': 360}}, 'channelTitle': '슈카월드', 'liveBroadcastContent': 'none', 'publishTime': '2023-01-04T11:19:17Z'}}\n",
      "{'kind': 'youtube#searchResult', 'etag': 'q_19ax7FrBiX63TOP6uQucow0AA', 'id': {'kind': 'youtube#video', 'videoId': 'Ku-I7KVmqdw'}, 'snippet': {'publishedAt': '2023-01-03T11:11:16Z', 'channelId': 'UCsJ6RuBiTVWRX156FVbeaGg', 'title': '5일만에 가입자 100만명을 찍은 AI챗봇', 'description': '0:00 ~ 5:22 ??? : 구글은 끝났다. 5:22 ~ 12:34 그래서 실제로 한번 써본 소감 12:34 ~ 22:12 매우 빠른 속도로 발전하는 챗봇AI 22:12 ...', 'thumbnails': {'default': {'url': 'https://i.ytimg.com/vi/Ku-I7KVmqdw/default.jpg', 'width': 120, 'height': 90}, 'medium': {'url': 'https://i.ytimg.com/vi/Ku-I7KVmqdw/mqdefault.jpg', 'width': 320, 'height': 180}, 'high': {'url': 'https://i.ytimg.com/vi/Ku-I7KVmqdw/hqdefault.jpg', 'width': 480, 'height': 360}}, 'channelTitle': '슈카월드', 'liveBroadcastContent': 'none', 'publishTime': '2023-01-03T11:11:16Z'}}\n",
      "{'kind': 'youtube#searchResult', 'etag': 'fgLScCZFPDIYG3yYOnTXXulNui8', 'id': {'kind': 'youtube#video', 'videoId': 'Ffw4Q7Gq7OY'}, 'snippet': {'publishedAt': '2023-01-02T14:11:28Z', 'channelId': 'UCsJ6RuBiTVWRX156FVbeaGg', 'title': '테슬라 쇼크, 광대가 돼버린 주식', 'description': '0:00 ~ 6:59 이게 주식이냐, 테슬라 쇼크 -73% 6:59 ~ 23:25 테슬라 3대 주주 (였던) 어떤 머스크 팬의 일갈 23:25 ~ 41:45 잡스와 비견 ...', 'thumbnails': {'default': {'url': 'https://i.ytimg.com/vi/Ffw4Q7Gq7OY/default.jpg', 'width': 120, 'height': 90}, 'medium': {'url': 'https://i.ytimg.com/vi/Ffw4Q7Gq7OY/mqdefault.jpg', 'width': 320, 'height': 180}, 'high': {'url': 'https://i.ytimg.com/vi/Ffw4Q7Gq7OY/hqdefault.jpg', 'width': 480, 'height': 360}}, 'channelTitle': '슈카월드', 'liveBroadcastContent': 'none', 'publishTime': '2023-01-02T14:11:28Z'}}\n",
      "{'kind': 'youtube#searchResult', 'etag': 'JIG_Jmps92l2U1VkLvpc8mvDfpI', 'id': {'kind': 'youtube#video', 'videoId': 'LpEvHYf7yi8'}, 'snippet': {'publishedAt': '2022-12-30T13:02:51Z', 'channelId': 'UCsJ6RuBiTVWRX156FVbeaGg', 'title': '40년간 이어지고 있는 실전 &#39;보물찾기&#39;', 'description': '0:00 ~ 18:29 1982년에 시작된 12개의 \\'실제\\' 보물찾기 18:29 ~ 31:30 아직도 9개가 묻혀있는 \"The Secret - A Treasure Hunt\" 어렵고 ...', 'thumbnails': {'default': {'url': 'https://i.ytimg.com/vi/LpEvHYf7yi8/default.jpg', 'width': 120, 'height': 90}, 'medium': {'url': 'https://i.ytimg.com/vi/LpEvHYf7yi8/mqdefault.jpg', 'width': 320, 'height': 180}, 'high': {'url': 'https://i.ytimg.com/vi/LpEvHYf7yi8/hqdefault.jpg', 'width': 480, 'height': 360}}, 'channelTitle': '슈카월드', 'liveBroadcastContent': 'none', 'publishTime': '2022-12-30T13:02:51Z'}}\n",
      "{'kind': 'youtube#searchResult', 'etag': 'GrgY-qxprFvGGhfmKmT_aO7LgiA', 'id': {'kind': 'youtube#video', 'videoId': 'h87ykyULWRY'}, 'snippet': {'publishedAt': '2022-12-29T11:44:00Z', 'channelId': 'UCsJ6RuBiTVWRX156FVbeaGg', 'title': '주 52시간 개편, 근무시간 줄어들 수 있을까', 'description': '0:00 ~ 4:53 2023년 경제정책방향 발표 4:53 ~ 16:26 주 52시간 및 임금체계 개편 16:26 ~ 21:50 한국은행 금융안정보고서 21:50 ...', 'thumbnails': {'default': {'url': 'https://i.ytimg.com/vi/h87ykyULWRY/default.jpg', 'width': 120, 'height': 90}, 'medium': {'url': 'https://i.ytimg.com/vi/h87ykyULWRY/mqdefault.jpg', 'width': 320, 'height': 180}, 'high': {'url': 'https://i.ytimg.com/vi/h87ykyULWRY/hqdefault.jpg', 'width': 480, 'height': 360}}, 'channelTitle': '슈카월드', 'liveBroadcastContent': 'none', 'publishTime': '2022-12-29T11:44:00Z'}}\n"
     ]
    },
    {
     "name": "stdout",
     "output_type": "stream",
     "text": [
      "{'kind': 'youtube#searchResult', 'etag': 'BqXzYCC4z-BLdMD3Vyvffvujbfw', 'id': {'kind': 'youtube#video', 'videoId': 'gL3RB7_d7pI'}, 'snippet': {'publishedAt': '2022-12-28T12:03:57Z', 'channelId': 'UCsJ6RuBiTVWRX156FVbeaGg', 'title': 'AI가 인간을 능가하면 벌어지는 일들', 'description': '0:00 ~ 9:39 바둑계를 뒤집어놓은 AI 치팅 논란 9:39 ~ 12:37 가장 전통적인(?) AI 치팅 방법 12:37 ~ 23:04 체스계도 뒤집어놓은 AI ...', 'thumbnails': {'default': {'url': 'https://i.ytimg.com/vi/gL3RB7_d7pI/default.jpg', 'width': 120, 'height': 90}, 'medium': {'url': 'https://i.ytimg.com/vi/gL3RB7_d7pI/mqdefault.jpg', 'width': 320, 'height': 180}, 'high': {'url': 'https://i.ytimg.com/vi/gL3RB7_d7pI/hqdefault.jpg', 'width': 480, 'height': 360}}, 'channelTitle': '슈카월드', 'liveBroadcastContent': 'none', 'publishTime': '2022-12-28T12:03:57Z'}}\n",
      "{'kind': 'youtube#searchResult', 'etag': '-Lb4WcJ2f5S_f2-695vchSNi1dI', 'id': {'kind': 'youtube#video', 'videoId': 'EfADpXTghUw'}, 'snippet': {'publishedAt': '2022-12-27T10:06:20Z', 'channelId': 'UCsJ6RuBiTVWRX156FVbeaGg', 'title': '40년 만의 가장 추운 겨울이 왔다.', 'description': '0:00 ~ 1:49 서울 -13도 강추위 1:49 ~ 3:27 일본 2m 넘는 폭설 3:27 ~ 11:14 미국에 떨어진 폭탄 싸이클론 11:14 ~ 14:47 이것은 우리 ...', 'thumbnails': {'default': {'url': 'https://i.ytimg.com/vi/EfADpXTghUw/default.jpg', 'width': 120, 'height': 90}, 'medium': {'url': 'https://i.ytimg.com/vi/EfADpXTghUw/mqdefault.jpg', 'width': 320, 'height': 180}, 'high': {'url': 'https://i.ytimg.com/vi/EfADpXTghUw/hqdefault.jpg', 'width': 480, 'height': 360}}, 'channelTitle': '슈카월드', 'liveBroadcastContent': 'none', 'publishTime': '2022-12-27T10:06:20Z'}}\n",
      "{'kind': 'youtube#searchResult', 'etag': 'DWh3RfwZwrDCk_ggOMQX1XOEgBw', 'id': {'kind': 'youtube#video', 'videoId': 'bcKRJvo6TWM'}, 'snippet': {'publishedAt': '2022-12-26T11:22:58Z', 'channelId': 'UCsJ6RuBiTVWRX156FVbeaGg', 'title': '코로나 대폭발을 눈 앞에 둔 중국', 'description': '0:00 ~ 6:50 사실상 제로 코로나 정책을 포기한 중국 6:50 ~ 16:54 가장 위험한 \"춘절\" 주에 접어드는 중국 팬데믹 16:54 ~ 19:31 ...', 'thumbnails': {'default': {'url': 'https://i.ytimg.com/vi/bcKRJvo6TWM/default.jpg', 'width': 120, 'height': 90}, 'medium': {'url': 'https://i.ytimg.com/vi/bcKRJvo6TWM/mqdefault.jpg', 'width': 320, 'height': 180}, 'high': {'url': 'https://i.ytimg.com/vi/bcKRJvo6TWM/hqdefault.jpg', 'width': 480, 'height': 360}}, 'channelTitle': '슈카월드', 'liveBroadcastContent': 'none', 'publishTime': '2022-12-26T11:22:58Z'}}\n",
      "{'kind': 'youtube#searchResult', 'etag': 'fn-2EDS8w8EA1ziJ3YSugSr223I', 'id': {'kind': 'youtube#video', 'videoId': 'NWW3KEnVfp8'}, 'snippet': {'publishedAt': '2022-12-24T11:00:56Z', 'channelId': 'UCsJ6RuBiTVWRX156FVbeaGg', 'title': '6년간 대통령 6번 바뀐 페루의 비극', 'description': '어렵고 딱딱한 경제,시사,금융 이야기를 쉽고 유쾌하게 풀어내는 경제/시사/이슈/잡썰 토크방송입니다. #페루 #쿠데타.', 'thumbnails': {'default': {'url': 'https://i.ytimg.com/vi/NWW3KEnVfp8/default.jpg', 'width': 120, 'height': 90}, 'medium': {'url': 'https://i.ytimg.com/vi/NWW3KEnVfp8/mqdefault.jpg', 'width': 320, 'height': 180}, 'high': {'url': 'https://i.ytimg.com/vi/NWW3KEnVfp8/hqdefault.jpg', 'width': 480, 'height': 360}}, 'channelTitle': '슈카월드', 'liveBroadcastContent': 'none', 'publishTime': '2022-12-24T11:00:56Z'}}\n",
      "{'kind': 'youtube#searchResult', 'etag': 'xcDSXHNMxYwswkYrVFdMztiFcRs', 'id': {'kind': 'youtube#video', 'videoId': '60Hk1C1Ibh8'}, 'snippet': {'publishedAt': '2022-12-23T11:57:06Z', 'channelId': 'UCsJ6RuBiTVWRX156FVbeaGg', 'title': '인류는 무한한 에너지를 얻을 수 있을까', 'description': '0:00 ~ 9:26 핵분열X 핵융합O 순에너지 획득 성공 9:26 ~ 21:38 사상 최초 핵융합 발전, 어케했지? 21:38 ~ 28:20 인류는 에너지 ...', 'thumbnails': {'default': {'url': 'https://i.ytimg.com/vi/60Hk1C1Ibh8/default.jpg', 'width': 120, 'height': 90}, 'medium': {'url': 'https://i.ytimg.com/vi/60Hk1C1Ibh8/mqdefault.jpg', 'width': 320, 'height': 180}, 'high': {'url': 'https://i.ytimg.com/vi/60Hk1C1Ibh8/hqdefault.jpg', 'width': 480, 'height': 360}}, 'channelTitle': '슈카월드', 'liveBroadcastContent': 'none', 'publishTime': '2022-12-23T11:57:06Z'}}\n",
      "{'kind': 'youtube#searchResult', 'etag': 'E0-m6qKzW-BOuMaq6vsXqmqcKj8', 'id': {'kind': 'youtube#video', 'videoId': 'L0UUNzoLCeA'}, 'snippet': {'publishedAt': '2022-12-22T11:27:11Z', 'channelId': 'UCsJ6RuBiTVWRX156FVbeaGg', 'title': '&quot;미국 역사상 최대 금융 사기 중 하나&quot;', 'description': '0:00 ~ 8:36 천재의 몰락인가? FTX 파산 8:36 ~ 15:47 이것은 전형적인 사기이다. 15:47 ~ 22:26 바이낸스만큼은 안된다.. 어렵고 ...', 'thumbnails': {'default': {'url': 'https://i.ytimg.com/vi/L0UUNzoLCeA/default.jpg', 'width': 120, 'height': 90}, 'medium': {'url': 'https://i.ytimg.com/vi/L0UUNzoLCeA/mqdefault.jpg', 'width': 320, 'height': 180}, 'high': {'url': 'https://i.ytimg.com/vi/L0UUNzoLCeA/hqdefault.jpg', 'width': 480, 'height': 360}}, 'channelTitle': '슈카월드', 'liveBroadcastContent': 'none', 'publishTime': '2022-12-22T11:27:11Z'}}\n",
      "{'kind': 'youtube#searchResult', 'etag': 'gBvSjvy3NEOXNp5ls1jLxAWv7cs', 'id': {'kind': 'youtube#video', 'videoId': 'IiVzdE-babk'}, 'snippet': {'publishedAt': '2022-12-21T10:55:21Z', 'channelId': 'UCsJ6RuBiTVWRX156FVbeaGg', 'title': '누칼협? 중꺾마? 2022년 올해의 단어들', 'description': '0:00 ~ 13:13 올해의 사자성어 Top 5 13:13 ~ 17:01 누칼협, 중꺽마 어렵고 딱딱한 경제,시사,금융 이야기를 쉽고 유쾌하게 풀어내는 ...', 'thumbnails': {'default': {'url': 'https://i.ytimg.com/vi/IiVzdE-babk/default.jpg', 'width': 120, 'height': 90}, 'medium': {'url': 'https://i.ytimg.com/vi/IiVzdE-babk/mqdefault.jpg', 'width': 320, 'height': 180}, 'high': {'url': 'https://i.ytimg.com/vi/IiVzdE-babk/hqdefault.jpg', 'width': 480, 'height': 360}}, 'channelTitle': '슈카월드', 'liveBroadcastContent': 'none', 'publishTime': '2022-12-21T10:55:21Z'}}\n",
      "{'kind': 'youtube#searchResult', 'etag': 'XU3YWuopnqjZh73Uq1XT3-5Rzio', 'id': {'kind': 'youtube#video', 'videoId': 'O3EkSobPNuw'}, 'snippet': {'publishedAt': '2022-12-20T11:53:07Z', 'channelId': 'UCsJ6RuBiTVWRX156FVbeaGg', 'title': '경기 침체, 기로에 서있는 한국경제', 'description': '0:00 ~ 3:41 연준과 시장의 상반된 기대 3:41 ~ 7:28 Hawkish 한 ECB 7:28 ~ 15:45 우리나라 기준금리가 미국을 따라갈 수 있을까 ...', 'thumbnails': {'default': {'url': 'https://i.ytimg.com/vi/O3EkSobPNuw/default.jpg', 'width': 120, 'height': 90}, 'medium': {'url': 'https://i.ytimg.com/vi/O3EkSobPNuw/mqdefault.jpg', 'width': 320, 'height': 180}, 'high': {'url': 'https://i.ytimg.com/vi/O3EkSobPNuw/hqdefault.jpg', 'width': 480, 'height': 360}}, 'channelTitle': '슈카월드', 'liveBroadcastContent': 'none', 'publishTime': '2022-12-20T11:53:07Z'}}\n",
      "{'kind': 'youtube#searchResult', 'etag': 'L9KMXRNW-Ve86DxhdKGa0oGY06Q', 'id': {'kind': 'youtube#video', 'videoId': 'IfP-uFaFhcI'}, 'snippet': {'publishedAt': '2022-12-19T11:20:26Z', 'channelId': 'UCsJ6RuBiTVWRX156FVbeaGg', 'title': '빌라왕 급사, 무한 깡통 전세 수법은', 'description': '0:00 ~ 8:05 1139채 보유 빌라왕 급사, 무한 깡통 전세 수법은? 8:05 ~ 16:16 아니 아무리 자유 경제 시장이라지만... 어렵고 딱딱한 ...', 'thumbnails': {'default': {'url': 'https://i.ytimg.com/vi/IfP-uFaFhcI/default.jpg', 'width': 120, 'height': 90}, 'medium': {'url': 'https://i.ytimg.com/vi/IfP-uFaFhcI/mqdefault.jpg', 'width': 320, 'height': 180}, 'high': {'url': 'https://i.ytimg.com/vi/IfP-uFaFhcI/hqdefault.jpg', 'width': 480, 'height': 360}}, 'channelTitle': '슈카월드', 'liveBroadcastContent': 'none', 'publishTime': '2022-12-19T11:20:26Z'}}\n",
      "{'kind': 'youtube#searchResult', 'etag': 'FwqpOgkI4QmJSw33Qau29oGC8u0', 'id': {'kind': 'youtube#video', 'videoId': '6Kra_CD9UEI'}, 'snippet': {'publishedAt': '2022-12-16T08:41:46Z', 'channelId': 'UCsJ6RuBiTVWRX156FVbeaGg', 'title': '난리나는 돈 잔치? 카타르 월드컵 비용 280조원', 'description': '0:00 ~ 16:37 미쳐버린 카타르 월드컵 비용 16:37 ~ 24:02 혼외 관계에 엄격(?)한 카타르 어렵고 딱딱한 경제,시사,금융 이야기를 쉽고 ...', 'thumbnails': {'default': {'url': 'https://i.ytimg.com/vi/6Kra_CD9UEI/default.jpg', 'width': 120, 'height': 90}, 'medium': {'url': 'https://i.ytimg.com/vi/6Kra_CD9UEI/mqdefault.jpg', 'width': 320, 'height': 180}, 'high': {'url': 'https://i.ytimg.com/vi/6Kra_CD9UEI/hqdefault.jpg', 'width': 480, 'height': 360}}, 'channelTitle': '슈카월드', 'liveBroadcastContent': 'none', 'publishTime': '2022-12-16T08:41:46Z'}}\n",
      "{'kind': 'youtube#searchResult', 'etag': 'vDjpuX2Df0_dO5LoK_10Jh5J_cg', 'id': {'kind': 'youtube#video', 'videoId': 'ZC8kTeCmMak'}, 'snippet': {'publishedAt': '2022-12-14T12:42:43Z', 'channelId': 'UCsJ6RuBiTVWRX156FVbeaGg', 'title': '진짜 나 혼자 산다.', 'description': \"0:00 ~ 17:52 전체 가구의 33%가 1인 가구인 시대 17:52 ~ 21:49 한국에서 '부자'란 얼마나 있어야 되는걸까 어렵고 딱딱한 경제,시사, ...\", 'thumbnails': {'default': {'url': 'https://i.ytimg.com/vi/ZC8kTeCmMak/default.jpg', 'width': 120, 'height': 90}, 'medium': {'url': 'https://i.ytimg.com/vi/ZC8kTeCmMak/mqdefault.jpg', 'width': 320, 'height': 180}, 'high': {'url': 'https://i.ytimg.com/vi/ZC8kTeCmMak/hqdefault.jpg', 'width': 480, 'height': 360}}, 'channelTitle': '슈카월드', 'liveBroadcastContent': 'none', 'publishTime': '2022-12-14T12:42:43Z'}}\n",
      "{'kind': 'youtube#searchResult', 'etag': 'lsmZbdbNKZ9PfCuvhYNzaYlMQYY', 'id': {'kind': 'youtube#video', 'videoId': '3zWGbiYjm3c'}, 'snippet': {'publishedAt': '2022-12-13T11:54:07Z', 'channelId': 'UCsJ6RuBiTVWRX156FVbeaGg', 'title': '미래에서 온 재벌집 막내아들이  S그룹을 후루룩짭짭 하는 방법', 'description': '어렵고 딱딱한 경제,시사,금융 이야기를 쉽고 유쾌하게 풀어내는 경제/시사/이슈/잡썰 토크방송입니다. #재벌집막내아들.', 'thumbnails': {'default': {'url': 'https://i.ytimg.com/vi/3zWGbiYjm3c/default.jpg', 'width': 120, 'height': 90}, 'medium': {'url': 'https://i.ytimg.com/vi/3zWGbiYjm3c/mqdefault.jpg', 'width': 320, 'height': 180}, 'high': {'url': 'https://i.ytimg.com/vi/3zWGbiYjm3c/hqdefault.jpg', 'width': 480, 'height': 360}}, 'channelTitle': '슈카월드', 'liveBroadcastContent': 'none', 'publishTime': '2022-12-13T11:54:07Z'}}\n",
      "{'kind': 'youtube#searchResult', 'etag': 'Hi0FgkiIP26RtASzsX3MmTeALLk', 'id': {'kind': 'youtube#video', 'videoId': '3DARyUwluGg'}, 'snippet': {'publishedAt': '2022-12-12T09:36:09Z', 'channelId': 'UCsJ6RuBiTVWRX156FVbeaGg', 'title': '독일 제국의 왕을 꿈꾼 자', 'description': '0:00 ~ 5:19 독일 쿠데타 모의 조직 체표 5:19 ~ 13:34 1871년 독일 제국의 부활과 하인리히 13세 13:34 ~ 18:57 뭔가 비슷한 말을 ...', 'thumbnails': {'default': {'url': 'https://i.ytimg.com/vi/3DARyUwluGg/default.jpg', 'width': 120, 'height': 90}, 'medium': {'url': 'https://i.ytimg.com/vi/3DARyUwluGg/mqdefault.jpg', 'width': 320, 'height': 180}, 'high': {'url': 'https://i.ytimg.com/vi/3DARyUwluGg/hqdefault.jpg', 'width': 480, 'height': 360}}, 'channelTitle': '슈카월드', 'liveBroadcastContent': 'none', 'publishTime': '2022-12-12T09:36:09Z'}}\n",
      "{'kind': 'youtube#searchResult', 'etag': 'rEop0HFQKN3zk8poR4s7UKAETMM', 'id': {'kind': 'youtube#video', 'videoId': 'rHz1OdMQYyI'}, 'snippet': {'publishedAt': '2022-12-10T09:47:45Z', 'channelId': 'UCsJ6RuBiTVWRX156FVbeaGg', 'title': '러시아돈 400조원 우리가 쓰겠다', 'description': '0:00 ~ 3:00 \"러시아는 대가를 치뤄야 한다\"고 선언한 EU 3:00 ~ 8:26 전설의 독일 중앙은행 금괴 수송 작전 8:26 ~ 12:20 강 vs 강의 ...', 'thumbnails': {'default': {'url': 'https://i.ytimg.com/vi/rHz1OdMQYyI/default.jpg', 'width': 120, 'height': 90}, 'medium': {'url': 'https://i.ytimg.com/vi/rHz1OdMQYyI/mqdefault.jpg', 'width': 320, 'height': 180}, 'high': {'url': 'https://i.ytimg.com/vi/rHz1OdMQYyI/hqdefault.jpg', 'width': 480, 'height': 360}}, 'channelTitle': '슈카월드', 'liveBroadcastContent': 'none', 'publishTime': '2022-12-10T09:47:45Z'}}\n",
      "{'kind': 'youtube#searchResult', 'etag': 'rNfJcEg_X6V-5uWyoriETkurEtc', 'id': {'kind': 'youtube#video', 'videoId': 'n8GsRAgHChw'}, 'snippet': {'publishedAt': '2022-12-09T11:49:23Z', 'channelId': 'UCsJ6RuBiTVWRX156FVbeaGg', 'title': '천안문 이후 최대 소요, 중국을 뒤흔든 &#39;백지 시위&#39;', 'description': '0:00 ~ 9:47 말하고싶었지만 말하지 못했던 모든 것들 9:47 ~ 14:40 백신 30억개 판매 대박 기회를 노리는 서방 어렵고 딱딱한 경제, ...', 'thumbnails': {'default': {'url': 'https://i.ytimg.com/vi/n8GsRAgHChw/default.jpg', 'width': 120, 'height': 90}, 'medium': {'url': 'https://i.ytimg.com/vi/n8GsRAgHChw/mqdefault.jpg', 'width': 320, 'height': 180}, 'high': {'url': 'https://i.ytimg.com/vi/n8GsRAgHChw/hqdefault.jpg', 'width': 480, 'height': 360}}, 'channelTitle': '슈카월드', 'liveBroadcastContent': 'none', 'publishTime': '2022-12-09T11:49:23Z'}}\n",
      "{'kind': 'youtube#searchResult', 'etag': 'VCCzTqt5OYuDZtihb_-5OB7Mngw', 'id': {'kind': 'youtube#video', 'videoId': 'YwakskGF8jI'}, 'snippet': {'publishedAt': '2022-12-08T10:13:56Z', 'channelId': 'UCsJ6RuBiTVWRX156FVbeaGg', 'title': '생전 처음 겪는 물가상승, 고통받는 일본 국민들', 'description': '0:00 ~ 10:38 일본 40년만의 최대 인플레이션 10:38 ~ 15:04 세계 2위 부채 국가 일본 15:04 ~ 18:12 부활하는 일본 관광? 어렵고 ...', 'thumbnails': {'default': {'url': 'https://i.ytimg.com/vi/YwakskGF8jI/default.jpg', 'width': 120, 'height': 90}, 'medium': {'url': 'https://i.ytimg.com/vi/YwakskGF8jI/mqdefault.jpg', 'width': 320, 'height': 180}, 'high': {'url': 'https://i.ytimg.com/vi/YwakskGF8jI/hqdefault.jpg', 'width': 480, 'height': 360}}, 'channelTitle': '슈카월드', 'liveBroadcastContent': 'none', 'publishTime': '2022-12-08T10:13:56Z'}}\n",
      "{'kind': 'youtube#searchResult', 'etag': 'ia_GrFmoWDyRmJONBsZe6elObJ8', 'id': {'kind': 'youtube#video', 'videoId': 'HTzT1Wy978o'}, 'snippet': {'publishedAt': '2022-12-07T10:28:48Z', 'channelId': 'UCsJ6RuBiTVWRX156FVbeaGg', 'title': '전쟁으로 가난해진 유럽, 빨대 꼽는 미국', 'description': '0:00 ~ 8:19 유럽에 전쟁나니 대박나는 미국기업들 8:19 ~ 17:17 단단히 화가 난 EU와 틈새시장을 노리는 대한민국(?) 어렵고 딱딱한 ...', 'thumbnails': {'default': {'url': 'https://i.ytimg.com/vi/HTzT1Wy978o/default.jpg', 'width': 120, 'height': 90}, 'medium': {'url': 'https://i.ytimg.com/vi/HTzT1Wy978o/mqdefault.jpg', 'width': 320, 'height': 180}, 'high': {'url': 'https://i.ytimg.com/vi/HTzT1Wy978o/hqdefault.jpg', 'width': 480, 'height': 360}}, 'channelTitle': '슈카월드', 'liveBroadcastContent': 'none', 'publishTime': '2022-12-07T10:28:48Z'}}\n",
      "{'kind': 'youtube#searchResult', 'etag': 'q9b41uTowxX6M9dPjhkZrjFLJZ8', 'id': {'kind': 'youtube#video', 'videoId': 'gGPDffjJItg'}, 'snippet': {'publishedAt': '2022-12-06T11:26:42Z', 'channelId': 'UCsJ6RuBiTVWRX156FVbeaGg', 'title': '꽁꽁 얼어붙은 대한민국 노사협력', 'description': '0:00 ~ 3:41 화물연대 파업 이슈 3:41 ~ 12:08 근로자의 권리도 낮고, 고용/해고 유연성도 낮은 기적의 국가 12:08 ~ 17:03 미국과 사뭇 ...', 'thumbnails': {'default': {'url': 'https://i.ytimg.com/vi/gGPDffjJItg/default.jpg', 'width': 120, 'height': 90}, 'medium': {'url': 'https://i.ytimg.com/vi/gGPDffjJItg/mqdefault.jpg', 'width': 320, 'height': 180}, 'high': {'url': 'https://i.ytimg.com/vi/gGPDffjJItg/hqdefault.jpg', 'width': 480, 'height': 360}}, 'channelTitle': '슈카월드', 'liveBroadcastContent': 'none', 'publishTime': '2022-12-06T11:26:42Z'}}\n",
      "{'kind': 'youtube#searchResult', 'etag': 'cvSGH3isePO6nQzWLhpoFsjs9B4', 'id': {'kind': 'youtube#video', 'videoId': 'NCG_IlTskAA'}, 'snippet': {'publishedAt': '2022-12-05T11:32:18Z', 'channelId': 'UCsJ6RuBiTVWRX156FVbeaGg', 'title': '머스크, 애플 전쟁 선포', 'description': '0:00 ~ 10:53 머스크, 애플에게 전쟁을 선포하다 10:53 ~ 12:55 전투에 가세하는 EU 12:55 ~ 24:04 머스크가 거대한 적들과 싸우는 ...', 'thumbnails': {'default': {'url': 'https://i.ytimg.com/vi/NCG_IlTskAA/default.jpg', 'width': 120, 'height': 90}, 'medium': {'url': 'https://i.ytimg.com/vi/NCG_IlTskAA/mqdefault.jpg', 'width': 320, 'height': 180}, 'high': {'url': 'https://i.ytimg.com/vi/NCG_IlTskAA/hqdefault.jpg', 'width': 480, 'height': 360}}, 'channelTitle': '슈카월드', 'liveBroadcastContent': 'none', 'publishTime': '2022-12-05T11:32:18Z'}}\n",
      "{'kind': 'youtube#searchResult', 'etag': 'xFgRs3hDBZNYuunfq7OEnpQ5moo', 'id': {'kind': 'youtube#video', 'videoId': 'nwp4_NEOFN8'}, 'snippet': {'publishedAt': '2022-12-02T12:34:12Z', 'channelId': 'UCsJ6RuBiTVWRX156FVbeaGg', 'title': '스코틀랜드를 멸망으로 이끈 식민지 프로젝트', 'description': '0:00 ~ 1:49 스코틀랜드가 독립을 한다고? 1:49 ~ 8:39 스코틀랜드를 멸망으로 이끈 놀라운 사업 8:39 ~ 12:18 2014년 스코틀랜드 ...', 'thumbnails': {'default': {'url': 'https://i.ytimg.com/vi/nwp4_NEOFN8/default.jpg', 'width': 120, 'height': 90}, 'medium': {'url': 'https://i.ytimg.com/vi/nwp4_NEOFN8/mqdefault.jpg', 'width': 320, 'height': 180}, 'high': {'url': 'https://i.ytimg.com/vi/nwp4_NEOFN8/hqdefault.jpg', 'width': 480, 'height': 360}}, 'channelTitle': '슈카월드', 'liveBroadcastContent': 'none', 'publishTime': '2022-12-02T12:34:12Z'}}\n",
      "{'kind': 'youtube#searchResult', 'etag': 'XNRfva2qzW6pnEAekAa5ivIa0rM', 'id': {'kind': 'youtube#video', 'videoId': 'S0Xy4B1C_ko'}, 'snippet': {'publishedAt': '2022-12-01T10:17:29Z', 'channelId': 'UCsJ6RuBiTVWRX156FVbeaGg', 'title': '새끼발가락 뼈, 2개가 정상인가 3개가 정상인가', 'description': '0:00 ~ 8:07 새끼발가락 뼈는 2개가 정상인가, 3개가 정상인가? 8:07 ~ 13:31 퇴화 중인 인간의 발 어렵고 딱딱한 경제,시사,금융 ...', 'thumbnails': {'default': {'url': 'https://i.ytimg.com/vi/S0Xy4B1C_ko/default.jpg', 'width': 120, 'height': 90}, 'medium': {'url': 'https://i.ytimg.com/vi/S0Xy4B1C_ko/mqdefault.jpg', 'width': 320, 'height': 180}, 'high': {'url': 'https://i.ytimg.com/vi/S0Xy4B1C_ko/hqdefault.jpg', 'width': 480, 'height': 360}}, 'channelTitle': '슈카월드', 'liveBroadcastContent': 'none', 'publishTime': '2022-12-01T10:17:29Z'}}\n",
      "{'kind': 'youtube#searchResult', 'etag': '_9U_JWk0FJnk8TqIItt3HTSa06s', 'id': {'kind': 'youtube#video', 'videoId': 'd404GZJM4Ts'}, 'snippet': {'publishedAt': '2022-11-30T11:05:49Z', 'channelId': 'UCsJ6RuBiTVWRX156FVbeaGg', 'title': '사람이 없다. 예고되어 있는 구인난', 'description': '0:00 ~ 3:58 연준의 금리 인상 폭 감소 의사록 발표 3:58 ~ 7:29 일자리가 넘치는 경제 침체 7:29 ~ 15:13 예고되어 있는 구인난 시대 ...', 'thumbnails': {'default': {'url': 'https://i.ytimg.com/vi/d404GZJM4Ts/default.jpg', 'width': 120, 'height': 90}, 'medium': {'url': 'https://i.ytimg.com/vi/d404GZJM4Ts/mqdefault.jpg', 'width': 320, 'height': 180}, 'high': {'url': 'https://i.ytimg.com/vi/d404GZJM4Ts/hqdefault.jpg', 'width': 480, 'height': 360}}, 'channelTitle': '슈카월드', 'liveBroadcastContent': 'none', 'publishTime': '2022-11-30T11:05:49Z'}}\n",
      "{'kind': 'youtube#searchResult', 'etag': 'rf3K19rAP3UyVFdRSI6a5Y83OT4', 'id': {'kind': 'youtube#video', 'videoId': 'V3PwG6LZd5s'}, 'snippet': {'publishedAt': '2022-11-29T11:52:31Z', 'channelId': 'UCsJ6RuBiTVWRX156FVbeaGg', 'title': '여성은 왕이 될 수 없다. 딸부자 일본 왕실의 고민', 'description': '0:00 ~ 5:54 빈 살만 사우디 왕세자 일본 방문 전격 취소 5:54 ~ 29:17 왕위를 계승하는 중(?)인 딸부자 일본 왕실의 고뇌 어렵고 딱딱한 ...', 'thumbnails': {'default': {'url': 'https://i.ytimg.com/vi/V3PwG6LZd5s/default.jpg', 'width': 120, 'height': 90}, 'medium': {'url': 'https://i.ytimg.com/vi/V3PwG6LZd5s/mqdefault.jpg', 'width': 320, 'height': 180}, 'high': {'url': 'https://i.ytimg.com/vi/V3PwG6LZd5s/hqdefault.jpg', 'width': 480, 'height': 360}}, 'channelTitle': '슈카월드', 'liveBroadcastContent': 'none', 'publishTime': '2022-11-29T11:52:31Z'}}\n",
      "{'kind': 'youtube#searchResult', 'etag': 'IfYjG-_zfrf8SKJgrDCgVjUPFxM', 'id': {'kind': 'youtube#video', 'videoId': '_XgcFqCG9xc'}, 'snippet': {'publishedAt': '2022-11-28T12:13:16Z', 'channelId': 'UCsJ6RuBiTVWRX156FVbeaGg', 'title': '반복되는 코인 흑역사, 피해보는 개미들', 'description': '0:00 ~ 18:23 위믹스 상장폐지와 코인시장의 문제 18:23 ~ 26:43 위메이드의 입장과 해명 어렵고 딱딱한 경제,시사,금융 이야기를 ...', 'thumbnails': {'default': {'url': 'https://i.ytimg.com/vi/_XgcFqCG9xc/default.jpg', 'width': 120, 'height': 90}, 'medium': {'url': 'https://i.ytimg.com/vi/_XgcFqCG9xc/mqdefault.jpg', 'width': 320, 'height': 180}, 'high': {'url': 'https://i.ytimg.com/vi/_XgcFqCG9xc/hqdefault.jpg', 'width': 480, 'height': 360}}, 'channelTitle': '슈카월드', 'liveBroadcastContent': 'none', 'publishTime': '2022-11-28T12:13:16Z'}}\n",
      "{'kind': 'youtube#searchResult', 'etag': 'eTI5pfYVaqBeY7dC9d8QUury31Q', 'id': {'kind': 'youtube#video', 'videoId': 'KIMxmVnUJ9o'}, 'snippet': {'publishedAt': '2022-11-25T10:46:37Z', 'channelId': 'UCsJ6RuBiTVWRX156FVbeaGg', 'title': '중세의 끝, 천년을 버틴 콘스탄티노플의 함락', 'description': '0:00 ~ 14:20 그리스에겐 치욕의 역사, 터키에겐 정복의 역사 14:20 ~ 25:28 콘스탄티노플 최후의 날 어렵고 딱딱한 경제,시사,금융 ...', 'thumbnails': {'default': {'url': 'https://i.ytimg.com/vi/KIMxmVnUJ9o/default.jpg', 'width': 120, 'height': 90}, 'medium': {'url': 'https://i.ytimg.com/vi/KIMxmVnUJ9o/mqdefault.jpg', 'width': 320, 'height': 180}, 'high': {'url': 'https://i.ytimg.com/vi/KIMxmVnUJ9o/hqdefault.jpg', 'width': 480, 'height': 360}}, 'channelTitle': '슈카월드', 'liveBroadcastContent': 'none', 'publishTime': '2022-11-25T10:46:37Z'}}\n",
      "{'kind': 'youtube#searchResult', 'etag': 'igBsciGECRpVx-vZBjULOTwJang', 'id': {'kind': 'youtube#video', 'videoId': 'w_sV6MqDQ4A'}, 'snippet': {'publishedAt': '2022-11-24T09:12:35Z', 'channelId': 'UCsJ6RuBiTVWRX156FVbeaGg', 'title': '건강보험 2028년 고갈 예정?', 'description': '0:00 ~ 8:37 보장성 강화와 도덕적 해이 8:37 ~ 15:34 문콕에도 뒷목부터 잡는 나라 어렵고 딱딱한 경제,시사,금융 이야기를 쉽고 유쾌 ...', 'thumbnails': {'default': {'url': 'https://i.ytimg.com/vi/w_sV6MqDQ4A/default.jpg', 'width': 120, 'height': 90}, 'medium': {'url': 'https://i.ytimg.com/vi/w_sV6MqDQ4A/mqdefault.jpg', 'width': 320, 'height': 180}, 'high': {'url': 'https://i.ytimg.com/vi/w_sV6MqDQ4A/hqdefault.jpg', 'width': 480, 'height': 360}}, 'channelTitle': '슈카월드', 'liveBroadcastContent': 'none', 'publishTime': '2022-11-24T09:12:35Z'}}\n",
      "{'kind': 'youtube#searchResult', 'etag': '_-ahiXNXzVe3aFOF3cA-ZOgPc6g', 'id': {'kind': 'youtube#video', 'videoId': '9MpTvy-2kaY'}, 'snippet': {'publishedAt': '2022-11-23T09:53:38Z', 'channelId': 'UCsJ6RuBiTVWRX156FVbeaGg', 'title': '대한민국 국가채무 1,000조원 시대,  논의되는 재정준칙 (유료광고포함)', 'description': '기획재정부의 유료광고가 포함된 영상입니다. 어렵고 딱딱한 경제,시사,금융 이야기를 쉽고 유쾌하게 풀어내는 경제/시사/이슈/잡썰 ...', 'thumbnails': {'default': {'url': 'https://i.ytimg.com/vi/9MpTvy-2kaY/default.jpg', 'width': 120, 'height': 90}, 'medium': {'url': 'https://i.ytimg.com/vi/9MpTvy-2kaY/mqdefault.jpg', 'width': 320, 'height': 180}, 'high': {'url': 'https://i.ytimg.com/vi/9MpTvy-2kaY/hqdefault.jpg', 'width': 480, 'height': 360}}, 'channelTitle': '슈카월드', 'liveBroadcastContent': 'none', 'publishTime': '2022-11-23T09:53:38Z'}}\n",
      "{'kind': 'youtube#searchResult', 'etag': 'tE5blTuLbbdwUEgSSGLNVJiobsM', 'id': {'kind': 'youtube#video', 'videoId': 'cnMIHpvMDZM'}, 'snippet': {'publishedAt': '2022-11-22T10:42:08Z', 'channelId': 'UCsJ6RuBiTVWRX156FVbeaGg', 'title': '결혼할 신부가 없다! 심각한 중국의 남녀 비율', 'description': '0:00 ~ 10:57 중국의 충격적인 남성 초과 현상 10:57 ~ 16:05 해결책 씽크빅? 어렵고 딱딱한 경제,시사,금융 이야기를 쉽고 유쾌하게 ...', 'thumbnails': {'default': {'url': 'https://i.ytimg.com/vi/cnMIHpvMDZM/default.jpg', 'width': 120, 'height': 90}, 'medium': {'url': 'https://i.ytimg.com/vi/cnMIHpvMDZM/mqdefault.jpg', 'width': 320, 'height': 180}, 'high': {'url': 'https://i.ytimg.com/vi/cnMIHpvMDZM/hqdefault.jpg', 'width': 480, 'height': 360}}, 'channelTitle': '슈카월드', 'liveBroadcastContent': 'none', 'publishTime': '2022-11-22T10:42:08Z'}}\n",
      "{'kind': 'youtube#searchResult', 'etag': '59SgOQJD1peXpOY5YC2efhaSrCM', 'id': {'kind': 'youtube#video', 'videoId': 'Cui-6nd1HN8'}, 'snippet': {'publishedAt': '2022-11-21T12:23:44Z', 'channelId': 'UCsJ6RuBiTVWRX156FVbeaGg', 'title': '폴란드에 미사일이 떨어졌다!? 설마..?', 'description': '0:00 ~ 7:36 폴란드 영토에 떨어진 미사일 7:36 ~ 14:35 러-우 영토분쟁 근황 14:35 ~ 18:43 원정 방산쇼핑 맛집 대한민국 18:43 ...', 'thumbnails': {'default': {'url': 'https://i.ytimg.com/vi/Cui-6nd1HN8/default.jpg', 'width': 120, 'height': 90}, 'medium': {'url': 'https://i.ytimg.com/vi/Cui-6nd1HN8/mqdefault.jpg', 'width': 320, 'height': 180}, 'high': {'url': 'https://i.ytimg.com/vi/Cui-6nd1HN8/hqdefault.jpg', 'width': 480, 'height': 360}}, 'channelTitle': '슈카월드', 'liveBroadcastContent': 'none', 'publishTime': '2022-11-21T12:23:44Z'}}\n",
      "{'kind': 'youtube#searchResult', 'etag': 'GJx3fEyW0JblEr3Me63Qj4RpmGg', 'id': {'kind': 'youtube#video', 'videoId': 'SH2ssf6ug5Q'}, 'snippet': {'publishedAt': '2022-11-19T12:28:11Z', 'channelId': 'UCsJ6RuBiTVWRX156FVbeaGg', 'title': 'K-나이 족보꼬임 방지법 통과될까', 'description': '어렵고 딱딱한 경제,시사,금융 이야기를 쉽고 유쾌하게 풀어내는 경제/시사/이슈/잡썰 토크방송입니다. #빠른년생 #족보꼬임.', 'thumbnails': {'default': {'url': 'https://i.ytimg.com/vi/SH2ssf6ug5Q/default.jpg', 'width': 120, 'height': 90}, 'medium': {'url': 'https://i.ytimg.com/vi/SH2ssf6ug5Q/mqdefault.jpg', 'width': 320, 'height': 180}, 'high': {'url': 'https://i.ytimg.com/vi/SH2ssf6ug5Q/hqdefault.jpg', 'width': 480, 'height': 360}}, 'channelTitle': '슈카월드', 'liveBroadcastContent': 'none', 'publishTime': '2022-11-19T12:28:11Z'}}\n",
      "{'kind': 'youtube#searchResult', 'etag': 'XkfLj-FkCCj09kKdEdvUrr6YQt8', 'id': {'kind': 'youtube#video', 'videoId': '2Zaoc0_aNjg'}, 'snippet': {'publishedAt': '2022-11-18T12:46:22Z', 'channelId': 'UCsJ6RuBiTVWRX156FVbeaGg', 'title': '현실판 느와르, 2022년 브라질 대통령 선거', 'description': '0:00 ~ 8:40 극우 8:40 ~ 19:34 극좌 19:34 ~ 26:07 결론 어렵고 딱딱한 경제,시사,금융 이야기를 쉽고 유쾌하게 풀어내는 경제/시사/ ...', 'thumbnails': {'default': {'url': 'https://i.ytimg.com/vi/2Zaoc0_aNjg/default.jpg', 'width': 120, 'height': 90}, 'medium': {'url': 'https://i.ytimg.com/vi/2Zaoc0_aNjg/mqdefault.jpg', 'width': 320, 'height': 180}, 'high': {'url': 'https://i.ytimg.com/vi/2Zaoc0_aNjg/hqdefault.jpg', 'width': 480, 'height': 360}}, 'channelTitle': '슈카월드', 'liveBroadcastContent': 'none', 'publishTime': '2022-11-18T12:46:22Z'}}\n",
      "{'kind': 'youtube#searchResult', 'etag': 'B6qHgyPS-sEUyq7BzP_9FULCVnk', 'id': {'kind': 'youtube#video', 'videoId': 'bNg6SX_MPpo'}, 'snippet': {'publishedAt': '2022-11-17T11:31:47Z', 'channelId': 'UCsJ6RuBiTVWRX156FVbeaGg', 'title': '2.6조원! 복권 역사상 최고액 경신', 'description': '어렵고 딱딱한 경제,시사,금융 이야기를 쉽고 유쾌하게 풀어내는 경제/시사/이슈/잡썰 토크방송입니다. #0.01%만주면안될까.', 'thumbnails': {'default': {'url': 'https://i.ytimg.com/vi/bNg6SX_MPpo/default.jpg', 'width': 120, 'height': 90}, 'medium': {'url': 'https://i.ytimg.com/vi/bNg6SX_MPpo/mqdefault.jpg', 'width': 320, 'height': 180}, 'high': {'url': 'https://i.ytimg.com/vi/bNg6SX_MPpo/hqdefault.jpg', 'width': 480, 'height': 360}}, 'channelTitle': '슈카월드', 'liveBroadcastContent': 'none', 'publishTime': '2022-11-17T11:31:47Z'}}\n",
      "{'kind': 'youtube#searchResult', 'etag': 'KiwYH254Xr7VDKkMpqLuwbJwmjs', 'id': {'kind': 'youtube#video', 'videoId': 'COdMpfHlzUo'}, 'snippet': {'publishedAt': '2022-11-16T12:19:56Z', 'channelId': 'UCsJ6RuBiTVWRX156FVbeaGg', 'title': '인플레이션, 해치웠나...?', 'description': '0:00 ~ 10:12 예상을 벗어난 물가와 환율 10:12 ~ 14:04 경기와 금리, 내년에 어떻게 될까? 14:04 ~ 19:22 메타 11000명 해고 발표와 ...', 'thumbnails': {'default': {'url': 'https://i.ytimg.com/vi/COdMpfHlzUo/default.jpg', 'width': 120, 'height': 90}, 'medium': {'url': 'https://i.ytimg.com/vi/COdMpfHlzUo/mqdefault.jpg', 'width': 320, 'height': 180}, 'high': {'url': 'https://i.ytimg.com/vi/COdMpfHlzUo/hqdefault.jpg', 'width': 480, 'height': 360}}, 'channelTitle': '슈카월드', 'liveBroadcastContent': 'none', 'publishTime': '2022-11-16T12:19:56Z'}}\n",
      "{'kind': 'youtube#searchResult', 'etag': 'q2oms2eC_-GXpobLe6snJttHmdw', 'id': {'kind': 'youtube#video', 'videoId': 'Nva2ZOzO7Sc'}, 'snippet': {'publishedAt': '2022-11-15T11:16:32Z', 'channelId': 'UCsJ6RuBiTVWRX156FVbeaGg', 'title': '뜻밖의 결과, 위기의 트럼프', 'description': '0:00 ~ 10:31 공화당 막후의 제왕 트럼프의 큰 꿈 10:31 ~ 19:06 이번 중간선거에서 가장 중요한 문제는 무엇인가 어렵고 딱딱한 경제, ...', 'thumbnails': {'default': {'url': 'https://i.ytimg.com/vi/Nva2ZOzO7Sc/default.jpg', 'width': 120, 'height': 90}, 'medium': {'url': 'https://i.ytimg.com/vi/Nva2ZOzO7Sc/mqdefault.jpg', 'width': 320, 'height': 180}, 'high': {'url': 'https://i.ytimg.com/vi/Nva2ZOzO7Sc/hqdefault.jpg', 'width': 480, 'height': 360}}, 'channelTitle': '슈카월드', 'liveBroadcastContent': 'none', 'publishTime': '2022-11-15T11:16:32Z'}}\n",
      "{'kind': 'youtube#searchResult', 'etag': 'jfPFbkLnG1Mrx6ohzEqqh9kernQ', 'id': {'kind': 'youtube#video', 'videoId': 'NWrPVpoN6lU'}, 'snippet': {'publishedAt': '2022-11-14T09:24:26Z', 'channelId': 'UCsJ6RuBiTVWRX156FVbeaGg', 'title': 'FTX 파산, 공포에 질린 코인시장', 'description': '0:00 ~ 18:42 FTX 파산 타임라인과 불안한 코인시장 18:42 ~ 24:23 시스템 부재로 반복되는 코인계의 문제와 개인적인 생각 어렵고 ...', 'thumbnails': {'default': {'url': 'https://i.ytimg.com/vi/NWrPVpoN6lU/default.jpg', 'width': 120, 'height': 90}, 'medium': {'url': 'https://i.ytimg.com/vi/NWrPVpoN6lU/mqdefault.jpg', 'width': 320, 'height': 180}, 'high': {'url': 'https://i.ytimg.com/vi/NWrPVpoN6lU/hqdefault.jpg', 'width': 480, 'height': 360}}, 'channelTitle': '슈카월드', 'liveBroadcastContent': 'none', 'publishTime': '2022-11-14T09:24:26Z'}}\n",
      "{'kind': 'youtube#searchResult', 'etag': 'EUTmYRGuuY0gf-OtaOxZIxs7RE8', 'id': {'kind': 'youtube#video', 'videoId': 'wEwvtRmSIyo'}, 'snippet': {'publishedAt': '2022-11-11T10:46:58Z', 'channelId': 'UCsJ6RuBiTVWRX156FVbeaGg', 'title': '스스로 만든 &#39;제로 코로나&#39; 함정에 빠진 중국', 'description': '0:00 ~ 9:38 세계 최대 아이폰 생산 공장 직원 단체 감금(?)과 대탈출 사태 9:38 ~ 17:20 상하이 디즈니 방문객 3만 명 통제 사태 17:20 ...', 'thumbnails': {'default': {'url': 'https://i.ytimg.com/vi/wEwvtRmSIyo/default.jpg', 'width': 120, 'height': 90}, 'medium': {'url': 'https://i.ytimg.com/vi/wEwvtRmSIyo/mqdefault.jpg', 'width': 320, 'height': 180}, 'high': {'url': 'https://i.ytimg.com/vi/wEwvtRmSIyo/hqdefault.jpg', 'width': 480, 'height': 360}}, 'channelTitle': '슈카월드', 'liveBroadcastContent': 'none', 'publishTime': '2022-11-11T10:46:58Z'}}\n",
      "{'kind': 'youtube#searchResult', 'etag': '4E4kcSXYuyg7HogxYUxYO9IcOsk', 'id': {'kind': 'youtube#video', 'videoId': '-_byeCDQ7NY'}, 'snippet': {'publishedAt': '2022-11-10T10:23:27Z', 'channelId': 'UCsJ6RuBiTVWRX156FVbeaGg', 'title': '증가하는 PTSD, 경제위기와 비극적 사건', 'description': '0:00 ~ 8:09 PTSD 단어의 등장 8:09 ~ 18:36 우리는 생각보다 강하지 않습니다. 어렵고 딱딱한 경제,시사,금융 이야기를 쉽고 유쾌 ...', 'thumbnails': {'default': {'url': 'https://i.ytimg.com/vi/-_byeCDQ7NY/default.jpg', 'width': 120, 'height': 90}, 'medium': {'url': 'https://i.ytimg.com/vi/-_byeCDQ7NY/mqdefault.jpg', 'width': 320, 'height': 180}, 'high': {'url': 'https://i.ytimg.com/vi/-_byeCDQ7NY/hqdefault.jpg', 'width': 480, 'height': 360}}, 'channelTitle': '슈카월드', 'liveBroadcastContent': 'none', 'publishTime': '2022-11-10T10:23:27Z'}}\n",
      "{'kind': 'youtube#searchResult', 'etag': 'l1_UcCmO4Un3WJ68nR-t65Zoc7c', 'id': {'kind': 'youtube#video', 'videoId': 'N3yhkDHs8yw'}, 'snippet': {'publishedAt': '2022-11-09T10:10:39Z', 'channelId': 'UCsJ6RuBiTVWRX156FVbeaGg', 'title': '미국의 자국 우선주의에 반발하는 유럽', 'description': '0:00 ~ 7:25 독재국가와 협력 맞아? vs 경제적 실리가 먼저지! 7:25 ~ 17:35 미국의 자국 우선주의, 반발하는 유럽, \"이때다\" 싶은 중국 ...', 'thumbnails': {'default': {'url': 'https://i.ytimg.com/vi/N3yhkDHs8yw/default.jpg', 'width': 120, 'height': 90}, 'medium': {'url': 'https://i.ytimg.com/vi/N3yhkDHs8yw/mqdefault.jpg', 'width': 320, 'height': 180}, 'high': {'url': 'https://i.ytimg.com/vi/N3yhkDHs8yw/hqdefault.jpg', 'width': 480, 'height': 360}}, 'channelTitle': '슈카월드', 'liveBroadcastContent': 'none', 'publishTime': '2022-11-09T10:10:39Z'}}\n",
      "{'kind': 'youtube#searchResult', 'etag': 'F9_bZlfrIk6uJeZ4uCsWLUEm_Io', 'id': {'kind': 'youtube#video', 'videoId': 'L7cTxv6tRtM'}, 'snippet': {'publishedAt': '2022-11-08T11:08:11Z', 'channelId': 'UCsJ6RuBiTVWRX156FVbeaGg', 'title': '돈 값이 금 값, 사면초가 흥국생명', 'description': '0:00 ~ 7:32 말많은 흥국생명 사태, \"콜옵션\" 이 뭐길래? 7:32 ~ 20:37 사면초가 흥국생명과 점점 닫혀가는 자본시장 20:37 ~ 29:40 ...', 'thumbnails': {'default': {'url': 'https://i.ytimg.com/vi/L7cTxv6tRtM/default.jpg', 'width': 120, 'height': 90}, 'medium': {'url': 'https://i.ytimg.com/vi/L7cTxv6tRtM/mqdefault.jpg', 'width': 320, 'height': 180}, 'high': {'url': 'https://i.ytimg.com/vi/L7cTxv6tRtM/hqdefault.jpg', 'width': 480, 'height': 360}}, 'channelTitle': '슈카월드', 'liveBroadcastContent': 'none', 'publishTime': '2022-11-08T11:08:11Z'}}\n",
      "{'kind': 'youtube#searchResult', 'etag': 'dsP2b3JaDNHJbnIeaM9N-IqRZ58', 'id': {'kind': 'youtube#video', 'videoId': '4XEV-G5i5fA'}, 'snippet': {'publishedAt': '2022-11-07T11:30:53Z', 'channelId': 'UCsJ6RuBiTVWRX156FVbeaGg', 'title': '61조 원에 트위터 인수한 이 시대 최고의 관종 머스크', 'description': '0:00 ~ 5:22 트위터 인수 직후 머스크가 가장 먼저 한 일 5:22 ~ 14:13 언론사들을 낚은 \"제 이름은 쌍방울입니다(?)\" 14:13 ~ 29:53 ...', 'thumbnails': {'default': {'url': 'https://i.ytimg.com/vi/4XEV-G5i5fA/default.jpg', 'width': 120, 'height': 90}, 'medium': {'url': 'https://i.ytimg.com/vi/4XEV-G5i5fA/mqdefault.jpg', 'width': 320, 'height': 180}, 'high': {'url': 'https://i.ytimg.com/vi/4XEV-G5i5fA/hqdefault.jpg', 'width': 480, 'height': 360}}, 'channelTitle': '슈카월드', 'liveBroadcastContent': 'none', 'publishTime': '2022-11-07T11:30:53Z'}}\n",
      "{'kind': 'youtube#searchResult', 'etag': 'k-zMBIF-n0b_nmeyWiLMG81XWrU', 'id': {'kind': 'youtube#video', 'videoId': 't8c8eHnooCM'}, 'snippet': {'publishedAt': '2022-11-04T10:26:59Z', 'channelId': 'UCsJ6RuBiTVWRX156FVbeaGg', 'title': '바다에는 곤충이 없다', 'description': '지난주 라이브 방송을 진행하지 않아서 녹화 영상인 관계로 채팅창이 없습니다. 0:00 ~ 13:40 지구 생물 중 가장 많은 종류인 곤충이 왜 ...', 'thumbnails': {'default': {'url': 'https://i.ytimg.com/vi/t8c8eHnooCM/default.jpg', 'width': 120, 'height': 90}, 'medium': {'url': 'https://i.ytimg.com/vi/t8c8eHnooCM/mqdefault.jpg', 'width': 320, 'height': 180}, 'high': {'url': 'https://i.ytimg.com/vi/t8c8eHnooCM/hqdefault.jpg', 'width': 480, 'height': 360}}, 'channelTitle': '슈카월드', 'liveBroadcastContent': 'none', 'publishTime': '2022-11-04T10:26:59Z'}}\n",
      "{'kind': 'youtube#searchResult', 'etag': '79-d6ruVJolCYxu2HwHJaeSSqXI', 'id': {'kind': 'youtube#video', 'videoId': 'Lk6p4ox27Sw'}, 'snippet': {'publishedAt': '2022-11-03T10:14:24Z', 'channelId': 'UCsJ6RuBiTVWRX156FVbeaGg', 'title': '에너지에 이은 식량 전쟁 시대', 'description': '지난주 라이브 방송을 진행하지 않아서 녹화 영상인 관계로 채팅창이 없습니다. 0:00 ~ 7:53 저물어가는 자유무역주의와 식량전쟁시대 ...', 'thumbnails': {'default': {'url': 'https://i.ytimg.com/vi/Lk6p4ox27Sw/default.jpg', 'width': 120, 'height': 90}, 'medium': {'url': 'https://i.ytimg.com/vi/Lk6p4ox27Sw/mqdefault.jpg', 'width': 320, 'height': 180}, 'high': {'url': 'https://i.ytimg.com/vi/Lk6p4ox27Sw/hqdefault.jpg', 'width': 480, 'height': 360}}, 'channelTitle': '슈카월드', 'liveBroadcastContent': 'none', 'publishTime': '2022-11-03T10:14:24Z'}}\n",
      "{'kind': 'youtube#searchResult', 'etag': 'EYnWcj-im-xVhdcFoklO8iq9RVA', 'id': {'kind': 'youtube#video', 'videoId': 'YKXhBrz4yhA'}, 'snippet': {'publishedAt': '2022-11-02T11:03:59Z', 'channelId': 'UCsJ6RuBiTVWRX156FVbeaGg', 'title': '올해 사상 최고의 실적을 올린 기업', 'description': '지난주 라이브 방송을 진행하지 않아서 녹화 영상인 관계로 채팅창이 없습니다. 0:00 ~ 6:56 애플과 맞먹는 수익을 기록한 어느 회사 ...', 'thumbnails': {'default': {'url': 'https://i.ytimg.com/vi/YKXhBrz4yhA/default.jpg', 'width': 120, 'height': 90}, 'medium': {'url': 'https://i.ytimg.com/vi/YKXhBrz4yhA/mqdefault.jpg', 'width': 320, 'height': 180}, 'high': {'url': 'https://i.ytimg.com/vi/YKXhBrz4yhA/hqdefault.jpg', 'width': 480, 'height': 360}}, 'channelTitle': '슈카월드', 'liveBroadcastContent': 'none', 'publishTime': '2022-11-02T11:03:59Z'}}\n",
      "{'kind': 'youtube#searchResult', 'etag': 'aGglgXxjys7eV9LbNwx0kL2Yu6g', 'id': {'kind': 'youtube#video', 'videoId': 'RynCTDxpKPw'}, 'snippet': {'publishedAt': '2022-11-01T11:31:40Z', 'channelId': 'UCsJ6RuBiTVWRX156FVbeaGg', 'title': '영국 역사상 최고 부자 총리가 온다.', 'description': '지난주 라이브 방송을 진행하지 않아서 녹화 영상인 관계로 채팅창이 없습니다. 0:00 ~ 14:14 리즈 트러스 총리의 45일 천하 14:14 ...', 'thumbnails': {'default': {'url': 'https://i.ytimg.com/vi/RynCTDxpKPw/default.jpg', 'width': 120, 'height': 90}, 'medium': {'url': 'https://i.ytimg.com/vi/RynCTDxpKPw/mqdefault.jpg', 'width': 320, 'height': 180}, 'high': {'url': 'https://i.ytimg.com/vi/RynCTDxpKPw/hqdefault.jpg', 'width': 480, 'height': 360}}, 'channelTitle': '슈카월드', 'liveBroadcastContent': 'none', 'publishTime': '2022-11-01T11:31:40Z'}}\n",
      "{'kind': 'youtube#searchResult', 'etag': '9IwBz-cMSsno0tEhUw0-Yg6wnQw', 'id': {'kind': 'youtube#video', 'videoId': 'kw4Hv7PmiQc'}, 'snippet': {'publishedAt': '2022-10-31T09:57:09Z', 'channelId': 'UCsJ6RuBiTVWRX156FVbeaGg', 'title': 'SK하이닉스 실적 쇼크, 반도체 치킨 게임의 시작?', 'description': '지난주 라이브 방송을 진행하지 않아서 녹화 영상인 관계로 채팅창이 없습니다. 0:00 ~ 10:00 SK하이닉스 실적 쇼크와 경기침체 ...', 'thumbnails': {'default': {'url': 'https://i.ytimg.com/vi/kw4Hv7PmiQc/default.jpg', 'width': 120, 'height': 90}, 'medium': {'url': 'https://i.ytimg.com/vi/kw4Hv7PmiQc/mqdefault.jpg', 'width': 320, 'height': 180}, 'high': {'url': 'https://i.ytimg.com/vi/kw4Hv7PmiQc/hqdefault.jpg', 'width': 480, 'height': 360}}, 'channelTitle': '슈카월드', 'liveBroadcastContent': 'none', 'publishTime': '2022-10-31T09:57:09Z'}}\n",
      "{'kind': 'youtube#searchResult', 'etag': 'RWaYkISH-9yYKUJpd_4FKE7GFAc', 'id': {'kind': 'youtube#video', 'videoId': 'kGq405uF92Y'}, 'snippet': {'publishedAt': '2022-10-27T10:21:18Z', 'channelId': 'UCsJ6RuBiTVWRX156FVbeaGg', 'title': '그림 도둑 AI 등장, 예술인가 도둑놈인가', 'description': '0:00 ~ 4:51 AI가 그림을 그려주는 세상 4:51 ~ 10:51 우리는 예술의 죽음을 보고있는가 10:51 ~ 19:51 딥페이크 기술의 발전과 영상의 ...', 'thumbnails': {'default': {'url': 'https://i.ytimg.com/vi/kGq405uF92Y/default.jpg', 'width': 120, 'height': 90}, 'medium': {'url': 'https://i.ytimg.com/vi/kGq405uF92Y/mqdefault.jpg', 'width': 320, 'height': 180}, 'high': {'url': 'https://i.ytimg.com/vi/kGq405uF92Y/hqdefault.jpg', 'width': 480, 'height': 360}}, 'channelTitle': '슈카월드', 'liveBroadcastContent': 'none', 'publishTime': '2022-10-27T10:21:18Z'}}\n",
      "{'kind': 'youtube#searchResult', 'etag': 'Hb7jCfb23eRPwwk45bDDrJSbdEE', 'id': {'kind': 'youtube#video', 'videoId': 'y9Dd_7NPcfI'}, 'snippet': {'publishedAt': '2022-10-26T11:32:13Z', 'channelId': 'UCsJ6RuBiTVWRX156FVbeaGg', 'title': '얼어버린 돈줄, 떨고 있는 기업들', 'description': '0:00 ~ 25:18 빙하기에 빠진 부동산PF 시장, 확산되는 신용 불안 25:18 ~ 32:05 전국 아파트 가격 10년 만에 최대폭 하락 32:05 ...', 'thumbnails': {'default': {'url': 'https://i.ytimg.com/vi/y9Dd_7NPcfI/default.jpg', 'width': 120, 'height': 90}, 'medium': {'url': 'https://i.ytimg.com/vi/y9Dd_7NPcfI/mqdefault.jpg', 'width': 320, 'height': 180}, 'high': {'url': 'https://i.ytimg.com/vi/y9Dd_7NPcfI/hqdefault.jpg', 'width': 480, 'height': 360}}, 'channelTitle': '슈카월드', 'liveBroadcastContent': 'none', 'publishTime': '2022-10-26T11:32:13Z'}}\n",
      "{'kind': 'youtube#searchResult', 'etag': 'o-iFtjaqjJRzZJ0DPWeExWYFw1A', 'id': {'kind': 'youtube#video', 'videoId': 'H-dRgW5XDpQ'}, 'snippet': {'publishedAt': '2022-10-25T11:21:20Z', 'channelId': 'UCsJ6RuBiTVWRX156FVbeaGg', 'title': '하루에 6명이 산업 재해로 사망하는 나라', 'description': '0:00 ~ 4:23 SPC 비극과 우리의 의문 4:23 ~ 13:22 산업재해는 과연 줄어들고 있을까 13:22 ~ 21:08 세계 최우수 산업재해 국가 영국 ...', 'thumbnails': {'default': {'url': 'https://i.ytimg.com/vi/H-dRgW5XDpQ/default.jpg', 'width': 120, 'height': 90}, 'medium': {'url': 'https://i.ytimg.com/vi/H-dRgW5XDpQ/mqdefault.jpg', 'width': 320, 'height': 180}, 'high': {'url': 'https://i.ytimg.com/vi/H-dRgW5XDpQ/hqdefault.jpg', 'width': 480, 'height': 360}}, 'channelTitle': '슈카월드', 'liveBroadcastContent': 'none', 'publishTime': '2022-10-25T11:21:20Z'}}\n",
      "{'kind': 'youtube#searchResult', 'etag': 'zAta1JvpVOAOuKqKlM8_LYoXcpk', 'id': {'kind': 'youtube#video', 'videoId': 'SWyQmUmKG_s'}, 'snippet': {'publishedAt': '2022-10-24T11:08:03Z', 'channelId': 'UCsJ6RuBiTVWRX156FVbeaGg', 'title': '시진핑 1인 통치 체제 확정, 새로운 시대로 진입하는 중국', 'description': '0:00 ~ 15:51 시진핑 3연임 확정, 1인 통치 체제 완성 15:51 ~ 22:15 미국의 대중 반도체 수출 규제와 긴장하는 반도체 시장 어렵고 ...', 'thumbnails': {'default': {'url': 'https://i.ytimg.com/vi/SWyQmUmKG_s/default.jpg', 'width': 120, 'height': 90}, 'medium': {'url': 'https://i.ytimg.com/vi/SWyQmUmKG_s/mqdefault.jpg', 'width': 320, 'height': 180}, 'high': {'url': 'https://i.ytimg.com/vi/SWyQmUmKG_s/hqdefault.jpg', 'width': 480, 'height': 360}}, 'channelTitle': '슈카월드', 'liveBroadcastContent': 'none', 'publishTime': '2022-10-24T11:08:03Z'}}\n",
      "{'kind': 'youtube#searchResult', 'etag': 'ZdQGu7ygEeNTuzICx8Tmve_tDUU', 'id': {'kind': 'youtube#video', 'videoId': 'VcPL97N8ySw'}, 'snippet': {'publishedAt': '2022-10-21T10:42:16Z', 'channelId': 'UCsJ6RuBiTVWRX156FVbeaGg', 'title': '꼼장어는 물고기도 아니다?', 'description': '0:00 ~ 7:17 장어 양식이 아직도 안 되는 이유 7:17 ~ 15:51 꼼장어는 어류가 아니다? 어렵고 딱딱한 경제,시사,금융 이야기를 쉽고 ...', 'thumbnails': {'default': {'url': 'https://i.ytimg.com/vi/VcPL97N8ySw/default.jpg', 'width': 120, 'height': 90}, 'medium': {'url': 'https://i.ytimg.com/vi/VcPL97N8ySw/mqdefault.jpg', 'width': 320, 'height': 180}, 'high': {'url': 'https://i.ytimg.com/vi/VcPL97N8ySw/hqdefault.jpg', 'width': 480, 'height': 360}}, 'channelTitle': '슈카월드', 'liveBroadcastContent': 'none', 'publishTime': '2022-10-21T10:42:16Z'}}\n"
     ]
    },
    {
     "name": "stdout",
     "output_type": "stream",
     "text": [
      "{'kind': 'youtube#searchResult', 'etag': 'uBXVIxjYPrT-MstyVPZEO1yuXc4', 'id': {'kind': 'youtube#video', 'videoId': 'tzIzcr4EM6w'}, 'snippet': {'publishedAt': '2022-10-20T11:07:32Z', 'channelId': 'UCsJ6RuBiTVWRX156FVbeaGg', 'title': '정신나간 사우디 신도시 프로젝트 The Line', 'description': '0:00 ~ 2:23 한화건설, 이라크 비스마야 신도시 프로젝트 철수 2:23 ~ 4:07 사막의 기적 - 아랍에미리트 두바이 프로젝트 4:07 ~ 11:47 ...', 'thumbnails': {'default': {'url': 'https://i.ytimg.com/vi/tzIzcr4EM6w/default.jpg', 'width': 120, 'height': 90}, 'medium': {'url': 'https://i.ytimg.com/vi/tzIzcr4EM6w/mqdefault.jpg', 'width': 320, 'height': 180}, 'high': {'url': 'https://i.ytimg.com/vi/tzIzcr4EM6w/hqdefault.jpg', 'width': 480, 'height': 360}}, 'channelTitle': '슈카월드', 'liveBroadcastContent': 'none', 'publishTime': '2022-10-20T11:07:32Z'}}\n",
      "{'kind': 'youtube#searchResult', 'etag': 'x1asS4YSkCNw68FyYxbOvR79Bvo', 'id': {'kind': 'youtube#video', 'videoId': 'sLwwnDEftN0'}, 'snippet': {'publishedAt': '2022-10-19T10:54:24Z', 'channelId': 'UCsJ6RuBiTVWRX156FVbeaGg', 'title': '북한 전투기 150대 동시 출격? 진짜?', 'description': '0:00 ~ 8:24 크림대교 폭파와 러시아의 화풀이 8:24 ~ 13:00 그와중에 삐진 머스크형 13:00 ~ 20:02 뭔가 이상한 북한 전투기 150대 ...', 'thumbnails': {'default': {'url': 'https://i.ytimg.com/vi/sLwwnDEftN0/default.jpg', 'width': 120, 'height': 90}, 'medium': {'url': 'https://i.ytimg.com/vi/sLwwnDEftN0/mqdefault.jpg', 'width': 320, 'height': 180}, 'high': {'url': 'https://i.ytimg.com/vi/sLwwnDEftN0/hqdefault.jpg', 'width': 480, 'height': 360}}, 'channelTitle': '슈카월드', 'liveBroadcastContent': 'none', 'publishTime': '2022-10-19T10:54:24Z'}}\n",
      "{'kind': 'youtube#searchResult', 'etag': 'nz72WKGTCaXil1bSbHkS4DlY8QM', 'id': {'kind': 'youtube#video', 'videoId': 'oO32HQhJbuU'}, 'snippet': {'publishedAt': '2022-10-18T11:03:41Z', 'channelId': 'UCsJ6RuBiTVWRX156FVbeaGg', 'title': '이자 5%? 사상 최대 돈이 몰린 은행 예금', 'description': '0:00 ~ 10:02 끝없이 이어지는 미국 소비자물가 충격과 기준금리 인상 10:02 ~ 16:15 한국은행 총재 기자간담회와 은행예금 5% 시대 ...', 'thumbnails': {'default': {'url': 'https://i.ytimg.com/vi/oO32HQhJbuU/default.jpg', 'width': 120, 'height': 90}, 'medium': {'url': 'https://i.ytimg.com/vi/oO32HQhJbuU/mqdefault.jpg', 'width': 320, 'height': 180}, 'high': {'url': 'https://i.ytimg.com/vi/oO32HQhJbuU/hqdefault.jpg', 'width': 480, 'height': 360}}, 'channelTitle': '슈카월드', 'liveBroadcastContent': 'none', 'publishTime': '2022-10-18T11:03:41Z'}}\n",
      "{'kind': 'youtube#searchResult', 'etag': '6dkhWyGUWsdVvWKBi_7ewA-wQLY', 'id': {'kind': 'youtube#video', 'videoId': 'PAPgBy2D_yk'}, 'snippet': {'publishedAt': '2022-10-17T10:23:26Z', 'channelId': 'UCsJ6RuBiTVWRX156FVbeaGg', 'title': '비상 경영에 나선 위기의 카카오', 'description': '0:00 ~ 10:16 서버 전력식 화재와 전국민 먹통 사건 10:16 ~ 18:27 글로벌 SNS 주가 폭락과 기업의 사회적 책임 18:27 ~ 20:39 ESG ...', 'thumbnails': {'default': {'url': 'https://i.ytimg.com/vi/PAPgBy2D_yk/default.jpg', 'width': 120, 'height': 90}, 'medium': {'url': 'https://i.ytimg.com/vi/PAPgBy2D_yk/mqdefault.jpg', 'width': 320, 'height': 180}, 'high': {'url': 'https://i.ytimg.com/vi/PAPgBy2D_yk/hqdefault.jpg', 'width': 480, 'height': 360}}, 'channelTitle': '슈카월드', 'liveBroadcastContent': 'none', 'publishTime': '2022-10-17T10:23:26Z'}}\n",
      "{'kind': 'youtube#searchResult', 'etag': 'RA455vJHDzNqyTB_2OUWwahAenI', 'id': {'kind': 'youtube#video', 'videoId': 'IuvUMAHr3dw'}, 'snippet': {'publishedAt': '2022-10-15T09:49:58Z', 'channelId': 'UCsJ6RuBiTVWRX156FVbeaGg', 'title': '&#39;빚 못 갚겠다.&#39;  파산 위기의 레고랜드', 'description': '0:00 ~ 14:34 레고랜드 중도 개발 중 발견된 어마어마한 것 14:34 ~ 19:33 물이 빠지면 누가 발가벗고 수영하고 있었는지 알 수 있다.', 'thumbnails': {'default': {'url': 'https://i.ytimg.com/vi/IuvUMAHr3dw/default.jpg', 'width': 120, 'height': 90}, 'medium': {'url': 'https://i.ytimg.com/vi/IuvUMAHr3dw/mqdefault.jpg', 'width': 320, 'height': 180}, 'high': {'url': 'https://i.ytimg.com/vi/IuvUMAHr3dw/hqdefault.jpg', 'width': 480, 'height': 360}}, 'channelTitle': '슈카월드', 'liveBroadcastContent': 'none', 'publishTime': '2022-10-15T09:49:58Z'}}\n",
      "{'kind': 'youtube#searchResult', 'etag': 'hsCSDgdGrAZg76A9RxxJufp7gVA', 'id': {'kind': 'youtube#video', 'videoId': 'JoQlVP40uPU'}, 'snippet': {'publishedAt': '2022-10-14T12:40:16Z', 'channelId': 'UCsJ6RuBiTVWRX156FVbeaGg', 'title': '손가락 뚜둑 소리는 왜 나는 것인가', 'description': '0:00 ~ 8:56 손가락 뚜둑 연구로 노벨상을 받은 선생님 8:56 ~ 17:45 현대 과학이 아직도 밝혀내지 못한 손가락 뚜둑 소리의 정체 ...', 'thumbnails': {'default': {'url': 'https://i.ytimg.com/vi/JoQlVP40uPU/default.jpg', 'width': 120, 'height': 90}, 'medium': {'url': 'https://i.ytimg.com/vi/JoQlVP40uPU/mqdefault.jpg', 'width': 320, 'height': 180}, 'high': {'url': 'https://i.ytimg.com/vi/JoQlVP40uPU/hqdefault.jpg', 'width': 480, 'height': 360}}, 'channelTitle': '슈카월드', 'liveBroadcastContent': 'none', 'publishTime': '2022-10-14T12:40:16Z'}}\n",
      "{'kind': 'youtube#searchResult', 'etag': 'PEYaWyd-SEpCAQU2_9qnLvNE2zc', 'id': {'kind': 'youtube#video', 'videoId': 'l1jomgzaHFA'}, 'snippet': {'publishedAt': '2022-10-13T10:01:43Z', 'channelId': 'UCsJ6RuBiTVWRX156FVbeaGg', 'title': '무엇이 친환경인가? 한국형 녹색기준 K-택소노미 [유료광고포함]', 'description': '0:00 ~ 10:24 어떤 경제활동이 친환경인가? 녹색분류체계 10:24 ~ 14:49 10만년간 봉인될 세계 유일의 고준위 방사성 폐기물 처분장 ...', 'thumbnails': {'default': {'url': 'https://i.ytimg.com/vi/l1jomgzaHFA/default.jpg', 'width': 120, 'height': 90}, 'medium': {'url': 'https://i.ytimg.com/vi/l1jomgzaHFA/mqdefault.jpg', 'width': 320, 'height': 180}, 'high': {'url': 'https://i.ytimg.com/vi/l1jomgzaHFA/hqdefault.jpg', 'width': 480, 'height': 360}}, 'channelTitle': '슈카월드', 'liveBroadcastContent': 'none', 'publishTime': '2022-10-13T10:01:43Z'}}\n",
      "{'kind': 'youtube#searchResult', 'etag': '4kO_RlLaSvVrSnMsywzVBzelV2o', 'id': {'kind': 'youtube#video', 'videoId': 'MCMBDWOeOfc'}, 'snippet': {'publishedAt': '2022-10-12T11:30:15Z', 'channelId': 'UCsJ6RuBiTVWRX156FVbeaGg', 'title': '사우디 원유 200만 배럴 전격 감산, 극대노한 미국', 'description': '0:00 ~ 22:08 OPEC+ 전격 원유 감산, 극대노한 바이든 행정부 22:08 ~ 27:55 이와중에 프로 어그로꾼 등장 어렵고 딱딱한 경제,시사, ...', 'thumbnails': {'default': {'url': 'https://i.ytimg.com/vi/MCMBDWOeOfc/default.jpg', 'width': 120, 'height': 90}, 'medium': {'url': 'https://i.ytimg.com/vi/MCMBDWOeOfc/mqdefault.jpg', 'width': 320, 'height': 180}, 'high': {'url': 'https://i.ytimg.com/vi/MCMBDWOeOfc/hqdefault.jpg', 'width': 480, 'height': 360}}, 'channelTitle': '슈카월드', 'liveBroadcastContent': 'none', 'publishTime': '2022-10-12T11:30:15Z'}}\n",
      "{'kind': 'youtube#searchResult', 'etag': 'OfdQ4-DWDdcSWxlnqpRlC_LLQ00', 'id': {'kind': 'youtube#video', 'videoId': 'tmiRP1YHyEU'}, 'snippet': {'publishedAt': '2022-10-10T12:15:50Z', 'channelId': 'UCsJ6RuBiTVWRX156FVbeaGg', 'title': '크레딧스위스 은행 파산 경고, 설마?', 'description': '0:00 ~ 8:07 은행계 역사상 첫 판결 사례 8:07 ~ 15:09 크레딧 스위스의 위험천만 사업모델 15:09 ~ 32:57 최대 42조원 규모의 슈퍼 ...', 'thumbnails': {'default': {'url': 'https://i.ytimg.com/vi/tmiRP1YHyEU/default.jpg', 'width': 120, 'height': 90}, 'medium': {'url': 'https://i.ytimg.com/vi/tmiRP1YHyEU/mqdefault.jpg', 'width': 320, 'height': 180}, 'high': {'url': 'https://i.ytimg.com/vi/tmiRP1YHyEU/hqdefault.jpg', 'width': 480, 'height': 360}}, 'channelTitle': '슈카월드', 'liveBroadcastContent': 'none', 'publishTime': '2022-10-10T12:15:50Z'}}\n",
      "{'kind': 'youtube#searchResult', 'etag': 'QBC-DjJrjDbr2TRED76DGwN0UO8', 'id': {'kind': 'youtube#video', 'videoId': 'tX2Oiw78Fyg'}, 'snippet': {'publishedAt': '2022-10-08T10:31:33Z', 'channelId': 'UCsJ6RuBiTVWRX156FVbeaGg', 'title': '비싸지는 학식, 높아지는 원성', 'description': '서울대는 2011년 국립대학법인을 신청해서, 정확하게 국립대는 아닙니다. 국립대학법인 서울대학교입니다. 0:00 ~ 21:29 대학교 학식 ...', 'thumbnails': {'default': {'url': 'https://i.ytimg.com/vi/tX2Oiw78Fyg/default.jpg', 'width': 120, 'height': 90}, 'medium': {'url': 'https://i.ytimg.com/vi/tX2Oiw78Fyg/mqdefault.jpg', 'width': 320, 'height': 180}, 'high': {'url': 'https://i.ytimg.com/vi/tX2Oiw78Fyg/hqdefault.jpg', 'width': 480, 'height': 360}}, 'channelTitle': '슈카월드', 'liveBroadcastContent': 'none', 'publishTime': '2022-10-08T10:31:33Z'}}\n",
      "{'kind': 'youtube#searchResult', 'etag': 'dyhtRml0aoxgmpwc4VYH_9j8_aI', 'id': {'kind': 'youtube#video', 'videoId': '9xfUodm4tj8'}, 'snippet': {'publishedAt': '2022-10-06T10:10:39Z', 'channelId': 'UCsJ6RuBiTVWRX156FVbeaGg', 'title': '이름 짓기 공모전, 역대 우승작으로 보는 필승법(?)', 'description': '어렵고 딱딱한 경제,시사,금융 이야기를 쉽고 유쾌하게 풀어내는 경제/시사/이슈/잡썰 토크방송입니다. #천하제일타자대회.', 'thumbnails': {'default': {'url': 'https://i.ytimg.com/vi/9xfUodm4tj8/default.jpg', 'width': 120, 'height': 90}, 'medium': {'url': 'https://i.ytimg.com/vi/9xfUodm4tj8/mqdefault.jpg', 'width': 320, 'height': 180}, 'high': {'url': 'https://i.ytimg.com/vi/9xfUodm4tj8/hqdefault.jpg', 'width': 480, 'height': 360}}, 'channelTitle': '슈카월드', 'liveBroadcastContent': 'none', 'publishTime': '2022-10-06T10:10:39Z'}}\n",
      "{'kind': 'youtube#searchResult', 'etag': 'KRX4WVoSWTnXr1_kTQxqY5ADmoo', 'id': {'kind': 'youtube#video', 'videoId': 'VL696LKF5d4'}, 'snippet': {'publishedAt': '2022-10-05T10:26:57Z', 'channelId': 'UCsJ6RuBiTVWRX156FVbeaGg', 'title': '아 제발.. 고조되는 러시아발 핵위협', 'description': '어렵고 딱딱한 경제,시사,금융 이야기를 쉽고 유쾌하게 풀어내는 경제/시사/이슈/잡썰 토크방송입니다 #미쳐가는그분.', 'thumbnails': {'default': {'url': 'https://i.ytimg.com/vi/VL696LKF5d4/default.jpg', 'width': 120, 'height': 90}, 'medium': {'url': 'https://i.ytimg.com/vi/VL696LKF5d4/mqdefault.jpg', 'width': 320, 'height': 180}, 'high': {'url': 'https://i.ytimg.com/vi/VL696LKF5d4/hqdefault.jpg', 'width': 480, 'height': 360}}, 'channelTitle': '슈카월드', 'liveBroadcastContent': 'none', 'publishTime': '2022-10-05T10:26:57Z'}}\n",
      "{'kind': 'youtube#searchResult', 'etag': 'O6UCydg94Nxwb_7BY4eiNWm6Fb8', 'id': {'kind': 'youtube#video', 'videoId': 'Xd9UOZyf8Rs'}, 'snippet': {'publishedAt': '2022-10-04T12:02:47Z', 'channelId': 'UCsJ6RuBiTVWRX156FVbeaGg', 'title': '영국발 리만 브라더스 공포', 'description': '0:00 ~ 5:44 어느덧 하락이 자연스러워진 주식 시장 5:44 ~ 21:07 깻잎 한 장 차이로 피한 영국발 금융 폭탄 21:07 ~ 33:58 2020년 이후 ...', 'thumbnails': {'default': {'url': 'https://i.ytimg.com/vi/Xd9UOZyf8Rs/default.jpg', 'width': 120, 'height': 90}, 'medium': {'url': 'https://i.ytimg.com/vi/Xd9UOZyf8Rs/mqdefault.jpg', 'width': 320, 'height': 180}, 'high': {'url': 'https://i.ytimg.com/vi/Xd9UOZyf8Rs/hqdefault.jpg', 'width': 480, 'height': 360}}, 'channelTitle': '슈카월드', 'liveBroadcastContent': 'none', 'publishTime': '2022-10-04T12:02:47Z'}}\n",
      "{'kind': 'youtube#searchResult', 'etag': 'eaRuHEQVGaxmeQsq05fvhFttOIk', 'id': {'kind': 'youtube#video', 'videoId': 'fZ1zJbuYTjA'}, 'snippet': {'publishedAt': '2022-10-03T09:31:02Z', 'channelId': 'UCsJ6RuBiTVWRX156FVbeaGg', 'title': '유럽 해저 가스관 폭파, 범인은 누구인가', 'description': '어렵고 딱딱한 경제,시사,금융 이야기를 쉽고 유쾌하게 풀어내는 경제/시사/이슈/잡썰 토크방송입니다. #누구긴누구야.', 'thumbnails': {'default': {'url': 'https://i.ytimg.com/vi/fZ1zJbuYTjA/default.jpg', 'width': 120, 'height': 90}, 'medium': {'url': 'https://i.ytimg.com/vi/fZ1zJbuYTjA/mqdefault.jpg', 'width': 320, 'height': 180}, 'high': {'url': 'https://i.ytimg.com/vi/fZ1zJbuYTjA/hqdefault.jpg', 'width': 480, 'height': 360}}, 'channelTitle': '슈카월드', 'liveBroadcastContent': 'none', 'publishTime': '2022-10-03T09:31:02Z'}}\n",
      "{'kind': 'youtube#searchResult', 'etag': '6xWZ-wer8VPZzRf3pnAz3ENOHsg', 'id': {'kind': 'youtube#video', 'videoId': '90Zji8Svnhg'}, 'snippet': {'publishedAt': '2022-09-30T11:58:02Z', 'channelId': 'UCsJ6RuBiTVWRX156FVbeaGg', 'title': '우리에게 자유를! 히잡으로 타오르는 이란', 'description': '0:00 ~ 12:04 이란 전방위로 확산되는 히잡 시위 12:04 ~ 19:45 이란 팔레비 왕조의 백색혁명, 그리고 이슬람 혁명 19:45 ~ 26:39 억압 ...', 'thumbnails': {'default': {'url': 'https://i.ytimg.com/vi/90Zji8Svnhg/default.jpg', 'width': 120, 'height': 90}, 'medium': {'url': 'https://i.ytimg.com/vi/90Zji8Svnhg/mqdefault.jpg', 'width': 320, 'height': 180}, 'high': {'url': 'https://i.ytimg.com/vi/90Zji8Svnhg/hqdefault.jpg', 'width': 480, 'height': 360}}, 'channelTitle': '슈카월드', 'liveBroadcastContent': 'none', 'publishTime': '2022-09-30T11:58:02Z'}}\n",
      "{'kind': 'youtube#searchResult', 'etag': '76Sue8hR1Ou0wWtrrLSx8BepKgM', 'id': {'kind': 'youtube#video', 'videoId': '42tbG7A7-Ns'}, 'snippet': {'publishedAt': '2022-09-29T10:59:02Z', 'channelId': 'UCsJ6RuBiTVWRX156FVbeaGg', 'title': '현실이 되고있는 망 사용료 이슈', 'description': \"트위치 화질 720p 제한 발표 이전 (9.25 일요일)에 만든 영상입니다. 0:00 ~ 11:38 '망 사용료'가 대체 뭐길래? 11:38 ~ 23:14 지금 ...\", 'thumbnails': {'default': {'url': 'https://i.ytimg.com/vi/42tbG7A7-Ns/default.jpg', 'width': 120, 'height': 90}, 'medium': {'url': 'https://i.ytimg.com/vi/42tbG7A7-Ns/mqdefault.jpg', 'width': 320, 'height': 180}, 'high': {'url': 'https://i.ytimg.com/vi/42tbG7A7-Ns/hqdefault.jpg', 'width': 480, 'height': 360}}, 'channelTitle': '슈카월드', 'liveBroadcastContent': 'none', 'publishTime': '2022-09-29T10:59:02Z'}}\n",
      "{'kind': 'youtube#searchResult', 'etag': 'PAFbugF8aVLeA07WEDrSwblIOAs', 'id': {'kind': 'youtube#video', 'videoId': '3wnxB0rBXeg'}, 'snippet': {'publishedAt': '2022-09-28T10:00:05Z', 'channelId': 'UCsJ6RuBiTVWRX156FVbeaGg', 'title': '기후변화 글로벌 조별과제, 무임승차를 막아라 [유료광고포함]', 'description': '기후솔루션의 유료 광고가 포함된 영상입니다. 0:00 ~ 9:18 더이상 먼 북극에 있는 곰의 문제가 아닌 기후 위기 9:18 ~ 17:56 기후 문제 ...', 'thumbnails': {'default': {'url': 'https://i.ytimg.com/vi/3wnxB0rBXeg/default.jpg', 'width': 120, 'height': 90}, 'medium': {'url': 'https://i.ytimg.com/vi/3wnxB0rBXeg/mqdefault.jpg', 'width': 320, 'height': 180}, 'high': {'url': 'https://i.ytimg.com/vi/3wnxB0rBXeg/hqdefault.jpg', 'width': 480, 'height': 360}}, 'channelTitle': '슈카월드', 'liveBroadcastContent': 'none', 'publishTime': '2022-09-28T10:00:05Z'}}\n",
      "{'kind': 'youtube#searchResult', 'etag': 'L3W3YQ0tY7m0KxV-QCjPzbOuUOI', 'id': {'kind': 'youtube#video', 'videoId': 'Cx_pIcj3-ks'}, 'snippet': {'publishedAt': '2022-09-26T13:51:10Z', 'channelId': 'UCsJ6RuBiTVWRX156FVbeaGg', 'title': '러시아 30만 예비군 동원령, 탈출하는 남성들', 'description': '0:00 ~ 7:01 침략이 방어로 바뀌는 놀라운 마법 7:01 ~ 15:49 UN안전보장 이사회 공석 발생(?) 호시탐탐 기회를 노리는 국가들 15:49 ...', 'thumbnails': {'default': {'url': 'https://i.ytimg.com/vi/Cx_pIcj3-ks/default.jpg', 'width': 120, 'height': 90}, 'medium': {'url': 'https://i.ytimg.com/vi/Cx_pIcj3-ks/mqdefault.jpg', 'width': 320, 'height': 180}, 'high': {'url': 'https://i.ytimg.com/vi/Cx_pIcj3-ks/hqdefault.jpg', 'width': 480, 'height': 360}}, 'channelTitle': '슈카월드', 'liveBroadcastContent': 'none', 'publishTime': '2022-09-26T13:51:10Z'}}\n",
      "{'kind': 'youtube#searchResult', 'etag': 'Ps1IvQ_EhNnz6BK3skHTV3eEN98', 'id': {'kind': 'youtube#video', 'videoId': 'v2a-eVJFVOc'}, 'snippet': {'publishedAt': '2022-09-23T11:27:51Z', 'channelId': 'UCsJ6RuBiTVWRX156FVbeaGg', 'title': '사라져가는 무작위 알몸 대면 문화, 대중 목욕탕', 'description': '0:00 ~ 7:09 코로나 직격탄을 맞은 \"무작위, 대중, 알몸, 대면, 사물공유\" 문화 7:09 ~ 13:54 선비의 나라에서 어떻게 이런 과감한 문화가 ...', 'thumbnails': {'default': {'url': 'https://i.ytimg.com/vi/v2a-eVJFVOc/default.jpg', 'width': 120, 'height': 90}, 'medium': {'url': 'https://i.ytimg.com/vi/v2a-eVJFVOc/mqdefault.jpg', 'width': 320, 'height': 180}, 'high': {'url': 'https://i.ytimg.com/vi/v2a-eVJFVOc/hqdefault.jpg', 'width': 480, 'height': 360}}, 'channelTitle': '슈카월드', 'liveBroadcastContent': 'none', 'publishTime': '2022-09-23T11:27:51Z'}}\n",
      "{'kind': 'youtube#searchResult', 'etag': 'a15OL61GTy5cH60LDotmS8sp61c', 'id': {'kind': 'youtube#video', 'videoId': 'VcEUvzjJVTA'}, 'snippet': {'publishedAt': '2022-09-22T11:40:14Z', 'channelId': 'UCsJ6RuBiTVWRX156FVbeaGg', 'title': '박쥐와 두더쥐는 쥐인가', 'description': \"0:00 ~ 11:31 박쥐는 쥐인가? 11:31 ~ 12:48 두더쥐는 쥐인가? 12:48 ~ 21:31 인간의 '확장된 짝짓기' 어렵고 딱딱한 경제,시사,금융 ...\", 'thumbnails': {'default': {'url': 'https://i.ytimg.com/vi/VcEUvzjJVTA/default.jpg', 'width': 120, 'height': 90}, 'medium': {'url': 'https://i.ytimg.com/vi/VcEUvzjJVTA/mqdefault.jpg', 'width': 320, 'height': 180}, 'high': {'url': 'https://i.ytimg.com/vi/VcEUvzjJVTA/hqdefault.jpg', 'width': 480, 'height': 360}}, 'channelTitle': '슈카월드', 'liveBroadcastContent': 'none', 'publishTime': '2022-09-22T11:40:14Z'}}\n",
      "{'kind': 'youtube#searchResult', 'etag': 'VfLkP1dKmbgDcLrToYexzrWyY4Q', 'id': {'kind': 'youtube#video', 'videoId': 'hWtfXtOMcWk'}, 'snippet': {'publishedAt': '2022-09-21T12:41:35Z', 'channelId': 'UCsJ6RuBiTVWRX156FVbeaGg', 'title': '러시아 힘의 공백과 북한의 큰소리', 'description': '0:00 ~ 12:18 러시아 힘의 공백, 혼란을 틈타 움직이는 주변국들 12:18 ~ 17:55 중국의 경고 : 색깔 혁명을 막아라 17:55 ~ 28:05 북한 ...', 'thumbnails': {'default': {'url': 'https://i.ytimg.com/vi/hWtfXtOMcWk/default.jpg', 'width': 120, 'height': 90}, 'medium': {'url': 'https://i.ytimg.com/vi/hWtfXtOMcWk/mqdefault.jpg', 'width': 320, 'height': 180}, 'high': {'url': 'https://i.ytimg.com/vi/hWtfXtOMcWk/hqdefault.jpg', 'width': 480, 'height': 360}}, 'channelTitle': '슈카월드', 'liveBroadcastContent': 'none', 'publishTime': '2022-09-21T12:41:35Z'}}\n",
      "{'kind': 'youtube#searchResult', 'etag': 'IebqSCWfPDnWc1Lck4-90Wh0iJA', 'id': {'kind': 'youtube#video', 'videoId': 'cRaq04fw1T8'}, 'snippet': {'publishedAt': '2022-09-20T10:33:44Z', 'channelId': 'UCsJ6RuBiTVWRX156FVbeaGg', 'title': '미국의 마약 전쟁과 중남미의 비극', 'description': '0:00 ~ 4:41 넷플릭스 수리남 흥행 4:41 ~ 12:33 1971년 미국 마약과의 전쟁이 부른 중남미의 비극 12:33 ~ 17:58 마약 합법화를 제안 ...', 'thumbnails': {'default': {'url': 'https://i.ytimg.com/vi/cRaq04fw1T8/default.jpg', 'width': 120, 'height': 90}, 'medium': {'url': 'https://i.ytimg.com/vi/cRaq04fw1T8/mqdefault.jpg', 'width': 320, 'height': 180}, 'high': {'url': 'https://i.ytimg.com/vi/cRaq04fw1T8/hqdefault.jpg', 'width': 480, 'height': 360}}, 'channelTitle': '슈카월드', 'liveBroadcastContent': 'none', 'publishTime': '2022-09-20T10:33:44Z'}}\n",
      "{'kind': 'youtube#searchResult', 'etag': 'faxIt5s3JZSMuqrHoCx_KloJNSA', 'id': {'kind': 'youtube#video', 'videoId': '6efVGSL0TvY'}, 'snippet': {'publishedAt': '2022-09-19T09:57:54Z', 'channelId': 'UCsJ6RuBiTVWRX156FVbeaGg', 'title': '눈 앞에 다가온 경기침체의 그림자', 'description': '0:00 ~ 5:53 지겨워도 물가쇼크 이야기를 해야 하는 이유 5:53 ~ 12:51 세계은행의 살벌한 경고 12:51 ~ 21:54 장중 1400원 찍은 환율 ...', 'thumbnails': {'default': {'url': 'https://i.ytimg.com/vi/6efVGSL0TvY/default.jpg', 'width': 120, 'height': 90}, 'medium': {'url': 'https://i.ytimg.com/vi/6efVGSL0TvY/mqdefault.jpg', 'width': 320, 'height': 180}, 'high': {'url': 'https://i.ytimg.com/vi/6efVGSL0TvY/hqdefault.jpg', 'width': 480, 'height': 360}}, 'channelTitle': '슈카월드', 'liveBroadcastContent': 'none', 'publishTime': '2022-09-19T09:57:54Z'}}\n",
      "{'kind': 'youtube#searchResult', 'etag': 'MY-PBGnoPbp-ZIYE2hcW9m3nhpc', 'id': {'kind': 'youtube#video', 'videoId': 'scVPplSHXFQ'}, 'snippet': {'publishedAt': '2022-09-16T12:52:27Z', 'channelId': 'UCsJ6RuBiTVWRX156FVbeaGg', 'title': '세계 최대 도난 물품 수령처 대영박물관', 'description': '0:00 ~ 15:04 건물과 경비원 빼면 영국것이 하나도 없다는 대영박물관 15:04 ~ 19:39 하필 고고학계 발굴 붐과 맞아 떨어져버린 시대 ...', 'thumbnails': {'default': {'url': 'https://i.ytimg.com/vi/scVPplSHXFQ/default.jpg', 'width': 120, 'height': 90}, 'medium': {'url': 'https://i.ytimg.com/vi/scVPplSHXFQ/mqdefault.jpg', 'width': 320, 'height': 180}, 'high': {'url': 'https://i.ytimg.com/vi/scVPplSHXFQ/hqdefault.jpg', 'width': 480, 'height': 360}}, 'channelTitle': '슈카월드', 'liveBroadcastContent': 'none', 'publishTime': '2022-09-16T12:52:27Z'}}\n",
      "{'kind': 'youtube#searchResult', 'etag': 'ptuqnC0727ZLmL_g9VS9pnOQSBw', 'id': {'kind': 'youtube#video', 'videoId': 'hYO6Nj8zldE'}, 'snippet': {'publishedAt': '2022-09-15T13:41:12Z', 'channelId': 'UCsJ6RuBiTVWRX156FVbeaGg', 'title': '개인이 세계 1위 우주 로켓 회사를 만들 수 있을까?', 'description': '0:00 ~ 17:25 스타링크의 실용화를 꿈꾸는 머스크 17:25 ~ 39:04 대체 어떻게 개인이 우주 로켓 기업을 설립할 수 있을까? 어렵고 ...', 'thumbnails': {'default': {'url': 'https://i.ytimg.com/vi/hYO6Nj8zldE/default.jpg', 'width': 120, 'height': 90}, 'medium': {'url': 'https://i.ytimg.com/vi/hYO6Nj8zldE/mqdefault.jpg', 'width': 320, 'height': 180}, 'high': {'url': 'https://i.ytimg.com/vi/hYO6Nj8zldE/hqdefault.jpg', 'width': 480, 'height': 360}}, 'channelTitle': '슈카월드', 'liveBroadcastContent': 'none', 'publishTime': '2022-09-15T13:41:12Z'}}\n",
      "{'kind': 'youtube#searchResult', 'etag': 'MwvibO64brbLpdT1zMRReW9b1LI', 'id': {'kind': 'youtube#video', 'videoId': 'D5CT6OrWXNk'}, 'snippet': {'publishedAt': '2022-09-14T11:14:36Z', 'channelId': 'UCsJ6RuBiTVWRX156FVbeaGg', 'title': '1달러가 1,400원? 정신 나갈 것 같은 환율과 경기침체 우려', 'description': '0:00 ~ 16:19 폭주하는 환율, 1391원 돌파 16:19 ~ 20:16 달러의 강세와 경기 침체 우려 20:16 ~ 29:22 중국이 아직도 제로 코로나 ...', 'thumbnails': {'default': {'url': 'https://i.ytimg.com/vi/D5CT6OrWXNk/default.jpg', 'width': 120, 'height': 90}, 'medium': {'url': 'https://i.ytimg.com/vi/D5CT6OrWXNk/mqdefault.jpg', 'width': 320, 'height': 180}, 'high': {'url': 'https://i.ytimg.com/vi/D5CT6OrWXNk/hqdefault.jpg', 'width': 480, 'height': 360}}, 'channelTitle': '슈카월드', 'liveBroadcastContent': 'none', 'publishTime': '2022-09-14T11:14:36Z'}}\n",
      "{'kind': 'youtube#searchResult', 'etag': 'eEu_S18jEU56k7kIkGtid1_g8ak', 'id': {'kind': 'youtube#video', 'videoId': '0q2U1Dgmpgg'}, 'snippet': {'publishedAt': '2022-09-13T10:15:38Z', 'channelId': 'UCsJ6RuBiTVWRX156FVbeaGg', 'title': '세계가 놀란 우크라이나의 반격', 'description': '0:00 ~ 5:05 예상치 못한 우크라이나의 반격 5:05 ~ 14:20 미국의 우크라이나 지원액 20조 원 돌파 어렵고 딱딱한 경제,시사,금융 ...', 'thumbnails': {'default': {'url': 'https://i.ytimg.com/vi/0q2U1Dgmpgg/default.jpg', 'width': 120, 'height': 90}, 'medium': {'url': 'https://i.ytimg.com/vi/0q2U1Dgmpgg/mqdefault.jpg', 'width': 320, 'height': 180}, 'high': {'url': 'https://i.ytimg.com/vi/0q2U1Dgmpgg/hqdefault.jpg', 'width': 480, 'height': 360}}, 'channelTitle': '슈카월드', 'liveBroadcastContent': 'none', 'publishTime': '2022-09-13T10:15:38Z'}}\n",
      "{'kind': 'youtube#searchResult', 'etag': 'cTj-K1V4lUSNTCr9bEE0_81ouBE', 'id': {'kind': 'youtube#video', 'videoId': 'W5iPSx8fSLc'}, 'snippet': {'publishedAt': '2022-09-12T10:42:32Z', 'channelId': 'UCsJ6RuBiTVWRX156FVbeaGg', 'title': '여왕의 시대가 지나가고, 왕(King)의 시대가 왔다.', 'description': '0:00 ~ 11:58 Queen의 시대가 가고 King의 시대가 온다 11:58 ~ 19:43 성물(Holy Relic)의 비밀 19:43 ~ 24:02 작전명 : 런던 브릿지 ...', 'thumbnails': {'default': {'url': 'https://i.ytimg.com/vi/W5iPSx8fSLc/default.jpg', 'width': 120, 'height': 90}, 'medium': {'url': 'https://i.ytimg.com/vi/W5iPSx8fSLc/mqdefault.jpg', 'width': 320, 'height': 180}, 'high': {'url': 'https://i.ytimg.com/vi/W5iPSx8fSLc/hqdefault.jpg', 'width': 480, 'height': 360}}, 'channelTitle': '슈카월드', 'liveBroadcastContent': 'none', 'publishTime': '2022-09-12T10:42:32Z'}}\n",
      "{'kind': 'youtube#searchResult', 'etag': 'uyj073JsTPun2unW8qe1iQ1SHys', 'id': {'kind': 'youtube#video', 'videoId': 'x_g2QfH3F3c'}, 'snippet': {'publishedAt': '2022-09-12T00:30:46Z', 'channelId': 'UCsJ6RuBiTVWRX156FVbeaGg', 'title': '(추석연휴특집영상3) 미국은 지금', 'description': '어렵고 딱딱한 경제,시사,금융 이야기를 쉽고 유쾌하게 풀어내는 경제/시사/이슈/잡썰 토크방송입니다.', 'thumbnails': {'default': {'url': 'https://i.ytimg.com/vi/x_g2QfH3F3c/default.jpg', 'width': 120, 'height': 90}, 'medium': {'url': 'https://i.ytimg.com/vi/x_g2QfH3F3c/mqdefault.jpg', 'width': 320, 'height': 180}, 'high': {'url': 'https://i.ytimg.com/vi/x_g2QfH3F3c/hqdefault.jpg', 'width': 480, 'height': 360}}, 'channelTitle': '슈카월드', 'liveBroadcastContent': 'none', 'publishTime': '2022-09-12T00:30:46Z'}}\n",
      "{'kind': 'youtube#searchResult', 'etag': 'JUuodtxnUwTZIoautaA1gHJ-k74', 'id': {'kind': 'youtube#video', 'videoId': 'XauScOPFR2I'}, 'snippet': {'publishedAt': '2022-09-10T01:00:14Z', 'channelId': 'UCsJ6RuBiTVWRX156FVbeaGg', 'title': '(추석연휴특집영상2) 러시아-우크라이나 정주행', 'description': '어렵고 딱딱한 경제,시사,금융 이야기를 쉽고 유쾌하게 풀어내는 경제/시사/이슈/잡썰 토크방송입니다.', 'thumbnails': {'default': {'url': 'https://i.ytimg.com/vi/XauScOPFR2I/default.jpg', 'width': 120, 'height': 90}, 'medium': {'url': 'https://i.ytimg.com/vi/XauScOPFR2I/mqdefault.jpg', 'width': 320, 'height': 180}, 'high': {'url': 'https://i.ytimg.com/vi/XauScOPFR2I/hqdefault.jpg', 'width': 480, 'height': 360}}, 'channelTitle': '슈카월드', 'liveBroadcastContent': 'none', 'publishTime': '2022-09-10T01:00:14Z'}}\n",
      "{'kind': 'youtube#searchResult', 'etag': 'dQQhocmTi_FZEDp_-9xVfzWHVB4', 'id': {'kind': 'youtube#video', 'videoId': 'pwmt-CQ10Mk'}, 'snippet': {'publishedAt': '2022-09-09T13:17:42Z', 'channelId': 'UCsJ6RuBiTVWRX156FVbeaGg', 'title': '전갈 집게는 다리가 아니다?', 'description': '어렵고 딱딱한 경제,시사,금융 이야기를 쉽고 유쾌하게 풀어내는 경제/시사/이슈/잡썰 토크방송입니다. #스콜피온 #스카너.', 'thumbnails': {'default': {'url': 'https://i.ytimg.com/vi/pwmt-CQ10Mk/default.jpg', 'width': 120, 'height': 90}, 'medium': {'url': 'https://i.ytimg.com/vi/pwmt-CQ10Mk/mqdefault.jpg', 'width': 320, 'height': 180}, 'high': {'url': 'https://i.ytimg.com/vi/pwmt-CQ10Mk/hqdefault.jpg', 'width': 480, 'height': 360}}, 'channelTitle': '슈카월드', 'liveBroadcastContent': 'none', 'publishTime': '2022-09-09T13:17:42Z'}}\n",
      "{'kind': 'youtube#searchResult', 'etag': 'k_gImsMo6hrpfU7uUUbejUlXHzc', 'id': {'kind': 'youtube#video', 'videoId': 'kHKlY7dfgkc'}, 'snippet': {'publishedAt': '2022-09-09T06:08:18Z', 'channelId': 'UCsJ6RuBiTVWRX156FVbeaGg', 'title': '(추석연휴특집영상) X는 Y인가? + 머스크형 씨리즈', 'description': '어렵고 딱딱한 경제,시사,금융 이야기를 쉽고 유쾌하게 풀어내는 경제/시사/이슈/잡썰 토크방송입니다. #한가위특선시리즈1.', 'thumbnails': {'default': {'url': 'https://i.ytimg.com/vi/kHKlY7dfgkc/default.jpg', 'width': 120, 'height': 90}, 'medium': {'url': 'https://i.ytimg.com/vi/kHKlY7dfgkc/mqdefault.jpg', 'width': 320, 'height': 180}, 'high': {'url': 'https://i.ytimg.com/vi/kHKlY7dfgkc/hqdefault.jpg', 'width': 480, 'height': 360}}, 'channelTitle': '슈카월드', 'liveBroadcastContent': 'none', 'publishTime': '2022-09-09T06:08:18Z'}}\n",
      "{'kind': 'youtube#searchResult', 'etag': '-mcMXAtZKdqvDkEXThYw75OEXl0', 'id': {'kind': 'youtube#video', 'videoId': 'kf_NLe9lXVs'}, 'snippet': {'publishedAt': '2022-09-08T09:50:34Z', 'channelId': 'UCsJ6RuBiTVWRX156FVbeaGg', 'title': '반복되는 러시아 재벌 의문사', 'description': '0:00 ~ 6:44 자꾸만 발코니에서 미끄러지는 러시아 석유 재벌들 6:44 ~ 14:08 발코니가 미끄러운 이유 14:08 ~ 17:28 가만히 있지 않는 ...', 'thumbnails': {'default': {'url': 'https://i.ytimg.com/vi/kf_NLe9lXVs/default.jpg', 'width': 120, 'height': 90}, 'medium': {'url': 'https://i.ytimg.com/vi/kf_NLe9lXVs/mqdefault.jpg', 'width': 320, 'height': 180}, 'high': {'url': 'https://i.ytimg.com/vi/kf_NLe9lXVs/hqdefault.jpg', 'width': 480, 'height': 360}}, 'channelTitle': '슈카월드', 'liveBroadcastContent': 'none', 'publishTime': '2022-09-08T09:50:34Z'}}\n",
      "{'kind': 'youtube#searchResult', 'etag': 'N2l3a-Gzm7ILSkcgK7FZ5X3zbyc', 'id': {'kind': 'youtube#video', 'videoId': 'NMzo2bao3gM'}, 'snippet': {'publishedAt': '2022-09-07T11:08:21Z', 'channelId': 'UCsJ6RuBiTVWRX156FVbeaGg', 'title': '새로 짓는 서울시 쓰레기 소각장은 어디로?', 'description': '0:00 ~ 7:49 서울시 새 쓰레기 소각장 추가 건설 결정 7:49 ~ 13:21 난지도의 추억과 후보지들의 반발 13:21 ~ 23:05 소각장보다 더 큰 ...', 'thumbnails': {'default': {'url': 'https://i.ytimg.com/vi/NMzo2bao3gM/default.jpg', 'width': 120, 'height': 90}, 'medium': {'url': 'https://i.ytimg.com/vi/NMzo2bao3gM/mqdefault.jpg', 'width': 320, 'height': 180}, 'high': {'url': 'https://i.ytimg.com/vi/NMzo2bao3gM/hqdefault.jpg', 'width': 480, 'height': 360}}, 'channelTitle': '슈카월드', 'liveBroadcastContent': 'none', 'publishTime': '2022-09-07T11:08:21Z'}}\n",
      "{'kind': 'youtube#searchResult', 'etag': 'm2FR-NmEA5agrzOQDiHaKCjUaxg', 'id': {'kind': 'youtube#video', 'videoId': 'dFTTMnL6bQA'}, 'snippet': {'publishedAt': '2022-09-06T11:51:11Z', 'channelId': 'UCsJ6RuBiTVWRX156FVbeaGg', 'title': '판교에 마차시위? 폭발하는 게이머들의 불만', 'description': '0:00 ~ 11:05 판교에 등장한 초유의 마차 시위 11:05 ~ 17:52 게이머로서 K-게임에 대한 개인적인 생각 어렵고 딱딱한 경제,시사,금융 ...', 'thumbnails': {'default': {'url': 'https://i.ytimg.com/vi/dFTTMnL6bQA/default.jpg', 'width': 120, 'height': 90}, 'medium': {'url': 'https://i.ytimg.com/vi/dFTTMnL6bQA/mqdefault.jpg', 'width': 320, 'height': 180}, 'high': {'url': 'https://i.ytimg.com/vi/dFTTMnL6bQA/hqdefault.jpg', 'width': 480, 'height': 360}}, 'channelTitle': '슈카월드', 'liveBroadcastContent': 'none', 'publishTime': '2022-09-06T11:51:11Z'}}\n",
      "{'kind': 'youtube#searchResult', 'etag': '0MDaeYXt9l65fdIx0CN3j9w3Pkk', 'id': {'kind': 'youtube#video', 'videoId': 'n8liH_pW0Mc'}, 'snippet': {'publishedAt': '2022-09-05T10:19:52Z', 'channelId': 'UCsJ6RuBiTVWRX156FVbeaGg', 'title': '힌남노, 슈퍼태풍의 위협', 'description': '0:00 ~ 6:17 한국 상륙 후 북상중인 힌남노 6:17 ~ 12:35 태풍 매미의 기억과 태풍의 원리 12:35 ~ 19:42 허리케인, 토네이도는 태풍과 ...', 'thumbnails': {'default': {'url': 'https://i.ytimg.com/vi/n8liH_pW0Mc/default.jpg', 'width': 120, 'height': 90}, 'medium': {'url': 'https://i.ytimg.com/vi/n8liH_pW0Mc/mqdefault.jpg', 'width': 320, 'height': 180}, 'high': {'url': 'https://i.ytimg.com/vi/n8liH_pW0Mc/hqdefault.jpg', 'width': 480, 'height': 360}}, 'channelTitle': '슈카월드', 'liveBroadcastContent': 'none', 'publishTime': '2022-09-05T10:19:52Z'}}\n",
      "{'kind': 'youtube#searchResult', 'etag': 'HeyQ0ACj6cF6hk-xO42vzkx77fw', 'id': {'kind': 'youtube#video', 'videoId': 'fyq07UZgNsY'}, 'snippet': {'publishedAt': '2022-09-02T12:00:47Z', 'channelId': 'UCsJ6RuBiTVWRX156FVbeaGg', 'title': '2억 마리 토끼 토벌 작전', 'description': '0:00 ~ 12:44 패배 직전인 호주 토끼 전쟁 12:44 ~ 22:47 머신건이 난무하는 에뮤와의 전쟁 (Emu War) 22:47 ~ 26:35 낙타 천국 호주 ...', 'thumbnails': {'default': {'url': 'https://i.ytimg.com/vi/fyq07UZgNsY/default.jpg', 'width': 120, 'height': 90}, 'medium': {'url': 'https://i.ytimg.com/vi/fyq07UZgNsY/mqdefault.jpg', 'width': 320, 'height': 180}, 'high': {'url': 'https://i.ytimg.com/vi/fyq07UZgNsY/hqdefault.jpg', 'width': 480, 'height': 360}}, 'channelTitle': '슈카월드', 'liveBroadcastContent': 'none', 'publishTime': '2022-09-02T12:00:47Z'}}\n",
      "{'kind': 'youtube#searchResult', 'etag': 'edMpN7lOdFJn2QoozziMSW_rHEo', 'id': {'kind': 'youtube#video', 'videoId': 'J6nyBC9ctxs'}, 'snippet': {'publishedAt': '2022-09-01T10:47:37Z', 'channelId': 'UCsJ6RuBiTVWRX156FVbeaGg', 'title': '점점 매워지는 연애 예능', 'description': '어렵고 딱딱한 경제,시사,금융 이야기를 쉽고 유쾌하게 풀어내는 경제/시사/이슈/잡썰 토크방송입니다. #사랑의스튜디오.', 'thumbnails': {'default': {'url': 'https://i.ytimg.com/vi/J6nyBC9ctxs/default.jpg', 'width': 120, 'height': 90}, 'medium': {'url': 'https://i.ytimg.com/vi/J6nyBC9ctxs/mqdefault.jpg', 'width': 320, 'height': 180}, 'high': {'url': 'https://i.ytimg.com/vi/J6nyBC9ctxs/hqdefault.jpg', 'width': 480, 'height': 360}}, 'channelTitle': '슈카월드', 'liveBroadcastContent': 'none', 'publishTime': '2022-09-01T10:47:37Z'}}\n",
      "{'kind': 'youtube#searchResult', 'etag': 'm7gYkVCUy36BtZrD05Q84nhw9h8', 'id': {'kind': 'youtube#video', 'videoId': 'b7skmwFbC-E'}, 'snippet': {'publishedAt': '2022-08-31T11:13:48Z', 'channelId': 'UCsJ6RuBiTVWRX156FVbeaGg', 'title': '극단적으로 쏠리는 유럽 정치 상황', 'description': '0:00 ~ 16:51 이탈리아 극우 성향 유력 차기 총리 등장 16:51 ~ 21:28 유럽 전체가 비슷한 모습을 보이는 오늘날 어렵고 딱딱한 경제, ...', 'thumbnails': {'default': {'url': 'https://i.ytimg.com/vi/b7skmwFbC-E/default.jpg', 'width': 120, 'height': 90}, 'medium': {'url': 'https://i.ytimg.com/vi/b7skmwFbC-E/mqdefault.jpg', 'width': 320, 'height': 180}, 'high': {'url': 'https://i.ytimg.com/vi/b7skmwFbC-E/hqdefault.jpg', 'width': 480, 'height': 360}}, 'channelTitle': '슈카월드', 'liveBroadcastContent': 'none', 'publishTime': '2022-08-31T11:13:48Z'}}\n",
      "{'kind': 'youtube#searchResult', 'etag': 'hPFr1kJnvR4NSIX1YLLBGmD_QNE', 'id': {'kind': 'youtube#video', 'videoId': 'D1WmehsSXho'}, 'snippet': {'publishedAt': '2022-08-30T11:00:40Z', 'channelId': 'UCsJ6RuBiTVWRX156FVbeaGg', 'title': '왜 대한민국만 이 모양인가', 'description': '0:00 ~ 21:14 대한민국 출산율 0.75 달성, 타노스는 틀렸다. 21:14 ~ 35:23 대체 어떤 전략을 가지고 있는가? 전략이 있기는 한가?', 'thumbnails': {'default': {'url': 'https://i.ytimg.com/vi/D1WmehsSXho/default.jpg', 'width': 120, 'height': 90}, 'medium': {'url': 'https://i.ytimg.com/vi/D1WmehsSXho/mqdefault.jpg', 'width': 320, 'height': 180}, 'high': {'url': 'https://i.ytimg.com/vi/D1WmehsSXho/hqdefault.jpg', 'width': 480, 'height': 360}}, 'channelTitle': '슈카월드', 'liveBroadcastContent': 'none', 'publishTime': '2022-08-30T11:00:40Z'}}\n",
      "{'kind': 'youtube#searchResult', 'etag': 'yO1WLjcFyIW6LhizpInaHd8vP-Q', 'id': {'kind': 'youtube#video', 'videoId': 'bQwgqIaj9hU'}, 'snippet': {'publishedAt': '2022-08-29T11:47:00Z', 'channelId': 'UCsJ6RuBiTVWRX156FVbeaGg', 'title': '살벌한 중앙은행 총재의 경고', 'description': '0:00 ~ 5:31 美연준의장의 단호한 예고 5:31 ~ 11:54 韓중앙은행 총재의 살벌한 경고 11:54 ~ 19:51 신문 경제면을 휩쓸고 있는 ...', 'thumbnails': {'default': {'url': 'https://i.ytimg.com/vi/bQwgqIaj9hU/default.jpg', 'width': 120, 'height': 90}, 'medium': {'url': 'https://i.ytimg.com/vi/bQwgqIaj9hU/mqdefault.jpg', 'width': 320, 'height': 180}, 'high': {'url': 'https://i.ytimg.com/vi/bQwgqIaj9hU/hqdefault.jpg', 'width': 480, 'height': 360}}, 'channelTitle': '슈카월드', 'liveBroadcastContent': 'none', 'publishTime': '2022-08-29T11:47:00Z'}}\n",
      "{'kind': 'youtube#searchResult', 'etag': 'SxMYOtMW9pCAvlK1a3LtUgu8q58', 'id': {'kind': 'youtube#video', 'videoId': 'UZttUEqcGbQ'}, 'snippet': {'publishedAt': '2022-08-27T11:37:02Z', 'channelId': 'UCsJ6RuBiTVWRX156FVbeaGg', 'title': '카페인이 필요한 사람들', 'description': '0:00 ~ 9:24 우리는 하루에 얼마나 많은 카페인을 섭취하고 있을까 9:24 ~ 16:21 타우린의 전설 어렵고 딱딱한 경제,시사,금융 이야기 ...', 'thumbnails': {'default': {'url': 'https://i.ytimg.com/vi/UZttUEqcGbQ/default.jpg', 'width': 120, 'height': 90}, 'medium': {'url': 'https://i.ytimg.com/vi/UZttUEqcGbQ/mqdefault.jpg', 'width': 320, 'height': 180}, 'high': {'url': 'https://i.ytimg.com/vi/UZttUEqcGbQ/hqdefault.jpg', 'width': 480, 'height': 360}}, 'channelTitle': '슈카월드', 'liveBroadcastContent': 'none', 'publishTime': '2022-08-27T11:37:02Z'}}\n",
      "{'kind': 'youtube#searchResult', 'etag': '-Mcuz9VVncKwrwFmJZcAcQPFyj0', 'id': {'kind': 'youtube#video', 'videoId': 'yRNMYp6E5pY'}, 'snippet': {'publishedAt': '2022-08-26T11:43:09Z', 'channelId': 'UCsJ6RuBiTVWRX156FVbeaGg', 'title': '심각해지는 인력난, 사람이 부족한 사회', 'description': '0:00 ~ 7:07 물이 들어왔는데 노를 젓지 못하는 조선업계 7:07 ~ 12:54 자유경쟁 시장의 시대와 보수 상승 12:54 ~ 19:22 우리나라의 ...', 'thumbnails': {'default': {'url': 'https://i.ytimg.com/vi/yRNMYp6E5pY/default.jpg', 'width': 120, 'height': 90}, 'medium': {'url': 'https://i.ytimg.com/vi/yRNMYp6E5pY/mqdefault.jpg', 'width': 320, 'height': 180}, 'high': {'url': 'https://i.ytimg.com/vi/yRNMYp6E5pY/hqdefault.jpg', 'width': 480, 'height': 360}}, 'channelTitle': '슈카월드', 'liveBroadcastContent': 'none', 'publishTime': '2022-08-26T11:43:09Z'}}\n",
      "{'kind': 'youtube#searchResult', 'etag': 'RPtLRFNAcAtM7kYTIbo4Xn6b0J0', 'id': {'kind': 'youtube#video', 'videoId': 'aFdhUm-1Svk'}, 'snippet': {'publishedAt': '2022-08-25T10:00:33Z', 'channelId': 'UCsJ6RuBiTVWRX156FVbeaGg', 'title': '면접 수당을 드립니다! 2022 경기도 청년면접수당 제도 [유료광고포함]', 'description': '경기도 일자리재단의 유료 광고가 포함되어 있습니다. 어렵고 딱딱한 경제,시사,금융 이야기를 쉽고 유쾌하게 풀어내는 경제/시사/ ...', 'thumbnails': {'default': {'url': 'https://i.ytimg.com/vi/aFdhUm-1Svk/default.jpg', 'width': 120, 'height': 90}, 'medium': {'url': 'https://i.ytimg.com/vi/aFdhUm-1Svk/mqdefault.jpg', 'width': 320, 'height': 180}, 'high': {'url': 'https://i.ytimg.com/vi/aFdhUm-1Svk/hqdefault.jpg', 'width': 480, 'height': 360}}, 'channelTitle': '슈카월드', 'liveBroadcastContent': 'none', 'publishTime': '2022-08-25T10:00:33Z'}}\n",
      "{'kind': 'youtube#searchResult', 'etag': '1yCMwfCRiRMNleOXIuJnMMW7AQQ', 'id': {'kind': 'youtube#video', 'videoId': 'pEfaUukbIPY'}, 'snippet': {'publishedAt': '2022-08-24T11:06:21Z', 'channelId': 'UCsJ6RuBiTVWRX156FVbeaGg', 'title': '또다시 확산되는 코로나, 글로벌 2위 달성', 'description': '0:00 ~ 4:37 대한민국 확진자 글로벌 2위 4:37 ~ 10:36 코로나와 비슷한 사례 : 매독(Syphilis)의 확산 10:36 ~ 16:53 화이자 CEO도 ...', 'thumbnails': {'default': {'url': 'https://i.ytimg.com/vi/pEfaUukbIPY/default.jpg', 'width': 120, 'height': 90}, 'medium': {'url': 'https://i.ytimg.com/vi/pEfaUukbIPY/mqdefault.jpg', 'width': 320, 'height': 180}, 'high': {'url': 'https://i.ytimg.com/vi/pEfaUukbIPY/hqdefault.jpg', 'width': 480, 'height': 360}}, 'channelTitle': '슈카월드', 'liveBroadcastContent': 'none', 'publishTime': '2022-08-24T11:06:21Z'}}\n",
      "{'kind': 'youtube#searchResult', 'etag': 'fb6c59B8PJxCao_tnHM7ebudlKs', 'id': {'kind': 'youtube#video', 'videoId': 'ypP4FgztjLI'}, 'snippet': {'publishedAt': '2022-08-23T11:18:54Z', 'channelId': 'UCsJ6RuBiTVWRX156FVbeaGg', 'title': 'FBI 트럼프 前대통령 전격 압수수색', 'description': \"0:00 ~ 15:07 트럼프 수색 사유 '심상치 않은 국가 안보 위협?' 15:07 ~ 23:14 리처드 닉슨 워터게이트의 추억 23:14 ~ 25:47 워싱턴 ...\", 'thumbnails': {'default': {'url': 'https://i.ytimg.com/vi/ypP4FgztjLI/default.jpg', 'width': 120, 'height': 90}, 'medium': {'url': 'https://i.ytimg.com/vi/ypP4FgztjLI/mqdefault.jpg', 'width': 320, 'height': 180}, 'high': {'url': 'https://i.ytimg.com/vi/ypP4FgztjLI/hqdefault.jpg', 'width': 480, 'height': 360}}, 'channelTitle': '슈카월드', 'liveBroadcastContent': 'none', 'publishTime': '2022-08-23T11:18:54Z'}}\n",
      "{'kind': 'youtube#searchResult', 'etag': 'Mv03rAoKcLGWHdbGPt62BP9kJq0', 'id': {'kind': 'youtube#video', 'videoId': 'RGLvq6PNXGo'}, 'snippet': {'publishedAt': '2022-08-22T11:51:22Z', 'channelId': 'UCsJ6RuBiTVWRX156FVbeaGg', 'title': '화려했던 비전펀드 창사 이래 최대 적자', 'description': '0:00 ~ 7:34 S&P는 신인가? 아직 덜 회복한 코스피(희망) 7:34 ~ 12:27 Hawkish 한 FOMC 의사록 12:27 ~ 26:58 눈물의 손정의 회장 ...', 'thumbnails': {'default': {'url': 'https://i.ytimg.com/vi/RGLvq6PNXGo/default.jpg', 'width': 120, 'height': 90}, 'medium': {'url': 'https://i.ytimg.com/vi/RGLvq6PNXGo/mqdefault.jpg', 'width': 320, 'height': 180}, 'high': {'url': 'https://i.ytimg.com/vi/RGLvq6PNXGo/hqdefault.jpg', 'width': 480, 'height': 360}}, 'channelTitle': '슈카월드', 'liveBroadcastContent': 'none', 'publishTime': '2022-08-22T11:51:22Z'}}\n",
      "{'kind': 'youtube#searchResult', 'etag': 'N2k9ExRwcp4fZlFnUznTZATHrjg', 'id': {'kind': 'youtube#video', 'videoId': 'meChZCPTakk'}, 'snippet': {'publishedAt': '2022-08-20T13:56:02Z', 'channelId': 'UCsJ6RuBiTVWRX156FVbeaGg', 'title': '빌라 1200채? 오르면 내꺼, 내리면 니꺼 전세사기', 'description': '0:00 ~ 9:44 아니 그걸 왜 속지? 9:44 ~ 20:49 오르면 내꺼, 빠지면 니꺼 어렵고 딱딱한 경제,시사,금융 이야기를 쉽고 유쾌하게 풀어 ...', 'thumbnails': {'default': {'url': 'https://i.ytimg.com/vi/meChZCPTakk/default.jpg', 'width': 120, 'height': 90}, 'medium': {'url': 'https://i.ytimg.com/vi/meChZCPTakk/mqdefault.jpg', 'width': 320, 'height': 180}, 'high': {'url': 'https://i.ytimg.com/vi/meChZCPTakk/hqdefault.jpg', 'width': 480, 'height': 360}}, 'channelTitle': '슈카월드', 'liveBroadcastContent': 'none', 'publishTime': '2022-08-20T13:56:02Z'}}\n",
      "{'kind': 'youtube#searchResult', 'etag': 'L0Zk-47eyVgIP5fgSJK-Nfq-Uzo', 'id': {'kind': 'youtube#video', 'videoId': 'vcr0nzDbHyE'}, 'snippet': {'publishedAt': '2022-08-19T11:40:24Z', 'channelId': 'UCsJ6RuBiTVWRX156FVbeaGg', 'title': '조폭 두목이 최고 권력자? 아이티의 참담한 오늘', 'description': '0:00 ~ 11:54 충격적인 아이티 대통령 암살 11:54 ~ 16:59 아이티의 어제와 오늘 16:59 ~ 24:03 미국의 51번째 주 편입 유력 후보?', 'thumbnails': {'default': {'url': 'https://i.ytimg.com/vi/vcr0nzDbHyE/default.jpg', 'width': 120, 'height': 90}, 'medium': {'url': 'https://i.ytimg.com/vi/vcr0nzDbHyE/mqdefault.jpg', 'width': 320, 'height': 180}, 'high': {'url': 'https://i.ytimg.com/vi/vcr0nzDbHyE/hqdefault.jpg', 'width': 480, 'height': 360}}, 'channelTitle': '슈카월드', 'liveBroadcastContent': 'none', 'publishTime': '2022-08-19T11:40:24Z'}}\n",
      "{'kind': 'youtube#searchResult', 'etag': '0PnVRLBdvkxTOkvGWi0MSiCZ_5k', 'id': {'kind': 'youtube#video', 'videoId': 'uuMELilKVD8'}, 'snippet': {'publishedAt': '2022-08-18T10:00:37Z', 'channelId': 'UCsJ6RuBiTVWRX156FVbeaGg', 'title': '상하차는 로봇으로 안되나요? 이제 물류는 기술이다 [유료 광고 포함]', 'description': \"CJ대한통운의 유료광고가 포함된 영상입니다. 0:00 ~ 8:05 스타트업과 이커머스의 최대 고민 '풀필먼트'와 CJ대한통운 8:05 ~ 14:07 ...\", 'thumbnails': {'default': {'url': 'https://i.ytimg.com/vi/uuMELilKVD8/default.jpg', 'width': 120, 'height': 90}, 'medium': {'url': 'https://i.ytimg.com/vi/uuMELilKVD8/mqdefault.jpg', 'width': 320, 'height': 180}, 'high': {'url': 'https://i.ytimg.com/vi/uuMELilKVD8/hqdefault.jpg', 'width': 480, 'height': 360}}, 'channelTitle': '슈카월드', 'liveBroadcastContent': 'none', 'publishTime': '2022-08-18T10:00:37Z'}}\n"
     ]
    },
    {
     "name": "stdout",
     "output_type": "stream",
     "text": [
      "{'kind': 'youtube#searchResult', 'etag': 'toLYE0uSE2PcVNNVTfOQ8BDa1JE', 'id': {'kind': 'youtube#video', 'videoId': '7zWd_8FF5JU'}, 'snippet': {'publishedAt': '2022-08-17T12:50:39Z', 'channelId': 'UCsJ6RuBiTVWRX156FVbeaGg', 'title': '다시 불타오르는 외고 폐지논쟁', 'description': '0:00 ~ 18:02 불거지는 외고 폐지 논쟁과 전설의 무즙 파동 18:02 ~ 32:04 아직도 진행중인 고교평준화 어렵고 딱딱한 경제,시사,금융 ...', 'thumbnails': {'default': {'url': 'https://i.ytimg.com/vi/7zWd_8FF5JU/default.jpg', 'width': 120, 'height': 90}, 'medium': {'url': 'https://i.ytimg.com/vi/7zWd_8FF5JU/mqdefault.jpg', 'width': 320, 'height': 180}, 'high': {'url': 'https://i.ytimg.com/vi/7zWd_8FF5JU/hqdefault.jpg', 'width': 480, 'height': 360}}, 'channelTitle': '슈카월드', 'liveBroadcastContent': 'none', 'publishTime': '2022-08-17T12:50:39Z'}}\n",
      "{'kind': 'youtube#searchResult', 'etag': 'x7Uz-XJSgs9-QvK7xtHj8k1swtM', 'id': {'kind': 'youtube#video', 'videoId': 'KVuOY7KPcGg'}, 'snippet': {'publishedAt': '2022-08-16T11:11:58Z', 'channelId': 'UCsJ6RuBiTVWRX156FVbeaGg', 'title': '1,000조 짜리 미국 인플레이션 감축 법안 통과', 'description': '0:00 ~ 15:28 인플레이션 감축 법안은 무엇인가 15:28 ~ 21:06 바이든 반도체법 서명 어렵고 딱딱한 경제,시사,금융 이야기를 쉽고 ...', 'thumbnails': {'default': {'url': 'https://i.ytimg.com/vi/KVuOY7KPcGg/default.jpg', 'width': 120, 'height': 90}, 'medium': {'url': 'https://i.ytimg.com/vi/KVuOY7KPcGg/mqdefault.jpg', 'width': 320, 'height': 180}, 'high': {'url': 'https://i.ytimg.com/vi/KVuOY7KPcGg/hqdefault.jpg', 'width': 480, 'height': 360}}, 'channelTitle': '슈카월드', 'liveBroadcastContent': 'none', 'publishTime': '2022-08-16T11:11:58Z'}}\n",
      "{'kind': 'youtube#searchResult', 'etag': 'Ua4bxLddFag8ToPRbVyzbJfvmBQ', 'id': {'kind': 'youtube#video', 'videoId': 'd_2owomYMfU'}, 'snippet': {'publishedAt': '2022-08-15T11:19:47Z', 'channelId': 'UCsJ6RuBiTVWRX156FVbeaGg', 'title': '강남 물난리, 1회성인가? 반복될 것인가?', 'description': '0:00 ~ 8:50 100년 만의 대기록 폭우와 강남 일대 침수 8:50 ~ 19:05 우리는 기후변화를 과소평과 해 온 것은 아닌가 어렵고 딱딱한 ...', 'thumbnails': {'default': {'url': 'https://i.ytimg.com/vi/d_2owomYMfU/default.jpg', 'width': 120, 'height': 90}, 'medium': {'url': 'https://i.ytimg.com/vi/d_2owomYMfU/mqdefault.jpg', 'width': 320, 'height': 180}, 'high': {'url': 'https://i.ytimg.com/vi/d_2owomYMfU/hqdefault.jpg', 'width': 480, 'height': 360}}, 'channelTitle': '슈카월드', 'liveBroadcastContent': 'none', 'publishTime': '2022-08-15T11:19:47Z'}}\n",
      "{'kind': 'youtube#searchResult', 'etag': '2d3gea8kLxAkkQJ94YKlK-pq-J4', 'id': {'kind': 'youtube#video', 'videoId': 'l8Fqu995iVg'}, 'snippet': {'publishedAt': '2022-08-12T13:31:03Z', 'channelId': 'UCsJ6RuBiTVWRX156FVbeaGg', 'title': '왜 미국만 이상한 단위를 사용할까', 'description': '어렵고 딱딱한 경제,시사,금융 이야기를 쉽고 유쾌하게 풀어내는 경제/시사/이슈/잡썰 토크방송입니다. #미터법쓰세요제발.', 'thumbnails': {'default': {'url': 'https://i.ytimg.com/vi/l8Fqu995iVg/default.jpg', 'width': 120, 'height': 90}, 'medium': {'url': 'https://i.ytimg.com/vi/l8Fqu995iVg/mqdefault.jpg', 'width': 320, 'height': 180}, 'high': {'url': 'https://i.ytimg.com/vi/l8Fqu995iVg/hqdefault.jpg', 'width': 480, 'height': 360}}, 'channelTitle': '슈카월드', 'liveBroadcastContent': 'none', 'publishTime': '2022-08-12T13:31:03Z'}}\n",
      "{'kind': 'youtube#searchResult', 'etag': 'ta01R_adr_RjSOqia729TRPvFxc', 'id': {'kind': 'youtube#video', 'videoId': 'HY4B0tuJFXA'}, 'snippet': {'publishedAt': '2022-08-11T11:44:52Z', 'channelId': 'UCsJ6RuBiTVWRX156FVbeaGg', 'title': '가라앉는 도시 자카르타, 인도네시아의 수도이전 프로젝트', 'description': '0:00 ~ 8:55 세계에서 가장 빨리 가라앉고 있는 도시 자카르타 8:55 ~ 18:11 인도네시아가 도입한 킹한민국의 K-City가 간다 어렵고 ...', 'thumbnails': {'default': {'url': 'https://i.ytimg.com/vi/HY4B0tuJFXA/default.jpg', 'width': 120, 'height': 90}, 'medium': {'url': 'https://i.ytimg.com/vi/HY4B0tuJFXA/mqdefault.jpg', 'width': 320, 'height': 180}, 'high': {'url': 'https://i.ytimg.com/vi/HY4B0tuJFXA/hqdefault.jpg', 'width': 480, 'height': 360}}, 'channelTitle': '슈카월드', 'liveBroadcastContent': 'none', 'publishTime': '2022-08-11T11:44:52Z'}}\n",
      "{'kind': 'youtube#searchResult', 'etag': 'S0O9nHPccv00e1i3ngkAH_4xL_o', 'id': {'kind': 'youtube#video', 'videoId': 'ZBNCG3Sbgag'}, 'snippet': {'publishedAt': '2022-08-09T10:35:14Z', 'channelId': 'UCsJ6RuBiTVWRX156FVbeaGg', 'title': '치킨 한마리에 7,000원? 당당치킨 신드롬', 'description': '0:00 ~ 13:07 시작된 \"치킨게임\" 13:07~17:45 심화되는 인플레이션과 가격 저항 어렵고 딱딱한 경제,시사,금융 이야기를 쉽고 유쾌 ...', 'thumbnails': {'default': {'url': 'https://i.ytimg.com/vi/ZBNCG3Sbgag/default.jpg', 'width': 120, 'height': 90}, 'medium': {'url': 'https://i.ytimg.com/vi/ZBNCG3Sbgag/mqdefault.jpg', 'width': 320, 'height': 180}, 'high': {'url': 'https://i.ytimg.com/vi/ZBNCG3Sbgag/hqdefault.jpg', 'width': 480, 'height': 360}}, 'channelTitle': '슈카월드', 'liveBroadcastContent': 'none', 'publishTime': '2022-08-09T10:35:14Z'}}\n",
      "{'kind': 'youtube#searchResult', 'etag': 'esPbF-44iDLuoAq7Vo1w8r_n8-4', 'id': {'kind': 'youtube#video', 'videoId': 'awajkh0u_o4'}, 'snippet': {'publishedAt': '2022-08-08T11:31:15Z', 'channelId': 'UCsJ6RuBiTVWRX156FVbeaGg', 'title': '중국을 뒤덮은 분노, 펠로시 전격 대만 방문', 'description': '0:00 ~ 6:42 SNS를 뒤덮은 중국의 분노, 펠로시 대만 방문 6:42 ~ 15:26 펠로시는 왜 의회 대표단을 이끌고 대만으로 갔는가 15:26 ...', 'thumbnails': {'default': {'url': 'https://i.ytimg.com/vi/awajkh0u_o4/default.jpg', 'width': 120, 'height': 90}, 'medium': {'url': 'https://i.ytimg.com/vi/awajkh0u_o4/mqdefault.jpg', 'width': 320, 'height': 180}, 'high': {'url': 'https://i.ytimg.com/vi/awajkh0u_o4/hqdefault.jpg', 'width': 480, 'height': 360}}, 'channelTitle': '슈카월드', 'liveBroadcastContent': 'none', 'publishTime': '2022-08-08T11:31:15Z'}}\n",
      "{'kind': 'youtube#searchResult', 'etag': 'qtVv9CpE5mgpQgBLuK4wD8H2VzA', 'id': {'kind': 'youtube#video', 'videoId': 'b6wND7nVVgc'}, 'snippet': {'publishedAt': '2022-08-05T11:52:08Z', 'channelId': 'UCsJ6RuBiTVWRX156FVbeaGg', 'title': '급등하는 점심 물가, 박살나는 소비심리', 'description': '0:00 ~ 4:22 급격하게 오르는 생활물가 4:22 ~ 11:00 박살나는 소비자심리지수와 무지출 챌린지 11:00 ~ 17:34 눈물의 CGV 17:34 ...', 'thumbnails': {'default': {'url': 'https://i.ytimg.com/vi/b6wND7nVVgc/default.jpg', 'width': 120, 'height': 90}, 'medium': {'url': 'https://i.ytimg.com/vi/b6wND7nVVgc/mqdefault.jpg', 'width': 320, 'height': 180}, 'high': {'url': 'https://i.ytimg.com/vi/b6wND7nVVgc/hqdefault.jpg', 'width': 480, 'height': 360}}, 'channelTitle': '슈카월드', 'liveBroadcastContent': 'none', 'publishTime': '2022-08-05T11:52:08Z'}}\n",
      "{'kind': 'youtube#searchResult', 'etag': 'GnwnhvGwPLPFUR_Sp_k881_UXzw', 'id': {'kind': 'youtube#video', 'videoId': 's0ESXEtFpsw'}, 'snippet': {'publishedAt': '2022-08-04T11:55:36Z', 'channelId': 'UCsJ6RuBiTVWRX156FVbeaGg', 'title': '반등인듯 아닌듯 슬금슬금 코스피', 'description': '0:00 ~ 9:50 Good is good, Bad is good 나는 떡붕어인가 9:50 ~ 18:21 조심해야할 금융범죄들 어렵고 딱딱한 경제,시사,금융 이야기 ...', 'thumbnails': {'default': {'url': 'https://i.ytimg.com/vi/s0ESXEtFpsw/default.jpg', 'width': 120, 'height': 90}, 'medium': {'url': 'https://i.ytimg.com/vi/s0ESXEtFpsw/mqdefault.jpg', 'width': 320, 'height': 180}, 'high': {'url': 'https://i.ytimg.com/vi/s0ESXEtFpsw/hqdefault.jpg', 'width': 480, 'height': 360}}, 'channelTitle': '슈카월드', 'liveBroadcastContent': 'none', 'publishTime': '2022-08-04T11:55:36Z'}}\n",
      "{'kind': 'youtube#searchResult', 'etag': 'tJTKDNRdZuFyuZSVnUUnZjOigR4', 'id': {'kind': 'youtube#video', 'videoId': 'lQmrZKCYsME'}, 'snippet': {'publishedAt': '2022-08-03T10:30:48Z', 'channelId': 'UCsJ6RuBiTVWRX156FVbeaGg', 'title': '아버지는 말하셨지 인생을 즐겨라', 'description': '0:00 ~ 9:57 머스크와 구글 창업자의 흔들린 우정 9:57 ~ 16:21 알면 알수록 어질어질해지는 로켓맨 머스크 16:21 ~ 20:48 머스크의 ...', 'thumbnails': {'default': {'url': 'https://i.ytimg.com/vi/lQmrZKCYsME/default.jpg', 'width': 120, 'height': 90}, 'medium': {'url': 'https://i.ytimg.com/vi/lQmrZKCYsME/mqdefault.jpg', 'width': 320, 'height': 180}, 'high': {'url': 'https://i.ytimg.com/vi/lQmrZKCYsME/hqdefault.jpg', 'width': 480, 'height': 360}}, 'channelTitle': '슈카월드', 'liveBroadcastContent': 'none', 'publishTime': '2022-08-03T10:30:48Z'}}\n",
      "{'kind': 'youtube#searchResult', 'etag': 'cmAFe77B9cbFkQZX4k7X483D92Y', 'id': {'kind': 'youtube#video', 'videoId': 'qVmfzi7mtJE'}, 'snippet': {'publishedAt': '2022-08-02T12:08:20Z', 'channelId': 'UCsJ6RuBiTVWRX156FVbeaGg', 'title': '해결돼야만 하는 둔촌 주공아파트 재건축 사태', 'description': '0:00 ~ 14:17 역대 최대 규모 둔촌 주공아파트 재건축 사태 14:17 ~ 32:49 조속히 해결되어야할 얽히고 섥힌 문제들 32:49 ~ 42:45 ...', 'thumbnails': {'default': {'url': 'https://i.ytimg.com/vi/qVmfzi7mtJE/default.jpg', 'width': 120, 'height': 90}, 'medium': {'url': 'https://i.ytimg.com/vi/qVmfzi7mtJE/mqdefault.jpg', 'width': 320, 'height': 180}, 'high': {'url': 'https://i.ytimg.com/vi/qVmfzi7mtJE/hqdefault.jpg', 'width': 480, 'height': 360}}, 'channelTitle': '슈카월드', 'liveBroadcastContent': 'none', 'publishTime': '2022-08-02T12:08:20Z'}}\n",
      "{'kind': 'youtube#searchResult', 'etag': 'PMQsBhSWrsuiLASfMvOCFNwG0g8', 'id': {'kind': 'youtube#video', 'videoId': 'dtlA94a3TSI'}, 'snippet': {'publishedAt': '2022-08-01T11:22:16Z', 'channelId': 'UCsJ6RuBiTVWRX156FVbeaGg', 'title': '형제여.. 폴란드, 대한민국 무기 약 20조원 구매', 'description': '0:00 ~ 11:29 세계 2차 대전에 책임이 있는 폴란드? 11:29 ~ 19:40 폴란드는 왜 우리나라 무기를 사가는가 19:40 ~ 21:36 이 모든게 남 ...', 'thumbnails': {'default': {'url': 'https://i.ytimg.com/vi/dtlA94a3TSI/default.jpg', 'width': 120, 'height': 90}, 'medium': {'url': 'https://i.ytimg.com/vi/dtlA94a3TSI/mqdefault.jpg', 'width': 320, 'height': 180}, 'high': {'url': 'https://i.ytimg.com/vi/dtlA94a3TSI/hqdefault.jpg', 'width': 480, 'height': 360}}, 'channelTitle': '슈카월드', 'liveBroadcastContent': 'none', 'publishTime': '2022-08-01T11:22:16Z'}}\n",
      "{'kind': 'youtube#searchResult', 'etag': '90DJjG1NQjl404oOLcdyPif8cLc', 'id': {'kind': 'youtube#video', 'videoId': 'dINOdh8os9U'}, 'snippet': {'publishedAt': '2022-07-30T10:04:29Z', 'channelId': 'UCsJ6RuBiTVWRX156FVbeaGg', 'title': '기승전 치킨집 대한민국', 'description': '어렵고 딱딱한 경제,시사,금융 이야기를 쉽고 유쾌하게 풀어내는 경제/시사/이슈/잡썰 토크방송입니다. #외식업체 #식당.', 'thumbnails': {'default': {'url': 'https://i.ytimg.com/vi/dINOdh8os9U/default.jpg', 'width': 120, 'height': 90}, 'medium': {'url': 'https://i.ytimg.com/vi/dINOdh8os9U/mqdefault.jpg', 'width': 320, 'height': 180}, 'high': {'url': 'https://i.ytimg.com/vi/dINOdh8os9U/hqdefault.jpg', 'width': 480, 'height': 360}}, 'channelTitle': '슈카월드', 'liveBroadcastContent': 'none', 'publishTime': '2022-07-30T10:04:29Z'}}\n",
      "{'kind': 'youtube#searchResult', 'etag': 'alnbckA9yFJ6BzkA8mzszHlNd9g', 'id': {'kind': 'youtube#video', 'videoId': 'XWSnZD3Fy7g'}, 'snippet': {'publishedAt': '2022-07-29T11:13:35Z', 'channelId': 'UCsJ6RuBiTVWRX156FVbeaGg', 'title': '킹크랩은 게가 아니다?', 'description': '어렵고 딱딱한 경제,시사,금융 이야기를 쉽고 유쾌하게 풀어내는 경제/시사/이슈/잡썰 토크방송입니다. #그럼거미인가.', 'thumbnails': {'default': {'url': 'https://i.ytimg.com/vi/XWSnZD3Fy7g/default.jpg', 'width': 120, 'height': 90}, 'medium': {'url': 'https://i.ytimg.com/vi/XWSnZD3Fy7g/mqdefault.jpg', 'width': 320, 'height': 180}, 'high': {'url': 'https://i.ytimg.com/vi/XWSnZD3Fy7g/hqdefault.jpg', 'width': 480, 'height': 360}}, 'channelTitle': '슈카월드', 'liveBroadcastContent': 'none', 'publishTime': '2022-07-29T11:13:35Z'}}\n",
      "{'kind': 'youtube#searchResult', 'etag': 'sXR125zthf_IYpzWhvDg19RQQG4', 'id': {'kind': 'youtube#video', 'videoId': '-ZJcXsGUhSA'}, 'snippet': {'publishedAt': '2022-07-28T10:45:37Z', 'channelId': 'UCsJ6RuBiTVWRX156FVbeaGg', 'title': '&#39;이상한 변호사 우영우&#39; 글로벌 신드롬', 'description': '0:00 ~ 10:33 우영우 글로벌 흥행 10:33 ~ 16:39 카카오 vs 플레이스토어 인앱결제 신경전 어렵고 딱딱한 경제,시사,금융 이야기를 ...', 'thumbnails': {'default': {'url': 'https://i.ytimg.com/vi/-ZJcXsGUhSA/default.jpg', 'width': 120, 'height': 90}, 'medium': {'url': 'https://i.ytimg.com/vi/-ZJcXsGUhSA/mqdefault.jpg', 'width': 320, 'height': 180}, 'high': {'url': 'https://i.ytimg.com/vi/-ZJcXsGUhSA/hqdefault.jpg', 'width': 480, 'height': 360}}, 'channelTitle': '슈카월드', 'liveBroadcastContent': 'none', 'publishTime': '2022-07-28T10:45:37Z'}}\n",
      "{'kind': 'youtube#searchResult', 'etag': 'k6g70eNAnuFDifVIzqoy7GhxfOI', 'id': {'kind': 'youtube#video', 'videoId': 'hlaCGL-ttno'}, 'snippet': {'publishedAt': '2022-07-27T10:56:32Z', 'channelId': 'UCsJ6RuBiTVWRX156FVbeaGg', 'title': 'AI는 수학문제를 어떻게 풀까', 'description': '어렵고 딱딱한 경제,시사,금융 이야기를 쉽고 유쾌하게 풀어내는 경제/시사/이슈/잡썰 토크방송입니다. #알파고 #머슴러닝.', 'thumbnails': {'default': {'url': 'https://i.ytimg.com/vi/hlaCGL-ttno/default.jpg', 'width': 120, 'height': 90}, 'medium': {'url': 'https://i.ytimg.com/vi/hlaCGL-ttno/mqdefault.jpg', 'width': 320, 'height': 180}, 'high': {'url': 'https://i.ytimg.com/vi/hlaCGL-ttno/hqdefault.jpg', 'width': 480, 'height': 360}}, 'channelTitle': '슈카월드', 'liveBroadcastContent': 'none', 'publishTime': '2022-07-27T10:56:32Z'}}\n",
      "{'kind': 'youtube#searchResult', 'etag': 'eRkcX9zD6X0_jTS8Oqu-619cQsE', 'id': {'kind': 'youtube#video', 'videoId': 'zBfdAvFDbRc'}, 'snippet': {'publishedAt': '2022-07-26T10:51:01Z', 'channelId': 'UCsJ6RuBiTVWRX156FVbeaGg', 'title': '한국은 &#39;반도체 동맹 참가 여부&#39;를 결정하라', 'description': '0:00 ~ 9:16 양자택일을 강요받는 대한민국 9:16 ~ 15:37 대만, 일본의 경우 어렵고 딱딱한 경제,시사,금융 이야기를 쉽고 유쾌하게 ...', 'thumbnails': {'default': {'url': 'https://i.ytimg.com/vi/zBfdAvFDbRc/default.jpg', 'width': 120, 'height': 90}, 'medium': {'url': 'https://i.ytimg.com/vi/zBfdAvFDbRc/mqdefault.jpg', 'width': 320, 'height': 180}, 'high': {'url': 'https://i.ytimg.com/vi/zBfdAvFDbRc/hqdefault.jpg', 'width': 480, 'height': 360}}, 'channelTitle': '슈카월드', 'liveBroadcastContent': 'none', 'publishTime': '2022-07-26T10:51:01Z'}}\n",
      "{'kind': 'youtube#searchResult', 'etag': 'oIerV8vyHzzpRgqpePxqav1N7QM', 'id': {'kind': 'youtube#video', 'videoId': 'e_n50lp5CWU'}, 'snippet': {'publishedAt': '2022-07-25T11:51:05Z', 'channelId': 'UCsJ6RuBiTVWRX156FVbeaGg', 'title': '하락장 어떻게 대응해야 하나....', 'description': '0:00 ~ 12:35 하락장 대응? 네가 과연 대응할 수 있을까? 12:35 ~ 21:42 가장 기본적인 전략과 마음가짐 어렵고 딱딱한 경제,시사,금융 ...', 'thumbnails': {'default': {'url': 'https://i.ytimg.com/vi/e_n50lp5CWU/default.jpg', 'width': 120, 'height': 90}, 'medium': {'url': 'https://i.ytimg.com/vi/e_n50lp5CWU/mqdefault.jpg', 'width': 320, 'height': 180}, 'high': {'url': 'https://i.ytimg.com/vi/e_n50lp5CWU/hqdefault.jpg', 'width': 480, 'height': 360}}, 'channelTitle': '슈카월드', 'liveBroadcastContent': 'none', 'publishTime': '2022-07-25T11:51:05Z'}}\n",
      "{'kind': 'youtube#searchResult', 'etag': 'VlEsglJ_3nTZr6p0UZqBzEYDJCM', 'id': {'kind': 'youtube#video', 'videoId': '-_hnrd99z_M'}, 'snippet': {'publishedAt': '2022-07-22T11:27:58Z', 'channelId': 'UCsJ6RuBiTVWRX156FVbeaGg', 'title': '초거대 입자가속기 충전 완료, 암흑물질을 찾아라', 'description': '어렵고 딱딱한 경제,시사,금융 이야기를 쉽고 유쾌하게 풀어내는 경제/시사/이슈/잡썰 토크방송입니다. #블랙홀 #코리아늄.', 'thumbnails': {'default': {'url': 'https://i.ytimg.com/vi/-_hnrd99z_M/default.jpg', 'width': 120, 'height': 90}, 'medium': {'url': 'https://i.ytimg.com/vi/-_hnrd99z_M/mqdefault.jpg', 'width': 320, 'height': 180}, 'high': {'url': 'https://i.ytimg.com/vi/-_hnrd99z_M/hqdefault.jpg', 'width': 480, 'height': 360}}, 'channelTitle': '슈카월드', 'liveBroadcastContent': 'none', 'publishTime': '2022-07-22T11:27:58Z'}}\n",
      "{'kind': 'youtube#searchResult', 'etag': 'FV3VnLxHS8Y8ULuE-ryVrzJFWoI', 'id': {'kind': 'youtube#video', 'videoId': 'v9HoBGVgQx0'}, 'snippet': {'publishedAt': '2022-07-21T08:59:21Z', 'channelId': 'UCsJ6RuBiTVWRX156FVbeaGg', 'title': '광고주 속타는 광고, 대항해시대 오리진', 'description': '대항해시대오리진 #대항해시대 #슈카월드 대항해시대 오리진 사전예약 링크: https://bit.ly/3cl6KYj 어렵고 딱딱한 경제,시사,금융 ...', 'thumbnails': {'default': {'url': 'https://i.ytimg.com/vi/v9HoBGVgQx0/default.jpg', 'width': 120, 'height': 90}, 'medium': {'url': 'https://i.ytimg.com/vi/v9HoBGVgQx0/mqdefault.jpg', 'width': 320, 'height': 180}, 'high': {'url': 'https://i.ytimg.com/vi/v9HoBGVgQx0/hqdefault.jpg', 'width': 480, 'height': 360}}, 'channelTitle': '슈카월드', 'liveBroadcastContent': 'none', 'publishTime': '2022-07-21T08:59:21Z'}}\n",
      "{'kind': 'youtube#searchResult', 'etag': 'cm7txN6xXdmSkuMPVECK2nezLEg', 'id': {'kind': 'youtube#video', 'videoId': '-4L7-cn-ZD4'}, 'snippet': {'publishedAt': '2022-07-20T09:51:45Z', 'channelId': 'UCsJ6RuBiTVWRX156FVbeaGg', 'title': '코로나 신종 변이, 켄타우로스의 등장', 'description': '어렵고 딱딱한 경제,시사,금융 이야기를 쉽고 유쾌하게 풀어내는 경제/시사/이슈/잡썰 토크방송입니다. #켄타우로스 #반인반수.', 'thumbnails': {'default': {'url': 'https://i.ytimg.com/vi/-4L7-cn-ZD4/default.jpg', 'width': 120, 'height': 90}, 'medium': {'url': 'https://i.ytimg.com/vi/-4L7-cn-ZD4/mqdefault.jpg', 'width': 320, 'height': 180}, 'high': {'url': 'https://i.ytimg.com/vi/-4L7-cn-ZD4/hqdefault.jpg', 'width': 480, 'height': 360}}, 'channelTitle': '슈카월드', 'liveBroadcastContent': 'none', 'publishTime': '2022-07-20T09:51:45Z'}}\n",
      "{'kind': 'youtube#searchResult', 'etag': 'nNVlxnjRPq88Yhah0Hv1NYSb6Jo', 'id': {'kind': 'youtube#video', 'videoId': 'AlihE4WQ33w'}, 'snippet': {'publishedAt': '2022-07-19T10:44:00Z', 'channelId': 'UCsJ6RuBiTVWRX156FVbeaGg', 'title': 'NASA가 엄선한 &#39;제임스웹의 첫 사진&#39; 스토리', 'description': '0:00 ~ 16:30 나사가 공개한 제임스웹 첫 사진들 이야기 16:30 ~ 21:53 우리의 과학이 근본적으로 틀렸을 수도 있는 신비한 우주 ...', 'thumbnails': {'default': {'url': 'https://i.ytimg.com/vi/AlihE4WQ33w/default.jpg', 'width': 120, 'height': 90}, 'medium': {'url': 'https://i.ytimg.com/vi/AlihE4WQ33w/mqdefault.jpg', 'width': 320, 'height': 180}, 'high': {'url': 'https://i.ytimg.com/vi/AlihE4WQ33w/hqdefault.jpg', 'width': 480, 'height': 360}}, 'channelTitle': '슈카월드', 'liveBroadcastContent': 'none', 'publishTime': '2022-07-19T10:44:00Z'}}\n",
      "{'kind': 'youtube#searchResult', 'etag': 'yONLSUlfJsmwhOXPIEDcEhgv1iM', 'id': {'kind': 'youtube#video', 'videoId': 'V_ZX19W3K1A'}, 'snippet': {'publishedAt': '2022-07-18T13:49:59Z', 'channelId': 'UCsJ6RuBiTVWRX156FVbeaGg', 'title': '폭주하는 미국 물가, 떠오르는 울트라스텝', 'description': '어렵고 딱딱한 경제,시사,금융 이야기를 쉽고 유쾌하게 풀어내는 경제/시사/이슈/잡썰 토크방송입니다. #울트라리스크.', 'thumbnails': {'default': {'url': 'https://i.ytimg.com/vi/V_ZX19W3K1A/default.jpg', 'width': 120, 'height': 90}, 'medium': {'url': 'https://i.ytimg.com/vi/V_ZX19W3K1A/mqdefault.jpg', 'width': 320, 'height': 180}, 'high': {'url': 'https://i.ytimg.com/vi/V_ZX19W3K1A/hqdefault.jpg', 'width': 480, 'height': 360}}, 'channelTitle': '슈카월드', 'liveBroadcastContent': 'none', 'publishTime': '2022-07-18T13:49:59Z'}}\n",
      "{'kind': 'youtube#searchResult', 'etag': 'mtEMocKGHeicdaR9tbEre0gU5N0', 'id': {'kind': 'youtube#video', 'videoId': 'AQXyY3wCMUQ'}, 'snippet': {'publishedAt': '2022-07-15T12:22:22Z', 'channelId': 'UCsJ6RuBiTVWRX156FVbeaGg', 'title': '21세기 최고의 발명품', 'description': '0:00 ~ 6:40 역대 최고 더위와 생존법 6:40 ~ 13:56 21세기 최고의 발명품 어렵고 딱딱한 경제,시사,금융 이야기를 쉽고 유쾌하게 풀어 ...', 'thumbnails': {'default': {'url': 'https://i.ytimg.com/vi/AQXyY3wCMUQ/default.jpg', 'width': 120, 'height': 90}, 'medium': {'url': 'https://i.ytimg.com/vi/AQXyY3wCMUQ/mqdefault.jpg', 'width': 320, 'height': 180}, 'high': {'url': 'https://i.ytimg.com/vi/AQXyY3wCMUQ/hqdefault.jpg', 'width': 480, 'height': 360}}, 'channelTitle': '슈카월드', 'liveBroadcastContent': 'none', 'publishTime': '2022-07-15T12:22:22Z'}}\n",
      "{'kind': 'youtube#searchResult', 'etag': 'eWfBcTkItz7ZoXObKE-0Bma1blY', 'id': {'kind': 'youtube#video', 'videoId': 'nhnMCnawiZA'}, 'snippet': {'publishedAt': '2022-07-14T11:36:08Z', 'channelId': 'UCsJ6RuBiTVWRX156FVbeaGg', 'title': '머스크 57조원짜리 트위터 인수 파기 선언🚀', 'description': '0:00 ~ 11:06 머스크, 트위터 인수 딜 전격 파기 선언 11:06 ~ 15:48 인구감소 해결을 위해 밤마다 노력하는 머스크 어렵고 딱딱한 경제 ...', 'thumbnails': {'default': {'url': 'https://i.ytimg.com/vi/nhnMCnawiZA/default.jpg', 'width': 120, 'height': 90}, 'medium': {'url': 'https://i.ytimg.com/vi/nhnMCnawiZA/mqdefault.jpg', 'width': 320, 'height': 180}, 'high': {'url': 'https://i.ytimg.com/vi/nhnMCnawiZA/hqdefault.jpg', 'width': 480, 'height': 360}}, 'channelTitle': '슈카월드', 'liveBroadcastContent': 'none', 'publishTime': '2022-07-14T11:36:08Z'}}\n",
      "{'kind': 'youtube#searchResult', 'etag': 'gwT1fuyxTlZlVPV8evBObvIsmNw', 'id': {'kind': 'youtube#video', 'videoId': 'AggGDj_IVTU'}, 'snippet': {'publishedAt': '2022-07-13T10:36:18Z', 'channelId': 'UCsJ6RuBiTVWRX156FVbeaGg', 'title': '&quot;아저씨~ 따블✌️&quot; 심야 택시 전쟁', 'description': '어렵고 딱딱한 경제,시사,금융 이야기를 쉽고 유쾌하게 풀어내는 경제/시사/이슈/잡썰 토크방송입니다. #Taxi.', 'thumbnails': {'default': {'url': 'https://i.ytimg.com/vi/AggGDj_IVTU/default.jpg', 'width': 120, 'height': 90}, 'medium': {'url': 'https://i.ytimg.com/vi/AggGDj_IVTU/mqdefault.jpg', 'width': 320, 'height': 180}, 'high': {'url': 'https://i.ytimg.com/vi/AggGDj_IVTU/hqdefault.jpg', 'width': 480, 'height': 360}}, 'channelTitle': '슈카월드', 'liveBroadcastContent': 'none', 'publishTime': '2022-07-13T10:36:18Z'}}\n",
      "{'kind': 'youtube#searchResult', 'etag': 'm4uhrwvp9SQpmJvkiiLqCziipdY', 'id': {'kind': 'youtube#video', 'videoId': 'Z5nZ8wTock0'}, 'snippet': {'publishedAt': '2022-07-12T11:54:29Z', 'channelId': 'UCsJ6RuBiTVWRX156FVbeaGg', 'title': '허준이 교수 필즈상 수상과 슈카의 숟가락', 'description': '0:00 ~ 2:45 교수님, 우리 친구 아입니꺼 2:45 ~ 17:41노벨 수학상, 필즈상 17:41 ~ 27:41 문과적 시각에서 살펴본 수학계 난제들 ...', 'thumbnails': {'default': {'url': 'https://i.ytimg.com/vi/Z5nZ8wTock0/default.jpg', 'width': 120, 'height': 90}, 'medium': {'url': 'https://i.ytimg.com/vi/Z5nZ8wTock0/mqdefault.jpg', 'width': 320, 'height': 180}, 'high': {'url': 'https://i.ytimg.com/vi/Z5nZ8wTock0/hqdefault.jpg', 'width': 480, 'height': 360}}, 'channelTitle': '슈카월드', 'liveBroadcastContent': 'none', 'publishTime': '2022-07-12T11:54:29Z'}}\n",
      "{'kind': 'youtube#searchResult', 'etag': 'Bp0pqdSXbNV6xMdJvpFbeblA_qU', 'id': {'kind': 'youtube#video', 'videoId': 'YTZmrPoRjG8'}, 'snippet': {'publishedAt': '2022-07-11T10:29:22Z', 'channelId': 'UCsJ6RuBiTVWRX156FVbeaGg', 'title': '일본을 뒤흔든 두 발의 총성', 'description': '0:00 ~ 9:55 아베 사망, 그리고 1차 대전을 부른 사라예보의 총성 9:55 ~ 14:14 글로벌 재무장 기조 14:14 ~ 18:53 사건에 대한 세계적 ...', 'thumbnails': {'default': {'url': 'https://i.ytimg.com/vi/YTZmrPoRjG8/default.jpg', 'width': 120, 'height': 90}, 'medium': {'url': 'https://i.ytimg.com/vi/YTZmrPoRjG8/mqdefault.jpg', 'width': 320, 'height': 180}, 'high': {'url': 'https://i.ytimg.com/vi/YTZmrPoRjG8/hqdefault.jpg', 'width': 480, 'height': 360}}, 'channelTitle': '슈카월드', 'liveBroadcastContent': 'none', 'publishTime': '2022-07-11T10:29:22Z'}}\n",
      "{'kind': 'youtube#searchResult', 'etag': 'f417DQxcEty2RTe8vN55kLfNxto', 'id': {'kind': 'youtube#video', 'videoId': 'Kw-mL5FL59g'}, 'snippet': {'publishedAt': '2022-07-09T10:38:05Z', 'channelId': 'UCsJ6RuBiTVWRX156FVbeaGg', 'title': '어르신들의 습격', 'description': '0:00 ~ 8:25 BTS를 꺾은 임영웅? 8:25 ~ 23:34 A세대와 타겟팅의 시대 어렵고 딱딱한 경제,시사,금융 이야기를 쉽고 유쾌하게 풀어 ...', 'thumbnails': {'default': {'url': 'https://i.ytimg.com/vi/Kw-mL5FL59g/default.jpg', 'width': 120, 'height': 90}, 'medium': {'url': 'https://i.ytimg.com/vi/Kw-mL5FL59g/mqdefault.jpg', 'width': 320, 'height': 180}, 'high': {'url': 'https://i.ytimg.com/vi/Kw-mL5FL59g/hqdefault.jpg', 'width': 480, 'height': 360}}, 'channelTitle': '슈카월드', 'liveBroadcastContent': 'none', 'publishTime': '2022-07-09T10:38:05Z'}}\n",
      "{'kind': 'youtube#searchResult', 'etag': 'vfEvW1suyUijoqNl87YazV0yaQc', 'id': {'kind': 'youtube#video', 'videoId': 'wmylIlmku20'}, 'snippet': {'publishedAt': '2022-07-08T11:17:11Z', 'channelId': 'UCsJ6RuBiTVWRX156FVbeaGg', 'title': '2022 미중 신(新) 아편전쟁 - 펜타닐', 'description': '어렵고 딱딱한 경제,시사,금융 이야기를 쉽고 유쾌하게 풀어내는 경제/시사/이슈/잡썰 토크방송입니다. #치사량.', 'thumbnails': {'default': {'url': 'https://i.ytimg.com/vi/wmylIlmku20/default.jpg', 'width': 120, 'height': 90}, 'medium': {'url': 'https://i.ytimg.com/vi/wmylIlmku20/mqdefault.jpg', 'width': 320, 'height': 180}, 'high': {'url': 'https://i.ytimg.com/vi/wmylIlmku20/hqdefault.jpg', 'width': 480, 'height': 360}}, 'channelTitle': '슈카월드', 'liveBroadcastContent': 'none', 'publishTime': '2022-07-08T11:17:11Z'}}\n",
      "{'kind': 'youtube#searchResult', 'etag': 'vZwznqjjmjPoniZiVuGz8GQLVq8', 'id': {'kind': 'youtube#video', 'videoId': '8xaRMU9Pk70'}, 'snippet': {'publishedAt': '2022-07-07T10:04:11Z', 'channelId': 'UCsJ6RuBiTVWRX156FVbeaGg', 'title': '방치되고 있는 퇴직연금', 'description': '어렵고 딱딱한 경제,시사,금융 이야기를 쉽고 유쾌하게 풀어내는 경제/시사/이슈/잡썰 토크방송입니다. #퇴직금 #DB #DC #IRP.', 'thumbnails': {'default': {'url': 'https://i.ytimg.com/vi/8xaRMU9Pk70/default.jpg', 'width': 120, 'height': 90}, 'medium': {'url': 'https://i.ytimg.com/vi/8xaRMU9Pk70/mqdefault.jpg', 'width': 320, 'height': 180}, 'high': {'url': 'https://i.ytimg.com/vi/8xaRMU9Pk70/hqdefault.jpg', 'width': 480, 'height': 360}}, 'channelTitle': '슈카월드', 'liveBroadcastContent': 'none', 'publishTime': '2022-07-07T10:04:11Z'}}\n",
      "{'kind': 'youtube#searchResult', 'etag': '17qzNL41m19NG7-AQxv6t9_uPWg', 'id': {'kind': 'youtube#video', 'videoId': 'cznLCw04YSA'}, 'snippet': {'publishedAt': '2022-07-06T11:10:39Z', 'channelId': 'UCsJ6RuBiTVWRX156FVbeaGg', 'title': '학점 인플레이션 시대', 'description': '0:00 ~ 16:54 A+가 절반인 시대 16:54 ~ 22:53 비대면 수업이 끝나니 생기는 문제 어렵고 딱딱한 경제,시사,금융 이야기를 쉽고 유쾌 ...', 'thumbnails': {'default': {'url': 'https://i.ytimg.com/vi/cznLCw04YSA/default.jpg', 'width': 120, 'height': 90}, 'medium': {'url': 'https://i.ytimg.com/vi/cznLCw04YSA/mqdefault.jpg', 'width': 320, 'height': 180}, 'high': {'url': 'https://i.ytimg.com/vi/cznLCw04YSA/hqdefault.jpg', 'width': 480, 'height': 360}}, 'channelTitle': '슈카월드', 'liveBroadcastContent': 'none', 'publishTime': '2022-07-06T11:10:39Z'}}\n",
      "{'kind': 'youtube#searchResult', 'etag': 'pPED534yUc0MjAY73ixsp6zKzGA', 'id': {'kind': 'youtube#video', 'videoId': 'lomjGQAH2IU'}, 'snippet': {'publishedAt': '2022-07-05T11:20:22Z', 'channelId': 'UCsJ6RuBiTVWRX156FVbeaGg', 'title': '2022 나토 회의, 신(新) 냉전시대 선포', 'description': '0:00 ~ 5:10 1991년 소련 붕괴 이후 2022 나토(NATO) 회의까지 5:10 ~ 13:41 러시아와 중국을 향한 사실상의 신(新) 냉전 구도 선언 ...', 'thumbnails': {'default': {'url': 'https://i.ytimg.com/vi/lomjGQAH2IU/default.jpg', 'width': 120, 'height': 90}, 'medium': {'url': 'https://i.ytimg.com/vi/lomjGQAH2IU/mqdefault.jpg', 'width': 320, 'height': 180}, 'high': {'url': 'https://i.ytimg.com/vi/lomjGQAH2IU/hqdefault.jpg', 'width': 480, 'height': 360}}, 'channelTitle': '슈카월드', 'liveBroadcastContent': 'none', 'publishTime': '2022-07-05T11:20:22Z'}}\n",
      "{'kind': 'youtube#searchResult', 'etag': 'X82Pa9Uf1VI1E1s12x0964niREE', 'id': {'kind': 'youtube#video', 'videoId': 'I_Pg40cOroQ'}, 'snippet': {'publishedAt': '2022-07-04T09:46:59Z', 'channelId': 'UCsJ6RuBiTVWRX156FVbeaGg', 'title': '코인 도둑질 세계 1위 국가', 'description': '0:00 ~ 10:54 천하제일 암호화폐 도둑질 대회 1위 국가 10:54 ~ 15:42 북한의 핵무장으로부터 세계를 지킨 자 어렵고 딱딱한 경제,시사 ...', 'thumbnails': {'default': {'url': 'https://i.ytimg.com/vi/I_Pg40cOroQ/default.jpg', 'width': 120, 'height': 90}, 'medium': {'url': 'https://i.ytimg.com/vi/I_Pg40cOroQ/mqdefault.jpg', 'width': 320, 'height': 180}, 'high': {'url': 'https://i.ytimg.com/vi/I_Pg40cOroQ/hqdefault.jpg', 'width': 480, 'height': 360}}, 'channelTitle': '슈카월드', 'liveBroadcastContent': 'none', 'publishTime': '2022-07-04T09:46:59Z'}}\n",
      "{'kind': 'youtube#searchResult', 'etag': 'qUgGPve8E4pBHgv0zlv1_HtcFA4', 'id': {'kind': 'youtube#video', 'videoId': '8muMlzRSMzc'}, 'snippet': {'publishedAt': '2022-07-01T11:43:40Z', 'channelId': 'UCsJ6RuBiTVWRX156FVbeaGg', 'title': '푸틴: 미국 중심의 세계는 끝났다.', 'description': '어렵고 딱딱한 경제,시사,금융 이야기를 쉽고 유쾌하게 풀어내는 경제/시사/이슈/잡썰 토크방송입니다. #BRICS #NATO #G7.', 'thumbnails': {'default': {'url': 'https://i.ytimg.com/vi/8muMlzRSMzc/default.jpg', 'width': 120, 'height': 90}, 'medium': {'url': 'https://i.ytimg.com/vi/8muMlzRSMzc/mqdefault.jpg', 'width': 320, 'height': 180}, 'high': {'url': 'https://i.ytimg.com/vi/8muMlzRSMzc/hqdefault.jpg', 'width': 480, 'height': 360}}, 'channelTitle': '슈카월드', 'liveBroadcastContent': 'none', 'publishTime': '2022-07-01T11:43:40Z'}}\n",
      "{'kind': 'youtube#searchResult', 'etag': 'LamI_YKCdLB6XftUIq0yXcq2bhw', 'id': {'kind': 'youtube#video', 'videoId': 'D6oNef_c2zQ'}, 'snippet': {'publishedAt': '2022-06-30T10:23:48Z', 'channelId': 'UCsJ6RuBiTVWRX156FVbeaGg', 'title': '인간의 판단 영역까지 확장되는 업무자동화, 브리티 RPA (유료 광고 포함)', 'description': '브리티 RPA X 슈카월드 이벤트 바로가기 https://bit.ly/3OKsjzd 슈카월드 애청자들을 위해 준비한 브리티 RPA 이벤트! 슈카도 체험한 ...', 'thumbnails': {'default': {'url': 'https://i.ytimg.com/vi/D6oNef_c2zQ/default.jpg', 'width': 120, 'height': 90}, 'medium': {'url': 'https://i.ytimg.com/vi/D6oNef_c2zQ/mqdefault.jpg', 'width': 320, 'height': 180}, 'high': {'url': 'https://i.ytimg.com/vi/D6oNef_c2zQ/hqdefault.jpg', 'width': 480, 'height': 360}}, 'channelTitle': '슈카월드', 'liveBroadcastContent': 'none', 'publishTime': '2022-06-30T10:23:48Z'}}\n",
      "{'kind': 'youtube#searchResult', 'etag': '6J1uE-BzS6UTfgIJEnEeYUcjBWE', 'id': {'kind': 'youtube#video', 'videoId': 'njZ3o0CHv6Y'}, 'snippet': {'publishedAt': '2022-06-29T12:44:59Z', 'channelId': 'UCsJ6RuBiTVWRX156FVbeaGg', 'title': '1년만에 코스피 -1,000p 달성, 커지는 고통', 'description': '0:00 ~ 8:19 미증유의 퍼펙트스톱이 온다? 8:19 ~ 24:05 일본 전대미문의 엔화 약세와 가계의 고통 24:05 ~ 38:28 K-지옥불반도와 매 ...', 'thumbnails': {'default': {'url': 'https://i.ytimg.com/vi/njZ3o0CHv6Y/default.jpg', 'width': 120, 'height': 90}, 'medium': {'url': 'https://i.ytimg.com/vi/njZ3o0CHv6Y/mqdefault.jpg', 'width': 320, 'height': 180}, 'high': {'url': 'https://i.ytimg.com/vi/njZ3o0CHv6Y/hqdefault.jpg', 'width': 480, 'height': 360}}, 'channelTitle': '슈카월드', 'liveBroadcastContent': 'none', 'publishTime': '2022-06-29T12:44:59Z'}}\n",
      "{'kind': 'youtube#searchResult', 'etag': '4tj34afNM8dMdr4Q8fcWZzdVIA0', 'id': {'kind': 'youtube#video', 'videoId': 'qnJpDa8u9ZA'}, 'snippet': {'publishedAt': '2022-06-28T10:15:57Z', 'channelId': 'UCsJ6RuBiTVWRX156FVbeaGg', 'title': '믿기 힘든 인류 최초 달 탐사선의 귀환 방법', 'description': '어렵고 딱딱한 경제,시사,금융 이야기를 쉽고 유쾌하게 풀어내는 경제/시사/이슈/잡썰 토크방송입니다. #누리호 #다누리호 #아폴로11.', 'thumbnails': {'default': {'url': 'https://i.ytimg.com/vi/qnJpDa8u9ZA/default.jpg', 'width': 120, 'height': 90}, 'medium': {'url': 'https://i.ytimg.com/vi/qnJpDa8u9ZA/mqdefault.jpg', 'width': 320, 'height': 180}, 'high': {'url': 'https://i.ytimg.com/vi/qnJpDa8u9ZA/hqdefault.jpg', 'width': 480, 'height': 360}}, 'channelTitle': '슈카월드', 'liveBroadcastContent': 'none', 'publishTime': '2022-06-28T10:15:57Z'}}\n",
      "{'kind': 'youtube#searchResult', 'etag': 'WfLedMMxb3aQ9IS-kbn0R9WfvPE', 'id': {'kind': 'youtube#video', 'videoId': 'jtIQAeaVdbs'}, 'snippet': {'publishedAt': '2022-06-27T11:52:33Z', 'channelId': 'UCsJ6RuBiTVWRX156FVbeaGg', 'title': '미국을 뒤흔든 낙태법 판결과 Justice 9인', 'description': '0:00 ~ 3:30 미국을 뒤흔든 낙태법 판결 3:30 ~ 28:51 \"정의\" 그 자체 연방대법원 9인 어렵고 딱딱한 경제,시사,금융 이야기를 쉽고 유쾌 ...', 'thumbnails': {'default': {'url': 'https://i.ytimg.com/vi/jtIQAeaVdbs/default.jpg', 'width': 120, 'height': 90}, 'medium': {'url': 'https://i.ytimg.com/vi/jtIQAeaVdbs/mqdefault.jpg', 'width': 320, 'height': 180}, 'high': {'url': 'https://i.ytimg.com/vi/jtIQAeaVdbs/hqdefault.jpg', 'width': 480, 'height': 360}}, 'channelTitle': '슈카월드', 'liveBroadcastContent': 'none', 'publishTime': '2022-06-27T11:52:33Z'}}\n",
      "{'kind': 'youtube#searchResult', 'etag': 's8O1OS1K05W0Wz4_XxdmYRjzgI4', 'id': {'kind': 'youtube#video', 'videoId': 'YmuaaHnKSuA'}, 'snippet': {'publishedAt': '2022-06-24T12:49:57Z', 'channelId': 'UCsJ6RuBiTVWRX156FVbeaGg', 'title': '티벳 땅이 불러온 인도 - 중국 국경 분쟁', 'description': '0:00 ~ 13:50 티벳의 나비효과, 인도-중국 영토분쟁 13:50 ~ 21:10 네팔 왕정이 몰락한 최악의 사건 어렵고 딱딱한 경제,시사,금융 ...', 'thumbnails': {'default': {'url': 'https://i.ytimg.com/vi/YmuaaHnKSuA/default.jpg', 'width': 120, 'height': 90}, 'medium': {'url': 'https://i.ytimg.com/vi/YmuaaHnKSuA/mqdefault.jpg', 'width': 320, 'height': 180}, 'high': {'url': 'https://i.ytimg.com/vi/YmuaaHnKSuA/hqdefault.jpg', 'width': 480, 'height': 360}}, 'channelTitle': '슈카월드', 'liveBroadcastContent': 'none', 'publishTime': '2022-06-24T12:49:57Z'}}\n",
      "{'kind': 'youtube#searchResult', 'etag': 'uw3YS5ijoRS-qR__Lk_3U0AuRlY', 'id': {'kind': 'youtube#video', 'videoId': 'o_h3s8gDCCk'}, 'snippet': {'publishedAt': '2022-06-23T10:02:00Z', 'channelId': 'UCsJ6RuBiTVWRX156FVbeaGg', 'title': '글로벌 기업의 한국 투자 성공기 (유료광고포함)', 'description': '볼보그룹코리아의 유료 광고가 포함된 영상입니다. 어렵고 딱딱한 경제,시사,금융 이야기를 쉽고 유쾌하게 풀어내는 경제/시사/이슈/ ...', 'thumbnails': {'default': {'url': 'https://i.ytimg.com/vi/o_h3s8gDCCk/default.jpg', 'width': 120, 'height': 90}, 'medium': {'url': 'https://i.ytimg.com/vi/o_h3s8gDCCk/mqdefault.jpg', 'width': 320, 'height': 180}, 'high': {'url': 'https://i.ytimg.com/vi/o_h3s8gDCCk/hqdefault.jpg', 'width': 480, 'height': 360}}, 'channelTitle': '슈카월드', 'liveBroadcastContent': 'none', 'publishTime': '2022-06-23T10:02:00Z'}}\n",
      "{'kind': 'youtube#searchResult', 'etag': 'kjF9SECzdDS8OtZ7yF0RYZxk6hU', 'id': {'kind': 'youtube#video', 'videoId': 'hkxCNOsQGfs'}, 'snippet': {'publishedAt': '2022-06-22T13:23:45Z', 'channelId': 'UCsJ6RuBiTVWRX156FVbeaGg', 'title': '코스피 본격 여름맞이 &#39;바겐 세일&#39;', 'description': '0:00 ~ 8:57 삼성전자에 잔인한 6월 8:57 ~ 16:08 눈물의 네이버, 카카오 16:08 ~ 21:02 가랑비에 옷젖은 현대자동차, 폭탄선언 하이브 ...', 'thumbnails': {'default': {'url': 'https://i.ytimg.com/vi/hkxCNOsQGfs/default.jpg', 'width': 120, 'height': 90}, 'medium': {'url': 'https://i.ytimg.com/vi/hkxCNOsQGfs/mqdefault.jpg', 'width': 320, 'height': 180}, 'high': {'url': 'https://i.ytimg.com/vi/hkxCNOsQGfs/hqdefault.jpg', 'width': 480, 'height': 360}}, 'channelTitle': '슈카월드', 'liveBroadcastContent': 'none', 'publishTime': '2022-06-22T13:23:45Z'}}\n",
      "{'kind': 'youtube#searchResult', 'etag': '1kM8O4YynW0P_TN_b_kzkqVmzP8', 'id': {'kind': 'youtube#video', 'videoId': 'zzj5EzcYduM'}, 'snippet': {'publishedAt': '2022-06-21T11:53:30Z', 'channelId': 'UCsJ6RuBiTVWRX156FVbeaGg', 'title': '공포가 지배하는 코인 시장', 'description': '0:00 ~ 21:17 이미 예언된 미래조차 지킬 의지 없이 허공에 흩어지는가 21:17 ~ 33:10 코인 시장에 울고 웃는 이해당사자들 어렵고 ...', 'thumbnails': {'default': {'url': 'https://i.ytimg.com/vi/zzj5EzcYduM/default.jpg', 'width': 120, 'height': 90}, 'medium': {'url': 'https://i.ytimg.com/vi/zzj5EzcYduM/mqdefault.jpg', 'width': 320, 'height': 180}, 'high': {'url': 'https://i.ytimg.com/vi/zzj5EzcYduM/hqdefault.jpg', 'width': 480, 'height': 360}}, 'channelTitle': '슈카월드', 'liveBroadcastContent': 'none', 'publishTime': '2022-06-21T11:53:30Z'}}\n",
      "{'kind': 'youtube#searchResult', 'etag': 'StBR9XV2xfTWbkksyhYj3ZRyv88', 'id': {'kind': 'youtube#video', 'videoId': 'ckHULyRxHOk'}, 'snippet': {'publishedAt': '2022-06-20T12:03:40Z', 'channelId': 'UCsJ6RuBiTVWRX156FVbeaGg', 'title': '현실이 된 &#39;75bp 인상&#39;, 자이언트 스텝', 'description': '어렵고 딱딱한 경제,시사,금융 이야기를 쉽고 유쾌하게 풀어내는 경제/시사/이슈/잡썰 토크방송입니다. #Giantstep #BBB.', 'thumbnails': {'default': {'url': 'https://i.ytimg.com/vi/ckHULyRxHOk/default.jpg', 'width': 120, 'height': 90}, 'medium': {'url': 'https://i.ytimg.com/vi/ckHULyRxHOk/mqdefault.jpg', 'width': 320, 'height': 180}, 'high': {'url': 'https://i.ytimg.com/vi/ckHULyRxHOk/hqdefault.jpg', 'width': 480, 'height': 360}}, 'channelTitle': '슈카월드', 'liveBroadcastContent': 'none', 'publishTime': '2022-06-20T12:03:40Z'}}\n",
      "{'kind': 'youtube#searchResult', 'etag': 'VxCOHpFGYSX65Yhe6YcH_eGyJmQ', 'id': {'kind': 'youtube#video', 'videoId': '7lFG3vTY85I'}, 'snippet': {'publishedAt': '2022-06-18T13:04:30Z', 'channelId': 'UCsJ6RuBiTVWRX156FVbeaGg', 'title': '수익률 부진, 코리아 주식', 'description': '어렵고 딱딱한 경제,시사,금융 이야기를 쉽고 유쾌하게 풀어내는 경제/시사/이슈/잡썰 토크방송입니다. #진행시켜.', 'thumbnails': {'default': {'url': 'https://i.ytimg.com/vi/7lFG3vTY85I/default.jpg', 'width': 120, 'height': 90}, 'medium': {'url': 'https://i.ytimg.com/vi/7lFG3vTY85I/mqdefault.jpg', 'width': 320, 'height': 180}, 'high': {'url': 'https://i.ytimg.com/vi/7lFG3vTY85I/hqdefault.jpg', 'width': 480, 'height': 360}}, 'channelTitle': '슈카월드', 'liveBroadcastContent': 'none', 'publishTime': '2022-06-18T13:04:30Z'}}\n",
      "{'kind': 'youtube#searchResult', 'etag': 'goZhlpAavw2o1ujvfA9rmQZBR9o', 'id': {'kind': 'youtube#video', 'videoId': 'xF8x7d9ycts'}, 'snippet': {'publishedAt': '2022-06-17T12:33:36Z', 'channelId': 'UCsJ6RuBiTVWRX156FVbeaGg', 'title': '랍스터는 뇌가 없다?', 'description': '어렵고 딱딱한 경제,시사,금융 이야기를 쉽고 유쾌하게 풀어내는 경제/시사/이슈/잡썰 토크방송입니다. #Nopain #낙지탕탕이.', 'thumbnails': {'default': {'url': 'https://i.ytimg.com/vi/xF8x7d9ycts/default.jpg', 'width': 120, 'height': 90}, 'medium': {'url': 'https://i.ytimg.com/vi/xF8x7d9ycts/mqdefault.jpg', 'width': 320, 'height': 180}, 'high': {'url': 'https://i.ytimg.com/vi/xF8x7d9ycts/hqdefault.jpg', 'width': 480, 'height': 360}}, 'channelTitle': '슈카월드', 'liveBroadcastContent': 'none', 'publishTime': '2022-06-17T12:33:36Z'}}\n",
      "{'kind': 'youtube#searchResult', 'etag': 'PqTpHFW0pz4AQhQOoUYp92aq5dM', 'id': {'kind': 'youtube#video', 'videoId': 'm2sbKzp2bDY'}, 'snippet': {'publishedAt': '2022-06-16T12:37:35Z', 'channelId': 'UCsJ6RuBiTVWRX156FVbeaGg', 'title': '원숭이두창, WHO 보건 비상사태 선포', 'description': '0:00 ~ 7:11 확산되는 원숭이 두창과 과학적 의견 7:11 ~ 20:33 천연두 보고 놀란 가슴 원숭이두창 보고 놀란다 어렵고 딱딱한 경제, ...', 'thumbnails': {'default': {'url': 'https://i.ytimg.com/vi/m2sbKzp2bDY/default.jpg', 'width': 120, 'height': 90}, 'medium': {'url': 'https://i.ytimg.com/vi/m2sbKzp2bDY/mqdefault.jpg', 'width': 320, 'height': 180}, 'high': {'url': 'https://i.ytimg.com/vi/m2sbKzp2bDY/hqdefault.jpg', 'width': 480, 'height': 360}}, 'channelTitle': '슈카월드', 'liveBroadcastContent': 'none', 'publishTime': '2022-06-16T12:37:35Z'}}\n",
      "{'kind': 'youtube#searchResult', 'etag': 'sFKYcoRPlkJHyvT6CTwNvGQXx5A', 'id': {'kind': 'youtube#video', 'videoId': '459PoLMt82Q'}, 'snippet': {'publishedAt': '2022-06-15T10:46:09Z', 'channelId': 'UCsJ6RuBiTVWRX156FVbeaGg', 'title': '성장률 절벽과 엇갈리는 희비', 'description': '0:00 ~ 5:51 급격한 성장률 둔화와 스태그플레이션 위기 5:51 ~ 11:54 역대 최고가를 향하는 유가와 신난 중동국가들 11:54 ~ 17:30 ...', 'thumbnails': {'default': {'url': 'https://i.ytimg.com/vi/459PoLMt82Q/default.jpg', 'width': 120, 'height': 90}, 'medium': {'url': 'https://i.ytimg.com/vi/459PoLMt82Q/mqdefault.jpg', 'width': 320, 'height': 180}, 'high': {'url': 'https://i.ytimg.com/vi/459PoLMt82Q/hqdefault.jpg', 'width': 480, 'height': 360}}, 'channelTitle': '슈카월드', 'liveBroadcastContent': 'none', 'publishTime': '2022-06-15T10:46:09Z'}}\n",
      "{'kind': 'youtube#searchResult', 'etag': '4jUZVcVobkz5bCLZ6k4zs8VI5Dg', 'id': {'kind': 'youtube#video', 'videoId': 'DdEYXFtkj_w'}, 'snippet': {'publishedAt': '2022-06-14T13:38:35Z', 'channelId': 'UCsJ6RuBiTVWRX156FVbeaGg', 'title': '50세 퇴직, 70세 은퇴, 20년은 어떡하지?', 'description': '어렵고 딱딱한 경제,시사,금융 이야기를 쉽고 유쾌하게 풀어내는 경제/시사/이슈/잡썰 토크방송입니다. #정년퇴직 #은퇴.', 'thumbnails': {'default': {'url': 'https://i.ytimg.com/vi/DdEYXFtkj_w/default.jpg', 'width': 120, 'height': 90}, 'medium': {'url': 'https://i.ytimg.com/vi/DdEYXFtkj_w/mqdefault.jpg', 'width': 320, 'height': 180}, 'high': {'url': 'https://i.ytimg.com/vi/DdEYXFtkj_w/hqdefault.jpg', 'width': 480, 'height': 360}}, 'channelTitle': '슈카월드', 'liveBroadcastContent': 'none', 'publishTime': '2022-06-14T13:38:35Z'}}\n",
      "{'kind': 'youtube#searchResult', 'etag': '-NtDtj8cY21Ovi4xYeMqWNII-is', 'id': {'kind': 'youtube#video', 'videoId': 'OtD2JtdQV4c'}, 'snippet': {'publishedAt': '2022-06-13T12:30:18Z', 'channelId': 'UCsJ6RuBiTVWRX156FVbeaGg', 'title': '물가 폭탄 미국, 황급하게 내민 손길', 'description': '0:00 ~ 7:44 화들짝 놀란 미국 물가 7:44 ~ 19:49 다급한 미국과 웃고있는 사우디 어렵고 딱딱한 경제,시사,금융 이야기를 쉽고 유쾌 ...', 'thumbnails': {'default': {'url': 'https://i.ytimg.com/vi/OtD2JtdQV4c/default.jpg', 'width': 120, 'height': 90}, 'medium': {'url': 'https://i.ytimg.com/vi/OtD2JtdQV4c/mqdefault.jpg', 'width': 320, 'height': 180}, 'high': {'url': 'https://i.ytimg.com/vi/OtD2JtdQV4c/hqdefault.jpg', 'width': 480, 'height': 360}}, 'channelTitle': '슈카월드', 'liveBroadcastContent': 'none', 'publishTime': '2022-06-13T12:30:18Z'}}\n"
     ]
    },
    {
     "name": "stdout",
     "output_type": "stream",
     "text": [
      "{'kind': 'youtube#searchResult', 'etag': 'pXFVDTtnQhY-Nr4l9UP_CDQY6FM', 'id': {'kind': 'youtube#video', 'videoId': 'QtuGe_HPxNE'}, 'snippet': {'publishedAt': '2022-06-11T10:24:37Z', 'channelId': 'UCsJ6RuBiTVWRX156FVbeaGg', 'title': '세계를 휩쓴 &quot;스웨덴 게이트&quot;', 'description': '어렵고 딱딱한 경제,시사,금융 이야기를 쉽고 유쾌하게 풀어내는 경제/시사/이슈/잡썰 토크방송입니다. #SwedenGate #스웨덴게이트.', 'thumbnails': {'default': {'url': 'https://i.ytimg.com/vi/QtuGe_HPxNE/default.jpg', 'width': 120, 'height': 90}, 'medium': {'url': 'https://i.ytimg.com/vi/QtuGe_HPxNE/mqdefault.jpg', 'width': 320, 'height': 180}, 'high': {'url': 'https://i.ytimg.com/vi/QtuGe_HPxNE/hqdefault.jpg', 'width': 480, 'height': 360}}, 'channelTitle': '슈카월드', 'liveBroadcastContent': 'none', 'publishTime': '2022-06-11T10:24:37Z'}}\n",
      "{'kind': 'youtube#searchResult', 'etag': 'i36phORdf8sl2eXEMUmxxSBm6Rc', 'id': {'kind': 'youtube#video', 'videoId': '4u7B7dynUIU'}, 'snippet': {'publishedAt': '2022-06-10T12:01:00Z', 'channelId': 'UCsJ6RuBiTVWRX156FVbeaGg', 'title': '청와대의 유래와 고려시대 제일검 척준경', 'description': '어렵고 딱딱한 경제,시사,금융 이야기를 쉽고 유쾌하게 풀어내는 경제/시사/이슈/잡썰 토크방송입니다. #소드마스터 #청와대관람.', 'thumbnails': {'default': {'url': 'https://i.ytimg.com/vi/4u7B7dynUIU/default.jpg', 'width': 120, 'height': 90}, 'medium': {'url': 'https://i.ytimg.com/vi/4u7B7dynUIU/mqdefault.jpg', 'width': 320, 'height': 180}, 'high': {'url': 'https://i.ytimg.com/vi/4u7B7dynUIU/hqdefault.jpg', 'width': 480, 'height': 360}}, 'channelTitle': '슈카월드', 'liveBroadcastContent': 'none', 'publishTime': '2022-06-10T12:01:00Z'}}\n",
      "{'kind': 'youtube#searchResult', 'etag': '6DmggioD40Tun33zOXD_0FtXjrQ', 'id': {'kind': 'youtube#video', 'videoId': 'RU9tGQkyOvg'}, 'snippet': {'publishedAt': '2022-06-09T11:44:21Z', 'channelId': 'UCsJ6RuBiTVWRX156FVbeaGg', 'title': '재택근무는 비효율적인가?', 'description': '0:00 ~ 6:42 머스크, \"재택근무 하고싶으면 때려쳐라\" 6:42 ~ 14:12 코로나 이후 재택근무 논쟁 14:12 ~ 25:06 재택근무를 대하는 나라 ...', 'thumbnails': {'default': {'url': 'https://i.ytimg.com/vi/RU9tGQkyOvg/default.jpg', 'width': 120, 'height': 90}, 'medium': {'url': 'https://i.ytimg.com/vi/RU9tGQkyOvg/mqdefault.jpg', 'width': 320, 'height': 180}, 'high': {'url': 'https://i.ytimg.com/vi/RU9tGQkyOvg/hqdefault.jpg', 'width': 480, 'height': 360}}, 'channelTitle': '슈카월드', 'liveBroadcastContent': 'none', 'publishTime': '2022-06-09T11:44:21Z'}}\n",
      "{'kind': 'youtube#searchResult', 'etag': 'qDJmgPcUpCQ9mucMUze21lyP-GQ', 'id': {'kind': 'youtube#video', 'videoId': '5kNjCf76JSw'}, 'snippet': {'publishedAt': '2022-06-08T13:27:47Z', 'channelId': 'UCsJ6RuBiTVWRX156FVbeaGg', 'title': '미국은 왜 아이들의 희생을 보고만 있는가', 'description': '0:00 ~ 11:29 미국의 현재 상황 11:29 ~ 16:54 미대통령이 외치는 법안 16:54 ~ 28:27 미국 시민들의 생각 어렵고 딱딱한 경제,시사, ...', 'thumbnails': {'default': {'url': 'https://i.ytimg.com/vi/5kNjCf76JSw/default.jpg', 'width': 120, 'height': 90}, 'medium': {'url': 'https://i.ytimg.com/vi/5kNjCf76JSw/mqdefault.jpg', 'width': 320, 'height': 180}, 'high': {'url': 'https://i.ytimg.com/vi/5kNjCf76JSw/hqdefault.jpg', 'width': 480, 'height': 360}}, 'channelTitle': '슈카월드', 'liveBroadcastContent': 'none', 'publishTime': '2022-06-08T13:27:47Z'}}\n",
      "{'kind': 'youtube#searchResult', 'etag': 'reTViNWZuRDhWojosKsc_iA81-g', 'id': {'kind': 'youtube#video', 'videoId': 'OFifk2zkUf0'}, 'snippet': {'publishedAt': '2022-06-07T12:49:46Z', 'channelId': 'UCsJ6RuBiTVWRX156FVbeaGg', 'title': '머스크 : 경제 망할 것 같은데?', 'description': '어렵고 딱딱한 경제,시사,금융 이야기를 쉽고 유쾌하게 풀어내는 경제/시사/이슈/잡썰 토크방송입니다. #SuperBadFeeling #허리케인.', 'thumbnails': {'default': {'url': 'https://i.ytimg.com/vi/OFifk2zkUf0/default.jpg', 'width': 120, 'height': 90}, 'medium': {'url': 'https://i.ytimg.com/vi/OFifk2zkUf0/mqdefault.jpg', 'width': 320, 'height': 180}, 'high': {'url': 'https://i.ytimg.com/vi/OFifk2zkUf0/hqdefault.jpg', 'width': 480, 'height': 360}}, 'channelTitle': '슈카월드', 'liveBroadcastContent': 'none', 'publishTime': '2022-06-07T12:49:46Z'}}\n",
      "{'kind': 'youtube#searchResult', 'etag': 'dYudegb2ouGxJ18siDIr6ttV4_Y', 'id': {'kind': 'youtube#video', 'videoId': '9cCHXpIuLJ4'}, 'snippet': {'publishedAt': '2022-06-06T12:00:12Z', 'channelId': 'UCsJ6RuBiTVWRX156FVbeaGg', 'title': '4대 연금 개혁, 성공할 수 있을까', 'description': '0:00 ~ 8:41 현재 논의되는 주요 안의 현재까지 기조 8:41 ~ 13:22 뜨거운 기초연금 인상 안 13:22 ~ 21:34 4대 공적연금 통합은 가능 ...', 'thumbnails': {'default': {'url': 'https://i.ytimg.com/vi/9cCHXpIuLJ4/default.jpg', 'width': 120, 'height': 90}, 'medium': {'url': 'https://i.ytimg.com/vi/9cCHXpIuLJ4/mqdefault.jpg', 'width': 320, 'height': 180}, 'high': {'url': 'https://i.ytimg.com/vi/9cCHXpIuLJ4/hqdefault.jpg', 'width': 480, 'height': 360}}, 'channelTitle': '슈카월드', 'liveBroadcastContent': 'none', 'publishTime': '2022-06-06T12:00:12Z'}}\n",
      "{'kind': 'youtube#searchResult', 'etag': '3vtzWJNi4SR-YRNm0oW0zfGSnCY', 'id': {'kind': 'youtube#video', 'videoId': '54w2X2BJ7EE'}, 'snippet': {'publishedAt': '2022-06-04T10:49:01Z', 'channelId': 'UCsJ6RuBiTVWRX156FVbeaGg', 'title': '피라미드 뺨때리는, 진시황 무덤의 도시전설', 'description': '0:00 ~ 9:02 단순한 무덤이 아닌 진시황릉 9:02 ~ 15:42 도굴시도만 17차례, 측천무후의 무덤 15:42 ~ 17:56 전설로만 남겨진 ...', 'thumbnails': {'default': {'url': 'https://i.ytimg.com/vi/54w2X2BJ7EE/default.jpg', 'width': 120, 'height': 90}, 'medium': {'url': 'https://i.ytimg.com/vi/54w2X2BJ7EE/mqdefault.jpg', 'width': 320, 'height': 180}, 'high': {'url': 'https://i.ytimg.com/vi/54w2X2BJ7EE/hqdefault.jpg', 'width': 480, 'height': 360}}, 'channelTitle': '슈카월드', 'liveBroadcastContent': 'none', 'publishTime': '2022-06-04T10:49:01Z'}}\n",
      "{'kind': 'youtube#searchResult', 'etag': 'aQpXAjQiiRz33GezNGiyLwZEtso', 'id': {'kind': 'youtube#video', 'videoId': 'Ho4WCmsifsU'}, 'snippet': {'publishedAt': '2022-06-03T12:30:03Z', 'channelId': 'UCsJ6RuBiTVWRX156FVbeaGg', 'title': '아프리카를 지켜준 인류 최악의 질병', 'description': '어렵고 딱딱한 경제,시사,금융 이야기를 쉽고 유쾌하게 풀어내는 경제/시사/이슈/잡썰 토크방송입니다. #학을떼다 #좃기.', 'thumbnails': {'default': {'url': 'https://i.ytimg.com/vi/Ho4WCmsifsU/default.jpg', 'width': 120, 'height': 90}, 'medium': {'url': 'https://i.ytimg.com/vi/Ho4WCmsifsU/mqdefault.jpg', 'width': 320, 'height': 180}, 'high': {'url': 'https://i.ytimg.com/vi/Ho4WCmsifsU/hqdefault.jpg', 'width': 480, 'height': 360}}, 'channelTitle': '슈카월드', 'liveBroadcastContent': 'none', 'publishTime': '2022-06-03T12:30:03Z'}}\n",
      "{'kind': 'youtube#searchResult', 'etag': 'MpXtFrsSykTIARGG66Jya_TCMMw', 'id': {'kind': 'youtube#video', 'videoId': 'oKWCubQ0xJs'}, 'snippet': {'publishedAt': '2022-06-02T10:43:48Z', 'channelId': 'UCsJ6RuBiTVWRX156FVbeaGg', 'title': '극심한 반중 정서와 아시아 혐오 범죄', 'description': '어렵고 딱딱한 경제,시사,금융 이야기를 쉽고 유쾌하게 풀어내는 경제/시사/이슈/잡썰 토크방송입니다. #BTS #AANHPI.', 'thumbnails': {'default': {'url': 'https://i.ytimg.com/vi/oKWCubQ0xJs/default.jpg', 'width': 120, 'height': 90}, 'medium': {'url': 'https://i.ytimg.com/vi/oKWCubQ0xJs/mqdefault.jpg', 'width': 320, 'height': 180}, 'high': {'url': 'https://i.ytimg.com/vi/oKWCubQ0xJs/hqdefault.jpg', 'width': 480, 'height': 360}}, 'channelTitle': '슈카월드', 'liveBroadcastContent': 'none', 'publishTime': '2022-06-02T10:43:48Z'}}\n",
      "{'kind': 'youtube#searchResult', 'etag': 'i4aKgrDXPF4Tz9yc91p_MYR6wHA', 'id': {'kind': 'youtube#video', 'videoId': 'zOaqRGP1F7E'}, 'snippet': {'publishedAt': '2022-06-01T11:26:39Z', 'channelId': 'UCsJ6RuBiTVWRX156FVbeaGg', 'title': '돈 잔치의 끝, 역대 최대 저축의 미국인들', 'description': '어렵고 딱딱한 경제,시사,금융 이야기를 쉽고 유쾌하게 풀어내는 경제/시사/이슈/잡썰 토크방송입니다. #넘치는통장잔고 #쓸까말까.', 'thumbnails': {'default': {'url': 'https://i.ytimg.com/vi/zOaqRGP1F7E/default.jpg', 'width': 120, 'height': 90}, 'medium': {'url': 'https://i.ytimg.com/vi/zOaqRGP1F7E/mqdefault.jpg', 'width': 320, 'height': 180}, 'high': {'url': 'https://i.ytimg.com/vi/zOaqRGP1F7E/hqdefault.jpg', 'width': 480, 'height': 360}}, 'channelTitle': '슈카월드', 'liveBroadcastContent': 'none', 'publishTime': '2022-06-01T11:26:39Z'}}\n",
      "{'kind': 'youtube#searchResult', 'etag': 'SnmKGdJOxU09YbZGfSB_ihX5mXY', 'id': {'kind': 'youtube#video', 'videoId': 'eFIX5cxGi-Q'}, 'snippet': {'publishedAt': '2022-05-31T12:00:15Z', 'channelId': 'UCsJ6RuBiTVWRX156FVbeaGg', 'title': '코인 폭락 발 고통의 소용돌이', 'description': '어렵고 딱딱한 경제,시사,금융 이야기를 쉽고 유쾌하게 풀어내는 경제/시사/이슈/잡썰 토크방송입니다. #탈중앙화 #스테이블.', 'thumbnails': {'default': {'url': 'https://i.ytimg.com/vi/eFIX5cxGi-Q/default.jpg', 'width': 120, 'height': 90}, 'medium': {'url': 'https://i.ytimg.com/vi/eFIX5cxGi-Q/mqdefault.jpg', 'width': 320, 'height': 180}, 'high': {'url': 'https://i.ytimg.com/vi/eFIX5cxGi-Q/hqdefault.jpg', 'width': 480, 'height': 360}}, 'channelTitle': '슈카월드', 'liveBroadcastContent': 'none', 'publishTime': '2022-05-31T12:00:15Z'}}\n",
      "{'kind': 'youtube#searchResult', 'etag': 'A5sOVU1wGwmqw63tXutRalQX7r4', 'id': {'kind': 'youtube#video', 'videoId': 'R0HmuvWC5tg'}, 'snippet': {'publishedAt': '2022-05-30T10:58:31Z', 'channelId': 'UCsJ6RuBiTVWRX156FVbeaGg', 'title': '머스크 : &quot;아~ 한국 망해써요&quot;', 'description': '0:00 ~ 10:03 머스크형이 한국 망했다고 한 이유 10:03 ~ 23:55 부유하고 아이를 갖기 싫어하는 아시아 국가들 (이코노미스트) 어렵고 ...', 'thumbnails': {'default': {'url': 'https://i.ytimg.com/vi/R0HmuvWC5tg/default.jpg', 'width': 120, 'height': 90}, 'medium': {'url': 'https://i.ytimg.com/vi/R0HmuvWC5tg/mqdefault.jpg', 'width': 320, 'height': 180}, 'high': {'url': 'https://i.ytimg.com/vi/R0HmuvWC5tg/hqdefault.jpg', 'width': 480, 'height': 360}}, 'channelTitle': '슈카월드', 'liveBroadcastContent': 'none', 'publishTime': '2022-05-30T10:58:31Z'}}\n",
      "{'kind': 'youtube#searchResult', 'etag': 'rVwpJ8V5n_V1MXBJ2TspTHgRhpU', 'id': {'kind': 'youtube#video', 'videoId': 'zWsgyjhR-OE'}, 'snippet': {'publishedAt': '2022-05-27T12:35:39Z', 'channelId': 'UCsJ6RuBiTVWRX156FVbeaGg', 'title': '일대일로의 축소와 흔들리는 국가들', 'description': '어렵고 딱딱한 경제,시사,금융 이야기를 쉽고 유쾌하게 풀어내는 경제/시사/이슈/잡썰 토크방송입니다. #스리랑카디폴트 #IMF.', 'thumbnails': {'default': {'url': 'https://i.ytimg.com/vi/zWsgyjhR-OE/default.jpg', 'width': 120, 'height': 90}, 'medium': {'url': 'https://i.ytimg.com/vi/zWsgyjhR-OE/mqdefault.jpg', 'width': 320, 'height': 180}, 'high': {'url': 'https://i.ytimg.com/vi/zWsgyjhR-OE/hqdefault.jpg', 'width': 480, 'height': 360}}, 'channelTitle': '슈카월드', 'liveBroadcastContent': 'none', 'publishTime': '2022-05-27T12:35:39Z'}}\n",
      "{'kind': 'youtube#searchResult', 'etag': 'Pe50fpYxvUkfcMQEMfSXxmIpx6Y', 'id': {'kind': 'youtube#video', 'videoId': 'mHCE1467rDk'}, 'snippet': {'publishedAt': '2022-05-26T12:11:23Z', 'channelId': 'UCsJ6RuBiTVWRX156FVbeaGg', 'title': '챔피언 말의 다리가 부러지면 벌어지는 일', 'description': '0:00 ~ 11:08 장제사란?, 명마 바바로(Barbaro) 사건 11:08 ~ 13:42 경마 역사상 최고의 명경기 13:42 ~ 17:47 얼룩말 승마는 왜 ...', 'thumbnails': {'default': {'url': 'https://i.ytimg.com/vi/mHCE1467rDk/default.jpg', 'width': 120, 'height': 90}, 'medium': {'url': 'https://i.ytimg.com/vi/mHCE1467rDk/mqdefault.jpg', 'width': 320, 'height': 180}, 'high': {'url': 'https://i.ytimg.com/vi/mHCE1467rDk/hqdefault.jpg', 'width': 480, 'height': 360}}, 'channelTitle': '슈카월드', 'liveBroadcastContent': 'none', 'publishTime': '2022-05-26T12:11:23Z'}}\n",
      "{'kind': 'youtube#searchResult', 'etag': 'j1kh4fLGOBiCHPxLRCWMaUO0jVg', 'id': {'kind': 'youtube#video', 'videoId': '3VLP69gYhJw'}, 'snippet': {'publishedAt': '2022-05-25T10:33:38Z', 'channelId': 'UCsJ6RuBiTVWRX156FVbeaGg', 'title': '대한민국 밀 수입 비중 99.5%, 빵터질 빵값', 'description': '0:00 ~ 6:51 인도 밀 전격 수출 금지, 글로벌 식량 공급난 6:51 ~ 32:46 밀 수출난으로 타격을 받을 국가들 어렵고 딱딱한 경제,시사, ...', 'thumbnails': {'default': {'url': 'https://i.ytimg.com/vi/3VLP69gYhJw/default.jpg', 'width': 120, 'height': 90}, 'medium': {'url': 'https://i.ytimg.com/vi/3VLP69gYhJw/mqdefault.jpg', 'width': 320, 'height': 180}, 'high': {'url': 'https://i.ytimg.com/vi/3VLP69gYhJw/hqdefault.jpg', 'width': 480, 'height': 360}}, 'channelTitle': '슈카월드', 'liveBroadcastContent': 'none', 'publishTime': '2022-05-25T10:33:38Z'}}\n",
      "{'kind': 'youtube#searchResult', 'etag': 'Jvr_9WQ6YEHvt53VuI0nSJxe68A', 'id': {'kind': 'youtube#video', 'videoId': 'fRpsPGWnbDU'}, 'snippet': {'publishedAt': '2022-05-24T12:10:10Z', 'channelId': 'UCsJ6RuBiTVWRX156FVbeaGg', 'title': '하락장 기로에 선 주식시장', 'description': \"0:00 ~ 11:02 20년만의 하락장과 쏟아지는 '버블론' 11:02 ~ 17:43 떨어지는 칼날을 잡지 마라 vs 공포에 사라 어렵고 딱딱한 경제,시사 ...\", 'thumbnails': {'default': {'url': 'https://i.ytimg.com/vi/fRpsPGWnbDU/default.jpg', 'width': 120, 'height': 90}, 'medium': {'url': 'https://i.ytimg.com/vi/fRpsPGWnbDU/mqdefault.jpg', 'width': 320, 'height': 180}, 'high': {'url': 'https://i.ytimg.com/vi/fRpsPGWnbDU/hqdefault.jpg', 'width': 480, 'height': 360}}, 'channelTitle': '슈카월드', 'liveBroadcastContent': 'none', 'publishTime': '2022-05-24T12:10:10Z'}}\n",
      "{'kind': 'youtube#searchResult', 'etag': 'kGdey_uvXp0pzOaODSQMqmPcmOo', 'id': {'kind': 'youtube#video', 'videoId': 'fTKjiVJ6fuI'}, 'snippet': {'publishedAt': '2022-05-23T11:19:49Z', 'channelId': 'UCsJ6RuBiTVWRX156FVbeaGg', 'title': '바이든 방한, 강력한 동맹의 요구', 'description': \"0:00 ~ 6:11 반도체 웨이퍼에 서명한 바이든 대통령 6:11 ~ 18:36 '칩4' 동맹과 애매한 입장의 대한민국 어렵고 딱딱한 경제,시사,금융 ...\", 'thumbnails': {'default': {'url': 'https://i.ytimg.com/vi/fTKjiVJ6fuI/default.jpg', 'width': 120, 'height': 90}, 'medium': {'url': 'https://i.ytimg.com/vi/fTKjiVJ6fuI/mqdefault.jpg', 'width': 320, 'height': 180}, 'high': {'url': 'https://i.ytimg.com/vi/fTKjiVJ6fuI/hqdefault.jpg', 'width': 480, 'height': 360}}, 'channelTitle': '슈카월드', 'liveBroadcastContent': 'none', 'publishTime': '2022-05-23T11:19:49Z'}}\n",
      "{'kind': 'youtube#searchResult', 'etag': 'rc775y4KZmc3A4npequ7763ZCU4', 'id': {'kind': 'youtube#video', 'videoId': '7VB8AREYeL8'}, 'snippet': {'publishedAt': '2022-05-20T11:39:02Z', 'channelId': 'UCsJ6RuBiTVWRX156FVbeaGg', 'title': '1,000년 간 찾고 있는 전설의 보물, 전국옥새', 'description': '어렵고 딱딱한 경제,시사,금융 이야기를 쉽고 유쾌하게 풀어내는 경제/시사/이슈/잡썰 토크방송입니다. 삼프로TV에서 새로운 강좌 ...', 'thumbnails': {'default': {'url': 'https://i.ytimg.com/vi/7VB8AREYeL8/default.jpg', 'width': 120, 'height': 90}, 'medium': {'url': 'https://i.ytimg.com/vi/7VB8AREYeL8/mqdefault.jpg', 'width': 320, 'height': 180}, 'high': {'url': 'https://i.ytimg.com/vi/7VB8AREYeL8/hqdefault.jpg', 'width': 480, 'height': 360}}, 'channelTitle': '슈카월드', 'liveBroadcastContent': 'none', 'publishTime': '2022-05-20T11:39:02Z'}}\n",
      "{'kind': 'youtube#searchResult', 'etag': 'fTJ44MkeXSMuIg6NTKBjfS-fx0c', 'id': {'kind': 'youtube#video', 'videoId': 'saFQ-EZl6dc'}, 'snippet': {'publishedAt': '2022-05-19T11:03:26Z', 'channelId': 'UCsJ6RuBiTVWRX156FVbeaGg', 'title': '일본 섬, 대만 섬, 대한민국 섬?', 'description': '어렵고 딱딱한 경제,시사,금융 이야기를 쉽고 유쾌하게 풀어내는 경제/시사/이슈/잡썰 토크방송입니다. 삼프로TV에서 새로운 강좌 ...', 'thumbnails': {'default': {'url': 'https://i.ytimg.com/vi/saFQ-EZl6dc/default.jpg', 'width': 120, 'height': 90}, 'medium': {'url': 'https://i.ytimg.com/vi/saFQ-EZl6dc/mqdefault.jpg', 'width': 320, 'height': 180}, 'high': {'url': 'https://i.ytimg.com/vi/saFQ-EZl6dc/hqdefault.jpg', 'width': 480, 'height': 360}}, 'channelTitle': '슈카월드', 'liveBroadcastContent': 'none', 'publishTime': '2022-05-19T11:03:26Z'}}\n",
      "{'kind': 'youtube#searchResult', 'etag': 'esyvz6qO44yL2DqbrEUiJpZMmes', 'id': {'kind': 'youtube#video', 'videoId': '-VUuOgXNTI4'}, 'snippet': {'publishedAt': '2022-05-18T10:45:31Z', 'channelId': 'UCsJ6RuBiTVWRX156FVbeaGg', 'title': '2022 필리핀 대선, 독재자 아들의 귀환', 'description': '어렵고 딱딱한 경제,시사,금융 이야기를 쉽고 유쾌하게 풀어내는 경제/시사/이슈/잡썰 토크방송입니다. 삼프로TV에서 새로운 강좌 ...', 'thumbnails': {'default': {'url': 'https://i.ytimg.com/vi/-VUuOgXNTI4/default.jpg', 'width': 120, 'height': 90}, 'medium': {'url': 'https://i.ytimg.com/vi/-VUuOgXNTI4/mqdefault.jpg', 'width': 320, 'height': 180}, 'high': {'url': 'https://i.ytimg.com/vi/-VUuOgXNTI4/hqdefault.jpg', 'width': 480, 'height': 360}}, 'channelTitle': '슈카월드', 'liveBroadcastContent': 'none', 'publishTime': '2022-05-18T10:45:31Z'}}\n",
      "{'kind': 'youtube#searchResult', 'etag': 'lVVYOnXS5kOGlUXiGbyWm4gati4', 'id': {'kind': 'youtube#video', 'videoId': 'Xq6_GscZYbo'}, 'snippet': {'publishedAt': '2022-05-17T11:19:07Z', 'channelId': 'UCsJ6RuBiTVWRX156FVbeaGg', 'title': '무법자 전성시대', 'description': '0:00 ~ 13:35 \\'GUN법\\'이 난무하는 주주\"총\"회 시대 13:35 ~ 20:47 시스템 공격 사건들과 금융 제도 밖에 있는 상품의 리스크 20:47 ...', 'thumbnails': {'default': {'url': 'https://i.ytimg.com/vi/Xq6_GscZYbo/default.jpg', 'width': 120, 'height': 90}, 'medium': {'url': 'https://i.ytimg.com/vi/Xq6_GscZYbo/mqdefault.jpg', 'width': 320, 'height': 180}, 'high': {'url': 'https://i.ytimg.com/vi/Xq6_GscZYbo/hqdefault.jpg', 'width': 480, 'height': 360}}, 'channelTitle': '슈카월드', 'liveBroadcastContent': 'none', 'publishTime': '2022-05-17T11:19:07Z'}}\n",
      "{'kind': 'youtube#searchResult', 'etag': 'NcETXp4zEbf08U8WBtt1SclsgGg', 'id': {'kind': 'youtube#video', 'videoId': 'BpxYrggvX6U'}, 'snippet': {'publishedAt': '2022-05-16T10:41:57Z', 'channelId': 'UCsJ6RuBiTVWRX156FVbeaGg', 'title': '북한, 국가 최중대 비상사태 선언', 'description': '어렵고 딱딱한 경제,시사,금융 이야기를 쉽고 유쾌하게 풀어내는 경제/시사/이슈/잡썰 토크방송입니다. 삼프로TV에서 새로운 강좌 ...', 'thumbnails': {'default': {'url': 'https://i.ytimg.com/vi/BpxYrggvX6U/default.jpg', 'width': 120, 'height': 90}, 'medium': {'url': 'https://i.ytimg.com/vi/BpxYrggvX6U/mqdefault.jpg', 'width': 320, 'height': 180}, 'high': {'url': 'https://i.ytimg.com/vi/BpxYrggvX6U/hqdefault.jpg', 'width': 480, 'height': 360}}, 'channelTitle': '슈카월드', 'liveBroadcastContent': 'none', 'publishTime': '2022-05-16T10:41:57Z'}}\n",
      "{'kind': 'youtube#searchResult', 'etag': 'RVPp5MPrM_iWkh6geR43_CrohQ0', 'id': {'kind': 'youtube#video', 'videoId': 'smAgk5_BouE'}, 'snippet': {'publishedAt': '2022-05-13T11:39:40Z', 'channelId': 'UCsJ6RuBiTVWRX156FVbeaGg', 'title': '미국도 개인투자자를 &quot;개미&quot;라고 부를까?', 'description': '어렵고 딱딱한 경제,시사,금융 이야기를 쉽고 유쾌하게 풀어내는 경제/시사/이슈/잡썰 토크방송입니다. 삼프로TV에서 새로운 강좌 ...', 'thumbnails': {'default': {'url': 'https://i.ytimg.com/vi/smAgk5_BouE/default.jpg', 'width': 120, 'height': 90}, 'medium': {'url': 'https://i.ytimg.com/vi/smAgk5_BouE/mqdefault.jpg', 'width': 320, 'height': 180}, 'high': {'url': 'https://i.ytimg.com/vi/smAgk5_BouE/hqdefault.jpg', 'width': 480, 'height': 360}}, 'channelTitle': '슈카월드', 'liveBroadcastContent': 'none', 'publishTime': '2022-05-13T11:39:40Z'}}\n",
      "{'kind': 'youtube#searchResult', 'etag': 'g_DfkpyxoskzMFinq4w8LLAFUgI', 'id': {'kind': 'youtube#video', 'videoId': 'S8luMxVDlEI'}, 'snippet': {'publishedAt': '2022-05-12T12:22:45Z', 'channelId': 'UCsJ6RuBiTVWRX156FVbeaGg', 'title': '엔화 약세와 생활물가 충격, 일본의 딜레마', 'description': '어렵고 딱딱한 경제,시사,금융 이야기를 쉽고 유쾌하게 풀어내는 경제/시사/이슈/잡썰 토크방송입니다. 삼프로TV에서 새로운 강좌 ...', 'thumbnails': {'default': {'url': 'https://i.ytimg.com/vi/S8luMxVDlEI/default.jpg', 'width': 120, 'height': 90}, 'medium': {'url': 'https://i.ytimg.com/vi/S8luMxVDlEI/mqdefault.jpg', 'width': 320, 'height': 180}, 'high': {'url': 'https://i.ytimg.com/vi/S8luMxVDlEI/hqdefault.jpg', 'width': 480, 'height': 360}}, 'channelTitle': '슈카월드', 'liveBroadcastContent': 'none', 'publishTime': '2022-05-12T12:22:45Z'}}\n",
      "{'kind': 'youtube#searchResult', 'etag': 'ZJECxnaaPule8kaLj6UFFY_m5WA', 'id': {'kind': 'youtube#video', 'videoId': 'Ip7bKoaKSjI'}, 'snippet': {'publishedAt': '2022-05-11T11:03:11Z', 'channelId': 'UCsJ6RuBiTVWRX156FVbeaGg', 'title': '미래 화폐 주도권, 누가 가져갈 것인가', 'description': '0:00 ~ 7:45 중앙은행 디지털 화폐(CBDC) 글로벌 국가들의 관심 7:45 ~ 11:30 스테이블 코인의 등장 11:30 ~ 30:12 가능성과 위험성 ...', 'thumbnails': {'default': {'url': 'https://i.ytimg.com/vi/Ip7bKoaKSjI/default.jpg', 'width': 120, 'height': 90}, 'medium': {'url': 'https://i.ytimg.com/vi/Ip7bKoaKSjI/mqdefault.jpg', 'width': 320, 'height': 180}, 'high': {'url': 'https://i.ytimg.com/vi/Ip7bKoaKSjI/hqdefault.jpg', 'width': 480, 'height': 360}}, 'channelTitle': '슈카월드', 'liveBroadcastContent': 'none', 'publishTime': '2022-05-11T11:03:11Z'}}\n",
      "{'kind': 'youtube#searchResult', 'etag': 'iv5rbs8VNM8ij1gcSQ0txZOdokQ', 'id': {'kind': 'youtube#video', 'videoId': 'UHYzh4daWgM'}, 'snippet': {'publishedAt': '2022-05-09T07:27:31Z', 'channelId': 'UCsJ6RuBiTVWRX156FVbeaGg', 'title': '5월 9일 러시아 전승기념일, 중대발표가 있을까?', 'description': '어렵고 딱딱한 경제,시사,금융 이야기를 쉽고 유쾌하게 풀어내는 경제/시사/이슈/잡썰 토크방송입니다. 삼프로TV에서 새로운 강좌 ...', 'thumbnails': {'default': {'url': 'https://i.ytimg.com/vi/UHYzh4daWgM/default.jpg', 'width': 120, 'height': 90}, 'medium': {'url': 'https://i.ytimg.com/vi/UHYzh4daWgM/mqdefault.jpg', 'width': 320, 'height': 180}, 'high': {'url': 'https://i.ytimg.com/vi/UHYzh4daWgM/hqdefault.jpg', 'width': 480, 'height': 360}}, 'channelTitle': '슈카월드', 'liveBroadcastContent': 'none', 'publishTime': '2022-05-09T07:27:31Z'}}\n",
      "{'kind': 'youtube#searchResult', 'etag': 'nnH-nCYONPrsMkfJkoLPORX1S-U', 'id': {'kind': 'youtube#video', 'videoId': 'IYZSGuz7pZk'}, 'snippet': {'publishedAt': '2022-05-07T14:14:48Z', 'channelId': 'UCsJ6RuBiTVWRX156FVbeaGg', 'title': '나이 60쯤 되니 인생에서 알게된 것들 (번역)', 'description': \"0:00 ~ 14:13 인생은 계획대로 되지 않더라 14:13 ~ 19:48 어느 순간 사회에서 '사랑'이 사라진 느낌 어렵고 딱딱한 경제,시사,금융 ...\", 'thumbnails': {'default': {'url': 'https://i.ytimg.com/vi/IYZSGuz7pZk/default.jpg', 'width': 120, 'height': 90}, 'medium': {'url': 'https://i.ytimg.com/vi/IYZSGuz7pZk/mqdefault.jpg', 'width': 320, 'height': 180}, 'high': {'url': 'https://i.ytimg.com/vi/IYZSGuz7pZk/hqdefault.jpg', 'width': 480, 'height': 360}}, 'channelTitle': '슈카월드', 'liveBroadcastContent': 'none', 'publishTime': '2022-05-07T14:14:48Z'}}\n",
      "{'kind': 'youtube#searchResult', 'etag': 'vcEHcZ84lQBTaYsNdzv4ghUPYfU', 'id': {'kind': 'youtube#video', 'videoId': 'vpGP9N9rRUQ'}, 'snippet': {'publishedAt': '2022-05-06T11:22:25Z', 'channelId': 'UCsJ6RuBiTVWRX156FVbeaGg', 'title': '과연 사회분열을 막는 해법은 있을까?', 'description': '0:00 ~ 7:33 머스크, 54조원 트위터를 지르다 7:33 ~ 17:27 사회 분열을 막을 수 있을 것인가 어렵고 딱딱한 경제,시사,금융 이야기를 ...', 'thumbnails': {'default': {'url': 'https://i.ytimg.com/vi/vpGP9N9rRUQ/default.jpg', 'width': 120, 'height': 90}, 'medium': {'url': 'https://i.ytimg.com/vi/vpGP9N9rRUQ/mqdefault.jpg', 'width': 320, 'height': 180}, 'high': {'url': 'https://i.ytimg.com/vi/vpGP9N9rRUQ/hqdefault.jpg', 'width': 480, 'height': 360}}, 'channelTitle': '슈카월드', 'liveBroadcastContent': 'none', 'publishTime': '2022-05-06T11:22:25Z'}}\n",
      "{'kind': 'youtube#searchResult', 'etag': 'Nalelx3fFjngfbq88HNZX6idExI', 'id': {'kind': 'youtube#video', 'videoId': 'WISw-qCU0rc'}, 'snippet': {'publishedAt': '2022-05-05T13:23:43Z', 'channelId': 'UCsJ6RuBiTVWRX156FVbeaGg', 'title': '돈이 빠지면 사기가 드러난다.', 'description': '어렵고 딱딱한 경제,시사,금융 이야기를 쉽고 유쾌하게 풀어내는 경제/시사/이슈/잡썰 토크방송입니다. 삼프로TV에서 새로운 강좌 ...', 'thumbnails': {'default': {'url': 'https://i.ytimg.com/vi/WISw-qCU0rc/default.jpg', 'width': 120, 'height': 90}, 'medium': {'url': 'https://i.ytimg.com/vi/WISw-qCU0rc/mqdefault.jpg', 'width': 320, 'height': 180}, 'high': {'url': 'https://i.ytimg.com/vi/WISw-qCU0rc/hqdefault.jpg', 'width': 480, 'height': 360}}, 'channelTitle': '슈카월드', 'liveBroadcastContent': 'none', 'publishTime': '2022-05-05T13:23:43Z'}}\n",
      "{'kind': 'youtube#searchResult', 'etag': '_xTkBJ7wRC1qco9w9OPdBGEAX5w', 'id': {'kind': 'youtube#video', 'videoId': 'MMzDkzlrN1A'}, 'snippet': {'publishedAt': '2022-05-04T10:11:32Z', 'channelId': 'UCsJ6RuBiTVWRX156FVbeaGg', 'title': '기존 GPS는 가라. 한국형 KPS가 온다', 'description': '어렵고 딱딱한 경제,시사,금융 이야기를 쉽고 유쾌하게 풀어내는 경제/시사/이슈/잡썰 토크방송입니다. 삼프로TV에서 새로운 강좌 ...', 'thumbnails': {'default': {'url': 'https://i.ytimg.com/vi/MMzDkzlrN1A/default.jpg', 'width': 120, 'height': 90}, 'medium': {'url': 'https://i.ytimg.com/vi/MMzDkzlrN1A/mqdefault.jpg', 'width': 320, 'height': 180}, 'high': {'url': 'https://i.ytimg.com/vi/MMzDkzlrN1A/hqdefault.jpg', 'width': 480, 'height': 360}}, 'channelTitle': '슈카월드', 'liveBroadcastContent': 'none', 'publishTime': '2022-05-04T10:11:32Z'}}\n",
      "{'kind': 'youtube#searchResult', 'etag': 'lbloRGUWvvTwnbMW0AU5RhQV1Sg', 'id': {'kind': 'youtube#video', 'videoId': 'PpWM851Y8ow'}, 'snippet': {'publishedAt': '2022-05-02T11:53:40Z', 'channelId': 'UCsJ6RuBiTVWRX156FVbeaGg', 'title': '추풍낙엽 글로벌 대기업 주가, 삼전은 선녀였다?', 'description': '0:00 ~ 4:11 심상치않은 나스닥 차트, 구글 실적 부진? 4:11 ~ 7:38 아마존 10년만에 일일 최대폭 하락 7:38 ~ 13:22 고점대비 -81% ...', 'thumbnails': {'default': {'url': 'https://i.ytimg.com/vi/PpWM851Y8ow/default.jpg', 'width': 120, 'height': 90}, 'medium': {'url': 'https://i.ytimg.com/vi/PpWM851Y8ow/mqdefault.jpg', 'width': 320, 'height': 180}, 'high': {'url': 'https://i.ytimg.com/vi/PpWM851Y8ow/hqdefault.jpg', 'width': 480, 'height': 360}}, 'channelTitle': '슈카월드', 'liveBroadcastContent': 'none', 'publishTime': '2022-05-02T11:53:40Z'}}\n",
      "{'kind': 'youtube#searchResult', 'etag': '88EK9hR76O2EEIC_Xlh-3tpiK2s', 'id': {'kind': 'youtube#video', 'videoId': 'qAkJrkqp9SI'}, 'snippet': {'publishedAt': '2022-04-30T10:41:05Z', 'channelId': 'UCsJ6RuBiTVWRX156FVbeaGg', 'title': '소싯적엔 껌 좀 씹었지', 'description': '어렵고 딱딱한 경제,시사,금융 이야기를 쉽고 유쾌하게 풀어내는 경제/시사/이슈/잡썰 토크방송입니다. 삼프로TV에서 새로운 강좌 ...', 'thumbnails': {'default': {'url': 'https://i.ytimg.com/vi/qAkJrkqp9SI/default.jpg', 'width': 120, 'height': 90}, 'medium': {'url': 'https://i.ytimg.com/vi/qAkJrkqp9SI/mqdefault.jpg', 'width': 320, 'height': 180}, 'high': {'url': 'https://i.ytimg.com/vi/qAkJrkqp9SI/hqdefault.jpg', 'width': 480, 'height': 360}}, 'channelTitle': '슈카월드', 'liveBroadcastContent': 'none', 'publishTime': '2022-04-30T10:41:05Z'}}\n",
      "{'kind': 'youtube#searchResult', 'etag': 'Br8Ziybjj4DZTPqSTa_mvDWv8og', 'id': {'kind': 'youtube#video', 'videoId': '1zyPI6MUa-w'}, 'snippet': {'publishedAt': '2022-04-29T11:56:51Z', 'channelId': 'UCsJ6RuBiTVWRX156FVbeaGg', 'title': '러시아는 왜 몰도바를 노리나', 'description': '어렵고 딱딱한 경제,시사,금융 이야기를 쉽고 유쾌하게 풀어내는 경제/시사/이슈/잡썰 토크방송입니다. 삼프로TV에서 새로운 강좌 ...', 'thumbnails': {'default': {'url': 'https://i.ytimg.com/vi/1zyPI6MUa-w/default.jpg', 'width': 120, 'height': 90}, 'medium': {'url': 'https://i.ytimg.com/vi/1zyPI6MUa-w/mqdefault.jpg', 'width': 320, 'height': 180}, 'high': {'url': 'https://i.ytimg.com/vi/1zyPI6MUa-w/hqdefault.jpg', 'width': 480, 'height': 360}}, 'channelTitle': '슈카월드', 'liveBroadcastContent': 'none', 'publishTime': '2022-04-29T11:56:51Z'}}\n",
      "{'kind': 'youtube#searchResult', 'etag': 'qMYEAt0-KEeygrR3lddoxX45XhM', 'id': {'kind': 'youtube#video', 'videoId': 'M1v-AqKMANY'}, 'snippet': {'publishedAt': '2022-04-28T12:06:11Z', 'channelId': 'UCsJ6RuBiTVWRX156FVbeaGg', 'title': '사회보험의 미래, 더 내느냐 덜 받느냐', 'description': '어렵고 딱딱한 경제,시사,금융 이야기를 쉽고 유쾌하게 풀어내는 경제/시사/이슈/잡썰 토크방송입니다. 삼프로TV에서 새로운 강좌 ...', 'thumbnails': {'default': {'url': 'https://i.ytimg.com/vi/M1v-AqKMANY/default.jpg', 'width': 120, 'height': 90}, 'medium': {'url': 'https://i.ytimg.com/vi/M1v-AqKMANY/mqdefault.jpg', 'width': 320, 'height': 180}, 'high': {'url': 'https://i.ytimg.com/vi/M1v-AqKMANY/hqdefault.jpg', 'width': 480, 'height': 360}}, 'channelTitle': '슈카월드', 'liveBroadcastContent': 'none', 'publishTime': '2022-04-28T12:06:11Z'}}\n",
      "{'kind': 'youtube#searchResult', 'etag': 'tctuDglkiugDGmn11pmxdymjx-Q', 'id': {'kind': 'youtube#video', 'videoId': 'pcP0Uvb4t5A'}, 'snippet': {'publishedAt': '2022-04-27T10:56:59Z', 'channelId': 'UCsJ6RuBiTVWRX156FVbeaGg', 'title': '석유는 공룡 썩은 물인가', 'description': '0:00 ~ 10:47 석유는 공룡즙인가? 10:47 ~ 20:26 화성에도 석유가 있을 수 있다? 20:26 ~ 21:56 무료 광고 어렵고 딱딱한 경제,시사, ...', 'thumbnails': {'default': {'url': 'https://i.ytimg.com/vi/pcP0Uvb4t5A/default.jpg', 'width': 120, 'height': 90}, 'medium': {'url': 'https://i.ytimg.com/vi/pcP0Uvb4t5A/mqdefault.jpg', 'width': 320, 'height': 180}, 'high': {'url': 'https://i.ytimg.com/vi/pcP0Uvb4t5A/hqdefault.jpg', 'width': 480, 'height': 360}}, 'channelTitle': '슈카월드', 'liveBroadcastContent': 'none', 'publishTime': '2022-04-27T10:56:59Z'}}\n",
      "{'kind': 'youtube#searchResult', 'etag': '4a84xBRQhVGe1yVZ6yrUI7ur8tQ', 'id': {'kind': 'youtube#video', 'videoId': 'y5ZOOi1AreU'}, 'snippet': {'publishedAt': '2022-04-26T10:01:59Z', 'channelId': 'UCsJ6RuBiTVWRX156FVbeaGg', 'title': '임금 인상의 시대, 벌어지는 임금 격차', 'description': '0:00 ~ 6:04 강한 임금 인상 요구가 일어나는 시대 6:04 ~ 16:19 대기업vs중소기업 간 벌어지는 임금 격차 어렵고 딱딱한 경제,시사, ...', 'thumbnails': {'default': {'url': 'https://i.ytimg.com/vi/y5ZOOi1AreU/default.jpg', 'width': 120, 'height': 90}, 'medium': {'url': 'https://i.ytimg.com/vi/y5ZOOi1AreU/mqdefault.jpg', 'width': 320, 'height': 180}, 'high': {'url': 'https://i.ytimg.com/vi/y5ZOOi1AreU/hqdefault.jpg', 'width': 480, 'height': 360}}, 'channelTitle': '슈카월드', 'liveBroadcastContent': 'none', 'publishTime': '2022-04-26T10:01:59Z'}}\n",
      "{'kind': 'youtube#searchResult', 'etag': '4hzuqqetzBHIX48svLyUolgOllM', 'id': {'kind': 'youtube#video', 'videoId': 'gFFh-7BGZHw'}, 'snippet': {'publishedAt': '2022-04-23T09:35:35Z', 'channelId': 'UCsJ6RuBiTVWRX156FVbeaGg', 'title': '충격요법을 사용 중인 미국 연준', 'description': '0:00 ~ 12:52 극명하게 갈리는 현재와 미래에 대한 기대 12:52 ~ 17:16 충격요법을 사용 중인 FED 삼프로TV에서 새로운 강좌 ...', 'thumbnails': {'default': {'url': 'https://i.ytimg.com/vi/gFFh-7BGZHw/default.jpg', 'width': 120, 'height': 90}, 'medium': {'url': 'https://i.ytimg.com/vi/gFFh-7BGZHw/mqdefault.jpg', 'width': 320, 'height': 180}, 'high': {'url': 'https://i.ytimg.com/vi/gFFh-7BGZHw/hqdefault.jpg', 'width': 480, 'height': 360}}, 'channelTitle': '슈카월드', 'liveBroadcastContent': 'none', 'publishTime': '2022-04-23T09:35:35Z'}}\n",
      "{'kind': 'youtube#searchResult', 'etag': '__hkbO6Y-EPW_K6XG72ZP2SdzMQ', 'id': {'kind': 'youtube#video', 'videoId': 'D02dpR1R4_0'}, 'snippet': {'publishedAt': '2022-04-22T12:15:39Z', 'channelId': 'UCsJ6RuBiTVWRX156FVbeaGg', 'title': '최악의 환경재난 가습기 살균제 사건은 왜 잊혀졌나?', 'description': '어렵고 딱딱한 경제,시사,금융 이야기를 쉽고 유쾌하게 풀어내는 경제/시사/이슈/잡썰 토크방송입니다. 삼프로TV에서 새로운 강좌 ...', 'thumbnails': {'default': {'url': 'https://i.ytimg.com/vi/D02dpR1R4_0/default.jpg', 'width': 120, 'height': 90}, 'medium': {'url': 'https://i.ytimg.com/vi/D02dpR1R4_0/mqdefault.jpg', 'width': 320, 'height': 180}, 'high': {'url': 'https://i.ytimg.com/vi/D02dpR1R4_0/hqdefault.jpg', 'width': 480, 'height': 360}}, 'channelTitle': '슈카월드', 'liveBroadcastContent': 'none', 'publishTime': '2022-04-22T12:15:39Z'}}\n",
      "{'kind': 'youtube#searchResult', 'etag': '4YV4lz9RX_51pTnOE1vQTfhDj6M', 'id': {'kind': 'youtube#video', 'videoId': 'N9v1MU8G_O8'}, 'snippet': {'publishedAt': '2022-04-21T09:49:07Z', 'channelId': 'UCsJ6RuBiTVWRX156FVbeaGg', 'title': '요즘 NFT가 핫하다면서요?', 'description': '어렵고 딱딱한 경제,시사,금융 이야기를 쉽고 유쾌하게 풀어내는 경제/시사/이슈/잡썰 토크방송입니다. 삼프로TV에서 새로운 강좌 ...', 'thumbnails': {'default': {'url': 'https://i.ytimg.com/vi/N9v1MU8G_O8/default.jpg', 'width': 120, 'height': 90}, 'medium': {'url': 'https://i.ytimg.com/vi/N9v1MU8G_O8/mqdefault.jpg', 'width': 320, 'height': 180}, 'high': {'url': 'https://i.ytimg.com/vi/N9v1MU8G_O8/hqdefault.jpg', 'width': 480, 'height': 360}}, 'channelTitle': '슈카월드', 'liveBroadcastContent': 'none', 'publishTime': '2022-04-21T09:49:07Z'}}\n",
      "{'kind': 'youtube#searchResult', 'etag': 'dgI0xUaskKe_aAe12u6P85Gj5BQ', 'id': {'kind': 'youtube#video', 'videoId': 'Tcl9RSvyk5U'}, 'snippet': {'publishedAt': '2022-04-19T11:31:22Z', 'channelId': 'UCsJ6RuBiTVWRX156FVbeaGg', 'title': '흑해 함대 자존심의 침몰, 고립되는 러시아', 'description': '어렵고 딱딱한 경제,시사,금융 이야기를 쉽고 유쾌하게 풀어내는 경제/시사/이슈/잡썰 토크방송입니다. 삼프로TV에서 새로운 강좌 ...', 'thumbnails': {'default': {'url': 'https://i.ytimg.com/vi/Tcl9RSvyk5U/default.jpg', 'width': 120, 'height': 90}, 'medium': {'url': 'https://i.ytimg.com/vi/Tcl9RSvyk5U/mqdefault.jpg', 'width': 320, 'height': 180}, 'high': {'url': 'https://i.ytimg.com/vi/Tcl9RSvyk5U/hqdefault.jpg', 'width': 480, 'height': 360}}, 'channelTitle': '슈카월드', 'liveBroadcastContent': 'none', 'publishTime': '2022-04-19T11:31:22Z'}}\n",
      "{'kind': 'youtube#searchResult', 'etag': 'MdTrNAKeMJVtsiZMpDNcfb2YNk0', 'id': {'kind': 'youtube#video', 'videoId': '1npyzRY9-q4'}, 'snippet': {'publishedAt': '2022-04-18T10:17:05Z', 'channelId': 'UCsJ6RuBiTVWRX156FVbeaGg', 'title': '김과장, 우리 오랜만에 회식이나 한 번 하지?', 'description': '0:00 ~ 12:47 거리두기 전면 해제 12:47 ~ 16:40 보복소비는 가라! 보복회식이 왔다. 삼프로TV에서 새로운 강좌 프로그램을 오픈 ...', 'thumbnails': {'default': {'url': 'https://i.ytimg.com/vi/1npyzRY9-q4/default.jpg', 'width': 120, 'height': 90}, 'medium': {'url': 'https://i.ytimg.com/vi/1npyzRY9-q4/mqdefault.jpg', 'width': 320, 'height': 180}, 'high': {'url': 'https://i.ytimg.com/vi/1npyzRY9-q4/hqdefault.jpg', 'width': 480, 'height': 360}}, 'channelTitle': '슈카월드', 'liveBroadcastContent': 'none', 'publishTime': '2022-04-18T10:17:05Z'}}\n",
      "{'kind': 'youtube#searchResult', 'etag': 'k8HV9Y4KQcgms6JmIc-asZTVGik', 'id': {'kind': 'youtube#video', 'videoId': 'hVpimP9iO_E'}, 'snippet': {'publishedAt': '2022-04-15T12:40:29Z', 'channelId': 'UCsJ6RuBiTVWRX156FVbeaGg', 'title': '충격적인 애벌레의 변태과정', 'description': '어렵고 딱딱한 경제,시사,금융 이야기를 쉽고 유쾌하게 풀어내는 경제/시사/이슈/잡썰 토크방송입니다. #신비한세계 #약혐주의.', 'thumbnails': {'default': {'url': 'https://i.ytimg.com/vi/hVpimP9iO_E/default.jpg', 'width': 120, 'height': 90}, 'medium': {'url': 'https://i.ytimg.com/vi/hVpimP9iO_E/mqdefault.jpg', 'width': 320, 'height': 180}, 'high': {'url': 'https://i.ytimg.com/vi/hVpimP9iO_E/hqdefault.jpg', 'width': 480, 'height': 360}}, 'channelTitle': '슈카월드', 'liveBroadcastContent': 'none', 'publishTime': '2022-04-15T12:40:29Z'}}\n",
      "{'kind': 'youtube#searchResult', 'etag': 'VQbXrUQk5XlnD_OewlVmU641ba8', 'id': {'kind': 'youtube#video', 'videoId': 'iEIxOzw_tWc'}, 'snippet': {'publishedAt': '2022-04-14T13:30:52Z', 'channelId': 'UCsJ6RuBiTVWRX156FVbeaGg', 'title': '겁없는 자신감의 나라 대한민국', 'description': '0:00 ~ 1:39 대한민국 부자 TOP 10 1:39 ~ 19:20 글로벌 기업가 정신과 창업하기 좋은 대한민국? 어렵고 딱딱한 경제,시사,금융 ...', 'thumbnails': {'default': {'url': 'https://i.ytimg.com/vi/iEIxOzw_tWc/default.jpg', 'width': 120, 'height': 90}, 'medium': {'url': 'https://i.ytimg.com/vi/iEIxOzw_tWc/mqdefault.jpg', 'width': 320, 'height': 180}, 'high': {'url': 'https://i.ytimg.com/vi/iEIxOzw_tWc/hqdefault.jpg', 'width': 480, 'height': 360}}, 'channelTitle': '슈카월드', 'liveBroadcastContent': 'none', 'publishTime': '2022-04-14T13:30:52Z'}}\n",
      "{'kind': 'youtube#searchResult', 'etag': 'TUIJbakJzm2x5_nW44Y9rML0MSU', 'id': {'kind': 'youtube#video', 'videoId': 'aH-94ovHZPI'}, 'snippet': {'publishedAt': '2022-04-13T09:55:46Z', 'channelId': 'UCsJ6RuBiTVWRX156FVbeaGg', 'title': '줄어드는 현역 군인, 모병제 전환 가능할까', 'description': '0:00 ~ 12:16 출산율 감소에 따른 현역병 부족 해결을 위한 씽크빅 12:16 ~ 18:25 K-ARMY 복권? 어렵고 딱딱한 경제,시사,금융 ...', 'thumbnails': {'default': {'url': 'https://i.ytimg.com/vi/aH-94ovHZPI/default.jpg', 'width': 120, 'height': 90}, 'medium': {'url': 'https://i.ytimg.com/vi/aH-94ovHZPI/mqdefault.jpg', 'width': 320, 'height': 180}, 'high': {'url': 'https://i.ytimg.com/vi/aH-94ovHZPI/hqdefault.jpg', 'width': 480, 'height': 360}}, 'channelTitle': '슈카월드', 'liveBroadcastContent': 'none', 'publishTime': '2022-04-13T09:55:46Z'}}\n",
      "{'kind': 'youtube#searchResult', 'etag': 'iDTBmHEYr9CShpbWFtlHIs86yX4', 'id': {'kind': 'youtube#video', 'videoId': 'nagdNSgBhfk'}, 'snippet': {'publishedAt': '2022-04-12T09:54:10Z', 'channelId': 'UCsJ6RuBiTVWRX156FVbeaGg', 'title': '&quot;표현의 자유는 절대적이다&quot; 일론 머스크의 트위터 투자', 'description': '어렵고 딱딱한 경제,시사,금융 이야기를 쉽고 유쾌하게 풀어내는 경제/시사/이슈/잡썰 토크방송입니다. #일론머스크 #트위터.', 'thumbnails': {'default': {'url': 'https://i.ytimg.com/vi/nagdNSgBhfk/default.jpg', 'width': 120, 'height': 90}, 'medium': {'url': 'https://i.ytimg.com/vi/nagdNSgBhfk/mqdefault.jpg', 'width': 320, 'height': 180}, 'high': {'url': 'https://i.ytimg.com/vi/nagdNSgBhfk/hqdefault.jpg', 'width': 480, 'height': 360}}, 'channelTitle': '슈카월드', 'liveBroadcastContent': 'none', 'publishTime': '2022-04-12T09:54:10Z'}}\n",
      "{'kind': 'youtube#searchResult', 'etag': 'LVSss6LqNwv7QpuiRopC2WHW_zg', 'id': {'kind': 'youtube#video', 'videoId': 'Pn6KvIvNm7E'}, 'snippet': {'publishedAt': '2022-04-11T10:39:31Z', 'channelId': 'UCsJ6RuBiTVWRX156FVbeaGg', 'title': '중국만 코로나를 피해갈 수 있을까?', 'description': '어렵고 딱딱한 경제,시사,금융 이야기를 쉽고 유쾌하게 풀어내는 경제/시사/이슈/잡썰 토크방송입니다. #세계최대물동량 #전면봉쇄 ...', 'thumbnails': {'default': {'url': 'https://i.ytimg.com/vi/Pn6KvIvNm7E/default.jpg', 'width': 120, 'height': 90}, 'medium': {'url': 'https://i.ytimg.com/vi/Pn6KvIvNm7E/mqdefault.jpg', 'width': 320, 'height': 180}, 'high': {'url': 'https://i.ytimg.com/vi/Pn6KvIvNm7E/hqdefault.jpg', 'width': 480, 'height': 360}}, 'channelTitle': '슈카월드', 'liveBroadcastContent': 'none', 'publishTime': '2022-04-11T10:39:31Z'}}\n",
      "{'kind': 'youtube#searchResult', 'etag': 'Zr7dmfJk21MYC3Hyqad-f5RtxfQ', 'id': {'kind': 'youtube#video', 'videoId': 'YSRXKVYgJ0E'}, 'snippet': {'publishedAt': '2022-04-09T10:08:17Z', 'channelId': 'UCsJ6RuBiTVWRX156FVbeaGg', 'title': '마기꾼 전용 소개팅 TIP', 'description': '어렵고 딱딱한 경제,시사,금융 이야기를 쉽고 유쾌하게 풀어내는 경제/시사/이슈/잡썰 토크방송입니다. #마기꾼 #셀기꾼.', 'thumbnails': {'default': {'url': 'https://i.ytimg.com/vi/YSRXKVYgJ0E/default.jpg', 'width': 120, 'height': 90}, 'medium': {'url': 'https://i.ytimg.com/vi/YSRXKVYgJ0E/mqdefault.jpg', 'width': 320, 'height': 180}, 'high': {'url': 'https://i.ytimg.com/vi/YSRXKVYgJ0E/hqdefault.jpg', 'width': 480, 'height': 360}}, 'channelTitle': '슈카월드', 'liveBroadcastContent': 'none', 'publishTime': '2022-04-09T10:08:17Z'}}\n",
      "{'kind': 'youtube#searchResult', 'etag': 'Aq5PTpOTfVLJLZCPEOz-noLYtZY', 'id': {'kind': 'youtube#video', 'videoId': 'qv829gU9NIU'}, 'snippet': {'publishedAt': '2022-04-07T10:36:02Z', 'channelId': 'UCsJ6RuBiTVWRX156FVbeaGg', 'title': '바람 잘 날 없는 쌍용차 수난시대', 'description': '어렵고 딱딱한 경제,시사,금융 이야기를 쉽고 유쾌하게 풀어내는 경제/시사/이슈/잡썰 토크방송입니다. #IMF #체어맨.', 'thumbnails': {'default': {'url': 'https://i.ytimg.com/vi/qv829gU9NIU/default.jpg', 'width': 120, 'height': 90}, 'medium': {'url': 'https://i.ytimg.com/vi/qv829gU9NIU/mqdefault.jpg', 'width': 320, 'height': 180}, 'high': {'url': 'https://i.ytimg.com/vi/qv829gU9NIU/hqdefault.jpg', 'width': 480, 'height': 360}}, 'channelTitle': '슈카월드', 'liveBroadcastContent': 'none', 'publishTime': '2022-04-07T10:36:02Z'}}\n",
      "{'kind': 'youtube#searchResult', 'etag': '9dGoJ0tlTYATPLquN8ZcThdxpzE', 'id': {'kind': 'youtube#video', 'videoId': 'I2T1y2CbnuE'}, 'snippet': {'publishedAt': '2022-04-06T10:45:46Z', 'channelId': 'UCsJ6RuBiTVWRX156FVbeaGg', 'title': '아이부터 어른까지, 끝나지 않는 대한민국 사교육', 'description': '어렵고 딱딱한 경제,시사,금융 이야기를 쉽고 유쾌하게 풀어내는 경제/시사/이슈/잡썰 토크방송입니다. #메가스터디 #일타강사.', 'thumbnails': {'default': {'url': 'https://i.ytimg.com/vi/I2T1y2CbnuE/default.jpg', 'width': 120, 'height': 90}, 'medium': {'url': 'https://i.ytimg.com/vi/I2T1y2CbnuE/mqdefault.jpg', 'width': 320, 'height': 180}, 'high': {'url': 'https://i.ytimg.com/vi/I2T1y2CbnuE/hqdefault.jpg', 'width': 480, 'height': 360}}, 'channelTitle': '슈카월드', 'liveBroadcastContent': 'none', 'publishTime': '2022-04-06T10:45:46Z'}}\n",
      "{'kind': 'youtube#searchResult', 'etag': 'NQPyRIIuTsURhry9zt1-rvjpBvU', 'id': {'kind': 'youtube#video', 'videoId': 'aQKHPB1L21Y'}, 'snippet': {'publishedAt': '2022-04-05T10:47:27Z', 'channelId': 'UCsJ6RuBiTVWRX156FVbeaGg', 'title': '거센 도전 앞에 선, &#39;기술의 삼성전자&#39;', 'description': '0:00 ~ 9:31 글로벌 반도체 업계 현황 9:31 ~ 13:32 기술의 삼성, 기술에서 밀리는 것인가 13:32 ~ 21:39 그렇다면 스마트폰은? 어렵고 ...', 'thumbnails': {'default': {'url': 'https://i.ytimg.com/vi/aQKHPB1L21Y/default.jpg', 'width': 120, 'height': 90}, 'medium': {'url': 'https://i.ytimg.com/vi/aQKHPB1L21Y/mqdefault.jpg', 'width': 320, 'height': 180}, 'high': {'url': 'https://i.ytimg.com/vi/aQKHPB1L21Y/hqdefault.jpg', 'width': 480, 'height': 360}}, 'channelTitle': '슈카월드', 'liveBroadcastContent': 'none', 'publishTime': '2022-04-05T10:47:27Z'}}\n"
     ]
    },
    {
     "name": "stdout",
     "output_type": "stream",
     "text": [
      "{'kind': 'youtube#searchResult', 'etag': 'l5B8RI2xe8skmHemodHLDH_sSQQ', 'id': {'kind': 'youtube#video', 'videoId': 'LInAlSXgEys'}, 'snippet': {'publishedAt': '2022-04-02T10:55:27Z', 'channelId': 'UCsJ6RuBiTVWRX156FVbeaGg', 'title': '경제대국 한국, 삶의 만족도 사실상 꼴등', 'description': '0:00 ~ 4:37 코로나 이후 삶의 만족도 지수 4:37 ~ 16:54 OECD 삶의 질 뒤에서 3위 대한민국 어렵고 딱딱한 경제,시사,금융 이야기를 ...', 'thumbnails': {'default': {'url': 'https://i.ytimg.com/vi/LInAlSXgEys/default.jpg', 'width': 120, 'height': 90}, 'medium': {'url': 'https://i.ytimg.com/vi/LInAlSXgEys/mqdefault.jpg', 'width': 320, 'height': 180}, 'high': {'url': 'https://i.ytimg.com/vi/LInAlSXgEys/hqdefault.jpg', 'width': 480, 'height': 360}}, 'channelTitle': '슈카월드', 'liveBroadcastContent': 'none', 'publishTime': '2022-04-02T10:55:27Z'}}\n",
      "{'kind': 'youtube#searchResult', 'etag': 'mU-zax7SSzLdcY7YepctmARJrN0', 'id': {'kind': 'youtube#video', 'videoId': 'k-rqdDGQtPU'}, 'snippet': {'publishedAt': '2022-03-31T11:03:14Z', 'channelId': 'UCsJ6RuBiTVWRX156FVbeaGg', 'title': '폭발왕 마이클베이 감독 신작, 앰뷸런스 [유료 광고 포함]', 'description': '이 영상은 유니버설 픽쳐스의 유료광고를 포함하고 있습니다. 어렵고 딱딱한 경제,시사,금융 이야기를 쉽고 유쾌하게 풀어내는 경제/ ...', 'thumbnails': {'default': {'url': 'https://i.ytimg.com/vi/k-rqdDGQtPU/default.jpg', 'width': 120, 'height': 90}, 'medium': {'url': 'https://i.ytimg.com/vi/k-rqdDGQtPU/mqdefault.jpg', 'width': 320, 'height': 180}, 'high': {'url': 'https://i.ytimg.com/vi/k-rqdDGQtPU/hqdefault.jpg', 'width': 480, 'height': 360}}, 'channelTitle': '슈카월드', 'liveBroadcastContent': 'none', 'publishTime': '2022-03-31T11:03:14Z'}}\n",
      "{'kind': 'youtube#searchResult', 'etag': 'RMifgAQLGy-gnPx9nPtDSESQE_U', 'id': {'kind': 'youtube#video', 'videoId': 'PXPfzZ1xWpE'}, 'snippet': {'publishedAt': '2022-03-30T11:38:24Z', 'channelId': 'UCsJ6RuBiTVWRX156FVbeaGg', 'title': '50년 래 최저치로 떨어진 혼인 숫자, 극심한 결혼 부담', 'description': '어렵고 딱딱한 경제,시사,금융 이야기를 쉽고 유쾌하게 풀어내는 경제/시사/이슈/잡썰 토크방송입니다. #혼외출산 #결혼부담.', 'thumbnails': {'default': {'url': 'https://i.ytimg.com/vi/PXPfzZ1xWpE/default.jpg', 'width': 120, 'height': 90}, 'medium': {'url': 'https://i.ytimg.com/vi/PXPfzZ1xWpE/mqdefault.jpg', 'width': 320, 'height': 180}, 'high': {'url': 'https://i.ytimg.com/vi/PXPfzZ1xWpE/hqdefault.jpg', 'width': 480, 'height': 360}}, 'channelTitle': '슈카월드', 'liveBroadcastContent': 'none', 'publishTime': '2022-03-30T11:38:24Z'}}\n",
      "{'kind': 'youtube#searchResult', 'etag': 'nBpFuSv3lLJ8yVDTdiC1va-m3sI', 'id': {'kind': 'youtube#video', 'videoId': 'IqmgZ5apM0c'}, 'snippet': {'publishedAt': '2022-03-29T13:42:53Z', 'channelId': 'UCsJ6RuBiTVWRX156FVbeaGg', 'title': '어쩌다보니 테마주? 역대 최고가를 찍은 안랩', 'description': '0:00 ~ 10:43 어쩌다보니 테마주 안랩 10:43 ~ 13:36 코데즈컴바인 코스닥 2위 사태 13:36 ~ 15:47 SM이 카리나 싸인을 뿌리는 까닭 ...', 'thumbnails': {'default': {'url': 'https://i.ytimg.com/vi/IqmgZ5apM0c/default.jpg', 'width': 120, 'height': 90}, 'medium': {'url': 'https://i.ytimg.com/vi/IqmgZ5apM0c/mqdefault.jpg', 'width': 320, 'height': 180}, 'high': {'url': 'https://i.ytimg.com/vi/IqmgZ5apM0c/hqdefault.jpg', 'width': 480, 'height': 360}}, 'channelTitle': '슈카월드', 'liveBroadcastContent': 'none', 'publishTime': '2022-03-29T13:42:53Z'}}\n",
      "{'kind': 'youtube#searchResult', 'etag': 'pYfdMVXRcctkCoH0fN5hIOiRolM', 'id': {'kind': 'youtube#video', 'videoId': 'WWPqcx5kpSg'}, 'snippet': {'publishedAt': '2022-03-28T11:29:23Z', 'channelId': 'UCsJ6RuBiTVWRX156FVbeaGg', 'title': '주식의 어려움. 비슷했던 생각 전혀 다른 결과', 'description': '어렵고 딱딱한 경제,시사,금융 이야기를 쉽고 유쾌하게 풀어내는 경제/시사/이슈/잡썰 토크방송입니다. #주식 #워렌버핏 #야바위.', 'thumbnails': {'default': {'url': 'https://i.ytimg.com/vi/WWPqcx5kpSg/default.jpg', 'width': 120, 'height': 90}, 'medium': {'url': 'https://i.ytimg.com/vi/WWPqcx5kpSg/mqdefault.jpg', 'width': 320, 'height': 180}, 'high': {'url': 'https://i.ytimg.com/vi/WWPqcx5kpSg/hqdefault.jpg', 'width': 480, 'height': 360}}, 'channelTitle': '슈카월드', 'liveBroadcastContent': 'none', 'publishTime': '2022-03-28T11:29:23Z'}}\n",
      "{'kind': 'youtube#searchResult', 'etag': 'jC_eD3frgArqhsLjrG79vH4LgxQ', 'id': {'kind': 'youtube#video', 'videoId': '-cAnZemBevE'}, 'snippet': {'publishedAt': '2022-03-25T11:05:24Z', 'channelId': 'UCsJ6RuBiTVWRX156FVbeaGg', 'title': '가장 치열했던 고지전, 백마고지의 혈전과 영웅', 'description': '0:00 ~ 10:54 70년만에 발견된 백마고지 영웅 10:54 ~ 18:50 치열했던 고지전, 백마고지의 혈전 어렵고 딱딱한 경제,시사,금융 이야기 ...', 'thumbnails': {'default': {'url': 'https://i.ytimg.com/vi/-cAnZemBevE/default.jpg', 'width': 120, 'height': 90}, 'medium': {'url': 'https://i.ytimg.com/vi/-cAnZemBevE/mqdefault.jpg', 'width': 320, 'height': 180}, 'high': {'url': 'https://i.ytimg.com/vi/-cAnZemBevE/hqdefault.jpg', 'width': 480, 'height': 360}}, 'channelTitle': '슈카월드', 'liveBroadcastContent': 'none', 'publishTime': '2022-03-25T11:05:24Z'}}\n",
      "{'kind': 'youtube#searchResult', 'etag': 'ckf9wbEWK0Tlo_86HoPuJOg6X2U', 'id': {'kind': 'youtube#video', 'videoId': 'oMb1gxv-ckc'}, 'snippet': {'publishedAt': '2022-03-24T12:43:48Z', 'channelId': 'UCsJ6RuBiTVWRX156FVbeaGg', 'title': '감당하기 쉽지 않은 ADHD의 어려움', 'description': '0:00 ~ 6:49 성격이나 기질의 문제가 아닌 ADHD 6:49 ~ 24:39 감당이 쉽지 않은 ADHD, 성인까지도? 어렵고 딱딱한 경제,시사,금융 ...', 'thumbnails': {'default': {'url': 'https://i.ytimg.com/vi/oMb1gxv-ckc/default.jpg', 'width': 120, 'height': 90}, 'medium': {'url': 'https://i.ytimg.com/vi/oMb1gxv-ckc/mqdefault.jpg', 'width': 320, 'height': 180}, 'high': {'url': 'https://i.ytimg.com/vi/oMb1gxv-ckc/hqdefault.jpg', 'width': 480, 'height': 360}}, 'channelTitle': '슈카월드', 'liveBroadcastContent': 'none', 'publishTime': '2022-03-24T12:43:48Z'}}\n",
      "{'kind': 'youtube#searchResult', 'etag': 'xZPcU_GSHFgVILjd3OwzEbu0-es', 'id': {'kind': 'youtube#video', 'videoId': 'DbK_j3tWHf4'}, 'snippet': {'publishedAt': '2022-03-23T12:15:27Z', 'channelId': 'UCsJ6RuBiTVWRX156FVbeaGg', 'title': '가뭄, 전쟁, 유가폭등, 총체적 난국의 밥상 물가', 'description': '0:00 ~ 4:48 세계적 곡창지대의 마비 4:48 ~ 11:03 농업국가들의 곡물 수출 제한 11:03 ~ 15:30 오일쇼크 이후 기록적 유가 상승 15:30 ...', 'thumbnails': {'default': {'url': 'https://i.ytimg.com/vi/DbK_j3tWHf4/default.jpg', 'width': 120, 'height': 90}, 'medium': {'url': 'https://i.ytimg.com/vi/DbK_j3tWHf4/mqdefault.jpg', 'width': 320, 'height': 180}, 'high': {'url': 'https://i.ytimg.com/vi/DbK_j3tWHf4/hqdefault.jpg', 'width': 480, 'height': 360}}, 'channelTitle': '슈카월드', 'liveBroadcastContent': 'none', 'publishTime': '2022-03-23T12:15:27Z'}}\n",
      "{'kind': 'youtube#searchResult', 'etag': 'RTtN3yR1cLhEnWzUAwvMAJqHVkk', 'id': {'kind': 'youtube#video', 'videoId': 'tuK3aweESbU'}, 'snippet': {'publishedAt': '2022-03-22T11:34:38Z', 'channelId': 'UCsJ6RuBiTVWRX156FVbeaGg', 'title': '코로나 확진 1,000만 명 돌파, 무덤덤해진 사회', 'description': '어렵고 딱딱한 경제,시사,금융 이야기를 쉽고 유쾌하게 풀어내는 경제/시사/이슈/잡썰 토크방송입니다. #감기.', 'thumbnails': {'default': {'url': 'https://i.ytimg.com/vi/tuK3aweESbU/default.jpg', 'width': 120, 'height': 90}, 'medium': {'url': 'https://i.ytimg.com/vi/tuK3aweESbU/mqdefault.jpg', 'width': 320, 'height': 180}, 'high': {'url': 'https://i.ytimg.com/vi/tuK3aweESbU/hqdefault.jpg', 'width': 480, 'height': 360}}, 'channelTitle': '슈카월드', 'liveBroadcastContent': 'none', 'publishTime': '2022-03-22T11:34:38Z'}}\n",
      "{'kind': 'youtube#searchResult', 'etag': 'WZ88fqiZsAGy9ETXyeuQJehrSrU', 'id': {'kind': 'youtube#video', 'videoId': 'FXdiaYrLKsw'}, 'snippet': {'publishedAt': '2022-03-21T11:47:17Z', 'channelId': 'UCsJ6RuBiTVWRX156FVbeaGg', 'title': '초유의 니켈 거래정지 사태, 빅 숏(Big short)의 등장', 'description': '0:00 ~ 4:43 초유의 니켈 곱버스 ETN 거래중지 4:43 ~ 23:07 빅 숏 vs 빅 롱, 세기의 대결 23:07 ~ 27:08 머스크 vs 푸틴 원펀치 다이 ...', 'thumbnails': {'default': {'url': 'https://i.ytimg.com/vi/FXdiaYrLKsw/default.jpg', 'width': 120, 'height': 90}, 'medium': {'url': 'https://i.ytimg.com/vi/FXdiaYrLKsw/mqdefault.jpg', 'width': 320, 'height': 180}, 'high': {'url': 'https://i.ytimg.com/vi/FXdiaYrLKsw/hqdefault.jpg', 'width': 480, 'height': 360}}, 'channelTitle': '슈카월드', 'liveBroadcastContent': 'none', 'publishTime': '2022-03-21T11:47:17Z'}}\n",
      "{'kind': 'youtube#searchResult', 'etag': 'TMZLB5LC_1c31QNoS4cM5QJ1cK8', 'id': {'kind': 'youtube#video', 'videoId': 'hAz0IFrGV2c'}, 'snippet': {'publishedAt': '2022-03-18T12:58:14Z', 'channelId': 'UCsJ6RuBiTVWRX156FVbeaGg', 'title': '바나나 나무는 나무가 아니다?', 'description': '썸네일은 야자수로, 바나나나무는 아닙니다 어렵고 딱딱한 경제,시사,금융 이야기를 쉽고 유쾌하게 풀어내는 경제/시사/이슈/잡썰 토크 ...', 'thumbnails': {'default': {'url': 'https://i.ytimg.com/vi/hAz0IFrGV2c/default.jpg', 'width': 120, 'height': 90}, 'medium': {'url': 'https://i.ytimg.com/vi/hAz0IFrGV2c/mqdefault.jpg', 'width': 320, 'height': 180}, 'high': {'url': 'https://i.ytimg.com/vi/hAz0IFrGV2c/hqdefault.jpg', 'width': 480, 'height': 360}}, 'channelTitle': '슈카월드', 'liveBroadcastContent': 'none', 'publishTime': '2022-03-18T12:58:14Z'}}\n",
      "{'kind': 'youtube#searchResult', 'etag': 'CFQtZSFiApYDrLMxqoe6ccViScw', 'id': {'kind': 'youtube#video', 'videoId': 'SYjie1wPHnI'}, 'snippet': {'publishedAt': '2022-03-17T12:23:00Z', 'channelId': 'UCsJ6RuBiTVWRX156FVbeaGg', 'title': '차기 정부 경제, 부동산 공약 살펴보기', 'description': '0:00 ~ 9:09 경제 공약 살펴보기 9:09 ~ 17:37 부동산 공약 맛보기 어렵고 딱딱한 경제,시사,금융 이야기를 쉽고 유쾌하게 풀어내는 ...', 'thumbnails': {'default': {'url': 'https://i.ytimg.com/vi/SYjie1wPHnI/default.jpg', 'width': 120, 'height': 90}, 'medium': {'url': 'https://i.ytimg.com/vi/SYjie1wPHnI/mqdefault.jpg', 'width': 320, 'height': 180}, 'high': {'url': 'https://i.ytimg.com/vi/SYjie1wPHnI/hqdefault.jpg', 'width': 480, 'height': 360}}, 'channelTitle': '슈카월드', 'liveBroadcastContent': 'none', 'publishTime': '2022-03-17T12:23:00Z'}}\n",
      "{'kind': 'youtube#searchResult', 'etag': 'q7LDQreJem5mm4otnzn5rDZ4Nhw', 'id': {'kind': 'youtube#video', 'videoId': 'Fk-0XRcLZno'}, 'snippet': {'publishedAt': '2022-03-16T11:37:04Z', 'channelId': 'UCsJ6RuBiTVWRX156FVbeaGg', 'title': '우리는 왜 포켓몬 빵을 사는가', 'description': '0:00 ~ 3:10 포켓몬 빵 大흥행 3:10 ~ 16:58 포켓몬빵 대박의 진화론적 고찰 어렵고 딱딱한 경제,시사,금융 이야기를 쉽고 유쾌하게 ...', 'thumbnails': {'default': {'url': 'https://i.ytimg.com/vi/Fk-0XRcLZno/default.jpg', 'width': 120, 'height': 90}, 'medium': {'url': 'https://i.ytimg.com/vi/Fk-0XRcLZno/mqdefault.jpg', 'width': 320, 'height': 180}, 'high': {'url': 'https://i.ytimg.com/vi/Fk-0XRcLZno/hqdefault.jpg', 'width': 480, 'height': 360}}, 'channelTitle': '슈카월드', 'liveBroadcastContent': 'none', 'publishTime': '2022-03-16T11:37:04Z'}}\n",
      "{'kind': 'youtube#searchResult', 'etag': 'zCpxfScvv6PheHNraWHBO_Po2b4', 'id': {'kind': 'youtube#video', 'videoId': 'SXl_pnG0j94'}, 'snippet': {'publishedAt': '2022-03-15T12:16:27Z', 'channelId': 'UCsJ6RuBiTVWRX156FVbeaGg', 'title': '대한민국 우울증 OECD 1위', 'description': '어렵고 딱딱한 경제,시사,금융 이야기를 쉽고 유쾌하게 풀어내는 경제/시사/이슈/잡썰 토크방송입니다. #멘탈케어서비스.', 'thumbnails': {'default': {'url': 'https://i.ytimg.com/vi/SXl_pnG0j94/default.jpg', 'width': 120, 'height': 90}, 'medium': {'url': 'https://i.ytimg.com/vi/SXl_pnG0j94/mqdefault.jpg', 'width': 320, 'height': 180}, 'high': {'url': 'https://i.ytimg.com/vi/SXl_pnG0j94/hqdefault.jpg', 'width': 480, 'height': 360}}, 'channelTitle': '슈카월드', 'liveBroadcastContent': 'none', 'publishTime': '2022-03-15T12:16:27Z'}}\n",
      "{'kind': 'youtube#searchResult', 'etag': '9_xU0rtuN3t2nwShdlafngyFvp0', 'id': {'kind': 'youtube#video', 'videoId': 'fIKsJ3rdNQE'}, 'snippet': {'publishedAt': '2022-03-11T12:36:59Z', 'channelId': 'UCsJ6RuBiTVWRX156FVbeaGg', 'title': '문란했던 왕들과 콘돔의 탄생', 'description': \"어렵고 딱딱한 경제,시사,금융 이야기를 쉽고 유쾌하게 풀어내는 경제/시사/이슈/잡썰 토크방송입니다. #King'sCondom #왕의그것.\", 'thumbnails': {'default': {'url': 'https://i.ytimg.com/vi/fIKsJ3rdNQE/default.jpg', 'width': 120, 'height': 90}, 'medium': {'url': 'https://i.ytimg.com/vi/fIKsJ3rdNQE/mqdefault.jpg', 'width': 320, 'height': 180}, 'high': {'url': 'https://i.ytimg.com/vi/fIKsJ3rdNQE/hqdefault.jpg', 'width': 480, 'height': 360}}, 'channelTitle': '슈카월드', 'liveBroadcastContent': 'none', 'publishTime': '2022-03-11T12:36:59Z'}}\n",
      "{'kind': 'youtube#searchResult', 'etag': 'uCW6hF0XYhVQ1YeNCa40L9CoDUA', 'id': {'kind': 'youtube#video', 'videoId': 'MYTbq7PPpOs'}, 'snippet': {'publishedAt': '2022-03-09T12:09:37Z', 'channelId': 'UCsJ6RuBiTVWRX156FVbeaGg', 'title': '스팸 세계 2대 소비국 대한민국, 스팸에 무슨 일이?', 'description': '어렵고 딱딱한 경제,시사,금융 이야기를 쉽고 유쾌하게 풀어내는 경제/시사/이슈/잡썰 토크방송입니다. #SPAM #탄생비화.', 'thumbnails': {'default': {'url': 'https://i.ytimg.com/vi/MYTbq7PPpOs/default.jpg', 'width': 120, 'height': 90}, 'medium': {'url': 'https://i.ytimg.com/vi/MYTbq7PPpOs/mqdefault.jpg', 'width': 320, 'height': 180}, 'high': {'url': 'https://i.ytimg.com/vi/MYTbq7PPpOs/hqdefault.jpg', 'width': 480, 'height': 360}}, 'channelTitle': '슈카월드', 'liveBroadcastContent': 'none', 'publishTime': '2022-03-09T12:09:37Z'}}\n",
      "{'kind': 'youtube#searchResult', 'etag': 'lQ-uy7zVwEdbmebOPEo4hZvQbIE', 'id': {'kind': 'youtube#video', 'videoId': 'F8nzqCKXBIw'}, 'snippet': {'publishedAt': '2022-03-08T11:49:02Z', 'channelId': 'UCsJ6RuBiTVWRX156FVbeaGg', 'title': '부끄러운 삼성 갤럭시 GOS 이슈', 'description': '0:00 ~ 7:22 삼성 갤럭시 GOS 이슈 7:22 ~ 11:50 폭스바겐 디젤게이트 11:50 ~ 16:12 애플 아이폰 배터리게이트 어렵고 딱딱한 경제, ...', 'thumbnails': {'default': {'url': 'https://i.ytimg.com/vi/F8nzqCKXBIw/default.jpg', 'width': 120, 'height': 90}, 'medium': {'url': 'https://i.ytimg.com/vi/F8nzqCKXBIw/mqdefault.jpg', 'width': 320, 'height': 180}, 'high': {'url': 'https://i.ytimg.com/vi/F8nzqCKXBIw/hqdefault.jpg', 'width': 480, 'height': 360}}, 'channelTitle': '슈카월드', 'liveBroadcastContent': 'none', 'publishTime': '2022-03-08T11:49:02Z'}}\n",
      "{'kind': 'youtube#searchResult', 'etag': 'BLu_aQzzeTwRQjAamrbUl34mA3U', 'id': {'kind': 'youtube#video', 'videoId': 'dOt5XkvB7wQ'}, 'snippet': {'publishedAt': '2022-03-04T12:22:13Z', 'channelId': 'UCsJ6RuBiTVWRX156FVbeaGg', 'title': '공룡은 새인가 파충류인가', 'description': '0:00 ~ 5:34 공룡은 조류가 파충류인가? 5:34 ~ 15:18 공룡 멸종때 생존한 동물 어렵고 딱딱한 경제,시사,금융 이야기를 쉽고 유쾌하게 ...', 'thumbnails': {'default': {'url': 'https://i.ytimg.com/vi/dOt5XkvB7wQ/default.jpg', 'width': 120, 'height': 90}, 'medium': {'url': 'https://i.ytimg.com/vi/dOt5XkvB7wQ/mqdefault.jpg', 'width': 320, 'height': 180}, 'high': {'url': 'https://i.ytimg.com/vi/dOt5XkvB7wQ/hqdefault.jpg', 'width': 480, 'height': 360}}, 'channelTitle': '슈카월드', 'liveBroadcastContent': 'none', 'publishTime': '2022-03-04T12:22:13Z'}}\n",
      "{'kind': 'youtube#searchResult', 'etag': 'vpd8PGsiclbOBmqmnD8GodK36A8', 'id': {'kind': 'youtube#video', 'videoId': 'neJBWvrutUA'}, 'snippet': {'publishedAt': '2022-03-03T10:09:17Z', 'channelId': 'UCsJ6RuBiTVWRX156FVbeaGg', 'title': '내 동료가 돼라! 샌드박스 대규모 채용 [유료광고 포함]', 'description': '샌드박스 2022년 상반기 대규모 채용 - 지원기간: 3/9 ~ 3/21 - 모집직무: 비즈니스, 컨텐츠 제작, 크리에이터 파트너십, 사업지원 등 전 ...', 'thumbnails': {'default': {'url': 'https://i.ytimg.com/vi/neJBWvrutUA/default.jpg', 'width': 120, 'height': 90}, 'medium': {'url': 'https://i.ytimg.com/vi/neJBWvrutUA/mqdefault.jpg', 'width': 320, 'height': 180}, 'high': {'url': 'https://i.ytimg.com/vi/neJBWvrutUA/hqdefault.jpg', 'width': 480, 'height': 360}}, 'channelTitle': '슈카월드', 'liveBroadcastContent': 'none', 'publishTime': '2022-03-03T10:09:17Z'}}\n",
      "{'kind': 'youtube#searchResult', 'etag': 'zoGidKVQ9XiciU7Y8K4x680xPcY', 'id': {'kind': 'youtube#video', 'videoId': 'Kf3Sz4fkYh4'}, 'snippet': {'publishedAt': '2022-03-02T12:30:11Z', 'channelId': 'UCsJ6RuBiTVWRX156FVbeaGg', 'title': '사실상의 도시국가 대한민국', 'description': '어렵고 딱딱한 경제,시사,금융 이야기를 쉽고 유쾌하게 풀어내는 경제/시사/이슈/잡썰 토크방송입니다. #극한의인구밀집 #싱가포르.', 'thumbnails': {'default': {'url': 'https://i.ytimg.com/vi/Kf3Sz4fkYh4/default.jpg', 'width': 120, 'height': 90}, 'medium': {'url': 'https://i.ytimg.com/vi/Kf3Sz4fkYh4/mqdefault.jpg', 'width': 320, 'height': 180}, 'high': {'url': 'https://i.ytimg.com/vi/Kf3Sz4fkYh4/hqdefault.jpg', 'width': 480, 'height': 360}}, 'channelTitle': '슈카월드', 'liveBroadcastContent': 'none', 'publishTime': '2022-03-02T12:30:11Z'}}\n",
      "{'kind': 'youtube#searchResult', 'etag': 'u-Di8pwLH0MXUIBkda55dHK34PM', 'id': {'kind': 'youtube#video', 'videoId': '7uF0eyZVnqs'}, 'snippet': {'publishedAt': '2022-03-01T12:01:19Z', 'channelId': 'UCsJ6RuBiTVWRX156FVbeaGg', 'title': '다음 BTS는 버츄얼 캐릭터일까?', 'description': '어렵고 딱딱한 경제,시사,금융 이야기를 쉽고 유쾌하게 풀어내는 경제/시사/이슈/잡썰 토크방송입니다. #버튜버.', 'thumbnails': {'default': {'url': 'https://i.ytimg.com/vi/7uF0eyZVnqs/default.jpg', 'width': 120, 'height': 90}, 'medium': {'url': 'https://i.ytimg.com/vi/7uF0eyZVnqs/mqdefault.jpg', 'width': 320, 'height': 180}, 'high': {'url': 'https://i.ytimg.com/vi/7uF0eyZVnqs/hqdefault.jpg', 'width': 480, 'height': 360}}, 'channelTitle': '슈카월드', 'liveBroadcastContent': 'none', 'publishTime': '2022-03-01T12:01:19Z'}}\n",
      "{'kind': 'youtube#searchResult', 'etag': 'yepphfwCmQ-KUU4w04E8wYUM8ig', 'id': {'kind': 'youtube#video', 'videoId': 'Tho3Rc_K_NY'}, 'snippet': {'publishedAt': '2022-02-25T12:13:37Z', 'channelId': 'UCsJ6RuBiTVWRX156FVbeaGg', 'title': '500년 만에 발견된 영국왕 리처드3세의 유골', 'description': '0:00 ~ 13:15 영국 왕가와 리처드3세의 비사 13:15 ~ 29:16 싱글벙글 DNA 검사 어렵고 딱딱한 경제,시사,금융 이야기를 쉽고 유쾌 ...', 'thumbnails': {'default': {'url': 'https://i.ytimg.com/vi/Tho3Rc_K_NY/default.jpg', 'width': 120, 'height': 90}, 'medium': {'url': 'https://i.ytimg.com/vi/Tho3Rc_K_NY/mqdefault.jpg', 'width': 320, 'height': 180}, 'high': {'url': 'https://i.ytimg.com/vi/Tho3Rc_K_NY/hqdefault.jpg', 'width': 480, 'height': 360}}, 'channelTitle': '슈카월드', 'liveBroadcastContent': 'none', 'publishTime': '2022-02-25T12:13:37Z'}}\n",
      "{'kind': 'youtube#searchResult', 'etag': 'HyRW0DM0LnLBt1liYhPIoUDZ_wU', 'id': {'kind': 'youtube#video', 'videoId': '3gtUsgjTrzQ'}, 'snippet': {'publishedAt': '2022-02-23T13:41:35Z', 'channelId': 'UCsJ6RuBiTVWRX156FVbeaGg', 'title': '동접 130만 로아가 요즘 잘나가는 이유', 'description': '어렵고 딱딱한 경제,시사,금융 이야기를 쉽고 유쾌하게 풀어내는 경제/시사/이슈/잡썰 토크방송입니다. #게임에서가장중요한것.', 'thumbnails': {'default': {'url': 'https://i.ytimg.com/vi/3gtUsgjTrzQ/default.jpg', 'width': 120, 'height': 90}, 'medium': {'url': 'https://i.ytimg.com/vi/3gtUsgjTrzQ/mqdefault.jpg', 'width': 320, 'height': 180}, 'high': {'url': 'https://i.ytimg.com/vi/3gtUsgjTrzQ/hqdefault.jpg', 'width': 480, 'height': 360}}, 'channelTitle': '슈카월드', 'liveBroadcastContent': 'none', 'publishTime': '2022-02-23T13:41:35Z'}}\n",
      "{'kind': 'youtube#searchResult', 'etag': 'BD_JO0D-ITfaB50IbRmrBdXbuUA', 'id': {'kind': 'youtube#video', 'videoId': 'YObEBukFC0Y'}, 'snippet': {'publishedAt': '2022-02-22T11:23:13Z', 'channelId': 'UCsJ6RuBiTVWRX156FVbeaGg', 'title': '이번 올림픽 보고 있기 힘들었던 순간', 'description': '약물복용을 옹호하는 영상이 아닙니다. 어렵고 딱딱한 경제,시사,금융 이야기를 쉽고 유쾌하게 풀어내는 경제/시사/이슈/잡썰 토크방송 ...', 'thumbnails': {'default': {'url': 'https://i.ytimg.com/vi/YObEBukFC0Y/default.jpg', 'width': 120, 'height': 90}, 'medium': {'url': 'https://i.ytimg.com/vi/YObEBukFC0Y/mqdefault.jpg', 'width': 320, 'height': 180}, 'high': {'url': 'https://i.ytimg.com/vi/YObEBukFC0Y/hqdefault.jpg', 'width': 480, 'height': 360}}, 'channelTitle': '슈카월드', 'liveBroadcastContent': 'none', 'publishTime': '2022-02-22T11:23:13Z'}}\n",
      "{'kind': 'youtube#searchResult', 'etag': 'AqVv6oXdaW4oanmb9bTPCl60ULs', 'id': {'kind': 'youtube#video', 'videoId': '9sKrSfelkac'}, 'snippet': {'publishedAt': '2022-02-17T09:59:30Z', 'channelId': 'UCsJ6RuBiTVWRX156FVbeaGg', 'title': '무신사, 커뮤니티에서 패션 플랫폼으로 [유료광고 포함]', 'description': '무신사 봄 신상 보러가기: https://bit.ly/3ss30Zq *슈카 님 착장 상품 (이벳필드 맨투맨): https://bit.ly/3GE3Sza *무신사 APP 쿠폰함에 ...', 'thumbnails': {'default': {'url': 'https://i.ytimg.com/vi/9sKrSfelkac/default.jpg', 'width': 120, 'height': 90}, 'medium': {'url': 'https://i.ytimg.com/vi/9sKrSfelkac/mqdefault.jpg', 'width': 320, 'height': 180}, 'high': {'url': 'https://i.ytimg.com/vi/9sKrSfelkac/hqdefault.jpg', 'width': 480, 'height': 360}}, 'channelTitle': '슈카월드', 'liveBroadcastContent': 'none', 'publishTime': '2022-02-17T09:59:30Z'}}\n",
      "{'kind': 'youtube#searchResult', 'etag': 'IOVTSHnijeRXRzwh3yT4_1qKw40', 'id': {'kind': 'youtube#video', 'videoId': '39KphFVJfRA'}, 'snippet': {'publishedAt': '2022-02-16T10:46:15Z', 'channelId': 'UCsJ6RuBiTVWRX156FVbeaGg', 'title': '슈카월드 악플읽기', 'description': '어렵고 딱딱한 경제,시사,금융 이야기를 쉽고 유쾌하게 풀어내는 경제/시사/이슈/잡썰 토크방송입니다. #재미있으면됐지뭐.', 'thumbnails': {'default': {'url': 'https://i.ytimg.com/vi/39KphFVJfRA/default.jpg', 'width': 120, 'height': 90}, 'medium': {'url': 'https://i.ytimg.com/vi/39KphFVJfRA/mqdefault.jpg', 'width': 320, 'height': 180}, 'high': {'url': 'https://i.ytimg.com/vi/39KphFVJfRA/hqdefault.jpg', 'width': 480, 'height': 360}}, 'channelTitle': '슈카월드', 'liveBroadcastContent': 'none', 'publishTime': '2022-02-16T10:46:15Z'}}\n",
      "{'kind': 'youtube#searchResult', 'etag': 'p3AaeHtRqyY7rAgYS9ASHAPaOBI', 'id': {'kind': 'youtube#video', 'videoId': 'cPibaVXISLI'}, 'snippet': {'publishedAt': '2022-02-15T10:21:04Z', 'channelId': 'UCsJ6RuBiTVWRX156FVbeaGg', 'title': '국민연금, 왜 고갈이 될까?', 'description': '어렵고 딱딱한 경제,시사,금융 이야기를 쉽고 유쾌하게 풀어내는 경제/시사/이슈/잡썰 토크방송입니다. #국민연금.', 'thumbnails': {'default': {'url': 'https://i.ytimg.com/vi/cPibaVXISLI/default.jpg', 'width': 120, 'height': 90}, 'medium': {'url': 'https://i.ytimg.com/vi/cPibaVXISLI/mqdefault.jpg', 'width': 320, 'height': 180}, 'high': {'url': 'https://i.ytimg.com/vi/cPibaVXISLI/hqdefault.jpg', 'width': 480, 'height': 360}}, 'channelTitle': '슈카월드', 'liveBroadcastContent': 'none', 'publishTime': '2022-02-15T10:21:04Z'}}\n",
      "{'kind': 'youtube#searchResult', 'etag': 'yQ6zoWrl62YcAQh1lRFgh9n7yA8', 'id': {'kind': 'youtube#video', 'videoId': 'H84t6YAG3Gk'}, 'snippet': {'publishedAt': '2022-02-14T09:51:59Z', 'channelId': 'UCsJ6RuBiTVWRX156FVbeaGg', 'title': '러시아 우크라이나 침공 일촉즉발', 'description': '0:00 ~ 3:54 바이든 : \"당장 우크라이나 떠나라\" 3:54 ~ 23:24 주요 국가별 각양각색의 반응 23:24 ~ 33:37 핵보유국 우크라이나의 후회 ...', 'thumbnails': {'default': {'url': 'https://i.ytimg.com/vi/H84t6YAG3Gk/default.jpg', 'width': 120, 'height': 90}, 'medium': {'url': 'https://i.ytimg.com/vi/H84t6YAG3Gk/mqdefault.jpg', 'width': 320, 'height': 180}, 'high': {'url': 'https://i.ytimg.com/vi/H84t6YAG3Gk/hqdefault.jpg', 'width': 480, 'height': 360}}, 'channelTitle': '슈카월드', 'liveBroadcastContent': 'none', 'publishTime': '2022-02-14T09:51:59Z'}}\n",
      "{'kind': 'youtube#searchResult', 'etag': '3DHF7fLK8qNp-Jv1liChZLEVYd8', 'id': {'kind': 'youtube#video', 'videoId': 'JdGLnmpO-Zc'}, 'snippet': {'publishedAt': '2022-02-11T11:54:12Z', 'channelId': 'UCsJ6RuBiTVWRX156FVbeaGg', 'title': '이집트 대(大)신전 이동 프로젝트 (어이 김씨~)', 'description': '0:00 ~ 2:04 세계에서 2번째 큰 인공 호수의 등장 2:04 ~ 22:25 3천 년 된 대신전 이동 프로젝트 어렵고 딱딱한 경제,시사,금융 이야기 ...', 'thumbnails': {'default': {'url': 'https://i.ytimg.com/vi/JdGLnmpO-Zc/default.jpg', 'width': 120, 'height': 90}, 'medium': {'url': 'https://i.ytimg.com/vi/JdGLnmpO-Zc/mqdefault.jpg', 'width': 320, 'height': 180}, 'high': {'url': 'https://i.ytimg.com/vi/JdGLnmpO-Zc/hqdefault.jpg', 'width': 480, 'height': 360}}, 'channelTitle': '슈카월드', 'liveBroadcastContent': 'none', 'publishTime': '2022-02-11T11:54:12Z'}}\n",
      "{'kind': 'youtube#searchResult', 'etag': '6uQ2Wzj-v1_25gS47CiW9nkU4VI', 'id': {'kind': 'youtube#video', 'videoId': 'AFP9170Dmbs'}, 'snippet': {'publishedAt': '2022-02-10T10:04:08Z', 'channelId': 'UCsJ6RuBiTVWRX156FVbeaGg', 'title': '한게임의 추억 NHN, IT종합 기업으로 변신 (유료광고 포함)', 'description': '영상은 NHN Dooray의 지원을 받아 제작되었습니다. 올인원 협업툴 Dooray: https://dooray.com/home/ 25인 이하 무료: ...', 'thumbnails': {'default': {'url': 'https://i.ytimg.com/vi/AFP9170Dmbs/default.jpg', 'width': 120, 'height': 90}, 'medium': {'url': 'https://i.ytimg.com/vi/AFP9170Dmbs/mqdefault.jpg', 'width': 320, 'height': 180}, 'high': {'url': 'https://i.ytimg.com/vi/AFP9170Dmbs/hqdefault.jpg', 'width': 480, 'height': 360}}, 'channelTitle': '슈카월드', 'liveBroadcastContent': 'none', 'publishTime': '2022-02-10T10:04:08Z'}}\n",
      "{'kind': 'youtube#searchResult', 'etag': 'sgYvPEZj-qoSR18gVA9fiUFJXkM', 'id': {'kind': 'youtube#video', 'videoId': 'e5_4zNPiDKU'}, 'snippet': {'publishedAt': '2022-02-09T13:02:56Z', 'channelId': 'UCsJ6RuBiTVWRX156FVbeaGg', 'title': '꿈이 있던 시대, 서울대 공대 85,86 학번과 친구들', 'description': '0:00 ~ 6:41 불꽃 같았던 90년대 6:41 ~ 18:51 인생의 기회를 잡은 학번들 자막서비스 개시! 자막설정으로 On/Off 선택하실 수 ...', 'thumbnails': {'default': {'url': 'https://i.ytimg.com/vi/e5_4zNPiDKU/default.jpg', 'width': 120, 'height': 90}, 'medium': {'url': 'https://i.ytimg.com/vi/e5_4zNPiDKU/mqdefault.jpg', 'width': 320, 'height': 180}, 'high': {'url': 'https://i.ytimg.com/vi/e5_4zNPiDKU/hqdefault.jpg', 'width': 480, 'height': 360}}, 'channelTitle': '슈카월드', 'liveBroadcastContent': 'none', 'publishTime': '2022-02-09T13:02:56Z'}}\n",
      "{'kind': 'youtube#searchResult', 'etag': '6GfQgoxqiu2BsfOEO3jQYfjd1wY', 'id': {'kind': 'youtube#video', 'videoId': 'azMqDSw00i8'}, 'snippet': {'publishedAt': '2022-02-08T12:16:42Z', 'channelId': 'UCsJ6RuBiTVWRX156FVbeaGg', 'title': '증시를 강타한 메타 쇼크, FANG 의 재편?', 'description': '자막서비스 개시! 자막설정으로 On/Off 선택하실 수 있습니다. 어렵고 딱딱한 경제,시사,금융 이야기를 쉽고 유쾌하게 풀어내는 경제/ ...', 'thumbnails': {'default': {'url': 'https://i.ytimg.com/vi/azMqDSw00i8/default.jpg', 'width': 120, 'height': 90}, 'medium': {'url': 'https://i.ytimg.com/vi/azMqDSw00i8/mqdefault.jpg', 'width': 320, 'height': 180}, 'high': {'url': 'https://i.ytimg.com/vi/azMqDSw00i8/hqdefault.jpg', 'width': 480, 'height': 360}}, 'channelTitle': '슈카월드', 'liveBroadcastContent': 'none', 'publishTime': '2022-02-08T12:16:42Z'}}\n",
      "{'kind': 'youtube#searchResult', 'etag': 'FCLGdzGS5eVLbWrtDlYRxjF60EY', 'id': {'kind': 'youtube#video', 'videoId': 'N554mNKPlz0'}, 'snippet': {'publishedAt': '2022-02-07T12:23:20Z', 'channelId': 'UCsJ6RuBiTVWRX156FVbeaGg', 'title': '좋좋소 열풍, 중소기업은 왜 좋소가 되었나', 'description': '0:00 ~ 7:06 벌어지는 워라밸과 임금의 차이 7:06 ~ 23:29 중소는 왜 좋소가 되었나 어렵고 딱딱한 경제,시사,금융 이야기를 쉽고 유쾌 ...', 'thumbnails': {'default': {'url': 'https://i.ytimg.com/vi/N554mNKPlz0/default.jpg', 'width': 120, 'height': 90}, 'medium': {'url': 'https://i.ytimg.com/vi/N554mNKPlz0/mqdefault.jpg', 'width': 320, 'height': 180}, 'high': {'url': 'https://i.ytimg.com/vi/N554mNKPlz0/hqdefault.jpg', 'width': 480, 'height': 360}}, 'channelTitle': '슈카월드', 'liveBroadcastContent': 'none', 'publishTime': '2022-02-07T12:23:20Z'}}\n",
      "{'kind': 'youtube#searchResult', 'etag': 'kD1KAYnqnu7B6x6J-JJw-em-hKo', 'id': {'kind': 'youtube#video', 'videoId': 'iMsr2AzHsN0'}, 'snippet': {'publishedAt': '2022-02-04T10:38:02Z', 'channelId': 'UCsJ6RuBiTVWRX156FVbeaGg', 'title': '한국인들은 바다 잡초도 먹나요? 해초?', 'description': '어렵고 딱딱한 경제,시사,금융 이야기를 쉽고 유쾌하게 풀어내는 경제/시사/이슈/잡썰 토크방송입니다. #해초소비1위비결 #잡초를 ...', 'thumbnails': {'default': {'url': 'https://i.ytimg.com/vi/iMsr2AzHsN0/default.jpg', 'width': 120, 'height': 90}, 'medium': {'url': 'https://i.ytimg.com/vi/iMsr2AzHsN0/mqdefault.jpg', 'width': 320, 'height': 180}, 'high': {'url': 'https://i.ytimg.com/vi/iMsr2AzHsN0/hqdefault.jpg', 'width': 480, 'height': 360}}, 'channelTitle': '슈카월드', 'liveBroadcastContent': 'none', 'publishTime': '2022-02-04T10:38:02Z'}}\n",
      "{'kind': 'youtube#searchResult', 'etag': '4nXFq_PtaWrhpvFnkCsLe5SMEBg', 'id': {'kind': 'youtube#video', 'videoId': 'JUcwXK9W_R0'}, 'snippet': {'publishedAt': '2022-02-03T13:03:08Z', 'channelId': 'UCsJ6RuBiTVWRX156FVbeaGg', 'title': '마음은 새내기, 몸은 헌내기', 'description': '0:00 ~ 12:07 코로나 학번의 비애 12:07 ~ 17:42 원하는 시간에 원하는 콘텐츠를 원하는 방식으로.. 어렵고 딱딱한 경제,시사,금융 ...', 'thumbnails': {'default': {'url': 'https://i.ytimg.com/vi/JUcwXK9W_R0/default.jpg', 'width': 120, 'height': 90}, 'medium': {'url': 'https://i.ytimg.com/vi/JUcwXK9W_R0/mqdefault.jpg', 'width': 320, 'height': 180}, 'high': {'url': 'https://i.ytimg.com/vi/JUcwXK9W_R0/hqdefault.jpg', 'width': 480, 'height': 360}}, 'channelTitle': '슈카월드', 'liveBroadcastContent': 'none', 'publishTime': '2022-02-03T13:03:08Z'}}\n",
      "{'kind': 'youtube#searchResult', 'etag': 'mfcbLyzERRNrs9uRekR7FrsPnzY', 'id': {'kind': 'youtube#video', 'videoId': 'dLqpJz_OqEg'}, 'snippet': {'publishedAt': '2022-02-02T10:26:50Z', 'channelId': 'UCsJ6RuBiTVWRX156FVbeaGg', 'title': '사우디-태국을 30년간 단절시킨 보석 절도 사건', 'description': '어렵고 딱딱한 경제,시사,금융 이야기를 쉽고 유쾌하게 풀어내는 경제/시사/이슈/잡썰 토크방송입니다. #영화보다더영화같은실화.', 'thumbnails': {'default': {'url': 'https://i.ytimg.com/vi/dLqpJz_OqEg/default.jpg', 'width': 120, 'height': 90}, 'medium': {'url': 'https://i.ytimg.com/vi/dLqpJz_OqEg/mqdefault.jpg', 'width': 320, 'height': 180}, 'high': {'url': 'https://i.ytimg.com/vi/dLqpJz_OqEg/hqdefault.jpg', 'width': 480, 'height': 360}}, 'channelTitle': '슈카월드', 'liveBroadcastContent': 'none', 'publishTime': '2022-02-02T10:26:50Z'}}\n",
      "{'kind': 'youtube#searchResult', 'etag': 'FbI23y5E_QuzByppFpM1Xm2-GHY', 'id': {'kind': 'youtube#video', 'videoId': 'sIGZGp_6IlQ'}, 'snippet': {'publishedAt': '2022-02-02T07:45:53Z', 'channelId': 'UCsJ6RuBiTVWRX156FVbeaGg', 'title': '(연휴특선) 슈카월드 과학상식 모아보기', 'description': '어렵고 딱딱한 경제,시사,금융 이야기를 쉽고 유쾌하게 풀어내는 경제/시사/이슈/잡썰 토크방송입니다. #과학상식.', 'thumbnails': {'default': {'url': 'https://i.ytimg.com/vi/sIGZGp_6IlQ/default.jpg', 'width': 120, 'height': 90}, 'medium': {'url': 'https://i.ytimg.com/vi/sIGZGp_6IlQ/mqdefault.jpg', 'width': 320, 'height': 180}, 'high': {'url': 'https://i.ytimg.com/vi/sIGZGp_6IlQ/hqdefault.jpg', 'width': 480, 'height': 360}}, 'channelTitle': '슈카월드', 'liveBroadcastContent': 'none', 'publishTime': '2022-02-02T07:45:53Z'}}\n",
      "{'kind': 'youtube#searchResult', 'etag': 'Y-naA6huPSwYl_MVhgYPDPHK_TU', 'id': {'kind': 'youtube#video', 'videoId': 'MMkMmCfioRg'}, 'snippet': {'publishedAt': '2022-02-01T06:20:59Z', 'channelId': 'UCsJ6RuBiTVWRX156FVbeaGg', 'title': '(연휴특선) 슈카월드 세계사 모아보기', 'description': '연휴 특집 세계사 컨텐츠 모음입니다. 즐거운 연휴 되시길 바랍니다. 어렵고 딱딱한 경제,시사,금융 이야기를 쉽고 유쾌하게 풀어내는 ...', 'thumbnails': {'default': {'url': 'https://i.ytimg.com/vi/MMkMmCfioRg/default.jpg', 'width': 120, 'height': 90}, 'medium': {'url': 'https://i.ytimg.com/vi/MMkMmCfioRg/mqdefault.jpg', 'width': 320, 'height': 180}, 'high': {'url': 'https://i.ytimg.com/vi/MMkMmCfioRg/hqdefault.jpg', 'width': 480, 'height': 360}}, 'channelTitle': '슈카월드', 'liveBroadcastContent': 'none', 'publishTime': '2022-02-01T06:20:59Z'}}\n",
      "{'kind': 'youtube#searchResult', 'etag': 'Hym_XdEP4YJHt6n5y8Dp9V2fmEc', 'id': {'kind': 'youtube#video', 'videoId': 'FzGF7o6kcxQ'}, 'snippet': {'publishedAt': '2022-01-31T08:30:05Z', 'channelId': 'UCsJ6RuBiTVWRX156FVbeaGg', 'title': '코스피 검은 목요일 장중 2600 하회', 'description': '0:00 ~ 22:44 코스피 검은 목요일, 어려운 글로벌 시장 22:44 ~ 33:50 우리는 어떻게 대응해야 하는가 어렵고 딱딱한 경제,시사,금융 ...', 'thumbnails': {'default': {'url': 'https://i.ytimg.com/vi/FzGF7o6kcxQ/default.jpg', 'width': 120, 'height': 90}, 'medium': {'url': 'https://i.ytimg.com/vi/FzGF7o6kcxQ/mqdefault.jpg', 'width': 320, 'height': 180}, 'high': {'url': 'https://i.ytimg.com/vi/FzGF7o6kcxQ/hqdefault.jpg', 'width': 480, 'height': 360}}, 'channelTitle': '슈카월드', 'liveBroadcastContent': 'none', 'publishTime': '2022-01-31T08:30:05Z'}}\n",
      "{'kind': 'youtube#searchResult', 'etag': '6Wa19U5-vEjFgHIWnJqqDQHJxpw', 'id': {'kind': 'youtube#video', 'videoId': 'rWqNRROCkvs'}, 'snippet': {'publishedAt': '2022-01-28T11:47:54Z', 'channelId': 'UCsJ6RuBiTVWRX156FVbeaGg', 'title': '1배속은 참기 힘든 시대', 'description': '0:00 ~ 15:54 정속 재생은 참기 힘든 세대 15:54 ~ 28:04 종이책의 종말? 어렵고 딱딱한 경제,시사,금융 이야기를 쉽고 유쾌하게 풀어 ...', 'thumbnails': {'default': {'url': 'https://i.ytimg.com/vi/rWqNRROCkvs/default.jpg', 'width': 120, 'height': 90}, 'medium': {'url': 'https://i.ytimg.com/vi/rWqNRROCkvs/mqdefault.jpg', 'width': 320, 'height': 180}, 'high': {'url': 'https://i.ytimg.com/vi/rWqNRROCkvs/hqdefault.jpg', 'width': 480, 'height': 360}}, 'channelTitle': '슈카월드', 'liveBroadcastContent': 'none', 'publishTime': '2022-01-28T11:47:54Z'}}\n",
      "{'kind': 'youtube#searchResult', 'etag': '-U_yvDa1v_gz20O1Mf1BkdPF7nU', 'id': {'kind': 'youtube#video', 'videoId': 'Fsc4uiTktII'}, 'snippet': {'publishedAt': '2022-01-27T12:20:10Z', 'channelId': 'UCsJ6RuBiTVWRX156FVbeaGg', 'title': '나홀로 산다. 660만 가구 돌파', 'description': '어렵고 딱딱한 경제,시사,금융 이야기를 쉽고 유쾌하게 풀어내는 경제/시사/이슈/잡썰 토크방송입니다. #외로운사회 #1인가구.', 'thumbnails': {'default': {'url': 'https://i.ytimg.com/vi/Fsc4uiTktII/default.jpg', 'width': 120, 'height': 90}, 'medium': {'url': 'https://i.ytimg.com/vi/Fsc4uiTktII/mqdefault.jpg', 'width': 320, 'height': 180}, 'high': {'url': 'https://i.ytimg.com/vi/Fsc4uiTktII/hqdefault.jpg', 'width': 480, 'height': 360}}, 'channelTitle': '슈카월드', 'liveBroadcastContent': 'none', 'publishTime': '2022-01-27T12:20:10Z'}}\n",
      "{'kind': 'youtube#searchResult', 'etag': 'yxJhLjSYcSbcKGfIK4D5dLQhnVI', 'id': {'kind': 'youtube#video', 'videoId': 'ipNaXzC2uTU'}, 'snippet': {'publishedAt': '2022-01-26T09:25:28Z', 'channelId': 'UCsJ6RuBiTVWRX156FVbeaGg', 'title': '코뿔소는 소인가? / 인간 몸속에 뛰는 돼지 심장', 'description': '0:00 ~ 10:40 코뿔소는 소인가? 10:40 ~ 20:37 돼지 심장, 인간에게 이식 성공 어렵고 딱딱한 경제,시사,금융 이야기를 쉽고 유쾌하게 ...', 'thumbnails': {'default': {'url': 'https://i.ytimg.com/vi/ipNaXzC2uTU/default.jpg', 'width': 120, 'height': 90}, 'medium': {'url': 'https://i.ytimg.com/vi/ipNaXzC2uTU/mqdefault.jpg', 'width': 320, 'height': 180}, 'high': {'url': 'https://i.ytimg.com/vi/ipNaXzC2uTU/hqdefault.jpg', 'width': 480, 'height': 360}}, 'channelTitle': '슈카월드', 'liveBroadcastContent': 'none', 'publishTime': '2022-01-26T09:25:28Z'}}\n",
      "{'kind': 'youtube#searchResult', 'etag': 'YrQnylVSZxXHKti6aze8QPohxIs', 'id': {'kind': 'youtube#video', 'videoId': 'zZz_q63Ac20'}, 'snippet': {'publishedAt': '2022-01-25T11:35:40Z', 'channelId': 'UCsJ6RuBiTVWRX156FVbeaGg', 'title': 'MS 블리자드 전격 인수, &#39;메타버스 너만 오면 고&#39;', 'description': '어렵고 딱딱한 경제,시사,금융 이야기를 쉽고 유쾌하게 풀어내는 경제/시사/이슈/잡썰 토크방송입니다. #MyLifeForMS #시공2가자.', 'thumbnails': {'default': {'url': 'https://i.ytimg.com/vi/zZz_q63Ac20/default.jpg', 'width': 120, 'height': 90}, 'medium': {'url': 'https://i.ytimg.com/vi/zZz_q63Ac20/mqdefault.jpg', 'width': 320, 'height': 180}, 'high': {'url': 'https://i.ytimg.com/vi/zZz_q63Ac20/hqdefault.jpg', 'width': 480, 'height': 360}}, 'channelTitle': '슈카월드', 'liveBroadcastContent': 'none', 'publishTime': '2022-01-25T11:35:40Z'}}\n",
      "{'kind': 'youtube#searchResult', 'etag': 'qgrEd76yxR7DLl-CuhK3lqEHI8U', 'id': {'kind': 'youtube#video', 'videoId': '1V3GzDW1qnM'}, 'snippet': {'publishedAt': '2022-01-21T10:12:51Z', 'channelId': 'UCsJ6RuBiTVWRX156FVbeaGg', 'title': '중국과 극심하게 대립 중인 유럽의 소국', 'description': '어렵고 딱딱한 경제,시사,금융 이야기를 쉽고 유쾌하게 풀어내는 경제/시사/이슈/잡썰 토크방송입니다. #리투아니아 #반중.', 'thumbnails': {'default': {'url': 'https://i.ytimg.com/vi/1V3GzDW1qnM/default.jpg', 'width': 120, 'height': 90}, 'medium': {'url': 'https://i.ytimg.com/vi/1V3GzDW1qnM/mqdefault.jpg', 'width': 320, 'height': 180}, 'high': {'url': 'https://i.ytimg.com/vi/1V3GzDW1qnM/hqdefault.jpg', 'width': 480, 'height': 360}}, 'channelTitle': '슈카월드', 'liveBroadcastContent': 'none', 'publishTime': '2022-01-21T10:12:51Z'}}\n",
      "{'kind': 'youtube#searchResult', 'etag': '9G-WdAIa4JKQmOjZOsg4IKoRvWY', 'id': {'kind': 'youtube#video', 'videoId': 'tsziDX37AFQ'}, 'snippet': {'publishedAt': '2022-01-20T11:39:39Z', 'channelId': 'UCsJ6RuBiTVWRX156FVbeaGg', 'title': '전화 통화가 무서운 사람들', 'description': \"0:00 ~ 11:43 '콜 포비아'를 아십니까 11:43 ~ 19:32 싱글벙글 K - Age 어렵고 딱딱한 경제,시사,금융 이야기를 쉽고 유쾌하게 풀어내는 ...\", 'thumbnails': {'default': {'url': 'https://i.ytimg.com/vi/tsziDX37AFQ/default.jpg', 'width': 120, 'height': 90}, 'medium': {'url': 'https://i.ytimg.com/vi/tsziDX37AFQ/mqdefault.jpg', 'width': 320, 'height': 180}, 'high': {'url': 'https://i.ytimg.com/vi/tsziDX37AFQ/hqdefault.jpg', 'width': 480, 'height': 360}}, 'channelTitle': '슈카월드', 'liveBroadcastContent': 'none', 'publishTime': '2022-01-20T11:39:39Z'}}\n",
      "{'kind': 'youtube#searchResult', 'etag': 'ujvYSHx5VmywoGBIjR5VbI4l_Fw', 'id': {'kind': 'youtube#video', 'videoId': '-ncsZty6K84'}, 'snippet': {'publishedAt': '2022-01-19T10:33:25Z', 'channelId': 'UCsJ6RuBiTVWRX156FVbeaGg', 'title': '역사상 최대 퇴직, 최소 해고. 일 안하는 시대', 'description': '어렵고 딱딱한 경제,시사,금융 이야기를 쉽고 유쾌하게 풀어내는 경제/시사/이슈/잡썰 토크방송입니다. #스타벅스 #퇴준생.', 'thumbnails': {'default': {'url': 'https://i.ytimg.com/vi/-ncsZty6K84/default.jpg', 'width': 120, 'height': 90}, 'medium': {'url': 'https://i.ytimg.com/vi/-ncsZty6K84/mqdefault.jpg', 'width': 320, 'height': 180}, 'high': {'url': 'https://i.ytimg.com/vi/-ncsZty6K84/hqdefault.jpg', 'width': 480, 'height': 360}}, 'channelTitle': '슈카월드', 'liveBroadcastContent': 'none', 'publishTime': '2022-01-19T10:33:25Z'}}\n",
      "{'kind': 'youtube#searchResult', 'etag': 'xeVptScoroX-qR-wphGe7W8_gak', 'id': {'kind': 'youtube#video', 'videoId': 'C6_v83atkZY'}, 'snippet': {'publishedAt': '2022-01-18T10:12:58Z', 'channelId': 'UCsJ6RuBiTVWRX156FVbeaGg', 'title': '한국을 빛낸 5대 발명품, 커피믹스?', 'description': '어렵고 딱딱한 경제,시사,금융 이야기를 쉽고 유쾌하게 풀어내는 경제/시사/이슈/잡썰 토크방송입니다. #얼죽아 #보리차.', 'thumbnails': {'default': {'url': 'https://i.ytimg.com/vi/C6_v83atkZY/default.jpg', 'width': 120, 'height': 90}, 'medium': {'url': 'https://i.ytimg.com/vi/C6_v83atkZY/mqdefault.jpg', 'width': 320, 'height': 180}, 'high': {'url': 'https://i.ytimg.com/vi/C6_v83atkZY/hqdefault.jpg', 'width': 480, 'height': 360}}, 'channelTitle': '슈카월드', 'liveBroadcastContent': 'none', 'publishTime': '2022-01-18T10:12:58Z'}}\n",
      "{'kind': 'youtube#searchResult', 'etag': '_a8wQnfSOmxmx2cbehp-cugu3zQ', 'id': {'kind': 'youtube#video', 'videoId': 'cnf9CiimKIk'}, 'snippet': {'publishedAt': '2022-01-17T10:21:26Z', 'channelId': 'UCsJ6RuBiTVWRX156FVbeaGg', 'title': '주주의 이익을 위하는 길', 'description': '0:00 ~ 2:35 LG에너지솔루션 IPO 2:35 ~ 19:03 주주의 이익을 위하는 길 어렵고 딱딱한 경제,시사,금융 이야기를 쉽고 유쾌하게 풀어 ...', 'thumbnails': {'default': {'url': 'https://i.ytimg.com/vi/cnf9CiimKIk/default.jpg', 'width': 120, 'height': 90}, 'medium': {'url': 'https://i.ytimg.com/vi/cnf9CiimKIk/mqdefault.jpg', 'width': 320, 'height': 180}, 'high': {'url': 'https://i.ytimg.com/vi/cnf9CiimKIk/hqdefault.jpg', 'width': 480, 'height': 360}}, 'channelTitle': '슈카월드', 'liveBroadcastContent': 'none', 'publishTime': '2022-01-17T10:21:26Z'}}\n",
      "{'kind': 'youtube#searchResult', 'etag': 'VTSgjJfrMr9ebq4VKhhWlVbylEc', 'id': {'kind': 'youtube#video', 'videoId': 'Sscu1Hb7NgY'}, 'snippet': {'publishedAt': '2022-01-14T09:40:07Z', 'channelId': 'UCsJ6RuBiTVWRX156FVbeaGg', 'title': '??? : 중국은 청나라 채권 갚아라', 'description': '0:00 ~ 4:03 미 연준의 채권과 보유국가들 4:03 ~ 26:40 반격하는 미국, 청나라 채권 갚아라 어렵고 딱딱한 경제,시사,금융 이야기를 ...', 'thumbnails': {'default': {'url': 'https://i.ytimg.com/vi/Sscu1Hb7NgY/default.jpg', 'width': 120, 'height': 90}, 'medium': {'url': 'https://i.ytimg.com/vi/Sscu1Hb7NgY/mqdefault.jpg', 'width': 320, 'height': 180}, 'high': {'url': 'https://i.ytimg.com/vi/Sscu1Hb7NgY/hqdefault.jpg', 'width': 480, 'height': 360}}, 'channelTitle': '슈카월드', 'liveBroadcastContent': 'none', 'publishTime': '2022-01-14T09:40:07Z'}}\n",
      "{'kind': 'youtube#searchResult', 'etag': 'DEoJjxuvuLfDeQxM2z9hcn86BOI', 'id': {'kind': 'youtube#video', 'videoId': '_nfe_EijG7c'}, 'snippet': {'publishedAt': '2022-01-13T10:18:49Z', 'channelId': 'UCsJ6RuBiTVWRX156FVbeaGg', 'title': '대학생들이 추천한 2022년 패션 아이템?', 'description': '어렵고 딱딱한 경제,시사,금융 이야기를 쉽고 유쾌하게 풀어내는 경제/시사/이슈/잡썰 토크방송입니다. #바라클라바 #범죄룩.', 'thumbnails': {'default': {'url': 'https://i.ytimg.com/vi/_nfe_EijG7c/default.jpg', 'width': 120, 'height': 90}, 'medium': {'url': 'https://i.ytimg.com/vi/_nfe_EijG7c/mqdefault.jpg', 'width': 320, 'height': 180}, 'high': {'url': 'https://i.ytimg.com/vi/_nfe_EijG7c/hqdefault.jpg', 'width': 480, 'height': 360}}, 'channelTitle': '슈카월드', 'liveBroadcastContent': 'none', 'publishTime': '2022-01-13T10:18:49Z'}}\n"
     ]
    },
    {
     "name": "stdout",
     "output_type": "stream",
     "text": [
      "{'kind': 'youtube#searchResult', 'etag': 'XXyMW32LnvTIvpXxKgGm4tvG5kI', 'id': {'kind': 'youtube#video', 'videoId': '2A6y7Z0pyOQ'}, 'snippet': {'publishedAt': '2022-01-11T11:39:45Z', 'channelId': 'UCsJ6RuBiTVWRX156FVbeaGg', 'title': '광어가격 상승?과 공급망 위기', 'description': '어렵고 딱딱한 경제,시사,금융 이야기를 쉽고 유쾌하게 풀어내는 경제/시사/이슈/잡썰 토크방송입니다. #광광우럭다 #연준의장.', 'thumbnails': {'default': {'url': 'https://i.ytimg.com/vi/2A6y7Z0pyOQ/default.jpg', 'width': 120, 'height': 90}, 'medium': {'url': 'https://i.ytimg.com/vi/2A6y7Z0pyOQ/mqdefault.jpg', 'width': 320, 'height': 180}, 'high': {'url': 'https://i.ytimg.com/vi/2A6y7Z0pyOQ/hqdefault.jpg', 'width': 480, 'height': 360}}, 'channelTitle': '슈카월드', 'liveBroadcastContent': 'none', 'publishTime': '2022-01-11T11:39:45Z'}}\n",
      "{'kind': 'youtube#searchResult', 'etag': 'D6jITEJBSDU38PLThtFcxYVpN30', 'id': {'kind': 'youtube#video', 'videoId': 'Ev3us1zrV5M'}, 'snippet': {'publishedAt': '2022-01-10T12:51:36Z', 'channelId': 'UCsJ6RuBiTVWRX156FVbeaGg', 'title': '오스템임플란트, 충격의 횡령 사건 발생', 'description': '어렵고 딱딱한 경제,시사,금융 이야기를 쉽고 유쾌하게 풀어내는 경제/시사/이슈/잡썰 토크방송입니다. #오스템임플란트 #배임횡령.', 'thumbnails': {'default': {'url': 'https://i.ytimg.com/vi/Ev3us1zrV5M/default.jpg', 'width': 120, 'height': 90}, 'medium': {'url': 'https://i.ytimg.com/vi/Ev3us1zrV5M/mqdefault.jpg', 'width': 320, 'height': 180}, 'high': {'url': 'https://i.ytimg.com/vi/Ev3us1zrV5M/hqdefault.jpg', 'width': 480, 'height': 360}}, 'channelTitle': '슈카월드', 'liveBroadcastContent': 'none', 'publishTime': '2022-01-10T12:51:36Z'}}\n",
      "{'kind': 'youtube#searchResult', 'etag': 'jDlfl_12xEmt4LqIeoHbiksLVUQ', 'id': {'kind': 'youtube#video', 'videoId': 'tmqq3RS3r8s'}, 'snippet': {'publishedAt': '2022-01-07T10:57:27Z', 'channelId': 'UCsJ6RuBiTVWRX156FVbeaGg', 'title': '유튜브 채널 성공가능성 1위 분야와 꼴찌 분야', 'description': '어렵고 딱딱한 경제,시사,금융 이야기를 쉽고 유쾌하게 풀어내는 경제/시사/이슈/잡썰 토크방송입니다. #유튜버 #스트리머 #BJ.', 'thumbnails': {'default': {'url': 'https://i.ytimg.com/vi/tmqq3RS3r8s/default.jpg', 'width': 120, 'height': 90}, 'medium': {'url': 'https://i.ytimg.com/vi/tmqq3RS3r8s/mqdefault.jpg', 'width': 320, 'height': 180}, 'high': {'url': 'https://i.ytimg.com/vi/tmqq3RS3r8s/hqdefault.jpg', 'width': 480, 'height': 360}}, 'channelTitle': '슈카월드', 'liveBroadcastContent': 'none', 'publishTime': '2022-01-07T10:57:27Z'}}\n",
      "{'kind': 'youtube#searchResult', 'etag': 'YEud1aQHETgI4g24mT--wJklTlg', 'id': {'kind': 'youtube#video', 'videoId': 'eI8V04CNFFE'}, 'snippet': {'publishedAt': '2022-01-05T11:10:31Z', 'channelId': 'UCsJ6RuBiTVWRX156FVbeaGg', 'title': '글로벌 대한민국 행복순위', 'description': '어렵고 딱딱한 경제,시사,금융 이야기를 쉽고 유쾌하게 풀어내는 경제/시사/이슈/잡썰 토크방송입니다. #행복한2022년을위하여.', 'thumbnails': {'default': {'url': 'https://i.ytimg.com/vi/eI8V04CNFFE/default.jpg', 'width': 120, 'height': 90}, 'medium': {'url': 'https://i.ytimg.com/vi/eI8V04CNFFE/mqdefault.jpg', 'width': 320, 'height': 180}, 'high': {'url': 'https://i.ytimg.com/vi/eI8V04CNFFE/hqdefault.jpg', 'width': 480, 'height': 360}}, 'channelTitle': '슈카월드', 'liveBroadcastContent': 'none', 'publishTime': '2022-01-05T11:10:31Z'}}\n",
      "{'kind': 'youtube#searchResult', 'etag': 'ZiKpeyRTOJfB1euz0QqroqXqzKc', 'id': {'kind': 'youtube#video', 'videoId': 'bgMhcTdBx9U'}, 'snippet': {'publishedAt': '2022-01-04T10:57:48Z', 'channelId': 'UCsJ6RuBiTVWRX156FVbeaGg', 'title': '2021년 증시 결산, 大소비 시대', 'description': '어렵고 딱딱한 경제,시사,금융 이야기를 쉽고 유쾌하게 풀어내는 경제/시사/이슈/잡썰 토크방송입니다. 미래에셋대우 리서치센터 ...', 'thumbnails': {'default': {'url': 'https://i.ytimg.com/vi/bgMhcTdBx9U/default.jpg', 'width': 120, 'height': 90}, 'medium': {'url': 'https://i.ytimg.com/vi/bgMhcTdBx9U/mqdefault.jpg', 'width': 320, 'height': 180}, 'high': {'url': 'https://i.ytimg.com/vi/bgMhcTdBx9U/hqdefault.jpg', 'width': 480, 'height': 360}}, 'channelTitle': '슈카월드', 'liveBroadcastContent': 'none', 'publishTime': '2022-01-04T10:57:48Z'}}\n",
      "{'kind': 'youtube#searchResult', 'etag': 'QyiCG0zCAv0EfETmqTCcn-zU83Y', 'id': {'kind': 'youtube#video', 'videoId': '_1UPiJOQypA'}, 'snippet': {'publishedAt': '2022-01-03T09:35:43Z', 'channelId': 'UCsJ6RuBiTVWRX156FVbeaGg', 'title': '대한민국 세계 최대 규모 FTA 가입', 'description': '어렵고 딱딱한 경제,시사,금융 이야기를 쉽고 유쾌하게 풀어내는 경제/시사/이슈/잡썰 토크방송입니다. #RCEP #자유무역협정.', 'thumbnails': {'default': {'url': 'https://i.ytimg.com/vi/_1UPiJOQypA/default.jpg', 'width': 120, 'height': 90}, 'medium': {'url': 'https://i.ytimg.com/vi/_1UPiJOQypA/mqdefault.jpg', 'width': 320, 'height': 180}, 'high': {'url': 'https://i.ytimg.com/vi/_1UPiJOQypA/hqdefault.jpg', 'width': 480, 'height': 360}}, 'channelTitle': '슈카월드', 'liveBroadcastContent': 'none', 'publishTime': '2022-01-03T09:35:43Z'}}\n",
      "{'kind': 'youtube#searchResult', 'etag': 'winfL36s1FiTPwU83eJe49Mio1E', 'id': {'kind': 'youtube#video', 'videoId': '-vlYa7TU9L4'}, 'snippet': {'publishedAt': '2021-12-31T10:50:46Z', 'channelId': 'UCsJ6RuBiTVWRX156FVbeaGg', 'title': '총체적 위기의 레바논과 시리아 난민 사태', 'description': '0:00 ~ 17:03 총체적 난국 레바논 17:03 ~ 21:43 세계 최악의 국가 3인방 : 시리아 어렵고 딱딱한 경제,시사,금융 이야기를 쉽고 유쾌 ...', 'thumbnails': {'default': {'url': 'https://i.ytimg.com/vi/-vlYa7TU9L4/default.jpg', 'width': 120, 'height': 90}, 'medium': {'url': 'https://i.ytimg.com/vi/-vlYa7TU9L4/mqdefault.jpg', 'width': 320, 'height': 180}, 'high': {'url': 'https://i.ytimg.com/vi/-vlYa7TU9L4/hqdefault.jpg', 'width': 480, 'height': 360}}, 'channelTitle': '슈카월드', 'liveBroadcastContent': 'none', 'publishTime': '2021-12-31T10:50:46Z'}}\n",
      "{'kind': 'youtube#searchResult', 'etag': 'xnjGH5wHi4xeLjh073B1bzzoliw', 'id': {'kind': 'youtube#video', 'videoId': 'oZM6m6Iu1hQ'}, 'snippet': {'publishedAt': '2021-12-29T09:39:18Z', 'channelId': 'UCsJ6RuBiTVWRX156FVbeaGg', 'title': '인류는 생각만으로 글자를 적기 시작했다.', 'description': '어렵고 딱딱한 경제,시사,금융 이야기를 쉽고 유쾌하게 풀어내는 경제/시사/이슈/잡썰 토크방송입니다. #BCI #뇌컴퓨터인터페이스.', 'thumbnails': {'default': {'url': 'https://i.ytimg.com/vi/oZM6m6Iu1hQ/default.jpg', 'width': 120, 'height': 90}, 'medium': {'url': 'https://i.ytimg.com/vi/oZM6m6Iu1hQ/mqdefault.jpg', 'width': 320, 'height': 180}, 'high': {'url': 'https://i.ytimg.com/vi/oZM6m6Iu1hQ/hqdefault.jpg', 'width': 480, 'height': 360}}, 'channelTitle': '슈카월드', 'liveBroadcastContent': 'none', 'publishTime': '2021-12-29T09:39:18Z'}}\n",
      "{'kind': 'youtube#searchResult', 'etag': '_5KgvxcBoyg1cQOaiRMX-290FTA', 'id': {'kind': 'youtube#video', 'videoId': 'NdquVKmGtmQ'}, 'snippet': {'publishedAt': '2021-12-24T11:39:05Z', 'channelId': 'UCsJ6RuBiTVWRX156FVbeaGg', 'title': '믿기 어려운 글로벌 설문조사 결과 - 갈등이 만연한 사회', 'description': '어렵고 딱딱한 경제,시사,금융 이야기를 쉽고 유쾌하게 풀어내는 경제/시사/이슈/잡썰 토크방송입니다. #CultureWars #문화갈등.', 'thumbnails': {'default': {'url': 'https://i.ytimg.com/vi/NdquVKmGtmQ/default.jpg', 'width': 120, 'height': 90}, 'medium': {'url': 'https://i.ytimg.com/vi/NdquVKmGtmQ/mqdefault.jpg', 'width': 320, 'height': 180}, 'high': {'url': 'https://i.ytimg.com/vi/NdquVKmGtmQ/hqdefault.jpg', 'width': 480, 'height': 360}}, 'channelTitle': '슈카월드', 'liveBroadcastContent': 'none', 'publishTime': '2021-12-24T11:39:05Z'}}\n",
      "{'kind': 'youtube#searchResult', 'etag': 'GK9qmBEzBp3gKJEemp2D7yCSO08', 'id': {'kind': 'youtube#video', 'videoId': 'gbUZvkiMVKs'}, 'snippet': {'publishedAt': '2021-12-23T08:30:16Z', 'channelId': 'UCsJ6RuBiTVWRX156FVbeaGg', 'title': '암모니아, 탄소 포집, 기술이 탄소중립을 가져올 것인가 [유료광고포함]', 'description': '이 영상은 산업통상자원부의 유료광고를 포함하고 있습니다. 어렵고 딱딱한 경제,시사,금융 이야기를 쉽고 유쾌하게 풀어내는 경제/ ...', 'thumbnails': {'default': {'url': 'https://i.ytimg.com/vi/gbUZvkiMVKs/default.jpg', 'width': 120, 'height': 90}, 'medium': {'url': 'https://i.ytimg.com/vi/gbUZvkiMVKs/mqdefault.jpg', 'width': 320, 'height': 180}, 'high': {'url': 'https://i.ytimg.com/vi/gbUZvkiMVKs/hqdefault.jpg', 'width': 480, 'height': 360}}, 'channelTitle': '슈카월드', 'liveBroadcastContent': 'none', 'publishTime': '2021-12-23T08:30:16Z'}}\n",
      "{'kind': 'youtube#searchResult', 'etag': 'dEFRRV-dSUGrlL1OK5YSi12CXxk', 'id': {'kind': 'youtube#video', 'videoId': 'C2_uUyj06Z8'}, 'snippet': {'publishedAt': '2021-12-22T09:39:42Z', 'channelId': 'UCsJ6RuBiTVWRX156FVbeaGg', 'title': '터키, 환율위기에서 할인위기(?)로', 'description': '어렵고 딱딱한 경제,시사,금융 이야기를 쉽고 유쾌하게 풀어내는 경제/시사/이슈/잡썰 토크방송입니다. #다이소 #바겐세일.', 'thumbnails': {'default': {'url': 'https://i.ytimg.com/vi/C2_uUyj06Z8/default.jpg', 'width': 120, 'height': 90}, 'medium': {'url': 'https://i.ytimg.com/vi/C2_uUyj06Z8/mqdefault.jpg', 'width': 320, 'height': 180}, 'high': {'url': 'https://i.ytimg.com/vi/C2_uUyj06Z8/hqdefault.jpg', 'width': 480, 'height': 360}}, 'channelTitle': '슈카월드', 'liveBroadcastContent': 'none', 'publishTime': '2021-12-22T09:39:42Z'}}\n",
      "{'kind': 'youtube#searchResult', 'etag': 'Gd1ePiGwuHzN3PMgSMlGFpEuIi8', 'id': {'kind': 'youtube#video', 'videoId': 'BbuooT61QGE'}, 'snippet': {'publishedAt': '2021-12-21T09:34:11Z', 'channelId': 'UCsJ6RuBiTVWRX156FVbeaGg', 'title': '백신 패스 강화, 서글픈 위드 코로나 중단', 'description': \"0:00 ~ 6:41 서글픈 위드코로나 중단 6:41 ~ 15:31 미국의 빌게이츠 음모론 15:31 ~ 19:20 중국의 '제로 코로나' 어렵고 딱딱한 경제, ...\", 'thumbnails': {'default': {'url': 'https://i.ytimg.com/vi/BbuooT61QGE/default.jpg', 'width': 120, 'height': 90}, 'medium': {'url': 'https://i.ytimg.com/vi/BbuooT61QGE/mqdefault.jpg', 'width': 320, 'height': 180}, 'high': {'url': 'https://i.ytimg.com/vi/BbuooT61QGE/hqdefault.jpg', 'width': 480, 'height': 360}}, 'channelTitle': '슈카월드', 'liveBroadcastContent': 'none', 'publishTime': '2021-12-21T09:34:11Z'}}\n",
      "{'kind': 'youtube#searchResult', 'etag': '4QdNgvxT_ANpdXp_W2nLz8FojfE', 'id': {'kind': 'youtube#video', 'videoId': 'Kbn-dNTpSM4'}, 'snippet': {'publishedAt': '2021-12-20T10:11:07Z', 'channelId': 'UCsJ6RuBiTVWRX156FVbeaGg', 'title': '허블 망원경의 뒤를 잇는 새로운 우주 망원경 &quot;제임스 웹&quot; 발사', 'description': '슈카월드에서 책 관련 보조작가님을 모십니다. \"https://antok.co.kr/notice/341195\" 에서 자세한 내용을 확인해주세요. 감사합니다.', 'thumbnails': {'default': {'url': 'https://i.ytimg.com/vi/Kbn-dNTpSM4/default.jpg', 'width': 120, 'height': 90}, 'medium': {'url': 'https://i.ytimg.com/vi/Kbn-dNTpSM4/mqdefault.jpg', 'width': 320, 'height': 180}, 'high': {'url': 'https://i.ytimg.com/vi/Kbn-dNTpSM4/hqdefault.jpg', 'width': 480, 'height': 360}}, 'channelTitle': '슈카월드', 'liveBroadcastContent': 'none', 'publishTime': '2021-12-20T10:11:07Z'}}\n",
      "{'kind': 'youtube#searchResult', 'etag': 'TPz4EZZN1IPRp4MrTUAvuwkUcn4', 'id': {'kind': 'youtube#video', 'videoId': 'k1RmAkCVvnc'}, 'snippet': {'publishedAt': '2021-12-17T10:32:58Z', 'channelId': 'UCsJ6RuBiTVWRX156FVbeaGg', 'title': '일본의 한국 경제보복, 2년 후 지금', 'description': '슈카월드에서 책 관련 보조작가님을 모십니다. \"https://antok.co.kr/notice/341195\" 에서 자세한 내용을 확인해주세요. 감사합니다.', 'thumbnails': {'default': {'url': 'https://i.ytimg.com/vi/k1RmAkCVvnc/default.jpg', 'width': 120, 'height': 90}, 'medium': {'url': 'https://i.ytimg.com/vi/k1RmAkCVvnc/mqdefault.jpg', 'width': 320, 'height': 180}, 'high': {'url': 'https://i.ytimg.com/vi/k1RmAkCVvnc/hqdefault.jpg', 'width': 480, 'height': 360}}, 'channelTitle': '슈카월드', 'liveBroadcastContent': 'none', 'publishTime': '2021-12-17T10:32:58Z'}}\n",
      "{'kind': 'youtube#searchResult', 'etag': 'BxAlCcxmhEwhLYPCkVt-kvWX6XY', 'id': {'kind': 'youtube#video', 'videoId': 'mVShINH1Rfo'}, 'snippet': {'publishedAt': '2021-12-15T10:22:08Z', 'channelId': 'UCsJ6RuBiTVWRX156FVbeaGg', 'title': '자본주의 천국 미국의 냉혹한 야수 펀드', 'description': '어렵고 딱딱한 경제,시사,금융 이야기를 쉽고 유쾌하게 풀어내는 경제/시사/이슈/잡썰 토크방송입니다. #돈나무 #빅쇼트.', 'thumbnails': {'default': {'url': 'https://i.ytimg.com/vi/mVShINH1Rfo/default.jpg', 'width': 120, 'height': 90}, 'medium': {'url': 'https://i.ytimg.com/vi/mVShINH1Rfo/mqdefault.jpg', 'width': 320, 'height': 180}, 'high': {'url': 'https://i.ytimg.com/vi/mVShINH1Rfo/hqdefault.jpg', 'width': 480, 'height': 360}}, 'channelTitle': '슈카월드', 'liveBroadcastContent': 'none', 'publishTime': '2021-12-15T10:22:08Z'}}\n",
      "{'kind': 'youtube#searchResult', 'etag': '3adKMQ3qKvibaXAdrJOji19nKC4', 'id': {'kind': 'youtube#video', 'videoId': 'dE_nelkoVTQ'}, 'snippet': {'publishedAt': '2021-12-14T12:14:56Z', 'channelId': 'UCsJ6RuBiTVWRX156FVbeaGg', 'title': '자유와 공익 사이', 'description': '어렵고 딱딱한 경제,시사,금융 이야기를 쉽고 유쾌하게 풀어내는 경제/시사/이슈/잡썰 토크방송입니다. #자유 #공익.', 'thumbnails': {'default': {'url': 'https://i.ytimg.com/vi/dE_nelkoVTQ/default.jpg', 'width': 120, 'height': 90}, 'medium': {'url': 'https://i.ytimg.com/vi/dE_nelkoVTQ/mqdefault.jpg', 'width': 320, 'height': 180}, 'high': {'url': 'https://i.ytimg.com/vi/dE_nelkoVTQ/hqdefault.jpg', 'width': 480, 'height': 360}}, 'channelTitle': '슈카월드', 'liveBroadcastContent': 'none', 'publishTime': '2021-12-14T12:14:56Z'}}\n",
      "{'kind': 'youtube#searchResult', 'etag': 'qjQlh0V7ssAz1sEKM8EltXrxa3c', 'id': {'kind': 'youtube#video', 'videoId': 'TDSm_4CHXwM'}, 'snippet': {'publishedAt': '2021-12-10T09:38:28Z', 'channelId': 'UCsJ6RuBiTVWRX156FVbeaGg', 'title': '인간이 미안해...소와 말의 엇갈린 사랑 방식', 'description': '어렵고 딱딱한 경제,시사,금융 이야기를 쉽고 유쾌하게 풀어내는 경제/시사/이슈/잡썰 토크방송입니다. #미안해.', 'thumbnails': {'default': {'url': 'https://i.ytimg.com/vi/TDSm_4CHXwM/default.jpg', 'width': 120, 'height': 90}, 'medium': {'url': 'https://i.ytimg.com/vi/TDSm_4CHXwM/mqdefault.jpg', 'width': 320, 'height': 180}, 'high': {'url': 'https://i.ytimg.com/vi/TDSm_4CHXwM/hqdefault.jpg', 'width': 480, 'height': 360}}, 'channelTitle': '슈카월드', 'liveBroadcastContent': 'none', 'publishTime': '2021-12-10T09:38:28Z'}}\n",
      "{'kind': 'youtube#searchResult', 'etag': 'YtLaFUXT66Y3YpCohGLHWQVCqGQ', 'id': {'kind': 'youtube#video', 'videoId': '0B4y15LWftQ'}, 'snippet': {'publishedAt': '2021-12-09T10:00:00Z', 'channelId': 'UCsJ6RuBiTVWRX156FVbeaGg', 'title': '도시를 3D로 그대로 복사한다. 디지털 트윈의 미래  [유료광고 포함]', 'description': '한국국토정보공사의 유료광고가 포함된 영상입니다. 0:00 ~ 8:47 디지털 트윈의 개념과 기대효과 8:47 ~ 16:30 디지털 트윈을 통한 ...', 'thumbnails': {'default': {'url': 'https://i.ytimg.com/vi/0B4y15LWftQ/default.jpg', 'width': 120, 'height': 90}, 'medium': {'url': 'https://i.ytimg.com/vi/0B4y15LWftQ/mqdefault.jpg', 'width': 320, 'height': 180}, 'high': {'url': 'https://i.ytimg.com/vi/0B4y15LWftQ/hqdefault.jpg', 'width': 480, 'height': 360}}, 'channelTitle': '슈카월드', 'liveBroadcastContent': 'none', 'publishTime': '2021-12-09T10:00:00Z'}}\n",
      "{'kind': 'youtube#searchResult', 'etag': 'elRn8623_MNACIEy9OuJgcDqsoc', 'id': {'kind': 'youtube#video', 'videoId': '01fpZ8WZOcg'}, 'snippet': {'publishedAt': '2021-12-07T12:00:04Z', 'channelId': 'UCsJ6RuBiTVWRX156FVbeaGg', 'title': '위 아래 위 아래 정신 없는 주식시장 / 코인시장의 위엄', 'description': '0:00 ~ 18:18 손에 쥔 카드를 모두 소진한 미국 18:18 ~ 33:04 암호화폐 시장의 위엄 어렵고 딱딱한 경제,시사,금융 이야기를 쉽고 유쾌 ...', 'thumbnails': {'default': {'url': 'https://i.ytimg.com/vi/01fpZ8WZOcg/default.jpg', 'width': 120, 'height': 90}, 'medium': {'url': 'https://i.ytimg.com/vi/01fpZ8WZOcg/mqdefault.jpg', 'width': 320, 'height': 180}, 'high': {'url': 'https://i.ytimg.com/vi/01fpZ8WZOcg/hqdefault.jpg', 'width': 480, 'height': 360}}, 'channelTitle': '슈카월드', 'liveBroadcastContent': 'none', 'publishTime': '2021-12-07T12:00:04Z'}}\n",
      "{'kind': 'youtube#searchResult', 'etag': 'OaTPmWBXINy_9rzA9FfQGKfwOgI', 'id': {'kind': 'youtube#video', 'videoId': 'VSUfO6odSMw'}, 'snippet': {'publishedAt': '2021-12-02T11:20:05Z', 'channelId': 'UCsJ6RuBiTVWRX156FVbeaGg', 'title': '수능에서 경제 과목이 사라진다? / 세상과의 소통을 금하는 봉쇄수도원', 'description': '0:00 ~ 6:03 2028 수능 경제과목 퇴출? 6:03 ~ 17:14 경이로운 봉쇄수도원 어렵고 딱딱한 경제,시사,금융 이야기를 쉽고 유쾌하게 ...', 'thumbnails': {'default': {'url': 'https://i.ytimg.com/vi/VSUfO6odSMw/default.jpg', 'width': 120, 'height': 90}, 'medium': {'url': 'https://i.ytimg.com/vi/VSUfO6odSMw/mqdefault.jpg', 'width': 320, 'height': 180}, 'high': {'url': 'https://i.ytimg.com/vi/VSUfO6odSMw/hqdefault.jpg', 'width': 480, 'height': 360}}, 'channelTitle': '슈카월드', 'liveBroadcastContent': 'none', 'publishTime': '2021-12-02T11:20:05Z'}}\n",
      "{'kind': 'youtube#searchResult', 'etag': 'CrBIcSd51DdPrtzX0812T47_T8o', 'id': {'kind': 'youtube#video', 'videoId': 'CENcAa2uf8M'}, 'snippet': {'publishedAt': '2021-12-01T10:26:47Z', 'channelId': 'UCsJ6RuBiTVWRX156FVbeaGg', 'title': '지구방어 소행성 충돌 프로젝트 DART 발사', 'description': '어렵고 딱딱한 경제,시사,금융 이야기를 쉽고 유쾌하게 풀어내는 경제/시사/이슈/잡썰 토크방송입니다. #아마겟돈 #NASA.', 'thumbnails': {'default': {'url': 'https://i.ytimg.com/vi/CENcAa2uf8M/default.jpg', 'width': 120, 'height': 90}, 'medium': {'url': 'https://i.ytimg.com/vi/CENcAa2uf8M/mqdefault.jpg', 'width': 320, 'height': 180}, 'high': {'url': 'https://i.ytimg.com/vi/CENcAa2uf8M/hqdefault.jpg', 'width': 480, 'height': 360}}, 'channelTitle': '슈카월드', 'liveBroadcastContent': 'none', 'publishTime': '2021-12-01T10:26:47Z'}}\n",
      "{'kind': 'youtube#searchResult', 'etag': 'Y-Xq-R5BoaSE73jeN3FSF-1LfaU', 'id': {'kind': 'youtube#video', 'videoId': 'YCnHI5ZpBLY'}, 'snippet': {'publishedAt': '2021-11-30T10:06:42Z', 'channelId': 'UCsJ6RuBiTVWRX156FVbeaGg', 'title': '화끈하게 뿌린 돈, 후끈하게 오른 물가', 'description': '어렵고 딱딱한 경제,시사,금융 이야기를 쉽고 유쾌하게 풀어내는 경제/시사/이슈/잡썰 토크방송입니다. #초저금리 #인플레이션.', 'thumbnails': {'default': {'url': 'https://i.ytimg.com/vi/YCnHI5ZpBLY/default.jpg', 'width': 120, 'height': 90}, 'medium': {'url': 'https://i.ytimg.com/vi/YCnHI5ZpBLY/mqdefault.jpg', 'width': 320, 'height': 180}, 'high': {'url': 'https://i.ytimg.com/vi/YCnHI5ZpBLY/hqdefault.jpg', 'width': 480, 'height': 360}}, 'channelTitle': '슈카월드', 'liveBroadcastContent': 'none', 'publishTime': '2021-11-30T10:06:42Z'}}\n",
      "{'kind': 'youtube#searchResult', 'etag': 'qf8h4n_O3l5L5OMxmDq6cEHmSu8', 'id': {'kind': 'youtube#video', 'videoId': 'IKaWTPdl6IU'}, 'snippet': {'publishedAt': '2021-11-26T09:01:29Z', 'channelId': 'UCsJ6RuBiTVWRX156FVbeaGg', 'title': '지도만 봐도 전쟁할 것 같은 나라들', 'description': '어렵고 딱딱한 경제,시사,금융 이야기를 쉽고 유쾌하게 풀어내는 경제/시사/이슈/잡썰 토크방송입니다. #아제르바이잔 #아르메니아.', 'thumbnails': {'default': {'url': 'https://i.ytimg.com/vi/IKaWTPdl6IU/default.jpg', 'width': 120, 'height': 90}, 'medium': {'url': 'https://i.ytimg.com/vi/IKaWTPdl6IU/mqdefault.jpg', 'width': 320, 'height': 180}, 'high': {'url': 'https://i.ytimg.com/vi/IKaWTPdl6IU/hqdefault.jpg', 'width': 480, 'height': 360}}, 'channelTitle': '슈카월드', 'liveBroadcastContent': 'none', 'publishTime': '2021-11-26T09:01:29Z'}}\n",
      "{'kind': 'youtube#searchResult', 'etag': 't5EA2Z1RPkuO8ecjMTzzWE0pl9I', 'id': {'kind': 'youtube#video', 'videoId': '8_NYQTYMjqw'}, 'snippet': {'publishedAt': '2021-11-24T09:10:24Z', 'channelId': 'UCsJ6RuBiTVWRX156FVbeaGg', 'title': '이것이 바로 가수다. 윤하 초대석', 'description': '1:09 ~ 4:36 오르트구름 5:52 ~ 9:40 별의조각 11:52 ~ 15:18 6년230일 16:07 ~17:36 비밀번호486(mr제거?) 17:47 ~ 19:06 반짝, 빛 ...', 'thumbnails': {'default': {'url': 'https://i.ytimg.com/vi/8_NYQTYMjqw/default.jpg', 'width': 120, 'height': 90}, 'medium': {'url': 'https://i.ytimg.com/vi/8_NYQTYMjqw/mqdefault.jpg', 'width': 320, 'height': 180}, 'high': {'url': 'https://i.ytimg.com/vi/8_NYQTYMjqw/hqdefault.jpg', 'width': 480, 'height': 360}}, 'channelTitle': '슈카월드', 'liveBroadcastContent': 'none', 'publishTime': '2021-11-24T09:10:24Z'}}\n",
      "{'kind': 'youtube#searchResult', 'etag': 'Tm400Ic5yQPFXjiQ0f33xFL5Lw8', 'id': {'kind': 'youtube#video', 'videoId': 'Epy6czU8I0Q'}, 'snippet': {'publishedAt': '2021-11-23T11:57:54Z', 'channelId': 'UCsJ6RuBiTVWRX156FVbeaGg', 'title': '코로나 확진자 3천명, 집단 면역을 위한 조건', 'description': '어렵고 딱딱한 경제,시사,금융 이야기를 쉽고 유쾌하게 풀어내는 경제/시사/이슈/잡썰 토크방송입니다. #집단면역 #위드코로나.', 'thumbnails': {'default': {'url': 'https://i.ytimg.com/vi/Epy6czU8I0Q/default.jpg', 'width': 120, 'height': 90}, 'medium': {'url': 'https://i.ytimg.com/vi/Epy6czU8I0Q/mqdefault.jpg', 'width': 320, 'height': 180}, 'high': {'url': 'https://i.ytimg.com/vi/Epy6czU8I0Q/hqdefault.jpg', 'width': 480, 'height': 360}}, 'channelTitle': '슈카월드', 'liveBroadcastContent': 'none', 'publishTime': '2021-11-23T11:57:54Z'}}\n",
      "{'kind': 'youtube#searchResult', 'etag': '6qXqXtTyRpu674Jr3utuwbd76R0', 'id': {'kind': 'youtube#video', 'videoId': 'CuWXu9oHnDs'}, 'snippet': {'publishedAt': '2021-11-22T11:09:32Z', 'channelId': 'UCsJ6RuBiTVWRX156FVbeaGg', 'title': '부자나라 일본 국민이 가난해졌다.', 'description': '어렵고 딱딱한 경제,시사,금융 이야기를 쉽고 유쾌하게 풀어내는 경제/시사/이슈/잡썰 토크방송입니다. #부자나라 #가난한국민.', 'thumbnails': {'default': {'url': 'https://i.ytimg.com/vi/CuWXu9oHnDs/default.jpg', 'width': 120, 'height': 90}, 'medium': {'url': 'https://i.ytimg.com/vi/CuWXu9oHnDs/mqdefault.jpg', 'width': 320, 'height': 180}, 'high': {'url': 'https://i.ytimg.com/vi/CuWXu9oHnDs/hqdefault.jpg', 'width': 480, 'height': 360}}, 'channelTitle': '슈카월드', 'liveBroadcastContent': 'none', 'publishTime': '2021-11-22T11:09:32Z'}}\n",
      "{'kind': 'youtube#searchResult', 'etag': 'Ejgmya2mk1AG0u8LcNj4BAUc1KI', 'id': {'kind': 'youtube#video', 'videoId': 'Cf957pa3gpg'}, 'snippet': {'publishedAt': '2021-11-19T12:54:36Z', 'channelId': 'UCsJ6RuBiTVWRX156FVbeaGg', 'title': 'NFT, 현대판 봉이 김선달인가, 황금 디지털 자산인가', 'description': '어렵고 딱딱한 경제,시사,금융 이야기를 쉽고 유쾌하게 풀어내는 경제/시사/이슈/잡썰 토크방송입니다. #Non-FungibleToken.', 'thumbnails': {'default': {'url': 'https://i.ytimg.com/vi/Cf957pa3gpg/default.jpg', 'width': 120, 'height': 90}, 'medium': {'url': 'https://i.ytimg.com/vi/Cf957pa3gpg/mqdefault.jpg', 'width': 320, 'height': 180}, 'high': {'url': 'https://i.ytimg.com/vi/Cf957pa3gpg/hqdefault.jpg', 'width': 480, 'height': 360}}, 'channelTitle': '슈카월드', 'liveBroadcastContent': 'none', 'publishTime': '2021-11-19T12:54:36Z'}}\n",
      "{'kind': 'youtube#searchResult', 'etag': 'BKtM0jahbdiSnaBWUhoVzxtc5Z8', 'id': {'kind': 'youtube#video', 'videoId': '24uLjfBHhU0'}, 'snippet': {'publishedAt': '2021-11-18T09:52:18Z', 'channelId': 'UCsJ6RuBiTVWRX156FVbeaGg', 'title': '미역은 식물이 아니다?', 'description': '0:00 ~ 2:51 미역은 식물이 아니다? 2:51 ~ 13:53 공룡보다 오래된 은행나무 어렵고 딱딱한 경제,시사,금융 이야기를 쉽고 유쾌하게 ...', 'thumbnails': {'default': {'url': 'https://i.ytimg.com/vi/24uLjfBHhU0/default.jpg', 'width': 120, 'height': 90}, 'medium': {'url': 'https://i.ytimg.com/vi/24uLjfBHhU0/mqdefault.jpg', 'width': 320, 'height': 180}, 'high': {'url': 'https://i.ytimg.com/vi/24uLjfBHhU0/hqdefault.jpg', 'width': 480, 'height': 360}}, 'channelTitle': '슈카월드', 'liveBroadcastContent': 'none', 'publishTime': '2021-11-18T09:52:18Z'}}\n",
      "{'kind': 'youtube#searchResult', 'etag': 'zHefjsG_0MPWXt8AiA8fgDDR3HE', 'id': {'kind': 'youtube#video', 'videoId': 'PuMr1U6pCG4'}, 'snippet': {'publishedAt': '2021-11-17T10:23:37Z', 'channelId': 'UCsJ6RuBiTVWRX156FVbeaGg', 'title': '메타버스는 허상인가?', 'description': '어렵고 딱딱한 경제,시사,금융 이야기를 쉽고 유쾌하게 풀어내는 경제/시사/이슈/잡썰 토크방송입니다. #Metaverse #헛소리.', 'thumbnails': {'default': {'url': 'https://i.ytimg.com/vi/PuMr1U6pCG4/default.jpg', 'width': 120, 'height': 90}, 'medium': {'url': 'https://i.ytimg.com/vi/PuMr1U6pCG4/mqdefault.jpg', 'width': 320, 'height': 180}, 'high': {'url': 'https://i.ytimg.com/vi/PuMr1U6pCG4/hqdefault.jpg', 'width': 480, 'height': 360}}, 'channelTitle': '슈카월드', 'liveBroadcastContent': 'none', 'publishTime': '2021-11-17T10:23:37Z'}}\n",
      "{'kind': 'youtube#searchResult', 'etag': 'Oi7PbTJ2whHSmhNk1tZUwU8nNXs', 'id': {'kind': 'youtube#video', 'videoId': '6w5DH7Zp8ws'}, 'snippet': {'publishedAt': '2021-11-16T10:10:28Z', 'channelId': 'UCsJ6RuBiTVWRX156FVbeaGg', 'title': '러시아발 전쟁 위기가 온다고?', 'description': '어렵고 딱딱한 경제,시사,금융 이야기를 쉽고 유쾌하게 풀어내는 경제/시사/이슈/잡썰 토크방송입니다. #서방 #벨라루스 #갈등.', 'thumbnails': {'default': {'url': 'https://i.ytimg.com/vi/6w5DH7Zp8ws/default.jpg', 'width': 120, 'height': 90}, 'medium': {'url': 'https://i.ytimg.com/vi/6w5DH7Zp8ws/mqdefault.jpg', 'width': 320, 'height': 180}, 'high': {'url': 'https://i.ytimg.com/vi/6w5DH7Zp8ws/hqdefault.jpg', 'width': 480, 'height': 360}}, 'channelTitle': '슈카월드', 'liveBroadcastContent': 'none', 'publishTime': '2021-11-16T10:10:28Z'}}\n",
      "{'kind': 'youtube#searchResult', 'etag': 'wbtIPKDyCGWcr70NbJ_NAfkp8ao', 'id': {'kind': 'youtube#video', 'videoId': 'yihmIiJDOS4'}, 'snippet': {'publishedAt': '2021-11-15T11:26:46Z', 'channelId': 'UCsJ6RuBiTVWRX156FVbeaGg', 'title': '엔씨소프트 상한가, 게임계에 부는 코인 열풍', 'description': '0:00 ~ 15:39 엔씨소프트 30% 상한가 15:39 ~ 38:13 게임계를 강타한 NFT, 코인 열풍 어렵고 딱딱한 경제,시사,금융 이야기를 쉽고 ...', 'thumbnails': {'default': {'url': 'https://i.ytimg.com/vi/yihmIiJDOS4/default.jpg', 'width': 120, 'height': 90}, 'medium': {'url': 'https://i.ytimg.com/vi/yihmIiJDOS4/mqdefault.jpg', 'width': 320, 'height': 180}, 'high': {'url': 'https://i.ytimg.com/vi/yihmIiJDOS4/hqdefault.jpg', 'width': 480, 'height': 360}}, 'channelTitle': '슈카월드', 'liveBroadcastContent': 'none', 'publishTime': '2021-11-15T11:26:46Z'}}\n",
      "{'kind': 'youtube#searchResult', 'etag': '55NXqeCDIwvMuf--J9npAJEytLw', 'id': {'kind': 'youtube#video', 'videoId': 'qNZGtZWFhkM'}, 'snippet': {'publishedAt': '2021-11-13T10:35:43Z', 'channelId': 'UCsJ6RuBiTVWRX156FVbeaGg', 'title': '50년간 스포츠 음료 1위 게토레이와 도전의 역사', 'description': '어렵고 딱딱한 경제,시사,금융 이야기를 쉽고 유쾌하게 풀어내는 경제/시사/이슈/잡썰 토크방송입니다. #게토레이 #펩시.', 'thumbnails': {'default': {'url': 'https://i.ytimg.com/vi/qNZGtZWFhkM/default.jpg', 'width': 120, 'height': 90}, 'medium': {'url': 'https://i.ytimg.com/vi/qNZGtZWFhkM/mqdefault.jpg', 'width': 320, 'height': 180}, 'high': {'url': 'https://i.ytimg.com/vi/qNZGtZWFhkM/hqdefault.jpg', 'width': 480, 'height': 360}}, 'channelTitle': '슈카월드', 'liveBroadcastContent': 'none', 'publishTime': '2021-11-13T10:35:43Z'}}\n",
      "{'kind': 'youtube#searchResult', 'etag': 'y6_CmuAsh81gSbQm3ygeXy3MaL4', 'id': {'kind': 'youtube#video', 'videoId': '2awK9uDrdiI'}, 'snippet': {'publishedAt': '2021-11-12T09:15:37Z', 'channelId': 'UCsJ6RuBiTVWRX156FVbeaGg', 'title': '기후변화 해답, 기술 혁신으로 찾을 수 있을까', 'description': '어렵고 딱딱한 경제,시사,금융 이야기를 쉽고 유쾌하게 풀어내는 경제/시사/이슈/잡썰 토크방송입니다. #에너지혁신 #원전.', 'thumbnails': {'default': {'url': 'https://i.ytimg.com/vi/2awK9uDrdiI/default.jpg', 'width': 120, 'height': 90}, 'medium': {'url': 'https://i.ytimg.com/vi/2awK9uDrdiI/mqdefault.jpg', 'width': 320, 'height': 180}, 'high': {'url': 'https://i.ytimg.com/vi/2awK9uDrdiI/hqdefault.jpg', 'width': 480, 'height': 360}}, 'channelTitle': '슈카월드', 'liveBroadcastContent': 'none', 'publishTime': '2021-11-12T09:15:37Z'}}\n",
      "{'kind': 'youtube#searchResult', 'etag': '-llvYAk8iEA5e8AINteDtDm-9P0', 'id': {'kind': 'youtube#video', 'videoId': 'WqtG1awALGI'}, 'snippet': {'publishedAt': '2021-11-09T11:58:53Z', 'channelId': 'UCsJ6RuBiTVWRX156FVbeaGg', 'title': '흥분되는 K-컨텐츠, 흥분하는 K-게임', 'description': '어렵고 딱딱한 경제,시사,금융 이야기를 쉽고 유쾌하게 풀어내는 경제/시사/이슈/잡썰 토크방송입니다. #블리자드 #오징어게임 #엔씨 ...', 'thumbnails': {'default': {'url': 'https://i.ytimg.com/vi/WqtG1awALGI/default.jpg', 'width': 120, 'height': 90}, 'medium': {'url': 'https://i.ytimg.com/vi/WqtG1awALGI/mqdefault.jpg', 'width': 320, 'height': 180}, 'high': {'url': 'https://i.ytimg.com/vi/WqtG1awALGI/hqdefault.jpg', 'width': 480, 'height': 360}}, 'channelTitle': '슈카월드', 'liveBroadcastContent': 'none', 'publishTime': '2021-11-09T11:58:53Z'}}\n",
      "{'kind': 'youtube#searchResult', 'etag': '7vPGFGkHqdaRZi1grhoDOd7z83M', 'id': {'kind': 'youtube#video', 'videoId': 'UfnZi1Jxt8U'}, 'snippet': {'publishedAt': '2021-11-08T11:27:14Z', 'channelId': 'UCsJ6RuBiTVWRX156FVbeaGg', 'title': '대한민국 요소수 대란, 도대체 왜?', 'description': '어렵고 딱딱한 경제,시사,금융 이야기를 쉽고 유쾌하게 풀어내는 경제/시사/이슈/잡썰 토크방송입니다. #요소수 #수입의존도98%', 'thumbnails': {'default': {'url': 'https://i.ytimg.com/vi/UfnZi1Jxt8U/default.jpg', 'width': 120, 'height': 90}, 'medium': {'url': 'https://i.ytimg.com/vi/UfnZi1Jxt8U/mqdefault.jpg', 'width': 320, 'height': 180}, 'high': {'url': 'https://i.ytimg.com/vi/UfnZi1Jxt8U/hqdefault.jpg', 'width': 480, 'height': 360}}, 'channelTitle': '슈카월드', 'liveBroadcastContent': 'none', 'publishTime': '2021-11-08T11:27:14Z'}}\n",
      "{'kind': 'youtube#searchResult', 'etag': 'dlq9c7rpYagLhmioWkAexQg5Xsk', 'id': {'kind': 'youtube#video', 'videoId': 'rAGVhFOxou0'}, 'snippet': {'publishedAt': '2021-11-05T12:05:40Z', 'channelId': 'UCsJ6RuBiTVWRX156FVbeaGg', 'title': '위대했던 10년, 독일 메르켈 총리의 아름다운 퇴장', 'description': '어렵고 딱딱한 경제,시사,금융 이야기를 쉽고 유쾌하게 풀어내는 경제/시사/이슈/잡썰 토크방송입니다. #독일총리 #지지율80%', 'thumbnails': {'default': {'url': 'https://i.ytimg.com/vi/rAGVhFOxou0/default.jpg', 'width': 120, 'height': 90}, 'medium': {'url': 'https://i.ytimg.com/vi/rAGVhFOxou0/mqdefault.jpg', 'width': 320, 'height': 180}, 'high': {'url': 'https://i.ytimg.com/vi/rAGVhFOxou0/hqdefault.jpg', 'width': 480, 'height': 360}}, 'channelTitle': '슈카월드', 'liveBroadcastContent': 'none', 'publishTime': '2021-11-05T12:05:40Z'}}\n",
      "{'kind': 'youtube#searchResult', 'etag': 'EiwMQxcR1jawvuotsvFLSxxf36M', 'id': {'kind': 'youtube#video', 'videoId': '-9G7o5Tfl1k'}, 'snippet': {'publishedAt': '2021-11-04T11:47:35Z', 'channelId': 'UCsJ6RuBiTVWRX156FVbeaGg', 'title': '(쿠키) 10대들이 사용하는 앱 따라잡기', 'description': '어렵고 딱딱한 경제,시사,금융 이야기를 쉽고 유쾌하게 풀어내는 경제/시사/이슈/잡썰 토크방송입니다. #밴드 #콴다.', 'thumbnails': {'default': {'url': 'https://i.ytimg.com/vi/-9G7o5Tfl1k/default.jpg', 'width': 120, 'height': 90}, 'medium': {'url': 'https://i.ytimg.com/vi/-9G7o5Tfl1k/mqdefault.jpg', 'width': 320, 'height': 180}, 'high': {'url': 'https://i.ytimg.com/vi/-9G7o5Tfl1k/hqdefault.jpg', 'width': 480, 'height': 360}}, 'channelTitle': '슈카월드', 'liveBroadcastContent': 'none', 'publishTime': '2021-11-04T11:47:35Z'}}\n",
      "{'kind': 'youtube#searchResult', 'etag': 'WBGeOcRo42N56oAXVHbEV7W3F-4', 'id': {'kind': 'youtube#video', 'videoId': 'G-ElDhOQvg0'}, 'snippet': {'publishedAt': '2021-11-01T10:50:47Z', 'channelId': 'UCsJ6RuBiTVWRX156FVbeaGg', 'title': '우리는 알고리즘 손바닥 위에 있는가', 'description': '00:00 ~ 22:10 페이스북 내부고발과 알고리즘 이슈 22:10 ~ 29:16 노말 패스(Normal Path)의 붕괴 어렵고 딱딱한 경제,시사,금융 ...', 'thumbnails': {'default': {'url': 'https://i.ytimg.com/vi/G-ElDhOQvg0/default.jpg', 'width': 120, 'height': 90}, 'medium': {'url': 'https://i.ytimg.com/vi/G-ElDhOQvg0/mqdefault.jpg', 'width': 320, 'height': 180}, 'high': {'url': 'https://i.ytimg.com/vi/G-ElDhOQvg0/hqdefault.jpg', 'width': 480, 'height': 360}}, 'channelTitle': '슈카월드', 'liveBroadcastContent': 'none', 'publishTime': '2021-11-01T10:50:47Z'}}\n",
      "{'kind': 'youtube#searchResult', 'etag': 'Euku7HUhyGwzFwdxCiWRhwt9yJY', 'id': {'kind': 'youtube#video', 'videoId': 'Utfg6vkuh5g'}, 'snippet': {'publishedAt': '2021-10-31T08:55:18Z', 'channelId': 'UCsJ6RuBiTVWRX156FVbeaGg', 'title': '뜨거운 미국 금융주, 따가운 한국 금융주', 'description': '어렵고 딱딱한 경제,시사,금융 이야기를 쉽고 유쾌하게 풀어내는 경제/시사/이슈/잡썰 토크방송입니다. #HOT #뜨거워.', 'thumbnails': {'default': {'url': 'https://i.ytimg.com/vi/Utfg6vkuh5g/default.jpg', 'width': 120, 'height': 90}, 'medium': {'url': 'https://i.ytimg.com/vi/Utfg6vkuh5g/mqdefault.jpg', 'width': 320, 'height': 180}, 'high': {'url': 'https://i.ytimg.com/vi/Utfg6vkuh5g/hqdefault.jpg', 'width': 480, 'height': 360}}, 'channelTitle': '슈카월드', 'liveBroadcastContent': 'none', 'publishTime': '2021-10-31T08:55:18Z'}}\n",
      "{'kind': 'youtube#searchResult', 'etag': 'TA7StDocGviIn6hT6E9jz4Fg9fc', 'id': {'kind': 'youtube#video', 'videoId': 'w29nT8vso7A'}, 'snippet': {'publishedAt': '2021-10-29T10:30:24Z', 'channelId': 'UCsJ6RuBiTVWRX156FVbeaGg', 'title': '워런버핏 : 돈이 복사가 된다고?', 'description': '어렵고 딱딱한 경제,시사,금융 이야기를 쉽고 유쾌하게 풀어내는 경제/시사/이슈/잡썰 토크방송입니다. #버크셔해서웨이 #올인.', 'thumbnails': {'default': {'url': 'https://i.ytimg.com/vi/w29nT8vso7A/default.jpg', 'width': 120, 'height': 90}, 'medium': {'url': 'https://i.ytimg.com/vi/w29nT8vso7A/mqdefault.jpg', 'width': 320, 'height': 180}, 'high': {'url': 'https://i.ytimg.com/vi/w29nT8vso7A/hqdefault.jpg', 'width': 480, 'height': 360}}, 'channelTitle': '슈카월드', 'liveBroadcastContent': 'none', 'publishTime': '2021-10-29T10:30:24Z'}}\n",
      "{'kind': 'youtube#searchResult', 'etag': '0nKxaqt8zQlB8N-0Rd-9wgzmVg0', 'id': {'kind': 'youtube#video', 'videoId': 'yVNRsdbmdAU'}, 'snippet': {'publishedAt': '2021-10-28T11:09:16Z', 'channelId': 'UCsJ6RuBiTVWRX156FVbeaGg', 'title': '아.. 반도체, 삼성쩐자와 인텔의 쩐의 전쟁', 'description': \"삼프로TV에서 송길영 교수의 '데이터로 세상을 읽다' 온라인강의 댓글 요청이 왔습니다. 평소 관심있던 분들은 아래 링크를 활용 ...\", 'thumbnails': {'default': {'url': 'https://i.ytimg.com/vi/yVNRsdbmdAU/default.jpg', 'width': 120, 'height': 90}, 'medium': {'url': 'https://i.ytimg.com/vi/yVNRsdbmdAU/mqdefault.jpg', 'width': 320, 'height': 180}, 'high': {'url': 'https://i.ytimg.com/vi/yVNRsdbmdAU/hqdefault.jpg', 'width': 480, 'height': 360}}, 'channelTitle': '슈카월드', 'liveBroadcastContent': 'none', 'publishTime': '2021-10-28T11:09:16Z'}}\n",
      "{'kind': 'youtube#searchResult', 'etag': 'cm6KUTKeD0RT_tsIRYz85ldkP5I', 'id': {'kind': 'youtube#video', 'videoId': '0uu4-zooZeU'}, 'snippet': {'publishedAt': '2021-10-27T09:54:30Z', 'channelId': 'UCsJ6RuBiTVWRX156FVbeaGg', 'title': '못생긴 신발의 대명사 크록스, 사고의 전환', 'description': '어렵고 딱딱한 경제,시사,금융 이야기를 쉽고 유쾌하게 풀어내는 경제/시사/이슈/잡썰 토크방송입니다. #인싸신발 #700%폭등.', 'thumbnails': {'default': {'url': 'https://i.ytimg.com/vi/0uu4-zooZeU/default.jpg', 'width': 120, 'height': 90}, 'medium': {'url': 'https://i.ytimg.com/vi/0uu4-zooZeU/mqdefault.jpg', 'width': 320, 'height': 180}, 'high': {'url': 'https://i.ytimg.com/vi/0uu4-zooZeU/hqdefault.jpg', 'width': 480, 'height': 360}}, 'channelTitle': '슈카월드', 'liveBroadcastContent': 'none', 'publishTime': '2021-10-27T09:54:30Z'}}\n",
      "{'kind': 'youtube#searchResult', 'etag': 'x_FCGeKp5uwjxbghO1DNRXWN5fY', 'id': {'kind': 'youtube#video', 'videoId': 'uPrwcbRsRxo'}, 'snippet': {'publishedAt': '2021-10-26T10:47:47Z', 'channelId': 'UCsJ6RuBiTVWRX156FVbeaGg', 'title': 'K-로켓 누리호 발사, 2022년 우리는 달로 간다.', 'description': '어렵고 딱딱한 경제,시사,금융 이야기를 쉽고 유쾌하게 풀어내는 경제/시사/이슈/잡썰 토크방송입니다. #누리호 #아직5발남았다.', 'thumbnails': {'default': {'url': 'https://i.ytimg.com/vi/uPrwcbRsRxo/default.jpg', 'width': 120, 'height': 90}, 'medium': {'url': 'https://i.ytimg.com/vi/uPrwcbRsRxo/mqdefault.jpg', 'width': 320, 'height': 180}, 'high': {'url': 'https://i.ytimg.com/vi/uPrwcbRsRxo/hqdefault.jpg', 'width': 480, 'height': 360}}, 'channelTitle': '슈카월드', 'liveBroadcastContent': 'none', 'publishTime': '2021-10-26T10:47:47Z'}}\n",
      "{'kind': 'youtube#searchResult', 'etag': 'Uc-GJXLwyVKllFhK0BL2Hu6JEZE', 'id': {'kind': 'youtube#video', 'videoId': 'T_nq5PujsYE'}, 'snippet': {'publishedAt': '2021-10-25T10:33:15Z', 'channelId': 'UCsJ6RuBiTVWRX156FVbeaGg', 'title': '비트코인 선물 ETF 등장, 기대감과 유의점', 'description': '어렵고 딱딱한 경제,시사,금융 이야기를 쉽고 유쾌하게 풀어내는 경제/시사/이슈/잡썰 토크방송입니다. #암호화폐 #ETF승인.', 'thumbnails': {'default': {'url': 'https://i.ytimg.com/vi/T_nq5PujsYE/default.jpg', 'width': 120, 'height': 90}, 'medium': {'url': 'https://i.ytimg.com/vi/T_nq5PujsYE/mqdefault.jpg', 'width': 320, 'height': 180}, 'high': {'url': 'https://i.ytimg.com/vi/T_nq5PujsYE/hqdefault.jpg', 'width': 480, 'height': 360}}, 'channelTitle': '슈카월드', 'liveBroadcastContent': 'none', 'publishTime': '2021-10-25T10:33:15Z'}}\n",
      "{'kind': 'youtube#searchResult', 'etag': 'osZRuc7ncc2ilfv_zX8ZenwdO10', 'id': {'kind': 'youtube#video', 'videoId': '25DFabOflJY'}, 'snippet': {'publishedAt': '2021-10-22T09:39:59Z', 'channelId': 'UCsJ6RuBiTVWRX156FVbeaGg', 'title': '재미로 보는 주식 기술적 분석 이야기', 'description': '어렵고 딱딱한 경제,시사,금융 이야기를 쉽고 유쾌하게 풀어내는 경제/시사/이슈/잡썰 토크방송입니다. #기영이차트 #이동평균선.', 'thumbnails': {'default': {'url': 'https://i.ytimg.com/vi/25DFabOflJY/default.jpg', 'width': 120, 'height': 90}, 'medium': {'url': 'https://i.ytimg.com/vi/25DFabOflJY/mqdefault.jpg', 'width': 320, 'height': 180}, 'high': {'url': 'https://i.ytimg.com/vi/25DFabOflJY/hqdefault.jpg', 'width': 480, 'height': 360}}, 'channelTitle': '슈카월드', 'liveBroadcastContent': 'none', 'publishTime': '2021-10-22T09:39:59Z'}}\n",
      "{'kind': 'youtube#searchResult', 'etag': 'dcqwTTk05Lnu7whwWrtHaqryA2Q', 'id': {'kind': 'youtube#video', 'videoId': '785JJwcWozc'}, 'snippet': {'publishedAt': '2021-10-20T12:28:20Z', 'channelId': 'UCsJ6RuBiTVWRX156FVbeaGg', 'title': 'K-승부수, 수소 경제를 잡아라', 'description': '자세한 내용은 매주 일요일 저녁 7시 KBS1 \"쌤과 함께\" 차후 회차에서 확인하세요. 어렵고 딱딱한 경제,시사,금융 이야기를 쉽고 유쾌 ...', 'thumbnails': {'default': {'url': 'https://i.ytimg.com/vi/785JJwcWozc/default.jpg', 'width': 120, 'height': 90}, 'medium': {'url': 'https://i.ytimg.com/vi/785JJwcWozc/mqdefault.jpg', 'width': 320, 'height': 180}, 'high': {'url': 'https://i.ytimg.com/vi/785JJwcWozc/hqdefault.jpg', 'width': 480, 'height': 360}}, 'channelTitle': '슈카월드', 'liveBroadcastContent': 'none', 'publishTime': '2021-10-20T12:28:20Z'}}\n",
      "{'kind': 'youtube#searchResult', 'etag': 'h01nRZfUAdMUZwMEZ7LDgUmKeoM', 'id': {'kind': 'youtube#video', 'videoId': 'hXlgNzznlQ0'}, 'snippet': {'publishedAt': '2021-10-19T12:35:44Z', 'channelId': 'UCsJ6RuBiTVWRX156FVbeaGg', 'title': '중국의 대만 무력 위협, 뜨거워지는 동아시아', 'description': '어렵고 딱딱한 경제,시사,금융 이야기를 쉽고 유쾌하게 풀어내는 경제/시사/이슈/잡썰 토크방송입니다. #중국대만 #일본NEW총리.', 'thumbnails': {'default': {'url': 'https://i.ytimg.com/vi/hXlgNzznlQ0/default.jpg', 'width': 120, 'height': 90}, 'medium': {'url': 'https://i.ytimg.com/vi/hXlgNzznlQ0/mqdefault.jpg', 'width': 320, 'height': 180}, 'high': {'url': 'https://i.ytimg.com/vi/hXlgNzznlQ0/hqdefault.jpg', 'width': 480, 'height': 360}}, 'channelTitle': '슈카월드', 'liveBroadcastContent': 'none', 'publishTime': '2021-10-19T12:35:44Z'}}\n",
      "{'kind': 'youtube#searchResult', 'etag': '6hBTSau55qwKZPLUUP-OS2QmRc0', 'id': {'kind': 'youtube#video', 'videoId': '-ixjIUe098I'}, 'snippet': {'publishedAt': '2021-10-15T13:44:36Z', 'channelId': 'UCsJ6RuBiTVWRX156FVbeaGg', 'title': '6.25 전쟁 눈부신 승리, 파로호 전투', 'description': '어렵고 딱딱한 경제,시사,금융 이야기를 쉽고 유쾌하게 풀어내는 경제/시사/이슈/잡썰 토크방송입니다. #용문산전투 #고지전.', 'thumbnails': {'default': {'url': 'https://i.ytimg.com/vi/-ixjIUe098I/default.jpg', 'width': 120, 'height': 90}, 'medium': {'url': 'https://i.ytimg.com/vi/-ixjIUe098I/mqdefault.jpg', 'width': 320, 'height': 180}, 'high': {'url': 'https://i.ytimg.com/vi/-ixjIUe098I/hqdefault.jpg', 'width': 480, 'height': 360}}, 'channelTitle': '슈카월드', 'liveBroadcastContent': 'none', 'publishTime': '2021-10-15T13:44:36Z'}}\n",
      "{'kind': 'youtube#searchResult', 'etag': 's_BwY5d-NPRjXGRZ5JVmRKSmQO0', 'id': {'kind': 'youtube#video', 'videoId': 'E6WYKzGufdg'}, 'snippet': {'publishedAt': '2021-10-12T09:49:08Z', 'channelId': 'UCsJ6RuBiTVWRX156FVbeaGg', 'title': '먹는 코로나 치료제의 개발, 드디어 끝나나..?', 'description': '어렵고 딱딱한 경제,시사,금융 이야기를 쉽고 유쾌하게 풀어내는 경제/시사/이슈/잡썰 토크방송입니다. #먹는치료제 #바이러스.', 'thumbnails': {'default': {'url': 'https://i.ytimg.com/vi/E6WYKzGufdg/default.jpg', 'width': 120, 'height': 90}, 'medium': {'url': 'https://i.ytimg.com/vi/E6WYKzGufdg/mqdefault.jpg', 'width': 320, 'height': 180}, 'high': {'url': 'https://i.ytimg.com/vi/E6WYKzGufdg/hqdefault.jpg', 'width': 480, 'height': 360}}, 'channelTitle': '슈카월드', 'liveBroadcastContent': 'none', 'publishTime': '2021-10-12T09:49:08Z'}}\n",
      "{'kind': 'youtube#searchResult', 'etag': 'YdudlyaDmwACIsJDhywiQwOKkSo', 'id': {'kind': 'youtube#video', 'videoId': 'GbtdlmK06ho'}, 'snippet': {'publishedAt': '2021-10-08T14:41:19Z', 'channelId': 'UCsJ6RuBiTVWRX156FVbeaGg', 'title': '한국전쟁 &#39;장진호 전투&#39;, 그 참혹했던 순간', 'description': '어렵고 딱딱한 경제,시사,금융 이야기를 쉽고 유쾌하게 풀어내는 경제/시사/이슈/잡썰 토크방송입니다. #6.25전쟁 #항미원조.', 'thumbnails': {'default': {'url': 'https://i.ytimg.com/vi/GbtdlmK06ho/default.jpg', 'width': 120, 'height': 90}, 'medium': {'url': 'https://i.ytimg.com/vi/GbtdlmK06ho/mqdefault.jpg', 'width': 320, 'height': 180}, 'high': {'url': 'https://i.ytimg.com/vi/GbtdlmK06ho/hqdefault.jpg', 'width': 480, 'height': 360}}, 'channelTitle': '슈카월드', 'liveBroadcastContent': 'none', 'publishTime': '2021-10-08T14:41:19Z'}}\n"
     ]
    },
    {
     "name": "stdout",
     "output_type": "stream",
     "text": [
      "{'kind': 'youtube#searchResult', 'etag': '9kjjsuNvkpHGbPsnacdkBRrERAk', 'id': {'kind': 'youtube#video', 'videoId': 'iYnS9IQSztU'}, 'snippet': {'publishedAt': '2021-10-04T13:00:39Z', 'channelId': 'UCsJ6RuBiTVWRX156FVbeaGg', 'title': '살벌한 모습의 코스피, 많은 이슈들과 가치투자자의 대응', 'description': '0:00 ~ 12:21 미국 예산안 이슈와 디폴트 위기 12:21 ~ 21:15 중국 전력난과 그린플레이션 21:15 ~ 32:20 인플레이션은 일시적이다?', 'thumbnails': {'default': {'url': 'https://i.ytimg.com/vi/iYnS9IQSztU/default.jpg', 'width': 120, 'height': 90}, 'medium': {'url': 'https://i.ytimg.com/vi/iYnS9IQSztU/mqdefault.jpg', 'width': 320, 'height': 180}, 'high': {'url': 'https://i.ytimg.com/vi/iYnS9IQSztU/hqdefault.jpg', 'width': 480, 'height': 360}}, 'channelTitle': '슈카월드', 'liveBroadcastContent': 'none', 'publishTime': '2021-10-04T13:00:39Z'}}\n",
      "{'kind': 'youtube#searchResult', 'etag': 'YC7MS2MxLznFh_CyfpC6MiE8EfE', 'id': {'kind': 'youtube#video', 'videoId': 'VrN8gqP8Zu4'}, 'snippet': {'publishedAt': '2021-10-01T12:50:09Z', 'channelId': 'UCsJ6RuBiTVWRX156FVbeaGg', 'title': '잔인 무도했던 아프리카의 검은 히틀러, 이디 아민', 'description': '어렵고 딱딱한 경제,시사,금융 이야기를 쉽고 유쾌하게 풀어내는 경제/시사/이슈/잡썰 토크방송입니다. #검은히틀러 #독재.', 'thumbnails': {'default': {'url': 'https://i.ytimg.com/vi/VrN8gqP8Zu4/default.jpg', 'width': 120, 'height': 90}, 'medium': {'url': 'https://i.ytimg.com/vi/VrN8gqP8Zu4/mqdefault.jpg', 'width': 320, 'height': 180}, 'high': {'url': 'https://i.ytimg.com/vi/VrN8gqP8Zu4/hqdefault.jpg', 'width': 480, 'height': 360}}, 'channelTitle': '슈카월드', 'liveBroadcastContent': 'none', 'publishTime': '2021-10-01T12:50:09Z'}}\n",
      "{'kind': 'youtube#searchResult', 'etag': 'FpxdfIH5Q888js0z6WzKh8S0wsc', 'id': {'kind': 'youtube#video', 'videoId': 'i9UQsuv8Q-0'}, 'snippet': {'publishedAt': '2021-09-29T11:28:41Z', 'channelId': 'UCsJ6RuBiTVWRX156FVbeaGg', 'title': '11월, 우리는 위드 코로나로 전환할 수 있을까', 'description': '어렵고 딱딱한 경제,시사,금융 이야기를 쉽고 유쾌하게 풀어내는 경제/시사/이슈/잡썰 토크방송입니다. #With코로나 #감당할것들.', 'thumbnails': {'default': {'url': 'https://i.ytimg.com/vi/i9UQsuv8Q-0/default.jpg', 'width': 120, 'height': 90}, 'medium': {'url': 'https://i.ytimg.com/vi/i9UQsuv8Q-0/mqdefault.jpg', 'width': 320, 'height': 180}, 'high': {'url': 'https://i.ytimg.com/vi/i9UQsuv8Q-0/hqdefault.jpg', 'width': 480, 'height': 360}}, 'channelTitle': '슈카월드', 'liveBroadcastContent': 'none', 'publishTime': '2021-09-29T11:28:41Z'}}\n",
      "{'kind': 'youtube#searchResult', 'etag': 'zM70mP-2My0wv9l8IjBS2HcQ4Ng', 'id': {'kind': 'youtube#video', 'videoId': '_VW_z5JK62E'}, 'snippet': {'publishedAt': '2021-09-27T11:00:22Z', 'channelId': 'UCsJ6RuBiTVWRX156FVbeaGg', 'title': '넷플릭스 전체 1위 오징어게임의 초대박과 한국 컨텐츠 붐', 'description': '어렵고 딱딱한 경제,시사,금융 이야기를 쉽고 유쾌하게 풀어내는 경제/시사/이슈/잡썰 토크방송입니다. #SquidGame #넷플릭스1위.', 'thumbnails': {'default': {'url': 'https://i.ytimg.com/vi/_VW_z5JK62E/default.jpg', 'width': 120, 'height': 90}, 'medium': {'url': 'https://i.ytimg.com/vi/_VW_z5JK62E/mqdefault.jpg', 'width': 320, 'height': 180}, 'high': {'url': 'https://i.ytimg.com/vi/_VW_z5JK62E/hqdefault.jpg', 'width': 480, 'height': 360}}, 'channelTitle': '슈카월드', 'liveBroadcastContent': 'none', 'publishTime': '2021-09-27T11:00:22Z'}}\n",
      "{'kind': 'youtube#searchResult', 'etag': 'ib1wEF9jb3MChCFqz6kLScJ-9sk', 'id': {'kind': 'youtube#video', 'videoId': '1BFakMxJUIg'}, 'snippet': {'publishedAt': '2021-09-24T11:45:47Z', 'channelId': 'UCsJ6RuBiTVWRX156FVbeaGg', 'title': '아프리카의 북한, 짐바브웨의 믿기 힘든 멸망사(史)', 'description': '0:00 ~ 13:37 영국 제국주의와 세실 로즈 13:37 ~ 29:28 짐바브웨의 경제 몰락 어렵고 딱딱한 경제,시사,금융 이야기를 쉽고 유쾌하게 ...', 'thumbnails': {'default': {'url': 'https://i.ytimg.com/vi/1BFakMxJUIg/default.jpg', 'width': 120, 'height': 90}, 'medium': {'url': 'https://i.ytimg.com/vi/1BFakMxJUIg/mqdefault.jpg', 'width': 320, 'height': 180}, 'high': {'url': 'https://i.ytimg.com/vi/1BFakMxJUIg/hqdefault.jpg', 'width': 480, 'height': 360}}, 'channelTitle': '슈카월드', 'liveBroadcastContent': 'none', 'publishTime': '2021-09-24T11:45:47Z'}}\n",
      "{'kind': 'youtube#searchResult', 'etag': 'x7B5JjEtb9Ho3rG5DE8GwSVTxLw', 'id': {'kind': 'youtube#video', 'videoId': 'evgnsWrxKfQ'}, 'snippet': {'publishedAt': '2021-09-22T13:59:56Z', 'channelId': 'UCsJ6RuBiTVWRX156FVbeaGg', 'title': '세계 최대 카지노 마카오, 중국발 규제 공포에 실신 중', 'description': '어렵고 딱딱한 경제,시사,금융 이야기를 쉽고 유쾌하게 풀어내는 경제/시사/이슈/잡썰 토크방송입니다. #마카오 #중국규제.', 'thumbnails': {'default': {'url': 'https://i.ytimg.com/vi/evgnsWrxKfQ/default.jpg', 'width': 120, 'height': 90}, 'medium': {'url': 'https://i.ytimg.com/vi/evgnsWrxKfQ/mqdefault.jpg', 'width': 320, 'height': 180}, 'high': {'url': 'https://i.ytimg.com/vi/evgnsWrxKfQ/hqdefault.jpg', 'width': 480, 'height': 360}}, 'channelTitle': '슈카월드', 'liveBroadcastContent': 'none', 'publishTime': '2021-09-22T13:59:56Z'}}\n",
      "{'kind': 'youtube#searchResult', 'etag': '1BuZE5ZCChaFI54p6VSkluu4SOM', 'id': {'kind': 'youtube#video', 'videoId': 'LlJOTAVsAvI'}, 'snippet': {'publishedAt': '2021-09-21T11:03:45Z', 'channelId': 'UCsJ6RuBiTVWRX156FVbeaGg', 'title': '영미에 뒤통수 맞은 프랑스의 분노와 뻘쭘한 한국', 'description': '어렵고 딱딱한 경제,시사,금융 이야기를 쉽고 유쾌하게 풀어내는 경제/시사/이슈/잡썰 토크방송입니다. #프랑스분노 #파이브아이즈.', 'thumbnails': {'default': {'url': 'https://i.ytimg.com/vi/LlJOTAVsAvI/default.jpg', 'width': 120, 'height': 90}, 'medium': {'url': 'https://i.ytimg.com/vi/LlJOTAVsAvI/mqdefault.jpg', 'width': 320, 'height': 180}, 'high': {'url': 'https://i.ytimg.com/vi/LlJOTAVsAvI/hqdefault.jpg', 'width': 480, 'height': 360}}, 'channelTitle': '슈카월드', 'liveBroadcastContent': 'none', 'publishTime': '2021-09-21T11:03:45Z'}}\n",
      "{'kind': 'youtube#searchResult', 'etag': 'lpRoKv8KtqC_MgPe_TRzoc6JbM0', 'id': {'kind': 'youtube#video', 'videoId': '4wGsok_70_4'}, 'snippet': {'publishedAt': '2021-09-18T08:12:35Z', 'channelId': 'UCsJ6RuBiTVWRX156FVbeaGg', 'title': '4,500년 만에 피라미드 &quot;비밀의 방&quot;을 찾았다', 'description': '어렵고 딱딱한 경제,시사,금융 이야기를 쉽고 유쾌하게 풀어내는 경제/시사/이슈/잡썰 토크방송입니다. #피라미드 #비밀의방.', 'thumbnails': {'default': {'url': 'https://i.ytimg.com/vi/4wGsok_70_4/default.jpg', 'width': 120, 'height': 90}, 'medium': {'url': 'https://i.ytimg.com/vi/4wGsok_70_4/mqdefault.jpg', 'width': 320, 'height': 180}, 'high': {'url': 'https://i.ytimg.com/vi/4wGsok_70_4/hqdefault.jpg', 'width': 480, 'height': 360}}, 'channelTitle': '슈카월드', 'liveBroadcastContent': 'none', 'publishTime': '2021-09-18T08:12:35Z'}}\n",
      "{'kind': 'youtube#searchResult', 'etag': 'gLcMOgn5YYRpVr3bFD0qVax_d_I', 'id': {'kind': 'youtube#video', 'videoId': 'Lw6kMEFgsnA'}, 'snippet': {'publishedAt': '2021-09-17T10:12:02Z', 'channelId': 'UCsJ6RuBiTVWRX156FVbeaGg', 'title': '지속가능성 시대, 중소중견기업이 나아갈 길 : SAP디지털 전환 솔루션 [유료광고포함]', 'description': '영상은 SAP의 지원을 받아 제작되었습니다. 중소중견기업 디지털 전환 : http://www.sapsme.co.kr 어렵고 딱딱한 경제,시사,금융 ...', 'thumbnails': {'default': {'url': 'https://i.ytimg.com/vi/Lw6kMEFgsnA/default.jpg', 'width': 120, 'height': 90}, 'medium': {'url': 'https://i.ytimg.com/vi/Lw6kMEFgsnA/mqdefault.jpg', 'width': 320, 'height': 180}, 'high': {'url': 'https://i.ytimg.com/vi/Lw6kMEFgsnA/hqdefault.jpg', 'width': 480, 'height': 360}}, 'channelTitle': '슈카월드', 'liveBroadcastContent': 'none', 'publishTime': '2021-09-17T10:12:02Z'}}\n",
      "{'kind': 'youtube#searchResult', 'etag': '7KMhgG3zteIE7bVlv3icTuXXC5Y', 'id': {'kind': 'youtube#video', 'videoId': 'tGfq2M3XcCY'}, 'snippet': {'publishedAt': '2021-09-10T13:44:47Z', 'channelId': 'UCsJ6RuBiTVWRX156FVbeaGg', 'title': '아직도 어려운 호칭과 높임말로 인한 오해들', 'description': '어렵고 딱딱한 경제,시사,금융 이야기를 쉽고 유쾌하게 풀어내는 경제/시사/이슈/잡썰 토크방송입니다. #어이김씨 #선생님.', 'thumbnails': {'default': {'url': 'https://i.ytimg.com/vi/tGfq2M3XcCY/default.jpg', 'width': 120, 'height': 90}, 'medium': {'url': 'https://i.ytimg.com/vi/tGfq2M3XcCY/mqdefault.jpg', 'width': 320, 'height': 180}, 'high': {'url': 'https://i.ytimg.com/vi/tGfq2M3XcCY/hqdefault.jpg', 'width': 480, 'height': 360}}, 'channelTitle': '슈카월드', 'liveBroadcastContent': 'none', 'publishTime': '2021-09-10T13:44:47Z'}}\n",
      "{'kind': 'youtube#searchResult', 'etag': 'hTg1lCQuUQNmuuG0jyiuXljq84I', 'id': {'kind': 'youtube#video', 'videoId': '6Ovd7lmpfOo'}, 'snippet': {'publishedAt': '2021-09-09T11:49:09Z', 'channelId': 'UCsJ6RuBiTVWRX156FVbeaGg', 'title': '메타버스는 기존 온라인 게임이랑 무엇이 다른가', 'description': '00:00 ~ 11:41 플랫폼으로서의 메타버스 비즈니스란? 11:41 ~ 19:29 아쉬운 리니지 행보 어렵고 딱딱한 경제,시사,금융 이야기를 쉽고 ...', 'thumbnails': {'default': {'url': 'https://i.ytimg.com/vi/6Ovd7lmpfOo/default.jpg', 'width': 120, 'height': 90}, 'medium': {'url': 'https://i.ytimg.com/vi/6Ovd7lmpfOo/mqdefault.jpg', 'width': 320, 'height': 180}, 'high': {'url': 'https://i.ytimg.com/vi/6Ovd7lmpfOo/hqdefault.jpg', 'width': 480, 'height': 360}}, 'channelTitle': '슈카월드', 'liveBroadcastContent': 'none', 'publishTime': '2021-09-09T11:49:09Z'}}\n",
      "{'kind': 'youtube#searchResult', 'etag': 'Iqo3_HLTrfuInEQpY1HPBaZ6IWM', 'id': {'kind': 'youtube#video', 'videoId': 'xq4AjbnqZw0'}, 'snippet': {'publishedAt': '2021-09-08T13:10:19Z', 'channelId': 'UCsJ6RuBiTVWRX156FVbeaGg', 'title': '수능이 붕괴한다? 벼랑 끝에 선 교육시장', 'description': '00:00 ~ 05:37 라떼는말이야 성적 이야기 05:37 ~ 20:28 수능 붕괴 조짐? 어렵고 딱딱한 경제,시사,금융 이야기를 쉽고 유쾌하게 풀어 ...', 'thumbnails': {'default': {'url': 'https://i.ytimg.com/vi/xq4AjbnqZw0/default.jpg', 'width': 120, 'height': 90}, 'medium': {'url': 'https://i.ytimg.com/vi/xq4AjbnqZw0/mqdefault.jpg', 'width': 320, 'height': 180}, 'high': {'url': 'https://i.ytimg.com/vi/xq4AjbnqZw0/hqdefault.jpg', 'width': 480, 'height': 360}}, 'channelTitle': '슈카월드', 'liveBroadcastContent': 'none', 'publishTime': '2021-09-08T13:10:19Z'}}\n",
      "{'kind': 'youtube#searchResult', 'etag': 'SQB755m5JrPGIy9aL1-ioXxDN7g', 'id': {'kind': 'youtube#video', 'videoId': 'a3SnUIMd2Jc'}, 'snippet': {'publishedAt': '2021-09-01T12:39:22Z', 'channelId': 'UCsJ6RuBiTVWRX156FVbeaGg', 'title': '정부는 돈을 뿌리고, 중앙은행은 돈을 흡수하는 기묘한 현상', 'description': '0:00 ~ 12:36 긴축적 통화정책, 확장적 재정정책 12:36 ~ 22:31 니콜라 비장의 카드? 어렵고 딱딱한 경제,시사,금융 이야기를 쉽고 ...', 'thumbnails': {'default': {'url': 'https://i.ytimg.com/vi/a3SnUIMd2Jc/default.jpg', 'width': 120, 'height': 90}, 'medium': {'url': 'https://i.ytimg.com/vi/a3SnUIMd2Jc/mqdefault.jpg', 'width': 320, 'height': 180}, 'high': {'url': 'https://i.ytimg.com/vi/a3SnUIMd2Jc/hqdefault.jpg', 'width': 480, 'height': 360}}, 'channelTitle': '슈카월드', 'liveBroadcastContent': 'none', 'publishTime': '2021-09-01T12:39:22Z'}}\n",
      "{'kind': 'youtube#searchResult', 'etag': 'dJFF4wFOKOmQbsDOx72g88pJaAE', 'id': {'kind': 'youtube#video', 'videoId': 'ECSeCI7n2zw'}, 'snippet': {'publishedAt': '2021-08-31T11:06:08Z', 'channelId': 'UCsJ6RuBiTVWRX156FVbeaGg', 'title': 'MZ세대의 요청 : M과 Z를 묶지 말아주세요.', 'description': '어렵고 딱딱한 경제,시사,금융 이야기를 쉽고 유쾌하게 풀어내는 경제/시사/이슈/잡썰 토크방송입니다. #X세대 #MZ세대.', 'thumbnails': {'default': {'url': 'https://i.ytimg.com/vi/ECSeCI7n2zw/default.jpg', 'width': 120, 'height': 90}, 'medium': {'url': 'https://i.ytimg.com/vi/ECSeCI7n2zw/mqdefault.jpg', 'width': 320, 'height': 180}, 'high': {'url': 'https://i.ytimg.com/vi/ECSeCI7n2zw/hqdefault.jpg', 'width': 480, 'height': 360}}, 'channelTitle': '슈카월드', 'liveBroadcastContent': 'none', 'publishTime': '2021-08-31T11:06:08Z'}}\n",
      "{'kind': 'youtube#searchResult', 'etag': 'K2-2rR7VtcE6e3ZX5qhvAlDKWb8', 'id': {'kind': 'youtube#video', 'videoId': 'HqF46N5tZbE'}, 'snippet': {'publishedAt': '2021-08-27T11:59:18Z', 'channelId': 'UCsJ6RuBiTVWRX156FVbeaGg', 'title': '&#39;공동부유&#39;, 시진핑 주석 3연임을 향한 새로운 이데올로기 선언', 'description': '어렵고 딱딱한 경제,시사,금융 이야기를 쉽고 유쾌하게 풀어내는 경제/시사/이슈/잡썰 토크방송입니다. #부의재분배 #공동부유.', 'thumbnails': {'default': {'url': 'https://i.ytimg.com/vi/HqF46N5tZbE/default.jpg', 'width': 120, 'height': 90}, 'medium': {'url': 'https://i.ytimg.com/vi/HqF46N5tZbE/mqdefault.jpg', 'width': 320, 'height': 180}, 'high': {'url': 'https://i.ytimg.com/vi/HqF46N5tZbE/hqdefault.jpg', 'width': 480, 'height': 360}}, 'channelTitle': '슈카월드', 'liveBroadcastContent': 'none', 'publishTime': '2021-08-27T11:59:18Z'}}\n",
      "{'kind': 'youtube#searchResult', 'etag': 'AiXyqyz3-Cu-GOr-raWWoLCSmew', 'id': {'kind': 'youtube#video', 'videoId': 'A_bfO3R4t_s'}, 'snippet': {'publishedAt': '2021-08-26T10:27:00Z', 'channelId': 'UCsJ6RuBiTVWRX156FVbeaGg', 'title': '글로벌 기업들의 재생에너지 100% 사용선언과 우리의 과제 [유료광고포함]', 'description': '본 영상은 기후솔루션의 지원을 받아 제작되었습니다. 기후솔루션: http://www.forourclimate.org/ 어렵고 딱딱한 경제,시사,금융 이야기 ...', 'thumbnails': {'default': {'url': 'https://i.ytimg.com/vi/A_bfO3R4t_s/default.jpg', 'width': 120, 'height': 90}, 'medium': {'url': 'https://i.ytimg.com/vi/A_bfO3R4t_s/mqdefault.jpg', 'width': 320, 'height': 180}, 'high': {'url': 'https://i.ytimg.com/vi/A_bfO3R4t_s/hqdefault.jpg', 'width': 480, 'height': 360}}, 'channelTitle': '슈카월드', 'liveBroadcastContent': 'none', 'publishTime': '2021-08-26T10:27:00Z'}}\n",
      "{'kind': 'youtube#searchResult', 'etag': '4EEkdejfBf5xB5ujJaSqlBlXZFk', 'id': {'kind': 'youtube#video', 'videoId': 'hn5SZa3SpzE'}, 'snippet': {'publishedAt': '2021-08-25T10:28:01Z', 'channelId': 'UCsJ6RuBiTVWRX156FVbeaGg', 'title': '강한 모습의 부동산 시장과 급등락의 걱정', 'description': '어렵고 딱딱한 경제,시사,금융 이야기를 쉽고 유쾌하게 풀어내는 경제/시사/이슈/잡썰 토크방송입니다. #부동산 #가계대출.', 'thumbnails': {'default': {'url': 'https://i.ytimg.com/vi/hn5SZa3SpzE/default.jpg', 'width': 120, 'height': 90}, 'medium': {'url': 'https://i.ytimg.com/vi/hn5SZa3SpzE/mqdefault.jpg', 'width': 320, 'height': 180}, 'high': {'url': 'https://i.ytimg.com/vi/hn5SZa3SpzE/hqdefault.jpg', 'width': 480, 'height': 360}}, 'channelTitle': '슈카월드', 'liveBroadcastContent': 'none', 'publishTime': '2021-08-25T10:28:01Z'}}\n",
      "{'kind': 'youtube#searchResult', 'etag': '0ygLL5zB0RE9szuIS-S8ZC0b4Tg', 'id': {'kind': 'youtube#video', 'videoId': 'RETZFK3RiBM'}, 'snippet': {'publishedAt': '2021-08-23T15:07:00Z', 'channelId': 'UCsJ6RuBiTVWRX156FVbeaGg', 'title': '테슬라 AI 데이, 휴머노이드 &#39;테슬라 로봇&#39;의 등장', 'description': '오류 수정 후 재업로드 하였습니다. 어렵고 딱딱한 경제,시사,금융 이야기를 쉽고 유쾌하게 풀어내는 경제/시사/이슈/잡썰 토크방송 ...', 'thumbnails': {'default': {'url': 'https://i.ytimg.com/vi/RETZFK3RiBM/default.jpg', 'width': 120, 'height': 90}, 'medium': {'url': 'https://i.ytimg.com/vi/RETZFK3RiBM/mqdefault.jpg', 'width': 320, 'height': 180}, 'high': {'url': 'https://i.ytimg.com/vi/RETZFK3RiBM/hqdefault.jpg', 'width': 480, 'height': 360}}, 'channelTitle': '슈카월드', 'liveBroadcastContent': 'none', 'publishTime': '2021-08-23T15:07:00Z'}}\n",
      "{'kind': 'youtube#searchResult', 'etag': 'ay60m_2jS8wtBBk7Kyej-Qo3AgQ', 'id': {'kind': 'youtube#video', 'videoId': '8ylnIYgHBqY'}, 'snippet': {'publishedAt': '2021-08-21T09:35:07Z', 'channelId': 'UCsJ6RuBiTVWRX156FVbeaGg', 'title': '62년 카스트로 시대의 종언과 변화의 앞에 선 쿠바', 'description': '어렵고 딱딱한 경제,시사,금융 이야기를 쉽고 유쾌하게 풀어내는 경제/시사/이슈/잡썰 토크방송입니다. #쿠바 #대전환.', 'thumbnails': {'default': {'url': 'https://i.ytimg.com/vi/8ylnIYgHBqY/default.jpg', 'width': 120, 'height': 90}, 'medium': {'url': 'https://i.ytimg.com/vi/8ylnIYgHBqY/mqdefault.jpg', 'width': 320, 'height': 180}, 'high': {'url': 'https://i.ytimg.com/vi/8ylnIYgHBqY/hqdefault.jpg', 'width': 480, 'height': 360}}, 'channelTitle': '슈카월드', 'liveBroadcastContent': 'none', 'publishTime': '2021-08-21T09:35:07Z'}}\n",
      "{'kind': 'youtube#searchResult', 'etag': 'J0IMICQxymnsLSoAR3r5E3OwjPU', 'id': {'kind': 'youtube#video', 'videoId': 'q03lNhMlnHQ'}, 'snippet': {'publishedAt': '2021-08-20T12:15:57Z', 'channelId': 'UCsJ6RuBiTVWRX156FVbeaGg', 'title': '간절한 NC SOFT, 동상이몽 넥슨, 투자의 신 넷마블, 3인 3색 생존전략', 'description': '삼성증권 오동환님 https://www.samsungpop.com/common.do?cmd=down&saveKey=research.', 'thumbnails': {'default': {'url': 'https://i.ytimg.com/vi/q03lNhMlnHQ/default.jpg', 'width': 120, 'height': 90}, 'medium': {'url': 'https://i.ytimg.com/vi/q03lNhMlnHQ/mqdefault.jpg', 'width': 320, 'height': 180}, 'high': {'url': 'https://i.ytimg.com/vi/q03lNhMlnHQ/hqdefault.jpg', 'width': 480, 'height': 360}}, 'channelTitle': '슈카월드', 'liveBroadcastContent': 'none', 'publishTime': '2021-08-20T12:15:57Z'}}\n",
      "{'kind': 'youtube#searchResult', 'etag': 'QVi7zCAuriZkBZj7OtiroO-ilrI', 'id': {'kind': 'youtube#video', 'videoId': '7P7Z3iOHzQk'}, 'snippet': {'publishedAt': '2021-08-19T10:00:03Z', 'channelId': 'UCsJ6RuBiTVWRX156FVbeaGg', 'title': '글로벌 웹툰 시장에 몰린 기대와 카카오웹툰의 도전 [유료광고포함]', 'description': '카카오웹툰의 유료광고가 포함된 영상입니다. 카카오엔터테인먼트 주식 이벤트에 참여하실 분들은 링크를 확인하세요!', 'thumbnails': {'default': {'url': 'https://i.ytimg.com/vi/7P7Z3iOHzQk/default.jpg', 'width': 120, 'height': 90}, 'medium': {'url': 'https://i.ytimg.com/vi/7P7Z3iOHzQk/mqdefault.jpg', 'width': 320, 'height': 180}, 'high': {'url': 'https://i.ytimg.com/vi/7P7Z3iOHzQk/hqdefault.jpg', 'width': 480, 'height': 360}}, 'channelTitle': '슈카월드', 'liveBroadcastContent': 'none', 'publishTime': '2021-08-19T10:00:03Z'}}\n",
      "{'kind': 'youtube#searchResult', 'etag': 'jNTWHzcroIqr2oJATr69vyEe8Og', 'id': {'kind': 'youtube#video', 'videoId': 'NPBzcjf8zQI'}, 'snippet': {'publishedAt': '2021-08-18T13:18:08Z', 'channelId': 'UCsJ6RuBiTVWRX156FVbeaGg', 'title': '폭발적으로 증가하는 상장 기업(IPO) 규모, 2021년 상장의 시대', 'description': 'SK증권 구경회님 http://www.paxnet.co.kr//WWW/data/researchCenter/attach/20210809112942144.pdf 흥국증권 최종경님 ...', 'thumbnails': {'default': {'url': 'https://i.ytimg.com/vi/NPBzcjf8zQI/default.jpg', 'width': 120, 'height': 90}, 'medium': {'url': 'https://i.ytimg.com/vi/NPBzcjf8zQI/mqdefault.jpg', 'width': 320, 'height': 180}, 'high': {'url': 'https://i.ytimg.com/vi/NPBzcjf8zQI/hqdefault.jpg', 'width': 480, 'height': 360}}, 'channelTitle': '슈카월드', 'liveBroadcastContent': 'none', 'publishTime': '2021-08-18T13:18:08Z'}}\n",
      "{'kind': 'youtube#searchResult', 'etag': '_DCG7kGLGpP40S5grDfqyye4fA0', 'id': {'kind': 'youtube#video', 'videoId': '2zVW0MqY0BI'}, 'snippet': {'publishedAt': '2021-08-14T10:32:32Z', 'channelId': 'UCsJ6RuBiTVWRX156FVbeaGg', 'title': 'TV예능 초성퀴즈 1단계, 그는 왜 떨어졌나', 'description': '0:00 ~ 9:28 1단계 광탈한 썰풉니다 9:28 ~ 17:20 미중 외교 분쟁 Start 어렵고 딱딱한 경제,시사,금융 이야기를 쉽고 유쾌하게 풀어 ...', 'thumbnails': {'default': {'url': 'https://i.ytimg.com/vi/2zVW0MqY0BI/default.jpg', 'width': 120, 'height': 90}, 'medium': {'url': 'https://i.ytimg.com/vi/2zVW0MqY0BI/mqdefault.jpg', 'width': 320, 'height': 180}, 'high': {'url': 'https://i.ytimg.com/vi/2zVW0MqY0BI/hqdefault.jpg', 'width': 480, 'height': 360}}, 'channelTitle': '슈카월드', 'liveBroadcastContent': 'none', 'publishTime': '2021-08-14T10:32:32Z'}}\n",
      "{'kind': 'youtube#searchResult', 'etag': 'PT_CziM0bGqFIhNKm-uaT2wXXCw', 'id': {'kind': 'youtube#video', 'videoId': 'HY8Tylg_q0g'}, 'snippet': {'publishedAt': '2021-08-13T12:42:32Z', 'channelId': 'UCsJ6RuBiTVWRX156FVbeaGg', 'title': '빈곤층 비중 96%!? 위험관리에 실패한 베네수엘라의 믿기 힘든 현실', 'description': '어렵고 딱딱한 경제,시사,금융 이야기를 쉽고 유쾌하게 풀어내는 경제/시사/이슈/잡썰 토크방송입니다. #평등하게망한나라 ...', 'thumbnails': {'default': {'url': 'https://i.ytimg.com/vi/HY8Tylg_q0g/default.jpg', 'width': 120, 'height': 90}, 'medium': {'url': 'https://i.ytimg.com/vi/HY8Tylg_q0g/mqdefault.jpg', 'width': 320, 'height': 180}, 'high': {'url': 'https://i.ytimg.com/vi/HY8Tylg_q0g/hqdefault.jpg', 'width': 480, 'height': 360}}, 'channelTitle': '슈카월드', 'liveBroadcastContent': 'none', 'publishTime': '2021-08-13T12:42:32Z'}}\n",
      "{'kind': 'youtube#searchResult', 'etag': 'HkU7gZAuZcyEsRGaAiakfekS6ss', 'id': {'kind': 'youtube#video', 'videoId': 'yvYFTywu_NI'}, 'snippet': {'publishedAt': '2021-08-11T12:16:01Z', 'channelId': 'UCsJ6RuBiTVWRX156FVbeaGg', 'title': '3조원, 놀라운 당근마켓의 기업가치', 'description': '어렵고 딱딱한 경제,시사,금융 이야기를 쉽고 유쾌하게 풀어내는 경제/시사/이슈/잡썰 토크방송입니다. #당근마켓 #중고나라.', 'thumbnails': {'default': {'url': 'https://i.ytimg.com/vi/yvYFTywu_NI/default.jpg', 'width': 120, 'height': 90}, 'medium': {'url': 'https://i.ytimg.com/vi/yvYFTywu_NI/mqdefault.jpg', 'width': 320, 'height': 180}, 'high': {'url': 'https://i.ytimg.com/vi/yvYFTywu_NI/hqdefault.jpg', 'width': 480, 'height': 360}}, 'channelTitle': '슈카월드', 'liveBroadcastContent': 'none', 'publishTime': '2021-08-11T12:16:01Z'}}\n",
      "{'kind': 'youtube#searchResult', 'etag': 'RImVZZGkIkU4iAAh-fkwpHerKlI', 'id': {'kind': 'youtube#video', 'videoId': 'OLGI5DBuK34'}, 'snippet': {'publishedAt': '2021-08-09T11:48:08Z', 'channelId': 'UCsJ6RuBiTVWRX156FVbeaGg', 'title': '기후변화가 대산불과 대홍수를 가져오는 간단한 원리', 'description': '어렵고 딱딱한 경제,시사,금융 이야기를 쉽고 유쾌하게 풀어내는 경제/시사/이슈/잡썰 토크방송입니다. #터키산불 #ESG.', 'thumbnails': {'default': {'url': 'https://i.ytimg.com/vi/OLGI5DBuK34/default.jpg', 'width': 120, 'height': 90}, 'medium': {'url': 'https://i.ytimg.com/vi/OLGI5DBuK34/mqdefault.jpg', 'width': 320, 'height': 180}, 'high': {'url': 'https://i.ytimg.com/vi/OLGI5DBuK34/hqdefault.jpg', 'width': 480, 'height': 360}}, 'channelTitle': '슈카월드', 'liveBroadcastContent': 'none', 'publishTime': '2021-08-09T11:48:08Z'}}\n",
      "{'kind': 'youtube#searchResult', 'etag': 'zcbGgT9xw4aTDQe74rlDnHMDdnE', 'id': {'kind': 'youtube#video', 'videoId': 'D1jfwrz37r8'}, 'snippet': {'publishedAt': '2021-08-07T13:20:26Z', 'channelId': 'UCsJ6RuBiTVWRX156FVbeaGg', 'title': '위기의 넷플릭스? 본격 시작되는 OTT 무한경쟁 / 체르노빌의 비극', 'description': '어렵고 딱딱한 경제,시사,금융 이야기를 쉽고 유쾌하게 풀어내는 경제/시사/이슈/잡썰 토크방송입니다. #OTT #컨텐츠전쟁.', 'thumbnails': {'default': {'url': 'https://i.ytimg.com/vi/D1jfwrz37r8/default.jpg', 'width': 120, 'height': 90}, 'medium': {'url': 'https://i.ytimg.com/vi/D1jfwrz37r8/mqdefault.jpg', 'width': 320, 'height': 180}, 'high': {'url': 'https://i.ytimg.com/vi/D1jfwrz37r8/hqdefault.jpg', 'width': 480, 'height': 360}}, 'channelTitle': '슈카월드', 'liveBroadcastContent': 'none', 'publishTime': '2021-08-07T13:20:26Z'}}\n",
      "{'kind': 'youtube#searchResult', 'etag': 'TONcVtF8UpWs1kSojHaHFTkADfc', 'id': {'kind': 'youtube#video', 'videoId': 'ZOLTFEWJ6lE'}, 'snippet': {'publishedAt': '2021-08-06T12:10:12Z', 'channelId': 'UCsJ6RuBiTVWRX156FVbeaGg', 'title': '2020년 올해의 단어 &#39;나는 맞고 너는 틀리다&#39;. 방관해서 미안합니다.', 'description': '어렵고 딱딱한 경제,시사,금융 이야기를 쉽고 유쾌하게 풀어내는 경제/시사/이슈/잡썰 토크방송입니다. #아시타비 #공명지조.', 'thumbnails': {'default': {'url': 'https://i.ytimg.com/vi/ZOLTFEWJ6lE/default.jpg', 'width': 120, 'height': 90}, 'medium': {'url': 'https://i.ytimg.com/vi/ZOLTFEWJ6lE/mqdefault.jpg', 'width': 320, 'height': 180}, 'high': {'url': 'https://i.ytimg.com/vi/ZOLTFEWJ6lE/hqdefault.jpg', 'width': 480, 'height': 360}}, 'channelTitle': '슈카월드', 'liveBroadcastContent': 'none', 'publishTime': '2021-08-06T12:10:12Z'}}\n",
      "{'kind': 'youtube#searchResult', 'etag': 'qOF3zuaoULWD1wHsFBH7CduX7NQ', 'id': {'kind': 'youtube#video', 'videoId': '8-6PKEi0FoI'}, 'snippet': {'publishedAt': '2021-08-05T11:14:00Z', 'channelId': 'UCsJ6RuBiTVWRX156FVbeaGg', 'title': '다시 마스크를 쓰는 미국, 다시 마스크를 벗는 영국', 'description': '어렵고 딱딱한 경제,시사,금융 이야기를 쉽고 유쾌하게 풀어내는 경제/시사/이슈/잡썰 토크방송입니다. #마스크On/Off #영혼의베팅.', 'thumbnails': {'default': {'url': 'https://i.ytimg.com/vi/8-6PKEi0FoI/default.jpg', 'width': 120, 'height': 90}, 'medium': {'url': 'https://i.ytimg.com/vi/8-6PKEi0FoI/mqdefault.jpg', 'width': 320, 'height': 180}, 'high': {'url': 'https://i.ytimg.com/vi/8-6PKEi0FoI/hqdefault.jpg', 'width': 480, 'height': 360}}, 'channelTitle': '슈카월드', 'liveBroadcastContent': 'none', 'publishTime': '2021-08-05T11:14:00Z'}}\n",
      "{'kind': 'youtube#searchResult', 'etag': 'SuKRvMFDe6tVhOBsrkBg5KURhhs', 'id': {'kind': 'youtube#video', 'videoId': 'mHgoTNUOK0k'}, 'snippet': {'publishedAt': '2021-08-04T15:01:04Z', 'channelId': 'UCsJ6RuBiTVWRX156FVbeaGg', 'title': '위기의 북한, 최악의 경제 역성장과 고난의행군', 'description': '어렵고 딱딱한 경제,시사,금융 이야기를 쉽고 유쾌하게 풀어내는 경제/시사/이슈/잡썰 토크방송입니다. #남북핫라인복원 #고난의행군.', 'thumbnails': {'default': {'url': 'https://i.ytimg.com/vi/mHgoTNUOK0k/default.jpg', 'width': 120, 'height': 90}, 'medium': {'url': 'https://i.ytimg.com/vi/mHgoTNUOK0k/mqdefault.jpg', 'width': 320, 'height': 180}, 'high': {'url': 'https://i.ytimg.com/vi/mHgoTNUOK0k/hqdefault.jpg', 'width': 480, 'height': 360}}, 'channelTitle': '슈카월드', 'liveBroadcastContent': 'none', 'publishTime': '2021-08-04T15:01:04Z'}}\n",
      "{'kind': 'youtube#searchResult', 'etag': 'Y9ccOUR0aeBvhf4bw5ANH_zz0iI', 'id': {'kind': 'youtube#video', 'videoId': 'nQVCGyhg5Cc'}, 'snippet': {'publishedAt': '2021-07-30T12:21:54Z', 'channelId': 'UCsJ6RuBiTVWRX156FVbeaGg', 'title': '나는 중산층인가? 벌어지는 자산 격차와 줄어드는 사회적 자신감', 'description': '0:00 ~ 2:43 분배정책이 시장 소득 양극화를 줄였다? 2:43 ~ 13:25 나는 중산층인가? 13:25 ~ 24:28 한때 만병통치약이었던 미국 마약 ...', 'thumbnails': {'default': {'url': 'https://i.ytimg.com/vi/nQVCGyhg5Cc/default.jpg', 'width': 120, 'height': 90}, 'medium': {'url': 'https://i.ytimg.com/vi/nQVCGyhg5Cc/mqdefault.jpg', 'width': 320, 'height': 180}, 'high': {'url': 'https://i.ytimg.com/vi/nQVCGyhg5Cc/hqdefault.jpg', 'width': 480, 'height': 360}}, 'channelTitle': '슈카월드', 'liveBroadcastContent': 'none', 'publishTime': '2021-07-30T12:21:54Z'}}\n",
      "{'kind': 'youtube#searchResult', 'etag': 'bNxcGbqnI9j8sKqAemBWeiwMrNY', 'id': {'kind': 'youtube#video', 'videoId': 'uNRIg0kiqoU'}, 'snippet': {'publishedAt': '2021-07-29T12:33:42Z', 'channelId': 'UCsJ6RuBiTVWRX156FVbeaGg', 'title': '빠르게 디지털로 이동하는 기업활동과 구글의 놀라운 매출 증가세', 'description': '0:00 ~ 10:03 기술주들의 놀라운 주가 상승과 어닝서프라이즈 10:03 ~ 17:51 기업활동의 핵심이 디지털로 이동하는 시대 삼성증권 ...', 'thumbnails': {'default': {'url': 'https://i.ytimg.com/vi/uNRIg0kiqoU/default.jpg', 'width': 120, 'height': 90}, 'medium': {'url': 'https://i.ytimg.com/vi/uNRIg0kiqoU/mqdefault.jpg', 'width': 320, 'height': 180}, 'high': {'url': 'https://i.ytimg.com/vi/uNRIg0kiqoU/hqdefault.jpg', 'width': 480, 'height': 360}}, 'channelTitle': '슈카월드', 'liveBroadcastContent': 'none', 'publishTime': '2021-07-29T12:33:42Z'}}\n",
      "{'kind': 'youtube#searchResult', 'etag': 'gAuVPHjkJZ7JNUIEkmjNEuhA2Bg', 'id': {'kind': 'youtube#video', 'videoId': 'nQsHiVoNvZA'}, 'snippet': {'publishedAt': '2021-07-28T10:30:04Z', 'channelId': 'UCsJ6RuBiTVWRX156FVbeaGg', 'title': '중국 사교육 전격 금지와 추락하는 중국 출산율', 'description': '어렵고 딱딱한 경제,시사,금융 이야기를 쉽고 유쾌하게 풀어내는 경제/시사/이슈/잡썰 토크방송입니다. #사교육철퇴 #출산율.', 'thumbnails': {'default': {'url': 'https://i.ytimg.com/vi/nQsHiVoNvZA/default.jpg', 'width': 120, 'height': 90}, 'medium': {'url': 'https://i.ytimg.com/vi/nQsHiVoNvZA/mqdefault.jpg', 'width': 320, 'height': 180}, 'high': {'url': 'https://i.ytimg.com/vi/nQsHiVoNvZA/hqdefault.jpg', 'width': 480, 'height': 360}}, 'channelTitle': '슈카월드', 'liveBroadcastContent': 'none', 'publishTime': '2021-07-28T10:30:04Z'}}\n",
      "{'kind': 'youtube#searchResult', 'etag': 'fJQd1sizi3P8tLK0Mpr9ityUSnY', 'id': {'kind': 'youtube#video', 'videoId': '_IJHGqPiPGE'}, 'snippet': {'publishedAt': '2021-07-25T09:07:40Z', 'channelId': 'UCsJ6RuBiTVWRX156FVbeaGg', 'title': '미국 아프가니스탄 철군, &#39;제국의 무덤&#39; 앞에 선 중국', 'description': '어렵고 딱딱한 경제,시사,금융 이야기를 쉽고 유쾌하게 풀어내는 경제/시사/이슈/잡썰 토크방송입니다. #아프가니스탄 #ㅌㅌ.', 'thumbnails': {'default': {'url': 'https://i.ytimg.com/vi/_IJHGqPiPGE/default.jpg', 'width': 120, 'height': 90}, 'medium': {'url': 'https://i.ytimg.com/vi/_IJHGqPiPGE/mqdefault.jpg', 'width': 320, 'height': 180}, 'high': {'url': 'https://i.ytimg.com/vi/_IJHGqPiPGE/hqdefault.jpg', 'width': 480, 'height': 360}}, 'channelTitle': '슈카월드', 'liveBroadcastContent': 'none', 'publishTime': '2021-07-25T09:07:40Z'}}\n",
      "{'kind': 'youtube#searchResult', 'etag': '4HrQVMEl9aLpcd8mqavtK4cwDQw', 'id': {'kind': 'youtube#video', 'videoId': 'SrR5f8pzaTc'}, 'snippet': {'publishedAt': '2021-07-23T13:42:56Z', 'channelId': 'UCsJ6RuBiTVWRX156FVbeaGg', 'title': '도쿄올림픽 개막, 한국과 일본의 신경전과 형제의 나라 커피클럽', 'description': '어렵고 딱딱한 경제,시사,금융 이야기를 쉽고 유쾌하게 풀어내는 경제/시사/이슈/잡썰 토크방송입니다. #도쿄올림픽 #커피클럽 #G4.', 'thumbnails': {'default': {'url': 'https://i.ytimg.com/vi/SrR5f8pzaTc/default.jpg', 'width': 120, 'height': 90}, 'medium': {'url': 'https://i.ytimg.com/vi/SrR5f8pzaTc/mqdefault.jpg', 'width': 320, 'height': 180}, 'high': {'url': 'https://i.ytimg.com/vi/SrR5f8pzaTc/hqdefault.jpg', 'width': 480, 'height': 360}}, 'channelTitle': '슈카월드', 'liveBroadcastContent': 'none', 'publishTime': '2021-07-23T13:42:56Z'}}\n",
      "{'kind': 'youtube#searchResult', 'etag': 'N1kr4kbyBA0qqgJ-mHJ7GFCSfis', 'id': {'kind': 'youtube#video', 'videoId': 'YtF6njhpn3c'}, 'snippet': {'publishedAt': '2021-07-22T13:54:21Z', 'channelId': 'UCsJ6RuBiTVWRX156FVbeaGg', 'title': '시작되는 우주여행, 세상에서 셀카를 가장 비싸게 찍는 방법', 'description': '어렵고 딱딱한 경제,시사,금융 이야기를 쉽고 유쾌하게 풀어내는 경제/시사/이슈/잡썰 토크방송입니다. #테크주인줄알았는데 #알고 ...', 'thumbnails': {'default': {'url': 'https://i.ytimg.com/vi/YtF6njhpn3c/default.jpg', 'width': 120, 'height': 90}, 'medium': {'url': 'https://i.ytimg.com/vi/YtF6njhpn3c/mqdefault.jpg', 'width': 320, 'height': 180}, 'high': {'url': 'https://i.ytimg.com/vi/YtF6njhpn3c/hqdefault.jpg', 'width': 480, 'height': 360}}, 'channelTitle': '슈카월드', 'liveBroadcastContent': 'none', 'publishTime': '2021-07-22T13:54:21Z'}}\n",
      "{'kind': 'youtube#searchResult', 'etag': '4-ZXz4LugV9wtjJLPpdXFppsaJM', 'id': {'kind': 'youtube#video', 'videoId': 'p5rDZ2TtFHw'}, 'snippet': {'publishedAt': '2021-07-21T12:22:48Z', 'channelId': 'UCsJ6RuBiTVWRX156FVbeaGg', 'title': '더 많은 돈, 21세기 자본주의 문제 해결방식', 'description': '어렵고 딱딱한 경제,시사,금융 이야기를 쉽고 유쾌하게 풀어내는 경제/시사/이슈/잡썰 토크방송입니다. #끝없는유동성 #만능간장.', 'thumbnails': {'default': {'url': 'https://i.ytimg.com/vi/p5rDZ2TtFHw/default.jpg', 'width': 120, 'height': 90}, 'medium': {'url': 'https://i.ytimg.com/vi/p5rDZ2TtFHw/mqdefault.jpg', 'width': 320, 'height': 180}, 'high': {'url': 'https://i.ytimg.com/vi/p5rDZ2TtFHw/hqdefault.jpg', 'width': 480, 'height': 360}}, 'channelTitle': '슈카월드', 'liveBroadcastContent': 'none', 'publishTime': '2021-07-21T12:22:48Z'}}\n",
      "{'kind': 'youtube#searchResult', 'etag': 'HEC0xas3n0keR0N4NN_zJO1y6J0', 'id': {'kind': 'youtube#video', 'videoId': 'fEY195pJMg0'}, 'snippet': {'publishedAt': '2021-07-19T14:40:07Z', 'channelId': 'UCsJ6RuBiTVWRX156FVbeaGg', 'title': '기후 재앙, 에너지 소모를 줄이기 위한 처절한 노력들', 'description': '0:00~10:27 눈앞에 다가온 기후 재앙 10:27~16:31 기후변화에 따라 폭발하는 전력 수요 16:31~22:09 그린본드와 탄소배출권 어렵고 ...', 'thumbnails': {'default': {'url': 'https://i.ytimg.com/vi/fEY195pJMg0/default.jpg', 'width': 120, 'height': 90}, 'medium': {'url': 'https://i.ytimg.com/vi/fEY195pJMg0/mqdefault.jpg', 'width': 320, 'height': 180}, 'high': {'url': 'https://i.ytimg.com/vi/fEY195pJMg0/hqdefault.jpg', 'width': 480, 'height': 360}}, 'channelTitle': '슈카월드', 'liveBroadcastContent': 'none', 'publishTime': '2021-07-19T14:40:07Z'}}\n",
      "{'kind': 'youtube#searchResult', 'etag': '3laApy5ilUKxyaW6efpjbC1gE80', 'id': {'kind': 'youtube#video', 'videoId': 'UqIQ9ZsM96o'}, 'snippet': {'publishedAt': '2021-07-17T10:14:39Z', 'channelId': 'UCsJ6RuBiTVWRX156FVbeaGg', 'title': '값비싼 자유의 대가, 아메리카 대륙 최빈국 아이티', 'description': '어렵고 딱딱한 경제,시사,금융 이야기를 쉽고 유쾌하게 풀어내는 경제/시사/이슈/잡썰 토크방송입니다. #전세계커피50%생산국 ...', 'thumbnails': {'default': {'url': 'https://i.ytimg.com/vi/UqIQ9ZsM96o/default.jpg', 'width': 120, 'height': 90}, 'medium': {'url': 'https://i.ytimg.com/vi/UqIQ9ZsM96o/mqdefault.jpg', 'width': 320, 'height': 180}, 'high': {'url': 'https://i.ytimg.com/vi/UqIQ9ZsM96o/hqdefault.jpg', 'width': 480, 'height': 360}}, 'channelTitle': '슈카월드', 'liveBroadcastContent': 'none', 'publishTime': '2021-07-17T10:14:39Z'}}\n",
      "{'kind': 'youtube#searchResult', 'etag': 'Ku71EG1c5iwasEtAxf-qizZUWzQ', 'id': {'kind': 'youtube#video', 'videoId': 'rhYjdEz5TUc'}, 'snippet': {'publishedAt': '2021-07-16T11:50:19Z', 'channelId': 'UCsJ6RuBiTVWRX156FVbeaGg', 'title': '다가오는 테슬라 AI데이, 박터지는 자율주행 소프트웨어 경쟁', 'description': '본 영상의 6:20~6:33, 7:20~7:30 구간 등장하는 자료의 출처가 누락되었습니다 출처 : 켈러, 카파시, 머스크, 도조 그리고 자율주행의 ...', 'thumbnails': {'default': {'url': 'https://i.ytimg.com/vi/rhYjdEz5TUc/default.jpg', 'width': 120, 'height': 90}, 'medium': {'url': 'https://i.ytimg.com/vi/rhYjdEz5TUc/mqdefault.jpg', 'width': 320, 'height': 180}, 'high': {'url': 'https://i.ytimg.com/vi/rhYjdEz5TUc/hqdefault.jpg', 'width': 480, 'height': 360}}, 'channelTitle': '슈카월드', 'liveBroadcastContent': 'none', 'publishTime': '2021-07-16T11:50:19Z'}}\n",
      "{'kind': 'youtube#searchResult', 'etag': 'nF6BlikOuTVaOOPVlwv5z612BIc', 'id': {'kind': 'youtube#video', 'videoId': 'r2zUQACkjjo'}, 'snippet': {'publishedAt': '2021-07-15T10:23:34Z', 'channelId': 'UCsJ6RuBiTVWRX156FVbeaGg', 'title': '가파른 부동산 가격 상승과 우려되는 근로 의욕 상실', 'description': '어렵고 딱딱한 경제,시사,금융 이야기를 쉽고 유쾌하게 풀어내는 경제/시사/이슈/잡썰 토크방송입니다. #아파트값 #하늘위에하늘.', 'thumbnails': {'default': {'url': 'https://i.ytimg.com/vi/r2zUQACkjjo/default.jpg', 'width': 120, 'height': 90}, 'medium': {'url': 'https://i.ytimg.com/vi/r2zUQACkjjo/mqdefault.jpg', 'width': 320, 'height': 180}, 'high': {'url': 'https://i.ytimg.com/vi/r2zUQACkjjo/hqdefault.jpg', 'width': 480, 'height': 360}}, 'channelTitle': '슈카월드', 'liveBroadcastContent': 'none', 'publishTime': '2021-07-15T10:23:34Z'}}\n",
      "{'kind': 'youtube#searchResult', 'etag': 'pkm_I-pS9utWOF_omeOBuxHLUd0', 'id': {'kind': 'youtube#video', 'videoId': 'EhrubF_vVio'}, 'snippet': {'publishedAt': '2021-07-13T10:52:41Z', 'channelId': 'UCsJ6RuBiTVWRX156FVbeaGg', 'title': '중국 1위 차량 공유기업 디디추싱, 앱스토어에서 퇴출당하다', 'description': '어렵고 딱딱한 경제,시사,금융 이야기를 쉽고 유쾌하게 풀어내는 경제/시사/이슈/잡썰 토크방송입니다. #중국최대차량공유 #다운로드 ...', 'thumbnails': {'default': {'url': 'https://i.ytimg.com/vi/EhrubF_vVio/default.jpg', 'width': 120, 'height': 90}, 'medium': {'url': 'https://i.ytimg.com/vi/EhrubF_vVio/mqdefault.jpg', 'width': 320, 'height': 180}, 'high': {'url': 'https://i.ytimg.com/vi/EhrubF_vVio/hqdefault.jpg', 'width': 480, 'height': 360}}, 'channelTitle': '슈카월드', 'liveBroadcastContent': 'none', 'publishTime': '2021-07-13T10:52:41Z'}}\n",
      "{'kind': 'youtube#searchResult', 'etag': 'qZnWXQsSpSXzBO2fLhUARDyWByM', 'id': {'kind': 'youtube#video', 'videoId': 'MAu2PeRz7b8'}, 'snippet': {'publishedAt': '2021-07-10T09:00:07Z', 'channelId': 'UCsJ6RuBiTVWRX156FVbeaGg', 'title': '성생활 관심이 현저히 떨어지고 있는 청춘들', 'description': '어렵고 딱딱한 경제,시사,금융 이야기를 쉽고 유쾌하게 풀어내는 경제/시사/이슈/잡썰 토크방송입니다. #싸우지말고 #교제해.', 'thumbnails': {'default': {'url': 'https://i.ytimg.com/vi/MAu2PeRz7b8/default.jpg', 'width': 120, 'height': 90}, 'medium': {'url': 'https://i.ytimg.com/vi/MAu2PeRz7b8/mqdefault.jpg', 'width': 320, 'height': 180}, 'high': {'url': 'https://i.ytimg.com/vi/MAu2PeRz7b8/hqdefault.jpg', 'width': 480, 'height': 360}}, 'channelTitle': '슈카월드', 'liveBroadcastContent': 'none', 'publishTime': '2021-07-10T09:00:07Z'}}\n",
      "{'kind': 'youtube#searchResult', 'etag': 'c78q2T3SR0j6cF7-xI1D3pxUMoE', 'id': {'kind': 'youtube#video', 'videoId': 'qhzcjT7uF18'}, 'snippet': {'publishedAt': '2021-07-09T10:52:58Z', 'channelId': 'UCsJ6RuBiTVWRX156FVbeaGg', 'title': '포트폴리오 관점에서 보는 &#39;공격적인 투자&#39;', 'description': '어렵고 딱딱한 경제,시사,금융 이야기를 쉽고 유쾌하게 풀어내는 경제/시사/이슈/잡썰 토크방송입니다. #자산 #배분.', 'thumbnails': {'default': {'url': 'https://i.ytimg.com/vi/qhzcjT7uF18/default.jpg', 'width': 120, 'height': 90}, 'medium': {'url': 'https://i.ytimg.com/vi/qhzcjT7uF18/mqdefault.jpg', 'width': 320, 'height': 180}, 'high': {'url': 'https://i.ytimg.com/vi/qhzcjT7uF18/hqdefault.jpg', 'width': 480, 'height': 360}}, 'channelTitle': '슈카월드', 'liveBroadcastContent': 'none', 'publishTime': '2021-07-09T10:52:58Z'}}\n",
      "{'kind': 'youtube#searchResult', 'etag': 'DCvrxufOtiK43lZggWgU4hu-hJ0', 'id': {'kind': 'youtube#video', 'videoId': '-Irimwh0X9o'}, 'snippet': {'publishedAt': '2021-07-06T11:28:44Z', 'channelId': 'UCsJ6RuBiTVWRX156FVbeaGg', 'title': '5년에 한번 오는 큰시장? 대선 테마주와 전설의 이화공영', 'description': '0:00 ~ 10:18 5년에 한 번 오는 대선 테마주? 10:18 ~ 18:34 CATL, 시총 1위 등극과 LG, SK의 배터리 분사 어렵고 딱딱한 경제,시사, ...', 'thumbnails': {'default': {'url': 'https://i.ytimg.com/vi/-Irimwh0X9o/default.jpg', 'width': 120, 'height': 90}, 'medium': {'url': 'https://i.ytimg.com/vi/-Irimwh0X9o/mqdefault.jpg', 'width': 320, 'height': 180}, 'high': {'url': 'https://i.ytimg.com/vi/-Irimwh0X9o/hqdefault.jpg', 'width': 480, 'height': 360}}, 'channelTitle': '슈카월드', 'liveBroadcastContent': 'none', 'publishTime': '2021-07-06T11:28:44Z'}}\n",
      "{'kind': 'youtube#searchResult', 'etag': 'HoUekvVxOw8mwMxJqk6lzEyQKCY', 'id': {'kind': 'youtube#video', 'videoId': 'b9vCE1dFmVI'}, 'snippet': {'publishedAt': '2021-07-05T11:14:12Z', 'channelId': 'UCsJ6RuBiTVWRX156FVbeaGg', 'title': '중국 공산당 100주년, 애국주의로 넘쳐나는 중국', 'description': '0:00 ~ 8:33 공식(?) 선진국이 된 대한민국 8:33 ~ 17:54 중국의 애국주의 열풍 어렵고 딱딱한 경제,시사,금융 이야기를 쉽고 유쾌하게 ...', 'thumbnails': {'default': {'url': 'https://i.ytimg.com/vi/b9vCE1dFmVI/default.jpg', 'width': 120, 'height': 90}, 'medium': {'url': 'https://i.ytimg.com/vi/b9vCE1dFmVI/mqdefault.jpg', 'width': 320, 'height': 180}, 'high': {'url': 'https://i.ytimg.com/vi/b9vCE1dFmVI/hqdefault.jpg', 'width': 480, 'height': 360}}, 'channelTitle': '슈카월드', 'liveBroadcastContent': 'none', 'publishTime': '2021-07-05T11:14:12Z'}}\n",
      "{'kind': 'youtube#searchResult', 'etag': 'c6g7bXmNQAB4QSijHw7PYy3xUyk', 'id': {'kind': 'youtube#video', 'videoId': 'WV-qYU8d9hA'}, 'snippet': {'publishedAt': '2021-07-02T12:38:06Z', 'channelId': 'UCsJ6RuBiTVWRX156FVbeaGg', 'title': '끝없이 올라가는 &#39;경조국&#39; 미국 정부 부채, 괜찮겠지?', 'description': '어렵고 딱딱한 경제,시사,금융 이야기를 쉽고 유쾌하게 풀어내는 경제/시사/이슈/잡썰 토크방송입니다. #천X경O조국 #3경원.', 'thumbnails': {'default': {'url': 'https://i.ytimg.com/vi/WV-qYU8d9hA/default.jpg', 'width': 120, 'height': 90}, 'medium': {'url': 'https://i.ytimg.com/vi/WV-qYU8d9hA/mqdefault.jpg', 'width': 320, 'height': 180}, 'high': {'url': 'https://i.ytimg.com/vi/WV-qYU8d9hA/hqdefault.jpg', 'width': 480, 'height': 360}}, 'channelTitle': '슈카월드', 'liveBroadcastContent': 'none', 'publishTime': '2021-07-02T12:38:06Z'}}\n",
      "{'kind': 'youtube#searchResult', 'etag': 'd1eTOBfmafY1R984aB_YFyWPtpc', 'id': {'kind': 'youtube#video', 'videoId': 'q_nR6RoeghE'}, 'snippet': {'publishedAt': '2021-07-01T12:15:37Z', 'channelId': 'UCsJ6RuBiTVWRX156FVbeaGg', 'title': '벌어지는 어휘력 차이, 서로 한국말을 이해 못하는 시대', 'description': '어렵고 딱딱한 경제,시사,금융 이야기를 쉽고 유쾌하게 풀어내는 경제/시사/이슈/잡썰 토크방송입니다. #어휘력 #필터버블.', 'thumbnails': {'default': {'url': 'https://i.ytimg.com/vi/q_nR6RoeghE/default.jpg', 'width': 120, 'height': 90}, 'medium': {'url': 'https://i.ytimg.com/vi/q_nR6RoeghE/mqdefault.jpg', 'width': 320, 'height': 180}, 'high': {'url': 'https://i.ytimg.com/vi/q_nR6RoeghE/hqdefault.jpg', 'width': 480, 'height': 360}}, 'channelTitle': '슈카월드', 'liveBroadcastContent': 'none', 'publishTime': '2021-07-01T12:15:37Z'}}\n",
      "{'kind': 'youtube#searchResult', 'etag': '3MvNPuxASLTCzIPAlCHY3QXz_d0', 'id': {'kind': 'youtube#video', 'videoId': 'S9BFo8HsjbU'}, 'snippet': {'publishedAt': '2021-06-29T10:12:28Z', 'channelId': 'UCsJ6RuBiTVWRX156FVbeaGg', 'title': '무종교인 비중 대폭 증가, 한국 사회의 탈종교화 현상', 'description': '어렵고 딱딱한 경제,시사,금융 이야기를 쉽고 유쾌하게 풀어내는 경제/시사/이슈/잡썰 토크방송입니다. #탈종교 #무관심.', 'thumbnails': {'default': {'url': 'https://i.ytimg.com/vi/S9BFo8HsjbU/default.jpg', 'width': 120, 'height': 90}, 'medium': {'url': 'https://i.ytimg.com/vi/S9BFo8HsjbU/mqdefault.jpg', 'width': 320, 'height': 180}, 'high': {'url': 'https://i.ytimg.com/vi/S9BFo8HsjbU/hqdefault.jpg', 'width': 480, 'height': 360}}, 'channelTitle': '슈카월드', 'liveBroadcastContent': 'none', 'publishTime': '2021-06-29T10:12:28Z'}}\n",
      "{'kind': 'youtube#searchResult', 'etag': '0HiisQ0yNid2ttQAKAKgbx5EdMw', 'id': {'kind': 'youtube#video', 'videoId': '1kvjOro-58g'}, 'snippet': {'publishedAt': '2021-06-25T14:20:46Z', 'channelId': 'UCsJ6RuBiTVWRX156FVbeaGg', 'title': '사실상의 무정부 상태, 소말리아의 총체적 난국', 'description': '어렵고 딱딱한 경제,시사,금융 이야기를 쉽고 유쾌하게 풀어내는 경제/시사/이슈/잡썰 토크방송입니다. #소말리아 #해적.', 'thumbnails': {'default': {'url': 'https://i.ytimg.com/vi/1kvjOro-58g/default.jpg', 'width': 120, 'height': 90}, 'medium': {'url': 'https://i.ytimg.com/vi/1kvjOro-58g/mqdefault.jpg', 'width': 320, 'height': 180}, 'high': {'url': 'https://i.ytimg.com/vi/1kvjOro-58g/hqdefault.jpg', 'width': 480, 'height': 360}}, 'channelTitle': '슈카월드', 'liveBroadcastContent': 'none', 'publishTime': '2021-06-25T14:20:46Z'}}\n"
     ]
    },
    {
     "name": "stdout",
     "output_type": "stream",
     "text": [
      "{'kind': 'youtube#searchResult', 'etag': 'n0PC9ZCdOF4yE2FtI8_pCRTKduc', 'id': {'kind': 'youtube#video', 'videoId': 'E4Zrw4eGKCY'}, 'snippet': {'publishedAt': '2021-06-23T11:02:17Z', 'channelId': 'UCsJ6RuBiTVWRX156FVbeaGg', 'title': '재택근무냐 출근이냐, 불붙은 재택근무 프로그램 경쟁', 'description': '어렵고 딱딱한 경제,시사,금융 이야기를 쉽고 유쾌하게 풀어내는 경제/시사/이슈/잡썰 토크방송입니다. #재택근무 #화상회의.', 'thumbnails': {'default': {'url': 'https://i.ytimg.com/vi/E4Zrw4eGKCY/default.jpg', 'width': 120, 'height': 90}, 'medium': {'url': 'https://i.ytimg.com/vi/E4Zrw4eGKCY/mqdefault.jpg', 'width': 320, 'height': 180}, 'high': {'url': 'https://i.ytimg.com/vi/E4Zrw4eGKCY/hqdefault.jpg', 'width': 480, 'height': 360}}, 'channelTitle': '슈카월드', 'liveBroadcastContent': 'none', 'publishTime': '2021-06-23T11:02:17Z'}}\n",
      "{'kind': 'youtube#searchResult', 'etag': 'wx9cZXZHSH4JHj405ylr2hZ-wrw', 'id': {'kind': 'youtube#video', 'videoId': '4oLuys5zBEg'}, 'snippet': {'publishedAt': '2021-06-18T09:58:25Z', 'channelId': 'UCsJ6RuBiTVWRX156FVbeaGg', 'title': '경기도 청년면접수당 제도, 면접비 받고 취업 성공하세요!', 'description': '경기도와 경기도일자리재단의 유료광고가 포함된 영상입니다. 청년면접수당 신청사이트 https://thankyou.jobaba.net/ 어렵고 딱딱한 ...', 'thumbnails': {'default': {'url': 'https://i.ytimg.com/vi/4oLuys5zBEg/default.jpg', 'width': 120, 'height': 90}, 'medium': {'url': 'https://i.ytimg.com/vi/4oLuys5zBEg/mqdefault.jpg', 'width': 320, 'height': 180}, 'high': {'url': 'https://i.ytimg.com/vi/4oLuys5zBEg/hqdefault.jpg', 'width': 480, 'height': 360}}, 'channelTitle': '슈카월드', 'liveBroadcastContent': 'none', 'publishTime': '2021-06-18T09:58:25Z'}}\n",
      "{'kind': 'youtube#searchResult', 'etag': '57GVswfIXmzkzUHJXrZkzdVRKwE', 'id': {'kind': 'youtube#video', 'videoId': '3qOzgNsCXzE'}, 'snippet': {'publishedAt': '2021-06-17T11:47:35Z', 'channelId': 'UCsJ6RuBiTVWRX156FVbeaGg', 'title': '절묘한 위치, 초미니국가 지부티의 생존전략', 'description': '0:00 ~ 21:13 아프리카 최빈국 에티오피아의 고군분투 21:13 ~ 28:00 초미니국가 지부티의 생존전략 어렵고 딱딱한 경제,시사,금융 ...', 'thumbnails': {'default': {'url': 'https://i.ytimg.com/vi/3qOzgNsCXzE/default.jpg', 'width': 120, 'height': 90}, 'medium': {'url': 'https://i.ytimg.com/vi/3qOzgNsCXzE/mqdefault.jpg', 'width': 320, 'height': 180}, 'high': {'url': 'https://i.ytimg.com/vi/3qOzgNsCXzE/hqdefault.jpg', 'width': 480, 'height': 360}}, 'channelTitle': '슈카월드', 'liveBroadcastContent': 'none', 'publishTime': '2021-06-17T11:47:35Z'}}\n",
      "{'kind': 'youtube#searchResult', 'etag': 'gDB8ppAtD-bUsVwKU31jAAfdyPw', 'id': {'kind': 'youtube#video', 'videoId': 'em_C22baC28'}, 'snippet': {'publishedAt': '2021-06-15T10:27:58Z', 'channelId': 'UCsJ6RuBiTVWRX156FVbeaGg', 'title': '골프 초호황, 코로나가 이끈 여가 전성시대', 'description': '어렵고 딱딱한 경제,시사,금융 이야기를 쉽고 유쾌하게 풀어내는 경제/시사/이슈/잡썰 토크방송입니다. #MZ세대 #여가.', 'thumbnails': {'default': {'url': 'https://i.ytimg.com/vi/em_C22baC28/default.jpg', 'width': 120, 'height': 90}, 'medium': {'url': 'https://i.ytimg.com/vi/em_C22baC28/mqdefault.jpg', 'width': 320, 'height': 180}, 'high': {'url': 'https://i.ytimg.com/vi/em_C22baC28/hqdefault.jpg', 'width': 480, 'height': 360}}, 'channelTitle': '슈카월드', 'liveBroadcastContent': 'none', 'publishTime': '2021-06-15T10:27:58Z'}}\n",
      "{'kind': 'youtube#searchResult', 'etag': 'SuS0WPFpMSjWDN8ZREBIe0WsbIo', 'id': {'kind': 'youtube#video', 'videoId': 'w_Wl422ahWc'}, 'snippet': {'publishedAt': '2021-06-14T11:10:53Z', 'channelId': 'UCsJ6RuBiTVWRX156FVbeaGg', 'title': '최악의 구인난, 실업률은 높은데 사람구하기는 힘든 미국', 'description': '어렵고 딱딱한 경제,시사,금융 이야기를 쉽고 유쾌하게 풀어내는 경제/시사/이슈/잡썰 토크방송입니다. #오히려좋아 #람보르기니.', 'thumbnails': {'default': {'url': 'https://i.ytimg.com/vi/w_Wl422ahWc/default.jpg', 'width': 120, 'height': 90}, 'medium': {'url': 'https://i.ytimg.com/vi/w_Wl422ahWc/mqdefault.jpg', 'width': 320, 'height': 180}, 'high': {'url': 'https://i.ytimg.com/vi/w_Wl422ahWc/hqdefault.jpg', 'width': 480, 'height': 360}}, 'channelTitle': '슈카월드', 'liveBroadcastContent': 'none', 'publishTime': '2021-06-14T11:10:53Z'}}\n",
      "{'kind': 'youtube#searchResult', 'etag': '9XNaxD6_jFotra8HEpvnZHpoumo', 'id': {'kind': 'youtube#video', 'videoId': '8UcnTS9X-HY'}, 'snippet': {'publishedAt': '2021-06-04T12:42:20Z', 'channelId': 'UCsJ6RuBiTVWRX156FVbeaGg', 'title': '&quot;유럽의 북한&quot; 벨라루스의 30년 독재와 분노의 저항', 'description': '어렵고 딱딱한 경제,시사,금융 이야기를 쉽고 유쾌하게 풀어내는 경제/시사/이슈/잡썰 토크방송입니다. #꿀잼세계사 #알렉산더 ...', 'thumbnails': {'default': {'url': 'https://i.ytimg.com/vi/8UcnTS9X-HY/default.jpg', 'width': 120, 'height': 90}, 'medium': {'url': 'https://i.ytimg.com/vi/8UcnTS9X-HY/mqdefault.jpg', 'width': 320, 'height': 180}, 'high': {'url': 'https://i.ytimg.com/vi/8UcnTS9X-HY/hqdefault.jpg', 'width': 480, 'height': 360}}, 'channelTitle': '슈카월드', 'liveBroadcastContent': 'none', 'publishTime': '2021-06-04T12:42:20Z'}}\n",
      "{'kind': 'youtube#searchResult', 'etag': '1L7NhQgoRzTKbUIRhB5qbmgCovo', 'id': {'kind': 'youtube#video', 'videoId': 'Ul-ZQagN2nM'}, 'snippet': {'publishedAt': '2021-05-27T11:13:16Z', 'channelId': 'UCsJ6RuBiTVWRX156FVbeaGg', 'title': '애플 vs 페이스북의 예정된 정면 충돌', 'description': '어렵고 딱딱한 경제,시사,금융 이야기를 쉽고 유쾌하게 풀어내는 경제/시사/이슈/잡썰 토크방송입니다. #Apple #Facebook #정면대결.', 'thumbnails': {'default': {'url': 'https://i.ytimg.com/vi/Ul-ZQagN2nM/default.jpg', 'width': 120, 'height': 90}, 'medium': {'url': 'https://i.ytimg.com/vi/Ul-ZQagN2nM/mqdefault.jpg', 'width': 320, 'height': 180}, 'high': {'url': 'https://i.ytimg.com/vi/Ul-ZQagN2nM/hqdefault.jpg', 'width': 480, 'height': 360}}, 'channelTitle': '슈카월드', 'liveBroadcastContent': 'none', 'publishTime': '2021-05-27T11:13:16Z'}}\n",
      "{'kind': 'youtube#searchResult', 'etag': 'xKUHdWA_qYdcopLPSm_2sj0R7Mc', 'id': {'kind': 'youtube#video', 'videoId': 'guLRsTcnhxY'}, 'snippet': {'publishedAt': '2021-05-26T09:57:45Z', 'channelId': 'UCsJ6RuBiTVWRX156FVbeaGg', 'title': '채용, 교육, 세미나를 한번에! 코리아 핀테크 위크 2021', 'description': '본 영상은 금융위원회와 한국핀테크지원센터의 유료 광고가 포함되어 있습니다. 어렵고 딱딱한 경제,시사,금융 이야기를 쉽고 유쾌 ...', 'thumbnails': {'default': {'url': 'https://i.ytimg.com/vi/guLRsTcnhxY/default.jpg', 'width': 120, 'height': 90}, 'medium': {'url': 'https://i.ytimg.com/vi/guLRsTcnhxY/mqdefault.jpg', 'width': 320, 'height': 180}, 'high': {'url': 'https://i.ytimg.com/vi/guLRsTcnhxY/hqdefault.jpg', 'width': 480, 'height': 360}}, 'channelTitle': '슈카월드', 'liveBroadcastContent': 'none', 'publishTime': '2021-05-26T09:57:45Z'}}\n",
      "{'kind': 'youtube#searchResult', 'etag': 'lEwWH8k4UsRd5Uqs6vKDyOR0VVM', 'id': {'kind': 'youtube#video', 'videoId': 'JQSCTCBRVZQ'}, 'snippet': {'publishedAt': '2021-05-25T11:33:58Z', 'channelId': 'UCsJ6RuBiTVWRX156FVbeaGg', 'title': '눈치싸움 치열했던 한미 정상회담', 'description': '어렵고 딱딱한 경제,시사,금융 이야기를 쉽고 유쾌하게 풀어내는 경제/시사/이슈/잡썰 토크방송입니다. #한미정상회담 #공동성명.', 'thumbnails': {'default': {'url': 'https://i.ytimg.com/vi/JQSCTCBRVZQ/default.jpg', 'width': 120, 'height': 90}, 'medium': {'url': 'https://i.ytimg.com/vi/JQSCTCBRVZQ/mqdefault.jpg', 'width': 320, 'height': 180}, 'high': {'url': 'https://i.ytimg.com/vi/JQSCTCBRVZQ/hqdefault.jpg', 'width': 480, 'height': 360}}, 'channelTitle': '슈카월드', 'liveBroadcastContent': 'none', 'publishTime': '2021-05-25T11:33:58Z'}}\n",
      "{'kind': 'youtube#searchResult', 'etag': '9kJvH9g9kgDjxyKRpkBCMB13Pp4', 'id': {'kind': 'youtube#video', 'videoId': 'lM8rpNoobbo'}, 'snippet': {'publishedAt': '2021-05-21T12:03:35Z', 'channelId': 'UCsJ6RuBiTVWRX156FVbeaGg', 'title': '이스라엘 팔레스타인, 끝나지 않는 전쟁', 'description': '어렵고 딱딱한 경제,시사,금융 이야기를 쉽고 유쾌하게 풀어내는 경제/시사/이슈/잡썰 토크방송입니다. #98%적중률 #아이언돔.', 'thumbnails': {'default': {'url': 'https://i.ytimg.com/vi/lM8rpNoobbo/default.jpg', 'width': 120, 'height': 90}, 'medium': {'url': 'https://i.ytimg.com/vi/lM8rpNoobbo/mqdefault.jpg', 'width': 320, 'height': 180}, 'high': {'url': 'https://i.ytimg.com/vi/lM8rpNoobbo/hqdefault.jpg', 'width': 480, 'height': 360}}, 'channelTitle': '슈카월드', 'liveBroadcastContent': 'none', 'publishTime': '2021-05-21T12:03:35Z'}}\n",
      "{'kind': 'youtube#searchResult', 'etag': 'nNoNqoN3WwmGt08uuKKGhzAmizE', 'id': {'kind': 'youtube#video', 'videoId': 'NPabxWmCiUU'}, 'snippet': {'publishedAt': '2021-05-19T12:30:37Z', 'channelId': 'UCsJ6RuBiTVWRX156FVbeaGg', 'title': '인지도 부재의 시대와 새로운 국민 예능의 가능성', 'description': '어렵고 딱딱한 경제,시사,금융 이야기를 쉽고 유쾌하게 풀어내는 경제/시사/이슈/잡썰 토크방송입니다. #머니게임 #가짜사나이.', 'thumbnails': {'default': {'url': 'https://i.ytimg.com/vi/NPabxWmCiUU/default.jpg', 'width': 120, 'height': 90}, 'medium': {'url': 'https://i.ytimg.com/vi/NPabxWmCiUU/mqdefault.jpg', 'width': 320, 'height': 180}, 'high': {'url': 'https://i.ytimg.com/vi/NPabxWmCiUU/hqdefault.jpg', 'width': 480, 'height': 360}}, 'channelTitle': '슈카월드', 'liveBroadcastContent': 'none', 'publishTime': '2021-05-19T12:30:37Z'}}\n",
      "{'kind': 'youtube#searchResult', 'etag': '85OlapuV9yHBR_s2It5Bo5m3oPE', 'id': {'kind': 'youtube#video', 'videoId': 'dImZAE4Frzw'}, 'snippet': {'publishedAt': '2021-05-18T10:33:15Z', 'channelId': 'UCsJ6RuBiTVWRX156FVbeaGg', 'title': '-97% 한순간에 사라진 &quot;진&quot;도지코인', 'description': '어렵고 딱딱한 경제,시사,금융 이야기를 쉽고 유쾌하게 풀어내는 경제/시사/이슈/잡썰 토크방송입니다. #진도지 #스캠코인.', 'thumbnails': {'default': {'url': 'https://i.ytimg.com/vi/dImZAE4Frzw/default.jpg', 'width': 120, 'height': 90}, 'medium': {'url': 'https://i.ytimg.com/vi/dImZAE4Frzw/mqdefault.jpg', 'width': 320, 'height': 180}, 'high': {'url': 'https://i.ytimg.com/vi/dImZAE4Frzw/hqdefault.jpg', 'width': 480, 'height': 360}}, 'channelTitle': '슈카월드', 'liveBroadcastContent': 'none', 'publishTime': '2021-05-18T10:33:15Z'}}\n",
      "{'kind': 'youtube#searchResult', 'etag': 'RXLl6Hgu9DFcUaykqNSn-LvFQXw', 'id': {'kind': 'youtube#video', 'videoId': 'nj6xWvztSWg'}, 'snippet': {'publishedAt': '2021-05-13T10:35:21Z', 'channelId': 'UCsJ6RuBiTVWRX156FVbeaGg', 'title': '세계 역사를 바꾼 그레이트 게임과 아프가니스탄의 비극', 'description': '어렵고 딱딱한 경제,시사,금융 이야기를 쉽고 유쾌하게 풀어내는 경제/시사/이슈/잡썰 토크방송입니다. #꿀잼세계사.', 'thumbnails': {'default': {'url': 'https://i.ytimg.com/vi/nj6xWvztSWg/default.jpg', 'width': 120, 'height': 90}, 'medium': {'url': 'https://i.ytimg.com/vi/nj6xWvztSWg/mqdefault.jpg', 'width': 320, 'height': 180}, 'high': {'url': 'https://i.ytimg.com/vi/nj6xWvztSWg/hqdefault.jpg', 'width': 480, 'height': 360}}, 'channelTitle': '슈카월드', 'liveBroadcastContent': 'none', 'publishTime': '2021-05-13T10:35:21Z'}}\n",
      "{'kind': 'youtube#searchResult', 'etag': 'ZE1VC611XzwT3sfWBOKLMOlPi9w', 'id': {'kind': 'youtube#video', 'videoId': 'ew0s4lFEqrk'}, 'snippet': {'publishedAt': '2021-05-11T11:46:17Z', 'channelId': 'UCsJ6RuBiTVWRX156FVbeaGg', 'title': '중국, 호주와 &#39;무기한 대화 중단&#39; 선언, 대(大)분열의 시대', 'description': '어렵고 딱딱한 경제,시사,금융 이야기를 쉽고 유쾌하게 풀어내는 경제/시사/이슈/잡썰 토크방송입니다. #중국 #호주 #미중갈등.', 'thumbnails': {'default': {'url': 'https://i.ytimg.com/vi/ew0s4lFEqrk/default.jpg', 'width': 120, 'height': 90}, 'medium': {'url': 'https://i.ytimg.com/vi/ew0s4lFEqrk/mqdefault.jpg', 'width': 320, 'height': 180}, 'high': {'url': 'https://i.ytimg.com/vi/ew0s4lFEqrk/hqdefault.jpg', 'width': 480, 'height': 360}}, 'channelTitle': '슈카월드', 'liveBroadcastContent': 'none', 'publishTime': '2021-05-11T11:46:17Z'}}\n",
      "{'kind': 'youtube#searchResult', 'etag': 'MoBFARf5bXxPUpEHiCj1TzoELCA', 'id': {'kind': 'youtube#video', 'videoId': 'w5HsRx4TbVk'}, 'snippet': {'publishedAt': '2021-05-06T10:10:25Z', 'channelId': 'UCsJ6RuBiTVWRX156FVbeaGg', 'title': '마스크 시대와 화장품의 희로애락', 'description': '어렵고 딱딱한 경제,시사,금융 이야기를 쉽고 유쾌하게 풀어내는 경제/시사/이슈/잡썰 토크방송입니다. #마스크 #화장품.', 'thumbnails': {'default': {'url': 'https://i.ytimg.com/vi/w5HsRx4TbVk/default.jpg', 'width': 120, 'height': 90}, 'medium': {'url': 'https://i.ytimg.com/vi/w5HsRx4TbVk/mqdefault.jpg', 'width': 320, 'height': 180}, 'high': {'url': 'https://i.ytimg.com/vi/w5HsRx4TbVk/hqdefault.jpg', 'width': 480, 'height': 360}}, 'channelTitle': '슈카월드', 'liveBroadcastContent': 'none', 'publishTime': '2021-05-06T10:10:25Z'}}\n",
      "{'kind': 'youtube#searchResult', 'etag': 'Xs6HMOgFBZc0AT_9FCunfAdJxRo', 'id': {'kind': 'youtube#video', 'videoId': '2MvnkqvksvE'}, 'snippet': {'publishedAt': '2021-05-04T12:39:00Z', 'channelId': 'UCsJ6RuBiTVWRX156FVbeaGg', 'title': '大투자시대, 행복한 투자를 찾아서', 'description': '어렵고 딱딱한 경제,시사,금융 이야기를 쉽고 유쾌하게 풀어내는 경제/시사/이슈/잡썰 토크방송입니다. #대투자시대 #MZ세대.', 'thumbnails': {'default': {'url': 'https://i.ytimg.com/vi/2MvnkqvksvE/default.jpg', 'width': 120, 'height': 90}, 'medium': {'url': 'https://i.ytimg.com/vi/2MvnkqvksvE/mqdefault.jpg', 'width': 320, 'height': 180}, 'high': {'url': 'https://i.ytimg.com/vi/2MvnkqvksvE/hqdefault.jpg', 'width': 480, 'height': 360}}, 'channelTitle': '슈카월드', 'liveBroadcastContent': 'none', 'publishTime': '2021-05-04T12:39:00Z'}}\n",
      "{'kind': 'youtube#searchResult', 'etag': 'O-Sin7SvIYZZQUDxl0wjeuk2qWI', 'id': {'kind': 'youtube#video', 'videoId': 'n_95D_ezEVY'}, 'snippet': {'publishedAt': '2021-05-03T09:52:42Z', 'channelId': 'UCsJ6RuBiTVWRX156FVbeaGg', 'title': '따상 기대에 81조원 몰린 SK IET 주식 공모청약', 'description': '어렵고 딱딱한 경제,시사,금융 이야기를 쉽고 유쾌하게 풀어내는 경제/시사/이슈/잡썰 토크방송입니다. #SK아이이테크놀로지 #따상.', 'thumbnails': {'default': {'url': 'https://i.ytimg.com/vi/n_95D_ezEVY/default.jpg', 'width': 120, 'height': 90}, 'medium': {'url': 'https://i.ytimg.com/vi/n_95D_ezEVY/mqdefault.jpg', 'width': 320, 'height': 180}, 'high': {'url': 'https://i.ytimg.com/vi/n_95D_ezEVY/hqdefault.jpg', 'width': 480, 'height': 360}}, 'channelTitle': '슈카월드', 'liveBroadcastContent': 'none', 'publishTime': '2021-05-03T09:52:42Z'}}\n",
      "{'kind': 'youtube#searchResult', 'etag': 'KDsSyW5423jELb57DWpOlNTawps', 'id': {'kind': 'youtube#video', 'videoId': 'BtCOL7koNP0'}, 'snippet': {'publishedAt': '2021-04-30T11:18:34Z', 'channelId': 'UCsJ6RuBiTVWRX156FVbeaGg', 'title': '우주는 수학적으로 창조되었는가? 글로벌 수학 최대 떡밥 리만가설', 'description': '0:00 ~ 9:53 350년에 걸친 악마의 문제, 페르마의 마지막 정리 9:53 ~ 14:26 차세대 초대형 떡밥, 리만 가설 14:26 ~ 21:02 우리가 사는 ...', 'thumbnails': {'default': {'url': 'https://i.ytimg.com/vi/BtCOL7koNP0/default.jpg', 'width': 120, 'height': 90}, 'medium': {'url': 'https://i.ytimg.com/vi/BtCOL7koNP0/mqdefault.jpg', 'width': 320, 'height': 180}, 'high': {'url': 'https://i.ytimg.com/vi/BtCOL7koNP0/hqdefault.jpg', 'width': 480, 'height': 360}}, 'channelTitle': '슈카월드', 'liveBroadcastContent': 'none', 'publishTime': '2021-04-30T11:18:34Z'}}\n",
      "{'kind': 'youtube#searchResult', 'etag': 'zNUc44ReHQhr8kh6rFHvTwFyup0', 'id': {'kind': 'youtube#video', 'videoId': 's1xR30y-CN8'}, 'snippet': {'publishedAt': '2021-04-20T11:38:45Z', 'channelId': 'UCsJ6RuBiTVWRX156FVbeaGg', 'title': '중국 견제에 손 잡은 미ㆍ일 정상회담 / 맞짱 액티브 ETF 등장', 'description': '어렵고 딱딱한 경제,시사,금융 이야기를 쉽고 유쾌하게 풀어내는 경제/시사/이슈/잡썰 토크방송입니다. #미일정상회담 #살떨리는 ...', 'thumbnails': {'default': {'url': 'https://i.ytimg.com/vi/s1xR30y-CN8/default.jpg', 'width': 120, 'height': 90}, 'medium': {'url': 'https://i.ytimg.com/vi/s1xR30y-CN8/mqdefault.jpg', 'width': 320, 'height': 180}, 'high': {'url': 'https://i.ytimg.com/vi/s1xR30y-CN8/hqdefault.jpg', 'width': 480, 'height': 360}}, 'channelTitle': '슈카월드', 'liveBroadcastContent': 'none', 'publishTime': '2021-04-20T11:38:45Z'}}\n",
      "{'kind': 'youtube#searchResult', 'etag': 'AcGNLC43GW9SEhkAGiMRlqNZOzc', 'id': {'kind': 'youtube#video', 'videoId': 'EV-kYc7w-qE'}, 'snippet': {'publishedAt': '2021-04-19T11:11:00Z', 'channelId': 'UCsJ6RuBiTVWRX156FVbeaGg', 'title': '장난으로 만든 도지코인, 초유의 시총 50조원 돌파', 'description': '어렵고 딱딱한 경제,시사,금융 이야기를 쉽고 유쾌하게 풀어내는 경제/시사/이슈/잡썰 토크방송입니다. #Dogecoin #일론머스크.', 'thumbnails': {'default': {'url': 'https://i.ytimg.com/vi/EV-kYc7w-qE/default.jpg', 'width': 120, 'height': 90}, 'medium': {'url': 'https://i.ytimg.com/vi/EV-kYc7w-qE/mqdefault.jpg', 'width': 320, 'height': 180}, 'high': {'url': 'https://i.ytimg.com/vi/EV-kYc7w-qE/hqdefault.jpg', 'width': 480, 'height': 360}}, 'channelTitle': '슈카월드', 'liveBroadcastContent': 'none', 'publishTime': '2021-04-19T11:11:00Z'}}\n",
      "{'kind': 'youtube#searchResult', 'etag': 'c2N4Pw2kARx5z5AnMvxITrkjXcs', 'id': {'kind': 'youtube#video', 'videoId': 'wF-kBWmlb2I'}, 'snippet': {'publishedAt': '2021-04-12T10:38:42Z', 'channelId': 'UCsJ6RuBiTVWRX156FVbeaGg', 'title': '힘든 청춘들, 서로 사랑하기를 응원합니다.', 'description': '어렵고 딱딱한 경제,시사,금융 이야기를 쉽고 유쾌하게 풀어내는 경제/시사/이슈/잡썰 토크방송입니다. #평화 #사랑.', 'thumbnails': {'default': {'url': 'https://i.ytimg.com/vi/wF-kBWmlb2I/default.jpg', 'width': 120, 'height': 90}, 'medium': {'url': 'https://i.ytimg.com/vi/wF-kBWmlb2I/mqdefault.jpg', 'width': 320, 'height': 180}, 'high': {'url': 'https://i.ytimg.com/vi/wF-kBWmlb2I/hqdefault.jpg', 'width': 480, 'height': 360}}, 'channelTitle': '슈카월드', 'liveBroadcastContent': 'none', 'publishTime': '2021-04-12T10:38:42Z'}}\n",
      "{'kind': 'youtube#searchResult', 'etag': '156-CLwUj_a2gWuR3S-Bc2ar6Tw', 'id': {'kind': 'youtube#video', 'videoId': 'w1QkLd6YJ2c'}, 'snippet': {'publishedAt': '2021-04-09T12:47:46Z', 'channelId': 'UCsJ6RuBiTVWRX156FVbeaGg', 'title': '파란만장한 닌텐도의 화려한 부활, 게임이란 무엇인가? (ft. 데브시스터즈)', 'description': '어렵고 딱딱한 경제,시사,금융 이야기를 쉽고 유쾌하게 풀어내는 경제/시사/이슈/잡썰 토크방송입니다. #닌텐도 #데브시스터즈.', 'thumbnails': {'default': {'url': 'https://i.ytimg.com/vi/w1QkLd6YJ2c/default.jpg', 'width': 120, 'height': 90}, 'medium': {'url': 'https://i.ytimg.com/vi/w1QkLd6YJ2c/mqdefault.jpg', 'width': 320, 'height': 180}, 'high': {'url': 'https://i.ytimg.com/vi/w1QkLd6YJ2c/hqdefault.jpg', 'width': 480, 'height': 360}}, 'channelTitle': '슈카월드', 'liveBroadcastContent': 'none', 'publishTime': '2021-04-09T12:47:46Z'}}\n",
      "{'kind': 'youtube#searchResult', 'etag': 'IgvGFD0IOi8NLy29eum9ZKZYT80', 'id': {'kind': 'youtube#video', 'videoId': 'gnnJkTl7bCo'}, 'snippet': {'publishedAt': '2021-04-08T10:31:47Z', 'channelId': 'UCsJ6RuBiTVWRX156FVbeaGg', 'title': '푸틴 종신집권의 꿈과 압도적인 러시아 청년 지지율 86%', 'description': '어렵고 딱딱한 경제,시사,금융 이야기를 쉽고 유쾌하게 풀어내는 경제/시사/이슈/잡썰 토크방송입니다. #러시아 #푸틴개헌.', 'thumbnails': {'default': {'url': 'https://i.ytimg.com/vi/gnnJkTl7bCo/default.jpg', 'width': 120, 'height': 90}, 'medium': {'url': 'https://i.ytimg.com/vi/gnnJkTl7bCo/mqdefault.jpg', 'width': 320, 'height': 180}, 'high': {'url': 'https://i.ytimg.com/vi/gnnJkTl7bCo/hqdefault.jpg', 'width': 480, 'height': 360}}, 'channelTitle': '슈카월드', 'liveBroadcastContent': 'none', 'publishTime': '2021-04-08T10:31:47Z'}}\n",
      "{'kind': 'youtube#searchResult', 'etag': 'dcaP1eNZH6nrBF6GxxRt0zrH8HI', 'id': {'kind': 'youtube#video', 'videoId': 'paStwCBkHQA'}, 'snippet': {'publishedAt': '2021-04-07T12:55:47Z', 'channelId': 'UCsJ6RuBiTVWRX156FVbeaGg', 'title': '대(大)코인시대, 하루대금 30조 코스피를 능가하다. / 진격의  야놀자 상장', 'description': '00:00 ~ 5:09 야놀자 상장 10조 기대? 5:09 ~ 11:48 대大코인(coin) 시대 11:48 ~ 19:30 전설로 남을 감옥 매매법 어렵고 딱딱한 경제, ...', 'thumbnails': {'default': {'url': 'https://i.ytimg.com/vi/paStwCBkHQA/default.jpg', 'width': 120, 'height': 90}, 'medium': {'url': 'https://i.ytimg.com/vi/paStwCBkHQA/mqdefault.jpg', 'width': 320, 'height': 180}, 'high': {'url': 'https://i.ytimg.com/vi/paStwCBkHQA/hqdefault.jpg', 'width': 480, 'height': 360}}, 'channelTitle': '슈카월드', 'liveBroadcastContent': 'none', 'publishTime': '2021-04-07T12:55:47Z'}}\n",
      "{'kind': 'youtube#searchResult', 'etag': 'IWdvHBKXk8UxldOrUnPWSYXMuq0', 'id': {'kind': 'youtube#video', 'videoId': 'vc9kDKQAzys'}, 'snippet': {'publishedAt': '2021-04-06T10:56:08Z', 'channelId': 'UCsJ6RuBiTVWRX156FVbeaGg', 'title': '&#39;볼츠바겐&#39;, 역사에 남을 만우절 장난의 뜨거운 후폭풍', 'description': '어렵고 딱딱한 경제,시사,금융 이야기를 쉽고 유쾌하게 풀어내는 경제/시사/이슈/잡썰 토크방송입니다. #폭스바겐 #만우절.', 'thumbnails': {'default': {'url': 'https://i.ytimg.com/vi/vc9kDKQAzys/default.jpg', 'width': 120, 'height': 90}, 'medium': {'url': 'https://i.ytimg.com/vi/vc9kDKQAzys/mqdefault.jpg', 'width': 320, 'height': 180}, 'high': {'url': 'https://i.ytimg.com/vi/vc9kDKQAzys/hqdefault.jpg', 'width': 480, 'height': 360}}, 'channelTitle': '슈카월드', 'liveBroadcastContent': 'none', 'publishTime': '2021-04-06T10:56:08Z'}}\n",
      "{'kind': 'youtube#searchResult', 'etag': 'v3IqPYYwuV_7ZmCjJSlRuW3jkww', 'id': {'kind': 'youtube#video', 'videoId': 'iPEZ83bwKec'}, 'snippet': {'publishedAt': '2021-04-02T12:38:27Z', 'channelId': 'UCsJ6RuBiTVWRX156FVbeaGg', 'title': '심각해져가는 남녀갈등에 경제학적 팃포탯(Tit for Tat) 전략을 쓴다?', 'description': '어렵고 딱딱한 경제,시사,금융 이야기를 쉽고 유쾌하게 풀어내는 경제/시사/이슈/잡썰 토크방송입니다. #젠더갈등 #눈에는눈.', 'thumbnails': {'default': {'url': 'https://i.ytimg.com/vi/iPEZ83bwKec/default.jpg', 'width': 120, 'height': 90}, 'medium': {'url': 'https://i.ytimg.com/vi/iPEZ83bwKec/mqdefault.jpg', 'width': 320, 'height': 180}, 'high': {'url': 'https://i.ytimg.com/vi/iPEZ83bwKec/hqdefault.jpg', 'width': 480, 'height': 360}}, 'channelTitle': '슈카월드', 'liveBroadcastContent': 'none', 'publishTime': '2021-04-02T12:38:27Z'}}\n",
      "{'kind': 'youtube#searchResult', 'etag': 'I9EUOgpw3smOn3gF2Hxs19WQUjw', 'id': {'kind': 'youtube#video', 'videoId': 'ZJSJsfEBKYg'}, 'snippet': {'publishedAt': '2021-03-29T11:21:07Z', 'channelId': 'UCsJ6RuBiTVWRX156FVbeaGg', 'title': '수에즈 운하 전격 길막 시전, 400m 짜리 글로벌 요로결석 사태', 'description': '어렵고 딱딱한 경제,시사,금융 이야기를 쉽고 유쾌하게 풀어내는 경제/시사/이슈/잡썰 토크방송입니다. #수에즈운하 #동맥경화.', 'thumbnails': {'default': {'url': 'https://i.ytimg.com/vi/ZJSJsfEBKYg/default.jpg', 'width': 120, 'height': 90}, 'medium': {'url': 'https://i.ytimg.com/vi/ZJSJsfEBKYg/mqdefault.jpg', 'width': 320, 'height': 180}, 'high': {'url': 'https://i.ytimg.com/vi/ZJSJsfEBKYg/hqdefault.jpg', 'width': 480, 'height': 360}}, 'channelTitle': '슈카월드', 'liveBroadcastContent': 'none', 'publishTime': '2021-03-29T11:21:07Z'}}\n",
      "{'kind': 'youtube#searchResult', 'etag': 'YW_krNVSnW1Dqd65P-EvrAkjkd8', 'id': {'kind': 'youtube#video', 'videoId': 'a-GPxD5X_4o'}, 'snippet': {'publishedAt': '2021-03-26T10:53:29Z', 'channelId': 'UCsJ6RuBiTVWRX156FVbeaGg', 'title': '가상현실로 출근하고 가상현실에서 만나는 메타버스의 시대', 'description': '어렵고 딱딱한 경제,시사,금융 이야기를 쉽고 유쾌하게 풀어내는 경제/시사/이슈/잡썰 토크방송입니다. #메타버스 #가상현실.', 'thumbnails': {'default': {'url': 'https://i.ytimg.com/vi/a-GPxD5X_4o/default.jpg', 'width': 120, 'height': 90}, 'medium': {'url': 'https://i.ytimg.com/vi/a-GPxD5X_4o/mqdefault.jpg', 'width': 320, 'height': 180}, 'high': {'url': 'https://i.ytimg.com/vi/a-GPxD5X_4o/hqdefault.jpg', 'width': 480, 'height': 360}}, 'channelTitle': '슈카월드', 'liveBroadcastContent': 'none', 'publishTime': '2021-03-26T10:53:29Z'}}\n",
      "{'kind': 'youtube#searchResult', 'etag': 'quUaYt-vvA3F5WENL_DdBYxIfWo', 'id': {'kind': 'youtube#video', 'videoId': 'lFQmdHppmfk'}, 'snippet': {'publishedAt': '2021-03-22T12:04:02Z', 'channelId': 'UCsJ6RuBiTVWRX156FVbeaGg', 'title': '토스 증권 출범, &quot;새로운 고객 경험&quot;을 향한 금융 회사들의 진검 승부', 'description': '어렵고 딱딱한 경제,시사,금융 이야기를 쉽고 유쾌하게 풀어내는 경제/시사/이슈/잡썰 토크방송입니다. #새로운경험 #금융플랫폼.', 'thumbnails': {'default': {'url': 'https://i.ytimg.com/vi/lFQmdHppmfk/default.jpg', 'width': 120, 'height': 90}, 'medium': {'url': 'https://i.ytimg.com/vi/lFQmdHppmfk/mqdefault.jpg', 'width': 320, 'height': 180}, 'high': {'url': 'https://i.ytimg.com/vi/lFQmdHppmfk/hqdefault.jpg', 'width': 480, 'height': 360}}, 'channelTitle': '슈카월드', 'liveBroadcastContent': 'none', 'publishTime': '2021-03-22T12:04:02Z'}}\n",
      "{'kind': 'youtube#searchResult', 'etag': 'V9c5z5noS-rlkA7Jbbn2shKM4TU', 'id': {'kind': 'youtube#video', 'videoId': '30Tbpp0gQAo'}, 'snippet': {'publishedAt': '2021-03-19T10:48:51Z', 'channelId': 'UCsJ6RuBiTVWRX156FVbeaGg', 'title': '메타버스, 가상과 현실이 상호작용하는 가상현실의 혁명이 올 것인가', 'description': '어렵고 딱딱한 경제,시사,금융 이야기를 쉽고 유쾌하게 풀어내는 경제/시사/이슈/잡썰 토크방송입니다. #가상현실 #메타버스.', 'thumbnails': {'default': {'url': 'https://i.ytimg.com/vi/30Tbpp0gQAo/default.jpg', 'width': 120, 'height': 90}, 'medium': {'url': 'https://i.ytimg.com/vi/30Tbpp0gQAo/mqdefault.jpg', 'width': 320, 'height': 180}, 'high': {'url': 'https://i.ytimg.com/vi/30Tbpp0gQAo/hqdefault.jpg', 'width': 480, 'height': 360}}, 'channelTitle': '슈카월드', 'liveBroadcastContent': 'none', 'publishTime': '2021-03-19T10:48:51Z'}}\n",
      "{'kind': 'youtube#searchResult', 'etag': 'MQ5DRD0JoMbg2nmpIe4mLKIyzUE', 'id': {'kind': 'youtube#video', 'videoId': 'EzqP-AnTJoc'}, 'snippet': {'publishedAt': '2021-03-15T10:53:43Z', 'channelId': 'UCsJ6RuBiTVWRX156FVbeaGg', 'title': '쿠팡 뉴욕 상장 첫날 시총 100조원 달성과 엇갈리는 네이버의 행보', 'description': '어렵고 딱딱한 경제,시사,금융 이야기를 쉽고 유쾌하게 풀어내는 경제/시사/이슈/잡썰 토크방송입니다. #로켓배송 #네이버이마트연합.', 'thumbnails': {'default': {'url': 'https://i.ytimg.com/vi/EzqP-AnTJoc/default.jpg', 'width': 120, 'height': 90}, 'medium': {'url': 'https://i.ytimg.com/vi/EzqP-AnTJoc/mqdefault.jpg', 'width': 320, 'height': 180}, 'high': {'url': 'https://i.ytimg.com/vi/EzqP-AnTJoc/hqdefault.jpg', 'width': 480, 'height': 360}}, 'channelTitle': '슈카월드', 'liveBroadcastContent': 'none', 'publishTime': '2021-03-15T10:53:43Z'}}\n",
      "{'kind': 'youtube#searchResult', 'etag': 'BaFiBH4w8m4PxvPnNAiAUhdC8VY', 'id': {'kind': 'youtube#video', 'videoId': 'pZ4bAOHWxlE'}, 'snippet': {'publishedAt': '2021-03-10T11:01:21Z', 'channelId': 'UCsJ6RuBiTVWRX156FVbeaGg', 'title': '약 13,000 점, 수 조 원으로 평가받는 故 이건희 회장 세기의 컬렉션', 'description': '어렵고 딱딱한 경제,시사,금융 이야기를 쉽고 유쾌하게 풀어내는 경제/시사/이슈/잡썰 토크방송입니다. #세기의컬렉션 #국보급문화재.', 'thumbnails': {'default': {'url': 'https://i.ytimg.com/vi/pZ4bAOHWxlE/default.jpg', 'width': 120, 'height': 90}, 'medium': {'url': 'https://i.ytimg.com/vi/pZ4bAOHWxlE/mqdefault.jpg', 'width': 320, 'height': 180}, 'high': {'url': 'https://i.ytimg.com/vi/pZ4bAOHWxlE/hqdefault.jpg', 'width': 480, 'height': 360}}, 'channelTitle': '슈카월드', 'liveBroadcastContent': 'none', 'publishTime': '2021-03-10T11:01:21Z'}}\n",
      "{'kind': 'youtube#searchResult', 'etag': 'eDzdsfXuaGv44lGnp6R5_NWxvXc', 'id': {'kind': 'youtube#video', 'videoId': 'BSi53UF-rrE'}, 'snippet': {'publishedAt': '2021-03-04T13:08:23Z', 'channelId': 'UCsJ6RuBiTVWRX156FVbeaGg', 'title': 'D램 가격 상승과  반도체 슈퍼싸이클의 기대', 'description': '어렵고 딱딱한 경제,시사,금융 이야기를 쉽고 유쾌하게 풀어내는 경제/시사/이슈/잡썰 토크방송입니다. #반도체 #슈퍼사이클.', 'thumbnails': {'default': {'url': 'https://i.ytimg.com/vi/BSi53UF-rrE/default.jpg', 'width': 120, 'height': 90}, 'medium': {'url': 'https://i.ytimg.com/vi/BSi53UF-rrE/mqdefault.jpg', 'width': 320, 'height': 180}, 'high': {'url': 'https://i.ytimg.com/vi/BSi53UF-rrE/hqdefault.jpg', 'width': 480, 'height': 360}}, 'channelTitle': '슈카월드', 'liveBroadcastContent': 'none', 'publishTime': '2021-03-04T13:08:23Z'}}\n",
      "{'kind': 'youtube#searchResult', 'etag': '1tbXD4jlPcM4mHtDuR_nC5jndOw', 'id': {'kind': 'youtube#video', 'videoId': 'Z7HLsayHVIE'}, 'snippet': {'publishedAt': '2021-03-01T10:14:13Z', 'channelId': 'UCsJ6RuBiTVWRX156FVbeaGg', 'title': '코로나 봉쇄를 서서히 풀고 있는 세계, 백신 접종과 일상으로의 복귀', 'description': '어렵고 딱딱한 경제,시사,금융 이야기를 쉽고 유쾌하게 풀어내는 경제/시사/이슈/잡썰 토크방송입니다. #일상으로의초대 #반도체동맹.', 'thumbnails': {'default': {'url': 'https://i.ytimg.com/vi/Z7HLsayHVIE/default.jpg', 'width': 120, 'height': 90}, 'medium': {'url': 'https://i.ytimg.com/vi/Z7HLsayHVIE/mqdefault.jpg', 'width': 320, 'height': 180}, 'high': {'url': 'https://i.ytimg.com/vi/Z7HLsayHVIE/hqdefault.jpg', 'width': 480, 'height': 360}}, 'channelTitle': '슈카월드', 'liveBroadcastContent': 'none', 'publishTime': '2021-03-01T10:14:13Z'}}\n",
      "{'kind': 'youtube#searchResult', 'etag': 'Dl6sk0aNwYgCMjawKfaTUTQ1d2E', 'id': {'kind': 'youtube#video', 'videoId': 'yoxanKXhmYw'}, 'snippet': {'publishedAt': '2021-02-25T12:39:18Z', 'channelId': 'UCsJ6RuBiTVWRX156FVbeaGg', 'title': '중국판 동학개미 청년 &quot;부추&quot;, 잘라도 잘라도 살아나는 끈질긴 생명력', 'description': '0:00 ~ 9:36 뜨거운 해외 주식 붐 9:36 ~ 20:15 중국의 청년 \"부추\" 어렵고 딱딱한 경제,시사,금융 이야기를 쉽고 유쾌하게 풀어내는 ...', 'thumbnails': {'default': {'url': 'https://i.ytimg.com/vi/yoxanKXhmYw/default.jpg', 'width': 120, 'height': 90}, 'medium': {'url': 'https://i.ytimg.com/vi/yoxanKXhmYw/mqdefault.jpg', 'width': 320, 'height': 180}, 'high': {'url': 'https://i.ytimg.com/vi/yoxanKXhmYw/hqdefault.jpg', 'width': 480, 'height': 360}}, 'channelTitle': '슈카월드', 'liveBroadcastContent': 'none', 'publishTime': '2021-02-25T12:39:18Z'}}\n",
      "{'kind': 'youtube#searchResult', 'etag': 'aIsEw1RouqLMtfxH7fNDBBz0Nds', 'id': {'kind': 'youtube#video', 'videoId': 'JMDgbp7Ng2E'}, 'snippet': {'publishedAt': '2021-02-24T12:04:24Z', 'channelId': 'UCsJ6RuBiTVWRX156FVbeaGg', 'title': '미중 분쟁의 사이에 서 있는 대만의 위기와 기회', 'description': '어렵고 딱딱한 경제,시사,금융 이야기를 쉽고 유쾌하게 풀어내는 경제/시사/이슈/잡썰 토크방송입니다. #대만 #위기와기회 바이든 ...', 'thumbnails': {'default': {'url': 'https://i.ytimg.com/vi/JMDgbp7Ng2E/default.jpg', 'width': 120, 'height': 90}, 'medium': {'url': 'https://i.ytimg.com/vi/JMDgbp7Ng2E/mqdefault.jpg', 'width': 320, 'height': 180}, 'high': {'url': 'https://i.ytimg.com/vi/JMDgbp7Ng2E/hqdefault.jpg', 'width': 480, 'height': 360}}, 'channelTitle': '슈카월드', 'liveBroadcastContent': 'none', 'publishTime': '2021-02-24T12:04:24Z'}}\n",
      "{'kind': 'youtube#searchResult', 'etag': 'cFrN0RXAmgygoABOpOpb5PDhFuo', 'id': {'kind': 'youtube#video', 'videoId': 'ty-wcIMp2VI'}, 'snippet': {'publishedAt': '2021-02-17T09:40:14Z', 'channelId': 'UCsJ6RuBiTVWRX156FVbeaGg', 'title': '5만 달러를 넘어간 요지경 비트코인, 머스크의 한마디에 춤을 추는 가격들', 'description': '어렵고 딱딱한 경제,시사,금융 이야기를 쉽고 유쾌하게 풀어내는 경제/시사/이슈/잡썰 토크방송입니다. #비트코인 #테슬라 #머스크.', 'thumbnails': {'default': {'url': 'https://i.ytimg.com/vi/ty-wcIMp2VI/default.jpg', 'width': 120, 'height': 90}, 'medium': {'url': 'https://i.ytimg.com/vi/ty-wcIMp2VI/mqdefault.jpg', 'width': 320, 'height': 180}, 'high': {'url': 'https://i.ytimg.com/vi/ty-wcIMp2VI/hqdefault.jpg', 'width': 480, 'height': 360}}, 'channelTitle': '슈카월드', 'liveBroadcastContent': 'none', 'publishTime': '2021-02-17T09:40:14Z'}}\n",
      "{'kind': 'youtube#searchResult', 'etag': 'oPxTq2kn7wkEfVlgN9TpNrZ9m6E', 'id': {'kind': 'youtube#video', 'videoId': '1LY8ANOgGhU'}, 'snippet': {'publishedAt': '2021-02-13T09:36:56Z', 'channelId': 'UCsJ6RuBiTVWRX156FVbeaGg', 'title': '쿠데타로 흔들리는 험난한 미얀마와 다시 구금된 아웅산 수치', 'description': '어렵고 딱딱한 경제,시사,금융 이야기를 쉽고 유쾌하게 풀어내는 경제/시사/이슈/잡썰 토크방송입니다. #미얀마 #아웅산수치.', 'thumbnails': {'default': {'url': 'https://i.ytimg.com/vi/1LY8ANOgGhU/default.jpg', 'width': 120, 'height': 90}, 'medium': {'url': 'https://i.ytimg.com/vi/1LY8ANOgGhU/mqdefault.jpg', 'width': 320, 'height': 180}, 'high': {'url': 'https://i.ytimg.com/vi/1LY8ANOgGhU/hqdefault.jpg', 'width': 480, 'height': 360}}, 'channelTitle': '슈카월드', 'liveBroadcastContent': 'none', 'publishTime': '2021-02-13T09:36:56Z'}}\n",
      "{'kind': 'youtube#searchResult', 'etag': '3a3hlOeEiQ5UIKkiqudcCZovhl8', 'id': {'kind': 'youtube#video', 'videoId': '0WHQE-qTN04'}, 'snippet': {'publishedAt': '2021-02-08T13:34:47Z', 'channelId': 'UCsJ6RuBiTVWRX156FVbeaGg', 'title': '어려울 수록 주목받는 &#39;안전마진&#39; 투자', 'description': '0:00 ~ 14:43 대한항공의 신주인수권 14:43 ~ 30:58 안전마진 투자와 어려운 주식 시장 어렵고 딱딱한 경제,시사,금융 이야기를 쉽고 ...', 'thumbnails': {'default': {'url': 'https://i.ytimg.com/vi/0WHQE-qTN04/default.jpg', 'width': 120, 'height': 90}, 'medium': {'url': 'https://i.ytimg.com/vi/0WHQE-qTN04/mqdefault.jpg', 'width': 320, 'height': 180}, 'high': {'url': 'https://i.ytimg.com/vi/0WHQE-qTN04/hqdefault.jpg', 'width': 480, 'height': 360}}, 'channelTitle': '슈카월드', 'liveBroadcastContent': 'none', 'publishTime': '2021-02-08T13:34:47Z'}}\n",
      "{'kind': 'youtube#searchResult', 'etag': 'YifwXpbpDlxFkkYfQaBg6na9fjU', 'id': {'kind': 'youtube#video', 'videoId': 'qVAZC5SNUSQ'}, 'snippet': {'publishedAt': '2021-02-05T12:45:49Z', 'channelId': 'UCsJ6RuBiTVWRX156FVbeaGg', 'title': '삼성전자의 역대급 배당과 애플의 진정한 경쟁자는 누구인가', 'description': '어렵고 딱딱한 경제,시사,금융 이야기를 쉽고 유쾌하게 풀어내는 경제/시사/이슈/잡썰 토크방송입니다. #배당 #반도체.', 'thumbnails': {'default': {'url': 'https://i.ytimg.com/vi/qVAZC5SNUSQ/default.jpg', 'width': 120, 'height': 90}, 'medium': {'url': 'https://i.ytimg.com/vi/qVAZC5SNUSQ/mqdefault.jpg', 'width': 320, 'height': 180}, 'high': {'url': 'https://i.ytimg.com/vi/qVAZC5SNUSQ/hqdefault.jpg', 'width': 480, 'height': 360}}, 'channelTitle': '슈카월드', 'liveBroadcastContent': 'none', 'publishTime': '2021-02-05T12:45:49Z'}}\n",
      "{'kind': 'youtube#searchResult', 'etag': 'PagjYqF6o5lhbgqnKsPLwK10HI0', 'id': {'kind': 'youtube#video', 'videoId': 'PWPuuzMoOpg'}, 'snippet': {'publishedAt': '2021-02-03T10:59:50Z', 'channelId': 'UCsJ6RuBiTVWRX156FVbeaGg', 'title': '어렵고 험난한 2021 주식시장, 개미들을 홀리는 변동성의 코스피', 'description': '0:00 ~ 14:20 1월 개인 코스피 순매수 22조3천억 원 14:20 ~ 27:52 변동성 높은 코스피 시장 어렵고 딱딱한 경제,시사,금융 이야기를 ...', 'thumbnails': {'default': {'url': 'https://i.ytimg.com/vi/PWPuuzMoOpg/default.jpg', 'width': 120, 'height': 90}, 'medium': {'url': 'https://i.ytimg.com/vi/PWPuuzMoOpg/mqdefault.jpg', 'width': 320, 'height': 180}, 'high': {'url': 'https://i.ytimg.com/vi/PWPuuzMoOpg/hqdefault.jpg', 'width': 480, 'height': 360}}, 'channelTitle': '슈카월드', 'liveBroadcastContent': 'none', 'publishTime': '2021-02-03T10:59:50Z'}}\n",
      "{'kind': 'youtube#searchResult', 'etag': 'XWnh2P20VxgLiMaFOc9QI45GxfE', 'id': {'kind': 'youtube#video', 'videoId': 'NXZlCgkCtpg'}, 'snippet': {'publishedAt': '2021-02-01T11:00:22Z', 'channelId': 'UCsJ6RuBiTVWRX156FVbeaGg', 'title': '전세계를 강타한 게임스탑(GME) 사태, 개미와 헤지펀드의 대(大)전쟁', 'description': '어렵고 딱딱한 경제,시사,금융 이야기를 쉽고 유쾌하게 풀어내는 경제/시사/이슈/잡썰 토크방송입니다. #개미연합군 #공매도.', 'thumbnails': {'default': {'url': 'https://i.ytimg.com/vi/NXZlCgkCtpg/default.jpg', 'width': 120, 'height': 90}, 'medium': {'url': 'https://i.ytimg.com/vi/NXZlCgkCtpg/mqdefault.jpg', 'width': 320, 'height': 180}, 'high': {'url': 'https://i.ytimg.com/vi/NXZlCgkCtpg/hqdefault.jpg', 'width': 480, 'height': 360}}, 'channelTitle': '슈카월드', 'liveBroadcastContent': 'none', 'publishTime': '2021-02-01T11:00:22Z'}}\n",
      "{'kind': 'youtube#searchResult', 'etag': 'stHHLDPaxLRxJDYxlk11_vyoJ9E', 'id': {'kind': 'youtube#video', 'videoId': 'WvBGM5C6Uqg'}, 'snippet': {'publishedAt': '2021-01-30T12:08:10Z', 'channelId': 'UCsJ6RuBiTVWRX156FVbeaGg', 'title': '바이든 미 대통령 취임과 내각의 말말말 / 10년 젊게 사는 방법', 'description': '어렵고 딱딱한 경제,시사,금융 이야기를 쉽고 유쾌하게 풀어내는 경제/시사/이슈/잡썰 토크방송입니다.', 'thumbnails': {'default': {'url': 'https://i.ytimg.com/vi/WvBGM5C6Uqg/default.jpg', 'width': 120, 'height': 90}, 'medium': {'url': 'https://i.ytimg.com/vi/WvBGM5C6Uqg/mqdefault.jpg', 'width': 320, 'height': 180}, 'high': {'url': 'https://i.ytimg.com/vi/WvBGM5C6Uqg/hqdefault.jpg', 'width': 480, 'height': 360}}, 'channelTitle': '슈카월드', 'liveBroadcastContent': 'none', 'publishTime': '2021-01-30T12:08:10Z'}}\n",
      "{'kind': 'youtube#searchResult', 'etag': '3B2l4Wxp7gZWQlP8Fmg1hBlL3Ww', 'id': {'kind': 'youtube#video', 'videoId': 'RRcXeccManU'}, 'snippet': {'publishedAt': '2021-01-25T12:48:51Z', 'channelId': 'UCsJ6RuBiTVWRX156FVbeaGg', 'title': 'LG전자 눈물의 스마트폰 철수와 급격하게 변화 중인 한국의 대기업들', 'description': '어렵고 딱딱한 경제,시사,금융 이야기를 쉽고 유쾌하게 풀어내는 경제/시사/이슈/잡썰 토크방송입니다. #롤러블폰.', 'thumbnails': {'default': {'url': 'https://i.ytimg.com/vi/RRcXeccManU/default.jpg', 'width': 120, 'height': 90}, 'medium': {'url': 'https://i.ytimg.com/vi/RRcXeccManU/mqdefault.jpg', 'width': 320, 'height': 180}, 'high': {'url': 'https://i.ytimg.com/vi/RRcXeccManU/hqdefault.jpg', 'width': 480, 'height': 360}}, 'channelTitle': '슈카월드', 'liveBroadcastContent': 'none', 'publishTime': '2021-01-25T12:48:51Z'}}\n",
      "{'kind': 'youtube#searchResult', 'etag': 'o7z7hfw95gepl8-pral_t7jUTFM', 'id': {'kind': 'youtube#video', 'videoId': 'mIq7dTCD1to'}, 'snippet': {'publishedAt': '2021-01-16T10:53:53Z', 'channelId': 'UCsJ6RuBiTVWRX156FVbeaGg', 'title': '누구나 미래 차 주식 하나 쯤은 있는 세상? (feat. ESG 투자)', 'description': '어렵고 딱딱한 경제,시사,금융 이야기를 쉽고 유쾌하게 풀어내는 경제/시사/이슈/잡썰 토크방송입니다. #ESG #블랙록.', 'thumbnails': {'default': {'url': 'https://i.ytimg.com/vi/mIq7dTCD1to/default.jpg', 'width': 120, 'height': 90}, 'medium': {'url': 'https://i.ytimg.com/vi/mIq7dTCD1to/mqdefault.jpg', 'width': 320, 'height': 180}, 'high': {'url': 'https://i.ytimg.com/vi/mIq7dTCD1to/hqdefault.jpg', 'width': 480, 'height': 360}}, 'channelTitle': '슈카월드', 'liveBroadcastContent': 'none', 'publishTime': '2021-01-16T10:53:53Z'}}\n",
      "{'kind': 'youtube#searchResult', 'etag': 'KyItWi23oqNKPXgJeIC6kGhk1fY', 'id': {'kind': 'youtube#video', 'videoId': 'vhld7q440sQ'}, 'snippet': {'publishedAt': '2021-01-04T10:48:15Z', 'channelId': 'UCsJ6RuBiTVWRX156FVbeaGg', 'title': '불타오르는 컨텐츠 시장과 필사적으로 올라타는 한국기업들', 'description': '어렵고 딱딱한 경제,시사,금융 이야기를 쉽고 유쾌하게 풀어내는 경제/시사/이슈/잡썰 토크방송입니다. #스튜디오드래곤 #넷플릭스.', 'thumbnails': {'default': {'url': 'https://i.ytimg.com/vi/vhld7q440sQ/default.jpg', 'width': 120, 'height': 90}, 'medium': {'url': 'https://i.ytimg.com/vi/vhld7q440sQ/mqdefault.jpg', 'width': 320, 'height': 180}, 'high': {'url': 'https://i.ytimg.com/vi/vhld7q440sQ/hqdefault.jpg', 'width': 480, 'height': 360}}, 'channelTitle': '슈카월드', 'liveBroadcastContent': 'none', 'publishTime': '2021-01-04T10:48:15Z'}}\n",
      "{'kind': 'youtube#searchResult', 'etag': 'WCY7YENVr6LrGJb7_XhqcO_aN60', 'id': {'kind': 'youtube#video', 'videoId': 'oLUvUyeqRSU'}, 'snippet': {'publishedAt': '2020-12-26T08:52:50Z', 'channelId': 'UCsJ6RuBiTVWRX156FVbeaGg', 'title': '옵션, 시간 가치의 무서움. 다시보는 11.11옵션 쇼크 사태', 'description': '어렵고 딱딱한 경제,시사,금융 이야기를 쉽고 유쾌하게 풀어내는 경제/시사/이슈/잡썰 토크방송입니다. #10분에30조원 #증발.', 'thumbnails': {'default': {'url': 'https://i.ytimg.com/vi/oLUvUyeqRSU/default.jpg', 'width': 120, 'height': 90}, 'medium': {'url': 'https://i.ytimg.com/vi/oLUvUyeqRSU/mqdefault.jpg', 'width': 320, 'height': 180}, 'high': {'url': 'https://i.ytimg.com/vi/oLUvUyeqRSU/hqdefault.jpg', 'width': 480, 'height': 360}}, 'channelTitle': '슈카월드', 'liveBroadcastContent': 'none', 'publishTime': '2020-12-26T08:52:50Z'}}\n",
      "{'kind': 'youtube#searchResult', 'etag': 'pBSlA_rOcJWuy9_o7Pdz411-rkc', 'id': {'kind': 'youtube#video', 'videoId': 'tsXrlox4hNU'}, 'snippet': {'publishedAt': '2020-12-25T12:41:22Z', 'channelId': 'UCsJ6RuBiTVWRX156FVbeaGg', 'title': '(쿠키) 크리스마스에 와인 한잔 하는 횡설수설(feat. 중국ㆍ호주 갈등)', 'description': '어렵고 딱딱한 경제,시사,금융 이야기를 쉽고 유쾌하게 풀어내는 경제/시사/이슈/잡썰 토크방송입니다. #와인 #로마네콩티.', 'thumbnails': {'default': {'url': 'https://i.ytimg.com/vi/tsXrlox4hNU/default.jpg', 'width': 120, 'height': 90}, 'medium': {'url': 'https://i.ytimg.com/vi/tsXrlox4hNU/mqdefault.jpg', 'width': 320, 'height': 180}, 'high': {'url': 'https://i.ytimg.com/vi/tsXrlox4hNU/hqdefault.jpg', 'width': 480, 'height': 360}}, 'channelTitle': '슈카월드', 'liveBroadcastContent': 'none', 'publishTime': '2020-12-25T12:41:22Z'}}\n",
      "{'kind': 'youtube#searchResult', 'etag': 'XXhj8i5IVVWMuDcMwr0oWosEUXs', 'id': {'kind': 'youtube#video', 'videoId': '7qobglil1sU'}, 'snippet': {'publishedAt': '2020-12-19T09:50:44Z', 'channelId': 'UCsJ6RuBiTVWRX156FVbeaGg', 'title': '이탈리아의 부패 추방 운동과 정당들의 좌충우돌 (feat. 마피아)', 'description': '어렵고 딱딱한 경제,시사,금융 이야기를 쉽고 유쾌하게 풀어내는 경제/시사/이슈/잡썰 토크방송입니다. #세계사 #마피아.', 'thumbnails': {'default': {'url': 'https://i.ytimg.com/vi/7qobglil1sU/default.jpg', 'width': 120, 'height': 90}, 'medium': {'url': 'https://i.ytimg.com/vi/7qobglil1sU/mqdefault.jpg', 'width': 320, 'height': 180}, 'high': {'url': 'https://i.ytimg.com/vi/7qobglil1sU/hqdefault.jpg', 'width': 480, 'height': 360}}, 'channelTitle': '슈카월드', 'liveBroadcastContent': 'none', 'publishTime': '2020-12-19T09:50:44Z'}}\n",
      "{'kind': 'youtube#searchResult', 'etag': 'wC2AlO29V0WqwID2M1D72Z7xs88', 'id': {'kind': 'youtube#video', 'videoId': 'rKqlP-FvEas'}, 'snippet': {'publishedAt': '2020-12-18T12:52:22Z', 'channelId': 'UCsJ6RuBiTVWRX156FVbeaGg', 'title': '집값을 20배 올려주는 마법의 낙서', 'description': '어렵고 딱딱한 경제,시사,금융 이야기를 쉽고 유쾌하게 풀어내는 경제/시사/이슈/잡썰 토크방송입니다. #뱅크시 #명화.', 'thumbnails': {'default': {'url': 'https://i.ytimg.com/vi/rKqlP-FvEas/default.jpg', 'width': 120, 'height': 90}, 'medium': {'url': 'https://i.ytimg.com/vi/rKqlP-FvEas/mqdefault.jpg', 'width': 320, 'height': 180}, 'high': {'url': 'https://i.ytimg.com/vi/rKqlP-FvEas/hqdefault.jpg', 'width': 480, 'height': 360}}, 'channelTitle': '슈카월드', 'liveBroadcastContent': 'none', 'publishTime': '2020-12-18T12:52:22Z'}}\n"
     ]
    },
    {
     "name": "stdout",
     "output_type": "stream",
     "text": [
      "{'kind': 'youtube#searchResult', 'etag': '6D_IB4_ugL64GRerWuExIINTaPI', 'id': {'kind': 'youtube#video', 'videoId': 'EaLJnmdR5aI'}, 'snippet': {'publishedAt': '2020-12-16T10:31:57Z', 'channelId': 'UCsJ6RuBiTVWRX156FVbeaGg', 'title': '커피 얻어마실 때 있어 보이는 방법 (feat. 커피의 역사)', 'description': '0:00 ~ 10:02 지나온 20년과 새로운 20년 10:02 ~ 25:23 커피 얻어마실 때 있어보이는 방법 어렵고 딱딱한 경제,시사,금융 이야기를 ...', 'thumbnails': {'default': {'url': 'https://i.ytimg.com/vi/EaLJnmdR5aI/default.jpg', 'width': 120, 'height': 90}, 'medium': {'url': 'https://i.ytimg.com/vi/EaLJnmdR5aI/mqdefault.jpg', 'width': 320, 'height': 180}, 'high': {'url': 'https://i.ytimg.com/vi/EaLJnmdR5aI/hqdefault.jpg', 'width': 480, 'height': 360}}, 'channelTitle': '슈카월드', 'liveBroadcastContent': 'none', 'publishTime': '2020-12-16T10:31:57Z'}}\n"
     ]
    }
   ],
   "source": [
    "video_ids = get_videos(api_key, channel_id)"
   ]
  },
  {
   "cell_type": "code",
   "execution_count": 51,
   "id": "2384b968",
   "metadata": {},
   "outputs": [
    {
     "data": {
      "text/plain": [
       "{'kind': 'youtube#video', 'videoId': 'SZD5DbHo2Gk'}"
      ]
     },
     "execution_count": 51,
     "metadata": {},
     "output_type": "execute_result"
    }
   ],
   "source": [
    "(video_ids[0][\"id\"])"
   ]
  },
  {
   "cell_type": "code",
   "execution_count": null,
   "id": "28850fb2",
   "metadata": {},
   "outputs": [],
   "source": [
    "!pip install youtube-transcript-api"
   ]
  },
  {
   "cell_type": "code",
   "execution_count": 41,
   "id": "6080d9e2",
   "metadata": {},
   "outputs": [],
   "source": [
    "from youtube_transcript_api import YouTubeTranscriptApi\n",
    "from youtube_transcript_api.formatters import TextFormatter\n",
    " \n",
    "def get_transcript(id):\n",
    "    print(id)\n",
    "    transcript = YouTubeTranscriptApi.get_transcript(id,\n",
    "                                          languages=['ko'])\n",
    " \n",
    "    formatter = TextFormatter()\n",
    "    formatted = formatter.format_transcript(transcript)\n",
    "    return formatted.replace(\"\\n\", \" \")"
   ]
  },
  {
   "cell_type": "markdown",
   "id": "561e38f7",
   "metadata": {},
   "source": [
    "### Make it to csv"
   ]
  },
  {
   "cell_type": "code",
   "execution_count": 37,
   "id": "b884dcc8",
   "metadata": {},
   "outputs": [],
   "source": [
    "import pandas as pd\n",
    "\n",
    "\n",
    "df = pd.DataFrame()"
   ]
  },
  {
   "cell_type": "code",
   "execution_count": 53,
   "id": "42f2c19f",
   "metadata": {
    "scrolled": true
   },
   "outputs": [
    {
     "name": "stdout",
     "output_type": "stream",
     "text": [
      "1 / 501\n",
      "SZD5DbHo2Gk\n"
     ]
    },
    {
     "name": "stderr",
     "output_type": "stream",
     "text": [
      "C:\\Users\\June\\AppData\\Local\\Temp\\ipykernel_14744\\2112170718.py:14: FutureWarning: The frame.append method is deprecated and will be removed from pandas in a future version. Use pandas.concat instead.\n",
      "  df = df.append(row_dict, ignore_index=True)\n"
     ]
    },
    {
     "name": "stdout",
     "output_type": "stream",
     "text": [
      "2 / 501\n",
      "MoKfteyJtCk\n"
     ]
    },
    {
     "name": "stderr",
     "output_type": "stream",
     "text": [
      "C:\\Users\\June\\AppData\\Local\\Temp\\ipykernel_14744\\2112170718.py:14: FutureWarning: The frame.append method is deprecated and will be removed from pandas in a future version. Use pandas.concat instead.\n",
      "  df = df.append(row_dict, ignore_index=True)\n"
     ]
    },
    {
     "name": "stdout",
     "output_type": "stream",
     "text": [
      "3 / 501\n",
      "gumUNuNOkbA\n"
     ]
    },
    {
     "name": "stderr",
     "output_type": "stream",
     "text": [
      "C:\\Users\\June\\AppData\\Local\\Temp\\ipykernel_14744\\2112170718.py:14: FutureWarning: The frame.append method is deprecated and will be removed from pandas in a future version. Use pandas.concat instead.\n",
      "  df = df.append(row_dict, ignore_index=True)\n"
     ]
    },
    {
     "name": "stdout",
     "output_type": "stream",
     "text": [
      "4 / 501\n",
      "1R-n4wfPt8w\n"
     ]
    },
    {
     "name": "stderr",
     "output_type": "stream",
     "text": [
      "C:\\Users\\June\\AppData\\Local\\Temp\\ipykernel_14744\\2112170718.py:14: FutureWarning: The frame.append method is deprecated and will be removed from pandas in a future version. Use pandas.concat instead.\n",
      "  df = df.append(row_dict, ignore_index=True)\n"
     ]
    },
    {
     "name": "stdout",
     "output_type": "stream",
     "text": [
      "5 / 501\n",
      "jT6fHmDvpRk\n"
     ]
    },
    {
     "name": "stderr",
     "output_type": "stream",
     "text": [
      "C:\\Users\\June\\AppData\\Local\\Temp\\ipykernel_14744\\2112170718.py:14: FutureWarning: The frame.append method is deprecated and will be removed from pandas in a future version. Use pandas.concat instead.\n",
      "  df = df.append(row_dict, ignore_index=True)\n"
     ]
    },
    {
     "name": "stdout",
     "output_type": "stream",
     "text": [
      "6 / 501\n",
      "PLfx6XJl8eo\n"
     ]
    },
    {
     "name": "stderr",
     "output_type": "stream",
     "text": [
      "C:\\Users\\June\\AppData\\Local\\Temp\\ipykernel_14744\\2112170718.py:14: FutureWarning: The frame.append method is deprecated and will be removed from pandas in a future version. Use pandas.concat instead.\n",
      "  df = df.append(row_dict, ignore_index=True)\n"
     ]
    },
    {
     "name": "stdout",
     "output_type": "stream",
     "text": [
      "7 / 501\n",
      "-0OjGHr2DcM\n"
     ]
    },
    {
     "name": "stderr",
     "output_type": "stream",
     "text": [
      "C:\\Users\\June\\AppData\\Local\\Temp\\ipykernel_14744\\2112170718.py:14: FutureWarning: The frame.append method is deprecated and will be removed from pandas in a future version. Use pandas.concat instead.\n",
      "  df = df.append(row_dict, ignore_index=True)\n"
     ]
    },
    {
     "name": "stdout",
     "output_type": "stream",
     "text": [
      "8 / 501\n",
      "jrLJrlicy2Y\n"
     ]
    },
    {
     "name": "stderr",
     "output_type": "stream",
     "text": [
      "C:\\Users\\June\\AppData\\Local\\Temp\\ipykernel_14744\\2112170718.py:14: FutureWarning: The frame.append method is deprecated and will be removed from pandas in a future version. Use pandas.concat instead.\n",
      "  df = df.append(row_dict, ignore_index=True)\n"
     ]
    },
    {
     "name": "stdout",
     "output_type": "stream",
     "text": [
      "9 / 501\n",
      "WxvVpzc9mgU\n"
     ]
    },
    {
     "name": "stderr",
     "output_type": "stream",
     "text": [
      "C:\\Users\\June\\AppData\\Local\\Temp\\ipykernel_14744\\2112170718.py:14: FutureWarning: The frame.append method is deprecated and will be removed from pandas in a future version. Use pandas.concat instead.\n",
      "  df = df.append(row_dict, ignore_index=True)\n"
     ]
    },
    {
     "name": "stdout",
     "output_type": "stream",
     "text": [
      "10 / 501\n",
      "TdL3eYERx5M\n"
     ]
    },
    {
     "name": "stderr",
     "output_type": "stream",
     "text": [
      "C:\\Users\\June\\AppData\\Local\\Temp\\ipykernel_14744\\2112170718.py:14: FutureWarning: The frame.append method is deprecated and will be removed from pandas in a future version. Use pandas.concat instead.\n",
      "  df = df.append(row_dict, ignore_index=True)\n"
     ]
    },
    {
     "name": "stdout",
     "output_type": "stream",
     "text": [
      "11 / 501\n",
      "xX8ZwBTAwxM\n"
     ]
    },
    {
     "name": "stderr",
     "output_type": "stream",
     "text": [
      "C:\\Users\\June\\AppData\\Local\\Temp\\ipykernel_14744\\2112170718.py:14: FutureWarning: The frame.append method is deprecated and will be removed from pandas in a future version. Use pandas.concat instead.\n",
      "  df = df.append(row_dict, ignore_index=True)\n"
     ]
    },
    {
     "name": "stdout",
     "output_type": "stream",
     "text": [
      "12 / 501\n",
      "8mMMMlcGYM0\n"
     ]
    },
    {
     "name": "stderr",
     "output_type": "stream",
     "text": [
      "C:\\Users\\June\\AppData\\Local\\Temp\\ipykernel_14744\\2112170718.py:14: FutureWarning: The frame.append method is deprecated and will be removed from pandas in a future version. Use pandas.concat instead.\n",
      "  df = df.append(row_dict, ignore_index=True)\n"
     ]
    },
    {
     "name": "stdout",
     "output_type": "stream",
     "text": [
      "13 / 501\n",
      "gWkkxSWB1iQ\n"
     ]
    },
    {
     "name": "stderr",
     "output_type": "stream",
     "text": [
      "C:\\Users\\June\\AppData\\Local\\Temp\\ipykernel_14744\\2112170718.py:14: FutureWarning: The frame.append method is deprecated and will be removed from pandas in a future version. Use pandas.concat instead.\n",
      "  df = df.append(row_dict, ignore_index=True)\n"
     ]
    },
    {
     "name": "stdout",
     "output_type": "stream",
     "text": [
      "14 / 501\n",
      "mSEbRa3QfCc\n"
     ]
    },
    {
     "name": "stderr",
     "output_type": "stream",
     "text": [
      "C:\\Users\\June\\AppData\\Local\\Temp\\ipykernel_14744\\2112170718.py:14: FutureWarning: The frame.append method is deprecated and will be removed from pandas in a future version. Use pandas.concat instead.\n",
      "  df = df.append(row_dict, ignore_index=True)\n"
     ]
    },
    {
     "name": "stdout",
     "output_type": "stream",
     "text": [
      "15 / 501\n",
      "axeIPBrBHLs\n"
     ]
    },
    {
     "name": "stderr",
     "output_type": "stream",
     "text": [
      "C:\\Users\\June\\AppData\\Local\\Temp\\ipykernel_14744\\2112170718.py:14: FutureWarning: The frame.append method is deprecated and will be removed from pandas in a future version. Use pandas.concat instead.\n",
      "  df = df.append(row_dict, ignore_index=True)\n"
     ]
    },
    {
     "name": "stdout",
     "output_type": "stream",
     "text": [
      "16 / 501\n",
      "DFX8WyKeaeE\n"
     ]
    },
    {
     "name": "stderr",
     "output_type": "stream",
     "text": [
      "C:\\Users\\June\\AppData\\Local\\Temp\\ipykernel_14744\\2112170718.py:14: FutureWarning: The frame.append method is deprecated and will be removed from pandas in a future version. Use pandas.concat instead.\n",
      "  df = df.append(row_dict, ignore_index=True)\n"
     ]
    },
    {
     "name": "stdout",
     "output_type": "stream",
     "text": [
      "17 / 501\n",
      "fVEKIewD8ys\n"
     ]
    },
    {
     "name": "stderr",
     "output_type": "stream",
     "text": [
      "C:\\Users\\June\\AppData\\Local\\Temp\\ipykernel_14744\\2112170718.py:14: FutureWarning: The frame.append method is deprecated and will be removed from pandas in a future version. Use pandas.concat instead.\n",
      "  df = df.append(row_dict, ignore_index=True)\n"
     ]
    },
    {
     "name": "stdout",
     "output_type": "stream",
     "text": [
      "18 / 501\n",
      "qXQoDh4sgq4\n"
     ]
    },
    {
     "name": "stderr",
     "output_type": "stream",
     "text": [
      "C:\\Users\\June\\AppData\\Local\\Temp\\ipykernel_14744\\2112170718.py:14: FutureWarning: The frame.append method is deprecated and will be removed from pandas in a future version. Use pandas.concat instead.\n",
      "  df = df.append(row_dict, ignore_index=True)\n"
     ]
    },
    {
     "name": "stdout",
     "output_type": "stream",
     "text": [
      "19 / 501\n",
      "AxBs1x8wDa8\n"
     ]
    },
    {
     "name": "stderr",
     "output_type": "stream",
     "text": [
      "C:\\Users\\June\\AppData\\Local\\Temp\\ipykernel_14744\\2112170718.py:14: FutureWarning: The frame.append method is deprecated and will be removed from pandas in a future version. Use pandas.concat instead.\n",
      "  df = df.append(row_dict, ignore_index=True)\n"
     ]
    },
    {
     "name": "stdout",
     "output_type": "stream",
     "text": [
      "20 / 501\n",
      "Qub3rxJ6UmE\n"
     ]
    },
    {
     "name": "stderr",
     "output_type": "stream",
     "text": [
      "C:\\Users\\June\\AppData\\Local\\Temp\\ipykernel_14744\\2112170718.py:14: FutureWarning: The frame.append method is deprecated and will be removed from pandas in a future version. Use pandas.concat instead.\n",
      "  df = df.append(row_dict, ignore_index=True)\n"
     ]
    },
    {
     "name": "stdout",
     "output_type": "stream",
     "text": [
      "21 / 501\n",
      "4RyUx3Q_ne8\n"
     ]
    },
    {
     "name": "stderr",
     "output_type": "stream",
     "text": [
      "C:\\Users\\June\\AppData\\Local\\Temp\\ipykernel_14744\\2112170718.py:14: FutureWarning: The frame.append method is deprecated and will be removed from pandas in a future version. Use pandas.concat instead.\n",
      "  df = df.append(row_dict, ignore_index=True)\n"
     ]
    },
    {
     "name": "stdout",
     "output_type": "stream",
     "text": [
      "22 / 501\n",
      "JKQdunBezm4\n"
     ]
    },
    {
     "name": "stderr",
     "output_type": "stream",
     "text": [
      "C:\\Users\\June\\AppData\\Local\\Temp\\ipykernel_14744\\2112170718.py:14: FutureWarning: The frame.append method is deprecated and will be removed from pandas in a future version. Use pandas.concat instead.\n",
      "  df = df.append(row_dict, ignore_index=True)\n"
     ]
    },
    {
     "name": "stdout",
     "output_type": "stream",
     "text": [
      "23 / 501\n",
      "c_qPkgoJKWE\n"
     ]
    },
    {
     "name": "stderr",
     "output_type": "stream",
     "text": [
      "C:\\Users\\June\\AppData\\Local\\Temp\\ipykernel_14744\\2112170718.py:14: FutureWarning: The frame.append method is deprecated and will be removed from pandas in a future version. Use pandas.concat instead.\n",
      "  df = df.append(row_dict, ignore_index=True)\n"
     ]
    },
    {
     "name": "stdout",
     "output_type": "stream",
     "text": [
      "24 / 501\n",
      "nefoI5x3LXA\n"
     ]
    },
    {
     "name": "stderr",
     "output_type": "stream",
     "text": [
      "C:\\Users\\June\\AppData\\Local\\Temp\\ipykernel_14744\\2112170718.py:14: FutureWarning: The frame.append method is deprecated and will be removed from pandas in a future version. Use pandas.concat instead.\n",
      "  df = df.append(row_dict, ignore_index=True)\n"
     ]
    },
    {
     "name": "stdout",
     "output_type": "stream",
     "text": [
      "25 / 501\n",
      "N6ID_2J9rBg\n"
     ]
    },
    {
     "name": "stderr",
     "output_type": "stream",
     "text": [
      "C:\\Users\\June\\AppData\\Local\\Temp\\ipykernel_14744\\2112170718.py:14: FutureWarning: The frame.append method is deprecated and will be removed from pandas in a future version. Use pandas.concat instead.\n",
      "  df = df.append(row_dict, ignore_index=True)\n"
     ]
    },
    {
     "name": "stdout",
     "output_type": "stream",
     "text": [
      "26 / 501\n",
      "k-v7x6ezvxw\n"
     ]
    },
    {
     "name": "stderr",
     "output_type": "stream",
     "text": [
      "C:\\Users\\June\\AppData\\Local\\Temp\\ipykernel_14744\\2112170718.py:14: FutureWarning: The frame.append method is deprecated and will be removed from pandas in a future version. Use pandas.concat instead.\n",
      "  df = df.append(row_dict, ignore_index=True)\n"
     ]
    },
    {
     "name": "stdout",
     "output_type": "stream",
     "text": [
      "27 / 501\n",
      "q08CAF4iERY\n"
     ]
    },
    {
     "name": "stderr",
     "output_type": "stream",
     "text": [
      "C:\\Users\\June\\AppData\\Local\\Temp\\ipykernel_14744\\2112170718.py:14: FutureWarning: The frame.append method is deprecated and will be removed from pandas in a future version. Use pandas.concat instead.\n",
      "  df = df.append(row_dict, ignore_index=True)\n"
     ]
    },
    {
     "name": "stdout",
     "output_type": "stream",
     "text": [
      "28 / 501\n",
      "mDZNcmO5yTc\n"
     ]
    },
    {
     "name": "stderr",
     "output_type": "stream",
     "text": [
      "C:\\Users\\June\\AppData\\Local\\Temp\\ipykernel_14744\\2112170718.py:14: FutureWarning: The frame.append method is deprecated and will be removed from pandas in a future version. Use pandas.concat instead.\n",
      "  df = df.append(row_dict, ignore_index=True)\n"
     ]
    },
    {
     "name": "stdout",
     "output_type": "stream",
     "text": [
      "29 / 501\n",
      "dei3jZJ-UMg\n"
     ]
    },
    {
     "name": "stderr",
     "output_type": "stream",
     "text": [
      "C:\\Users\\June\\AppData\\Local\\Temp\\ipykernel_14744\\2112170718.py:14: FutureWarning: The frame.append method is deprecated and will be removed from pandas in a future version. Use pandas.concat instead.\n",
      "  df = df.append(row_dict, ignore_index=True)\n"
     ]
    },
    {
     "name": "stdout",
     "output_type": "stream",
     "text": [
      "30 / 501\n",
      "HdH0nEfsw7U\n"
     ]
    },
    {
     "name": "stderr",
     "output_type": "stream",
     "text": [
      "C:\\Users\\June\\AppData\\Local\\Temp\\ipykernel_14744\\2112170718.py:14: FutureWarning: The frame.append method is deprecated and will be removed from pandas in a future version. Use pandas.concat instead.\n",
      "  df = df.append(row_dict, ignore_index=True)\n"
     ]
    },
    {
     "name": "stdout",
     "output_type": "stream",
     "text": [
      "31 / 501\n",
      "cjifVf9XKm0\n"
     ]
    },
    {
     "name": "stderr",
     "output_type": "stream",
     "text": [
      "C:\\Users\\June\\AppData\\Local\\Temp\\ipykernel_14744\\2112170718.py:14: FutureWarning: The frame.append method is deprecated and will be removed from pandas in a future version. Use pandas.concat instead.\n",
      "  df = df.append(row_dict, ignore_index=True)\n"
     ]
    },
    {
     "name": "stdout",
     "output_type": "stream",
     "text": [
      "32 / 501\n",
      "0J7HpN-7E_o\n"
     ]
    },
    {
     "name": "stderr",
     "output_type": "stream",
     "text": [
      "C:\\Users\\June\\AppData\\Local\\Temp\\ipykernel_14744\\2112170718.py:14: FutureWarning: The frame.append method is deprecated and will be removed from pandas in a future version. Use pandas.concat instead.\n",
      "  df = df.append(row_dict, ignore_index=True)\n"
     ]
    },
    {
     "name": "stdout",
     "output_type": "stream",
     "text": [
      "33 / 501\n",
      "tub0-HxhQC0\n"
     ]
    },
    {
     "name": "stderr",
     "output_type": "stream",
     "text": [
      "C:\\Users\\June\\AppData\\Local\\Temp\\ipykernel_14744\\2112170718.py:14: FutureWarning: The frame.append method is deprecated and will be removed from pandas in a future version. Use pandas.concat instead.\n",
      "  df = df.append(row_dict, ignore_index=True)\n"
     ]
    },
    {
     "name": "stdout",
     "output_type": "stream",
     "text": [
      "34 / 501\n",
      "P7__22-yJDM\n"
     ]
    },
    {
     "name": "stderr",
     "output_type": "stream",
     "text": [
      "C:\\Users\\June\\AppData\\Local\\Temp\\ipykernel_14744\\2112170718.py:14: FutureWarning: The frame.append method is deprecated and will be removed from pandas in a future version. Use pandas.concat instead.\n",
      "  df = df.append(row_dict, ignore_index=True)\n"
     ]
    },
    {
     "name": "stdout",
     "output_type": "stream",
     "text": [
      "35 / 501\n",
      "oRLxVZS_eXc\n"
     ]
    },
    {
     "name": "stderr",
     "output_type": "stream",
     "text": [
      "C:\\Users\\June\\AppData\\Local\\Temp\\ipykernel_14744\\2112170718.py:14: FutureWarning: The frame.append method is deprecated and will be removed from pandas in a future version. Use pandas.concat instead.\n",
      "  df = df.append(row_dict, ignore_index=True)\n"
     ]
    },
    {
     "name": "stdout",
     "output_type": "stream",
     "text": [
      "36 / 501\n",
      "Ft0dNrMy5yg\n"
     ]
    },
    {
     "name": "stderr",
     "output_type": "stream",
     "text": [
      "C:\\Users\\June\\AppData\\Local\\Temp\\ipykernel_14744\\2112170718.py:14: FutureWarning: The frame.append method is deprecated and will be removed from pandas in a future version. Use pandas.concat instead.\n",
      "  df = df.append(row_dict, ignore_index=True)\n"
     ]
    },
    {
     "name": "stdout",
     "output_type": "stream",
     "text": [
      "37 / 501\n",
      "zuDkvHU477g\n"
     ]
    },
    {
     "name": "stderr",
     "output_type": "stream",
     "text": [
      "C:\\Users\\June\\AppData\\Local\\Temp\\ipykernel_14744\\2112170718.py:14: FutureWarning: The frame.append method is deprecated and will be removed from pandas in a future version. Use pandas.concat instead.\n",
      "  df = df.append(row_dict, ignore_index=True)\n"
     ]
    },
    {
     "name": "stdout",
     "output_type": "stream",
     "text": [
      "38 / 501\n",
      "cy1J9MzV1yI\n"
     ]
    },
    {
     "name": "stderr",
     "output_type": "stream",
     "text": [
      "C:\\Users\\June\\AppData\\Local\\Temp\\ipykernel_14744\\2112170718.py:14: FutureWarning: The frame.append method is deprecated and will be removed from pandas in a future version. Use pandas.concat instead.\n",
      "  df = df.append(row_dict, ignore_index=True)\n"
     ]
    },
    {
     "name": "stdout",
     "output_type": "stream",
     "text": [
      "39 / 501\n",
      "8pB3Lwv01rE\n"
     ]
    },
    {
     "name": "stderr",
     "output_type": "stream",
     "text": [
      "C:\\Users\\June\\AppData\\Local\\Temp\\ipykernel_14744\\2112170718.py:14: FutureWarning: The frame.append method is deprecated and will be removed from pandas in a future version. Use pandas.concat instead.\n",
      "  df = df.append(row_dict, ignore_index=True)\n"
     ]
    },
    {
     "name": "stdout",
     "output_type": "stream",
     "text": [
      "40 / 501\n",
      "A38uOpTVHj4\n"
     ]
    },
    {
     "name": "stderr",
     "output_type": "stream",
     "text": [
      "C:\\Users\\June\\AppData\\Local\\Temp\\ipykernel_14744\\2112170718.py:14: FutureWarning: The frame.append method is deprecated and will be removed from pandas in a future version. Use pandas.concat instead.\n",
      "  df = df.append(row_dict, ignore_index=True)\n"
     ]
    },
    {
     "name": "stdout",
     "output_type": "stream",
     "text": [
      "41 / 501\n",
      "sHv7ks_ZmEE\n"
     ]
    },
    {
     "name": "stderr",
     "output_type": "stream",
     "text": [
      "C:\\Users\\June\\AppData\\Local\\Temp\\ipykernel_14744\\2112170718.py:14: FutureWarning: The frame.append method is deprecated and will be removed from pandas in a future version. Use pandas.concat instead.\n",
      "  df = df.append(row_dict, ignore_index=True)\n"
     ]
    },
    {
     "name": "stdout",
     "output_type": "stream",
     "text": [
      "42 / 501\n",
      "rhQB7wzeosk\n"
     ]
    },
    {
     "name": "stderr",
     "output_type": "stream",
     "text": [
      "C:\\Users\\June\\AppData\\Local\\Temp\\ipykernel_14744\\2112170718.py:14: FutureWarning: The frame.append method is deprecated and will be removed from pandas in a future version. Use pandas.concat instead.\n",
      "  df = df.append(row_dict, ignore_index=True)\n"
     ]
    },
    {
     "name": "stdout",
     "output_type": "stream",
     "text": [
      "43 / 501\n",
      "GjvOaSaJtw4\n"
     ]
    },
    {
     "name": "stderr",
     "output_type": "stream",
     "text": [
      "C:\\Users\\June\\AppData\\Local\\Temp\\ipykernel_14744\\2112170718.py:14: FutureWarning: The frame.append method is deprecated and will be removed from pandas in a future version. Use pandas.concat instead.\n",
      "  df = df.append(row_dict, ignore_index=True)\n"
     ]
    },
    {
     "name": "stdout",
     "output_type": "stream",
     "text": [
      "44 / 501\n",
      "pZyOi0KC2ho\n"
     ]
    },
    {
     "name": "stderr",
     "output_type": "stream",
     "text": [
      "C:\\Users\\June\\AppData\\Local\\Temp\\ipykernel_14744\\2112170718.py:14: FutureWarning: The frame.append method is deprecated and will be removed from pandas in a future version. Use pandas.concat instead.\n",
      "  df = df.append(row_dict, ignore_index=True)\n"
     ]
    },
    {
     "name": "stdout",
     "output_type": "stream",
     "text": [
      "45 / 501\n",
      "f5lKywJm5dQ\n"
     ]
    },
    {
     "name": "stderr",
     "output_type": "stream",
     "text": [
      "C:\\Users\\June\\AppData\\Local\\Temp\\ipykernel_14744\\2112170718.py:14: FutureWarning: The frame.append method is deprecated and will be removed from pandas in a future version. Use pandas.concat instead.\n",
      "  df = df.append(row_dict, ignore_index=True)\n"
     ]
    },
    {
     "name": "stdout",
     "output_type": "stream",
     "text": [
      "46 / 501\n",
      "Z6UHlW_SE9E\n"
     ]
    },
    {
     "name": "stderr",
     "output_type": "stream",
     "text": [
      "C:\\Users\\June\\AppData\\Local\\Temp\\ipykernel_14744\\2112170718.py:14: FutureWarning: The frame.append method is deprecated and will be removed from pandas in a future version. Use pandas.concat instead.\n",
      "  df = df.append(row_dict, ignore_index=True)\n"
     ]
    },
    {
     "name": "stdout",
     "output_type": "stream",
     "text": [
      "47 / 501\n",
      "bO96Pvd8jx0\n"
     ]
    },
    {
     "name": "stderr",
     "output_type": "stream",
     "text": [
      "C:\\Users\\June\\AppData\\Local\\Temp\\ipykernel_14744\\2112170718.py:14: FutureWarning: The frame.append method is deprecated and will be removed from pandas in a future version. Use pandas.concat instead.\n",
      "  df = df.append(row_dict, ignore_index=True)\n"
     ]
    },
    {
     "name": "stdout",
     "output_type": "stream",
     "text": [
      "48 / 501\n",
      "MBcEW7Gp1Pw\n"
     ]
    },
    {
     "name": "stderr",
     "output_type": "stream",
     "text": [
      "C:\\Users\\June\\AppData\\Local\\Temp\\ipykernel_14744\\2112170718.py:14: FutureWarning: The frame.append method is deprecated and will be removed from pandas in a future version. Use pandas.concat instead.\n",
      "  df = df.append(row_dict, ignore_index=True)\n"
     ]
    },
    {
     "name": "stdout",
     "output_type": "stream",
     "text": [
      "49 / 501\n",
      "vHnHXrjoT7c\n"
     ]
    },
    {
     "name": "stderr",
     "output_type": "stream",
     "text": [
      "C:\\Users\\June\\AppData\\Local\\Temp\\ipykernel_14744\\2112170718.py:14: FutureWarning: The frame.append method is deprecated and will be removed from pandas in a future version. Use pandas.concat instead.\n",
      "  df = df.append(row_dict, ignore_index=True)\n"
     ]
    },
    {
     "name": "stdout",
     "output_type": "stream",
     "text": [
      "50 / 501\n",
      "sln1Bqw5k0U\n"
     ]
    },
    {
     "name": "stderr",
     "output_type": "stream",
     "text": [
      "C:\\Users\\June\\AppData\\Local\\Temp\\ipykernel_14744\\2112170718.py:14: FutureWarning: The frame.append method is deprecated and will be removed from pandas in a future version. Use pandas.concat instead.\n",
      "  df = df.append(row_dict, ignore_index=True)\n"
     ]
    },
    {
     "name": "stdout",
     "output_type": "stream",
     "text": [
      "51 / 501\n",
      "vFRbuRWkVTM\n"
     ]
    },
    {
     "name": "stderr",
     "output_type": "stream",
     "text": [
      "C:\\Users\\June\\AppData\\Local\\Temp\\ipykernel_14744\\2112170718.py:14: FutureWarning: The frame.append method is deprecated and will be removed from pandas in a future version. Use pandas.concat instead.\n",
      "  df = df.append(row_dict, ignore_index=True)\n"
     ]
    },
    {
     "name": "stdout",
     "output_type": "stream",
     "text": [
      "52 / 501\n",
      "t670RRLx7kw\n"
     ]
    },
    {
     "name": "stderr",
     "output_type": "stream",
     "text": [
      "C:\\Users\\June\\AppData\\Local\\Temp\\ipykernel_14744\\2112170718.py:14: FutureWarning: The frame.append method is deprecated and will be removed from pandas in a future version. Use pandas.concat instead.\n",
      "  df = df.append(row_dict, ignore_index=True)\n"
     ]
    },
    {
     "name": "stdout",
     "output_type": "stream",
     "text": [
      "53 / 501\n",
      "rXm1DDZcW7I\n"
     ]
    },
    {
     "name": "stderr",
     "output_type": "stream",
     "text": [
      "C:\\Users\\June\\AppData\\Local\\Temp\\ipykernel_14744\\2112170718.py:14: FutureWarning: The frame.append method is deprecated and will be removed from pandas in a future version. Use pandas.concat instead.\n",
      "  df = df.append(row_dict, ignore_index=True)\n"
     ]
    },
    {
     "name": "stdout",
     "output_type": "stream",
     "text": [
      "54 / 501\n",
      "sU8DRDEG86o\n"
     ]
    },
    {
     "name": "stderr",
     "output_type": "stream",
     "text": [
      "C:\\Users\\June\\AppData\\Local\\Temp\\ipykernel_14744\\2112170718.py:14: FutureWarning: The frame.append method is deprecated and will be removed from pandas in a future version. Use pandas.concat instead.\n",
      "  df = df.append(row_dict, ignore_index=True)\n"
     ]
    },
    {
     "name": "stdout",
     "output_type": "stream",
     "text": [
      "55 / 501\n",
      "fSjRuMC8Tws\n"
     ]
    },
    {
     "name": "stderr",
     "output_type": "stream",
     "text": [
      "C:\\Users\\June\\AppData\\Local\\Temp\\ipykernel_14744\\2112170718.py:14: FutureWarning: The frame.append method is deprecated and will be removed from pandas in a future version. Use pandas.concat instead.\n",
      "  df = df.append(row_dict, ignore_index=True)\n"
     ]
    },
    {
     "name": "stdout",
     "output_type": "stream",
     "text": [
      "56 / 501\n",
      "eYTGN1JUVoQ\n"
     ]
    },
    {
     "name": "stderr",
     "output_type": "stream",
     "text": [
      "C:\\Users\\June\\AppData\\Local\\Temp\\ipykernel_14744\\2112170718.py:14: FutureWarning: The frame.append method is deprecated and will be removed from pandas in a future version. Use pandas.concat instead.\n",
      "  df = df.append(row_dict, ignore_index=True)\n"
     ]
    },
    {
     "name": "stdout",
     "output_type": "stream",
     "text": [
      "57 / 501\n",
      "76NunQMTJMc\n"
     ]
    },
    {
     "name": "stderr",
     "output_type": "stream",
     "text": [
      "C:\\Users\\June\\AppData\\Local\\Temp\\ipykernel_14744\\2112170718.py:14: FutureWarning: The frame.append method is deprecated and will be removed from pandas in a future version. Use pandas.concat instead.\n",
      "  df = df.append(row_dict, ignore_index=True)\n"
     ]
    },
    {
     "name": "stdout",
     "output_type": "stream",
     "text": [
      "58 / 501\n",
      "whsdMqj1JYQ\n"
     ]
    },
    {
     "name": "stderr",
     "output_type": "stream",
     "text": [
      "C:\\Users\\June\\AppData\\Local\\Temp\\ipykernel_14744\\2112170718.py:14: FutureWarning: The frame.append method is deprecated and will be removed from pandas in a future version. Use pandas.concat instead.\n",
      "  df = df.append(row_dict, ignore_index=True)\n"
     ]
    },
    {
     "name": "stdout",
     "output_type": "stream",
     "text": [
      "59 / 501\n",
      "m05Vw5Qhaxs\n"
     ]
    },
    {
     "name": "stderr",
     "output_type": "stream",
     "text": [
      "C:\\Users\\June\\AppData\\Local\\Temp\\ipykernel_14744\\2112170718.py:14: FutureWarning: The frame.append method is deprecated and will be removed from pandas in a future version. Use pandas.concat instead.\n",
      "  df = df.append(row_dict, ignore_index=True)\n"
     ]
    },
    {
     "name": "stdout",
     "output_type": "stream",
     "text": [
      "60 / 501\n",
      "WohmjyDLiVg\n"
     ]
    },
    {
     "name": "stderr",
     "output_type": "stream",
     "text": [
      "C:\\Users\\June\\AppData\\Local\\Temp\\ipykernel_14744\\2112170718.py:14: FutureWarning: The frame.append method is deprecated and will be removed from pandas in a future version. Use pandas.concat instead.\n",
      "  df = df.append(row_dict, ignore_index=True)\n"
     ]
    },
    {
     "name": "stdout",
     "output_type": "stream",
     "text": [
      "61 / 501\n",
      "jqAi5Qnj3KY\n"
     ]
    },
    {
     "name": "stderr",
     "output_type": "stream",
     "text": [
      "C:\\Users\\June\\AppData\\Local\\Temp\\ipykernel_14744\\2112170718.py:14: FutureWarning: The frame.append method is deprecated and will be removed from pandas in a future version. Use pandas.concat instead.\n",
      "  df = df.append(row_dict, ignore_index=True)\n"
     ]
    },
    {
     "name": "stdout",
     "output_type": "stream",
     "text": [
      "62 / 501\n",
      "EXNvRul-4Tk\n"
     ]
    },
    {
     "name": "stderr",
     "output_type": "stream",
     "text": [
      "C:\\Users\\June\\AppData\\Local\\Temp\\ipykernel_14744\\2112170718.py:14: FutureWarning: The frame.append method is deprecated and will be removed from pandas in a future version. Use pandas.concat instead.\n",
      "  df = df.append(row_dict, ignore_index=True)\n"
     ]
    },
    {
     "name": "stdout",
     "output_type": "stream",
     "text": [
      "63 / 501\n",
      "IGB8czwm9-w\n"
     ]
    },
    {
     "name": "stderr",
     "output_type": "stream",
     "text": [
      "C:\\Users\\June\\AppData\\Local\\Temp\\ipykernel_14744\\2112170718.py:14: FutureWarning: The frame.append method is deprecated and will be removed from pandas in a future version. Use pandas.concat instead.\n",
      "  df = df.append(row_dict, ignore_index=True)\n"
     ]
    },
    {
     "name": "stdout",
     "output_type": "stream",
     "text": [
      "64 / 501\n",
      "pSwRhoVQM8Y\n"
     ]
    },
    {
     "name": "stderr",
     "output_type": "stream",
     "text": [
      "C:\\Users\\June\\AppData\\Local\\Temp\\ipykernel_14744\\2112170718.py:14: FutureWarning: The frame.append method is deprecated and will be removed from pandas in a future version. Use pandas.concat instead.\n",
      "  df = df.append(row_dict, ignore_index=True)\n"
     ]
    },
    {
     "name": "stdout",
     "output_type": "stream",
     "text": [
      "65 / 501\n",
      "CCDsAC0-XQc\n"
     ]
    },
    {
     "name": "stderr",
     "output_type": "stream",
     "text": [
      "C:\\Users\\June\\AppData\\Local\\Temp\\ipykernel_14744\\2112170718.py:14: FutureWarning: The frame.append method is deprecated and will be removed from pandas in a future version. Use pandas.concat instead.\n",
      "  df = df.append(row_dict, ignore_index=True)\n"
     ]
    },
    {
     "name": "stdout",
     "output_type": "stream",
     "text": [
      "66 / 501\n",
      "sruC4aX-dZ0\n"
     ]
    },
    {
     "name": "stderr",
     "output_type": "stream",
     "text": [
      "C:\\Users\\June\\AppData\\Local\\Temp\\ipykernel_14744\\2112170718.py:14: FutureWarning: The frame.append method is deprecated and will be removed from pandas in a future version. Use pandas.concat instead.\n",
      "  df = df.append(row_dict, ignore_index=True)\n"
     ]
    },
    {
     "name": "stdout",
     "output_type": "stream",
     "text": [
      "67 / 501\n",
      "z9NhFqGs4Yk\n"
     ]
    },
    {
     "name": "stderr",
     "output_type": "stream",
     "text": [
      "C:\\Users\\June\\AppData\\Local\\Temp\\ipykernel_14744\\2112170718.py:14: FutureWarning: The frame.append method is deprecated and will be removed from pandas in a future version. Use pandas.concat instead.\n",
      "  df = df.append(row_dict, ignore_index=True)\n"
     ]
    },
    {
     "name": "stdout",
     "output_type": "stream",
     "text": [
      "68 / 501\n",
      "AXdwXeMQiL0\n"
     ]
    },
    {
     "name": "stderr",
     "output_type": "stream",
     "text": [
      "C:\\Users\\June\\AppData\\Local\\Temp\\ipykernel_14744\\2112170718.py:14: FutureWarning: The frame.append method is deprecated and will be removed from pandas in a future version. Use pandas.concat instead.\n",
      "  df = df.append(row_dict, ignore_index=True)\n"
     ]
    },
    {
     "name": "stdout",
     "output_type": "stream",
     "text": [
      "69 / 501\n",
      "5hMsY35Qo1o\n"
     ]
    },
    {
     "name": "stderr",
     "output_type": "stream",
     "text": [
      "C:\\Users\\June\\AppData\\Local\\Temp\\ipykernel_14744\\2112170718.py:14: FutureWarning: The frame.append method is deprecated and will be removed from pandas in a future version. Use pandas.concat instead.\n",
      "  df = df.append(row_dict, ignore_index=True)\n"
     ]
    },
    {
     "name": "stdout",
     "output_type": "stream",
     "text": [
      "70 / 501\n",
      "VLOEPFehehA\n"
     ]
    },
    {
     "name": "stderr",
     "output_type": "stream",
     "text": [
      "C:\\Users\\June\\AppData\\Local\\Temp\\ipykernel_14744\\2112170718.py:14: FutureWarning: The frame.append method is deprecated and will be removed from pandas in a future version. Use pandas.concat instead.\n",
      "  df = df.append(row_dict, ignore_index=True)\n"
     ]
    },
    {
     "name": "stdout",
     "output_type": "stream",
     "text": [
      "71 / 501\n",
      "v9hpFhBr9Uw\n"
     ]
    },
    {
     "name": "stderr",
     "output_type": "stream",
     "text": [
      "C:\\Users\\June\\AppData\\Local\\Temp\\ipykernel_14744\\2112170718.py:14: FutureWarning: The frame.append method is deprecated and will be removed from pandas in a future version. Use pandas.concat instead.\n",
      "  df = df.append(row_dict, ignore_index=True)\n"
     ]
    },
    {
     "name": "stdout",
     "output_type": "stream",
     "text": [
      "72 / 501\n",
      "UFAgxZ5DNvw\n"
     ]
    },
    {
     "name": "stderr",
     "output_type": "stream",
     "text": [
      "C:\\Users\\June\\AppData\\Local\\Temp\\ipykernel_14744\\2112170718.py:14: FutureWarning: The frame.append method is deprecated and will be removed from pandas in a future version. Use pandas.concat instead.\n",
      "  df = df.append(row_dict, ignore_index=True)\n"
     ]
    },
    {
     "name": "stdout",
     "output_type": "stream",
     "text": [
      "73 / 501\n",
      "i6oLlZ-zfNc\n"
     ]
    },
    {
     "name": "stderr",
     "output_type": "stream",
     "text": [
      "C:\\Users\\June\\AppData\\Local\\Temp\\ipykernel_14744\\2112170718.py:14: FutureWarning: The frame.append method is deprecated and will be removed from pandas in a future version. Use pandas.concat instead.\n",
      "  df = df.append(row_dict, ignore_index=True)\n"
     ]
    },
    {
     "name": "stdout",
     "output_type": "stream",
     "text": [
      "74 / 501\n",
      "7pm7p4WI3fs\n"
     ]
    },
    {
     "name": "stderr",
     "output_type": "stream",
     "text": [
      "C:\\Users\\June\\AppData\\Local\\Temp\\ipykernel_14744\\2112170718.py:14: FutureWarning: The frame.append method is deprecated and will be removed from pandas in a future version. Use pandas.concat instead.\n",
      "  df = df.append(row_dict, ignore_index=True)\n"
     ]
    },
    {
     "name": "stdout",
     "output_type": "stream",
     "text": [
      "75 / 501\n",
      "751pwfZ_0aI\n"
     ]
    },
    {
     "name": "stderr",
     "output_type": "stream",
     "text": [
      "C:\\Users\\June\\AppData\\Local\\Temp\\ipykernel_14744\\2112170718.py:14: FutureWarning: The frame.append method is deprecated and will be removed from pandas in a future version. Use pandas.concat instead.\n",
      "  df = df.append(row_dict, ignore_index=True)\n"
     ]
    },
    {
     "name": "stdout",
     "output_type": "stream",
     "text": [
      "76 / 501\n",
      "UUqsXSrkl_g\n"
     ]
    },
    {
     "name": "stderr",
     "output_type": "stream",
     "text": [
      "C:\\Users\\June\\AppData\\Local\\Temp\\ipykernel_14744\\2112170718.py:14: FutureWarning: The frame.append method is deprecated and will be removed from pandas in a future version. Use pandas.concat instead.\n",
      "  df = df.append(row_dict, ignore_index=True)\n"
     ]
    },
    {
     "name": "stdout",
     "output_type": "stream",
     "text": [
      "77 / 501\n",
      "pltJO57HeFU\n"
     ]
    },
    {
     "name": "stderr",
     "output_type": "stream",
     "text": [
      "C:\\Users\\June\\AppData\\Local\\Temp\\ipykernel_14744\\2112170718.py:14: FutureWarning: The frame.append method is deprecated and will be removed from pandas in a future version. Use pandas.concat instead.\n",
      "  df = df.append(row_dict, ignore_index=True)\n"
     ]
    },
    {
     "name": "stdout",
     "output_type": "stream",
     "text": [
      "78 / 501\n",
      "W2FRfMPuQ0U\n"
     ]
    },
    {
     "name": "stderr",
     "output_type": "stream",
     "text": [
      "C:\\Users\\June\\AppData\\Local\\Temp\\ipykernel_14744\\2112170718.py:14: FutureWarning: The frame.append method is deprecated and will be removed from pandas in a future version. Use pandas.concat instead.\n",
      "  df = df.append(row_dict, ignore_index=True)\n"
     ]
    },
    {
     "name": "stdout",
     "output_type": "stream",
     "text": [
      "79 / 501\n",
      "5IWvoKOLX4Y\n"
     ]
    },
    {
     "name": "stderr",
     "output_type": "stream",
     "text": [
      "C:\\Users\\June\\AppData\\Local\\Temp\\ipykernel_14744\\2112170718.py:14: FutureWarning: The frame.append method is deprecated and will be removed from pandas in a future version. Use pandas.concat instead.\n",
      "  df = df.append(row_dict, ignore_index=True)\n"
     ]
    },
    {
     "name": "stdout",
     "output_type": "stream",
     "text": [
      "80 / 501\n",
      "U2CNkg0Xzgs\n"
     ]
    },
    {
     "name": "stderr",
     "output_type": "stream",
     "text": [
      "C:\\Users\\June\\AppData\\Local\\Temp\\ipykernel_14744\\2112170718.py:14: FutureWarning: The frame.append method is deprecated and will be removed from pandas in a future version. Use pandas.concat instead.\n",
      "  df = df.append(row_dict, ignore_index=True)\n"
     ]
    },
    {
     "name": "stdout",
     "output_type": "stream",
     "text": [
      "81 / 501\n",
      "Iex5buEpLQo\n"
     ]
    },
    {
     "name": "stderr",
     "output_type": "stream",
     "text": [
      "C:\\Users\\June\\AppData\\Local\\Temp\\ipykernel_14744\\2112170718.py:14: FutureWarning: The frame.append method is deprecated and will be removed from pandas in a future version. Use pandas.concat instead.\n",
      "  df = df.append(row_dict, ignore_index=True)\n"
     ]
    },
    {
     "name": "stdout",
     "output_type": "stream",
     "text": [
      "82 / 501\n",
      "k62TKitoVIs\n"
     ]
    },
    {
     "name": "stderr",
     "output_type": "stream",
     "text": [
      "C:\\Users\\June\\AppData\\Local\\Temp\\ipykernel_14744\\2112170718.py:14: FutureWarning: The frame.append method is deprecated and will be removed from pandas in a future version. Use pandas.concat instead.\n",
      "  df = df.append(row_dict, ignore_index=True)\n"
     ]
    },
    {
     "name": "stdout",
     "output_type": "stream",
     "text": [
      "83 / 501\n",
      "K3Y7H5XwW24\n"
     ]
    },
    {
     "name": "stderr",
     "output_type": "stream",
     "text": [
      "C:\\Users\\June\\AppData\\Local\\Temp\\ipykernel_14744\\2112170718.py:14: FutureWarning: The frame.append method is deprecated and will be removed from pandas in a future version. Use pandas.concat instead.\n",
      "  df = df.append(row_dict, ignore_index=True)\n"
     ]
    },
    {
     "name": "stdout",
     "output_type": "stream",
     "text": [
      "84 / 501\n",
      "nw8gQ5C2MtU\n"
     ]
    },
    {
     "name": "stderr",
     "output_type": "stream",
     "text": [
      "C:\\Users\\June\\AppData\\Local\\Temp\\ipykernel_14744\\2112170718.py:14: FutureWarning: The frame.append method is deprecated and will be removed from pandas in a future version. Use pandas.concat instead.\n",
      "  df = df.append(row_dict, ignore_index=True)\n"
     ]
    },
    {
     "name": "stdout",
     "output_type": "stream",
     "text": [
      "85 / 501\n",
      "GjWMRuYcdgc\n"
     ]
    },
    {
     "name": "stderr",
     "output_type": "stream",
     "text": [
      "C:\\Users\\June\\AppData\\Local\\Temp\\ipykernel_14744\\2112170718.py:14: FutureWarning: The frame.append method is deprecated and will be removed from pandas in a future version. Use pandas.concat instead.\n",
      "  df = df.append(row_dict, ignore_index=True)\n"
     ]
    },
    {
     "name": "stdout",
     "output_type": "stream",
     "text": [
      "86 / 501\n",
      "gJiK5qcqBAY\n"
     ]
    },
    {
     "name": "stderr",
     "output_type": "stream",
     "text": [
      "C:\\Users\\June\\AppData\\Local\\Temp\\ipykernel_14744\\2112170718.py:14: FutureWarning: The frame.append method is deprecated and will be removed from pandas in a future version. Use pandas.concat instead.\n",
      "  df = df.append(row_dict, ignore_index=True)\n"
     ]
    },
    {
     "name": "stdout",
     "output_type": "stream",
     "text": [
      "87 / 501\n",
      "Jt8_CL9ko3U\n"
     ]
    },
    {
     "name": "stderr",
     "output_type": "stream",
     "text": [
      "C:\\Users\\June\\AppData\\Local\\Temp\\ipykernel_14744\\2112170718.py:14: FutureWarning: The frame.append method is deprecated and will be removed from pandas in a future version. Use pandas.concat instead.\n",
      "  df = df.append(row_dict, ignore_index=True)\n"
     ]
    },
    {
     "name": "stdout",
     "output_type": "stream",
     "text": [
      "88 / 501\n",
      "4HBvCOrbkYY\n"
     ]
    },
    {
     "name": "stderr",
     "output_type": "stream",
     "text": [
      "C:\\Users\\June\\AppData\\Local\\Temp\\ipykernel_14744\\2112170718.py:14: FutureWarning: The frame.append method is deprecated and will be removed from pandas in a future version. Use pandas.concat instead.\n",
      "  df = df.append(row_dict, ignore_index=True)\n"
     ]
    },
    {
     "name": "stdout",
     "output_type": "stream",
     "text": [
      "89 / 501\n",
      "VwyhmHFS31s\n"
     ]
    },
    {
     "name": "stderr",
     "output_type": "stream",
     "text": [
      "C:\\Users\\June\\AppData\\Local\\Temp\\ipykernel_14744\\2112170718.py:14: FutureWarning: The frame.append method is deprecated and will be removed from pandas in a future version. Use pandas.concat instead.\n",
      "  df = df.append(row_dict, ignore_index=True)\n"
     ]
    },
    {
     "name": "stdout",
     "output_type": "stream",
     "text": [
      "90 / 501\n",
      "mEGbgTHL4Es\n"
     ]
    },
    {
     "name": "stderr",
     "output_type": "stream",
     "text": [
      "C:\\Users\\June\\AppData\\Local\\Temp\\ipykernel_14744\\2112170718.py:14: FutureWarning: The frame.append method is deprecated and will be removed from pandas in a future version. Use pandas.concat instead.\n",
      "  df = df.append(row_dict, ignore_index=True)\n"
     ]
    },
    {
     "name": "stdout",
     "output_type": "stream",
     "text": [
      "91 / 501\n",
      "Fni91yltVhc\n"
     ]
    },
    {
     "name": "stderr",
     "output_type": "stream",
     "text": [
      "C:\\Users\\June\\AppData\\Local\\Temp\\ipykernel_14744\\2112170718.py:14: FutureWarning: The frame.append method is deprecated and will be removed from pandas in a future version. Use pandas.concat instead.\n",
      "  df = df.append(row_dict, ignore_index=True)\n"
     ]
    },
    {
     "name": "stdout",
     "output_type": "stream",
     "text": [
      "92 / 501\n",
      "30dFsJEvVxg\n"
     ]
    },
    {
     "name": "stderr",
     "output_type": "stream",
     "text": [
      "C:\\Users\\June\\AppData\\Local\\Temp\\ipykernel_14744\\2112170718.py:14: FutureWarning: The frame.append method is deprecated and will be removed from pandas in a future version. Use pandas.concat instead.\n",
      "  df = df.append(row_dict, ignore_index=True)\n"
     ]
    },
    {
     "name": "stdout",
     "output_type": "stream",
     "text": [
      "93 / 501\n",
      "gdkC-YnrMIA\n"
     ]
    },
    {
     "name": "stderr",
     "output_type": "stream",
     "text": [
      "C:\\Users\\June\\AppData\\Local\\Temp\\ipykernel_14744\\2112170718.py:14: FutureWarning: The frame.append method is deprecated and will be removed from pandas in a future version. Use pandas.concat instead.\n",
      "  df = df.append(row_dict, ignore_index=True)\n"
     ]
    },
    {
     "name": "stdout",
     "output_type": "stream",
     "text": [
      "94 / 501\n",
      "JMHo0CHbjXI\n"
     ]
    },
    {
     "name": "stderr",
     "output_type": "stream",
     "text": [
      "C:\\Users\\June\\AppData\\Local\\Temp\\ipykernel_14744\\2112170718.py:14: FutureWarning: The frame.append method is deprecated and will be removed from pandas in a future version. Use pandas.concat instead.\n",
      "  df = df.append(row_dict, ignore_index=True)\n"
     ]
    },
    {
     "name": "stdout",
     "output_type": "stream",
     "text": [
      "95 / 501\n",
      "9fI-1Bz9RzM\n"
     ]
    },
    {
     "name": "stderr",
     "output_type": "stream",
     "text": [
      "C:\\Users\\June\\AppData\\Local\\Temp\\ipykernel_14744\\2112170718.py:14: FutureWarning: The frame.append method is deprecated and will be removed from pandas in a future version. Use pandas.concat instead.\n",
      "  df = df.append(row_dict, ignore_index=True)\n"
     ]
    },
    {
     "name": "stdout",
     "output_type": "stream",
     "text": [
      "96 / 501\n",
      "znN_cCzm-z8\n"
     ]
    },
    {
     "name": "stderr",
     "output_type": "stream",
     "text": [
      "C:\\Users\\June\\AppData\\Local\\Temp\\ipykernel_14744\\2112170718.py:14: FutureWarning: The frame.append method is deprecated and will be removed from pandas in a future version. Use pandas.concat instead.\n",
      "  df = df.append(row_dict, ignore_index=True)\n"
     ]
    },
    {
     "name": "stdout",
     "output_type": "stream",
     "text": [
      "97 / 501\n",
      "Ku-I7KVmqdw\n"
     ]
    },
    {
     "name": "stderr",
     "output_type": "stream",
     "text": [
      "C:\\Users\\June\\AppData\\Local\\Temp\\ipykernel_14744\\2112170718.py:14: FutureWarning: The frame.append method is deprecated and will be removed from pandas in a future version. Use pandas.concat instead.\n",
      "  df = df.append(row_dict, ignore_index=True)\n"
     ]
    },
    {
     "name": "stdout",
     "output_type": "stream",
     "text": [
      "98 / 501\n",
      "Ffw4Q7Gq7OY\n"
     ]
    },
    {
     "name": "stderr",
     "output_type": "stream",
     "text": [
      "C:\\Users\\June\\AppData\\Local\\Temp\\ipykernel_14744\\2112170718.py:14: FutureWarning: The frame.append method is deprecated and will be removed from pandas in a future version. Use pandas.concat instead.\n",
      "  df = df.append(row_dict, ignore_index=True)\n"
     ]
    },
    {
     "name": "stdout",
     "output_type": "stream",
     "text": [
      "99 / 501\n",
      "LpEvHYf7yi8\n"
     ]
    },
    {
     "name": "stderr",
     "output_type": "stream",
     "text": [
      "C:\\Users\\June\\AppData\\Local\\Temp\\ipykernel_14744\\2112170718.py:14: FutureWarning: The frame.append method is deprecated and will be removed from pandas in a future version. Use pandas.concat instead.\n",
      "  df = df.append(row_dict, ignore_index=True)\n"
     ]
    },
    {
     "name": "stdout",
     "output_type": "stream",
     "text": [
      "100 / 501\n",
      "h87ykyULWRY\n"
     ]
    },
    {
     "name": "stderr",
     "output_type": "stream",
     "text": [
      "C:\\Users\\June\\AppData\\Local\\Temp\\ipykernel_14744\\2112170718.py:14: FutureWarning: The frame.append method is deprecated and will be removed from pandas in a future version. Use pandas.concat instead.\n",
      "  df = df.append(row_dict, ignore_index=True)\n"
     ]
    },
    {
     "name": "stdout",
     "output_type": "stream",
     "text": [
      "101 / 501\n",
      "gL3RB7_d7pI\n"
     ]
    },
    {
     "name": "stderr",
     "output_type": "stream",
     "text": [
      "C:\\Users\\June\\AppData\\Local\\Temp\\ipykernel_14744\\2112170718.py:14: FutureWarning: The frame.append method is deprecated and will be removed from pandas in a future version. Use pandas.concat instead.\n",
      "  df = df.append(row_dict, ignore_index=True)\n"
     ]
    },
    {
     "name": "stdout",
     "output_type": "stream",
     "text": [
      "102 / 501\n",
      "EfADpXTghUw\n"
     ]
    },
    {
     "name": "stderr",
     "output_type": "stream",
     "text": [
      "C:\\Users\\June\\AppData\\Local\\Temp\\ipykernel_14744\\2112170718.py:14: FutureWarning: The frame.append method is deprecated and will be removed from pandas in a future version. Use pandas.concat instead.\n",
      "  df = df.append(row_dict, ignore_index=True)\n"
     ]
    },
    {
     "name": "stdout",
     "output_type": "stream",
     "text": [
      "103 / 501\n",
      "bcKRJvo6TWM\n"
     ]
    },
    {
     "name": "stderr",
     "output_type": "stream",
     "text": [
      "C:\\Users\\June\\AppData\\Local\\Temp\\ipykernel_14744\\2112170718.py:14: FutureWarning: The frame.append method is deprecated and will be removed from pandas in a future version. Use pandas.concat instead.\n",
      "  df = df.append(row_dict, ignore_index=True)\n"
     ]
    },
    {
     "name": "stdout",
     "output_type": "stream",
     "text": [
      "104 / 501\n",
      "NWW3KEnVfp8\n"
     ]
    },
    {
     "name": "stderr",
     "output_type": "stream",
     "text": [
      "C:\\Users\\June\\AppData\\Local\\Temp\\ipykernel_14744\\2112170718.py:14: FutureWarning: The frame.append method is deprecated and will be removed from pandas in a future version. Use pandas.concat instead.\n",
      "  df = df.append(row_dict, ignore_index=True)\n"
     ]
    },
    {
     "name": "stdout",
     "output_type": "stream",
     "text": [
      "105 / 501\n",
      "60Hk1C1Ibh8\n"
     ]
    },
    {
     "name": "stderr",
     "output_type": "stream",
     "text": [
      "C:\\Users\\June\\AppData\\Local\\Temp\\ipykernel_14744\\2112170718.py:14: FutureWarning: The frame.append method is deprecated and will be removed from pandas in a future version. Use pandas.concat instead.\n",
      "  df = df.append(row_dict, ignore_index=True)\n"
     ]
    },
    {
     "name": "stdout",
     "output_type": "stream",
     "text": [
      "106 / 501\n",
      "L0UUNzoLCeA\n"
     ]
    },
    {
     "name": "stderr",
     "output_type": "stream",
     "text": [
      "C:\\Users\\June\\AppData\\Local\\Temp\\ipykernel_14744\\2112170718.py:14: FutureWarning: The frame.append method is deprecated and will be removed from pandas in a future version. Use pandas.concat instead.\n",
      "  df = df.append(row_dict, ignore_index=True)\n"
     ]
    },
    {
     "name": "stdout",
     "output_type": "stream",
     "text": [
      "107 / 501\n",
      "IiVzdE-babk\n"
     ]
    },
    {
     "name": "stderr",
     "output_type": "stream",
     "text": [
      "C:\\Users\\June\\AppData\\Local\\Temp\\ipykernel_14744\\2112170718.py:14: FutureWarning: The frame.append method is deprecated and will be removed from pandas in a future version. Use pandas.concat instead.\n",
      "  df = df.append(row_dict, ignore_index=True)\n"
     ]
    },
    {
     "name": "stdout",
     "output_type": "stream",
     "text": [
      "108 / 501\n",
      "O3EkSobPNuw\n"
     ]
    },
    {
     "name": "stderr",
     "output_type": "stream",
     "text": [
      "C:\\Users\\June\\AppData\\Local\\Temp\\ipykernel_14744\\2112170718.py:14: FutureWarning: The frame.append method is deprecated and will be removed from pandas in a future version. Use pandas.concat instead.\n",
      "  df = df.append(row_dict, ignore_index=True)\n"
     ]
    },
    {
     "name": "stdout",
     "output_type": "stream",
     "text": [
      "109 / 501\n",
      "IfP-uFaFhcI\n"
     ]
    },
    {
     "name": "stderr",
     "output_type": "stream",
     "text": [
      "C:\\Users\\June\\AppData\\Local\\Temp\\ipykernel_14744\\2112170718.py:14: FutureWarning: The frame.append method is deprecated and will be removed from pandas in a future version. Use pandas.concat instead.\n",
      "  df = df.append(row_dict, ignore_index=True)\n"
     ]
    },
    {
     "name": "stdout",
     "output_type": "stream",
     "text": [
      "110 / 501\n",
      "6Kra_CD9UEI\n"
     ]
    },
    {
     "name": "stderr",
     "output_type": "stream",
     "text": [
      "C:\\Users\\June\\AppData\\Local\\Temp\\ipykernel_14744\\2112170718.py:14: FutureWarning: The frame.append method is deprecated and will be removed from pandas in a future version. Use pandas.concat instead.\n",
      "  df = df.append(row_dict, ignore_index=True)\n"
     ]
    },
    {
     "name": "stdout",
     "output_type": "stream",
     "text": [
      "111 / 501\n",
      "ZC8kTeCmMak\n"
     ]
    },
    {
     "name": "stderr",
     "output_type": "stream",
     "text": [
      "C:\\Users\\June\\AppData\\Local\\Temp\\ipykernel_14744\\2112170718.py:14: FutureWarning: The frame.append method is deprecated and will be removed from pandas in a future version. Use pandas.concat instead.\n",
      "  df = df.append(row_dict, ignore_index=True)\n"
     ]
    },
    {
     "name": "stdout",
     "output_type": "stream",
     "text": [
      "112 / 501\n",
      "3zWGbiYjm3c\n"
     ]
    },
    {
     "name": "stderr",
     "output_type": "stream",
     "text": [
      "C:\\Users\\June\\AppData\\Local\\Temp\\ipykernel_14744\\2112170718.py:14: FutureWarning: The frame.append method is deprecated and will be removed from pandas in a future version. Use pandas.concat instead.\n",
      "  df = df.append(row_dict, ignore_index=True)\n"
     ]
    },
    {
     "name": "stdout",
     "output_type": "stream",
     "text": [
      "113 / 501\n",
      "3DARyUwluGg\n"
     ]
    },
    {
     "name": "stderr",
     "output_type": "stream",
     "text": [
      "C:\\Users\\June\\AppData\\Local\\Temp\\ipykernel_14744\\2112170718.py:14: FutureWarning: The frame.append method is deprecated and will be removed from pandas in a future version. Use pandas.concat instead.\n",
      "  df = df.append(row_dict, ignore_index=True)\n"
     ]
    },
    {
     "name": "stdout",
     "output_type": "stream",
     "text": [
      "114 / 501\n",
      "rHz1OdMQYyI\n"
     ]
    },
    {
     "name": "stderr",
     "output_type": "stream",
     "text": [
      "C:\\Users\\June\\AppData\\Local\\Temp\\ipykernel_14744\\2112170718.py:14: FutureWarning: The frame.append method is deprecated and will be removed from pandas in a future version. Use pandas.concat instead.\n",
      "  df = df.append(row_dict, ignore_index=True)\n"
     ]
    },
    {
     "name": "stdout",
     "output_type": "stream",
     "text": [
      "115 / 501\n",
      "n8GsRAgHChw\n"
     ]
    },
    {
     "name": "stderr",
     "output_type": "stream",
     "text": [
      "C:\\Users\\June\\AppData\\Local\\Temp\\ipykernel_14744\\2112170718.py:14: FutureWarning: The frame.append method is deprecated and will be removed from pandas in a future version. Use pandas.concat instead.\n",
      "  df = df.append(row_dict, ignore_index=True)\n"
     ]
    },
    {
     "name": "stdout",
     "output_type": "stream",
     "text": [
      "116 / 501\n",
      "YwakskGF8jI\n"
     ]
    },
    {
     "name": "stderr",
     "output_type": "stream",
     "text": [
      "C:\\Users\\June\\AppData\\Local\\Temp\\ipykernel_14744\\2112170718.py:14: FutureWarning: The frame.append method is deprecated and will be removed from pandas in a future version. Use pandas.concat instead.\n",
      "  df = df.append(row_dict, ignore_index=True)\n"
     ]
    },
    {
     "name": "stdout",
     "output_type": "stream",
     "text": [
      "117 / 501\n",
      "HTzT1Wy978o\n"
     ]
    },
    {
     "name": "stderr",
     "output_type": "stream",
     "text": [
      "C:\\Users\\June\\AppData\\Local\\Temp\\ipykernel_14744\\2112170718.py:14: FutureWarning: The frame.append method is deprecated and will be removed from pandas in a future version. Use pandas.concat instead.\n",
      "  df = df.append(row_dict, ignore_index=True)\n"
     ]
    },
    {
     "name": "stdout",
     "output_type": "stream",
     "text": [
      "118 / 501\n",
      "gGPDffjJItg\n"
     ]
    },
    {
     "name": "stderr",
     "output_type": "stream",
     "text": [
      "C:\\Users\\June\\AppData\\Local\\Temp\\ipykernel_14744\\2112170718.py:14: FutureWarning: The frame.append method is deprecated and will be removed from pandas in a future version. Use pandas.concat instead.\n",
      "  df = df.append(row_dict, ignore_index=True)\n"
     ]
    },
    {
     "name": "stdout",
     "output_type": "stream",
     "text": [
      "119 / 501\n",
      "NCG_IlTskAA\n"
     ]
    },
    {
     "name": "stderr",
     "output_type": "stream",
     "text": [
      "C:\\Users\\June\\AppData\\Local\\Temp\\ipykernel_14744\\2112170718.py:14: FutureWarning: The frame.append method is deprecated and will be removed from pandas in a future version. Use pandas.concat instead.\n",
      "  df = df.append(row_dict, ignore_index=True)\n"
     ]
    },
    {
     "name": "stdout",
     "output_type": "stream",
     "text": [
      "120 / 501\n",
      "nwp4_NEOFN8\n"
     ]
    },
    {
     "name": "stderr",
     "output_type": "stream",
     "text": [
      "C:\\Users\\June\\AppData\\Local\\Temp\\ipykernel_14744\\2112170718.py:14: FutureWarning: The frame.append method is deprecated and will be removed from pandas in a future version. Use pandas.concat instead.\n",
      "  df = df.append(row_dict, ignore_index=True)\n"
     ]
    },
    {
     "name": "stdout",
     "output_type": "stream",
     "text": [
      "121 / 501\n",
      "S0Xy4B1C_ko\n"
     ]
    },
    {
     "name": "stderr",
     "output_type": "stream",
     "text": [
      "C:\\Users\\June\\AppData\\Local\\Temp\\ipykernel_14744\\2112170718.py:14: FutureWarning: The frame.append method is deprecated and will be removed from pandas in a future version. Use pandas.concat instead.\n",
      "  df = df.append(row_dict, ignore_index=True)\n"
     ]
    },
    {
     "name": "stdout",
     "output_type": "stream",
     "text": [
      "122 / 501\n",
      "d404GZJM4Ts\n"
     ]
    },
    {
     "name": "stderr",
     "output_type": "stream",
     "text": [
      "C:\\Users\\June\\AppData\\Local\\Temp\\ipykernel_14744\\2112170718.py:14: FutureWarning: The frame.append method is deprecated and will be removed from pandas in a future version. Use pandas.concat instead.\n",
      "  df = df.append(row_dict, ignore_index=True)\n"
     ]
    },
    {
     "name": "stdout",
     "output_type": "stream",
     "text": [
      "123 / 501\n",
      "V3PwG6LZd5s\n"
     ]
    },
    {
     "name": "stderr",
     "output_type": "stream",
     "text": [
      "C:\\Users\\June\\AppData\\Local\\Temp\\ipykernel_14744\\2112170718.py:14: FutureWarning: The frame.append method is deprecated and will be removed from pandas in a future version. Use pandas.concat instead.\n",
      "  df = df.append(row_dict, ignore_index=True)\n"
     ]
    },
    {
     "name": "stdout",
     "output_type": "stream",
     "text": [
      "124 / 501\n",
      "_XgcFqCG9xc\n"
     ]
    },
    {
     "name": "stderr",
     "output_type": "stream",
     "text": [
      "C:\\Users\\June\\AppData\\Local\\Temp\\ipykernel_14744\\2112170718.py:14: FutureWarning: The frame.append method is deprecated and will be removed from pandas in a future version. Use pandas.concat instead.\n",
      "  df = df.append(row_dict, ignore_index=True)\n"
     ]
    },
    {
     "name": "stdout",
     "output_type": "stream",
     "text": [
      "125 / 501\n",
      "KIMxmVnUJ9o\n"
     ]
    },
    {
     "name": "stderr",
     "output_type": "stream",
     "text": [
      "C:\\Users\\June\\AppData\\Local\\Temp\\ipykernel_14744\\2112170718.py:14: FutureWarning: The frame.append method is deprecated and will be removed from pandas in a future version. Use pandas.concat instead.\n",
      "  df = df.append(row_dict, ignore_index=True)\n"
     ]
    },
    {
     "name": "stdout",
     "output_type": "stream",
     "text": [
      "126 / 501\n",
      "w_sV6MqDQ4A\n"
     ]
    },
    {
     "name": "stderr",
     "output_type": "stream",
     "text": [
      "C:\\Users\\June\\AppData\\Local\\Temp\\ipykernel_14744\\2112170718.py:14: FutureWarning: The frame.append method is deprecated and will be removed from pandas in a future version. Use pandas.concat instead.\n",
      "  df = df.append(row_dict, ignore_index=True)\n"
     ]
    },
    {
     "name": "stdout",
     "output_type": "stream",
     "text": [
      "127 / 501\n",
      "9MpTvy-2kaY\n"
     ]
    },
    {
     "name": "stderr",
     "output_type": "stream",
     "text": [
      "C:\\Users\\June\\AppData\\Local\\Temp\\ipykernel_14744\\2112170718.py:14: FutureWarning: The frame.append method is deprecated and will be removed from pandas in a future version. Use pandas.concat instead.\n",
      "  df = df.append(row_dict, ignore_index=True)\n"
     ]
    },
    {
     "name": "stdout",
     "output_type": "stream",
     "text": [
      "128 / 501\n",
      "cnMIHpvMDZM\n"
     ]
    },
    {
     "name": "stderr",
     "output_type": "stream",
     "text": [
      "C:\\Users\\June\\AppData\\Local\\Temp\\ipykernel_14744\\2112170718.py:14: FutureWarning: The frame.append method is deprecated and will be removed from pandas in a future version. Use pandas.concat instead.\n",
      "  df = df.append(row_dict, ignore_index=True)\n"
     ]
    },
    {
     "name": "stdout",
     "output_type": "stream",
     "text": [
      "129 / 501\n",
      "Cui-6nd1HN8\n"
     ]
    },
    {
     "name": "stderr",
     "output_type": "stream",
     "text": [
      "C:\\Users\\June\\AppData\\Local\\Temp\\ipykernel_14744\\2112170718.py:14: FutureWarning: The frame.append method is deprecated and will be removed from pandas in a future version. Use pandas.concat instead.\n",
      "  df = df.append(row_dict, ignore_index=True)\n"
     ]
    },
    {
     "name": "stdout",
     "output_type": "stream",
     "text": [
      "130 / 501\n",
      "SH2ssf6ug5Q\n"
     ]
    },
    {
     "name": "stderr",
     "output_type": "stream",
     "text": [
      "C:\\Users\\June\\AppData\\Local\\Temp\\ipykernel_14744\\2112170718.py:14: FutureWarning: The frame.append method is deprecated and will be removed from pandas in a future version. Use pandas.concat instead.\n",
      "  df = df.append(row_dict, ignore_index=True)\n"
     ]
    },
    {
     "name": "stdout",
     "output_type": "stream",
     "text": [
      "131 / 501\n",
      "2Zaoc0_aNjg\n"
     ]
    },
    {
     "name": "stderr",
     "output_type": "stream",
     "text": [
      "C:\\Users\\June\\AppData\\Local\\Temp\\ipykernel_14744\\2112170718.py:14: FutureWarning: The frame.append method is deprecated and will be removed from pandas in a future version. Use pandas.concat instead.\n",
      "  df = df.append(row_dict, ignore_index=True)\n"
     ]
    },
    {
     "name": "stdout",
     "output_type": "stream",
     "text": [
      "132 / 501\n",
      "bNg6SX_MPpo\n"
     ]
    },
    {
     "name": "stderr",
     "output_type": "stream",
     "text": [
      "C:\\Users\\June\\AppData\\Local\\Temp\\ipykernel_14744\\2112170718.py:14: FutureWarning: The frame.append method is deprecated and will be removed from pandas in a future version. Use pandas.concat instead.\n",
      "  df = df.append(row_dict, ignore_index=True)\n"
     ]
    },
    {
     "name": "stdout",
     "output_type": "stream",
     "text": [
      "133 / 501\n",
      "COdMpfHlzUo\n"
     ]
    },
    {
     "name": "stderr",
     "output_type": "stream",
     "text": [
      "C:\\Users\\June\\AppData\\Local\\Temp\\ipykernel_14744\\2112170718.py:14: FutureWarning: The frame.append method is deprecated and will be removed from pandas in a future version. Use pandas.concat instead.\n",
      "  df = df.append(row_dict, ignore_index=True)\n"
     ]
    },
    {
     "name": "stdout",
     "output_type": "stream",
     "text": [
      "134 / 501\n",
      "Nva2ZOzO7Sc\n"
     ]
    },
    {
     "name": "stderr",
     "output_type": "stream",
     "text": [
      "C:\\Users\\June\\AppData\\Local\\Temp\\ipykernel_14744\\2112170718.py:14: FutureWarning: The frame.append method is deprecated and will be removed from pandas in a future version. Use pandas.concat instead.\n",
      "  df = df.append(row_dict, ignore_index=True)\n"
     ]
    },
    {
     "name": "stdout",
     "output_type": "stream",
     "text": [
      "135 / 501\n",
      "NWrPVpoN6lU\n"
     ]
    },
    {
     "name": "stderr",
     "output_type": "stream",
     "text": [
      "C:\\Users\\June\\AppData\\Local\\Temp\\ipykernel_14744\\2112170718.py:14: FutureWarning: The frame.append method is deprecated and will be removed from pandas in a future version. Use pandas.concat instead.\n",
      "  df = df.append(row_dict, ignore_index=True)\n"
     ]
    },
    {
     "name": "stdout",
     "output_type": "stream",
     "text": [
      "136 / 501\n",
      "wEwvtRmSIyo\n"
     ]
    },
    {
     "name": "stderr",
     "output_type": "stream",
     "text": [
      "C:\\Users\\June\\AppData\\Local\\Temp\\ipykernel_14744\\2112170718.py:14: FutureWarning: The frame.append method is deprecated and will be removed from pandas in a future version. Use pandas.concat instead.\n",
      "  df = df.append(row_dict, ignore_index=True)\n"
     ]
    },
    {
     "name": "stdout",
     "output_type": "stream",
     "text": [
      "137 / 501\n",
      "-_byeCDQ7NY\n"
     ]
    },
    {
     "name": "stderr",
     "output_type": "stream",
     "text": [
      "C:\\Users\\June\\AppData\\Local\\Temp\\ipykernel_14744\\2112170718.py:14: FutureWarning: The frame.append method is deprecated and will be removed from pandas in a future version. Use pandas.concat instead.\n",
      "  df = df.append(row_dict, ignore_index=True)\n"
     ]
    },
    {
     "name": "stdout",
     "output_type": "stream",
     "text": [
      "138 / 501\n",
      "N3yhkDHs8yw\n"
     ]
    },
    {
     "name": "stderr",
     "output_type": "stream",
     "text": [
      "C:\\Users\\June\\AppData\\Local\\Temp\\ipykernel_14744\\2112170718.py:14: FutureWarning: The frame.append method is deprecated and will be removed from pandas in a future version. Use pandas.concat instead.\n",
      "  df = df.append(row_dict, ignore_index=True)\n"
     ]
    },
    {
     "name": "stdout",
     "output_type": "stream",
     "text": [
      "139 / 501\n",
      "L7cTxv6tRtM\n"
     ]
    },
    {
     "name": "stderr",
     "output_type": "stream",
     "text": [
      "C:\\Users\\June\\AppData\\Local\\Temp\\ipykernel_14744\\2112170718.py:14: FutureWarning: The frame.append method is deprecated and will be removed from pandas in a future version. Use pandas.concat instead.\n",
      "  df = df.append(row_dict, ignore_index=True)\n"
     ]
    },
    {
     "name": "stdout",
     "output_type": "stream",
     "text": [
      "140 / 501\n",
      "4XEV-G5i5fA\n"
     ]
    },
    {
     "name": "stderr",
     "output_type": "stream",
     "text": [
      "C:\\Users\\June\\AppData\\Local\\Temp\\ipykernel_14744\\2112170718.py:14: FutureWarning: The frame.append method is deprecated and will be removed from pandas in a future version. Use pandas.concat instead.\n",
      "  df = df.append(row_dict, ignore_index=True)\n"
     ]
    },
    {
     "name": "stdout",
     "output_type": "stream",
     "text": [
      "141 / 501\n",
      "t8c8eHnooCM\n"
     ]
    },
    {
     "name": "stderr",
     "output_type": "stream",
     "text": [
      "C:\\Users\\June\\AppData\\Local\\Temp\\ipykernel_14744\\2112170718.py:14: FutureWarning: The frame.append method is deprecated and will be removed from pandas in a future version. Use pandas.concat instead.\n",
      "  df = df.append(row_dict, ignore_index=True)\n"
     ]
    },
    {
     "name": "stdout",
     "output_type": "stream",
     "text": [
      "142 / 501\n",
      "Lk6p4ox27Sw\n"
     ]
    },
    {
     "name": "stderr",
     "output_type": "stream",
     "text": [
      "C:\\Users\\June\\AppData\\Local\\Temp\\ipykernel_14744\\2112170718.py:14: FutureWarning: The frame.append method is deprecated and will be removed from pandas in a future version. Use pandas.concat instead.\n",
      "  df = df.append(row_dict, ignore_index=True)\n"
     ]
    },
    {
     "name": "stdout",
     "output_type": "stream",
     "text": [
      "143 / 501\n",
      "YKXhBrz4yhA\n"
     ]
    },
    {
     "name": "stderr",
     "output_type": "stream",
     "text": [
      "C:\\Users\\June\\AppData\\Local\\Temp\\ipykernel_14744\\2112170718.py:14: FutureWarning: The frame.append method is deprecated and will be removed from pandas in a future version. Use pandas.concat instead.\n",
      "  df = df.append(row_dict, ignore_index=True)\n"
     ]
    },
    {
     "name": "stdout",
     "output_type": "stream",
     "text": [
      "144 / 501\n",
      "RynCTDxpKPw\n"
     ]
    },
    {
     "name": "stderr",
     "output_type": "stream",
     "text": [
      "C:\\Users\\June\\AppData\\Local\\Temp\\ipykernel_14744\\2112170718.py:14: FutureWarning: The frame.append method is deprecated and will be removed from pandas in a future version. Use pandas.concat instead.\n",
      "  df = df.append(row_dict, ignore_index=True)\n"
     ]
    },
    {
     "name": "stdout",
     "output_type": "stream",
     "text": [
      "145 / 501\n",
      "kw4Hv7PmiQc\n"
     ]
    },
    {
     "name": "stderr",
     "output_type": "stream",
     "text": [
      "C:\\Users\\June\\AppData\\Local\\Temp\\ipykernel_14744\\2112170718.py:14: FutureWarning: The frame.append method is deprecated and will be removed from pandas in a future version. Use pandas.concat instead.\n",
      "  df = df.append(row_dict, ignore_index=True)\n"
     ]
    },
    {
     "name": "stdout",
     "output_type": "stream",
     "text": [
      "146 / 501\n",
      "kGq405uF92Y\n"
     ]
    },
    {
     "name": "stderr",
     "output_type": "stream",
     "text": [
      "C:\\Users\\June\\AppData\\Local\\Temp\\ipykernel_14744\\2112170718.py:14: FutureWarning: The frame.append method is deprecated and will be removed from pandas in a future version. Use pandas.concat instead.\n",
      "  df = df.append(row_dict, ignore_index=True)\n"
     ]
    },
    {
     "name": "stdout",
     "output_type": "stream",
     "text": [
      "147 / 501\n",
      "y9Dd_7NPcfI\n"
     ]
    },
    {
     "name": "stderr",
     "output_type": "stream",
     "text": [
      "C:\\Users\\June\\AppData\\Local\\Temp\\ipykernel_14744\\2112170718.py:14: FutureWarning: The frame.append method is deprecated and will be removed from pandas in a future version. Use pandas.concat instead.\n",
      "  df = df.append(row_dict, ignore_index=True)\n"
     ]
    },
    {
     "name": "stdout",
     "output_type": "stream",
     "text": [
      "148 / 501\n",
      "H-dRgW5XDpQ\n"
     ]
    },
    {
     "name": "stderr",
     "output_type": "stream",
     "text": [
      "C:\\Users\\June\\AppData\\Local\\Temp\\ipykernel_14744\\2112170718.py:14: FutureWarning: The frame.append method is deprecated and will be removed from pandas in a future version. Use pandas.concat instead.\n",
      "  df = df.append(row_dict, ignore_index=True)\n"
     ]
    },
    {
     "name": "stdout",
     "output_type": "stream",
     "text": [
      "149 / 501\n",
      "SWyQmUmKG_s\n"
     ]
    },
    {
     "name": "stderr",
     "output_type": "stream",
     "text": [
      "C:\\Users\\June\\AppData\\Local\\Temp\\ipykernel_14744\\2112170718.py:14: FutureWarning: The frame.append method is deprecated and will be removed from pandas in a future version. Use pandas.concat instead.\n",
      "  df = df.append(row_dict, ignore_index=True)\n"
     ]
    },
    {
     "name": "stdout",
     "output_type": "stream",
     "text": [
      "150 / 501\n",
      "VcPL97N8ySw\n"
     ]
    },
    {
     "name": "stderr",
     "output_type": "stream",
     "text": [
      "C:\\Users\\June\\AppData\\Local\\Temp\\ipykernel_14744\\2112170718.py:14: FutureWarning: The frame.append method is deprecated and will be removed from pandas in a future version. Use pandas.concat instead.\n",
      "  df = df.append(row_dict, ignore_index=True)\n"
     ]
    },
    {
     "name": "stdout",
     "output_type": "stream",
     "text": [
      "151 / 501\n",
      "tzIzcr4EM6w\n"
     ]
    },
    {
     "name": "stderr",
     "output_type": "stream",
     "text": [
      "C:\\Users\\June\\AppData\\Local\\Temp\\ipykernel_14744\\2112170718.py:14: FutureWarning: The frame.append method is deprecated and will be removed from pandas in a future version. Use pandas.concat instead.\n",
      "  df = df.append(row_dict, ignore_index=True)\n"
     ]
    },
    {
     "name": "stdout",
     "output_type": "stream",
     "text": [
      "152 / 501\n",
      "sLwwnDEftN0\n"
     ]
    },
    {
     "name": "stderr",
     "output_type": "stream",
     "text": [
      "C:\\Users\\June\\AppData\\Local\\Temp\\ipykernel_14744\\2112170718.py:14: FutureWarning: The frame.append method is deprecated and will be removed from pandas in a future version. Use pandas.concat instead.\n",
      "  df = df.append(row_dict, ignore_index=True)\n"
     ]
    },
    {
     "name": "stdout",
     "output_type": "stream",
     "text": [
      "153 / 501\n",
      "oO32HQhJbuU\n"
     ]
    },
    {
     "name": "stderr",
     "output_type": "stream",
     "text": [
      "C:\\Users\\June\\AppData\\Local\\Temp\\ipykernel_14744\\2112170718.py:14: FutureWarning: The frame.append method is deprecated and will be removed from pandas in a future version. Use pandas.concat instead.\n",
      "  df = df.append(row_dict, ignore_index=True)\n"
     ]
    },
    {
     "name": "stdout",
     "output_type": "stream",
     "text": [
      "154 / 501\n",
      "PAPgBy2D_yk\n"
     ]
    },
    {
     "name": "stderr",
     "output_type": "stream",
     "text": [
      "C:\\Users\\June\\AppData\\Local\\Temp\\ipykernel_14744\\2112170718.py:14: FutureWarning: The frame.append method is deprecated and will be removed from pandas in a future version. Use pandas.concat instead.\n",
      "  df = df.append(row_dict, ignore_index=True)\n"
     ]
    },
    {
     "name": "stdout",
     "output_type": "stream",
     "text": [
      "155 / 501\n",
      "IuvUMAHr3dw\n"
     ]
    },
    {
     "name": "stderr",
     "output_type": "stream",
     "text": [
      "C:\\Users\\June\\AppData\\Local\\Temp\\ipykernel_14744\\2112170718.py:14: FutureWarning: The frame.append method is deprecated and will be removed from pandas in a future version. Use pandas.concat instead.\n",
      "  df = df.append(row_dict, ignore_index=True)\n"
     ]
    },
    {
     "name": "stdout",
     "output_type": "stream",
     "text": [
      "156 / 501\n",
      "JoQlVP40uPU\n"
     ]
    },
    {
     "name": "stderr",
     "output_type": "stream",
     "text": [
      "C:\\Users\\June\\AppData\\Local\\Temp\\ipykernel_14744\\2112170718.py:14: FutureWarning: The frame.append method is deprecated and will be removed from pandas in a future version. Use pandas.concat instead.\n",
      "  df = df.append(row_dict, ignore_index=True)\n"
     ]
    },
    {
     "name": "stdout",
     "output_type": "stream",
     "text": [
      "157 / 501\n",
      "l1jomgzaHFA\n"
     ]
    },
    {
     "name": "stderr",
     "output_type": "stream",
     "text": [
      "C:\\Users\\June\\AppData\\Local\\Temp\\ipykernel_14744\\2112170718.py:14: FutureWarning: The frame.append method is deprecated and will be removed from pandas in a future version. Use pandas.concat instead.\n",
      "  df = df.append(row_dict, ignore_index=True)\n"
     ]
    },
    {
     "name": "stdout",
     "output_type": "stream",
     "text": [
      "158 / 501\n",
      "MCMBDWOeOfc\n"
     ]
    },
    {
     "name": "stderr",
     "output_type": "stream",
     "text": [
      "C:\\Users\\June\\AppData\\Local\\Temp\\ipykernel_14744\\2112170718.py:14: FutureWarning: The frame.append method is deprecated and will be removed from pandas in a future version. Use pandas.concat instead.\n",
      "  df = df.append(row_dict, ignore_index=True)\n"
     ]
    },
    {
     "name": "stdout",
     "output_type": "stream",
     "text": [
      "159 / 501\n",
      "tmiRP1YHyEU\n"
     ]
    },
    {
     "name": "stderr",
     "output_type": "stream",
     "text": [
      "C:\\Users\\June\\AppData\\Local\\Temp\\ipykernel_14744\\2112170718.py:14: FutureWarning: The frame.append method is deprecated and will be removed from pandas in a future version. Use pandas.concat instead.\n",
      "  df = df.append(row_dict, ignore_index=True)\n"
     ]
    },
    {
     "name": "stdout",
     "output_type": "stream",
     "text": [
      "160 / 501\n",
      "tX2Oiw78Fyg\n"
     ]
    },
    {
     "name": "stderr",
     "output_type": "stream",
     "text": [
      "C:\\Users\\June\\AppData\\Local\\Temp\\ipykernel_14744\\2112170718.py:14: FutureWarning: The frame.append method is deprecated and will be removed from pandas in a future version. Use pandas.concat instead.\n",
      "  df = df.append(row_dict, ignore_index=True)\n"
     ]
    },
    {
     "name": "stdout",
     "output_type": "stream",
     "text": [
      "161 / 501\n",
      "9xfUodm4tj8\n"
     ]
    },
    {
     "name": "stderr",
     "output_type": "stream",
     "text": [
      "C:\\Users\\June\\AppData\\Local\\Temp\\ipykernel_14744\\2112170718.py:14: FutureWarning: The frame.append method is deprecated and will be removed from pandas in a future version. Use pandas.concat instead.\n",
      "  df = df.append(row_dict, ignore_index=True)\n"
     ]
    },
    {
     "name": "stdout",
     "output_type": "stream",
     "text": [
      "162 / 501\n",
      "VL696LKF5d4\n"
     ]
    },
    {
     "name": "stderr",
     "output_type": "stream",
     "text": [
      "C:\\Users\\June\\AppData\\Local\\Temp\\ipykernel_14744\\2112170718.py:14: FutureWarning: The frame.append method is deprecated and will be removed from pandas in a future version. Use pandas.concat instead.\n",
      "  df = df.append(row_dict, ignore_index=True)\n"
     ]
    },
    {
     "name": "stdout",
     "output_type": "stream",
     "text": [
      "163 / 501\n",
      "Xd9UOZyf8Rs\n"
     ]
    },
    {
     "name": "stderr",
     "output_type": "stream",
     "text": [
      "C:\\Users\\June\\AppData\\Local\\Temp\\ipykernel_14744\\2112170718.py:14: FutureWarning: The frame.append method is deprecated and will be removed from pandas in a future version. Use pandas.concat instead.\n",
      "  df = df.append(row_dict, ignore_index=True)\n"
     ]
    },
    {
     "name": "stdout",
     "output_type": "stream",
     "text": [
      "164 / 501\n",
      "fZ1zJbuYTjA\n"
     ]
    },
    {
     "name": "stderr",
     "output_type": "stream",
     "text": [
      "C:\\Users\\June\\AppData\\Local\\Temp\\ipykernel_14744\\2112170718.py:14: FutureWarning: The frame.append method is deprecated and will be removed from pandas in a future version. Use pandas.concat instead.\n",
      "  df = df.append(row_dict, ignore_index=True)\n"
     ]
    },
    {
     "name": "stdout",
     "output_type": "stream",
     "text": [
      "165 / 501\n",
      "90Zji8Svnhg\n"
     ]
    },
    {
     "name": "stderr",
     "output_type": "stream",
     "text": [
      "C:\\Users\\June\\AppData\\Local\\Temp\\ipykernel_14744\\2112170718.py:14: FutureWarning: The frame.append method is deprecated and will be removed from pandas in a future version. Use pandas.concat instead.\n",
      "  df = df.append(row_dict, ignore_index=True)\n"
     ]
    },
    {
     "name": "stdout",
     "output_type": "stream",
     "text": [
      "166 / 501\n",
      "42tbG7A7-Ns\n"
     ]
    },
    {
     "name": "stderr",
     "output_type": "stream",
     "text": [
      "C:\\Users\\June\\AppData\\Local\\Temp\\ipykernel_14744\\2112170718.py:14: FutureWarning: The frame.append method is deprecated and will be removed from pandas in a future version. Use pandas.concat instead.\n",
      "  df = df.append(row_dict, ignore_index=True)\n"
     ]
    },
    {
     "name": "stdout",
     "output_type": "stream",
     "text": [
      "167 / 501\n",
      "3wnxB0rBXeg\n"
     ]
    },
    {
     "name": "stderr",
     "output_type": "stream",
     "text": [
      "C:\\Users\\June\\AppData\\Local\\Temp\\ipykernel_14744\\2112170718.py:14: FutureWarning: The frame.append method is deprecated and will be removed from pandas in a future version. Use pandas.concat instead.\n",
      "  df = df.append(row_dict, ignore_index=True)\n"
     ]
    },
    {
     "name": "stdout",
     "output_type": "stream",
     "text": [
      "168 / 501\n",
      "Cx_pIcj3-ks\n"
     ]
    },
    {
     "name": "stderr",
     "output_type": "stream",
     "text": [
      "C:\\Users\\June\\AppData\\Local\\Temp\\ipykernel_14744\\2112170718.py:14: FutureWarning: The frame.append method is deprecated and will be removed from pandas in a future version. Use pandas.concat instead.\n",
      "  df = df.append(row_dict, ignore_index=True)\n"
     ]
    },
    {
     "name": "stdout",
     "output_type": "stream",
     "text": [
      "169 / 501\n",
      "v2a-eVJFVOc\n"
     ]
    },
    {
     "name": "stderr",
     "output_type": "stream",
     "text": [
      "C:\\Users\\June\\AppData\\Local\\Temp\\ipykernel_14744\\2112170718.py:14: FutureWarning: The frame.append method is deprecated and will be removed from pandas in a future version. Use pandas.concat instead.\n",
      "  df = df.append(row_dict, ignore_index=True)\n"
     ]
    },
    {
     "name": "stdout",
     "output_type": "stream",
     "text": [
      "170 / 501\n",
      "VcEUvzjJVTA\n"
     ]
    },
    {
     "name": "stderr",
     "output_type": "stream",
     "text": [
      "C:\\Users\\June\\AppData\\Local\\Temp\\ipykernel_14744\\2112170718.py:14: FutureWarning: The frame.append method is deprecated and will be removed from pandas in a future version. Use pandas.concat instead.\n",
      "  df = df.append(row_dict, ignore_index=True)\n"
     ]
    },
    {
     "name": "stdout",
     "output_type": "stream",
     "text": [
      "171 / 501\n",
      "hWtfXtOMcWk\n"
     ]
    },
    {
     "name": "stderr",
     "output_type": "stream",
     "text": [
      "C:\\Users\\June\\AppData\\Local\\Temp\\ipykernel_14744\\2112170718.py:14: FutureWarning: The frame.append method is deprecated and will be removed from pandas in a future version. Use pandas.concat instead.\n",
      "  df = df.append(row_dict, ignore_index=True)\n"
     ]
    },
    {
     "name": "stdout",
     "output_type": "stream",
     "text": [
      "172 / 501\n",
      "cRaq04fw1T8\n"
     ]
    },
    {
     "name": "stderr",
     "output_type": "stream",
     "text": [
      "C:\\Users\\June\\AppData\\Local\\Temp\\ipykernel_14744\\2112170718.py:14: FutureWarning: The frame.append method is deprecated and will be removed from pandas in a future version. Use pandas.concat instead.\n",
      "  df = df.append(row_dict, ignore_index=True)\n"
     ]
    },
    {
     "name": "stdout",
     "output_type": "stream",
     "text": [
      "173 / 501\n",
      "6efVGSL0TvY\n"
     ]
    },
    {
     "name": "stderr",
     "output_type": "stream",
     "text": [
      "C:\\Users\\June\\AppData\\Local\\Temp\\ipykernel_14744\\2112170718.py:14: FutureWarning: The frame.append method is deprecated and will be removed from pandas in a future version. Use pandas.concat instead.\n",
      "  df = df.append(row_dict, ignore_index=True)\n"
     ]
    },
    {
     "name": "stdout",
     "output_type": "stream",
     "text": [
      "174 / 501\n",
      "scVPplSHXFQ\n"
     ]
    },
    {
     "name": "stderr",
     "output_type": "stream",
     "text": [
      "C:\\Users\\June\\AppData\\Local\\Temp\\ipykernel_14744\\2112170718.py:14: FutureWarning: The frame.append method is deprecated and will be removed from pandas in a future version. Use pandas.concat instead.\n",
      "  df = df.append(row_dict, ignore_index=True)\n"
     ]
    },
    {
     "name": "stdout",
     "output_type": "stream",
     "text": [
      "175 / 501\n",
      "hYO6Nj8zldE\n"
     ]
    },
    {
     "name": "stderr",
     "output_type": "stream",
     "text": [
      "C:\\Users\\June\\AppData\\Local\\Temp\\ipykernel_14744\\2112170718.py:14: FutureWarning: The frame.append method is deprecated and will be removed from pandas in a future version. Use pandas.concat instead.\n",
      "  df = df.append(row_dict, ignore_index=True)\n"
     ]
    },
    {
     "name": "stdout",
     "output_type": "stream",
     "text": [
      "176 / 501\n",
      "D5CT6OrWXNk\n"
     ]
    },
    {
     "name": "stderr",
     "output_type": "stream",
     "text": [
      "C:\\Users\\June\\AppData\\Local\\Temp\\ipykernel_14744\\2112170718.py:14: FutureWarning: The frame.append method is deprecated and will be removed from pandas in a future version. Use pandas.concat instead.\n",
      "  df = df.append(row_dict, ignore_index=True)\n"
     ]
    },
    {
     "name": "stdout",
     "output_type": "stream",
     "text": [
      "177 / 501\n",
      "0q2U1Dgmpgg\n"
     ]
    },
    {
     "name": "stderr",
     "output_type": "stream",
     "text": [
      "C:\\Users\\June\\AppData\\Local\\Temp\\ipykernel_14744\\2112170718.py:14: FutureWarning: The frame.append method is deprecated and will be removed from pandas in a future version. Use pandas.concat instead.\n",
      "  df = df.append(row_dict, ignore_index=True)\n"
     ]
    },
    {
     "name": "stdout",
     "output_type": "stream",
     "text": [
      "178 / 501\n",
      "W5iPSx8fSLc\n"
     ]
    },
    {
     "name": "stderr",
     "output_type": "stream",
     "text": [
      "C:\\Users\\June\\AppData\\Local\\Temp\\ipykernel_14744\\2112170718.py:14: FutureWarning: The frame.append method is deprecated and will be removed from pandas in a future version. Use pandas.concat instead.\n",
      "  df = df.append(row_dict, ignore_index=True)\n"
     ]
    },
    {
     "name": "stdout",
     "output_type": "stream",
     "text": [
      "179 / 501\n",
      "x_g2QfH3F3c\n"
     ]
    },
    {
     "name": "stderr",
     "output_type": "stream",
     "text": [
      "C:\\Users\\June\\AppData\\Local\\Temp\\ipykernel_14744\\2112170718.py:14: FutureWarning: The frame.append method is deprecated and will be removed from pandas in a future version. Use pandas.concat instead.\n",
      "  df = df.append(row_dict, ignore_index=True)\n"
     ]
    },
    {
     "name": "stdout",
     "output_type": "stream",
     "text": [
      "180 / 501\n",
      "XauScOPFR2I\n"
     ]
    },
    {
     "name": "stderr",
     "output_type": "stream",
     "text": [
      "C:\\Users\\June\\AppData\\Local\\Temp\\ipykernel_14744\\2112170718.py:14: FutureWarning: The frame.append method is deprecated and will be removed from pandas in a future version. Use pandas.concat instead.\n",
      "  df = df.append(row_dict, ignore_index=True)\n"
     ]
    },
    {
     "name": "stdout",
     "output_type": "stream",
     "text": [
      "181 / 501\n",
      "pwmt-CQ10Mk\n"
     ]
    },
    {
     "name": "stderr",
     "output_type": "stream",
     "text": [
      "C:\\Users\\June\\AppData\\Local\\Temp\\ipykernel_14744\\2112170718.py:14: FutureWarning: The frame.append method is deprecated and will be removed from pandas in a future version. Use pandas.concat instead.\n",
      "  df = df.append(row_dict, ignore_index=True)\n"
     ]
    },
    {
     "name": "stdout",
     "output_type": "stream",
     "text": [
      "182 / 501\n",
      "kHKlY7dfgkc\n"
     ]
    },
    {
     "name": "stderr",
     "output_type": "stream",
     "text": [
      "C:\\Users\\June\\AppData\\Local\\Temp\\ipykernel_14744\\2112170718.py:14: FutureWarning: The frame.append method is deprecated and will be removed from pandas in a future version. Use pandas.concat instead.\n",
      "  df = df.append(row_dict, ignore_index=True)\n"
     ]
    },
    {
     "name": "stdout",
     "output_type": "stream",
     "text": [
      "183 / 501\n",
      "kf_NLe9lXVs\n"
     ]
    },
    {
     "name": "stderr",
     "output_type": "stream",
     "text": [
      "C:\\Users\\June\\AppData\\Local\\Temp\\ipykernel_14744\\2112170718.py:14: FutureWarning: The frame.append method is deprecated and will be removed from pandas in a future version. Use pandas.concat instead.\n",
      "  df = df.append(row_dict, ignore_index=True)\n"
     ]
    },
    {
     "name": "stdout",
     "output_type": "stream",
     "text": [
      "184 / 501\n",
      "NMzo2bao3gM\n"
     ]
    },
    {
     "name": "stderr",
     "output_type": "stream",
     "text": [
      "C:\\Users\\June\\AppData\\Local\\Temp\\ipykernel_14744\\2112170718.py:14: FutureWarning: The frame.append method is deprecated and will be removed from pandas in a future version. Use pandas.concat instead.\n",
      "  df = df.append(row_dict, ignore_index=True)\n"
     ]
    },
    {
     "name": "stdout",
     "output_type": "stream",
     "text": [
      "185 / 501\n",
      "dFTTMnL6bQA\n"
     ]
    },
    {
     "name": "stderr",
     "output_type": "stream",
     "text": [
      "C:\\Users\\June\\AppData\\Local\\Temp\\ipykernel_14744\\2112170718.py:14: FutureWarning: The frame.append method is deprecated and will be removed from pandas in a future version. Use pandas.concat instead.\n",
      "  df = df.append(row_dict, ignore_index=True)\n"
     ]
    },
    {
     "name": "stdout",
     "output_type": "stream",
     "text": [
      "186 / 501\n",
      "n8liH_pW0Mc\n"
     ]
    },
    {
     "name": "stderr",
     "output_type": "stream",
     "text": [
      "C:\\Users\\June\\AppData\\Local\\Temp\\ipykernel_14744\\2112170718.py:14: FutureWarning: The frame.append method is deprecated and will be removed from pandas in a future version. Use pandas.concat instead.\n",
      "  df = df.append(row_dict, ignore_index=True)\n"
     ]
    },
    {
     "name": "stdout",
     "output_type": "stream",
     "text": [
      "187 / 501\n",
      "fyq07UZgNsY\n"
     ]
    },
    {
     "name": "stderr",
     "output_type": "stream",
     "text": [
      "C:\\Users\\June\\AppData\\Local\\Temp\\ipykernel_14744\\2112170718.py:14: FutureWarning: The frame.append method is deprecated and will be removed from pandas in a future version. Use pandas.concat instead.\n",
      "  df = df.append(row_dict, ignore_index=True)\n"
     ]
    },
    {
     "name": "stdout",
     "output_type": "stream",
     "text": [
      "188 / 501\n",
      "J6nyBC9ctxs\n"
     ]
    },
    {
     "name": "stderr",
     "output_type": "stream",
     "text": [
      "C:\\Users\\June\\AppData\\Local\\Temp\\ipykernel_14744\\2112170718.py:14: FutureWarning: The frame.append method is deprecated and will be removed from pandas in a future version. Use pandas.concat instead.\n",
      "  df = df.append(row_dict, ignore_index=True)\n"
     ]
    },
    {
     "name": "stdout",
     "output_type": "stream",
     "text": [
      "189 / 501\n",
      "b7skmwFbC-E\n"
     ]
    },
    {
     "name": "stderr",
     "output_type": "stream",
     "text": [
      "C:\\Users\\June\\AppData\\Local\\Temp\\ipykernel_14744\\2112170718.py:14: FutureWarning: The frame.append method is deprecated and will be removed from pandas in a future version. Use pandas.concat instead.\n",
      "  df = df.append(row_dict, ignore_index=True)\n"
     ]
    },
    {
     "name": "stdout",
     "output_type": "stream",
     "text": [
      "190 / 501\n",
      "D1WmehsSXho\n"
     ]
    },
    {
     "name": "stderr",
     "output_type": "stream",
     "text": [
      "C:\\Users\\June\\AppData\\Local\\Temp\\ipykernel_14744\\2112170718.py:14: FutureWarning: The frame.append method is deprecated and will be removed from pandas in a future version. Use pandas.concat instead.\n",
      "  df = df.append(row_dict, ignore_index=True)\n"
     ]
    },
    {
     "name": "stdout",
     "output_type": "stream",
     "text": [
      "191 / 501\n",
      "bQwgqIaj9hU\n"
     ]
    },
    {
     "name": "stderr",
     "output_type": "stream",
     "text": [
      "C:\\Users\\June\\AppData\\Local\\Temp\\ipykernel_14744\\2112170718.py:14: FutureWarning: The frame.append method is deprecated and will be removed from pandas in a future version. Use pandas.concat instead.\n",
      "  df = df.append(row_dict, ignore_index=True)\n"
     ]
    },
    {
     "name": "stdout",
     "output_type": "stream",
     "text": [
      "192 / 501\n",
      "UZttUEqcGbQ\n"
     ]
    },
    {
     "name": "stderr",
     "output_type": "stream",
     "text": [
      "C:\\Users\\June\\AppData\\Local\\Temp\\ipykernel_14744\\2112170718.py:14: FutureWarning: The frame.append method is deprecated and will be removed from pandas in a future version. Use pandas.concat instead.\n",
      "  df = df.append(row_dict, ignore_index=True)\n"
     ]
    },
    {
     "name": "stdout",
     "output_type": "stream",
     "text": [
      "193 / 501\n",
      "yRNMYp6E5pY\n"
     ]
    },
    {
     "name": "stderr",
     "output_type": "stream",
     "text": [
      "C:\\Users\\June\\AppData\\Local\\Temp\\ipykernel_14744\\2112170718.py:14: FutureWarning: The frame.append method is deprecated and will be removed from pandas in a future version. Use pandas.concat instead.\n",
      "  df = df.append(row_dict, ignore_index=True)\n"
     ]
    },
    {
     "name": "stdout",
     "output_type": "stream",
     "text": [
      "194 / 501\n",
      "aFdhUm-1Svk\n"
     ]
    },
    {
     "name": "stderr",
     "output_type": "stream",
     "text": [
      "C:\\Users\\June\\AppData\\Local\\Temp\\ipykernel_14744\\2112170718.py:14: FutureWarning: The frame.append method is deprecated and will be removed from pandas in a future version. Use pandas.concat instead.\n",
      "  df = df.append(row_dict, ignore_index=True)\n"
     ]
    },
    {
     "name": "stdout",
     "output_type": "stream",
     "text": [
      "195 / 501\n",
      "pEfaUukbIPY\n"
     ]
    },
    {
     "name": "stderr",
     "output_type": "stream",
     "text": [
      "C:\\Users\\June\\AppData\\Local\\Temp\\ipykernel_14744\\2112170718.py:14: FutureWarning: The frame.append method is deprecated and will be removed from pandas in a future version. Use pandas.concat instead.\n",
      "  df = df.append(row_dict, ignore_index=True)\n"
     ]
    },
    {
     "name": "stdout",
     "output_type": "stream",
     "text": [
      "196 / 501\n",
      "ypP4FgztjLI\n"
     ]
    },
    {
     "name": "stderr",
     "output_type": "stream",
     "text": [
      "C:\\Users\\June\\AppData\\Local\\Temp\\ipykernel_14744\\2112170718.py:14: FutureWarning: The frame.append method is deprecated and will be removed from pandas in a future version. Use pandas.concat instead.\n",
      "  df = df.append(row_dict, ignore_index=True)\n"
     ]
    },
    {
     "name": "stdout",
     "output_type": "stream",
     "text": [
      "197 / 501\n",
      "RGLvq6PNXGo\n"
     ]
    },
    {
     "name": "stderr",
     "output_type": "stream",
     "text": [
      "C:\\Users\\June\\AppData\\Local\\Temp\\ipykernel_14744\\2112170718.py:14: FutureWarning: The frame.append method is deprecated and will be removed from pandas in a future version. Use pandas.concat instead.\n",
      "  df = df.append(row_dict, ignore_index=True)\n"
     ]
    },
    {
     "name": "stdout",
     "output_type": "stream",
     "text": [
      "198 / 501\n",
      "meChZCPTakk\n"
     ]
    },
    {
     "name": "stderr",
     "output_type": "stream",
     "text": [
      "C:\\Users\\June\\AppData\\Local\\Temp\\ipykernel_14744\\2112170718.py:14: FutureWarning: The frame.append method is deprecated and will be removed from pandas in a future version. Use pandas.concat instead.\n",
      "  df = df.append(row_dict, ignore_index=True)\n"
     ]
    },
    {
     "name": "stdout",
     "output_type": "stream",
     "text": [
      "199 / 501\n",
      "vcr0nzDbHyE\n"
     ]
    },
    {
     "name": "stderr",
     "output_type": "stream",
     "text": [
      "C:\\Users\\June\\AppData\\Local\\Temp\\ipykernel_14744\\2112170718.py:14: FutureWarning: The frame.append method is deprecated and will be removed from pandas in a future version. Use pandas.concat instead.\n",
      "  df = df.append(row_dict, ignore_index=True)\n"
     ]
    },
    {
     "name": "stdout",
     "output_type": "stream",
     "text": [
      "200 / 501\n",
      "uuMELilKVD8\n"
     ]
    },
    {
     "name": "stderr",
     "output_type": "stream",
     "text": [
      "C:\\Users\\June\\AppData\\Local\\Temp\\ipykernel_14744\\2112170718.py:14: FutureWarning: The frame.append method is deprecated and will be removed from pandas in a future version. Use pandas.concat instead.\n",
      "  df = df.append(row_dict, ignore_index=True)\n"
     ]
    },
    {
     "name": "stdout",
     "output_type": "stream",
     "text": [
      "201 / 501\n",
      "7zWd_8FF5JU\n"
     ]
    },
    {
     "name": "stderr",
     "output_type": "stream",
     "text": [
      "C:\\Users\\June\\AppData\\Local\\Temp\\ipykernel_14744\\2112170718.py:14: FutureWarning: The frame.append method is deprecated and will be removed from pandas in a future version. Use pandas.concat instead.\n",
      "  df = df.append(row_dict, ignore_index=True)\n"
     ]
    },
    {
     "name": "stdout",
     "output_type": "stream",
     "text": [
      "202 / 501\n",
      "KVuOY7KPcGg\n"
     ]
    },
    {
     "name": "stderr",
     "output_type": "stream",
     "text": [
      "C:\\Users\\June\\AppData\\Local\\Temp\\ipykernel_14744\\2112170718.py:14: FutureWarning: The frame.append method is deprecated and will be removed from pandas in a future version. Use pandas.concat instead.\n",
      "  df = df.append(row_dict, ignore_index=True)\n"
     ]
    },
    {
     "name": "stdout",
     "output_type": "stream",
     "text": [
      "203 / 501\n",
      "d_2owomYMfU\n"
     ]
    },
    {
     "name": "stderr",
     "output_type": "stream",
     "text": [
      "C:\\Users\\June\\AppData\\Local\\Temp\\ipykernel_14744\\2112170718.py:14: FutureWarning: The frame.append method is deprecated and will be removed from pandas in a future version. Use pandas.concat instead.\n",
      "  df = df.append(row_dict, ignore_index=True)\n"
     ]
    },
    {
     "name": "stdout",
     "output_type": "stream",
     "text": [
      "204 / 501\n",
      "l8Fqu995iVg\n"
     ]
    },
    {
     "name": "stderr",
     "output_type": "stream",
     "text": [
      "C:\\Users\\June\\AppData\\Local\\Temp\\ipykernel_14744\\2112170718.py:14: FutureWarning: The frame.append method is deprecated and will be removed from pandas in a future version. Use pandas.concat instead.\n",
      "  df = df.append(row_dict, ignore_index=True)\n"
     ]
    },
    {
     "name": "stdout",
     "output_type": "stream",
     "text": [
      "205 / 501\n",
      "HY4B0tuJFXA\n"
     ]
    },
    {
     "name": "stderr",
     "output_type": "stream",
     "text": [
      "C:\\Users\\June\\AppData\\Local\\Temp\\ipykernel_14744\\2112170718.py:14: FutureWarning: The frame.append method is deprecated and will be removed from pandas in a future version. Use pandas.concat instead.\n",
      "  df = df.append(row_dict, ignore_index=True)\n"
     ]
    },
    {
     "name": "stdout",
     "output_type": "stream",
     "text": [
      "206 / 501\n",
      "ZBNCG3Sbgag\n"
     ]
    },
    {
     "name": "stderr",
     "output_type": "stream",
     "text": [
      "C:\\Users\\June\\AppData\\Local\\Temp\\ipykernel_14744\\2112170718.py:14: FutureWarning: The frame.append method is deprecated and will be removed from pandas in a future version. Use pandas.concat instead.\n",
      "  df = df.append(row_dict, ignore_index=True)\n"
     ]
    },
    {
     "name": "stdout",
     "output_type": "stream",
     "text": [
      "207 / 501\n",
      "awajkh0u_o4\n"
     ]
    },
    {
     "name": "stderr",
     "output_type": "stream",
     "text": [
      "C:\\Users\\June\\AppData\\Local\\Temp\\ipykernel_14744\\2112170718.py:14: FutureWarning: The frame.append method is deprecated and will be removed from pandas in a future version. Use pandas.concat instead.\n",
      "  df = df.append(row_dict, ignore_index=True)\n"
     ]
    },
    {
     "name": "stdout",
     "output_type": "stream",
     "text": [
      "208 / 501\n",
      "b6wND7nVVgc\n"
     ]
    },
    {
     "name": "stderr",
     "output_type": "stream",
     "text": [
      "C:\\Users\\June\\AppData\\Local\\Temp\\ipykernel_14744\\2112170718.py:14: FutureWarning: The frame.append method is deprecated and will be removed from pandas in a future version. Use pandas.concat instead.\n",
      "  df = df.append(row_dict, ignore_index=True)\n"
     ]
    },
    {
     "name": "stdout",
     "output_type": "stream",
     "text": [
      "209 / 501\n",
      "s0ESXEtFpsw\n"
     ]
    },
    {
     "name": "stderr",
     "output_type": "stream",
     "text": [
      "C:\\Users\\June\\AppData\\Local\\Temp\\ipykernel_14744\\2112170718.py:14: FutureWarning: The frame.append method is deprecated and will be removed from pandas in a future version. Use pandas.concat instead.\n",
      "  df = df.append(row_dict, ignore_index=True)\n"
     ]
    },
    {
     "name": "stdout",
     "output_type": "stream",
     "text": [
      "210 / 501\n",
      "lQmrZKCYsME\n"
     ]
    },
    {
     "name": "stderr",
     "output_type": "stream",
     "text": [
      "C:\\Users\\June\\AppData\\Local\\Temp\\ipykernel_14744\\2112170718.py:14: FutureWarning: The frame.append method is deprecated and will be removed from pandas in a future version. Use pandas.concat instead.\n",
      "  df = df.append(row_dict, ignore_index=True)\n"
     ]
    },
    {
     "name": "stdout",
     "output_type": "stream",
     "text": [
      "211 / 501\n",
      "qVmfzi7mtJE\n"
     ]
    },
    {
     "name": "stderr",
     "output_type": "stream",
     "text": [
      "C:\\Users\\June\\AppData\\Local\\Temp\\ipykernel_14744\\2112170718.py:14: FutureWarning: The frame.append method is deprecated and will be removed from pandas in a future version. Use pandas.concat instead.\n",
      "  df = df.append(row_dict, ignore_index=True)\n"
     ]
    },
    {
     "name": "stdout",
     "output_type": "stream",
     "text": [
      "212 / 501\n",
      "dtlA94a3TSI\n"
     ]
    },
    {
     "name": "stderr",
     "output_type": "stream",
     "text": [
      "C:\\Users\\June\\AppData\\Local\\Temp\\ipykernel_14744\\2112170718.py:14: FutureWarning: The frame.append method is deprecated and will be removed from pandas in a future version. Use pandas.concat instead.\n",
      "  df = df.append(row_dict, ignore_index=True)\n"
     ]
    },
    {
     "name": "stdout",
     "output_type": "stream",
     "text": [
      "213 / 501\n",
      "dINOdh8os9U\n"
     ]
    },
    {
     "name": "stderr",
     "output_type": "stream",
     "text": [
      "C:\\Users\\June\\AppData\\Local\\Temp\\ipykernel_14744\\2112170718.py:14: FutureWarning: The frame.append method is deprecated and will be removed from pandas in a future version. Use pandas.concat instead.\n",
      "  df = df.append(row_dict, ignore_index=True)\n"
     ]
    },
    {
     "name": "stdout",
     "output_type": "stream",
     "text": [
      "214 / 501\n",
      "XWSnZD3Fy7g\n"
     ]
    },
    {
     "name": "stderr",
     "output_type": "stream",
     "text": [
      "C:\\Users\\June\\AppData\\Local\\Temp\\ipykernel_14744\\2112170718.py:14: FutureWarning: The frame.append method is deprecated and will be removed from pandas in a future version. Use pandas.concat instead.\n",
      "  df = df.append(row_dict, ignore_index=True)\n"
     ]
    },
    {
     "name": "stdout",
     "output_type": "stream",
     "text": [
      "215 / 501\n",
      "-ZJcXsGUhSA\n"
     ]
    },
    {
     "name": "stderr",
     "output_type": "stream",
     "text": [
      "C:\\Users\\June\\AppData\\Local\\Temp\\ipykernel_14744\\2112170718.py:14: FutureWarning: The frame.append method is deprecated and will be removed from pandas in a future version. Use pandas.concat instead.\n",
      "  df = df.append(row_dict, ignore_index=True)\n"
     ]
    },
    {
     "name": "stdout",
     "output_type": "stream",
     "text": [
      "216 / 501\n",
      "hlaCGL-ttno\n"
     ]
    },
    {
     "name": "stderr",
     "output_type": "stream",
     "text": [
      "C:\\Users\\June\\AppData\\Local\\Temp\\ipykernel_14744\\2112170718.py:14: FutureWarning: The frame.append method is deprecated and will be removed from pandas in a future version. Use pandas.concat instead.\n",
      "  df = df.append(row_dict, ignore_index=True)\n"
     ]
    },
    {
     "name": "stdout",
     "output_type": "stream",
     "text": [
      "217 / 501\n",
      "zBfdAvFDbRc\n"
     ]
    },
    {
     "name": "stderr",
     "output_type": "stream",
     "text": [
      "C:\\Users\\June\\AppData\\Local\\Temp\\ipykernel_14744\\2112170718.py:14: FutureWarning: The frame.append method is deprecated and will be removed from pandas in a future version. Use pandas.concat instead.\n",
      "  df = df.append(row_dict, ignore_index=True)\n"
     ]
    },
    {
     "name": "stdout",
     "output_type": "stream",
     "text": [
      "218 / 501\n",
      "e_n50lp5CWU\n"
     ]
    },
    {
     "name": "stderr",
     "output_type": "stream",
     "text": [
      "C:\\Users\\June\\AppData\\Local\\Temp\\ipykernel_14744\\2112170718.py:14: FutureWarning: The frame.append method is deprecated and will be removed from pandas in a future version. Use pandas.concat instead.\n",
      "  df = df.append(row_dict, ignore_index=True)\n"
     ]
    },
    {
     "name": "stdout",
     "output_type": "stream",
     "text": [
      "219 / 501\n",
      "-_hnrd99z_M\n"
     ]
    },
    {
     "name": "stderr",
     "output_type": "stream",
     "text": [
      "C:\\Users\\June\\AppData\\Local\\Temp\\ipykernel_14744\\2112170718.py:14: FutureWarning: The frame.append method is deprecated and will be removed from pandas in a future version. Use pandas.concat instead.\n",
      "  df = df.append(row_dict, ignore_index=True)\n"
     ]
    },
    {
     "name": "stdout",
     "output_type": "stream",
     "text": [
      "220 / 501\n",
      "v9HoBGVgQx0\n"
     ]
    },
    {
     "name": "stderr",
     "output_type": "stream",
     "text": [
      "C:\\Users\\June\\AppData\\Local\\Temp\\ipykernel_14744\\2112170718.py:14: FutureWarning: The frame.append method is deprecated and will be removed from pandas in a future version. Use pandas.concat instead.\n",
      "  df = df.append(row_dict, ignore_index=True)\n"
     ]
    },
    {
     "name": "stdout",
     "output_type": "stream",
     "text": [
      "221 / 501\n",
      "-4L7-cn-ZD4\n"
     ]
    },
    {
     "name": "stderr",
     "output_type": "stream",
     "text": [
      "C:\\Users\\June\\AppData\\Local\\Temp\\ipykernel_14744\\2112170718.py:14: FutureWarning: The frame.append method is deprecated and will be removed from pandas in a future version. Use pandas.concat instead.\n",
      "  df = df.append(row_dict, ignore_index=True)\n"
     ]
    },
    {
     "name": "stdout",
     "output_type": "stream",
     "text": [
      "222 / 501\n",
      "AlihE4WQ33w\n"
     ]
    },
    {
     "name": "stderr",
     "output_type": "stream",
     "text": [
      "C:\\Users\\June\\AppData\\Local\\Temp\\ipykernel_14744\\2112170718.py:14: FutureWarning: The frame.append method is deprecated and will be removed from pandas in a future version. Use pandas.concat instead.\n",
      "  df = df.append(row_dict, ignore_index=True)\n"
     ]
    },
    {
     "name": "stdout",
     "output_type": "stream",
     "text": [
      "223 / 501\n",
      "V_ZX19W3K1A\n"
     ]
    },
    {
     "name": "stderr",
     "output_type": "stream",
     "text": [
      "C:\\Users\\June\\AppData\\Local\\Temp\\ipykernel_14744\\2112170718.py:14: FutureWarning: The frame.append method is deprecated and will be removed from pandas in a future version. Use pandas.concat instead.\n",
      "  df = df.append(row_dict, ignore_index=True)\n"
     ]
    },
    {
     "name": "stdout",
     "output_type": "stream",
     "text": [
      "224 / 501\n",
      "AQXyY3wCMUQ\n"
     ]
    },
    {
     "name": "stderr",
     "output_type": "stream",
     "text": [
      "C:\\Users\\June\\AppData\\Local\\Temp\\ipykernel_14744\\2112170718.py:14: FutureWarning: The frame.append method is deprecated and will be removed from pandas in a future version. Use pandas.concat instead.\n",
      "  df = df.append(row_dict, ignore_index=True)\n"
     ]
    },
    {
     "name": "stdout",
     "output_type": "stream",
     "text": [
      "225 / 501\n",
      "nhnMCnawiZA\n"
     ]
    },
    {
     "name": "stderr",
     "output_type": "stream",
     "text": [
      "C:\\Users\\June\\AppData\\Local\\Temp\\ipykernel_14744\\2112170718.py:14: FutureWarning: The frame.append method is deprecated and will be removed from pandas in a future version. Use pandas.concat instead.\n",
      "  df = df.append(row_dict, ignore_index=True)\n"
     ]
    },
    {
     "name": "stdout",
     "output_type": "stream",
     "text": [
      "226 / 501\n",
      "AggGDj_IVTU\n"
     ]
    },
    {
     "name": "stderr",
     "output_type": "stream",
     "text": [
      "C:\\Users\\June\\AppData\\Local\\Temp\\ipykernel_14744\\2112170718.py:14: FutureWarning: The frame.append method is deprecated and will be removed from pandas in a future version. Use pandas.concat instead.\n",
      "  df = df.append(row_dict, ignore_index=True)\n"
     ]
    },
    {
     "name": "stdout",
     "output_type": "stream",
     "text": [
      "227 / 501\n",
      "Z5nZ8wTock0\n"
     ]
    },
    {
     "name": "stderr",
     "output_type": "stream",
     "text": [
      "C:\\Users\\June\\AppData\\Local\\Temp\\ipykernel_14744\\2112170718.py:14: FutureWarning: The frame.append method is deprecated and will be removed from pandas in a future version. Use pandas.concat instead.\n",
      "  df = df.append(row_dict, ignore_index=True)\n"
     ]
    },
    {
     "name": "stdout",
     "output_type": "stream",
     "text": [
      "228 / 501\n",
      "YTZmrPoRjG8\n"
     ]
    },
    {
     "name": "stderr",
     "output_type": "stream",
     "text": [
      "C:\\Users\\June\\AppData\\Local\\Temp\\ipykernel_14744\\2112170718.py:14: FutureWarning: The frame.append method is deprecated and will be removed from pandas in a future version. Use pandas.concat instead.\n",
      "  df = df.append(row_dict, ignore_index=True)\n"
     ]
    },
    {
     "name": "stdout",
     "output_type": "stream",
     "text": [
      "229 / 501\n",
      "Kw-mL5FL59g\n"
     ]
    },
    {
     "name": "stderr",
     "output_type": "stream",
     "text": [
      "C:\\Users\\June\\AppData\\Local\\Temp\\ipykernel_14744\\2112170718.py:14: FutureWarning: The frame.append method is deprecated and will be removed from pandas in a future version. Use pandas.concat instead.\n",
      "  df = df.append(row_dict, ignore_index=True)\n"
     ]
    },
    {
     "name": "stdout",
     "output_type": "stream",
     "text": [
      "230 / 501\n",
      "wmylIlmku20\n"
     ]
    },
    {
     "name": "stderr",
     "output_type": "stream",
     "text": [
      "C:\\Users\\June\\AppData\\Local\\Temp\\ipykernel_14744\\2112170718.py:14: FutureWarning: The frame.append method is deprecated and will be removed from pandas in a future version. Use pandas.concat instead.\n",
      "  df = df.append(row_dict, ignore_index=True)\n"
     ]
    },
    {
     "name": "stdout",
     "output_type": "stream",
     "text": [
      "231 / 501\n",
      "8xaRMU9Pk70\n"
     ]
    },
    {
     "name": "stderr",
     "output_type": "stream",
     "text": [
      "C:\\Users\\June\\AppData\\Local\\Temp\\ipykernel_14744\\2112170718.py:14: FutureWarning: The frame.append method is deprecated and will be removed from pandas in a future version. Use pandas.concat instead.\n",
      "  df = df.append(row_dict, ignore_index=True)\n"
     ]
    },
    {
     "name": "stdout",
     "output_type": "stream",
     "text": [
      "232 / 501\n",
      "cznLCw04YSA\n"
     ]
    },
    {
     "name": "stderr",
     "output_type": "stream",
     "text": [
      "C:\\Users\\June\\AppData\\Local\\Temp\\ipykernel_14744\\2112170718.py:14: FutureWarning: The frame.append method is deprecated and will be removed from pandas in a future version. Use pandas.concat instead.\n",
      "  df = df.append(row_dict, ignore_index=True)\n"
     ]
    },
    {
     "name": "stdout",
     "output_type": "stream",
     "text": [
      "233 / 501\n",
      "lomjGQAH2IU\n"
     ]
    },
    {
     "name": "stderr",
     "output_type": "stream",
     "text": [
      "C:\\Users\\June\\AppData\\Local\\Temp\\ipykernel_14744\\2112170718.py:14: FutureWarning: The frame.append method is deprecated and will be removed from pandas in a future version. Use pandas.concat instead.\n",
      "  df = df.append(row_dict, ignore_index=True)\n"
     ]
    },
    {
     "name": "stdout",
     "output_type": "stream",
     "text": [
      "234 / 501\n",
      "I_Pg40cOroQ\n"
     ]
    },
    {
     "name": "stderr",
     "output_type": "stream",
     "text": [
      "C:\\Users\\June\\AppData\\Local\\Temp\\ipykernel_14744\\2112170718.py:14: FutureWarning: The frame.append method is deprecated and will be removed from pandas in a future version. Use pandas.concat instead.\n",
      "  df = df.append(row_dict, ignore_index=True)\n"
     ]
    },
    {
     "name": "stdout",
     "output_type": "stream",
     "text": [
      "235 / 501\n",
      "8muMlzRSMzc\n"
     ]
    },
    {
     "name": "stderr",
     "output_type": "stream",
     "text": [
      "C:\\Users\\June\\AppData\\Local\\Temp\\ipykernel_14744\\2112170718.py:14: FutureWarning: The frame.append method is deprecated and will be removed from pandas in a future version. Use pandas.concat instead.\n",
      "  df = df.append(row_dict, ignore_index=True)\n"
     ]
    },
    {
     "name": "stdout",
     "output_type": "stream",
     "text": [
      "236 / 501\n",
      "D6oNef_c2zQ\n"
     ]
    },
    {
     "name": "stderr",
     "output_type": "stream",
     "text": [
      "C:\\Users\\June\\AppData\\Local\\Temp\\ipykernel_14744\\2112170718.py:14: FutureWarning: The frame.append method is deprecated and will be removed from pandas in a future version. Use pandas.concat instead.\n",
      "  df = df.append(row_dict, ignore_index=True)\n"
     ]
    },
    {
     "name": "stdout",
     "output_type": "stream",
     "text": [
      "237 / 501\n",
      "njZ3o0CHv6Y\n"
     ]
    },
    {
     "name": "stderr",
     "output_type": "stream",
     "text": [
      "C:\\Users\\June\\AppData\\Local\\Temp\\ipykernel_14744\\2112170718.py:14: FutureWarning: The frame.append method is deprecated and will be removed from pandas in a future version. Use pandas.concat instead.\n",
      "  df = df.append(row_dict, ignore_index=True)\n"
     ]
    },
    {
     "name": "stdout",
     "output_type": "stream",
     "text": [
      "238 / 501\n",
      "qnJpDa8u9ZA\n"
     ]
    },
    {
     "name": "stderr",
     "output_type": "stream",
     "text": [
      "C:\\Users\\June\\AppData\\Local\\Temp\\ipykernel_14744\\2112170718.py:14: FutureWarning: The frame.append method is deprecated and will be removed from pandas in a future version. Use pandas.concat instead.\n",
      "  df = df.append(row_dict, ignore_index=True)\n"
     ]
    },
    {
     "name": "stdout",
     "output_type": "stream",
     "text": [
      "239 / 501\n",
      "jtIQAeaVdbs\n"
     ]
    },
    {
     "name": "stderr",
     "output_type": "stream",
     "text": [
      "C:\\Users\\June\\AppData\\Local\\Temp\\ipykernel_14744\\2112170718.py:14: FutureWarning: The frame.append method is deprecated and will be removed from pandas in a future version. Use pandas.concat instead.\n",
      "  df = df.append(row_dict, ignore_index=True)\n"
     ]
    },
    {
     "name": "stdout",
     "output_type": "stream",
     "text": [
      "240 / 501\n",
      "YmuaaHnKSuA\n"
     ]
    },
    {
     "name": "stderr",
     "output_type": "stream",
     "text": [
      "C:\\Users\\June\\AppData\\Local\\Temp\\ipykernel_14744\\2112170718.py:14: FutureWarning: The frame.append method is deprecated and will be removed from pandas in a future version. Use pandas.concat instead.\n",
      "  df = df.append(row_dict, ignore_index=True)\n"
     ]
    },
    {
     "name": "stdout",
     "output_type": "stream",
     "text": [
      "241 / 501\n",
      "o_h3s8gDCCk\n"
     ]
    },
    {
     "name": "stderr",
     "output_type": "stream",
     "text": [
      "C:\\Users\\June\\AppData\\Local\\Temp\\ipykernel_14744\\2112170718.py:14: FutureWarning: The frame.append method is deprecated and will be removed from pandas in a future version. Use pandas.concat instead.\n",
      "  df = df.append(row_dict, ignore_index=True)\n"
     ]
    },
    {
     "name": "stdout",
     "output_type": "stream",
     "text": [
      "242 / 501\n",
      "hkxCNOsQGfs\n"
     ]
    },
    {
     "name": "stderr",
     "output_type": "stream",
     "text": [
      "C:\\Users\\June\\AppData\\Local\\Temp\\ipykernel_14744\\2112170718.py:14: FutureWarning: The frame.append method is deprecated and will be removed from pandas in a future version. Use pandas.concat instead.\n",
      "  df = df.append(row_dict, ignore_index=True)\n"
     ]
    },
    {
     "name": "stdout",
     "output_type": "stream",
     "text": [
      "243 / 501\n",
      "zzj5EzcYduM\n"
     ]
    },
    {
     "name": "stderr",
     "output_type": "stream",
     "text": [
      "C:\\Users\\June\\AppData\\Local\\Temp\\ipykernel_14744\\2112170718.py:14: FutureWarning: The frame.append method is deprecated and will be removed from pandas in a future version. Use pandas.concat instead.\n",
      "  df = df.append(row_dict, ignore_index=True)\n"
     ]
    },
    {
     "name": "stdout",
     "output_type": "stream",
     "text": [
      "244 / 501\n",
      "ckHULyRxHOk\n"
     ]
    },
    {
     "name": "stderr",
     "output_type": "stream",
     "text": [
      "C:\\Users\\June\\AppData\\Local\\Temp\\ipykernel_14744\\2112170718.py:14: FutureWarning: The frame.append method is deprecated and will be removed from pandas in a future version. Use pandas.concat instead.\n",
      "  df = df.append(row_dict, ignore_index=True)\n"
     ]
    },
    {
     "name": "stdout",
     "output_type": "stream",
     "text": [
      "245 / 501\n",
      "7lFG3vTY85I\n"
     ]
    },
    {
     "name": "stderr",
     "output_type": "stream",
     "text": [
      "C:\\Users\\June\\AppData\\Local\\Temp\\ipykernel_14744\\2112170718.py:14: FutureWarning: The frame.append method is deprecated and will be removed from pandas in a future version. Use pandas.concat instead.\n",
      "  df = df.append(row_dict, ignore_index=True)\n"
     ]
    },
    {
     "name": "stdout",
     "output_type": "stream",
     "text": [
      "246 / 501\n",
      "xF8x7d9ycts\n"
     ]
    },
    {
     "name": "stderr",
     "output_type": "stream",
     "text": [
      "C:\\Users\\June\\AppData\\Local\\Temp\\ipykernel_14744\\2112170718.py:14: FutureWarning: The frame.append method is deprecated and will be removed from pandas in a future version. Use pandas.concat instead.\n",
      "  df = df.append(row_dict, ignore_index=True)\n"
     ]
    },
    {
     "name": "stdout",
     "output_type": "stream",
     "text": [
      "247 / 501\n",
      "m2sbKzp2bDY\n"
     ]
    },
    {
     "name": "stderr",
     "output_type": "stream",
     "text": [
      "C:\\Users\\June\\AppData\\Local\\Temp\\ipykernel_14744\\2112170718.py:14: FutureWarning: The frame.append method is deprecated and will be removed from pandas in a future version. Use pandas.concat instead.\n",
      "  df = df.append(row_dict, ignore_index=True)\n"
     ]
    },
    {
     "name": "stdout",
     "output_type": "stream",
     "text": [
      "248 / 501\n",
      "459PoLMt82Q\n"
     ]
    },
    {
     "name": "stderr",
     "output_type": "stream",
     "text": [
      "C:\\Users\\June\\AppData\\Local\\Temp\\ipykernel_14744\\2112170718.py:14: FutureWarning: The frame.append method is deprecated and will be removed from pandas in a future version. Use pandas.concat instead.\n",
      "  df = df.append(row_dict, ignore_index=True)\n"
     ]
    },
    {
     "name": "stdout",
     "output_type": "stream",
     "text": [
      "249 / 501\n",
      "DdEYXFtkj_w\n"
     ]
    },
    {
     "name": "stderr",
     "output_type": "stream",
     "text": [
      "C:\\Users\\June\\AppData\\Local\\Temp\\ipykernel_14744\\2112170718.py:14: FutureWarning: The frame.append method is deprecated and will be removed from pandas in a future version. Use pandas.concat instead.\n",
      "  df = df.append(row_dict, ignore_index=True)\n"
     ]
    },
    {
     "name": "stdout",
     "output_type": "stream",
     "text": [
      "250 / 501\n",
      "OtD2JtdQV4c\n"
     ]
    },
    {
     "name": "stderr",
     "output_type": "stream",
     "text": [
      "C:\\Users\\June\\AppData\\Local\\Temp\\ipykernel_14744\\2112170718.py:14: FutureWarning: The frame.append method is deprecated and will be removed from pandas in a future version. Use pandas.concat instead.\n",
      "  df = df.append(row_dict, ignore_index=True)\n"
     ]
    },
    {
     "name": "stdout",
     "output_type": "stream",
     "text": [
      "251 / 501\n",
      "QtuGe_HPxNE\n"
     ]
    },
    {
     "name": "stderr",
     "output_type": "stream",
     "text": [
      "C:\\Users\\June\\AppData\\Local\\Temp\\ipykernel_14744\\2112170718.py:14: FutureWarning: The frame.append method is deprecated and will be removed from pandas in a future version. Use pandas.concat instead.\n",
      "  df = df.append(row_dict, ignore_index=True)\n"
     ]
    },
    {
     "name": "stdout",
     "output_type": "stream",
     "text": [
      "252 / 501\n",
      "4u7B7dynUIU\n"
     ]
    },
    {
     "name": "stderr",
     "output_type": "stream",
     "text": [
      "C:\\Users\\June\\AppData\\Local\\Temp\\ipykernel_14744\\2112170718.py:14: FutureWarning: The frame.append method is deprecated and will be removed from pandas in a future version. Use pandas.concat instead.\n",
      "  df = df.append(row_dict, ignore_index=True)\n"
     ]
    },
    {
     "name": "stdout",
     "output_type": "stream",
     "text": [
      "253 / 501\n",
      "RU9tGQkyOvg\n"
     ]
    },
    {
     "name": "stderr",
     "output_type": "stream",
     "text": [
      "C:\\Users\\June\\AppData\\Local\\Temp\\ipykernel_14744\\2112170718.py:14: FutureWarning: The frame.append method is deprecated and will be removed from pandas in a future version. Use pandas.concat instead.\n",
      "  df = df.append(row_dict, ignore_index=True)\n"
     ]
    },
    {
     "name": "stdout",
     "output_type": "stream",
     "text": [
      "254 / 501\n",
      "5kNjCf76JSw\n"
     ]
    },
    {
     "name": "stderr",
     "output_type": "stream",
     "text": [
      "C:\\Users\\June\\AppData\\Local\\Temp\\ipykernel_14744\\2112170718.py:14: FutureWarning: The frame.append method is deprecated and will be removed from pandas in a future version. Use pandas.concat instead.\n",
      "  df = df.append(row_dict, ignore_index=True)\n"
     ]
    },
    {
     "name": "stdout",
     "output_type": "stream",
     "text": [
      "255 / 501\n",
      "OFifk2zkUf0\n"
     ]
    },
    {
     "name": "stderr",
     "output_type": "stream",
     "text": [
      "C:\\Users\\June\\AppData\\Local\\Temp\\ipykernel_14744\\2112170718.py:14: FutureWarning: The frame.append method is deprecated and will be removed from pandas in a future version. Use pandas.concat instead.\n",
      "  df = df.append(row_dict, ignore_index=True)\n"
     ]
    },
    {
     "name": "stdout",
     "output_type": "stream",
     "text": [
      "256 / 501\n",
      "9cCHXpIuLJ4\n"
     ]
    },
    {
     "name": "stderr",
     "output_type": "stream",
     "text": [
      "C:\\Users\\June\\AppData\\Local\\Temp\\ipykernel_14744\\2112170718.py:14: FutureWarning: The frame.append method is deprecated and will be removed from pandas in a future version. Use pandas.concat instead.\n",
      "  df = df.append(row_dict, ignore_index=True)\n"
     ]
    },
    {
     "name": "stdout",
     "output_type": "stream",
     "text": [
      "257 / 501\n",
      "54w2X2BJ7EE\n"
     ]
    },
    {
     "name": "stderr",
     "output_type": "stream",
     "text": [
      "C:\\Users\\June\\AppData\\Local\\Temp\\ipykernel_14744\\2112170718.py:14: FutureWarning: The frame.append method is deprecated and will be removed from pandas in a future version. Use pandas.concat instead.\n",
      "  df = df.append(row_dict, ignore_index=True)\n"
     ]
    },
    {
     "name": "stdout",
     "output_type": "stream",
     "text": [
      "258 / 501\n",
      "Ho4WCmsifsU\n"
     ]
    },
    {
     "name": "stderr",
     "output_type": "stream",
     "text": [
      "C:\\Users\\June\\AppData\\Local\\Temp\\ipykernel_14744\\2112170718.py:14: FutureWarning: The frame.append method is deprecated and will be removed from pandas in a future version. Use pandas.concat instead.\n",
      "  df = df.append(row_dict, ignore_index=True)\n"
     ]
    },
    {
     "name": "stdout",
     "output_type": "stream",
     "text": [
      "259 / 501\n",
      "oKWCubQ0xJs\n"
     ]
    },
    {
     "name": "stderr",
     "output_type": "stream",
     "text": [
      "C:\\Users\\June\\AppData\\Local\\Temp\\ipykernel_14744\\2112170718.py:14: FutureWarning: The frame.append method is deprecated and will be removed from pandas in a future version. Use pandas.concat instead.\n",
      "  df = df.append(row_dict, ignore_index=True)\n"
     ]
    },
    {
     "name": "stdout",
     "output_type": "stream",
     "text": [
      "260 / 501\n",
      "zOaqRGP1F7E\n"
     ]
    },
    {
     "name": "stderr",
     "output_type": "stream",
     "text": [
      "C:\\Users\\June\\AppData\\Local\\Temp\\ipykernel_14744\\2112170718.py:14: FutureWarning: The frame.append method is deprecated and will be removed from pandas in a future version. Use pandas.concat instead.\n",
      "  df = df.append(row_dict, ignore_index=True)\n"
     ]
    },
    {
     "name": "stdout",
     "output_type": "stream",
     "text": [
      "261 / 501\n",
      "eFIX5cxGi-Q\n"
     ]
    },
    {
     "name": "stderr",
     "output_type": "stream",
     "text": [
      "C:\\Users\\June\\AppData\\Local\\Temp\\ipykernel_14744\\2112170718.py:14: FutureWarning: The frame.append method is deprecated and will be removed from pandas in a future version. Use pandas.concat instead.\n",
      "  df = df.append(row_dict, ignore_index=True)\n"
     ]
    },
    {
     "name": "stdout",
     "output_type": "stream",
     "text": [
      "262 / 501\n",
      "R0HmuvWC5tg\n"
     ]
    },
    {
     "name": "stderr",
     "output_type": "stream",
     "text": [
      "C:\\Users\\June\\AppData\\Local\\Temp\\ipykernel_14744\\2112170718.py:14: FutureWarning: The frame.append method is deprecated and will be removed from pandas in a future version. Use pandas.concat instead.\n",
      "  df = df.append(row_dict, ignore_index=True)\n"
     ]
    },
    {
     "name": "stdout",
     "output_type": "stream",
     "text": [
      "263 / 501\n",
      "zWsgyjhR-OE\n"
     ]
    },
    {
     "name": "stderr",
     "output_type": "stream",
     "text": [
      "C:\\Users\\June\\AppData\\Local\\Temp\\ipykernel_14744\\2112170718.py:14: FutureWarning: The frame.append method is deprecated and will be removed from pandas in a future version. Use pandas.concat instead.\n",
      "  df = df.append(row_dict, ignore_index=True)\n"
     ]
    },
    {
     "name": "stdout",
     "output_type": "stream",
     "text": [
      "264 / 501\n",
      "mHCE1467rDk\n"
     ]
    },
    {
     "name": "stderr",
     "output_type": "stream",
     "text": [
      "C:\\Users\\June\\AppData\\Local\\Temp\\ipykernel_14744\\2112170718.py:14: FutureWarning: The frame.append method is deprecated and will be removed from pandas in a future version. Use pandas.concat instead.\n",
      "  df = df.append(row_dict, ignore_index=True)\n"
     ]
    },
    {
     "name": "stdout",
     "output_type": "stream",
     "text": [
      "265 / 501\n",
      "3VLP69gYhJw\n"
     ]
    },
    {
     "name": "stderr",
     "output_type": "stream",
     "text": [
      "C:\\Users\\June\\AppData\\Local\\Temp\\ipykernel_14744\\2112170718.py:14: FutureWarning: The frame.append method is deprecated and will be removed from pandas in a future version. Use pandas.concat instead.\n",
      "  df = df.append(row_dict, ignore_index=True)\n"
     ]
    },
    {
     "name": "stdout",
     "output_type": "stream",
     "text": [
      "266 / 501\n",
      "fRpsPGWnbDU\n"
     ]
    },
    {
     "name": "stderr",
     "output_type": "stream",
     "text": [
      "C:\\Users\\June\\AppData\\Local\\Temp\\ipykernel_14744\\2112170718.py:14: FutureWarning: The frame.append method is deprecated and will be removed from pandas in a future version. Use pandas.concat instead.\n",
      "  df = df.append(row_dict, ignore_index=True)\n"
     ]
    },
    {
     "name": "stdout",
     "output_type": "stream",
     "text": [
      "267 / 501\n",
      "fTKjiVJ6fuI\n"
     ]
    },
    {
     "name": "stderr",
     "output_type": "stream",
     "text": [
      "C:\\Users\\June\\AppData\\Local\\Temp\\ipykernel_14744\\2112170718.py:14: FutureWarning: The frame.append method is deprecated and will be removed from pandas in a future version. Use pandas.concat instead.\n",
      "  df = df.append(row_dict, ignore_index=True)\n"
     ]
    },
    {
     "name": "stdout",
     "output_type": "stream",
     "text": [
      "268 / 501\n",
      "7VB8AREYeL8\n"
     ]
    },
    {
     "name": "stderr",
     "output_type": "stream",
     "text": [
      "C:\\Users\\June\\AppData\\Local\\Temp\\ipykernel_14744\\2112170718.py:14: FutureWarning: The frame.append method is deprecated and will be removed from pandas in a future version. Use pandas.concat instead.\n",
      "  df = df.append(row_dict, ignore_index=True)\n"
     ]
    },
    {
     "name": "stdout",
     "output_type": "stream",
     "text": [
      "269 / 501\n",
      "saFQ-EZl6dc\n"
     ]
    },
    {
     "name": "stderr",
     "output_type": "stream",
     "text": [
      "C:\\Users\\June\\AppData\\Local\\Temp\\ipykernel_14744\\2112170718.py:14: FutureWarning: The frame.append method is deprecated and will be removed from pandas in a future version. Use pandas.concat instead.\n",
      "  df = df.append(row_dict, ignore_index=True)\n"
     ]
    },
    {
     "name": "stdout",
     "output_type": "stream",
     "text": [
      "270 / 501\n",
      "-VUuOgXNTI4\n"
     ]
    },
    {
     "name": "stderr",
     "output_type": "stream",
     "text": [
      "C:\\Users\\June\\AppData\\Local\\Temp\\ipykernel_14744\\2112170718.py:14: FutureWarning: The frame.append method is deprecated and will be removed from pandas in a future version. Use pandas.concat instead.\n",
      "  df = df.append(row_dict, ignore_index=True)\n"
     ]
    },
    {
     "name": "stdout",
     "output_type": "stream",
     "text": [
      "271 / 501\n",
      "Xq6_GscZYbo\n"
     ]
    },
    {
     "name": "stderr",
     "output_type": "stream",
     "text": [
      "C:\\Users\\June\\AppData\\Local\\Temp\\ipykernel_14744\\2112170718.py:14: FutureWarning: The frame.append method is deprecated and will be removed from pandas in a future version. Use pandas.concat instead.\n",
      "  df = df.append(row_dict, ignore_index=True)\n"
     ]
    },
    {
     "name": "stdout",
     "output_type": "stream",
     "text": [
      "272 / 501\n",
      "BpxYrggvX6U\n"
     ]
    },
    {
     "name": "stderr",
     "output_type": "stream",
     "text": [
      "C:\\Users\\June\\AppData\\Local\\Temp\\ipykernel_14744\\2112170718.py:14: FutureWarning: The frame.append method is deprecated and will be removed from pandas in a future version. Use pandas.concat instead.\n",
      "  df = df.append(row_dict, ignore_index=True)\n"
     ]
    },
    {
     "name": "stdout",
     "output_type": "stream",
     "text": [
      "273 / 501\n",
      "smAgk5_BouE\n"
     ]
    },
    {
     "name": "stderr",
     "output_type": "stream",
     "text": [
      "C:\\Users\\June\\AppData\\Local\\Temp\\ipykernel_14744\\2112170718.py:14: FutureWarning: The frame.append method is deprecated and will be removed from pandas in a future version. Use pandas.concat instead.\n",
      "  df = df.append(row_dict, ignore_index=True)\n"
     ]
    },
    {
     "name": "stdout",
     "output_type": "stream",
     "text": [
      "274 / 501\n",
      "S8luMxVDlEI\n"
     ]
    },
    {
     "name": "stderr",
     "output_type": "stream",
     "text": [
      "C:\\Users\\June\\AppData\\Local\\Temp\\ipykernel_14744\\2112170718.py:14: FutureWarning: The frame.append method is deprecated and will be removed from pandas in a future version. Use pandas.concat instead.\n",
      "  df = df.append(row_dict, ignore_index=True)\n"
     ]
    },
    {
     "name": "stdout",
     "output_type": "stream",
     "text": [
      "275 / 501\n",
      "Ip7bKoaKSjI\n"
     ]
    },
    {
     "name": "stderr",
     "output_type": "stream",
     "text": [
      "C:\\Users\\June\\AppData\\Local\\Temp\\ipykernel_14744\\2112170718.py:14: FutureWarning: The frame.append method is deprecated and will be removed from pandas in a future version. Use pandas.concat instead.\n",
      "  df = df.append(row_dict, ignore_index=True)\n"
     ]
    },
    {
     "name": "stdout",
     "output_type": "stream",
     "text": [
      "276 / 501\n",
      "UHYzh4daWgM\n"
     ]
    },
    {
     "name": "stderr",
     "output_type": "stream",
     "text": [
      "C:\\Users\\June\\AppData\\Local\\Temp\\ipykernel_14744\\2112170718.py:14: FutureWarning: The frame.append method is deprecated and will be removed from pandas in a future version. Use pandas.concat instead.\n",
      "  df = df.append(row_dict, ignore_index=True)\n"
     ]
    },
    {
     "name": "stdout",
     "output_type": "stream",
     "text": [
      "277 / 501\n",
      "IYZSGuz7pZk\n"
     ]
    },
    {
     "name": "stderr",
     "output_type": "stream",
     "text": [
      "C:\\Users\\June\\AppData\\Local\\Temp\\ipykernel_14744\\2112170718.py:14: FutureWarning: The frame.append method is deprecated and will be removed from pandas in a future version. Use pandas.concat instead.\n",
      "  df = df.append(row_dict, ignore_index=True)\n"
     ]
    },
    {
     "name": "stdout",
     "output_type": "stream",
     "text": [
      "278 / 501\n",
      "vpGP9N9rRUQ\n"
     ]
    },
    {
     "name": "stderr",
     "output_type": "stream",
     "text": [
      "C:\\Users\\June\\AppData\\Local\\Temp\\ipykernel_14744\\2112170718.py:14: FutureWarning: The frame.append method is deprecated and will be removed from pandas in a future version. Use pandas.concat instead.\n",
      "  df = df.append(row_dict, ignore_index=True)\n"
     ]
    },
    {
     "name": "stdout",
     "output_type": "stream",
     "text": [
      "279 / 501\n",
      "WISw-qCU0rc\n"
     ]
    },
    {
     "name": "stderr",
     "output_type": "stream",
     "text": [
      "C:\\Users\\June\\AppData\\Local\\Temp\\ipykernel_14744\\2112170718.py:14: FutureWarning: The frame.append method is deprecated and will be removed from pandas in a future version. Use pandas.concat instead.\n",
      "  df = df.append(row_dict, ignore_index=True)\n"
     ]
    },
    {
     "name": "stdout",
     "output_type": "stream",
     "text": [
      "280 / 501\n",
      "MMzDkzlrN1A\n"
     ]
    },
    {
     "name": "stderr",
     "output_type": "stream",
     "text": [
      "C:\\Users\\June\\AppData\\Local\\Temp\\ipykernel_14744\\2112170718.py:14: FutureWarning: The frame.append method is deprecated and will be removed from pandas in a future version. Use pandas.concat instead.\n",
      "  df = df.append(row_dict, ignore_index=True)\n"
     ]
    },
    {
     "name": "stdout",
     "output_type": "stream",
     "text": [
      "281 / 501\n",
      "PpWM851Y8ow\n"
     ]
    },
    {
     "name": "stderr",
     "output_type": "stream",
     "text": [
      "C:\\Users\\June\\AppData\\Local\\Temp\\ipykernel_14744\\2112170718.py:14: FutureWarning: The frame.append method is deprecated and will be removed from pandas in a future version. Use pandas.concat instead.\n",
      "  df = df.append(row_dict, ignore_index=True)\n"
     ]
    },
    {
     "name": "stdout",
     "output_type": "stream",
     "text": [
      "282 / 501\n",
      "qAkJrkqp9SI\n"
     ]
    },
    {
     "name": "stderr",
     "output_type": "stream",
     "text": [
      "C:\\Users\\June\\AppData\\Local\\Temp\\ipykernel_14744\\2112170718.py:14: FutureWarning: The frame.append method is deprecated and will be removed from pandas in a future version. Use pandas.concat instead.\n",
      "  df = df.append(row_dict, ignore_index=True)\n"
     ]
    },
    {
     "name": "stdout",
     "output_type": "stream",
     "text": [
      "283 / 501\n",
      "1zyPI6MUa-w\n"
     ]
    },
    {
     "name": "stderr",
     "output_type": "stream",
     "text": [
      "C:\\Users\\June\\AppData\\Local\\Temp\\ipykernel_14744\\2112170718.py:14: FutureWarning: The frame.append method is deprecated and will be removed from pandas in a future version. Use pandas.concat instead.\n",
      "  df = df.append(row_dict, ignore_index=True)\n"
     ]
    },
    {
     "name": "stdout",
     "output_type": "stream",
     "text": [
      "284 / 501\n",
      "M1v-AqKMANY\n"
     ]
    },
    {
     "name": "stderr",
     "output_type": "stream",
     "text": [
      "C:\\Users\\June\\AppData\\Local\\Temp\\ipykernel_14744\\2112170718.py:14: FutureWarning: The frame.append method is deprecated and will be removed from pandas in a future version. Use pandas.concat instead.\n",
      "  df = df.append(row_dict, ignore_index=True)\n"
     ]
    },
    {
     "name": "stdout",
     "output_type": "stream",
     "text": [
      "285 / 501\n",
      "pcP0Uvb4t5A\n"
     ]
    },
    {
     "name": "stderr",
     "output_type": "stream",
     "text": [
      "C:\\Users\\June\\AppData\\Local\\Temp\\ipykernel_14744\\2112170718.py:14: FutureWarning: The frame.append method is deprecated and will be removed from pandas in a future version. Use pandas.concat instead.\n",
      "  df = df.append(row_dict, ignore_index=True)\n"
     ]
    },
    {
     "name": "stdout",
     "output_type": "stream",
     "text": [
      "286 / 501\n",
      "y5ZOOi1AreU\n"
     ]
    },
    {
     "name": "stderr",
     "output_type": "stream",
     "text": [
      "C:\\Users\\June\\AppData\\Local\\Temp\\ipykernel_14744\\2112170718.py:14: FutureWarning: The frame.append method is deprecated and will be removed from pandas in a future version. Use pandas.concat instead.\n",
      "  df = df.append(row_dict, ignore_index=True)\n"
     ]
    },
    {
     "name": "stdout",
     "output_type": "stream",
     "text": [
      "287 / 501\n",
      "gFFh-7BGZHw\n"
     ]
    },
    {
     "name": "stderr",
     "output_type": "stream",
     "text": [
      "C:\\Users\\June\\AppData\\Local\\Temp\\ipykernel_14744\\2112170718.py:14: FutureWarning: The frame.append method is deprecated and will be removed from pandas in a future version. Use pandas.concat instead.\n",
      "  df = df.append(row_dict, ignore_index=True)\n"
     ]
    },
    {
     "name": "stdout",
     "output_type": "stream",
     "text": [
      "288 / 501\n",
      "D02dpR1R4_0\n"
     ]
    },
    {
     "name": "stderr",
     "output_type": "stream",
     "text": [
      "C:\\Users\\June\\AppData\\Local\\Temp\\ipykernel_14744\\2112170718.py:14: FutureWarning: The frame.append method is deprecated and will be removed from pandas in a future version. Use pandas.concat instead.\n",
      "  df = df.append(row_dict, ignore_index=True)\n"
     ]
    },
    {
     "name": "stdout",
     "output_type": "stream",
     "text": [
      "289 / 501\n",
      "N9v1MU8G_O8\n"
     ]
    },
    {
     "name": "stderr",
     "output_type": "stream",
     "text": [
      "C:\\Users\\June\\AppData\\Local\\Temp\\ipykernel_14744\\2112170718.py:14: FutureWarning: The frame.append method is deprecated and will be removed from pandas in a future version. Use pandas.concat instead.\n",
      "  df = df.append(row_dict, ignore_index=True)\n"
     ]
    },
    {
     "name": "stdout",
     "output_type": "stream",
     "text": [
      "290 / 501\n",
      "Tcl9RSvyk5U\n"
     ]
    },
    {
     "name": "stderr",
     "output_type": "stream",
     "text": [
      "C:\\Users\\June\\AppData\\Local\\Temp\\ipykernel_14744\\2112170718.py:14: FutureWarning: The frame.append method is deprecated and will be removed from pandas in a future version. Use pandas.concat instead.\n",
      "  df = df.append(row_dict, ignore_index=True)\n"
     ]
    },
    {
     "name": "stdout",
     "output_type": "stream",
     "text": [
      "291 / 501\n",
      "1npyzRY9-q4\n"
     ]
    },
    {
     "name": "stderr",
     "output_type": "stream",
     "text": [
      "C:\\Users\\June\\AppData\\Local\\Temp\\ipykernel_14744\\2112170718.py:14: FutureWarning: The frame.append method is deprecated and will be removed from pandas in a future version. Use pandas.concat instead.\n",
      "  df = df.append(row_dict, ignore_index=True)\n"
     ]
    },
    {
     "name": "stdout",
     "output_type": "stream",
     "text": [
      "292 / 501\n",
      "hVpimP9iO_E\n"
     ]
    },
    {
     "name": "stderr",
     "output_type": "stream",
     "text": [
      "C:\\Users\\June\\AppData\\Local\\Temp\\ipykernel_14744\\2112170718.py:14: FutureWarning: The frame.append method is deprecated and will be removed from pandas in a future version. Use pandas.concat instead.\n",
      "  df = df.append(row_dict, ignore_index=True)\n"
     ]
    },
    {
     "name": "stdout",
     "output_type": "stream",
     "text": [
      "293 / 501\n",
      "iEIxOzw_tWc\n"
     ]
    },
    {
     "name": "stderr",
     "output_type": "stream",
     "text": [
      "C:\\Users\\June\\AppData\\Local\\Temp\\ipykernel_14744\\2112170718.py:14: FutureWarning: The frame.append method is deprecated and will be removed from pandas in a future version. Use pandas.concat instead.\n",
      "  df = df.append(row_dict, ignore_index=True)\n"
     ]
    },
    {
     "name": "stdout",
     "output_type": "stream",
     "text": [
      "294 / 501\n",
      "aH-94ovHZPI\n"
     ]
    },
    {
     "name": "stderr",
     "output_type": "stream",
     "text": [
      "C:\\Users\\June\\AppData\\Local\\Temp\\ipykernel_14744\\2112170718.py:14: FutureWarning: The frame.append method is deprecated and will be removed from pandas in a future version. Use pandas.concat instead.\n",
      "  df = df.append(row_dict, ignore_index=True)\n"
     ]
    },
    {
     "name": "stdout",
     "output_type": "stream",
     "text": [
      "295 / 501\n",
      "nagdNSgBhfk\n"
     ]
    },
    {
     "name": "stderr",
     "output_type": "stream",
     "text": [
      "C:\\Users\\June\\AppData\\Local\\Temp\\ipykernel_14744\\2112170718.py:14: FutureWarning: The frame.append method is deprecated and will be removed from pandas in a future version. Use pandas.concat instead.\n",
      "  df = df.append(row_dict, ignore_index=True)\n"
     ]
    },
    {
     "name": "stdout",
     "output_type": "stream",
     "text": [
      "296 / 501\n",
      "Pn6KvIvNm7E\n"
     ]
    },
    {
     "name": "stderr",
     "output_type": "stream",
     "text": [
      "C:\\Users\\June\\AppData\\Local\\Temp\\ipykernel_14744\\2112170718.py:14: FutureWarning: The frame.append method is deprecated and will be removed from pandas in a future version. Use pandas.concat instead.\n",
      "  df = df.append(row_dict, ignore_index=True)\n"
     ]
    },
    {
     "name": "stdout",
     "output_type": "stream",
     "text": [
      "297 / 501\n",
      "YSRXKVYgJ0E\n"
     ]
    },
    {
     "name": "stderr",
     "output_type": "stream",
     "text": [
      "C:\\Users\\June\\AppData\\Local\\Temp\\ipykernel_14744\\2112170718.py:14: FutureWarning: The frame.append method is deprecated and will be removed from pandas in a future version. Use pandas.concat instead.\n",
      "  df = df.append(row_dict, ignore_index=True)\n"
     ]
    },
    {
     "name": "stdout",
     "output_type": "stream",
     "text": [
      "298 / 501\n",
      "qv829gU9NIU\n"
     ]
    },
    {
     "name": "stderr",
     "output_type": "stream",
     "text": [
      "C:\\Users\\June\\AppData\\Local\\Temp\\ipykernel_14744\\2112170718.py:14: FutureWarning: The frame.append method is deprecated and will be removed from pandas in a future version. Use pandas.concat instead.\n",
      "  df = df.append(row_dict, ignore_index=True)\n"
     ]
    },
    {
     "name": "stdout",
     "output_type": "stream",
     "text": [
      "299 / 501\n",
      "I2T1y2CbnuE\n"
     ]
    },
    {
     "name": "stderr",
     "output_type": "stream",
     "text": [
      "C:\\Users\\June\\AppData\\Local\\Temp\\ipykernel_14744\\2112170718.py:14: FutureWarning: The frame.append method is deprecated and will be removed from pandas in a future version. Use pandas.concat instead.\n",
      "  df = df.append(row_dict, ignore_index=True)\n"
     ]
    },
    {
     "name": "stdout",
     "output_type": "stream",
     "text": [
      "300 / 501\n",
      "aQKHPB1L21Y\n"
     ]
    },
    {
     "name": "stderr",
     "output_type": "stream",
     "text": [
      "C:\\Users\\June\\AppData\\Local\\Temp\\ipykernel_14744\\2112170718.py:14: FutureWarning: The frame.append method is deprecated and will be removed from pandas in a future version. Use pandas.concat instead.\n",
      "  df = df.append(row_dict, ignore_index=True)\n"
     ]
    },
    {
     "name": "stdout",
     "output_type": "stream",
     "text": [
      "301 / 501\n",
      "LInAlSXgEys\n"
     ]
    },
    {
     "name": "stderr",
     "output_type": "stream",
     "text": [
      "C:\\Users\\June\\AppData\\Local\\Temp\\ipykernel_14744\\2112170718.py:14: FutureWarning: The frame.append method is deprecated and will be removed from pandas in a future version. Use pandas.concat instead.\n",
      "  df = df.append(row_dict, ignore_index=True)\n"
     ]
    },
    {
     "name": "stdout",
     "output_type": "stream",
     "text": [
      "302 / 501\n",
      "k-rqdDGQtPU\n"
     ]
    },
    {
     "name": "stderr",
     "output_type": "stream",
     "text": [
      "C:\\Users\\June\\AppData\\Local\\Temp\\ipykernel_14744\\2112170718.py:14: FutureWarning: The frame.append method is deprecated and will be removed from pandas in a future version. Use pandas.concat instead.\n",
      "  df = df.append(row_dict, ignore_index=True)\n"
     ]
    },
    {
     "name": "stdout",
     "output_type": "stream",
     "text": [
      "303 / 501\n",
      "PXPfzZ1xWpE\n"
     ]
    },
    {
     "name": "stderr",
     "output_type": "stream",
     "text": [
      "C:\\Users\\June\\AppData\\Local\\Temp\\ipykernel_14744\\2112170718.py:14: FutureWarning: The frame.append method is deprecated and will be removed from pandas in a future version. Use pandas.concat instead.\n",
      "  df = df.append(row_dict, ignore_index=True)\n"
     ]
    },
    {
     "name": "stdout",
     "output_type": "stream",
     "text": [
      "304 / 501\n",
      "IqmgZ5apM0c\n"
     ]
    },
    {
     "name": "stderr",
     "output_type": "stream",
     "text": [
      "C:\\Users\\June\\AppData\\Local\\Temp\\ipykernel_14744\\2112170718.py:14: FutureWarning: The frame.append method is deprecated and will be removed from pandas in a future version. Use pandas.concat instead.\n",
      "  df = df.append(row_dict, ignore_index=True)\n"
     ]
    },
    {
     "name": "stdout",
     "output_type": "stream",
     "text": [
      "305 / 501\n",
      "WWPqcx5kpSg\n"
     ]
    },
    {
     "name": "stderr",
     "output_type": "stream",
     "text": [
      "C:\\Users\\June\\AppData\\Local\\Temp\\ipykernel_14744\\2112170718.py:14: FutureWarning: The frame.append method is deprecated and will be removed from pandas in a future version. Use pandas.concat instead.\n",
      "  df = df.append(row_dict, ignore_index=True)\n"
     ]
    },
    {
     "name": "stdout",
     "output_type": "stream",
     "text": [
      "306 / 501\n",
      "-cAnZemBevE\n"
     ]
    },
    {
     "name": "stderr",
     "output_type": "stream",
     "text": [
      "C:\\Users\\June\\AppData\\Local\\Temp\\ipykernel_14744\\2112170718.py:14: FutureWarning: The frame.append method is deprecated and will be removed from pandas in a future version. Use pandas.concat instead.\n",
      "  df = df.append(row_dict, ignore_index=True)\n"
     ]
    },
    {
     "name": "stdout",
     "output_type": "stream",
     "text": [
      "307 / 501\n",
      "oMb1gxv-ckc\n"
     ]
    },
    {
     "name": "stderr",
     "output_type": "stream",
     "text": [
      "C:\\Users\\June\\AppData\\Local\\Temp\\ipykernel_14744\\2112170718.py:14: FutureWarning: The frame.append method is deprecated and will be removed from pandas in a future version. Use pandas.concat instead.\n",
      "  df = df.append(row_dict, ignore_index=True)\n"
     ]
    },
    {
     "name": "stdout",
     "output_type": "stream",
     "text": [
      "308 / 501\n",
      "DbK_j3tWHf4\n"
     ]
    },
    {
     "name": "stderr",
     "output_type": "stream",
     "text": [
      "C:\\Users\\June\\AppData\\Local\\Temp\\ipykernel_14744\\2112170718.py:14: FutureWarning: The frame.append method is deprecated and will be removed from pandas in a future version. Use pandas.concat instead.\n",
      "  df = df.append(row_dict, ignore_index=True)\n"
     ]
    },
    {
     "name": "stdout",
     "output_type": "stream",
     "text": [
      "309 / 501\n",
      "tuK3aweESbU\n"
     ]
    },
    {
     "name": "stderr",
     "output_type": "stream",
     "text": [
      "C:\\Users\\June\\AppData\\Local\\Temp\\ipykernel_14744\\2112170718.py:14: FutureWarning: The frame.append method is deprecated and will be removed from pandas in a future version. Use pandas.concat instead.\n",
      "  df = df.append(row_dict, ignore_index=True)\n"
     ]
    },
    {
     "name": "stdout",
     "output_type": "stream",
     "text": [
      "310 / 501\n",
      "FXdiaYrLKsw\n"
     ]
    },
    {
     "name": "stderr",
     "output_type": "stream",
     "text": [
      "C:\\Users\\June\\AppData\\Local\\Temp\\ipykernel_14744\\2112170718.py:14: FutureWarning: The frame.append method is deprecated and will be removed from pandas in a future version. Use pandas.concat instead.\n",
      "  df = df.append(row_dict, ignore_index=True)\n"
     ]
    },
    {
     "name": "stdout",
     "output_type": "stream",
     "text": [
      "311 / 501\n",
      "hAz0IFrGV2c\n"
     ]
    },
    {
     "name": "stderr",
     "output_type": "stream",
     "text": [
      "C:\\Users\\June\\AppData\\Local\\Temp\\ipykernel_14744\\2112170718.py:14: FutureWarning: The frame.append method is deprecated and will be removed from pandas in a future version. Use pandas.concat instead.\n",
      "  df = df.append(row_dict, ignore_index=True)\n"
     ]
    },
    {
     "name": "stdout",
     "output_type": "stream",
     "text": [
      "312 / 501\n",
      "SYjie1wPHnI\n"
     ]
    },
    {
     "name": "stderr",
     "output_type": "stream",
     "text": [
      "C:\\Users\\June\\AppData\\Local\\Temp\\ipykernel_14744\\2112170718.py:14: FutureWarning: The frame.append method is deprecated and will be removed from pandas in a future version. Use pandas.concat instead.\n",
      "  df = df.append(row_dict, ignore_index=True)\n"
     ]
    },
    {
     "name": "stdout",
     "output_type": "stream",
     "text": [
      "313 / 501\n",
      "Fk-0XRcLZno\n"
     ]
    },
    {
     "name": "stderr",
     "output_type": "stream",
     "text": [
      "C:\\Users\\June\\AppData\\Local\\Temp\\ipykernel_14744\\2112170718.py:14: FutureWarning: The frame.append method is deprecated and will be removed from pandas in a future version. Use pandas.concat instead.\n",
      "  df = df.append(row_dict, ignore_index=True)\n"
     ]
    },
    {
     "name": "stdout",
     "output_type": "stream",
     "text": [
      "314 / 501\n",
      "SXl_pnG0j94\n"
     ]
    },
    {
     "name": "stderr",
     "output_type": "stream",
     "text": [
      "C:\\Users\\June\\AppData\\Local\\Temp\\ipykernel_14744\\2112170718.py:14: FutureWarning: The frame.append method is deprecated and will be removed from pandas in a future version. Use pandas.concat instead.\n",
      "  df = df.append(row_dict, ignore_index=True)\n"
     ]
    },
    {
     "name": "stdout",
     "output_type": "stream",
     "text": [
      "315 / 501\n",
      "fIKsJ3rdNQE\n"
     ]
    },
    {
     "name": "stderr",
     "output_type": "stream",
     "text": [
      "C:\\Users\\June\\AppData\\Local\\Temp\\ipykernel_14744\\2112170718.py:14: FutureWarning: The frame.append method is deprecated and will be removed from pandas in a future version. Use pandas.concat instead.\n",
      "  df = df.append(row_dict, ignore_index=True)\n"
     ]
    },
    {
     "name": "stdout",
     "output_type": "stream",
     "text": [
      "316 / 501\n",
      "MYTbq7PPpOs\n"
     ]
    },
    {
     "name": "stderr",
     "output_type": "stream",
     "text": [
      "C:\\Users\\June\\AppData\\Local\\Temp\\ipykernel_14744\\2112170718.py:14: FutureWarning: The frame.append method is deprecated and will be removed from pandas in a future version. Use pandas.concat instead.\n",
      "  df = df.append(row_dict, ignore_index=True)\n"
     ]
    },
    {
     "name": "stdout",
     "output_type": "stream",
     "text": [
      "317 / 501\n",
      "F8nzqCKXBIw\n"
     ]
    },
    {
     "name": "stderr",
     "output_type": "stream",
     "text": [
      "C:\\Users\\June\\AppData\\Local\\Temp\\ipykernel_14744\\2112170718.py:14: FutureWarning: The frame.append method is deprecated and will be removed from pandas in a future version. Use pandas.concat instead.\n",
      "  df = df.append(row_dict, ignore_index=True)\n"
     ]
    },
    {
     "name": "stdout",
     "output_type": "stream",
     "text": [
      "318 / 501\n",
      "dOt5XkvB7wQ\n"
     ]
    },
    {
     "name": "stderr",
     "output_type": "stream",
     "text": [
      "C:\\Users\\June\\AppData\\Local\\Temp\\ipykernel_14744\\2112170718.py:14: FutureWarning: The frame.append method is deprecated and will be removed from pandas in a future version. Use pandas.concat instead.\n",
      "  df = df.append(row_dict, ignore_index=True)\n"
     ]
    },
    {
     "name": "stdout",
     "output_type": "stream",
     "text": [
      "319 / 501\n",
      "neJBWvrutUA\n"
     ]
    },
    {
     "name": "stderr",
     "output_type": "stream",
     "text": [
      "C:\\Users\\June\\AppData\\Local\\Temp\\ipykernel_14744\\2112170718.py:14: FutureWarning: The frame.append method is deprecated and will be removed from pandas in a future version. Use pandas.concat instead.\n",
      "  df = df.append(row_dict, ignore_index=True)\n"
     ]
    },
    {
     "name": "stdout",
     "output_type": "stream",
     "text": [
      "320 / 501\n",
      "Kf3Sz4fkYh4\n"
     ]
    },
    {
     "name": "stderr",
     "output_type": "stream",
     "text": [
      "C:\\Users\\June\\AppData\\Local\\Temp\\ipykernel_14744\\2112170718.py:14: FutureWarning: The frame.append method is deprecated and will be removed from pandas in a future version. Use pandas.concat instead.\n",
      "  df = df.append(row_dict, ignore_index=True)\n"
     ]
    },
    {
     "name": "stdout",
     "output_type": "stream",
     "text": [
      "321 / 501\n",
      "7uF0eyZVnqs\n"
     ]
    },
    {
     "name": "stderr",
     "output_type": "stream",
     "text": [
      "C:\\Users\\June\\AppData\\Local\\Temp\\ipykernel_14744\\2112170718.py:14: FutureWarning: The frame.append method is deprecated and will be removed from pandas in a future version. Use pandas.concat instead.\n",
      "  df = df.append(row_dict, ignore_index=True)\n"
     ]
    },
    {
     "name": "stdout",
     "output_type": "stream",
     "text": [
      "322 / 501\n",
      "Tho3Rc_K_NY\n"
     ]
    },
    {
     "name": "stderr",
     "output_type": "stream",
     "text": [
      "C:\\Users\\June\\AppData\\Local\\Temp\\ipykernel_14744\\2112170718.py:14: FutureWarning: The frame.append method is deprecated and will be removed from pandas in a future version. Use pandas.concat instead.\n",
      "  df = df.append(row_dict, ignore_index=True)\n"
     ]
    },
    {
     "name": "stdout",
     "output_type": "stream",
     "text": [
      "323 / 501\n",
      "3gtUsgjTrzQ\n"
     ]
    },
    {
     "name": "stderr",
     "output_type": "stream",
     "text": [
      "C:\\Users\\June\\AppData\\Local\\Temp\\ipykernel_14744\\2112170718.py:14: FutureWarning: The frame.append method is deprecated and will be removed from pandas in a future version. Use pandas.concat instead.\n",
      "  df = df.append(row_dict, ignore_index=True)\n"
     ]
    },
    {
     "name": "stdout",
     "output_type": "stream",
     "text": [
      "324 / 501\n",
      "YObEBukFC0Y\n"
     ]
    },
    {
     "name": "stderr",
     "output_type": "stream",
     "text": [
      "C:\\Users\\June\\AppData\\Local\\Temp\\ipykernel_14744\\2112170718.py:14: FutureWarning: The frame.append method is deprecated and will be removed from pandas in a future version. Use pandas.concat instead.\n",
      "  df = df.append(row_dict, ignore_index=True)\n"
     ]
    },
    {
     "name": "stdout",
     "output_type": "stream",
     "text": [
      "325 / 501\n",
      "9sKrSfelkac\n"
     ]
    },
    {
     "name": "stderr",
     "output_type": "stream",
     "text": [
      "C:\\Users\\June\\AppData\\Local\\Temp\\ipykernel_14744\\2112170718.py:14: FutureWarning: The frame.append method is deprecated and will be removed from pandas in a future version. Use pandas.concat instead.\n",
      "  df = df.append(row_dict, ignore_index=True)\n"
     ]
    },
    {
     "name": "stdout",
     "output_type": "stream",
     "text": [
      "326 / 501\n",
      "39KphFVJfRA\n"
     ]
    },
    {
     "name": "stderr",
     "output_type": "stream",
     "text": [
      "C:\\Users\\June\\AppData\\Local\\Temp\\ipykernel_14744\\2112170718.py:14: FutureWarning: The frame.append method is deprecated and will be removed from pandas in a future version. Use pandas.concat instead.\n",
      "  df = df.append(row_dict, ignore_index=True)\n"
     ]
    },
    {
     "name": "stdout",
     "output_type": "stream",
     "text": [
      "327 / 501\n",
      "cPibaVXISLI\n"
     ]
    },
    {
     "name": "stderr",
     "output_type": "stream",
     "text": [
      "C:\\Users\\June\\AppData\\Local\\Temp\\ipykernel_14744\\2112170718.py:14: FutureWarning: The frame.append method is deprecated and will be removed from pandas in a future version. Use pandas.concat instead.\n",
      "  df = df.append(row_dict, ignore_index=True)\n"
     ]
    },
    {
     "name": "stdout",
     "output_type": "stream",
     "text": [
      "328 / 501\n",
      "H84t6YAG3Gk\n"
     ]
    },
    {
     "name": "stderr",
     "output_type": "stream",
     "text": [
      "C:\\Users\\June\\AppData\\Local\\Temp\\ipykernel_14744\\2112170718.py:14: FutureWarning: The frame.append method is deprecated and will be removed from pandas in a future version. Use pandas.concat instead.\n",
      "  df = df.append(row_dict, ignore_index=True)\n"
     ]
    },
    {
     "name": "stdout",
     "output_type": "stream",
     "text": [
      "329 / 501\n",
      "JdGLnmpO-Zc\n"
     ]
    },
    {
     "name": "stderr",
     "output_type": "stream",
     "text": [
      "C:\\Users\\June\\AppData\\Local\\Temp\\ipykernel_14744\\2112170718.py:14: FutureWarning: The frame.append method is deprecated and will be removed from pandas in a future version. Use pandas.concat instead.\n",
      "  df = df.append(row_dict, ignore_index=True)\n"
     ]
    },
    {
     "name": "stdout",
     "output_type": "stream",
     "text": [
      "330 / 501\n",
      "AFP9170Dmbs\n"
     ]
    },
    {
     "name": "stderr",
     "output_type": "stream",
     "text": [
      "C:\\Users\\June\\AppData\\Local\\Temp\\ipykernel_14744\\2112170718.py:14: FutureWarning: The frame.append method is deprecated and will be removed from pandas in a future version. Use pandas.concat instead.\n",
      "  df = df.append(row_dict, ignore_index=True)\n"
     ]
    },
    {
     "name": "stdout",
     "output_type": "stream",
     "text": [
      "331 / 501\n",
      "e5_4zNPiDKU\n"
     ]
    },
    {
     "name": "stderr",
     "output_type": "stream",
     "text": [
      "C:\\Users\\June\\AppData\\Local\\Temp\\ipykernel_14744\\2112170718.py:14: FutureWarning: The frame.append method is deprecated and will be removed from pandas in a future version. Use pandas.concat instead.\n",
      "  df = df.append(row_dict, ignore_index=True)\n"
     ]
    },
    {
     "name": "stdout",
     "output_type": "stream",
     "text": [
      "332 / 501\n",
      "azMqDSw00i8\n"
     ]
    },
    {
     "name": "stderr",
     "output_type": "stream",
     "text": [
      "C:\\Users\\June\\AppData\\Local\\Temp\\ipykernel_14744\\2112170718.py:14: FutureWarning: The frame.append method is deprecated and will be removed from pandas in a future version. Use pandas.concat instead.\n",
      "  df = df.append(row_dict, ignore_index=True)\n"
     ]
    },
    {
     "name": "stdout",
     "output_type": "stream",
     "text": [
      "333 / 501\n",
      "N554mNKPlz0\n"
     ]
    },
    {
     "name": "stderr",
     "output_type": "stream",
     "text": [
      "C:\\Users\\June\\AppData\\Local\\Temp\\ipykernel_14744\\2112170718.py:14: FutureWarning: The frame.append method is deprecated and will be removed from pandas in a future version. Use pandas.concat instead.\n",
      "  df = df.append(row_dict, ignore_index=True)\n"
     ]
    },
    {
     "name": "stdout",
     "output_type": "stream",
     "text": [
      "334 / 501\n",
      "iMsr2AzHsN0\n"
     ]
    },
    {
     "name": "stderr",
     "output_type": "stream",
     "text": [
      "C:\\Users\\June\\AppData\\Local\\Temp\\ipykernel_14744\\2112170718.py:14: FutureWarning: The frame.append method is deprecated and will be removed from pandas in a future version. Use pandas.concat instead.\n",
      "  df = df.append(row_dict, ignore_index=True)\n"
     ]
    },
    {
     "name": "stdout",
     "output_type": "stream",
     "text": [
      "335 / 501\n",
      "JUcwXK9W_R0\n"
     ]
    },
    {
     "name": "stderr",
     "output_type": "stream",
     "text": [
      "C:\\Users\\June\\AppData\\Local\\Temp\\ipykernel_14744\\2112170718.py:14: FutureWarning: The frame.append method is deprecated and will be removed from pandas in a future version. Use pandas.concat instead.\n",
      "  df = df.append(row_dict, ignore_index=True)\n"
     ]
    },
    {
     "name": "stdout",
     "output_type": "stream",
     "text": [
      "336 / 501\n",
      "dLqpJz_OqEg\n"
     ]
    },
    {
     "name": "stderr",
     "output_type": "stream",
     "text": [
      "C:\\Users\\June\\AppData\\Local\\Temp\\ipykernel_14744\\2112170718.py:14: FutureWarning: The frame.append method is deprecated and will be removed from pandas in a future version. Use pandas.concat instead.\n",
      "  df = df.append(row_dict, ignore_index=True)\n"
     ]
    },
    {
     "name": "stdout",
     "output_type": "stream",
     "text": [
      "337 / 501\n",
      "sIGZGp_6IlQ\n"
     ]
    },
    {
     "name": "stderr",
     "output_type": "stream",
     "text": [
      "C:\\Users\\June\\AppData\\Local\\Temp\\ipykernel_14744\\2112170718.py:14: FutureWarning: The frame.append method is deprecated and will be removed from pandas in a future version. Use pandas.concat instead.\n",
      "  df = df.append(row_dict, ignore_index=True)\n"
     ]
    },
    {
     "name": "stdout",
     "output_type": "stream",
     "text": [
      "338 / 501\n",
      "MMkMmCfioRg\n"
     ]
    },
    {
     "name": "stderr",
     "output_type": "stream",
     "text": [
      "C:\\Users\\June\\AppData\\Local\\Temp\\ipykernel_14744\\2112170718.py:14: FutureWarning: The frame.append method is deprecated and will be removed from pandas in a future version. Use pandas.concat instead.\n",
      "  df = df.append(row_dict, ignore_index=True)\n"
     ]
    },
    {
     "name": "stdout",
     "output_type": "stream",
     "text": [
      "339 / 501\n",
      "FzGF7o6kcxQ\n"
     ]
    },
    {
     "name": "stderr",
     "output_type": "stream",
     "text": [
      "C:\\Users\\June\\AppData\\Local\\Temp\\ipykernel_14744\\2112170718.py:14: FutureWarning: The frame.append method is deprecated and will be removed from pandas in a future version. Use pandas.concat instead.\n",
      "  df = df.append(row_dict, ignore_index=True)\n"
     ]
    },
    {
     "name": "stdout",
     "output_type": "stream",
     "text": [
      "340 / 501\n",
      "rWqNRROCkvs\n"
     ]
    },
    {
     "name": "stderr",
     "output_type": "stream",
     "text": [
      "C:\\Users\\June\\AppData\\Local\\Temp\\ipykernel_14744\\2112170718.py:14: FutureWarning: The frame.append method is deprecated and will be removed from pandas in a future version. Use pandas.concat instead.\n",
      "  df = df.append(row_dict, ignore_index=True)\n"
     ]
    },
    {
     "name": "stdout",
     "output_type": "stream",
     "text": [
      "341 / 501\n",
      "Fsc4uiTktII\n"
     ]
    },
    {
     "name": "stderr",
     "output_type": "stream",
     "text": [
      "C:\\Users\\June\\AppData\\Local\\Temp\\ipykernel_14744\\2112170718.py:14: FutureWarning: The frame.append method is deprecated and will be removed from pandas in a future version. Use pandas.concat instead.\n",
      "  df = df.append(row_dict, ignore_index=True)\n"
     ]
    },
    {
     "name": "stdout",
     "output_type": "stream",
     "text": [
      "342 / 501\n",
      "ipNaXzC2uTU\n"
     ]
    },
    {
     "name": "stderr",
     "output_type": "stream",
     "text": [
      "C:\\Users\\June\\AppData\\Local\\Temp\\ipykernel_14744\\2112170718.py:14: FutureWarning: The frame.append method is deprecated and will be removed from pandas in a future version. Use pandas.concat instead.\n",
      "  df = df.append(row_dict, ignore_index=True)\n"
     ]
    },
    {
     "name": "stdout",
     "output_type": "stream",
     "text": [
      "343 / 501\n",
      "zZz_q63Ac20\n"
     ]
    },
    {
     "name": "stderr",
     "output_type": "stream",
     "text": [
      "C:\\Users\\June\\AppData\\Local\\Temp\\ipykernel_14744\\2112170718.py:14: FutureWarning: The frame.append method is deprecated and will be removed from pandas in a future version. Use pandas.concat instead.\n",
      "  df = df.append(row_dict, ignore_index=True)\n"
     ]
    },
    {
     "name": "stdout",
     "output_type": "stream",
     "text": [
      "344 / 501\n",
      "1V3GzDW1qnM\n"
     ]
    },
    {
     "name": "stderr",
     "output_type": "stream",
     "text": [
      "C:\\Users\\June\\AppData\\Local\\Temp\\ipykernel_14744\\2112170718.py:14: FutureWarning: The frame.append method is deprecated and will be removed from pandas in a future version. Use pandas.concat instead.\n",
      "  df = df.append(row_dict, ignore_index=True)\n"
     ]
    },
    {
     "name": "stdout",
     "output_type": "stream",
     "text": [
      "345 / 501\n",
      "tsziDX37AFQ\n"
     ]
    },
    {
     "name": "stderr",
     "output_type": "stream",
     "text": [
      "C:\\Users\\June\\AppData\\Local\\Temp\\ipykernel_14744\\2112170718.py:14: FutureWarning: The frame.append method is deprecated and will be removed from pandas in a future version. Use pandas.concat instead.\n",
      "  df = df.append(row_dict, ignore_index=True)\n"
     ]
    },
    {
     "name": "stdout",
     "output_type": "stream",
     "text": [
      "346 / 501\n",
      "-ncsZty6K84\n"
     ]
    },
    {
     "name": "stderr",
     "output_type": "stream",
     "text": [
      "C:\\Users\\June\\AppData\\Local\\Temp\\ipykernel_14744\\2112170718.py:14: FutureWarning: The frame.append method is deprecated and will be removed from pandas in a future version. Use pandas.concat instead.\n",
      "  df = df.append(row_dict, ignore_index=True)\n"
     ]
    },
    {
     "name": "stdout",
     "output_type": "stream",
     "text": [
      "347 / 501\n",
      "C6_v83atkZY\n"
     ]
    },
    {
     "name": "stderr",
     "output_type": "stream",
     "text": [
      "C:\\Users\\June\\AppData\\Local\\Temp\\ipykernel_14744\\2112170718.py:14: FutureWarning: The frame.append method is deprecated and will be removed from pandas in a future version. Use pandas.concat instead.\n",
      "  df = df.append(row_dict, ignore_index=True)\n"
     ]
    },
    {
     "name": "stdout",
     "output_type": "stream",
     "text": [
      "348 / 501\n",
      "cnf9CiimKIk\n"
     ]
    },
    {
     "name": "stderr",
     "output_type": "stream",
     "text": [
      "C:\\Users\\June\\AppData\\Local\\Temp\\ipykernel_14744\\2112170718.py:14: FutureWarning: The frame.append method is deprecated and will be removed from pandas in a future version. Use pandas.concat instead.\n",
      "  df = df.append(row_dict, ignore_index=True)\n"
     ]
    },
    {
     "name": "stdout",
     "output_type": "stream",
     "text": [
      "349 / 501\n",
      "Sscu1Hb7NgY\n"
     ]
    },
    {
     "name": "stderr",
     "output_type": "stream",
     "text": [
      "C:\\Users\\June\\AppData\\Local\\Temp\\ipykernel_14744\\2112170718.py:14: FutureWarning: The frame.append method is deprecated and will be removed from pandas in a future version. Use pandas.concat instead.\n",
      "  df = df.append(row_dict, ignore_index=True)\n"
     ]
    },
    {
     "name": "stdout",
     "output_type": "stream",
     "text": [
      "350 / 501\n",
      "_nfe_EijG7c\n"
     ]
    },
    {
     "name": "stderr",
     "output_type": "stream",
     "text": [
      "C:\\Users\\June\\AppData\\Local\\Temp\\ipykernel_14744\\2112170718.py:14: FutureWarning: The frame.append method is deprecated and will be removed from pandas in a future version. Use pandas.concat instead.\n",
      "  df = df.append(row_dict, ignore_index=True)\n"
     ]
    },
    {
     "name": "stdout",
     "output_type": "stream",
     "text": [
      "351 / 501\n",
      "2A6y7Z0pyOQ\n"
     ]
    },
    {
     "name": "stderr",
     "output_type": "stream",
     "text": [
      "C:\\Users\\June\\AppData\\Local\\Temp\\ipykernel_14744\\2112170718.py:14: FutureWarning: The frame.append method is deprecated and will be removed from pandas in a future version. Use pandas.concat instead.\n",
      "  df = df.append(row_dict, ignore_index=True)\n"
     ]
    },
    {
     "name": "stdout",
     "output_type": "stream",
     "text": [
      "352 / 501\n",
      "Ev3us1zrV5M\n"
     ]
    },
    {
     "name": "stderr",
     "output_type": "stream",
     "text": [
      "C:\\Users\\June\\AppData\\Local\\Temp\\ipykernel_14744\\2112170718.py:14: FutureWarning: The frame.append method is deprecated and will be removed from pandas in a future version. Use pandas.concat instead.\n",
      "  df = df.append(row_dict, ignore_index=True)\n"
     ]
    },
    {
     "name": "stdout",
     "output_type": "stream",
     "text": [
      "353 / 501\n",
      "tmqq3RS3r8s\n"
     ]
    },
    {
     "name": "stderr",
     "output_type": "stream",
     "text": [
      "C:\\Users\\June\\AppData\\Local\\Temp\\ipykernel_14744\\2112170718.py:14: FutureWarning: The frame.append method is deprecated and will be removed from pandas in a future version. Use pandas.concat instead.\n",
      "  df = df.append(row_dict, ignore_index=True)\n"
     ]
    },
    {
     "name": "stdout",
     "output_type": "stream",
     "text": [
      "354 / 501\n",
      "eI8V04CNFFE\n"
     ]
    },
    {
     "name": "stderr",
     "output_type": "stream",
     "text": [
      "C:\\Users\\June\\AppData\\Local\\Temp\\ipykernel_14744\\2112170718.py:14: FutureWarning: The frame.append method is deprecated and will be removed from pandas in a future version. Use pandas.concat instead.\n",
      "  df = df.append(row_dict, ignore_index=True)\n"
     ]
    },
    {
     "name": "stdout",
     "output_type": "stream",
     "text": [
      "355 / 501\n",
      "bgMhcTdBx9U\n"
     ]
    },
    {
     "name": "stderr",
     "output_type": "stream",
     "text": [
      "C:\\Users\\June\\AppData\\Local\\Temp\\ipykernel_14744\\2112170718.py:14: FutureWarning: The frame.append method is deprecated and will be removed from pandas in a future version. Use pandas.concat instead.\n",
      "  df = df.append(row_dict, ignore_index=True)\n"
     ]
    },
    {
     "name": "stdout",
     "output_type": "stream",
     "text": [
      "356 / 501\n",
      "_1UPiJOQypA\n"
     ]
    },
    {
     "name": "stderr",
     "output_type": "stream",
     "text": [
      "C:\\Users\\June\\AppData\\Local\\Temp\\ipykernel_14744\\2112170718.py:14: FutureWarning: The frame.append method is deprecated and will be removed from pandas in a future version. Use pandas.concat instead.\n",
      "  df = df.append(row_dict, ignore_index=True)\n"
     ]
    },
    {
     "name": "stdout",
     "output_type": "stream",
     "text": [
      "357 / 501\n",
      "-vlYa7TU9L4\n",
      "358 / 501\n",
      "oZM6m6Iu1hQ\n"
     ]
    },
    {
     "name": "stderr",
     "output_type": "stream",
     "text": [
      "C:\\Users\\June\\AppData\\Local\\Temp\\ipykernel_14744\\2112170718.py:14: FutureWarning: The frame.append method is deprecated and will be removed from pandas in a future version. Use pandas.concat instead.\n",
      "  df = df.append(row_dict, ignore_index=True)\n"
     ]
    },
    {
     "name": "stdout",
     "output_type": "stream",
     "text": [
      "359 / 501\n",
      "NdquVKmGtmQ\n"
     ]
    },
    {
     "name": "stderr",
     "output_type": "stream",
     "text": [
      "C:\\Users\\June\\AppData\\Local\\Temp\\ipykernel_14744\\2112170718.py:14: FutureWarning: The frame.append method is deprecated and will be removed from pandas in a future version. Use pandas.concat instead.\n",
      "  df = df.append(row_dict, ignore_index=True)\n"
     ]
    },
    {
     "name": "stdout",
     "output_type": "stream",
     "text": [
      "360 / 501\n",
      "gbUZvkiMVKs\n"
     ]
    },
    {
     "name": "stderr",
     "output_type": "stream",
     "text": [
      "C:\\Users\\June\\AppData\\Local\\Temp\\ipykernel_14744\\2112170718.py:14: FutureWarning: The frame.append method is deprecated and will be removed from pandas in a future version. Use pandas.concat instead.\n",
      "  df = df.append(row_dict, ignore_index=True)\n"
     ]
    },
    {
     "name": "stdout",
     "output_type": "stream",
     "text": [
      "361 / 501\n",
      "C2_uUyj06Z8\n"
     ]
    },
    {
     "name": "stderr",
     "output_type": "stream",
     "text": [
      "C:\\Users\\June\\AppData\\Local\\Temp\\ipykernel_14744\\2112170718.py:14: FutureWarning: The frame.append method is deprecated and will be removed from pandas in a future version. Use pandas.concat instead.\n",
      "  df = df.append(row_dict, ignore_index=True)\n"
     ]
    },
    {
     "name": "stdout",
     "output_type": "stream",
     "text": [
      "362 / 501\n",
      "BbuooT61QGE\n"
     ]
    },
    {
     "name": "stderr",
     "output_type": "stream",
     "text": [
      "C:\\Users\\June\\AppData\\Local\\Temp\\ipykernel_14744\\2112170718.py:14: FutureWarning: The frame.append method is deprecated and will be removed from pandas in a future version. Use pandas.concat instead.\n",
      "  df = df.append(row_dict, ignore_index=True)\n"
     ]
    },
    {
     "name": "stdout",
     "output_type": "stream",
     "text": [
      "363 / 501\n",
      "Kbn-dNTpSM4\n"
     ]
    },
    {
     "name": "stderr",
     "output_type": "stream",
     "text": [
      "C:\\Users\\June\\AppData\\Local\\Temp\\ipykernel_14744\\2112170718.py:14: FutureWarning: The frame.append method is deprecated and will be removed from pandas in a future version. Use pandas.concat instead.\n",
      "  df = df.append(row_dict, ignore_index=True)\n"
     ]
    },
    {
     "name": "stdout",
     "output_type": "stream",
     "text": [
      "364 / 501\n",
      "k1RmAkCVvnc\n"
     ]
    },
    {
     "name": "stderr",
     "output_type": "stream",
     "text": [
      "C:\\Users\\June\\AppData\\Local\\Temp\\ipykernel_14744\\2112170718.py:14: FutureWarning: The frame.append method is deprecated and will be removed from pandas in a future version. Use pandas.concat instead.\n",
      "  df = df.append(row_dict, ignore_index=True)\n"
     ]
    },
    {
     "name": "stdout",
     "output_type": "stream",
     "text": [
      "365 / 501\n",
      "mVShINH1Rfo\n"
     ]
    },
    {
     "name": "stderr",
     "output_type": "stream",
     "text": [
      "C:\\Users\\June\\AppData\\Local\\Temp\\ipykernel_14744\\2112170718.py:14: FutureWarning: The frame.append method is deprecated and will be removed from pandas in a future version. Use pandas.concat instead.\n",
      "  df = df.append(row_dict, ignore_index=True)\n"
     ]
    },
    {
     "name": "stdout",
     "output_type": "stream",
     "text": [
      "366 / 501\n",
      "dE_nelkoVTQ\n"
     ]
    },
    {
     "name": "stderr",
     "output_type": "stream",
     "text": [
      "C:\\Users\\June\\AppData\\Local\\Temp\\ipykernel_14744\\2112170718.py:14: FutureWarning: The frame.append method is deprecated and will be removed from pandas in a future version. Use pandas.concat instead.\n",
      "  df = df.append(row_dict, ignore_index=True)\n"
     ]
    },
    {
     "name": "stdout",
     "output_type": "stream",
     "text": [
      "367 / 501\n",
      "TDSm_4CHXwM\n"
     ]
    },
    {
     "name": "stderr",
     "output_type": "stream",
     "text": [
      "C:\\Users\\June\\AppData\\Local\\Temp\\ipykernel_14744\\2112170718.py:14: FutureWarning: The frame.append method is deprecated and will be removed from pandas in a future version. Use pandas.concat instead.\n",
      "  df = df.append(row_dict, ignore_index=True)\n"
     ]
    },
    {
     "name": "stdout",
     "output_type": "stream",
     "text": [
      "368 / 501\n",
      "0B4y15LWftQ\n"
     ]
    },
    {
     "name": "stderr",
     "output_type": "stream",
     "text": [
      "C:\\Users\\June\\AppData\\Local\\Temp\\ipykernel_14744\\2112170718.py:14: FutureWarning: The frame.append method is deprecated and will be removed from pandas in a future version. Use pandas.concat instead.\n",
      "  df = df.append(row_dict, ignore_index=True)\n"
     ]
    },
    {
     "name": "stdout",
     "output_type": "stream",
     "text": [
      "369 / 501\n",
      "01fpZ8WZOcg\n"
     ]
    },
    {
     "name": "stderr",
     "output_type": "stream",
     "text": [
      "C:\\Users\\June\\AppData\\Local\\Temp\\ipykernel_14744\\2112170718.py:14: FutureWarning: The frame.append method is deprecated and will be removed from pandas in a future version. Use pandas.concat instead.\n",
      "  df = df.append(row_dict, ignore_index=True)\n"
     ]
    },
    {
     "name": "stdout",
     "output_type": "stream",
     "text": [
      "370 / 501\n",
      "VSUfO6odSMw\n"
     ]
    },
    {
     "name": "stderr",
     "output_type": "stream",
     "text": [
      "C:\\Users\\June\\AppData\\Local\\Temp\\ipykernel_14744\\2112170718.py:14: FutureWarning: The frame.append method is deprecated and will be removed from pandas in a future version. Use pandas.concat instead.\n",
      "  df = df.append(row_dict, ignore_index=True)\n"
     ]
    },
    {
     "name": "stdout",
     "output_type": "stream",
     "text": [
      "371 / 501\n",
      "CENcAa2uf8M\n"
     ]
    },
    {
     "name": "stderr",
     "output_type": "stream",
     "text": [
      "C:\\Users\\June\\AppData\\Local\\Temp\\ipykernel_14744\\2112170718.py:14: FutureWarning: The frame.append method is deprecated and will be removed from pandas in a future version. Use pandas.concat instead.\n",
      "  df = df.append(row_dict, ignore_index=True)\n"
     ]
    },
    {
     "name": "stdout",
     "output_type": "stream",
     "text": [
      "372 / 501\n",
      "YCnHI5ZpBLY\n"
     ]
    },
    {
     "name": "stderr",
     "output_type": "stream",
     "text": [
      "C:\\Users\\June\\AppData\\Local\\Temp\\ipykernel_14744\\2112170718.py:14: FutureWarning: The frame.append method is deprecated and will be removed from pandas in a future version. Use pandas.concat instead.\n",
      "  df = df.append(row_dict, ignore_index=True)\n"
     ]
    },
    {
     "name": "stdout",
     "output_type": "stream",
     "text": [
      "373 / 501\n",
      "IKaWTPdl6IU\n"
     ]
    },
    {
     "name": "stderr",
     "output_type": "stream",
     "text": [
      "C:\\Users\\June\\AppData\\Local\\Temp\\ipykernel_14744\\2112170718.py:14: FutureWarning: The frame.append method is deprecated and will be removed from pandas in a future version. Use pandas.concat instead.\n",
      "  df = df.append(row_dict, ignore_index=True)\n"
     ]
    },
    {
     "name": "stdout",
     "output_type": "stream",
     "text": [
      "374 / 501\n",
      "8_NYQTYMjqw\n"
     ]
    },
    {
     "name": "stderr",
     "output_type": "stream",
     "text": [
      "C:\\Users\\June\\AppData\\Local\\Temp\\ipykernel_14744\\2112170718.py:14: FutureWarning: The frame.append method is deprecated and will be removed from pandas in a future version. Use pandas.concat instead.\n",
      "  df = df.append(row_dict, ignore_index=True)\n"
     ]
    },
    {
     "name": "stdout",
     "output_type": "stream",
     "text": [
      "375 / 501\n",
      "Epy6czU8I0Q\n"
     ]
    },
    {
     "name": "stderr",
     "output_type": "stream",
     "text": [
      "C:\\Users\\June\\AppData\\Local\\Temp\\ipykernel_14744\\2112170718.py:14: FutureWarning: The frame.append method is deprecated and will be removed from pandas in a future version. Use pandas.concat instead.\n",
      "  df = df.append(row_dict, ignore_index=True)\n"
     ]
    },
    {
     "name": "stdout",
     "output_type": "stream",
     "text": [
      "376 / 501\n",
      "CuWXu9oHnDs\n"
     ]
    },
    {
     "name": "stderr",
     "output_type": "stream",
     "text": [
      "C:\\Users\\June\\AppData\\Local\\Temp\\ipykernel_14744\\2112170718.py:14: FutureWarning: The frame.append method is deprecated and will be removed from pandas in a future version. Use pandas.concat instead.\n",
      "  df = df.append(row_dict, ignore_index=True)\n"
     ]
    },
    {
     "name": "stdout",
     "output_type": "stream",
     "text": [
      "377 / 501\n",
      "Cf957pa3gpg\n"
     ]
    },
    {
     "name": "stderr",
     "output_type": "stream",
     "text": [
      "C:\\Users\\June\\AppData\\Local\\Temp\\ipykernel_14744\\2112170718.py:14: FutureWarning: The frame.append method is deprecated and will be removed from pandas in a future version. Use pandas.concat instead.\n",
      "  df = df.append(row_dict, ignore_index=True)\n"
     ]
    },
    {
     "name": "stdout",
     "output_type": "stream",
     "text": [
      "378 / 501\n",
      "24uLjfBHhU0\n"
     ]
    },
    {
     "name": "stderr",
     "output_type": "stream",
     "text": [
      "C:\\Users\\June\\AppData\\Local\\Temp\\ipykernel_14744\\2112170718.py:14: FutureWarning: The frame.append method is deprecated and will be removed from pandas in a future version. Use pandas.concat instead.\n",
      "  df = df.append(row_dict, ignore_index=True)\n"
     ]
    },
    {
     "name": "stdout",
     "output_type": "stream",
     "text": [
      "379 / 501\n",
      "PuMr1U6pCG4\n"
     ]
    },
    {
     "name": "stderr",
     "output_type": "stream",
     "text": [
      "C:\\Users\\June\\AppData\\Local\\Temp\\ipykernel_14744\\2112170718.py:14: FutureWarning: The frame.append method is deprecated and will be removed from pandas in a future version. Use pandas.concat instead.\n",
      "  df = df.append(row_dict, ignore_index=True)\n"
     ]
    },
    {
     "name": "stdout",
     "output_type": "stream",
     "text": [
      "380 / 501\n",
      "6w5DH7Zp8ws\n"
     ]
    },
    {
     "name": "stderr",
     "output_type": "stream",
     "text": [
      "C:\\Users\\June\\AppData\\Local\\Temp\\ipykernel_14744\\2112170718.py:14: FutureWarning: The frame.append method is deprecated and will be removed from pandas in a future version. Use pandas.concat instead.\n",
      "  df = df.append(row_dict, ignore_index=True)\n"
     ]
    },
    {
     "name": "stdout",
     "output_type": "stream",
     "text": [
      "381 / 501\n",
      "yihmIiJDOS4\n"
     ]
    },
    {
     "name": "stderr",
     "output_type": "stream",
     "text": [
      "C:\\Users\\June\\AppData\\Local\\Temp\\ipykernel_14744\\2112170718.py:14: FutureWarning: The frame.append method is deprecated and will be removed from pandas in a future version. Use pandas.concat instead.\n",
      "  df = df.append(row_dict, ignore_index=True)\n"
     ]
    },
    {
     "name": "stdout",
     "output_type": "stream",
     "text": [
      "382 / 501\n",
      "qNZGtZWFhkM\n"
     ]
    },
    {
     "name": "stderr",
     "output_type": "stream",
     "text": [
      "C:\\Users\\June\\AppData\\Local\\Temp\\ipykernel_14744\\2112170718.py:14: FutureWarning: The frame.append method is deprecated and will be removed from pandas in a future version. Use pandas.concat instead.\n",
      "  df = df.append(row_dict, ignore_index=True)\n"
     ]
    },
    {
     "name": "stdout",
     "output_type": "stream",
     "text": [
      "383 / 501\n",
      "2awK9uDrdiI\n"
     ]
    },
    {
     "name": "stderr",
     "output_type": "stream",
     "text": [
      "C:\\Users\\June\\AppData\\Local\\Temp\\ipykernel_14744\\2112170718.py:14: FutureWarning: The frame.append method is deprecated and will be removed from pandas in a future version. Use pandas.concat instead.\n",
      "  df = df.append(row_dict, ignore_index=True)\n"
     ]
    },
    {
     "name": "stdout",
     "output_type": "stream",
     "text": [
      "384 / 501\n",
      "WqtG1awALGI\n"
     ]
    },
    {
     "name": "stderr",
     "output_type": "stream",
     "text": [
      "C:\\Users\\June\\AppData\\Local\\Temp\\ipykernel_14744\\2112170718.py:14: FutureWarning: The frame.append method is deprecated and will be removed from pandas in a future version. Use pandas.concat instead.\n",
      "  df = df.append(row_dict, ignore_index=True)\n"
     ]
    },
    {
     "name": "stdout",
     "output_type": "stream",
     "text": [
      "385 / 501\n",
      "UfnZi1Jxt8U\n"
     ]
    },
    {
     "name": "stderr",
     "output_type": "stream",
     "text": [
      "C:\\Users\\June\\AppData\\Local\\Temp\\ipykernel_14744\\2112170718.py:14: FutureWarning: The frame.append method is deprecated and will be removed from pandas in a future version. Use pandas.concat instead.\n",
      "  df = df.append(row_dict, ignore_index=True)\n"
     ]
    },
    {
     "name": "stdout",
     "output_type": "stream",
     "text": [
      "386 / 501\n",
      "rAGVhFOxou0\n"
     ]
    },
    {
     "name": "stderr",
     "output_type": "stream",
     "text": [
      "C:\\Users\\June\\AppData\\Local\\Temp\\ipykernel_14744\\2112170718.py:14: FutureWarning: The frame.append method is deprecated and will be removed from pandas in a future version. Use pandas.concat instead.\n",
      "  df = df.append(row_dict, ignore_index=True)\n"
     ]
    },
    {
     "name": "stdout",
     "output_type": "stream",
     "text": [
      "387 / 501\n",
      "-9G7o5Tfl1k\n"
     ]
    },
    {
     "name": "stderr",
     "output_type": "stream",
     "text": [
      "C:\\Users\\June\\AppData\\Local\\Temp\\ipykernel_14744\\2112170718.py:14: FutureWarning: The frame.append method is deprecated and will be removed from pandas in a future version. Use pandas.concat instead.\n",
      "  df = df.append(row_dict, ignore_index=True)\n"
     ]
    },
    {
     "name": "stdout",
     "output_type": "stream",
     "text": [
      "388 / 501\n",
      "G-ElDhOQvg0\n"
     ]
    },
    {
     "name": "stderr",
     "output_type": "stream",
     "text": [
      "C:\\Users\\June\\AppData\\Local\\Temp\\ipykernel_14744\\2112170718.py:14: FutureWarning: The frame.append method is deprecated and will be removed from pandas in a future version. Use pandas.concat instead.\n",
      "  df = df.append(row_dict, ignore_index=True)\n"
     ]
    },
    {
     "name": "stdout",
     "output_type": "stream",
     "text": [
      "389 / 501\n",
      "Utfg6vkuh5g\n"
     ]
    },
    {
     "name": "stderr",
     "output_type": "stream",
     "text": [
      "C:\\Users\\June\\AppData\\Local\\Temp\\ipykernel_14744\\2112170718.py:14: FutureWarning: The frame.append method is deprecated and will be removed from pandas in a future version. Use pandas.concat instead.\n",
      "  df = df.append(row_dict, ignore_index=True)\n"
     ]
    },
    {
     "name": "stdout",
     "output_type": "stream",
     "text": [
      "390 / 501\n",
      "w29nT8vso7A\n"
     ]
    },
    {
     "name": "stderr",
     "output_type": "stream",
     "text": [
      "C:\\Users\\June\\AppData\\Local\\Temp\\ipykernel_14744\\2112170718.py:14: FutureWarning: The frame.append method is deprecated and will be removed from pandas in a future version. Use pandas.concat instead.\n",
      "  df = df.append(row_dict, ignore_index=True)\n"
     ]
    },
    {
     "name": "stdout",
     "output_type": "stream",
     "text": [
      "391 / 501\n",
      "yVNRsdbmdAU\n"
     ]
    },
    {
     "name": "stderr",
     "output_type": "stream",
     "text": [
      "C:\\Users\\June\\AppData\\Local\\Temp\\ipykernel_14744\\2112170718.py:14: FutureWarning: The frame.append method is deprecated and will be removed from pandas in a future version. Use pandas.concat instead.\n",
      "  df = df.append(row_dict, ignore_index=True)\n"
     ]
    },
    {
     "name": "stdout",
     "output_type": "stream",
     "text": [
      "392 / 501\n",
      "0uu4-zooZeU\n"
     ]
    },
    {
     "name": "stderr",
     "output_type": "stream",
     "text": [
      "C:\\Users\\June\\AppData\\Local\\Temp\\ipykernel_14744\\2112170718.py:14: FutureWarning: The frame.append method is deprecated and will be removed from pandas in a future version. Use pandas.concat instead.\n",
      "  df = df.append(row_dict, ignore_index=True)\n"
     ]
    },
    {
     "name": "stdout",
     "output_type": "stream",
     "text": [
      "393 / 501\n",
      "uPrwcbRsRxo\n"
     ]
    },
    {
     "name": "stderr",
     "output_type": "stream",
     "text": [
      "C:\\Users\\June\\AppData\\Local\\Temp\\ipykernel_14744\\2112170718.py:14: FutureWarning: The frame.append method is deprecated and will be removed from pandas in a future version. Use pandas.concat instead.\n",
      "  df = df.append(row_dict, ignore_index=True)\n"
     ]
    },
    {
     "name": "stdout",
     "output_type": "stream",
     "text": [
      "394 / 501\n",
      "T_nq5PujsYE\n"
     ]
    },
    {
     "name": "stderr",
     "output_type": "stream",
     "text": [
      "C:\\Users\\June\\AppData\\Local\\Temp\\ipykernel_14744\\2112170718.py:14: FutureWarning: The frame.append method is deprecated and will be removed from pandas in a future version. Use pandas.concat instead.\n",
      "  df = df.append(row_dict, ignore_index=True)\n"
     ]
    },
    {
     "name": "stdout",
     "output_type": "stream",
     "text": [
      "395 / 501\n",
      "25DFabOflJY\n"
     ]
    },
    {
     "name": "stderr",
     "output_type": "stream",
     "text": [
      "C:\\Users\\June\\AppData\\Local\\Temp\\ipykernel_14744\\2112170718.py:14: FutureWarning: The frame.append method is deprecated and will be removed from pandas in a future version. Use pandas.concat instead.\n",
      "  df = df.append(row_dict, ignore_index=True)\n"
     ]
    },
    {
     "name": "stdout",
     "output_type": "stream",
     "text": [
      "396 / 501\n",
      "785JJwcWozc\n"
     ]
    },
    {
     "name": "stderr",
     "output_type": "stream",
     "text": [
      "C:\\Users\\June\\AppData\\Local\\Temp\\ipykernel_14744\\2112170718.py:14: FutureWarning: The frame.append method is deprecated and will be removed from pandas in a future version. Use pandas.concat instead.\n",
      "  df = df.append(row_dict, ignore_index=True)\n"
     ]
    },
    {
     "name": "stdout",
     "output_type": "stream",
     "text": [
      "397 / 501\n",
      "hXlgNzznlQ0\n"
     ]
    },
    {
     "name": "stderr",
     "output_type": "stream",
     "text": [
      "C:\\Users\\June\\AppData\\Local\\Temp\\ipykernel_14744\\2112170718.py:14: FutureWarning: The frame.append method is deprecated and will be removed from pandas in a future version. Use pandas.concat instead.\n",
      "  df = df.append(row_dict, ignore_index=True)\n"
     ]
    },
    {
     "name": "stdout",
     "output_type": "stream",
     "text": [
      "398 / 501\n",
      "-ixjIUe098I\n"
     ]
    },
    {
     "name": "stderr",
     "output_type": "stream",
     "text": [
      "C:\\Users\\June\\AppData\\Local\\Temp\\ipykernel_14744\\2112170718.py:14: FutureWarning: The frame.append method is deprecated and will be removed from pandas in a future version. Use pandas.concat instead.\n",
      "  df = df.append(row_dict, ignore_index=True)\n"
     ]
    },
    {
     "name": "stdout",
     "output_type": "stream",
     "text": [
      "399 / 501\n",
      "E6WYKzGufdg\n"
     ]
    },
    {
     "name": "stderr",
     "output_type": "stream",
     "text": [
      "C:\\Users\\June\\AppData\\Local\\Temp\\ipykernel_14744\\2112170718.py:14: FutureWarning: The frame.append method is deprecated and will be removed from pandas in a future version. Use pandas.concat instead.\n",
      "  df = df.append(row_dict, ignore_index=True)\n"
     ]
    },
    {
     "name": "stdout",
     "output_type": "stream",
     "text": [
      "400 / 501\n",
      "GbtdlmK06ho\n"
     ]
    },
    {
     "name": "stderr",
     "output_type": "stream",
     "text": [
      "C:\\Users\\June\\AppData\\Local\\Temp\\ipykernel_14744\\2112170718.py:14: FutureWarning: The frame.append method is deprecated and will be removed from pandas in a future version. Use pandas.concat instead.\n",
      "  df = df.append(row_dict, ignore_index=True)\n"
     ]
    },
    {
     "name": "stdout",
     "output_type": "stream",
     "text": [
      "401 / 501\n",
      "iYnS9IQSztU\n"
     ]
    },
    {
     "name": "stderr",
     "output_type": "stream",
     "text": [
      "C:\\Users\\June\\AppData\\Local\\Temp\\ipykernel_14744\\2112170718.py:14: FutureWarning: The frame.append method is deprecated and will be removed from pandas in a future version. Use pandas.concat instead.\n",
      "  df = df.append(row_dict, ignore_index=True)\n"
     ]
    },
    {
     "name": "stdout",
     "output_type": "stream",
     "text": [
      "402 / 501\n",
      "VrN8gqP8Zu4\n"
     ]
    },
    {
     "name": "stderr",
     "output_type": "stream",
     "text": [
      "C:\\Users\\June\\AppData\\Local\\Temp\\ipykernel_14744\\2112170718.py:14: FutureWarning: The frame.append method is deprecated and will be removed from pandas in a future version. Use pandas.concat instead.\n",
      "  df = df.append(row_dict, ignore_index=True)\n"
     ]
    },
    {
     "name": "stdout",
     "output_type": "stream",
     "text": [
      "403 / 501\n",
      "i9UQsuv8Q-0\n"
     ]
    },
    {
     "name": "stderr",
     "output_type": "stream",
     "text": [
      "C:\\Users\\June\\AppData\\Local\\Temp\\ipykernel_14744\\2112170718.py:14: FutureWarning: The frame.append method is deprecated and will be removed from pandas in a future version. Use pandas.concat instead.\n",
      "  df = df.append(row_dict, ignore_index=True)\n"
     ]
    },
    {
     "name": "stdout",
     "output_type": "stream",
     "text": [
      "404 / 501\n",
      "_VW_z5JK62E\n"
     ]
    },
    {
     "name": "stderr",
     "output_type": "stream",
     "text": [
      "C:\\Users\\June\\AppData\\Local\\Temp\\ipykernel_14744\\2112170718.py:14: FutureWarning: The frame.append method is deprecated and will be removed from pandas in a future version. Use pandas.concat instead.\n",
      "  df = df.append(row_dict, ignore_index=True)\n"
     ]
    },
    {
     "name": "stdout",
     "output_type": "stream",
     "text": [
      "405 / 501\n",
      "1BFakMxJUIg\n"
     ]
    },
    {
     "name": "stderr",
     "output_type": "stream",
     "text": [
      "C:\\Users\\June\\AppData\\Local\\Temp\\ipykernel_14744\\2112170718.py:14: FutureWarning: The frame.append method is deprecated and will be removed from pandas in a future version. Use pandas.concat instead.\n",
      "  df = df.append(row_dict, ignore_index=True)\n"
     ]
    },
    {
     "name": "stdout",
     "output_type": "stream",
     "text": [
      "406 / 501\n",
      "evgnsWrxKfQ\n"
     ]
    },
    {
     "name": "stderr",
     "output_type": "stream",
     "text": [
      "C:\\Users\\June\\AppData\\Local\\Temp\\ipykernel_14744\\2112170718.py:14: FutureWarning: The frame.append method is deprecated and will be removed from pandas in a future version. Use pandas.concat instead.\n",
      "  df = df.append(row_dict, ignore_index=True)\n"
     ]
    },
    {
     "name": "stdout",
     "output_type": "stream",
     "text": [
      "407 / 501\n",
      "LlJOTAVsAvI\n"
     ]
    },
    {
     "name": "stderr",
     "output_type": "stream",
     "text": [
      "C:\\Users\\June\\AppData\\Local\\Temp\\ipykernel_14744\\2112170718.py:14: FutureWarning: The frame.append method is deprecated and will be removed from pandas in a future version. Use pandas.concat instead.\n",
      "  df = df.append(row_dict, ignore_index=True)\n"
     ]
    },
    {
     "name": "stdout",
     "output_type": "stream",
     "text": [
      "408 / 501\n",
      "4wGsok_70_4\n"
     ]
    },
    {
     "name": "stderr",
     "output_type": "stream",
     "text": [
      "C:\\Users\\June\\AppData\\Local\\Temp\\ipykernel_14744\\2112170718.py:14: FutureWarning: The frame.append method is deprecated and will be removed from pandas in a future version. Use pandas.concat instead.\n",
      "  df = df.append(row_dict, ignore_index=True)\n"
     ]
    },
    {
     "name": "stdout",
     "output_type": "stream",
     "text": [
      "409 / 501\n",
      "Lw6kMEFgsnA\n"
     ]
    },
    {
     "name": "stderr",
     "output_type": "stream",
     "text": [
      "C:\\Users\\June\\AppData\\Local\\Temp\\ipykernel_14744\\2112170718.py:14: FutureWarning: The frame.append method is deprecated and will be removed from pandas in a future version. Use pandas.concat instead.\n",
      "  df = df.append(row_dict, ignore_index=True)\n"
     ]
    },
    {
     "name": "stdout",
     "output_type": "stream",
     "text": [
      "410 / 501\n",
      "tGfq2M3XcCY\n"
     ]
    },
    {
     "name": "stderr",
     "output_type": "stream",
     "text": [
      "C:\\Users\\June\\AppData\\Local\\Temp\\ipykernel_14744\\2112170718.py:14: FutureWarning: The frame.append method is deprecated and will be removed from pandas in a future version. Use pandas.concat instead.\n",
      "  df = df.append(row_dict, ignore_index=True)\n"
     ]
    },
    {
     "name": "stdout",
     "output_type": "stream",
     "text": [
      "411 / 501\n",
      "6Ovd7lmpfOo\n"
     ]
    },
    {
     "name": "stderr",
     "output_type": "stream",
     "text": [
      "C:\\Users\\June\\AppData\\Local\\Temp\\ipykernel_14744\\2112170718.py:14: FutureWarning: The frame.append method is deprecated and will be removed from pandas in a future version. Use pandas.concat instead.\n",
      "  df = df.append(row_dict, ignore_index=True)\n"
     ]
    },
    {
     "name": "stdout",
     "output_type": "stream",
     "text": [
      "412 / 501\n",
      "xq4AjbnqZw0\n"
     ]
    },
    {
     "name": "stderr",
     "output_type": "stream",
     "text": [
      "C:\\Users\\June\\AppData\\Local\\Temp\\ipykernel_14744\\2112170718.py:14: FutureWarning: The frame.append method is deprecated and will be removed from pandas in a future version. Use pandas.concat instead.\n",
      "  df = df.append(row_dict, ignore_index=True)\n"
     ]
    },
    {
     "name": "stdout",
     "output_type": "stream",
     "text": [
      "413 / 501\n",
      "a3SnUIMd2Jc\n"
     ]
    },
    {
     "name": "stderr",
     "output_type": "stream",
     "text": [
      "C:\\Users\\June\\AppData\\Local\\Temp\\ipykernel_14744\\2112170718.py:14: FutureWarning: The frame.append method is deprecated and will be removed from pandas in a future version. Use pandas.concat instead.\n",
      "  df = df.append(row_dict, ignore_index=True)\n"
     ]
    },
    {
     "name": "stdout",
     "output_type": "stream",
     "text": [
      "414 / 501\n",
      "ECSeCI7n2zw\n"
     ]
    },
    {
     "name": "stderr",
     "output_type": "stream",
     "text": [
      "C:\\Users\\June\\AppData\\Local\\Temp\\ipykernel_14744\\2112170718.py:14: FutureWarning: The frame.append method is deprecated and will be removed from pandas in a future version. Use pandas.concat instead.\n",
      "  df = df.append(row_dict, ignore_index=True)\n"
     ]
    },
    {
     "name": "stdout",
     "output_type": "stream",
     "text": [
      "415 / 501\n",
      "HqF46N5tZbE\n"
     ]
    },
    {
     "name": "stderr",
     "output_type": "stream",
     "text": [
      "C:\\Users\\June\\AppData\\Local\\Temp\\ipykernel_14744\\2112170718.py:14: FutureWarning: The frame.append method is deprecated and will be removed from pandas in a future version. Use pandas.concat instead.\n",
      "  df = df.append(row_dict, ignore_index=True)\n"
     ]
    },
    {
     "name": "stdout",
     "output_type": "stream",
     "text": [
      "416 / 501\n",
      "A_bfO3R4t_s\n"
     ]
    },
    {
     "name": "stderr",
     "output_type": "stream",
     "text": [
      "C:\\Users\\June\\AppData\\Local\\Temp\\ipykernel_14744\\2112170718.py:14: FutureWarning: The frame.append method is deprecated and will be removed from pandas in a future version. Use pandas.concat instead.\n",
      "  df = df.append(row_dict, ignore_index=True)\n"
     ]
    },
    {
     "name": "stdout",
     "output_type": "stream",
     "text": [
      "417 / 501\n",
      "hn5SZa3SpzE\n"
     ]
    },
    {
     "name": "stderr",
     "output_type": "stream",
     "text": [
      "C:\\Users\\June\\AppData\\Local\\Temp\\ipykernel_14744\\2112170718.py:14: FutureWarning: The frame.append method is deprecated and will be removed from pandas in a future version. Use pandas.concat instead.\n",
      "  df = df.append(row_dict, ignore_index=True)\n"
     ]
    },
    {
     "name": "stdout",
     "output_type": "stream",
     "text": [
      "418 / 501\n",
      "RETZFK3RiBM\n"
     ]
    },
    {
     "name": "stderr",
     "output_type": "stream",
     "text": [
      "C:\\Users\\June\\AppData\\Local\\Temp\\ipykernel_14744\\2112170718.py:14: FutureWarning: The frame.append method is deprecated and will be removed from pandas in a future version. Use pandas.concat instead.\n",
      "  df = df.append(row_dict, ignore_index=True)\n"
     ]
    },
    {
     "name": "stdout",
     "output_type": "stream",
     "text": [
      "419 / 501\n",
      "8ylnIYgHBqY\n"
     ]
    },
    {
     "name": "stderr",
     "output_type": "stream",
     "text": [
      "C:\\Users\\June\\AppData\\Local\\Temp\\ipykernel_14744\\2112170718.py:14: FutureWarning: The frame.append method is deprecated and will be removed from pandas in a future version. Use pandas.concat instead.\n",
      "  df = df.append(row_dict, ignore_index=True)\n"
     ]
    },
    {
     "name": "stdout",
     "output_type": "stream",
     "text": [
      "420 / 501\n",
      "q03lNhMlnHQ\n"
     ]
    },
    {
     "name": "stderr",
     "output_type": "stream",
     "text": [
      "C:\\Users\\June\\AppData\\Local\\Temp\\ipykernel_14744\\2112170718.py:14: FutureWarning: The frame.append method is deprecated and will be removed from pandas in a future version. Use pandas.concat instead.\n",
      "  df = df.append(row_dict, ignore_index=True)\n"
     ]
    },
    {
     "name": "stdout",
     "output_type": "stream",
     "text": [
      "421 / 501\n",
      "7P7Z3iOHzQk\n"
     ]
    },
    {
     "name": "stderr",
     "output_type": "stream",
     "text": [
      "C:\\Users\\June\\AppData\\Local\\Temp\\ipykernel_14744\\2112170718.py:14: FutureWarning: The frame.append method is deprecated and will be removed from pandas in a future version. Use pandas.concat instead.\n",
      "  df = df.append(row_dict, ignore_index=True)\n"
     ]
    },
    {
     "name": "stdout",
     "output_type": "stream",
     "text": [
      "422 / 501\n",
      "NPBzcjf8zQI\n"
     ]
    },
    {
     "name": "stderr",
     "output_type": "stream",
     "text": [
      "C:\\Users\\June\\AppData\\Local\\Temp\\ipykernel_14744\\2112170718.py:14: FutureWarning: The frame.append method is deprecated and will be removed from pandas in a future version. Use pandas.concat instead.\n",
      "  df = df.append(row_dict, ignore_index=True)\n"
     ]
    },
    {
     "name": "stdout",
     "output_type": "stream",
     "text": [
      "423 / 501\n",
      "2zVW0MqY0BI\n"
     ]
    },
    {
     "name": "stderr",
     "output_type": "stream",
     "text": [
      "C:\\Users\\June\\AppData\\Local\\Temp\\ipykernel_14744\\2112170718.py:14: FutureWarning: The frame.append method is deprecated and will be removed from pandas in a future version. Use pandas.concat instead.\n",
      "  df = df.append(row_dict, ignore_index=True)\n"
     ]
    },
    {
     "name": "stdout",
     "output_type": "stream",
     "text": [
      "424 / 501\n",
      "HY8Tylg_q0g\n"
     ]
    },
    {
     "name": "stderr",
     "output_type": "stream",
     "text": [
      "C:\\Users\\June\\AppData\\Local\\Temp\\ipykernel_14744\\2112170718.py:14: FutureWarning: The frame.append method is deprecated and will be removed from pandas in a future version. Use pandas.concat instead.\n",
      "  df = df.append(row_dict, ignore_index=True)\n"
     ]
    },
    {
     "name": "stdout",
     "output_type": "stream",
     "text": [
      "425 / 501\n",
      "yvYFTywu_NI\n"
     ]
    },
    {
     "name": "stderr",
     "output_type": "stream",
     "text": [
      "C:\\Users\\June\\AppData\\Local\\Temp\\ipykernel_14744\\2112170718.py:14: FutureWarning: The frame.append method is deprecated and will be removed from pandas in a future version. Use pandas.concat instead.\n",
      "  df = df.append(row_dict, ignore_index=True)\n"
     ]
    },
    {
     "name": "stdout",
     "output_type": "stream",
     "text": [
      "426 / 501\n",
      "OLGI5DBuK34\n"
     ]
    },
    {
     "name": "stderr",
     "output_type": "stream",
     "text": [
      "C:\\Users\\June\\AppData\\Local\\Temp\\ipykernel_14744\\2112170718.py:14: FutureWarning: The frame.append method is deprecated and will be removed from pandas in a future version. Use pandas.concat instead.\n",
      "  df = df.append(row_dict, ignore_index=True)\n"
     ]
    },
    {
     "name": "stdout",
     "output_type": "stream",
     "text": [
      "427 / 501\n",
      "D1jfwrz37r8\n"
     ]
    },
    {
     "name": "stderr",
     "output_type": "stream",
     "text": [
      "C:\\Users\\June\\AppData\\Local\\Temp\\ipykernel_14744\\2112170718.py:14: FutureWarning: The frame.append method is deprecated and will be removed from pandas in a future version. Use pandas.concat instead.\n",
      "  df = df.append(row_dict, ignore_index=True)\n"
     ]
    },
    {
     "name": "stdout",
     "output_type": "stream",
     "text": [
      "428 / 501\n",
      "ZOLTFEWJ6lE\n"
     ]
    },
    {
     "name": "stderr",
     "output_type": "stream",
     "text": [
      "C:\\Users\\June\\AppData\\Local\\Temp\\ipykernel_14744\\2112170718.py:14: FutureWarning: The frame.append method is deprecated and will be removed from pandas in a future version. Use pandas.concat instead.\n",
      "  df = df.append(row_dict, ignore_index=True)\n"
     ]
    },
    {
     "name": "stdout",
     "output_type": "stream",
     "text": [
      "429 / 501\n",
      "8-6PKEi0FoI\n"
     ]
    },
    {
     "name": "stderr",
     "output_type": "stream",
     "text": [
      "C:\\Users\\June\\AppData\\Local\\Temp\\ipykernel_14744\\2112170718.py:14: FutureWarning: The frame.append method is deprecated and will be removed from pandas in a future version. Use pandas.concat instead.\n",
      "  df = df.append(row_dict, ignore_index=True)\n"
     ]
    },
    {
     "name": "stdout",
     "output_type": "stream",
     "text": [
      "430 / 501\n",
      "mHgoTNUOK0k\n"
     ]
    },
    {
     "name": "stderr",
     "output_type": "stream",
     "text": [
      "C:\\Users\\June\\AppData\\Local\\Temp\\ipykernel_14744\\2112170718.py:14: FutureWarning: The frame.append method is deprecated and will be removed from pandas in a future version. Use pandas.concat instead.\n",
      "  df = df.append(row_dict, ignore_index=True)\n"
     ]
    },
    {
     "name": "stdout",
     "output_type": "stream",
     "text": [
      "431 / 501\n",
      "nQVCGyhg5Cc\n"
     ]
    },
    {
     "name": "stderr",
     "output_type": "stream",
     "text": [
      "C:\\Users\\June\\AppData\\Local\\Temp\\ipykernel_14744\\2112170718.py:14: FutureWarning: The frame.append method is deprecated and will be removed from pandas in a future version. Use pandas.concat instead.\n",
      "  df = df.append(row_dict, ignore_index=True)\n"
     ]
    },
    {
     "name": "stdout",
     "output_type": "stream",
     "text": [
      "432 / 501\n",
      "uNRIg0kiqoU\n"
     ]
    },
    {
     "name": "stderr",
     "output_type": "stream",
     "text": [
      "C:\\Users\\June\\AppData\\Local\\Temp\\ipykernel_14744\\2112170718.py:14: FutureWarning: The frame.append method is deprecated and will be removed from pandas in a future version. Use pandas.concat instead.\n",
      "  df = df.append(row_dict, ignore_index=True)\n"
     ]
    },
    {
     "name": "stdout",
     "output_type": "stream",
     "text": [
      "433 / 501\n",
      "nQsHiVoNvZA\n"
     ]
    },
    {
     "name": "stderr",
     "output_type": "stream",
     "text": [
      "C:\\Users\\June\\AppData\\Local\\Temp\\ipykernel_14744\\2112170718.py:14: FutureWarning: The frame.append method is deprecated and will be removed from pandas in a future version. Use pandas.concat instead.\n",
      "  df = df.append(row_dict, ignore_index=True)\n"
     ]
    },
    {
     "name": "stdout",
     "output_type": "stream",
     "text": [
      "434 / 501\n",
      "_IJHGqPiPGE\n"
     ]
    },
    {
     "name": "stderr",
     "output_type": "stream",
     "text": [
      "C:\\Users\\June\\AppData\\Local\\Temp\\ipykernel_14744\\2112170718.py:14: FutureWarning: The frame.append method is deprecated and will be removed from pandas in a future version. Use pandas.concat instead.\n",
      "  df = df.append(row_dict, ignore_index=True)\n"
     ]
    },
    {
     "name": "stdout",
     "output_type": "stream",
     "text": [
      "435 / 501\n",
      "SrR5f8pzaTc\n"
     ]
    },
    {
     "name": "stderr",
     "output_type": "stream",
     "text": [
      "C:\\Users\\June\\AppData\\Local\\Temp\\ipykernel_14744\\2112170718.py:14: FutureWarning: The frame.append method is deprecated and will be removed from pandas in a future version. Use pandas.concat instead.\n",
      "  df = df.append(row_dict, ignore_index=True)\n"
     ]
    },
    {
     "name": "stdout",
     "output_type": "stream",
     "text": [
      "436 / 501\n",
      "YtF6njhpn3c\n"
     ]
    },
    {
     "name": "stderr",
     "output_type": "stream",
     "text": [
      "C:\\Users\\June\\AppData\\Local\\Temp\\ipykernel_14744\\2112170718.py:14: FutureWarning: The frame.append method is deprecated and will be removed from pandas in a future version. Use pandas.concat instead.\n",
      "  df = df.append(row_dict, ignore_index=True)\n"
     ]
    },
    {
     "name": "stdout",
     "output_type": "stream",
     "text": [
      "437 / 501\n",
      "p5rDZ2TtFHw\n"
     ]
    },
    {
     "name": "stderr",
     "output_type": "stream",
     "text": [
      "C:\\Users\\June\\AppData\\Local\\Temp\\ipykernel_14744\\2112170718.py:14: FutureWarning: The frame.append method is deprecated and will be removed from pandas in a future version. Use pandas.concat instead.\n",
      "  df = df.append(row_dict, ignore_index=True)\n"
     ]
    },
    {
     "name": "stdout",
     "output_type": "stream",
     "text": [
      "438 / 501\n",
      "fEY195pJMg0\n"
     ]
    },
    {
     "name": "stderr",
     "output_type": "stream",
     "text": [
      "C:\\Users\\June\\AppData\\Local\\Temp\\ipykernel_14744\\2112170718.py:14: FutureWarning: The frame.append method is deprecated and will be removed from pandas in a future version. Use pandas.concat instead.\n",
      "  df = df.append(row_dict, ignore_index=True)\n"
     ]
    },
    {
     "name": "stdout",
     "output_type": "stream",
     "text": [
      "439 / 501\n",
      "UqIQ9ZsM96o\n"
     ]
    },
    {
     "name": "stderr",
     "output_type": "stream",
     "text": [
      "C:\\Users\\June\\AppData\\Local\\Temp\\ipykernel_14744\\2112170718.py:14: FutureWarning: The frame.append method is deprecated and will be removed from pandas in a future version. Use pandas.concat instead.\n",
      "  df = df.append(row_dict, ignore_index=True)\n"
     ]
    },
    {
     "name": "stdout",
     "output_type": "stream",
     "text": [
      "440 / 501\n",
      "rhYjdEz5TUc\n"
     ]
    },
    {
     "name": "stderr",
     "output_type": "stream",
     "text": [
      "C:\\Users\\June\\AppData\\Local\\Temp\\ipykernel_14744\\2112170718.py:14: FutureWarning: The frame.append method is deprecated and will be removed from pandas in a future version. Use pandas.concat instead.\n",
      "  df = df.append(row_dict, ignore_index=True)\n"
     ]
    },
    {
     "name": "stdout",
     "output_type": "stream",
     "text": [
      "441 / 501\n",
      "r2zUQACkjjo\n"
     ]
    },
    {
     "name": "stderr",
     "output_type": "stream",
     "text": [
      "C:\\Users\\June\\AppData\\Local\\Temp\\ipykernel_14744\\2112170718.py:14: FutureWarning: The frame.append method is deprecated and will be removed from pandas in a future version. Use pandas.concat instead.\n",
      "  df = df.append(row_dict, ignore_index=True)\n"
     ]
    },
    {
     "name": "stdout",
     "output_type": "stream",
     "text": [
      "442 / 501\n",
      "EhrubF_vVio\n"
     ]
    },
    {
     "name": "stderr",
     "output_type": "stream",
     "text": [
      "C:\\Users\\June\\AppData\\Local\\Temp\\ipykernel_14744\\2112170718.py:14: FutureWarning: The frame.append method is deprecated and will be removed from pandas in a future version. Use pandas.concat instead.\n",
      "  df = df.append(row_dict, ignore_index=True)\n"
     ]
    },
    {
     "name": "stdout",
     "output_type": "stream",
     "text": [
      "443 / 501\n",
      "MAu2PeRz7b8\n"
     ]
    },
    {
     "name": "stderr",
     "output_type": "stream",
     "text": [
      "C:\\Users\\June\\AppData\\Local\\Temp\\ipykernel_14744\\2112170718.py:14: FutureWarning: The frame.append method is deprecated and will be removed from pandas in a future version. Use pandas.concat instead.\n",
      "  df = df.append(row_dict, ignore_index=True)\n"
     ]
    },
    {
     "name": "stdout",
     "output_type": "stream",
     "text": [
      "444 / 501\n",
      "qhzcjT7uF18\n"
     ]
    },
    {
     "name": "stderr",
     "output_type": "stream",
     "text": [
      "C:\\Users\\June\\AppData\\Local\\Temp\\ipykernel_14744\\2112170718.py:14: FutureWarning: The frame.append method is deprecated and will be removed from pandas in a future version. Use pandas.concat instead.\n",
      "  df = df.append(row_dict, ignore_index=True)\n"
     ]
    },
    {
     "name": "stdout",
     "output_type": "stream",
     "text": [
      "445 / 501\n",
      "-Irimwh0X9o\n"
     ]
    },
    {
     "name": "stderr",
     "output_type": "stream",
     "text": [
      "C:\\Users\\June\\AppData\\Local\\Temp\\ipykernel_14744\\2112170718.py:14: FutureWarning: The frame.append method is deprecated and will be removed from pandas in a future version. Use pandas.concat instead.\n",
      "  df = df.append(row_dict, ignore_index=True)\n"
     ]
    },
    {
     "name": "stdout",
     "output_type": "stream",
     "text": [
      "446 / 501\n",
      "b9vCE1dFmVI\n"
     ]
    },
    {
     "name": "stderr",
     "output_type": "stream",
     "text": [
      "C:\\Users\\June\\AppData\\Local\\Temp\\ipykernel_14744\\2112170718.py:14: FutureWarning: The frame.append method is deprecated and will be removed from pandas in a future version. Use pandas.concat instead.\n",
      "  df = df.append(row_dict, ignore_index=True)\n"
     ]
    },
    {
     "name": "stdout",
     "output_type": "stream",
     "text": [
      "447 / 501\n",
      "WV-qYU8d9hA\n"
     ]
    },
    {
     "name": "stderr",
     "output_type": "stream",
     "text": [
      "C:\\Users\\June\\AppData\\Local\\Temp\\ipykernel_14744\\2112170718.py:14: FutureWarning: The frame.append method is deprecated and will be removed from pandas in a future version. Use pandas.concat instead.\n",
      "  df = df.append(row_dict, ignore_index=True)\n"
     ]
    },
    {
     "name": "stdout",
     "output_type": "stream",
     "text": [
      "448 / 501\n",
      "q_nR6RoeghE\n"
     ]
    },
    {
     "name": "stderr",
     "output_type": "stream",
     "text": [
      "C:\\Users\\June\\AppData\\Local\\Temp\\ipykernel_14744\\2112170718.py:14: FutureWarning: The frame.append method is deprecated and will be removed from pandas in a future version. Use pandas.concat instead.\n",
      "  df = df.append(row_dict, ignore_index=True)\n"
     ]
    },
    {
     "name": "stdout",
     "output_type": "stream",
     "text": [
      "449 / 501\n",
      "S9BFo8HsjbU\n"
     ]
    },
    {
     "name": "stderr",
     "output_type": "stream",
     "text": [
      "C:\\Users\\June\\AppData\\Local\\Temp\\ipykernel_14744\\2112170718.py:14: FutureWarning: The frame.append method is deprecated and will be removed from pandas in a future version. Use pandas.concat instead.\n",
      "  df = df.append(row_dict, ignore_index=True)\n"
     ]
    },
    {
     "name": "stdout",
     "output_type": "stream",
     "text": [
      "450 / 501\n",
      "1kvjOro-58g\n"
     ]
    },
    {
     "name": "stderr",
     "output_type": "stream",
     "text": [
      "C:\\Users\\June\\AppData\\Local\\Temp\\ipykernel_14744\\2112170718.py:14: FutureWarning: The frame.append method is deprecated and will be removed from pandas in a future version. Use pandas.concat instead.\n",
      "  df = df.append(row_dict, ignore_index=True)\n"
     ]
    },
    {
     "name": "stdout",
     "output_type": "stream",
     "text": [
      "451 / 501\n",
      "E4Zrw4eGKCY\n"
     ]
    },
    {
     "name": "stderr",
     "output_type": "stream",
     "text": [
      "C:\\Users\\June\\AppData\\Local\\Temp\\ipykernel_14744\\2112170718.py:14: FutureWarning: The frame.append method is deprecated and will be removed from pandas in a future version. Use pandas.concat instead.\n",
      "  df = df.append(row_dict, ignore_index=True)\n"
     ]
    },
    {
     "name": "stdout",
     "output_type": "stream",
     "text": [
      "452 / 501\n",
      "4oLuys5zBEg\n"
     ]
    },
    {
     "name": "stderr",
     "output_type": "stream",
     "text": [
      "C:\\Users\\June\\AppData\\Local\\Temp\\ipykernel_14744\\2112170718.py:14: FutureWarning: The frame.append method is deprecated and will be removed from pandas in a future version. Use pandas.concat instead.\n",
      "  df = df.append(row_dict, ignore_index=True)\n"
     ]
    },
    {
     "name": "stdout",
     "output_type": "stream",
     "text": [
      "453 / 501\n",
      "3qOzgNsCXzE\n"
     ]
    },
    {
     "name": "stderr",
     "output_type": "stream",
     "text": [
      "C:\\Users\\June\\AppData\\Local\\Temp\\ipykernel_14744\\2112170718.py:14: FutureWarning: The frame.append method is deprecated and will be removed from pandas in a future version. Use pandas.concat instead.\n",
      "  df = df.append(row_dict, ignore_index=True)\n"
     ]
    },
    {
     "name": "stdout",
     "output_type": "stream",
     "text": [
      "454 / 501\n",
      "em_C22baC28\n"
     ]
    },
    {
     "name": "stderr",
     "output_type": "stream",
     "text": [
      "C:\\Users\\June\\AppData\\Local\\Temp\\ipykernel_14744\\2112170718.py:14: FutureWarning: The frame.append method is deprecated and will be removed from pandas in a future version. Use pandas.concat instead.\n",
      "  df = df.append(row_dict, ignore_index=True)\n"
     ]
    },
    {
     "name": "stdout",
     "output_type": "stream",
     "text": [
      "455 / 501\n",
      "w_Wl422ahWc\n"
     ]
    },
    {
     "name": "stderr",
     "output_type": "stream",
     "text": [
      "C:\\Users\\June\\AppData\\Local\\Temp\\ipykernel_14744\\2112170718.py:14: FutureWarning: The frame.append method is deprecated and will be removed from pandas in a future version. Use pandas.concat instead.\n",
      "  df = df.append(row_dict, ignore_index=True)\n"
     ]
    },
    {
     "name": "stdout",
     "output_type": "stream",
     "text": [
      "456 / 501\n",
      "8UcnTS9X-HY\n"
     ]
    },
    {
     "name": "stderr",
     "output_type": "stream",
     "text": [
      "C:\\Users\\June\\AppData\\Local\\Temp\\ipykernel_14744\\2112170718.py:14: FutureWarning: The frame.append method is deprecated and will be removed from pandas in a future version. Use pandas.concat instead.\n",
      "  df = df.append(row_dict, ignore_index=True)\n"
     ]
    },
    {
     "name": "stdout",
     "output_type": "stream",
     "text": [
      "457 / 501\n",
      "Ul-ZQagN2nM\n"
     ]
    },
    {
     "name": "stderr",
     "output_type": "stream",
     "text": [
      "C:\\Users\\June\\AppData\\Local\\Temp\\ipykernel_14744\\2112170718.py:14: FutureWarning: The frame.append method is deprecated and will be removed from pandas in a future version. Use pandas.concat instead.\n",
      "  df = df.append(row_dict, ignore_index=True)\n"
     ]
    },
    {
     "name": "stdout",
     "output_type": "stream",
     "text": [
      "458 / 501\n",
      "guLRsTcnhxY\n"
     ]
    },
    {
     "name": "stderr",
     "output_type": "stream",
     "text": [
      "C:\\Users\\June\\AppData\\Local\\Temp\\ipykernel_14744\\2112170718.py:14: FutureWarning: The frame.append method is deprecated and will be removed from pandas in a future version. Use pandas.concat instead.\n",
      "  df = df.append(row_dict, ignore_index=True)\n"
     ]
    },
    {
     "name": "stdout",
     "output_type": "stream",
     "text": [
      "459 / 501\n",
      "JQSCTCBRVZQ\n"
     ]
    },
    {
     "name": "stderr",
     "output_type": "stream",
     "text": [
      "C:\\Users\\June\\AppData\\Local\\Temp\\ipykernel_14744\\2112170718.py:14: FutureWarning: The frame.append method is deprecated and will be removed from pandas in a future version. Use pandas.concat instead.\n",
      "  df = df.append(row_dict, ignore_index=True)\n"
     ]
    },
    {
     "name": "stdout",
     "output_type": "stream",
     "text": [
      "460 / 501\n",
      "lM8rpNoobbo\n"
     ]
    },
    {
     "name": "stderr",
     "output_type": "stream",
     "text": [
      "C:\\Users\\June\\AppData\\Local\\Temp\\ipykernel_14744\\2112170718.py:14: FutureWarning: The frame.append method is deprecated and will be removed from pandas in a future version. Use pandas.concat instead.\n",
      "  df = df.append(row_dict, ignore_index=True)\n"
     ]
    },
    {
     "name": "stdout",
     "output_type": "stream",
     "text": [
      "461 / 501\n",
      "NPabxWmCiUU\n"
     ]
    },
    {
     "name": "stderr",
     "output_type": "stream",
     "text": [
      "C:\\Users\\June\\AppData\\Local\\Temp\\ipykernel_14744\\2112170718.py:14: FutureWarning: The frame.append method is deprecated and will be removed from pandas in a future version. Use pandas.concat instead.\n",
      "  df = df.append(row_dict, ignore_index=True)\n"
     ]
    },
    {
     "name": "stdout",
     "output_type": "stream",
     "text": [
      "462 / 501\n",
      "dImZAE4Frzw\n"
     ]
    },
    {
     "name": "stderr",
     "output_type": "stream",
     "text": [
      "C:\\Users\\June\\AppData\\Local\\Temp\\ipykernel_14744\\2112170718.py:14: FutureWarning: The frame.append method is deprecated and will be removed from pandas in a future version. Use pandas.concat instead.\n",
      "  df = df.append(row_dict, ignore_index=True)\n"
     ]
    },
    {
     "name": "stdout",
     "output_type": "stream",
     "text": [
      "463 / 501\n",
      "nj6xWvztSWg\n"
     ]
    },
    {
     "name": "stderr",
     "output_type": "stream",
     "text": [
      "C:\\Users\\June\\AppData\\Local\\Temp\\ipykernel_14744\\2112170718.py:14: FutureWarning: The frame.append method is deprecated and will be removed from pandas in a future version. Use pandas.concat instead.\n",
      "  df = df.append(row_dict, ignore_index=True)\n"
     ]
    },
    {
     "name": "stdout",
     "output_type": "stream",
     "text": [
      "464 / 501\n",
      "ew0s4lFEqrk\n"
     ]
    },
    {
     "name": "stderr",
     "output_type": "stream",
     "text": [
      "C:\\Users\\June\\AppData\\Local\\Temp\\ipykernel_14744\\2112170718.py:14: FutureWarning: The frame.append method is deprecated and will be removed from pandas in a future version. Use pandas.concat instead.\n",
      "  df = df.append(row_dict, ignore_index=True)\n"
     ]
    },
    {
     "name": "stdout",
     "output_type": "stream",
     "text": [
      "465 / 501\n",
      "w5HsRx4TbVk\n"
     ]
    },
    {
     "name": "stderr",
     "output_type": "stream",
     "text": [
      "C:\\Users\\June\\AppData\\Local\\Temp\\ipykernel_14744\\2112170718.py:14: FutureWarning: The frame.append method is deprecated and will be removed from pandas in a future version. Use pandas.concat instead.\n",
      "  df = df.append(row_dict, ignore_index=True)\n"
     ]
    },
    {
     "name": "stdout",
     "output_type": "stream",
     "text": [
      "466 / 501\n",
      "2MvnkqvksvE\n"
     ]
    },
    {
     "name": "stderr",
     "output_type": "stream",
     "text": [
      "C:\\Users\\June\\AppData\\Local\\Temp\\ipykernel_14744\\2112170718.py:14: FutureWarning: The frame.append method is deprecated and will be removed from pandas in a future version. Use pandas.concat instead.\n",
      "  df = df.append(row_dict, ignore_index=True)\n"
     ]
    },
    {
     "name": "stdout",
     "output_type": "stream",
     "text": [
      "467 / 501\n",
      "n_95D_ezEVY\n"
     ]
    },
    {
     "name": "stderr",
     "output_type": "stream",
     "text": [
      "C:\\Users\\June\\AppData\\Local\\Temp\\ipykernel_14744\\2112170718.py:14: FutureWarning: The frame.append method is deprecated and will be removed from pandas in a future version. Use pandas.concat instead.\n",
      "  df = df.append(row_dict, ignore_index=True)\n"
     ]
    },
    {
     "name": "stdout",
     "output_type": "stream",
     "text": [
      "468 / 501\n",
      "BtCOL7koNP0\n"
     ]
    },
    {
     "name": "stderr",
     "output_type": "stream",
     "text": [
      "C:\\Users\\June\\AppData\\Local\\Temp\\ipykernel_14744\\2112170718.py:14: FutureWarning: The frame.append method is deprecated and will be removed from pandas in a future version. Use pandas.concat instead.\n",
      "  df = df.append(row_dict, ignore_index=True)\n"
     ]
    },
    {
     "name": "stdout",
     "output_type": "stream",
     "text": [
      "469 / 501\n",
      "s1xR30y-CN8\n"
     ]
    },
    {
     "name": "stderr",
     "output_type": "stream",
     "text": [
      "C:\\Users\\June\\AppData\\Local\\Temp\\ipykernel_14744\\2112170718.py:14: FutureWarning: The frame.append method is deprecated and will be removed from pandas in a future version. Use pandas.concat instead.\n",
      "  df = df.append(row_dict, ignore_index=True)\n"
     ]
    },
    {
     "name": "stdout",
     "output_type": "stream",
     "text": [
      "470 / 501\n",
      "EV-kYc7w-qE\n"
     ]
    },
    {
     "name": "stderr",
     "output_type": "stream",
     "text": [
      "C:\\Users\\June\\AppData\\Local\\Temp\\ipykernel_14744\\2112170718.py:14: FutureWarning: The frame.append method is deprecated and will be removed from pandas in a future version. Use pandas.concat instead.\n",
      "  df = df.append(row_dict, ignore_index=True)\n"
     ]
    },
    {
     "name": "stdout",
     "output_type": "stream",
     "text": [
      "471 / 501\n",
      "wF-kBWmlb2I\n"
     ]
    },
    {
     "name": "stderr",
     "output_type": "stream",
     "text": [
      "C:\\Users\\June\\AppData\\Local\\Temp\\ipykernel_14744\\2112170718.py:14: FutureWarning: The frame.append method is deprecated and will be removed from pandas in a future version. Use pandas.concat instead.\n",
      "  df = df.append(row_dict, ignore_index=True)\n"
     ]
    },
    {
     "name": "stdout",
     "output_type": "stream",
     "text": [
      "472 / 501\n",
      "w1QkLd6YJ2c\n"
     ]
    },
    {
     "name": "stderr",
     "output_type": "stream",
     "text": [
      "C:\\Users\\June\\AppData\\Local\\Temp\\ipykernel_14744\\2112170718.py:14: FutureWarning: The frame.append method is deprecated and will be removed from pandas in a future version. Use pandas.concat instead.\n",
      "  df = df.append(row_dict, ignore_index=True)\n"
     ]
    },
    {
     "name": "stdout",
     "output_type": "stream",
     "text": [
      "473 / 501\n",
      "gnnJkTl7bCo\n"
     ]
    },
    {
     "name": "stderr",
     "output_type": "stream",
     "text": [
      "C:\\Users\\June\\AppData\\Local\\Temp\\ipykernel_14744\\2112170718.py:14: FutureWarning: The frame.append method is deprecated and will be removed from pandas in a future version. Use pandas.concat instead.\n",
      "  df = df.append(row_dict, ignore_index=True)\n"
     ]
    },
    {
     "name": "stdout",
     "output_type": "stream",
     "text": [
      "474 / 501\n",
      "paStwCBkHQA\n"
     ]
    },
    {
     "name": "stderr",
     "output_type": "stream",
     "text": [
      "C:\\Users\\June\\AppData\\Local\\Temp\\ipykernel_14744\\2112170718.py:14: FutureWarning: The frame.append method is deprecated and will be removed from pandas in a future version. Use pandas.concat instead.\n",
      "  df = df.append(row_dict, ignore_index=True)\n"
     ]
    },
    {
     "name": "stdout",
     "output_type": "stream",
     "text": [
      "475 / 501\n",
      "vc9kDKQAzys\n"
     ]
    },
    {
     "name": "stderr",
     "output_type": "stream",
     "text": [
      "C:\\Users\\June\\AppData\\Local\\Temp\\ipykernel_14744\\2112170718.py:14: FutureWarning: The frame.append method is deprecated and will be removed from pandas in a future version. Use pandas.concat instead.\n",
      "  df = df.append(row_dict, ignore_index=True)\n"
     ]
    },
    {
     "name": "stdout",
     "output_type": "stream",
     "text": [
      "476 / 501\n",
      "iPEZ83bwKec\n"
     ]
    },
    {
     "name": "stderr",
     "output_type": "stream",
     "text": [
      "C:\\Users\\June\\AppData\\Local\\Temp\\ipykernel_14744\\2112170718.py:14: FutureWarning: The frame.append method is deprecated and will be removed from pandas in a future version. Use pandas.concat instead.\n",
      "  df = df.append(row_dict, ignore_index=True)\n"
     ]
    },
    {
     "name": "stdout",
     "output_type": "stream",
     "text": [
      "477 / 501\n",
      "ZJSJsfEBKYg\n"
     ]
    },
    {
     "name": "stderr",
     "output_type": "stream",
     "text": [
      "C:\\Users\\June\\AppData\\Local\\Temp\\ipykernel_14744\\2112170718.py:14: FutureWarning: The frame.append method is deprecated and will be removed from pandas in a future version. Use pandas.concat instead.\n",
      "  df = df.append(row_dict, ignore_index=True)\n"
     ]
    },
    {
     "name": "stdout",
     "output_type": "stream",
     "text": [
      "478 / 501\n",
      "a-GPxD5X_4o\n"
     ]
    },
    {
     "name": "stderr",
     "output_type": "stream",
     "text": [
      "C:\\Users\\June\\AppData\\Local\\Temp\\ipykernel_14744\\2112170718.py:14: FutureWarning: The frame.append method is deprecated and will be removed from pandas in a future version. Use pandas.concat instead.\n",
      "  df = df.append(row_dict, ignore_index=True)\n"
     ]
    },
    {
     "name": "stdout",
     "output_type": "stream",
     "text": [
      "479 / 501\n",
      "lFQmdHppmfk\n"
     ]
    },
    {
     "name": "stderr",
     "output_type": "stream",
     "text": [
      "C:\\Users\\June\\AppData\\Local\\Temp\\ipykernel_14744\\2112170718.py:14: FutureWarning: The frame.append method is deprecated and will be removed from pandas in a future version. Use pandas.concat instead.\n",
      "  df = df.append(row_dict, ignore_index=True)\n"
     ]
    },
    {
     "name": "stdout",
     "output_type": "stream",
     "text": [
      "480 / 501\n",
      "30Tbpp0gQAo\n"
     ]
    },
    {
     "name": "stderr",
     "output_type": "stream",
     "text": [
      "C:\\Users\\June\\AppData\\Local\\Temp\\ipykernel_14744\\2112170718.py:14: FutureWarning: The frame.append method is deprecated and will be removed from pandas in a future version. Use pandas.concat instead.\n",
      "  df = df.append(row_dict, ignore_index=True)\n"
     ]
    },
    {
     "name": "stdout",
     "output_type": "stream",
     "text": [
      "481 / 501\n",
      "EzqP-AnTJoc\n"
     ]
    },
    {
     "name": "stderr",
     "output_type": "stream",
     "text": [
      "C:\\Users\\June\\AppData\\Local\\Temp\\ipykernel_14744\\2112170718.py:14: FutureWarning: The frame.append method is deprecated and will be removed from pandas in a future version. Use pandas.concat instead.\n",
      "  df = df.append(row_dict, ignore_index=True)\n"
     ]
    },
    {
     "name": "stdout",
     "output_type": "stream",
     "text": [
      "482 / 501\n",
      "pZ4bAOHWxlE\n"
     ]
    },
    {
     "name": "stderr",
     "output_type": "stream",
     "text": [
      "C:\\Users\\June\\AppData\\Local\\Temp\\ipykernel_14744\\2112170718.py:14: FutureWarning: The frame.append method is deprecated and will be removed from pandas in a future version. Use pandas.concat instead.\n",
      "  df = df.append(row_dict, ignore_index=True)\n"
     ]
    },
    {
     "name": "stdout",
     "output_type": "stream",
     "text": [
      "483 / 501\n",
      "BSi53UF-rrE\n"
     ]
    },
    {
     "name": "stderr",
     "output_type": "stream",
     "text": [
      "C:\\Users\\June\\AppData\\Local\\Temp\\ipykernel_14744\\2112170718.py:14: FutureWarning: The frame.append method is deprecated and will be removed from pandas in a future version. Use pandas.concat instead.\n",
      "  df = df.append(row_dict, ignore_index=True)\n"
     ]
    },
    {
     "name": "stdout",
     "output_type": "stream",
     "text": [
      "484 / 501\n",
      "Z7HLsayHVIE\n"
     ]
    },
    {
     "name": "stderr",
     "output_type": "stream",
     "text": [
      "C:\\Users\\June\\AppData\\Local\\Temp\\ipykernel_14744\\2112170718.py:14: FutureWarning: The frame.append method is deprecated and will be removed from pandas in a future version. Use pandas.concat instead.\n",
      "  df = df.append(row_dict, ignore_index=True)\n"
     ]
    },
    {
     "name": "stdout",
     "output_type": "stream",
     "text": [
      "485 / 501\n",
      "yoxanKXhmYw\n"
     ]
    },
    {
     "name": "stderr",
     "output_type": "stream",
     "text": [
      "C:\\Users\\June\\AppData\\Local\\Temp\\ipykernel_14744\\2112170718.py:14: FutureWarning: The frame.append method is deprecated and will be removed from pandas in a future version. Use pandas.concat instead.\n",
      "  df = df.append(row_dict, ignore_index=True)\n"
     ]
    },
    {
     "name": "stdout",
     "output_type": "stream",
     "text": [
      "486 / 501\n",
      "JMDgbp7Ng2E\n"
     ]
    },
    {
     "name": "stderr",
     "output_type": "stream",
     "text": [
      "C:\\Users\\June\\AppData\\Local\\Temp\\ipykernel_14744\\2112170718.py:14: FutureWarning: The frame.append method is deprecated and will be removed from pandas in a future version. Use pandas.concat instead.\n",
      "  df = df.append(row_dict, ignore_index=True)\n"
     ]
    },
    {
     "name": "stdout",
     "output_type": "stream",
     "text": [
      "487 / 501\n",
      "ty-wcIMp2VI\n"
     ]
    },
    {
     "name": "stderr",
     "output_type": "stream",
     "text": [
      "C:\\Users\\June\\AppData\\Local\\Temp\\ipykernel_14744\\2112170718.py:14: FutureWarning: The frame.append method is deprecated and will be removed from pandas in a future version. Use pandas.concat instead.\n",
      "  df = df.append(row_dict, ignore_index=True)\n"
     ]
    },
    {
     "name": "stdout",
     "output_type": "stream",
     "text": [
      "488 / 501\n",
      "1LY8ANOgGhU\n"
     ]
    },
    {
     "name": "stderr",
     "output_type": "stream",
     "text": [
      "C:\\Users\\June\\AppData\\Local\\Temp\\ipykernel_14744\\2112170718.py:14: FutureWarning: The frame.append method is deprecated and will be removed from pandas in a future version. Use pandas.concat instead.\n",
      "  df = df.append(row_dict, ignore_index=True)\n"
     ]
    },
    {
     "name": "stdout",
     "output_type": "stream",
     "text": [
      "489 / 501\n",
      "0WHQE-qTN04\n"
     ]
    },
    {
     "name": "stderr",
     "output_type": "stream",
     "text": [
      "C:\\Users\\June\\AppData\\Local\\Temp\\ipykernel_14744\\2112170718.py:14: FutureWarning: The frame.append method is deprecated and will be removed from pandas in a future version. Use pandas.concat instead.\n",
      "  df = df.append(row_dict, ignore_index=True)\n"
     ]
    },
    {
     "name": "stdout",
     "output_type": "stream",
     "text": [
      "490 / 501\n",
      "qVAZC5SNUSQ\n"
     ]
    },
    {
     "name": "stderr",
     "output_type": "stream",
     "text": [
      "C:\\Users\\June\\AppData\\Local\\Temp\\ipykernel_14744\\2112170718.py:14: FutureWarning: The frame.append method is deprecated and will be removed from pandas in a future version. Use pandas.concat instead.\n",
      "  df = df.append(row_dict, ignore_index=True)\n"
     ]
    },
    {
     "name": "stdout",
     "output_type": "stream",
     "text": [
      "491 / 501\n",
      "PWPuuzMoOpg\n"
     ]
    },
    {
     "name": "stderr",
     "output_type": "stream",
     "text": [
      "C:\\Users\\June\\AppData\\Local\\Temp\\ipykernel_14744\\2112170718.py:14: FutureWarning: The frame.append method is deprecated and will be removed from pandas in a future version. Use pandas.concat instead.\n",
      "  df = df.append(row_dict, ignore_index=True)\n"
     ]
    },
    {
     "name": "stdout",
     "output_type": "stream",
     "text": [
      "492 / 501\n",
      "NXZlCgkCtpg\n"
     ]
    },
    {
     "name": "stderr",
     "output_type": "stream",
     "text": [
      "C:\\Users\\June\\AppData\\Local\\Temp\\ipykernel_14744\\2112170718.py:14: FutureWarning: The frame.append method is deprecated and will be removed from pandas in a future version. Use pandas.concat instead.\n",
      "  df = df.append(row_dict, ignore_index=True)\n"
     ]
    },
    {
     "name": "stdout",
     "output_type": "stream",
     "text": [
      "493 / 501\n",
      "WvBGM5C6Uqg\n"
     ]
    },
    {
     "name": "stderr",
     "output_type": "stream",
     "text": [
      "C:\\Users\\June\\AppData\\Local\\Temp\\ipykernel_14744\\2112170718.py:14: FutureWarning: The frame.append method is deprecated and will be removed from pandas in a future version. Use pandas.concat instead.\n",
      "  df = df.append(row_dict, ignore_index=True)\n"
     ]
    },
    {
     "name": "stdout",
     "output_type": "stream",
     "text": [
      "494 / 501\n",
      "RRcXeccManU\n"
     ]
    },
    {
     "name": "stderr",
     "output_type": "stream",
     "text": [
      "C:\\Users\\June\\AppData\\Local\\Temp\\ipykernel_14744\\2112170718.py:14: FutureWarning: The frame.append method is deprecated and will be removed from pandas in a future version. Use pandas.concat instead.\n",
      "  df = df.append(row_dict, ignore_index=True)\n"
     ]
    },
    {
     "name": "stdout",
     "output_type": "stream",
     "text": [
      "495 / 501\n",
      "mIq7dTCD1to\n"
     ]
    },
    {
     "name": "stderr",
     "output_type": "stream",
     "text": [
      "C:\\Users\\June\\AppData\\Local\\Temp\\ipykernel_14744\\2112170718.py:14: FutureWarning: The frame.append method is deprecated and will be removed from pandas in a future version. Use pandas.concat instead.\n",
      "  df = df.append(row_dict, ignore_index=True)\n"
     ]
    },
    {
     "name": "stdout",
     "output_type": "stream",
     "text": [
      "496 / 501\n",
      "vhld7q440sQ\n"
     ]
    },
    {
     "name": "stderr",
     "output_type": "stream",
     "text": [
      "C:\\Users\\June\\AppData\\Local\\Temp\\ipykernel_14744\\2112170718.py:14: FutureWarning: The frame.append method is deprecated and will be removed from pandas in a future version. Use pandas.concat instead.\n",
      "  df = df.append(row_dict, ignore_index=True)\n"
     ]
    },
    {
     "name": "stdout",
     "output_type": "stream",
     "text": [
      "497 / 501\n",
      "oLUvUyeqRSU\n"
     ]
    },
    {
     "name": "stderr",
     "output_type": "stream",
     "text": [
      "C:\\Users\\June\\AppData\\Local\\Temp\\ipykernel_14744\\2112170718.py:14: FutureWarning: The frame.append method is deprecated and will be removed from pandas in a future version. Use pandas.concat instead.\n",
      "  df = df.append(row_dict, ignore_index=True)\n"
     ]
    },
    {
     "name": "stdout",
     "output_type": "stream",
     "text": [
      "498 / 501\n",
      "tsXrlox4hNU\n"
     ]
    },
    {
     "name": "stderr",
     "output_type": "stream",
     "text": [
      "C:\\Users\\June\\AppData\\Local\\Temp\\ipykernel_14744\\2112170718.py:14: FutureWarning: The frame.append method is deprecated and will be removed from pandas in a future version. Use pandas.concat instead.\n",
      "  df = df.append(row_dict, ignore_index=True)\n"
     ]
    },
    {
     "name": "stdout",
     "output_type": "stream",
     "text": [
      "499 / 501\n",
      "7qobglil1sU\n"
     ]
    },
    {
     "name": "stderr",
     "output_type": "stream",
     "text": [
      "C:\\Users\\June\\AppData\\Local\\Temp\\ipykernel_14744\\2112170718.py:14: FutureWarning: The frame.append method is deprecated and will be removed from pandas in a future version. Use pandas.concat instead.\n",
      "  df = df.append(row_dict, ignore_index=True)\n"
     ]
    },
    {
     "name": "stdout",
     "output_type": "stream",
     "text": [
      "500 / 501\n",
      "rKqlP-FvEas\n"
     ]
    },
    {
     "name": "stderr",
     "output_type": "stream",
     "text": [
      "C:\\Users\\June\\AppData\\Local\\Temp\\ipykernel_14744\\2112170718.py:14: FutureWarning: The frame.append method is deprecated and will be removed from pandas in a future version. Use pandas.concat instead.\n",
      "  df = df.append(row_dict, ignore_index=True)\n"
     ]
    },
    {
     "name": "stdout",
     "output_type": "stream",
     "text": [
      "501 / 501\n",
      "EaLJnmdR5aI\n"
     ]
    },
    {
     "name": "stderr",
     "output_type": "stream",
     "text": [
      "C:\\Users\\June\\AppData\\Local\\Temp\\ipykernel_14744\\2112170718.py:14: FutureWarning: The frame.append method is deprecated and will be removed from pandas in a future version. Use pandas.concat instead.\n",
      "  df = df.append(row_dict, ignore_index=True)\n"
     ]
    }
   ],
   "source": [
    "totalLen = len(video_ids)\n",
    "cur = 0\n",
    "\n",
    "for video in video_ids:\n",
    "    cur = cur +1\n",
    "    print(f'{cur} / {totalLen}')\n",
    "    try:\n",
    "        row_dict = {}\n",
    "        row_dict[\"id\"] = video[\"id\"][\"videoId\"]\n",
    "        row_dict[\"title\"] = video[\"snippet\"][\"title\"]\n",
    "        row_dict[\"publishTime\"] = video[\"snippet\"][\"publishTime\"]\n",
    "        row_dict[\"description\"] = video[\"snippet\"][\"description\"]\n",
    "        row_dict[\"transcript\"] = get_transcript(video[\"id\"][\"videoId\"])\n",
    "        df = df.append(row_dict, ignore_index=True)\n",
    "    except:\n",
    "        continue ## no transcription"
   ]
  },
  {
   "cell_type": "code",
   "execution_count": 55,
   "id": "66be8bfd",
   "metadata": {},
   "outputs": [
    {
     "data": {
      "text/html": [
       "<div>\n",
       "<style scoped>\n",
       "    .dataframe tbody tr th:only-of-type {\n",
       "        vertical-align: middle;\n",
       "    }\n",
       "\n",
       "    .dataframe tbody tr th {\n",
       "        vertical-align: top;\n",
       "    }\n",
       "\n",
       "    .dataframe thead th {\n",
       "        text-align: right;\n",
       "    }\n",
       "</style>\n",
       "<table border=\"1\" class=\"dataframe\">\n",
       "  <thead>\n",
       "    <tr style=\"text-align: right;\">\n",
       "      <th></th>\n",
       "      <th>id</th>\n",
       "      <th>title</th>\n",
       "      <th>publishTime</th>\n",
       "      <th>description</th>\n",
       "      <th>transcript</th>\n",
       "    </tr>\n",
       "  </thead>\n",
       "  <tbody>\n",
       "    <tr>\n",
       "      <th>495</th>\n",
       "      <td>oLUvUyeqRSU</td>\n",
       "      <td>옵션, 시간 가치의 무서움. 다시보는 11.11옵션 쇼크 사태</td>\n",
       "      <td>2020-12-26T08:52:50Z</td>\n",
       "      <td>어렵고 딱딱한 경제,시사,금융 이야기를 쉽고 유쾌하게 풀어내는 경제/시사/이슈/잡썰...</td>\n",
       "      <td>으 out 으 약간 공부를 해야 될 내용이 있어서 그걸 약간 소개 드리면 은 얼마 ...</td>\n",
       "    </tr>\n",
       "    <tr>\n",
       "      <th>496</th>\n",
       "      <td>tsXrlox4hNU</td>\n",
       "      <td>(쿠키) 크리스마스에 와인 한잔 하는 횡설수설(feat. 중국ㆍ호주 갈등)</td>\n",
       "      <td>2020-12-25T12:41:22Z</td>\n",
       "      <td>어렵고 딱딱한 경제,시사,금융 이야기를 쉽고 유쾌하게 풀어내는 경제/시사/이슈/잡썰...</td>\n",
       "      <td>으 out 중국 가구주가 무역 전쟁을 하는데 원자재는 중국의 안 건드렸는데 요즘에는...</td>\n",
       "    </tr>\n",
       "    <tr>\n",
       "      <th>497</th>\n",
       "      <td>7qobglil1sU</td>\n",
       "      <td>이탈리아의 부패 추방 운동과 정당들의 좌충우돌 (feat. 마피아)</td>\n",
       "      <td>2020-12-19T09:50:44Z</td>\n",
       "      <td>어렵고 딱딱한 경제,시사,금융 이야기를 쉽고 유쾌하게 풀어내는 경제/시사/이슈/잡썰...</td>\n",
       "      <td>으 out 아마 다음번 용도의 주제가 될 것 같은데 요즘에 유럽은 영국이 블랙 시트...</td>\n",
       "    </tr>\n",
       "    <tr>\n",
       "      <th>498</th>\n",
       "      <td>rKqlP-FvEas</td>\n",
       "      <td>집값을 20배 올려주는 마법의 낙서</td>\n",
       "      <td>2020-12-18T12:52:22Z</td>\n",
       "      <td>어렵고 딱딱한 경제,시사,금융 이야기를 쉽고 유쾌하게 풀어내는 경제/시사/이슈/잡썰...</td>\n",
       "      <td>으 out 집값을 올리는 놀라운 방법을 제가 보여드리도록 하겠습니다 정말 놀라운 방...</td>\n",
       "    </tr>\n",
       "    <tr>\n",
       "      <th>499</th>\n",
       "      <td>EaLJnmdR5aI</td>\n",
       "      <td>커피 얻어마실 때 있어 보이는 방법 (feat. 커피의 역사)</td>\n",
       "      <td>2020-12-16T10:31:57Z</td>\n",
       "      <td>0:00 ~ 10:02 지나온 20년과 새로운 20년 10:02 ~ 25:23 커피...</td>\n",
       "      <td>으 out 수능이 끝났잖아 요 등이 끝났지만 이제 놀아 볼 순 없죠 지금 코르다 때...</td>\n",
       "    </tr>\n",
       "  </tbody>\n",
       "</table>\n",
       "</div>"
      ],
      "text/plain": [
       "              id                                      title  \\\n",
       "495  oLUvUyeqRSU         옵션, 시간 가치의 무서움. 다시보는 11.11옵션 쇼크 사태   \n",
       "496  tsXrlox4hNU  (쿠키) 크리스마스에 와인 한잔 하는 횡설수설(feat. 중국ㆍ호주 갈등)   \n",
       "497  7qobglil1sU      이탈리아의 부패 추방 운동과 정당들의 좌충우돌 (feat. 마피아)   \n",
       "498  rKqlP-FvEas                        집값을 20배 올려주는 마법의 낙서   \n",
       "499  EaLJnmdR5aI         커피 얻어마실 때 있어 보이는 방법 (feat. 커피의 역사)   \n",
       "\n",
       "              publishTime                                        description  \\\n",
       "495  2020-12-26T08:52:50Z  어렵고 딱딱한 경제,시사,금융 이야기를 쉽고 유쾌하게 풀어내는 경제/시사/이슈/잡썰...   \n",
       "496  2020-12-25T12:41:22Z  어렵고 딱딱한 경제,시사,금융 이야기를 쉽고 유쾌하게 풀어내는 경제/시사/이슈/잡썰...   \n",
       "497  2020-12-19T09:50:44Z  어렵고 딱딱한 경제,시사,금융 이야기를 쉽고 유쾌하게 풀어내는 경제/시사/이슈/잡썰...   \n",
       "498  2020-12-18T12:52:22Z  어렵고 딱딱한 경제,시사,금융 이야기를 쉽고 유쾌하게 풀어내는 경제/시사/이슈/잡썰...   \n",
       "499  2020-12-16T10:31:57Z  0:00 ~ 10:02 지나온 20년과 새로운 20년 10:02 ~ 25:23 커피...   \n",
       "\n",
       "                                            transcript  \n",
       "495  으 out 으 약간 공부를 해야 될 내용이 있어서 그걸 약간 소개 드리면 은 얼마 ...  \n",
       "496  으 out 중국 가구주가 무역 전쟁을 하는데 원자재는 중국의 안 건드렸는데 요즘에는...  \n",
       "497  으 out 아마 다음번 용도의 주제가 될 것 같은데 요즘에 유럽은 영국이 블랙 시트...  \n",
       "498  으 out 집값을 올리는 놀라운 방법을 제가 보여드리도록 하겠습니다 정말 놀라운 방...  \n",
       "499  으 out 수능이 끝났잖아 요 등이 끝났지만 이제 놀아 볼 순 없죠 지금 코르다 때...  "
      ]
     },
     "execution_count": 55,
     "metadata": {},
     "output_type": "execute_result"
    }
   ],
   "source": [
    "df.tail()"
   ]
  },
  {
   "cell_type": "code",
   "execution_count": 56,
   "id": "58b2cc2a",
   "metadata": {},
   "outputs": [],
   "source": [
    "df.to_csv(\"shuka_trans.csv\", encoding=\"utf-8\")"
   ]
  },
  {
   "cell_type": "code",
   "execution_count": 27,
   "id": "43a44d56",
   "metadata": {
    "scrolled": false
   },
   "outputs": [
    {
     "data": {
      "text/html": [
       "<div>\n",
       "<style scoped>\n",
       "    .dataframe tbody tr th:only-of-type {\n",
       "        vertical-align: middle;\n",
       "    }\n",
       "\n",
       "    .dataframe tbody tr th {\n",
       "        vertical-align: top;\n",
       "    }\n",
       "\n",
       "    .dataframe thead th {\n",
       "        text-align: right;\n",
       "    }\n",
       "</style>\n",
       "<table border=\"1\" class=\"dataframe\">\n",
       "  <thead>\n",
       "    <tr style=\"text-align: right;\">\n",
       "      <th></th>\n",
       "      <th>id</th>\n",
       "      <th>title</th>\n",
       "      <th>transcript</th>\n",
       "      <th>combined</th>\n",
       "    </tr>\n",
       "  </thead>\n",
       "  <tbody>\n",
       "    <tr>\n",
       "      <th>330</th>\n",
       "      <td>azMqDSw00i8</td>\n",
       "      <td>증시를 강타한 메타 쇼크, FANG 의 재편?</td>\n",
       "      <td>메타, 구 페이스북이  하루 만에 시가총액이  300조가 날아갔습니다 일명 메타쇼크...</td>\n",
       "      <td>Title: 증시를 강타한 메타 쇼크, FANG 의 재편?; Content: 메타,...</td>\n",
       "    </tr>\n",
       "    <tr>\n",
       "      <th>331</th>\n",
       "      <td>Gj3oo-hZTk8</td>\n",
       "      <td>너무 힘쎈 이웃 러시아, 쪼개질 위험에 처한 눈물의 우크라이나</td>\n",
       "      <td>여러분들이 흔히 잘생긴 미남, 미녀들의 나라라고 생각하는 곳이 우크라이나입니다 여기...</td>\n",
       "      <td>Title: 너무 힘쎈 이웃 러시아, 쪼개질 위험에 처한 눈물의 우크라이나; Con...</td>\n",
       "    </tr>\n",
       "    <tr>\n",
       "      <th>332</th>\n",
       "      <td>Gpe_A4N6ZKI</td>\n",
       "      <td>베트남! 한국의 폭발적인 관심을 받는 '빛'트남의 어제와 오늘</td>\n",
       "      <td>으 르 3 오늘의 주제는 제가 투자하는 분들 몇분 만나 봤거든요 그거 않은 채널 시...</td>\n",
       "      <td>Title: 베트남! 한국의 폭발적인 관심을 받는 '빛'트남의 어제와 오늘; Con...</td>\n",
       "    </tr>\n",
       "    <tr>\n",
       "      <th>333</th>\n",
       "      <td>SWzyztkoagc</td>\n",
       "      <td>세계 최대급 파산 '리만 브라더스 사태' 쉽게 이해하기</td>\n",
       "      <td>오늘의 메인 얘기는 여러분과 나와의 경제적인 얘기를 할 때 역사가 똑같이 맞아야 시...</td>\n",
       "      <td>Title: 세계 최대급 파산 '리만 브라더스 사태' 쉽게 이해하기; Content...</td>\n",
       "    </tr>\n",
       "    <tr>\n",
       "      <th>334</th>\n",
       "      <td>yOnVKcj5VJE</td>\n",
       "      <td>징기스칸과 지옥에서 온 군대, 학살을 시작하다</td>\n",
       "      <td>오늘 얘기할 거는 징기스칸 형의 얘기인데 몽골 얘기입니다 여러분 몽골 형의 별명이 ...</td>\n",
       "      <td>Title: 징기스칸과 지옥에서 온 군대, 학살을 시작하다; Content: 오늘 ...</td>\n",
       "    </tr>\n",
       "  </tbody>\n",
       "</table>\n",
       "</div>"
      ],
      "text/plain": [
       "              id                               title  \\\n",
       "330  azMqDSw00i8           증시를 강타한 메타 쇼크, FANG 의 재편?   \n",
       "331  Gj3oo-hZTk8  너무 힘쎈 이웃 러시아, 쪼개질 위험에 처한 눈물의 우크라이나   \n",
       "332  Gpe_A4N6ZKI  베트남! 한국의 폭발적인 관심을 받는 '빛'트남의 어제와 오늘   \n",
       "333  SWzyztkoagc      세계 최대급 파산 '리만 브라더스 사태' 쉽게 이해하기   \n",
       "334  yOnVKcj5VJE           징기스칸과 지옥에서 온 군대, 학살을 시작하다   \n",
       "\n",
       "                                            transcript  \\\n",
       "330  메타, 구 페이스북이  하루 만에 시가총액이  300조가 날아갔습니다 일명 메타쇼크...   \n",
       "331  여러분들이 흔히 잘생긴 미남, 미녀들의 나라라고 생각하는 곳이 우크라이나입니다 여기...   \n",
       "332  으 르 3 오늘의 주제는 제가 투자하는 분들 몇분 만나 봤거든요 그거 않은 채널 시...   \n",
       "333  오늘의 메인 얘기는 여러분과 나와의 경제적인 얘기를 할 때 역사가 똑같이 맞아야 시...   \n",
       "334  오늘 얘기할 거는 징기스칸 형의 얘기인데 몽골 얘기입니다 여러분 몽골 형의 별명이 ...   \n",
       "\n",
       "                                              combined  \n",
       "330  Title: 증시를 강타한 메타 쇼크, FANG 의 재편?; Content: 메타,...  \n",
       "331  Title: 너무 힘쎈 이웃 러시아, 쪼개질 위험에 처한 눈물의 우크라이나; Con...  \n",
       "332  Title: 베트남! 한국의 폭발적인 관심을 받는 '빛'트남의 어제와 오늘; Con...  \n",
       "333  Title: 세계 최대급 파산 '리만 브라더스 사태' 쉽게 이해하기; Content...  \n",
       "334  Title: 징기스칸과 지옥에서 온 군대, 학살을 시작하다; Content: 오늘 ...  "
      ]
     },
     "execution_count": 27,
     "metadata": {},
     "output_type": "execute_result"
    }
   ],
   "source": [
    "df.tail()"
   ]
  },
  {
   "cell_type": "markdown",
   "id": "30f0faaf",
   "metadata": {},
   "source": [
    "# embeddings\n",
    "  - https://github.com/openai/openai-cookbook/blob/main/examples/Obtain_dataset.ipynb\n",
    "  - https://github.com/openai/openai-cookbook/blob/main/examples/Embedding_long_inputs.ipynb"
   ]
  },
  {
   "cell_type": "code",
   "execution_count": null,
   "id": "bec53f37",
   "metadata": {
    "scrolled": true
   },
   "outputs": [],
   "source": [
    "!pip install tiktoken openai"
   ]
  },
  {
   "cell_type": "code",
   "execution_count": 12,
   "id": "d97f1c16",
   "metadata": {},
   "outputs": [],
   "source": [
    "import tiktoken\n",
    "\n",
    "import openai\n",
    "\n",
    "from openai.embeddings_utils import get_embedding"
   ]
  },
  {
   "cell_type": "code",
   "execution_count": 19,
   "id": "ee53008e",
   "metadata": {},
   "outputs": [],
   "source": [
    "\n",
    "\n",
    "openai.api_key = OPENAI_API_KEY"
   ]
  },
  {
   "cell_type": "code",
   "execution_count": 26,
   "id": "5b164ea2",
   "metadata": {},
   "outputs": [],
   "source": [
    "embedding_model = \"text-embedding-ada-002\"\n",
    "embedding_encoding = \"cl100k_base\"  # this the encoding for text-embedding-ada-002\n",
    "max_tokens = 8000\n",
    "GPT_MODEL = \"gpt-3.5-turbo\""
   ]
  },
  {
   "cell_type": "code",
   "execution_count": 61,
   "id": "a9212967",
   "metadata": {},
   "outputs": [],
   "source": [
    "# let's make sure to not retry on an invalid request, because that is what we want to demonstrate\n",
    "#@retry(wait=wait_random_exponential(min=1, max=20), stop=stop_after_attempt(6), retry=retry_if_not_exception_type(openai.InvalidRequestError))\n",
    "def get_embedding(text_or_tokens, model=embedding_model):\n",
    "    return openai.Embedding.create(input=text_or_tokens, model=model)[\"data\"][0][\"embedding\"]"
   ]
  },
  {
   "cell_type": "code",
   "execution_count": 62,
   "id": "a3a42086",
   "metadata": {},
   "outputs": [],
   "source": [
    "from itertools import islice\n",
    "\n",
    "def batched(iterable, n):\n",
    "    \"\"\"Batch data into tuples of length n. The last batch may be shorter.\"\"\"\n",
    "    # batched('ABCDEFG', 3) --> ABC DEF G\n",
    "    if n < 1:\n",
    "        raise ValueError('n must be at least one')\n",
    "    it = iter(iterable)\n",
    "    while (batch := tuple(islice(it, n))):\n",
    "        yield batch"
   ]
  },
  {
   "cell_type": "code",
   "execution_count": 63,
   "id": "fdffd575",
   "metadata": {},
   "outputs": [],
   "source": [
    "def chunked_tokens(text, encoding_name, chunk_length):\n",
    "    encoding = tiktoken.get_encoding(encoding_name)\n",
    "    tokens = encoding.encode(text)\n",
    "    chunks_iterator = batched(tokens, chunk_length)\n",
    "    yield from chunks_iterator"
   ]
  },
  {
   "cell_type": "code",
   "execution_count": 64,
   "id": "3a379acb",
   "metadata": {},
   "outputs": [],
   "source": [
    "import numpy as np\n",
    "\n",
    "\n",
    "def len_safe_get_embedding(text, model=embedding_model, max_tokens=max_tokens, encoding_name=embedding_encoding, average=True):\n",
    "    chunk_embeddings = []\n",
    "    chunk_lens = []\n",
    "    for chunk in chunked_tokens(text, encoding_name=encoding_name, chunk_length=max_tokens):\n",
    "        chunk_embeddings.append(get_embedding(chunk, model=model))\n",
    "        chunk_lens.append(len(chunk))\n",
    "\n",
    "    if average:\n",
    "        chunk_embeddings = np.average(chunk_embeddings, axis=0, weights=chunk_lens)\n",
    "        chunk_embeddings = chunk_embeddings / np.linalg.norm(chunk_embeddings)  # normalizes length to 1\n",
    "        chunk_embeddings = chunk_embeddings.tolist()\n",
    "    return chunk_embeddings"
   ]
  },
  {
   "cell_type": "code",
   "execution_count": 65,
   "id": "b9ba7f07",
   "metadata": {},
   "outputs": [],
   "source": [
    "df[\"combined\"] = (\n",
    "    \"Title: \" + df.title + \"; Description: \" + df.description + \"; Content: \" + df.transcript\n",
    ")"
   ]
  },
  {
   "cell_type": "code",
   "execution_count": 66,
   "id": "22431a1f",
   "metadata": {},
   "outputs": [
    {
     "data": {
      "text/plain": [
       "0      Title: 처절한 수단 내전과 작전명 프라미스; Description: 어렵고 딱...\n",
       "1      Title: 아이디어로 성공한 고향사랑 기부제도; Description: 0:00 ...\n",
       "2      Title: 2023 워싱턴 선언, 무엇이 달라졌나; Description: 0:0...\n",
       "3      Title: 사기인가 조작인가, 초유의 주식 하한가 사태; Description: ...\n",
       "4      Title: 5월 1일 근로자의 날, 쉬나요?; Description: 0:00 ~...\n",
       "                             ...                        \n",
       "495    Title: 옵션, 시간 가치의 무서움. 다시보는 11.11옵션 쇼크 사태; Des...\n",
       "496    Title: (쿠키) 크리스마스에 와인 한잔 하는 횡설수설(feat. 중국ㆍ호주 갈...\n",
       "497    Title: 이탈리아의 부패 추방 운동과 정당들의 좌충우돌 (feat. 마피아); ...\n",
       "498    Title: 집값을 20배 올려주는 마법의 낙서; Description: 어렵고 딱...\n",
       "499    Title: 커피 얻어마실 때 있어 보이는 방법 (feat. 커피의 역사); Des...\n",
       "Name: combined, Length: 500, dtype: object"
      ]
     },
     "execution_count": 66,
     "metadata": {},
     "output_type": "execute_result"
    }
   ],
   "source": [
    "df[\"combined\"]"
   ]
  },
  {
   "cell_type": "code",
   "execution_count": 67,
   "id": "07c8e61e",
   "metadata": {
    "scrolled": false
   },
   "outputs": [],
   "source": [
    "df[\"embedding\"] = df.combined.apply(lambda x: len_safe_get_embedding(x, average=True))\n",
    "df.to_csv(\"shuka_embeddings.csv\")"
   ]
  },
  {
   "cell_type": "code",
   "execution_count": 68,
   "id": "d03bea7a",
   "metadata": {},
   "outputs": [
    {
     "data": {
      "text/html": [
       "<div>\n",
       "<style scoped>\n",
       "    .dataframe tbody tr th:only-of-type {\n",
       "        vertical-align: middle;\n",
       "    }\n",
       "\n",
       "    .dataframe tbody tr th {\n",
       "        vertical-align: top;\n",
       "    }\n",
       "\n",
       "    .dataframe thead th {\n",
       "        text-align: right;\n",
       "    }\n",
       "</style>\n",
       "<table border=\"1\" class=\"dataframe\">\n",
       "  <thead>\n",
       "    <tr style=\"text-align: right;\">\n",
       "      <th></th>\n",
       "      <th>id</th>\n",
       "      <th>title</th>\n",
       "      <th>publishTime</th>\n",
       "      <th>description</th>\n",
       "      <th>transcript</th>\n",
       "      <th>combined</th>\n",
       "      <th>embedding</th>\n",
       "    </tr>\n",
       "  </thead>\n",
       "  <tbody>\n",
       "    <tr>\n",
       "      <th>0</th>\n",
       "      <td>SZD5DbHo2Gk</td>\n",
       "      <td>처절한 수단 내전과 작전명 프라미스</td>\n",
       "      <td>2023-05-05T10:33:07Z</td>\n",
       "      <td>어렵고 딱딱한 경제,시사,금융 이야기를 쉽고 유쾌하게 풀어내는 경제/시사/이슈/잡썰...</td>\n",
       "      <td>[음악] 자 봅시다 그 다음에 있는 내용은 여러분들 잘 모르실 수도 있는데 사실 얼...</td>\n",
       "      <td>Title: 처절한 수단 내전과 작전명 프라미스; Description: 어렵고 딱...</td>\n",
       "      <td>[0.001481351293595305, -0.01969585315448469, 0...</td>\n",
       "    </tr>\n",
       "    <tr>\n",
       "      <th>1</th>\n",
       "      <td>MoKfteyJtCk</td>\n",
       "      <td>아이디어로 성공한 고향사랑 기부제도</td>\n",
       "      <td>2023-05-04T12:31:27Z</td>\n",
       "      <td>0:00 ~ 9:20 아이디어로 대박난 일본의 고향납세제도 9:20 ~ 29:46 ...</td>\n",
       "      <td>[음악] 오늘 사실 제가 예전에 어디 갔지 여기 있나 서울시에서 그 유튜브 홍보대사...</td>\n",
       "      <td>Title: 아이디어로 성공한 고향사랑 기부제도; Description: 0:00 ...</td>\n",
       "      <td>[-0.008709389814073508, -0.012285520118893627,...</td>\n",
       "    </tr>\n",
       "    <tr>\n",
       "      <th>2</th>\n",
       "      <td>gumUNuNOkbA</td>\n",
       "      <td>2023 워싱턴 선언, 무엇이 달라졌나</td>\n",
       "      <td>2023-05-03T10:02:00Z</td>\n",
       "      <td>0:00 ~ 3:49 워싱턴 선언 주요 내용 3:49 ~ 9:29 한미 정상회담 성...</td>\n",
       "      <td>이번 주제는 잠깐 대한민국 대통령이  미국 국빈 방문한 내용을 얘기할 텐데 이걸 준...</td>\n",
       "      <td>Title: 2023 워싱턴 선언, 무엇이 달라졌나; Description: 0:0...</td>\n",
       "      <td>[-0.008433194698273676, -0.027572830671646443,...</td>\n",
       "    </tr>\n",
       "    <tr>\n",
       "      <th>3</th>\n",
       "      <td>1R-n4wfPt8w</td>\n",
       "      <td>사기인가 조작인가, 초유의 주식 하한가 사태</td>\n",
       "      <td>2023-05-02T11:27:22Z</td>\n",
       "      <td>0:00 ~ 7:56 사상 최초 8개 종목 동시 연쇄 하한가 사태 7:56 ~ 14...</td>\n",
       "      <td>자 오늘의 메인 얘기 중에 하나는 여러분도 다 아시는 8개 종목 동시 연쇄 하한가 ...</td>\n",
       "      <td>Title: 사기인가 조작인가, 초유의 주식 하한가 사태; Description: ...</td>\n",
       "      <td>[-0.012262389497926341, -0.027765685441931857,...</td>\n",
       "    </tr>\n",
       "    <tr>\n",
       "      <th>4</th>\n",
       "      <td>jT6fHmDvpRk</td>\n",
       "      <td>5월 1일 근로자의 날, 쉬나요?</td>\n",
       "      <td>2023-05-01T02:43:55Z</td>\n",
       "      <td>0:00 ~ 7:57 우리도 근로자의 날에 쉬나요? 7:57 ~ 16:56 근로자의...</td>\n",
       "      <td>자 그 다음 주제는 이겁니다 근로자의 날 쉬나요? 내일이죠? 내일이죠ㅎㅎ 근로자의 ...</td>\n",
       "      <td>Title: 5월 1일 근로자의 날, 쉬나요?; Description: 0:00 ~...</td>\n",
       "      <td>[-0.023028596149998335, -0.027745630641153953,...</td>\n",
       "    </tr>\n",
       "  </tbody>\n",
       "</table>\n",
       "</div>"
      ],
      "text/plain": [
       "            id                     title           publishTime  \\\n",
       "0  SZD5DbHo2Gk       처절한 수단 내전과 작전명 프라미스  2023-05-05T10:33:07Z   \n",
       "1  MoKfteyJtCk       아이디어로 성공한 고향사랑 기부제도  2023-05-04T12:31:27Z   \n",
       "2  gumUNuNOkbA     2023 워싱턴 선언, 무엇이 달라졌나  2023-05-03T10:02:00Z   \n",
       "3  1R-n4wfPt8w  사기인가 조작인가, 초유의 주식 하한가 사태  2023-05-02T11:27:22Z   \n",
       "4  jT6fHmDvpRk        5월 1일 근로자의 날, 쉬나요?  2023-05-01T02:43:55Z   \n",
       "\n",
       "                                         description  \\\n",
       "0  어렵고 딱딱한 경제,시사,금융 이야기를 쉽고 유쾌하게 풀어내는 경제/시사/이슈/잡썰...   \n",
       "1  0:00 ~ 9:20 아이디어로 대박난 일본의 고향납세제도 9:20 ~ 29:46 ...   \n",
       "2  0:00 ~ 3:49 워싱턴 선언 주요 내용 3:49 ~ 9:29 한미 정상회담 성...   \n",
       "3  0:00 ~ 7:56 사상 최초 8개 종목 동시 연쇄 하한가 사태 7:56 ~ 14...   \n",
       "4  0:00 ~ 7:57 우리도 근로자의 날에 쉬나요? 7:57 ~ 16:56 근로자의...   \n",
       "\n",
       "                                          transcript  \\\n",
       "0  [음악] 자 봅시다 그 다음에 있는 내용은 여러분들 잘 모르실 수도 있는데 사실 얼...   \n",
       "1  [음악] 오늘 사실 제가 예전에 어디 갔지 여기 있나 서울시에서 그 유튜브 홍보대사...   \n",
       "2  이번 주제는 잠깐 대한민국 대통령이  미국 국빈 방문한 내용을 얘기할 텐데 이걸 준...   \n",
       "3  자 오늘의 메인 얘기 중에 하나는 여러분도 다 아시는 8개 종목 동시 연쇄 하한가 ...   \n",
       "4  자 그 다음 주제는 이겁니다 근로자의 날 쉬나요? 내일이죠? 내일이죠ㅎㅎ 근로자의 ...   \n",
       "\n",
       "                                            combined  \\\n",
       "0  Title: 처절한 수단 내전과 작전명 프라미스; Description: 어렵고 딱...   \n",
       "1  Title: 아이디어로 성공한 고향사랑 기부제도; Description: 0:00 ...   \n",
       "2  Title: 2023 워싱턴 선언, 무엇이 달라졌나; Description: 0:0...   \n",
       "3  Title: 사기인가 조작인가, 초유의 주식 하한가 사태; Description: ...   \n",
       "4  Title: 5월 1일 근로자의 날, 쉬나요?; Description: 0:00 ~...   \n",
       "\n",
       "                                           embedding  \n",
       "0  [0.001481351293595305, -0.01969585315448469, 0...  \n",
       "1  [-0.008709389814073508, -0.012285520118893627,...  \n",
       "2  [-0.008433194698273676, -0.027572830671646443,...  \n",
       "3  [-0.012262389497926341, -0.027765685441931857,...  \n",
       "4  [-0.023028596149998335, -0.027745630641153953,...  "
      ]
     },
     "execution_count": 68,
     "metadata": {},
     "output_type": "execute_result"
    }
   ],
   "source": [
    "df.head()"
   ]
  },
  {
   "cell_type": "markdown",
   "id": "f6af1d4b",
   "metadata": {},
   "source": [
    "## Semantic Searching\n",
    "  - https://github.com/openai/openai-cookbook/blob/main/examples/Semantic_text_search_using_embeddings.ipynb"
   ]
  },
  {
   "cell_type": "code",
   "execution_count": 10,
   "id": "8ff2282f",
   "metadata": {},
   "outputs": [],
   "source": [
    "import numpy as np\n",
    "import pandas as pd\n",
    "import openai"
   ]
  },
  {
   "cell_type": "code",
   "execution_count": 5,
   "id": "c859dc58",
   "metadata": {},
   "outputs": [],
   "source": [
    "datafile_path = \"shuka_embeddings.csv\"\n",
    "\n",
    "df2 = pd.read_csv(datafile_path)\n",
    "df2[\"embedding\"] = df2.embedding.apply(eval).apply(np.array)"
   ]
  },
  {
   "cell_type": "code",
   "execution_count": 6,
   "id": "2f583ccb",
   "metadata": {},
   "outputs": [],
   "source": [
    "from openai.embeddings_utils import get_embedding, cosine_similarity\n",
    "\n",
    "# search through the reviews for a specific product\n",
    "def search_reviews(df, product_description, n=3, pprint=True):\n",
    "    product_embedding = get_embedding(\n",
    "        product_description,\n",
    "        engine=\"text-embedding-ada-002\"\n",
    "    )\n",
    "    df[\"similarity\"] = df.embedding.apply(lambda x: cosine_similarity(x, product_embedding))\n",
    "\n",
    "    results = (\n",
    "        df.sort_values(\"similarity\", ascending=False)\n",
    "        .head(n)\n",
    "    )\n",
    "\n",
    "    return results"
   ]
  },
  {
   "cell_type": "code",
   "execution_count": 73,
   "id": "93c08725",
   "metadata": {},
   "outputs": [
    {
     "data": {
      "text/html": [
       "<div>\n",
       "<style scoped>\n",
       "    .dataframe tbody tr th:only-of-type {\n",
       "        vertical-align: middle;\n",
       "    }\n",
       "\n",
       "    .dataframe tbody tr th {\n",
       "        vertical-align: top;\n",
       "    }\n",
       "\n",
       "    .dataframe thead th {\n",
       "        text-align: right;\n",
       "    }\n",
       "</style>\n",
       "<table border=\"1\" class=\"dataframe\">\n",
       "  <thead>\n",
       "    <tr style=\"text-align: right;\">\n",
       "      <th></th>\n",
       "      <th>Unnamed: 0</th>\n",
       "      <th>id</th>\n",
       "      <th>title</th>\n",
       "      <th>publishTime</th>\n",
       "      <th>description</th>\n",
       "      <th>transcript</th>\n",
       "      <th>combined</th>\n",
       "      <th>embedding</th>\n",
       "      <th>similarity</th>\n",
       "    </tr>\n",
       "  </thead>\n",
       "  <tbody>\n",
       "    <tr>\n",
       "      <th>296</th>\n",
       "      <td>296</td>\n",
       "      <td>YSRXKVYgJ0E</td>\n",
       "      <td>마기꾼 전용 소개팅 TIP</td>\n",
       "      <td>2022-04-09T10:08:17Z</td>\n",
       "      <td>어렵고 딱딱한 경제,시사,금융 이야기를 쉽고 유쾌하게 풀어내는 경제/시사/이슈/잡썰...</td>\n",
       "      <td>자 마기꾼 이라는 게 있습니다 요즘에 많이 커뮤니티 돌아다니면 나와요 마기꾼이 뭐냐...</td>\n",
       "      <td>Title: 마기꾼 전용 소개팅 TIP; Description: 어렵고 딱딱한 경제...</td>\n",
       "      <td>[-0.023242386686647323, -0.0038125292772381524...</td>\n",
       "      <td>0.860072</td>\n",
       "    </tr>\n",
       "    <tr>\n",
       "      <th>209</th>\n",
       "      <td>209</td>\n",
       "      <td>lQmrZKCYsME</td>\n",
       "      <td>아버지는 말하셨지 인생을 즐겨라</td>\n",
       "      <td>2022-08-03T10:30:48Z</td>\n",
       "      <td>0:00 ~ 9:57 머스크와 구글 창업자의 흔들린 우정 9:57 ~ 16:21 알...</td>\n",
       "      <td>사실은 이런 얘기는 좀 하기가 싫었어요 너무 황색언론 같은 타블로이드판에 나올 것 ...</td>\n",
       "      <td>Title: 아버지는 말하셨지 인생을 즐겨라; Description: 0:00 ~ ...</td>\n",
       "      <td>[-0.012196691512207676, -0.02251949576151415, ...</td>\n",
       "      <td>0.854101</td>\n",
       "    </tr>\n",
       "    <tr>\n",
       "      <th>118</th>\n",
       "      <td>118</td>\n",
       "      <td>NCG_IlTskAA</td>\n",
       "      <td>머스크, 애플 전쟁 선포</td>\n",
       "      <td>2022-12-05T11:32:18Z</td>\n",
       "      <td>0:00 ~ 10:53 머스크, 애플에게 전쟁을 선포하다 10:53 ~ 12:55 ...</td>\n",
       "      <td>자 첫 번째 얘기는 머스크와 애플 전쟁 머스크가 또 애플과 싸우고 있다 저는 개인적...</td>\n",
       "      <td>Title: 머스크, 애플 전쟁 선포; Description: 0:00 ~ 10:5...</td>\n",
       "      <td>[-0.017669208155033964, -0.022163712182965985,...</td>\n",
       "      <td>0.850976</td>\n",
       "    </tr>\n",
       "    <tr>\n",
       "      <th>181</th>\n",
       "      <td>181</td>\n",
       "      <td>kHKlY7dfgkc</td>\n",
       "      <td>(추석연휴특집영상) X는 Y인가? + 머스크형 씨리즈</td>\n",
       "      <td>2022-09-09T06:08:18Z</td>\n",
       "      <td>어렵고 딱딱한 경제,시사,금융 이야기를 쉽고 유쾌하게 풀어내는 경제/시사/이슈/잡썰...</td>\n",
       "      <td>아 으 르 out 요즘 컴퓨팅이 검 아니더라 되더라구요 골뱅이 너 직 한국과의 번만...</td>\n",
       "      <td>Title: (추석연휴특집영상) X는 Y인가? + 머스크형 씨리즈; Descript...</td>\n",
       "      <td>[-0.004603480340198232, -0.0095446811709531, 0...</td>\n",
       "      <td>0.847830</td>\n",
       "    </tr>\n",
       "    <tr>\n",
       "      <th>78</th>\n",
       "      <td>78</td>\n",
       "      <td>5IWvoKOLX4Y</td>\n",
       "      <td>[연휴특집] 슈카월드 글로벌 이야기 모음</td>\n",
       "      <td>2023-01-24T03:28:30Z</td>\n",
       "      <td>명절 운전 특집 슈카월드 정주행 영상입니다. 새해 복 많이 받으세요!</td>\n",
       "      <td>[음악] 결국에는 말도 많고 탈도 많았지만 제위기가 무려 70년에 엘리자베스 2세 ...</td>\n",
       "      <td>Title: [연휴특집] 슈카월드 글로벌 이야기 모음; Description: 명절...</td>\n",
       "      <td>[-0.0037989039649154563, -0.019242210186671937...</td>\n",
       "      <td>0.844989</td>\n",
       "    </tr>\n",
       "  </tbody>\n",
       "</table>\n",
       "</div>"
      ],
      "text/plain": [
       "     Unnamed: 0           id                          title  \\\n",
       "296         296  YSRXKVYgJ0E                 마기꾼 전용 소개팅 TIP   \n",
       "209         209  lQmrZKCYsME              아버지는 말하셨지 인생을 즐겨라   \n",
       "118         118  NCG_IlTskAA                  머스크, 애플 전쟁 선포   \n",
       "181         181  kHKlY7dfgkc  (추석연휴특집영상) X는 Y인가? + 머스크형 씨리즈   \n",
       "78           78  5IWvoKOLX4Y         [연휴특집] 슈카월드 글로벌 이야기 모음   \n",
       "\n",
       "              publishTime                                        description  \\\n",
       "296  2022-04-09T10:08:17Z  어렵고 딱딱한 경제,시사,금융 이야기를 쉽고 유쾌하게 풀어내는 경제/시사/이슈/잡썰...   \n",
       "209  2022-08-03T10:30:48Z  0:00 ~ 9:57 머스크와 구글 창업자의 흔들린 우정 9:57 ~ 16:21 알...   \n",
       "118  2022-12-05T11:32:18Z  0:00 ~ 10:53 머스크, 애플에게 전쟁을 선포하다 10:53 ~ 12:55 ...   \n",
       "181  2022-09-09T06:08:18Z  어렵고 딱딱한 경제,시사,금융 이야기를 쉽고 유쾌하게 풀어내는 경제/시사/이슈/잡썰...   \n",
       "78   2023-01-24T03:28:30Z             명절 운전 특집 슈카월드 정주행 영상입니다. 새해 복 많이 받으세요!   \n",
       "\n",
       "                                            transcript  \\\n",
       "296  자 마기꾼 이라는 게 있습니다 요즘에 많이 커뮤니티 돌아다니면 나와요 마기꾼이 뭐냐...   \n",
       "209  사실은 이런 얘기는 좀 하기가 싫었어요 너무 황색언론 같은 타블로이드판에 나올 것 ...   \n",
       "118  자 첫 번째 얘기는 머스크와 애플 전쟁 머스크가 또 애플과 싸우고 있다 저는 개인적...   \n",
       "181  아 으 르 out 요즘 컴퓨팅이 검 아니더라 되더라구요 골뱅이 너 직 한국과의 번만...   \n",
       "78   [음악] 결국에는 말도 많고 탈도 많았지만 제위기가 무려 70년에 엘리자베스 2세 ...   \n",
       "\n",
       "                                              combined  \\\n",
       "296  Title: 마기꾼 전용 소개팅 TIP; Description: 어렵고 딱딱한 경제...   \n",
       "209  Title: 아버지는 말하셨지 인생을 즐겨라; Description: 0:00 ~ ...   \n",
       "118  Title: 머스크, 애플 전쟁 선포; Description: 0:00 ~ 10:5...   \n",
       "181  Title: (추석연휴특집영상) X는 Y인가? + 머스크형 씨리즈; Descript...   \n",
       "78   Title: [연휴특집] 슈카월드 글로벌 이야기 모음; Description: 명절...   \n",
       "\n",
       "                                             embedding  similarity  \n",
       "296  [-0.023242386686647323, -0.0038125292772381524...    0.860072  \n",
       "209  [-0.012196691512207676, -0.02251949576151415, ...    0.854101  \n",
       "118  [-0.017669208155033964, -0.022163712182965985,...    0.850976  \n",
       "181  [-0.004603480340198232, -0.0095446811709531, 0...    0.847830  \n",
       "78   [-0.0037989039649154563, -0.019242210186671937...    0.844989  "
      ]
     },
     "execution_count": 73,
     "metadata": {},
     "output_type": "execute_result"
    }
   ],
   "source": [
    "results = search_reviews(df2, \"\", n=5)\n",
    "\n",
    "results"
   ]
  },
  {
   "cell_type": "code",
   "execution_count": null,
   "id": "c3b6366d",
   "metadata": {},
   "outputs": [],
   "source": []
  },
  {
   "cell_type": "markdown",
   "id": "19425c36",
   "metadata": {},
   "source": [
    "## Search & ask\n",
    "  - https://github.com/openai/openai-cookbook/blob/main/examples/Question_answering_using_embeddings.ipynb"
   ]
  },
  {
   "cell_type": "code",
   "execution_count": 23,
   "id": "ad389867",
   "metadata": {},
   "outputs": [],
   "source": [
    "from scipy import spatial\n",
    "\n",
    "# search function\n",
    "def strings_ranked_by_relatedness(\n",
    "    query: str,\n",
    "    df: pd.DataFrame,\n",
    "    relatedness_fn=lambda x, y: 1 - spatial.distance.cosine(x, y),\n",
    "    top_n: int = 100\n",
    ") -> tuple[list[str], list[float]]:\n",
    "    \"\"\"Returns a list of strings and relatednesses, sorted from most related to least.\"\"\"\n",
    "    query_embedding_response = openai.Embedding.create(\n",
    "        model=embedding_model,\n",
    "        input=query,\n",
    "    )\n",
    "    query_embedding = query_embedding_response[\"data\"][0][\"embedding\"]\n",
    "    strings_and_relatednesses = [\n",
    "        (row[\"combined\"], relatedness_fn(query_embedding, row[\"embedding\"]))\n",
    "        for i, row in df.iterrows()\n",
    "    ]\n",
    "    strings_and_relatednesses.sort(key=lambda x: x[1], reverse=True)\n",
    "    strings, relatednesses = zip(*strings_and_relatednesses)\n",
    "    return strings[:top_n], relatednesses[:top_n]"
   ]
  },
  {
   "cell_type": "code",
   "execution_count": 35,
   "id": "ff760f88",
   "metadata": {},
   "outputs": [
    {
     "name": "stdout",
     "output_type": "stream",
     "text": [
      "relatedness=0.850\n"
     ]
    },
    {
     "data": {
      "text/plain": [
       "'Title: 마기꾼 전용 소개팅 TIP; Description: 어렵고 딱딱한 경제,시사,금융 이야기를 쉽고 유쾌하게 풀어내는 경제/시사/이슈/잡썰 토크방송입니다. #마기꾼 #셀기꾼.; Content: 자 마기꾼 이라는 게 있습니다 요즘에 많이 커뮤니티 돌아다니면 나와요 마기꾼이 뭐냐 뭔지 모르는 분들 위해서 제가 소품을 준비해왔습니다 제가 얼굴이 조금 뭐 한 인물하지만 더 잘 생겨지기 위해선 아하~ 좋아요 야~ 갑자기 이 외모의 비주얼이 올라가지 않습니까 아~좋습니다x2 점점x2 비주얼이 더 올라가려면 어떻게 하냐 하면은 더 올리면 돼요 이게 높이가 올라갈수록 비주얼이 점점 좋아지는 기적적인 현상이 나타납니다 이렇게 하면 더 좋아지고 이렇게 하면ㅎㅎ 야 거의 원빈이지 뭐~ 원빈 이정도면 구별이 안 돼 원빈하고 그렇죠 자 이게 이제 마기꾼 현상입니다 야 뭐 원빈하고 구별이 안 되지 이렇게 하면 되겠어 그게 구별이 안 돼 구별이ㅎㅎㅎ 구별이 안 돼x2 그쵸 원빈도 가면 쓰면 똑같은 겁니다 자 이게 마기꾼 현상인데 근데 말하면서 좀 이상하긴 해요 니 얼굴 가리는 게 낫다라는 거잖아요 최대한 가리면 가릴수록 얼굴이 호감이 간다 뭐 좀 그렇긴 한데 과학적으로 증명이 된 현상이라는 거를 말씀드리는 시간입니다 심지어 커뮤니티에 어떤 뉴스라고 퍼와서 이런 모습도 있어요 야후 재팬에 이런 게 떴다며 마스크 벗은 모습에 놀라서 이혼했다 야하ㅎㅎㅎㅎ 야 이거는 진짜 거짓말 안하고 일본에 DC같은 데서 누가 쓴 글일 거야 DC를 비하하는 게 아니라 아니면 제가 많이 가는 유머사이트 일본에 유머사이트에 쓴 글이지ㅎㅎㅎ 마ㅎ스ㅎ크 벗은 모습에 놀라 이혼하면 어떻게 해요! 마스크 벗기도 전에 결혼하나 살짝x2 벗었는데 확 벗으니까 깜짝 놀랐다는 거죠 에이 이거는 진짜 자유게시판 뭐 그런 거지 이건 말이 안 되는 하여튼 그런데 한번 봅시다 여러분도 그렇게 생각합니까 마스크를 쓰면 더 매력적으로 보이는가 잘 모르시겠다고요 마스크를 쓰면 더 매력적으로 보이는가 어...아야 매력이 넘쳐요 야 이정도면 거의 뭐 남캠 아닌가?ㅎㅎㅎ 가리면 가릴수록 남캠으로 올라가죠 더 매력적으로 보이는가 자 그래서 마기꾼을 보여주기 위해서 이번 프로에서는 마스크를 쓰고 진행하도록 하겠습니다 자 봅시다 이런 얘기가 왜 나오냐 많은 사람들이 느끼는 것도 있지만 신문기사로도 많이 나왔어요 실제로 1월달에 영국 가디언지에서 기사를 하나 냈어요 이게 세계적으로 널리 퍼졌는데 검색을 해보니까 온갖 나라에서 다 퍼갔어ㅎㅎ 훌륭한 기사라고 할 수 있죠 아주 훌륭한 기사에요 세계 온갖 나라에서 다 퍼갔기 때문에 마스크가 사람을 더 매력적으로 보이게 만든다 라는 연구 결과가 나왔다 more attractive하다라는 결과가 나왔다는데 아휴 더워 마스크 쓰고 하니까 덥네 자 무슨 연구 결과가 나왔냐 남녀 모두 얼굴을 반쯤 가린 얼굴이 사람들한테 조사를 해보니까 더 매력적으로 보였다 더 look이 better했다 너가 더 나아보였다 여성구독자를 노렸냐고요 현명합니다 야야야ㅎㅎㅎ그치 여성 구독자를 늘리려고 마스크를 쓰고 하도록 하겠습니다 더 괜찮아 보였다는 얘기라고 하는데 뭐 지금 보고계시죠 실시간으로 이거 스샷으로도 갖고 왔습니다 이렇게 아~~~이 스으읍 이야아~~~ 한 인물 하네? 가리니까 낫네 좋아x2 훌륭하죠 more attractive한 모습을 보여주고 있는데 이 연구 결과가 이래요 좀 더 들어가 보면 수술용 마스크처럼 얼굴을 덮으면 페이스커버들을 더 크게 하면 더 매력적으로 보였다 이거는 ㅎㅎ야 이게 더 매력적으로 보인다 그거잖아;; 야 그러면은 그게 매력인가 솔직히 야 이게 말이 되나 그게 그게 매력적으로 보면 그게 난가 야 그게 난가 싶긴 한데 진짜 이렇게 써 있어요 수술용 마스크 뭐 이런 거잖아요 얼굴을 완전히 덮는 거 거의 위에도 거의 이런 걸로 덮고 눈만 나오는 이걸 끼면 가장 잘 생겨보인다 야 ECㅎㅎㅎ 아까도 얘기했지만 니 얼굴가리면 낫다라는 건데 여러분도 그렇게 느끼나 한번 가져와 봤습니다 스으으으읍 잘생겼나ㅎㅎㅎ 모르겠다x2 하여튼 그렇다고 합니다 하여튼 그렇다고 하고요 이걸 하다 보니까 아무래도 이 연구가 이거 혹시 택도 없는 곳에서 연구한게 아닌가 해서 제가 누군지 뒷조사도 해봤습니다 어.... 교수님이네? ㅎㅎㅎㅎ 영국 카디프 대학교에 닥터 마이클 루이스 교수님 아...아! 맞다 준비해 온 거 안했다 이거x2 마기꾼 때문에 여러분들이 머리카락이 자꾸 이렇게 뜨는 게 불편하다는 의견이 많았대요 그래서 우리 이걸 옷을 준비하는 친구가 머리카락 뜨는 것은 모자로 막으면 된다 모자를 준비해줬어요 그런데 모자 준비해 준 건 좋은데 솔직히 이걸 써야 되나 하는 약간 자괴감이 드는데 이..모자를 이런거 갖고 왔어ㅎㅎㅎㅎ 솔직히 야 이거 써야되냐 걔가 꼭 쓰라 그랬거든 꼭 절대 무조건 써야 된다 그랬는데 이거 써야 되나 오늘 하루종일 이거 쓰고 방송을 찍으라고 하는데 아이 아무리 스트리머라도 야이 잠깐만x2 (귀여움 장착중) 야 이게 점점 가리라고? 돌아가냐(팽그르르) 아이 야 돌아간다x3 심각한 경제 얘기하면서 저거 돌리고 있으면은 방송의 품격이 떨어지지 않을까 ㅎㅎㅎ 조금 신뢰성에 문제가 갈 것 같긴 한데 뭐 하여튼 뭐 준비했으니까 뭐 그러는 게 뭐 유튜버고 그러는 게 뭐 스트리머 아니겠습니까 하여튼 우리 카디프 대학교에 닥터 마이클 루이스 교수님이 이걸 연구했다 교수님한테 왜 이걸 연구했냐고 물어봤더니 이런 말씀을 교수님은 진짜 연구 목적이었어요 목적이 이래 코로나 이전에는 마스크는 질병에 대한 연상 때문에 매력을 감소시켰다 옛날에는 마스크를 쓰면 지금처럼 매력이 있다고 느끼지 못했다는 거죠 과거의 연구에는 왜냐, 마스크를 쓰면 환자라고 생각했어요 아픈 사람, 병자 그러니까 가까이 못 가겠는거죠 콜록x4 하고 있으면 가까이가.. 뭘 도라에몽이야ㅎㅎ 도라에몽은ㅎㅎ 도라에몽은 아닙니다 자 도라에몽은 아니고요(진구였습니다 짜잔~) 옛날에는 콜록콜록 하거나 마스크를 쓰면 병에 걸릴까봐 매력이 떨어졌는데 이제는 정말 지금도 그러느냐 라는 게 궁금해서 마스크가 보편화됐으니까 우리 사고에 어떤 영향을 미쳤는지 연구하고 싶어했단 말씀인데 어우 숨이 안 쉬어진다 이거 자 숨이 안 쉬어지니까 내리고 하겠습니다 내리고 말하면서 답답하네 자 그래서 연구 결과를 보면 2021년 2월에 연구를 하십니다 근데 몇 명 안 돼요 43명의 여성 분에게 각종 마스크 또는 마스크가 없는 이미지를 보여주면서 매력점수를 매기게 했습니다 실제로 10개 넘는 이미지를 보여줬다고 하는데 예를 들면 이런 식으로 마스크 말고 딴 걸로도 가려 봤대요 예를 들면은 노트북으로 가리고 스마트폰으로 가리고 뭐 이런 걸로도 가리고 여러가지로 가린 것과 마스크로 가린 거를 비교해서 너가 가장 매력적으로 느끼는 점수를 매겨라 예를 들면 역시 10점 아우 가리면 안돼 뭐 6점 요게 좀 낫네 7점 이런 식으로 점수를 매기게 했다는 거죠 그랬을 때 가장 크게 매력도가 오른 상황이 천 마스크를 가렸을 때 대단히 큰 매력의 상승을 가져왔다 저 사진 누구냐고요 아 이거ㅎㅎㅎ 누구긴x2ㅎㅎㅎ 아이 야 똑같네x2 야 똑같아 어쩜 이렇게 사진 같니 사진이니까 사진 같지 어쩜 이렇게 한 치 틀린 게 없이 저런 멋진 모습을 하고 있다 이거 돌리고 있으려니까 좀 자괴감이 들긴 하네ㅋㅋ 뭐 하여튼 근데 그 중에서도 특히 수술용 1회용 마스크 얼굴을 많이 덮는 거는 효과가 더 컸다 정말 여성분들이 매력적으로 느꼈다 그래서 이 교수님의 결론은 그겁니다 마기꾼 이라는 결론이 아니라 길게 썼는데 과거에는 마스크를 쓴 이미지가 질병 등으로 피해야 될 사람이었다면 순식간에 현재의 마스크 쓴 이미지는 건강한 사람 오히려 질병을 잘 회피하고 있는 사람 의료용 마스크를 쓴 사람은 의사 같은 그런 느낌을 주면서 나를 도와줄 수 있는 내가 의지할 수 있는 사람으로 인식이 바뀌었다는 거죠 음 과거의 마스크 쓰면 환자인데 요즘 마스크를 안 쓰면 좀 뭐라고 그래 문란한 놈이라 그래야 되나 법질서를 잘 안 지키는 그런 난봉꾼 처럼 보이고 오히려 쓰고 있어야 더 건강하고 어떻게 보면 healthy한 더 어떤 법정신이 투철한 나를 도와줄 수 있는 그런 사람들로 보인다는 건데 그래서 이거를 심리학적으로 심리학 교수님이니까 대유행이 우리의 심리를 변화시킨 대표적인 예이다 진화심리학 아유 어렵다 진화심리학적으로 우리는 파트너를 구할 때 남자가 여자를 보거나 여자가 남자를 볼 때 병이 없거나 병의 흔적이 없는 파트너를 선호하는 경향이 있는데 마스크는 대표적인 병을 나타내는 심볼에서 빠져나왔다 라는 게 연구의 결과입니다 이런 좋은 연구의 결과를 앞에 두고 우리는 뭐 그런 것보다 마기꾼이라던지 뭐 이런 거에 관심을 조금 가지면서 전 세계로 퍼져 나간 그런 연구가 됐는데 추가적으로 물어도 봤어요 그런거 말고 그런 뭐 진화심리학 이런거 말고 더 잘 생겨보이는 효과가 없냐 근데 교수님이 이런 말씀하셨습니다 사람들이 마스크를 쓰면 눈에 집중하게 만들어서 더 사람들을 매력적으로 보이게 하는 효과가 있다 eyes에 (대충 꽃이 휘날리는 느낌) 아이 야야; 스읍...별로 안 매력적인데 ㅎㅎㅎ하여튼 이렇게 보면 눈에 이렇게 집중하게 만든다고 합니다 자 만든다고 하고요 그리고 또 연구 결과에 따르면 얼굴을 세로로 가려도 매력적으로 느낀다 세로로 이렇게 해도 어 허허ㅎㅎㅎ그래? 하여튼 가리면 된다는 거죠 니 얼굴 뭐가 됐던 가리면 된다는 건데 왜 그러냐 여러분 다 아시겠지만 우리 다 그렇게 생각하죠 안 보이는 부분을 뇌가 자기 멋대로 자기가 생각하기에 가장 이상적인 모습으로 대신 그려서 이렇게 보인다 이렇게 가리면 가릴수록 안 보이는 부분을 마치 원빈이나 장동건처럼ㅎㅎㅎ 그려준다는 거죠 뇌가 훌륭하고만 역시 뇌야 훌륭하게 그려줘서 현실보다 더 아름답게 그려주는 경향이 있다 그러니까 여기를 반쪽을 원빈을 넣는다는 건데 하여튼 그래서 제가 해봤습니다 실제로 뇌가 그렇게 그리냐 이렇게 야 발퀄하니까 안 되겠다 발퀄하니까 아이 발퀄이라서 안 되는데 자 제가 이쯤에서 굉장히 놀라운 걸 하나 여러분들 많이 보셨을 거예요 이게 유명한 겁니다 이게 뭐냐면 에드워드 아델슨의 체커 그림자 착시 이거 많이 보셨죠 A와 B가 색깔이 같다 많이 보셨잖아요 정말 중학교 고등학교 때부터 근데 아무리 봐도 이게 말이 안 되거든? 이게 색깔이 어떻게 같아 라는 생각을 여러분들이 많이 하시죠 실시간 실험을 갖고 왔습니다 아이 실험이에요 실험 자 A와 B입니다 색깔이 분명히 다르죠 오...야 같아졌어x2 야ㅎㅎ하ㅎㅎ이거 저 이거 하면서도 신기한데 요기 가까이 가면 더 같아요 멀리 가면 달라집니다 다르다고요? 다시 한번 천천히 어ㅎㅎ후야ㅎㅎㅎ색깔이 같아져ㅎㅎㅎ 보면서도 믿기지 않네 이게 만약 못느끼겠다 그러면 하나 더 넣으면 돼요 이거를 바닥에 붙여놓고 자 이제 다시 들어갑니다 오호호 야 비슷해졌어 어떻게 이러지 뒤로 가면 분명히 다른데 아~야 볼수록 신기해요 제가 이걸 하면서도x2 신기해 이렇게 하면 같잖아요 안같아요? 이렇게 하면 다르고 아 하여튼 그렇습니다 야 자 이게 가장 유명한 뇌의 보정 효과죠 이거 동영상으로도 있는데 동영상으로 굳이 볼 필요 있을까 볼까요 그래도 옮깁니다 판을 하여튼 그렇다 그럽니다 다시 봐도 이상하긴 한데 뭐... 하면 되니까 자 보셨죠 아까 전에 제가 한 거랑 사실 비슷하죠 하여튼 이게 가장 유명한 체커 그림자 착시라고 하는데 이 분야에서 여러분 아시는 분은 아시겠지만 시상도 합니다 매년 Goty가 아닌 게임 오브 더 이어가 아닌 Belty 제가 아무거나 지은 거예요 Best illusion of the year contest 세상에 이런 게 있냐 이런 게 있습니다 이거 상금도 있어요 1등하면 한 3,000불 줄 걸 300만원? ㅎㅎ3,000불인가 고티가 아닌 벨티가 있습니다 벨티 벨튀말고 벨티 Best illusion of the year 이게 한 거의 10년 됐는데 매년 뽑아요 1등 2등 3등 그걸 다 보여주려면 시간이 너무 오래 걸리니까 몇 개만 보여드리겠습니다 2021년 올해의 우승작부터 보겠습니다 뭐가 잘못됐는지 잽싸게 보셔야 돼요 일단 보면 이 거울이에요 퀸이죠 퀸 흰 퀸인데 이쪽엔 흰 퀸이 없어요 거울입니다 왜 그럴까 약간 속임수에 가까운데 야야ㅎㅎㅎㅎ 야 이거는ㅎㅎㅎ 그렇다고 합니다 저게 1등이예요x2 야 이거는 밑장 빼는 거하고 비슷한데 밑장 빼는 거 사기 칠 때 카드 사기 칠 때 하는 거하고 비슷하게 이렇게x2 하면 저게 1등이고요 별거 아니라고 생각하지만 1등입니다 저거했으면 여러분들 3,000불 2등이 전 2등이 더 신기한데 2등 아직도 이상해 아직도 나를 못 믿겠는데 2등 한번 보실께요 2등 한 30초 됩니다 30초 보세요 눈 똑바로 뜨고 보시면 됩니다 뭐가 달라졌는지 똑바로 뜨고 30초입니다 소리도 없어요 뭔가 달라져요 뭔가 달라져요 달라졌습니다 달라졌어요 이미 달라졌어요 멈췄어요 제가 달라졌어요가 아니라 완전히 다른 사진이에요 2개가 모르시겠어요? 예를 들면 아까 처음에 보셨던 건 이거고 지금 여러분들이 멈춘 건 이거에요 사진이 중간에 완전히 달라졌습니다 쿠션이 아니라 다 달라졌다니까 다 이렇게 바뀌었어요 사진이 서서히 바뀌었는데 여러분들이 모르는 거예요 왜냐 이런 거에 눈이 가있는 거야 그래서 뒤가 다 바뀌었는데 모르는 겁니다 다시 가볼까요 뒤로? 점프해서 처음에 봤던 거 완전히 바뀌었잖아요 다 바뀌었어x2 뒤로 가면 그 15초 동안 한번 더 해보라고? 한 번 더 해보라고 알겠습니다 한번 더 야 이런 걸로 시간 때워도 되나 한번 더 해볼게요 한번 15초 정도 되네요 잘보세요 잘 보여요?x2 보이죠 바뀌었어요 안 바뀌다니 바뀌었잖아ㅎㅎㅎ 완전히 바뀌었잖아요 다시 뒤로 가볼까 이거하고 이거 완전히 다르잖아요 완전히 비슷한 것도 없어요 이거하고 이거 다시 보면 아니 뭐x3 다 바뀌잖아요 다 다 바뀌었기 때문에 자 하여튼 이게 서서히 바뀌어 서서히 바뀌는데 여러분들이 잘 알기 힘들다가 이게 2등이었어요 2등 저도 여러 번 봤습니다 여러번 뭐야 이게 장난하나 하고 여러번 봤는데 실제로 저렇게 바뀌는데 왜냐 뇌가 여러분들이 생각하듯이 우리가 생각하듯이 모든 걸 마치 컴퓨터처럼 아는 게 아니라 집중하고 있으면 거기만 본다는 거죠 그 주변은 대충 인식하는 거예요 마치 게임의 배경화면처럼 배경화면이 서서히 바뀌어도 우리가 인식하지 못한다 이런 건데 그 메타버스를 만드는 사람들도 아마 그렇게 만들 거예요 주변을 우리가 다 만들어 놓진 않잖아 게임 안에 있는 것도 배경 같은 경우에는 웬만큼 바뀌어도 모른다는 거죠 심지어 완전히 바뀌었는데 모른다는 거예요 보고 있는 거에만 집중을 한다 이게 요게 그 내용이 되겠고 아 왜이렇게 많이 준비해왔어 하나 더 있네ㅎㅎㅎ잠깐만 이건 빨리 넘어가야 합니다 이거는 그냥 간단하게 진짜 2초만 봐도 알 수 있는 저저 가운데 있는 네모가 가운데 있는 네모가 있고 까만색이 있잖아요 이 까만색을 색깔을 바꿨다 까만색 됐다x2 할거에요 뭐 하얀색처럼 갔다가 까만색처럼 하양 까망x2 할텐데 가운데있는 네모가 움직입니다 여러분이 뇌를 잘 쓰시면 저 네모가 안 움직일 수도 있어요 자 잘 보세요 메모가 움직입니까 저 네모는 움직이는 게 아니라 까만색이 하얀색 되는 겁니다 아이고 다시 까만색이 하얀색 되는 거예요 그냥 바탕화면이 근데 네모가 움직여요 네모가 움직이면 여러분들 뇌가 지금 잘못된 생각을 하고 있는거ㅎㅎㅎ 네모가 움직였습니까 움찔움찔하죠 다시 보여드리진 않을게요 저게 일종의 착시x2 뇌가 이렇게ㅎㅎ 네모가 움직이죠 자 이게 3등 여기까지 하고 동영상은 더 많은데 수십 개가 있는데 다 보여드릴 수 없으니까 그 중에서 제가 오늘 마스크 주제니까 Mask of Love라고 입상된 것도 있어요 이거는 뭐냐 많죠 이런 거는 요 가운데 있는 게 사람 얼굴처럼 보이죠 한 사람 잘 보면 키스하는 남녀의 모습이죠 한번 일로 가면 영원히 이쪽으로 가기 힘든ㅎㅎㅎ 힘들지는 않은데 하여튼 한번 위로 한번 보면 아래로 가기 좀 쉽지 않은데 키스하는 남녀의 모습이기도 합니다 이거 유명한 거예요 나름 보여요? 키스하는 남녀의 모습? 안 보입니까 날개 돌리라고x2 어...혹시 안 보이시는 분들위해 잠깐 표시 요기를 해드리면 남자 얼굴이 이렇게 되어있죠 여자 얼굴이 이렇게 되어 있는 거예요 요게 이제 키스하는 남녀의 얼굴이 다시 보십시오 이렇게 약간 이렇게 숙여서 이렇게 아 보이죠x2 자 됐습니다ㅎㅎ 이런 걸로 하면 상을 받을 수 있어요 자 그래서 뇌의 착시 효과를 이용한 게 이제 마기꾼이다 왜냐하면 뇌가 가리면 가릴 수록 아까 전에 여러분들이 집중해서 보는데 이렇게 하면 얼굴 전체를 집중해 보지만 이렇게 하면 여러분들이 보는 데는 여기만 보는 거죠 나머지는 여러분들의 뇌에 있는 데서 알아서 원빈으로 만들어 주기 때문에 여기가 원빈처럼 되면은 나도 원빈이 될 수 있다라는 게 그래서 점점 더 잘 생겨보이려면 점점 올리면 된다ㅎㅎㅎ 얼굴을 다 가리면 여러분이 원빈하고 다를 게 전혀 없는 거죠 좋습니다 그래서 이거를 일본에서는 뭐 마스크 매직이다 이렇게 얘기한다는데 보니까 팁이 이런 게 있더라고요 소개팅 나갔을 때 팁입니다 이렇게 하면 됩니다 첫째, 초면이라면 마스크를 벗지 마라 장난해? ㅎㅎ야ㅎㅎ 장난해ㅎㅎ잘생겨 보이고 싶으면 벗지마라는 거죠 끝까지 벗지 말고 그쵸 밥 먹을 때 이렇게 돌려서 먹고 요렇게 하면은 잘생겨보일 수 있다 이걸 팁이라고 쓴 저도 참 부끄럽긴 한데요 근데 대신에 한계는 있습니다 한계가 뭐냐 2번은 안 속는다ㅎㅎㅎ 그러니까 한번 보여준 상대한테는 효과가 없습니다 한번 보이기 전에까지만 써먹는 거예요 한번 보면 누가 속겠어 저 놈이 원빈이 아닐 걸 확실하기 때문에 그 다음에 또 하나 팁이 있다면 어떻게 해야되냐 가리면 사람들이 여러분들 뭘로 평가해요 여기는 원빈이야 여기는 대신에 위는 나니까 어떻게 해야 됩니까 당연히 위에 신경을 써야죠 이렇게 눈으로 웃으면 어...인상이 좋아지는거죠 입으로는 욕을 하고 있어도 눈으로 웃으면 아래도 웃는 것처럼 우리 뇌가 아까 전에 배경하면 지나가는 거봤죠 그렇게 판단을 해주기 때문에 눈으로 웃으면 갑자기 여러분들의 인상이 팍팍 좋아질 수 있다니까 마스크를 벗지 말고 눈으로 웃은 상태에서 소개팅과 미팅을 하면 밥 먹을 때도 돌리고서 먹고 그 다음에 2번 만나면 안 됩니다 벗으면 안 되기 때문에 결혼할 때까지 벗지 말고 하면 아까 전에 일본 커플처럼 결혼하고 난 다음에 문제가 생길 수도 있지만 고게 팁이라고 할 수 있고요 결론적으로 우리 교수님이 연구한 거 연구로 돌아가면 과거 마스크는 질병이었는데 현재 마스크는 건강과 도움으로 사회의 인식이 변하면서 거기서 착시도 더해지면서 매력도가 증가하는 마기꾼 효과가 있었다는 건데 자 그러면 인식만 바뀌면 새로운 패션아이템이 되는 거잖아요 인식만 바뀌면 이 질병에서 건강, 도움으로 가는 순간에 패션 아이템이 됐으니까 그러면 인식만 바뀌면 확실한 패션 아이템을 제가 보여드리겠습니다 이거 여러분 지난번에 나왔어요 슈카월드가 미래를 앞서가는 방송이야 옛날에 다 했어요 뭐겠습니까 그쵸! 발라클라바 인식만 바뀌면 됩니다 강도라던지 테러 이쪽에 있는 인식이 어떤 사건으로 인식만 바뀌면 돼요 하여튼 건강, 헬스, 헬스할 때 이런거 끼고 한다던지 뭐 이런 식으로 인식만 바뀌면 야 이거 완전히 레오나르도 디카프리오지 이거 쓰면 뭐가 다르겠어 뭐가 완전히ㅎㅎ 똑같기 때문에 이 정도면 뭐 거의 그쵸 될 수 있습니다 곧 미래의x2 패션 인식이 좀 바뀌어야 되는데 아직 안 바뀌었습니다 또 다른 병이 와서 그 병 때는 마스크가 아니라 이런 발라클라바를 쓰고 다녀야 될 정도로 피부에 닿으면 안 된다 많은 사람들이 전세계 50억 인구가 이런걸 쓰고 다니면 인식이 바뀌면서 새로운 패션이 될 수 있겠죠 비슷한 것 상품이 좀 멋진 게 있나 살펴봤는데ㅎㅎㅎ 볼수록 웃기네 이거 쓰고 소개팅할...미래는 그럴 수 있죠 누가 마스크 쓰고 소개팅할지 누가 알았어요 환자가 쓰는 건데 옛날에 폐렴 환자 뭐 감기 환자, 독감 환자나 쓰고 있는 마스크 쓰고 요즘에 우리가 소개팅하고 미팅할 줄 알았나 어떤 병이 돌면 우리 저런 걸 쓰고 소개팅 미팅할 수도 있어요 그때가 되면 사회의 인식이 변하면서 착시 효과를 활용한 여러분들의 美가 바뀔 수 있다 more attractive할 수 있다는 거죠 아~좋습니다 팁까지 드렸어요 제가 여러분 진짜 애 셋 못 낳을까봐 이 소개팅 미팅의 팁까지 드리는 겁니다 팁까지 어떻게 하면 잘 생겨볼 수 있나 아이 뭐 팁까지 다 드렸으니까 이걸 바탕으로 날씨 좋아졌죠 날씨가 좋아졌으니까 저런 좋은x2 곳에서 소개팅 미팅을 하면서 마스크 절대 벗지 말고 어? 오빠는 왜 마스크 안 벗어 그러면 하~너를 위해서 안벗는 거야 눈으로 웃으면서x2 다음에 벗을게 뭐 이런 식으로 얘기하면서 끝까지 벗지 않으면 애프터가 있습니다 여성분들도 마찬가지고요 ㅎㅎ오빠x2 어우 내가 코로나무서워서 못 벗겠어 이러면 애프터가 있는 거예요 거기서 그래? 하고 방심해서 벗는 순간에 환상이 깨지면서 다시는 건널 수 없는 콰이강의 다리를 걷는 거니까 팁은 여기까지입니다 여러분들이 이제 알아서 하시면 돼요 아 됐습니다x2 여러분들이 혹시라도 결혼못해서 애 셋 못 낳을까봐 제가 걱정이 돼서 이런 것도 준비했잖아요 아이 슈카월드를 보면은 결혼도 할 수 있다 애인도 생기는 방송!'"
      ]
     },
     "metadata": {},
     "output_type": "display_data"
    },
    {
     "name": "stdout",
     "output_type": "stream",
     "text": [
      "relatedness=0.845\n"
     ]
    },
    {
     "data": {
      "text/plain": [
       "'Title: 다시 마스크를 쓰는 미국, 다시 마스크를 벗는 영국; Description: 어렵고 딱딱한 경제,시사,금융 이야기를 쉽고 유쾌하게 풀어내는 경제/시사/이슈/잡썰 토크방송입니다. #마스크On/Off #영혼의베팅.; Content: 아 wr 일본이 지금 올림픽을 하찮은 뉴스에 많이 나오죠 코로나 긴급 사태 를 선포했다 지금 30일입니다 물론 이게 코리아 엄청나게 확인했다는 것 일본 정부는 이게 올림픽 때문이냐 올림픽 때문 아니다 왜 올림픽은 무 간증 경기고 직접 가진 않잖아 비데 매너를 보기 때문에 설마 t 위해서다 에서 튀어나와서 여러 내게 오는 것 아닙니까 올림픽홀 합사는 스토리즈 연관성이 없다 라고 길어져 뭐 맞는 얘기인 것 같기도 하구요 그런데 어찌 됐건 일본은 코로나가 이렇게 쓰 폭발적 확산 이르렀는데 만명 넘었어요 지금 때인데 그 가는거 같아요 지금 분위기가 이렇게 출발 했거든요 일본의 1차 백신접종 율은 거의 40% 육박 겠읍니다 우리도 많이 올랐죠 우리도 많이 올라서 비슷해 지고 있는데 다 싶으세요 파 켄지 에서 저렇게 오르고 있고 물론 0 나라가 불탄다 고 그 좋아 하시면 되요 우리나라도 아 안되는데 1500명이 넘었어요 그 예전의 2차 3차 때가 천명 이었는데 우리집도 조금 기업의 우리두 조금 입에서 톤을 39명 그래도 만 명이 훨씬 적으니까 아직은 대처를 좀 잘하고 있다 싶은데 그런 대한민국의 문제 뿐만 아니라 미국은 또 12만 을 넣었습니다 한창때 20만 30만 갔던게 12만 을 넘어서 2 4 5 출발 할지 말지 하고 있는데 현재 세계의 일일 최다 확진 국가가 다시 미국이 됐어요 타이틀 획득하셨습니다 다시 금메달을 따고 제 터 올라가기 않기를 지금 간 절이기 원하고 있는데 문제는 그게 mbc 뉴스 있는 거 좀 갖고 했는데 요즘 미국에서 확진 된 사 랑 네 명 중 세 명이 백신을 맞은 사람이다 한 마디로 델타 변이 에서는 지금 될 탑에 니라 그러니까 백신을 접종 하더라도 걸리더라 74% 가 백신 접종을 마친 사람들이었다 다만 중증 질환으로 가진 안테나 전 8일 워낙 강하니까 감기처럼 걸리긴 걸리는 도 껌처럼 2 중증 질환 위험 은 좀 낮출 수 있다 사망 위험이 지금까지는 10분의 1이다 옛날에 비해서 이런 얘기를 하고 있고 이거 실제로 이게 어디서 나온 내용 있냐면 mbc 뉴스가 발표했지만 실제로는 미국 질병통제예방센터 보고 3 난거 코로나 델타 변이 전염성은 수두 바이러스 정도로 강하다 한명이 평민 여 들에서 어명이 취 한 번 말해도 집에 달라는데 오리지날 에서는 두 세명 이었는데 지금 몇 시입니까 3 4배를 띵 거죠 뛰었기 때문에 백신을 맞더라도 돌파하며 많이 되긴 하는데 대신에 사망 위험이 10분에 로 감소한다 이런 보고서를 냈는데 g 오 그렇구나 델타 변이 뭐 많이 걸리는거 나라 끝나고 안되고 이 보고서의 결론이 뭐냐면 그래서 얼라 문의 뭐가 필요하다 마스크 채경이 필요할 해 이렇게 미국 질병통제예방센터 보고서 없거든요 적 한 마 디 에어 미국이 지금 약간 그 정줄 놓고 있습니다 왜냐 미국은 얼마전에 2달전에 마스크 프리 를 외쳤어요 돌아갔다 이제 마스크 필요하고 바이든 대통령이 마스크를 벗는 장면을 당당하게 티비에서 보여주면서 전국민이 마스크 동시에 벗었는데 자기 내실이 지뢰가 올리는 질병통제예방센터 보고서가 안된다는 거죠 백신으로 는 걸리니까 화학적으로 안되고 물리적으로 막아야 된다 다음 불리죠 물리가 필요하다는 거죠 물리가 필요는 보고서를 내니까 야다 아 전체가 지금 혼돈에 빠져 씁니다 왜냐 근데 있지만 미국이 마스크를 벗은 지부가 투다리 두달이 있는데 이제 다시 마스크 쓴 사례로 그 들어가는가 실제로 미국 질병 통제 예방 센터 는 크론 알고 백신 접종을 마친 사람은 신뢰를 방문하고 마스크를 아 책을 좋다는게 5월 13일 이었는데 그러다 두 달만에 입장이 밖에서 입장문을 새로운 했습니다 미국 실내에 마스크 착용을 권고한다 코랄 그 확산 지역에서는 실내에서 마스크를 착용 1 코랄 그 확산 지역이 어디냐며 는 그 벌스 줘 있습니다 화성이나 달해 가지 않는 한 그 착용하는 겁니다 시작했을 때 씨가 올 수사가 앙 울님들 어딨어 전세계에서 지금까지 확진 내가 용인되는 노스 코리아 밝은 없죠 우리 형제 로스쿨의 말곤 없는데 발전 실외에서는 이제 백신접종 여부와 상관없이 접종을 하더라도 마스크를 착용한 아크 래서 결국에 두달만에 백악관에서 사진을 냈는데 이렇게 하고 파일은 대통령이 더 섰던 마스크를 두달만에 다시 착용한 모습을 공식적으로 보여주면서 미국은 다시 마스크의 세계로 빠져 들었습니다 근데 문제는 뒤 좋겠어요 미국 국민들 입장에서 벗으라 그래서 벗어 좋다고 있는데 다시 쓰라 그러니까 그래서 함부로 벗기면 안 돼 처음부터 쓰고 있어요 그러면 불만이 없을 수 있는데 한 놈 벗었다가 이걸 다시 쓰라 그러니까 싫은 거죠 이 장난이라고 처음부터 퍼트 발라 그런지 헤럴드 개 얻기가 아니에요 애들한테 마스크를 써야 되냐 안 쓰든 얘가 지금 미국에서 설왕설래 예 학생들한테 쉬워야 되니 아셔야 되냐 그 산하 당연히 우리나라 같으면 일단 개 아도 우리나라는 이걸 싸우는게 아니라 우리나라의 계약을 할지 말지를 싸우죠 제가 그 베리 신규 학계 분 해야되냐 말해요 썽 익고 래 한데 전화 라는 그게 아니라 본연 다음에 마스크를 쓴 야신 애를 써온 놀라운 나라인데 결국에는 학생들이 침이 2세미만 이어도 마스크를 써라 라고 일하고 있는데 되게 강력한 반말에 나오고 있다고 합니다 마스크 제책 용하다 그러니까 특히 공화당 중심의 정치인들이 그래서 정치인들 말하는 건 요걸로 들어있는 필요가 있는가 대비 국에 딱 봐도 라고 저는 생각하지 않습니다 무슨 소리 하는 거야 자막 보세요 정치인들 훌륭한 시죠 문수리 하는거 어머어머 세상이 하이틴 잘 해주나 주지사가 마스크 착용은 학부모들이 스스로 결정해야 된다 왜냐 강제 착용은 자유를 제한하는 거다 그 학부모들도 숨을 쉬기 힘들다 마스크 쓰고 있으면 트라우마 가실 수 있으니까 자유를 침해하는 거다 예를 들면 은 일부 공화당 정치인들이 미국 미국 우리나라 아닙니다 마스크 책으로 강요할 경우 학교의 벌금을 이거 학생의 벌금형 있다는게 아니라 선생님들이 는 학교가 학생들의 마스크 스 라고 얘기하면 벌금형에 처하게 될 정신 나갔죠 중식 날 정신 나간 소리를 해요 그래서 정신들이 얘기하는 것을 잘 새겨 들어야 됩니다 자식을 드려요 학교가 마스크 착용 영을 내릴 경우에 금지령을 넋 이 경우 한번에 착용할 그러면 지원금을 차감할 수 있다 이런 정신이 나가 소리를 하고 있고 왜 저런 정신나간 소리 합니까 라고 플로리다 주지사 한테 물어봤더니 자유롭게 숨쉴 수 있는 권리를 학부모 학생들에게 주겠다 이딴 소리 하면서 한 표만 이라고 가로 열고 애기했다 글입니다 표가 중요하죠 택과 시기 8 8 즉 통계 상으로는 건강 어린이들에게 그리 위험하지 않다 라고 얘기 했다고 하는데 그러면서 미국과 영국에서 이미 쉬다 갑니다 무슨 시위 마스크도 열받는데 액션에 맞으라 그래 백신 반드시 위 가 나오고 있다 제정신인가 쉽죠 우리가 보기엔 그냥 우리는 백신을 안 맞을 권리가 있다 니가 뭔데 나한테 백신을 맞아야 그러냐 걸리버 그런 소리 안 할 것 같은데 아님 다 용서 야죠 용서하고 화해하고 사랑으로 줘 저희가 저런 소리를 해도 전에 이해하고 용서할 수 있다 라고 생각하는 비판하는 건 쉽지만 아 할 수 있다고 생각을 하구요 또 보면은 왜 안 맞냐는 반대로 저한테 노 왜 안 맞는거 라고 물어봤더니 어차피 유효성에 낮고 90여 풀어야 하는데 그 숫자는 조작 됐고 라고 얘기 하겠죠 그런 안보이죠 됐고 회색의 됐거든요 그걸로 뭐 어차피 걸리는거 아무리 쓸 어떻게 안 걸린 데다가 백신은 정부가 국민을 통제하기 위한 수단이다 뭘 통제하지 돈을 오라 그랬다고 작은 감도 있어요 8 특 백신은 제약사의 돈벌이 수단일 뿐이고 공포 를 활용해 국민들을 현혹 시키는 그런 나의 자유를 침해하는 이런거 기 때문에 배치 4 당당하게 반대한다 그래 미국에서 지금 일어나고 있는 일이 이런 일이라고 합니다 백신의 접종 유리 안올라 이젠 알아요 왜 토 10% 에서 멈췄어요 어 이 나라는 약국에 가도 백신이 있다 그렇죠 길가다가 맞이 깨워 라고 이라면 그냥 맞는 나는데 여행기 뜰 돈 아주 다릅니다 이 나라는 우리나라 사람 미국 여행 가면 백신 맞을 수 있어요 제가 다 고양이도 맞을 수 있을 정도로 많은 나라인데 50% 도 안 오르는걸 숫자가 지금도 싶은 디스 50p 그러니까 재미있는건 6시 모세의 이상 노인 접종 유리 한국에도 북과 미국이 높을까 65세 이상 백신접종 율 미국은 지나가는 고양이도 백신을 맞는 나라고 우리는 진짜 신청에서 어렵게 어렵게 만나는데 당연히 오래 하다 놓습니다 예 중앙 선데이 회사가 없고 치아 되긴 하는데 미국 여론조사 아까 봤죠 51% 만이 백신을 맞겠다는 거에요 나머지 50% 는 안 막겠다는 거예요 그러니까 뭐 한국 노인들은 85 패드 이루고 있어요 68 예 전 나머지는 안맞게 때는 그냥 그냥 아예 자유를 침해하지 말해서 오죽하면 미국에서 이내로 나왔지만 집에 한명한명 쳐들어 가서 놓겠다 라는 그런 내용이 나오고 있어요 가능할지 모르겠어요 집 안에 박혀 있는데 헤어 없어서 하면서 형체를 아니어서 총 1억 에서 5판 더해 갔고 2 8 내밀어서 에 맞추겠다는 계획이 실제로 있습니다 찾아가서 놓겠다 라는 왜냐하면 안마 징 안 맞아서 50% 이상이 넘지 못하니까 집단 면역의 안 생기니까 70% 80% 제집 짜면 열었는데 보고 싶어서 늘어나지 않는 덕분에 우리나라는 1등입니다 유중 있었니 스펙은 차라리 더 기를 뭐냐 2기는 35% 지내라는 젊은 사람부터 나중 아 할 때는 그렇다고 하구요 작으니까 보고 있던 다이드 미국 대통령은 마음이 급하지 5 지금 코로나가 이렇게 다시 올라갈 수 있단 말이 올라가고 있는 상황에서 50% 에서 도저히 백신접종 유리 증가를 하지 않으니까 집단 맨 이고 나발이고 이계안 생기잖아요 이게 안 생길 것 같으니까 명이 새로 나오고 있죠 뭐가 낫냐 공무원들 만만하게 공무원이 줘 일대 공무원들 연방 공무원 백신접종을 사실상 의무 400만명이 를 누릅니다 4 2억 넘는 되세요 백신을 맞아야 된다 아니면은 백신 접종 증명서를 제출 해라 우리는 반대죠 우리가 맞으려고 그 그 인터넷 그것이 어떻게 남는 백지 없을 때 그거 찾고 있는데 이렇게 아니라 반대로 공무원 들한테 막고 적든 것을 내다 이거 의문 안되고 얘도 자유의 나라니까 이거 함부로 임했다 가 또 뭐 헌법소원 하고 뭐 하지 않게 소속 말 테니까 제출하지 않을 경우에는 마스크 착용 그 다음에 코너 3 를 받았는데 왜 이런거 를 하고 있다 그리고 입에 나오는 신 미세 따르면 은 백신을 접종하면 100달러를 드려요 캠페인을 각 스테이트 들은 인센티브 반을 말해라 야 이거 우리나라 않아 백신을 접종하면 100개를 줍니다 4번 뜻인데 왜 6개월에 한번씩 빠질 수 있는 여러분 아요이 것이야 우리는 100배나 낼테니 맞을 수 없나 그랬는데 전화 라는 꺼꾸로 그런 얘기를 하고 이거는 아까 둘이 4 그런 사람들이 가 정치적인 알아보기 하니까 며 정치적인 주문이 아니다 요 삶과 죽음의 문제니까 죽기 시름은 맞아 랍 이런 소리를 하고 있다고 하구요 미국 질병 통제 박 닦아 놓았던 cdc 같은 경우에는 부스터 잣을 고려하겠다 한번 더 놓는 것 이외 가 아니라 3회 샷을 고려하겠다 라는 내용이 나오고 있고 사까 드 처음에 얘기했지만 밝은 아저씨가 이렇게 너무 정직한 너무 담백한 소리만 하잖아요 그래서 백악관 축제 기자들이 항의했다 드립니다 너무 좀 재미없게 하는거 아닙니까 또 모링아 다 일처리가 400만명 와서 맞아라 100 달라진다 이런거 말고 화끈하게 아니면 이들 자르게 따던 지어 뭘 얘기해야 되는게 옛날에 틀어 푸어 시대는 그랬는데 그렇게 얘기하니까 보우 링에서 뉴스 거리가 없다 고 항의한 일이 있다 글입니다 실험 다시 라 코로나 이렇게 퍼지는데 내 들고 놀이하기 움직이는 거 아니냐 저도 그렇게 생각해요 저도 유튜버 도로롱 포용 시절에는 못 만났는데 이슈가 얼마나 많아요 잠만 자고 일어나 왜 그 투시 세다가 그거 막 그거 와도 그 u2 꺼리가 됐는데 뭔가 꼴 다 만들어 지 않습니까 역시 지난 램프는 그리운데 우리 바이든 형은 너무 보림 이 그랬더니 우리 젠 사키 백악관 대변인 임 저한테 이런 얘기 했죠 정상적인 기사의 지루하다고 하고 목 자극적인 거 없네 라고 찾는 너같은 애들은 할 이 옷의 가라 할 이 옷의 가야 되지 않나 생각을 하는 덴트 그런 얘기 했다 그러구요 그리고 이스라엘은 세계 최초로 부스터 자 3회 샷 접종을 이미 계셨습니다 진짜 빨라요 모임이 시작했다 그런데 자기들도 그게 좀 들었다 이거죠 야 우리는 1회 이해를 못 맡고 있거든 양심없는 것들아 사회는 조금 천천히 받고 여기좀 주 안되네 우리나라라고 백신 그렇게 서로 의 수압도 했다는데 3에 쪼끔 하고 그쵸 대한민국의 도 스 이스라엘은 지금 대통령이 이미 부스터 샷을 3차 접종을 맞는 모습을 팀에서 보여주면서 있는 시작을 했다 그러고 전세계 가지 저럴 보니까 부스 3 들어갈 테니까 백신 개발사들은 좋습니다 요즘에 얼굴들이 하나더 맞는데요 태그 1a 로드 지금 놓았는데 글로벌이 3회로 들어갈 것 같고 분위기 보면 6개월에 한번씩 더 맞을 것 같죠 더 많이 거 같으니까 사회에 나올 같으니까 좋다고 올라가고 있습니다 좋죠 뭐 도나의 투자한 여러 분들 다시 한번 축하 드리고요 우리나라도 발표 있죠 18세 49세 드디어 기다리고 기다렸는데 백신 예 약 10분 째 사전예약 시스템에 들어가시면 팔로 그래 19일 사이에 1700만 명 드디어 백신 예약을 봤으면 될 때 두 사람 않는게 아니라 절대 신청을 하면 은 8월 말에서 9월 말 사이에 언젠가 저도 맞을 수 있는 일반인들이 다 그러니까 어때 놓치지 마시고 뭐 자기 세계에 뒷자리 라 그렇죠 가서 맞기를 바라구요 택을 아까도 말씀드렸지만 될 탑에 니가 침 역률이 현재까지는 그 지낫다 드리죠 이게 지금 사망자 인데 우리나라 아빠의 글로벌이 사망자가 올라 갔는데 이번에는 지금 걸린 사람은 이렇게 올라가는데 치명 제가 안되죠 사망자 7명 적인 부분들이 많이 줄었기 때문에 배틀 탭의 바뀌면서 1g 똑같아 지는 게 아니냐 했나 라고 다르게 이제 감기가 아니냐 라고 생각들을 많이 하는것 같고 실제로 전문가들의 얘기는 따르면 바이러스는 유행 기간이 길어질수록 전파 력은 강해지고 치 사회를 낮아지는 쪽으로 진화한다 왜냐 숙주가 죽으면 자기도 죽죠 너도 땅이 아도 땅이 거나 너도 화영이 이때 품새 너도 묻히거나 아니면 못 불타 잖아요 그러니까 처음에는 이 정도면 은이가 살 수 있지 않을까 그 좀 강하게 해 봤다가 숙주가 죽어버리면 정품 안되는거죠 그 다음으로 안되니까 이정도 봐야 매는 제가 죽는구나 휴먼 이란 존재가 용정 죽으니까 점점 약하고 대신에 널리 퍼지는 전파 력은 가하고 치사를 낮아진 쪽으로 진화한 다 그런데 실제로 콘 라이브 역시 시간이 지나면 그렇게 될 거라고 예상한 하지만 아직은 모르죠 아 지금 그 시간이라는 게 얼마 인지 모르고 또 결정적으로 지금 침 역률이 내려 한계 이게 델타 변이 때문에 내려 간건지 백신 때문에 치명 닐이 내려 간건지 에 대한 데이터가 없다 글입니다 이것을 알아야 기 위해서 대조군 a 에는 오리지날을 걸리고 대 조금 비해 는 델타 변이를 걸리고 대조 글씨 있는 110 맞고 걸리고 그럴 수 없잖아요 사람을 내리고 이거 했다 이러니까 실험을 해야 되는데 아직은 데이터가 없으니까 백신을 안맞은 사람한테 오리지날 없고 백신을 안맞은 사람한테 델타 베리 너 먹고 이룰 순 없으니까 아직 연구가 필요하고 델타 편의 자체 침 역률이 맞을 거 는 같은데 아직은 백신 때문인지 확신할 수가 없다 라 그런데 우리는 뭐 여기까진 알겠어요 우리의 최대 관심 겁니까 굳이 이런걸 좀 더 전하고 마스크도 벗고 해 용도가 그러고 싶으니까 우리가 관심을 가장 많이 쏟는 나라가 있습니다 버디 겠어요 영국이 7월 19일 드디어 코로나 프리 코로나 자유의 날을 선언 했거든여 기억나시죠 코로나 일과 관련해 모든 방역 조치를 해 줘야겠다 정신줄 놓게 따라 는 얘기를 했어요 공식적으로 실제로 이렇게 나왔습니다 둥지를 없거든요 그러니까 놓고 생각하자 너나 해 모든 걸 놓고 정신줄을 대신 다 줬어 우리가 높인 힘드니까 전화 라가 먼저 나라 전체를 시험장으로 하면서 이렇게 정신줄 놓는 세계로 뛰어 들었어요 이 나라의 결론이 나라를 건 도박을 하고 있는데 어떻게 되냐 가 이제 중요하죠 전화가 영원의 도박을 하고 있거든요 진정한 지아 세 나라는 저 가 아닐까 생각을 합니다 93 냐 비트코인 2 g 코인 지르는 게 아니라 어떻게 구루 나갔고 나라를 걷고 도박을 하지 대단하다 진짜 저희는 거는 거 아니에요 위 아래에 건가 줘 내 마스크도 벗고 다 안에 아니 아무것도 안해도 거리도 이런거 안에 하지만 나는 아래의 건 거지 요 이거 위로 가면 은 작살 않은 거죠 경제성장률이 문제가 아니라 수십만 명 죽을 수도 있죠 수십만 명 주고 쓰인 했든 영혼의 도박을 하고 있는데 현재는 아 이게 동안에도 밖에서만 한자를 건너 처음에 아 요즘 에 꺾은 내려왔어 쪽으 아직 을 및 있습니다 이 나라가 무조건 대로 와야죠 무조건 정원의 도박이 성공을 해야 돼 반야 인 사라가 내려왔더니 영원의 도박이 탈탈 털리는 쪽으로 나오면 그린 내년 이맘때에 도 아무것도 못하고 걸 뒤 하고 해외 여행도 못가고 마스크 라고 할 수 있어요 전하라 다 우리 대신에 예언의 도박을 하고 있죠 전화를 하고 등 데 비슷한 미국에서는 뭐라 그러냐 영국 보고 정신 나간 놈들 제정신이냐 이러면서 여행경보 최고 단계 국가 4단계 입니다 4단계 미국 이미 후인 들한테 영국여행 가지 마라 라고 최고 장의 4단계 웬만하면 가지마 라고 얘기를 했구요 이렇게 영국은 웃으면서 as 쫄 버들 야 괜찮아 괜찮아 미국 관광 게 영국으로 봐라 들어올 게 없죠 해가 두려울 게 없지 부두 이렇게 써 뭐예요 와라 괜찮다 웰컴 웰컴 우리가 어차피 정실 줄 알았으니까 와서 같이 버 짜라고 미국 유럽 관객들 경리 같은거 안에 우리 그냥 ok 에브리 바디 커버 아내 베컴은 해서 우리 다음에 백신 쩍쩍 맞으면 연구 그냥 갈 수 있지 않을까 행복하면 종주 주로 같이 넣어야 되기 때문에 도막 같이 하는 거죠 남이 베티가 흘리는데 따져 벼 패치 볼리 벗어나도 베팅이 하는 거기 때문에 쉽지는 않겠지만 그 연구는 저러고 있다 저도 아기 꼭 성공하기를 간절히 기원하고 쪽으 속만 때 물어봤어요 코너에 공존 조건은 뭡니까 했던 이런 얘기를 하신다 그러니까 공존 하려면 1번 백신과 치료제를 굉장히 흔하게 구할 수 있었는데 마치 독감 처럼 그냥 약국에 가서 치료제 먹고 끝났고 야구의 가서 뭐 불이 독감백신 맞는 것처럼 삼가주세요 옷까지 한번 맞고 이럴 수 있고 그 다음에 마스크 책 용인에 이런 사회적 방역 조치 없이도 확산이 마크 지는게 아니라 컨트롤 될 수 있어야 된다 이런게 있어야 겠죠 뭐 어느 정도까지 하다가 뭐 6 겨울 지나면 독감 없어질 거야 이런 사회적 확신이 있어야 되고 마지막으로 싶다면 역기 되면서 데이터 변이가 될 거 아니야 우리가 110 맞아서 가 됐건 가벼운 증상으로 끝난다는 데이터가 축적이 되면 은 공존할 수 있다라고 이라는데 하루빨리 영국 리즈 도박에 성공하면서 우리도 이제 공저 할 수 있는 쪽을 없애기 힘들다 그러니까 모듈이 날려버리면 좋겠지만 안되면 공격할 수 있는 길로 갈 수 있었으면 좋겠습니다 으 으'"
      ]
     },
     "metadata": {},
     "output_type": "display_data"
    },
    {
     "name": "stdout",
     "output_type": "stream",
     "text": [
      "relatedness=0.839\n"
     ]
    },
    {
     "data": {
      "text/plain": [
       "\"Title: (추석연휴특집영상) X는 Y인가? + 머스크형 씨리즈; Description: 어렵고 딱딱한 경제,시사,금융 이야기를 쉽고 유쾌하게 풀어내는 경제/시사/이슈/잡썰 토크방송입니다. #한가위특선시리즈1.; Content: 아 으 르 out 요즘 컴퓨팅이 검 아니더라 되더라구요 골뱅이 너 직 한국과의 번만 먹는다 그렇습니까 콜밴 이야기는 진짜 개인적으로 든 생각은 이거 왜 안 먹지 사용 분들은 외국인들의 이거 위한 목적 모습 주도 않고 맛있잖아요 이것을 왜 안 먹을까 물론 우리는 이렇게 먹지 않죠 우리는 주로 이렇게 먹지 마 이건 우리의 입맛이 그런거고 약물이 빼서 자수 캐서 이렇게 빼면 오케 찾는 데에 이걸 안 먹는데요 자 여러분들 컴퓨터에서 많이 보셨을 거에요 세계 최대 골뱅이 소비국은 대한민국 이고 전세계 80퍼센트 세계 최대 골뱅이 생산국은 영국이다 영국이 먹냐 안 먹죠 안먹는데 40% 로 세계 최대 고요히 위가 왜 해 지니까 영국 이 책의 최고로 많이 생산을 하죠 왜 우리 아가 잘 먹어서 그 꼴에 야아 잘먹어 사는거죠 고래가 잘 배워서 영국과 아일랜드 부들이 돈을 벌려고 그래서 고래야 수출한다 여러분들의 드시는 골뱅 의 90% 가 무려 받아 언어 연구에서 임금 연대에서 온 그러고 명품 골 메일을 먹고 있는 거죠 많이 보셨을 거 주스에서 코리아의 감사하다 오르지 한국인들에게 골뱅이를 잡는다 여러분도 당시가 먹고 살고 있습니다 이런 뉴스들이 많이 떠 왔는데 보니까 정말 한국과 일부만 목놓아 했더니 프랑스 도 먹는다 프랑스는 저걸 왜 먹냐 평생 익숙하다 글입니다 타킹 쑈 씁니까 서양사람들은 처럼 골뱅이 던 정복이 더 이런걸 달팽이 로 생각을 해서 엮여 한다는 거죠 우리가 박혀 벌리고 먹듯이 그런가 아 그게 그렇게 엮여 없나 느낌은 없는데 외국의 들은 적극 앞으로의 박 일 때 달팽이 기어가는 것 그런걸 점액질이 있는 막 그런걸 먹는다고 생각을 하니까 이 느끼해서 못 먹는다 고 얘기하는데 고백에도 바다 달팽이 아니야 이거 이렇게 기어다니는 달팽이 어떻게 먹냐 역겹다 이렇게 생각을 한다고 하는데 기사에 따르면 서양인들은 골뱅이를 바다 달팽이 라 그러고 안 먹는데 맛이 어떠냐고 물어봤더니 골뱅이를 20년만 잡아서 한국의 보냈다는 분 이 20년 말 잡은 어후 입니다 억울해요 어후 분한테 고령이 말세 우리 또 니 한국 3대 컬 외모 건지 모르겠다 여자발 톰 냄새가 난다 로자 발통 될 수 있는 보지 남자 발터 깔자 발톱의 냄새가 다른거 교집합 알톤 말씀 거야 20년을 나는 골뱅이를 잡았지만 고백 못 먹겠다 그런 일을 하고 계신다는 데 그쳐 그래서 비슷하긴 하지만 그래서 4 요인들은 전복도 안 먹죠 여자발 턴 맛이 나서 다비치 다 이해할 수 없는 레트 그렇다고 합니다 이해할 수 없어요 당연히 이런 소라 같은 것도 비슷하니까 안먹고 그 예 제가 옛날에 이 건지 치실 합니다 실험 정확히 영국에서 살다 온 친구한테 이거 사람들이 있거든요 어렸을 때 젊은 분들은 모를수도 있는데 서울대공원 이나 자연 노 자연농원 아니지 요즘에 어린이 제공하지 그런데 가면 요렇게 죽을것 여고 여기에 개꽃 응 이라 글입니다 개꽃 웅 물론 소라 주세요 그래야 보통 통솔 한데 저기에 이게 잘해요 하게 빨아먹는 크기 있거든요 이걸 좋았어요 우선 먹어 봤는데 진짜 거짓말 안하고 거의 친절했어요 가 104 가고 뒤 전했을 이렇게 어 왜 벌써 않았거든 입에 된게 아니라 냄새 받고 기절 했어요 왜 그걸 기절 잘 모르겠는데 좀 고여 칸과 그래서 저는 솔직히 건 macy's 라고 적고 원래 뭘로 놀리려고 했냐면 그 옆에서 같이 파는 거 있잖아 양사 인프라 셀로 오펀 되기 요건 에 싫어할 것 같았어 요거는 싫어할 것 같아서 요거 먹이 전에 개 코딩으로 이렇게 맛을 좀 빈 대로 괜찮은데 그럼 이제 뻔데기 를 줘서 애를 보려고 했는데 개꽃 등에서 갔어 실합니다 거지 타 나온 것이라고 크게 어떻게 쓰 냄새를 아마 더 알게 냄새야 보고 근데 언덕에 먹었어요 이건 먹을만하다 비주얼은 좀 그래도 무시 보면서 5000원에 근데 커팅한 봤던 2ch 안해 왜 그럴까 오르다 보게 누가 보더라도 이게 더 혀 몬데 이 궁에서 어깨가 시 던데 먹고 그 만큼 좀 더 자발성 냄새 뭐 그런게 단발 통 냄새 뭔지 모르겠지만 뭐 그렇게 한다고 하구요 값도 옛날 생각이 나네요 우리 작은 너와 나 8 한다면 이렇게 있을 겁니다 하이트 생각을 해보면 처형은 김도 안 먹죠 그 생애를 껏 뿐만 아니라 전세계에서 뭐 이쪽 동북아 # 빼면 김 2 잘 안먹고 심지어 미역 울집에 화를 내는 데요 어디서 그딴 건 저도 않냐고 진짜입니다 진짜 그래서 들었어요 2억을 중요한 어디서 의 시조 못산 아본 볶고 산하 얻으려고 답 해설 풀을 뜯어 왔어 야지 짐이 좀 못 먹는 것만 여러 생각을 좀 한다 그래야 잡초를 준다 어디서 이런걸 뜨 거 아냐 이런 생각 한다 그러니까 말 그대로 작전을 잡초 잡초 인대 그걸 믿어 꾹 보면 잡초 풀밭에서 풀 듯 하다가 뭐 할게 없으니까 거기다 국에 넣어서 먹는 풀꽃 빛의 생각한다는 거죠 잔디 곡처럼 그거 아닌데 암튼 그 생각한다 걸고 예를 생각해 보면 야 그러면 얘들 2조 뭘 먹냐 문어도 안먹고 아내 오징어도 안먹고 딱지 뭐 이런건 먹을 리가 없고 먹는게 없을 먹는게 바다에서 나는 것 중에 얘들은 먹는게 없어 물고기 pc 말고 나 먹는 거 같아 개인적으로 보면 그래서 아 그때 마침 딱 깨달은게 3 그래서 글 그때서야 번개가 등 깨달음 이었는데 얘기하려고 이 긴 얘기를 했죠 대한민국의 역마 수산물 소비량이 전세계 주 옥주 압도적인 일입니다 58 키로 늘었어요 이 75년 이고요 지금 69 킨록 2 하고 있습니다 무지막지 하죠 세계 평균의 3배 를 드세요 여러분들의 그럼 도대체 나는 뭘 벗길 내 세계 평균의 3배 를 먹나 체계들은 물고기를 안 먹냐 zn 광어 없어 그런가 이렇게 생각할 필요가 없는게 잘 생각해보면 체계들은 여러분들이 먹는 그런거 개국은 다음 법 우리가 먹어서 그런가 이상 걸을 의한 걸어라 되지 맛있는걸 우려내는 바 잘 못 드린 거죠 바다는 그런걸 안 먹는거 이게 무슨 소리냐 이게 저 3배 인게 우리가 물고기를 많이 먹어서 연어를 많이 먹어서 고등어를 많이 먹어서 3배가 아니라 수산물을 많이 먹은 게 뭐 헨 때문에 세 배다 아니야 이유 때문에 3배가 아니라 음식 먹는 방법이 보다 해서 그게 아니라 그 서양의 들이 안먹어 소 그래 뭘 차량 2대 입장에서 보면 재는 받아 달팽이도 먹구요 바다 잡초도 먹구요 옥토퍼시 또 먹구요 오징어도 먹구요 바다 지렁이도 먹어요 얘는 고려도 먹어 4 모든 없죠 개복치 노모 까지 다 거 땅에서 파면 타바 쟤들은 바다에서 나오면 대충 목조 마 먹는게 없지 벌의 생겨 붙은 테 독 있는건가 남아 톡톡 발라 보고 또 기습 뭐야 여기는 독이 없구요 이거는 어그 다음에서 짤라서 그것만 빼고 의도 토기는 것도 뭐가 다 먹기 때문에 이 전세계 입장에서 보면은 우리는 몰랐는데 3 샤워를 나오는 것은 다 먹는 것도 다 그래서 사실 2022년 도가 되게 역사적인 해입니다 어떤 해야 하며 는 우리나라 역사상 1인당 육류 소비량이 쌀 소비량을 최초로 추워 라는 해요 단군 이래 최초 항상 쌀이 육류보다 훨씬 많이 먹었어요 쌀 톡 애국가 니까 2시기 쌀이 니까 2022년 에 드디어 주식이 어떤 쌀 대신 육로가 커진다 이제는 주식이 쌀이 아니라 육류가 되는 나라의 우리도 들어가는 어떻게 따지면 그래도 쌀 이긴 하지만 육로가 더 커요 이제 어떻게 보면 유교의 나라 라고 얘기를 될 정도의 나라가 되는건데 이쪽 역사적인 게 과거에는 그런데 없었죠 1970년대는 고기가 5키로 였어요 1인당 짤은 136회 겁니다 어머 삽으로 퍼 드 셨나요 어떻게 136 인지 모르겠는데 보우를 먹는 거니까 쌀만 고봉 밥으로 해서 와 이렇게 보니까 반발하고 물 말아 먹고먹고 해서 쌀 서 병에 엄청 났는데 50년 지나니까 고기 소비량이 11배 다 됐죠 54 키로 10배 사기 들고 쌀이 3분의 1 토막 나면서 드디어 2012년에 당군의 를 최초로 고기의 소비량이 짜서 명을 넘기는 나라가 됐습니다 그런데 거기에 뺨을 때리는 게 있으니 이게 바로 부산 무림 둘이 나라는 어디 가서 너희 나라 주식이 뭐냐 쌀 아니었나요 코기 조금 쏙 뭐냐 수삼 밀 일으킨다는 섭취 그렇게 미친 아래 7키로 먹을 70 캐롤 아까 듯 m50 몇키로 세계 1위 얻자 4 58 키로 거기서 터 늘어서 착한 그 바다에서 나온 자 먹나 불을 생각을 하는데 타 먹는 거죠 다 소리 주식이 쌀이 일도 아니고 거기다 않으셨고 기간이라 부산물의 국가로 가고 또 역시 삼면이 바다 구요 1인당 3월 섭취량이 뒤 조금 다르겠지만 육류를 넘기에 더 망 입니다 그럼 수산물 도대체 우리가 뭘 많이 먹어서 3개의 어디냐 아까도 얘기했지만 고기 쉬를 많이 먹는게 아니라 보다 남들이 안 먹는거 리가 뭡니까 해 추 2000년부터 2020년까지 엄청나게 늘어나게 있으니 우리나라 사람들이 많이 먹는 교회 색이 해주는 요 주황색 또 남이 잘 안먹어요 그게 뭐냐 해주고 컴백할 그 다른 나라들은 조미김 원래 부족한게 파랑색으로 싸우 거든요 수산물을 누가 더 많이 먹나 그럼 먼저 파란색으로 싸우는데 대한민국은 그 의의에 페루로 바다 달팽이 도어 꼭 지와 다니는거 얹고 뭐 얹고 이런건 뭐 개 부두 목적 앱을 도 먹고 얹은 다음에 그걸로 부족해서 거기는 플루트 덮 풀을 좀 많이 뜯어 뭐 심지어 우리나라는 pc 보다 해조류를 더 많이 뭐 c 미드를 더 많이 먹는 날 보시면 2018년에 역전 있어요 2 린다 해서 추상 물을 많이 먹는다 그럼 pc 가 아닙니다 pc 외국인들은 쳐 자료를 보면서 아마 분명히 그 미국에서 이런 스쿼드를 하고 나하고 처음 볼 이런 반 애들이 전환 하든 뭘 그렇게 많이 먹나 연어를 많이 뭔가 9 듀얼을 많이 먹나 과거의 미친 다른가 생각할 수 있는데 자세히 파고 들어가면 그런 것은 우리도 너희 랑 비슷하게 먹어요 씨는 비슷한데 그렇게 될까 잡초 누 더 먹고 이런게 엄청나게 크다 심지어 한국인들은 받아 잡초를 어류 보다 더 많이 먹는다 그러다 보니까 해 조리 생산량이 파란색입니다 최근에 엄청나게 올라가고 보면은 물 해줘야 하는거 이거죠 뭔지 모 한국사람은 다 아시지만 다시마 김 비어 얼 맛있겠다 번씩 쪄 거구요 그래서 결론적으로 대한민국의 수산물 섭취 아 압도적 1위 3개의 3배 지금 4배 정도 까지 올라갈 것 같은데 일이 이은 이유는 간단하죠 다른 사람들이 안 먹는거 를 얻기 때문에 해 줘 리고 펜 시기로 얘들 좀 조개는 좀 먹지만 압도적인 한 것도 압도 좋고 아아 그래서 우리가 약도 저 일이다 아니게 어류가 pc 만으로 1 우리나라에서 저 해줘야 하고 적 페루를 빼면 오시지 평면 하고 비슷합니다 - - 인데 이렇게 더 맛있는데 그저 가졌기 때문에 그걸 빼면 npc 늘 비슷한데 pc 를 능가하는 게 있기 때문에 상대가 안 된다는 거구요 우리나라 수산물 섭취하기 대로 올라 갔는데 정말 혁혁한 공을 세운 아이템이 있습니다 뭘까 대한민국 이 전 세계에 수산물 섭취 하기를 올라오는 데 혁혁한 공을 세운 아이템 초장 아니구요 김밥 아 생각해보니 거야 우리 밥 먹을 때 해조류를 싸 봉래 미친 나라 긴 빛은 알았네요 그리고 밥도 세상에 바다에서 나온 해주를 싸 먹어 와 생각을 못했는데 다 그럼에 즉 김밥이 수산물이 보다 싸움을 아 초장 잠깐 이해가 되는데 처자 것 2시쯤 되니까 밥을 수 그런 잔디의 싸먹는 되고 있 으나 바자 잔디의 싸먹는 그런 민족 이었죠 이 굉장히 큰 영향을 미쳤다 1995년에 김밥천국 이 등장하는 이제 우리나라 싸움 물 섭취량이 에 아주 긍정적인 영향을 했다는 거죠 어제가 되는 김밥천국 참고로 힙합 천국은 아닐 프랜차이즈가 아니죠 그리고 살펴 거 시청했다 가 날라가서 전국에 있는 기법 천국은 날은 내가 다 끼리끼리 땅 겁니다 자기네끼리 모를 거다 딴거 거나 여러분들이 팝송 낼 수 있을 걸로 이름 된 그랬다는 거 구요 한마디로 결론적으로 대한민국은 수상 말 섭취량이 린을 아마 제생각에 향후 50년 거뜬하다 왜냐하면 뭐 이거 뭐 받아 잡혀 라고요 요 여자발 토마 시름에 요거 대한민국 3번 섭취량은 범접할 수 없다 그래서 이 심정을 힘들어 이들이 입맛을 바꾸지 않는한 될거고 후룩후룩 잡자 파지 않는 날 쉽지 않다 아마 가장 막강한 경쟁력을 가진 분야가 아닌가 없어서 먹자 참고로 제가 좀 살펴보니까 연구에서 니들이 하두 수입해 가는 바람에 거기는 바다의 골 베가 넘쳐 쪼아 아무도 안먹어서 대한민국의 하두 퍼가서 그 쿼터제 하고 그렇죠 할까봐 너무 퍼가서 너무 퍼가서 쿼터제를 하고 있다 그러니까 앞두게 형 능력을 가지고 있는 것이 아닐까 생각이 되구요 맛이 짠 어떻게 왜 발톱 맛이 모르겠네요 얼마전에 나온 뉴스 입니다 2월 23일날 이런 실수가 떴어요 쥬라기 시대에 거대 의 잉 영화 속의 발견됐다 고전 3 타이어 때 겁니다 또 요런 것도 재미 싸 거든요 역대 익룡 화석 가운데 가장 완벽하게 보존된 화석을 얻었다 사서 봤습니다 어떤 익룡 인지 길이 2.5m 몸 무게 약 10kg 이라고 하구요 1억 6천만원 7천만 전에 가서 게 댐이 성숙의 차 라고 했는데 아 좀 완벽한 겉이 오는 해 완벽한 금칙어 는 정말 우리가 생각하는 그런 완벽한 화석을 생각을 했는데 그 정도 아닌데 타자의 몇개 더 먹었어요 1억 7천만 년 된 익명의 발휘합니다 오는 좀 괜찮네 날카로운 발톱과 위에 보면 뼈가 비어 있죠 요즘에 3 처럼 정말 전개할 봤죠 것 조금 더 보면은 이렇게 생겼다고 합니다 여기 손이고 아까전에 얼굴 몸통 이렇게 있는건데 지금 그 팀은 이 임명에 학명을 지 어때요 이름을 자크 라고 졌답니다 안녕 자 그 헬로우 자 차크라 가졌는데 길이 간 2.5m 정도 되고 자크의 상상도 를 그리면 이렇게 이런식으로 날라다니고 여기 시작하였다 그런데 자네 우리 자크가 굉장히 좀 이 학교의 논란을 갖고 왔다 그러니까 어떤 올라갈 거 아냐 너무 크다 이쪽 m 데뷔 전부터 뭐가 커 과학자들은 처음에 익룡 은 갈매기야 비슷한 크게 없다가 나중에 점점 더 커진다 고 생각했는데 우리 작가 너무 크다는 거죠 제가 미성숙 괜찮은데 가설을 보면 익룡 은 과학자들 생각하기에 조류와 경쟁하면서 크기가 커졌다 라고 생각을 한데요 익룡 은 조류와 경쟁 함서 크게 커졌다 저는 이걸 보자마자 잠깐 드는 생각이 여러분도 그런 생각 드시죠 아니 공용 운세 라며 야 공룡을 사람이여 그러면 임용이 3 하고 경쟁에서 크게 커짐 어떻게 이해가 세대는 거 아닌가 요런 무식한 생각이 잠깐 들죠 홍룡사 라며 일어날까 나중에 뭐 모어 치고 뭐 거치고 팔 다리 짧아 지구 보기 붙을 생기고 하면서 이렇게 세 대는 게 아니냐 라는 생각을 했는데 저게 무슨 말이냐 어 무식한 소리입니다 오셔서 니까 절대로 이런 말들도 만 되구요 드는 생각이 그래서 그러면 공룡은 채 인기 파충류 조류 니야 사춘기 냐 여기서부터 제 수준을 넘어 한 얘기가 나옵니다 참고로 아래에 나온 내용들은 꼭 전문 자료를 찾아 보시고요 저기 나온 게 뭐가 잘못되었다는 점을 열심히 줘 그저 도전 태클 아볼 컵이 됩니다 자 하이트 이것은 굉장히 되게 어렵더라구요 동물을 개통 분류하고 로 내려 가야 된다 글입니다 그렇죠 해가 두통을 내려가면 은 어류 양서류 가 나오고 애나 모르겠고 조 아래 그양 망루에서 어우 승 담군 강우 무슨 강호 나와요 자 이 얘기를 조금 질겁니다 앙망 누가 뭐냐 양막 이라는 것은 체내의 태아를 가지고 있을 때 임신 중에 태아를 보안 역할은 막이 잇는거 이걸 앙망 그런데요 탐하기 있지 않냐 아예 아내들은 그 이렇게 물 속에서 알게 막 풀이는 애들은 이런 게 없죠 무 양만 이라고 하는데 이제 어린 아양 소리고 나머진 데 안 먹니 라고 하는데 울어서 하실 필요 없구요 하이튼 넥 얘네들을 우리 선조 로 보는데 요 조상님이 안된답니다 어떻게 관자놀이에 뼈에 있는 구멍으로 부모의 하나도 없는 에 구멍이 하나 있는데 구멍이 두개인 은혜로 아닌데요 왜 그 관자놀이 뼈 있는 구멍으로 애들을 났는지 모르겠지만 이렇게 부르고 된다 글입니다 구멍이 없는 에는 거북이 구멍이 하나인 에는 폴리 우 구멍이 두 개 있는 에는 우리가 집에 나고 공룡 같은 파충류와 새 그렇게 다닌다고 했는데 아니 그러면 다 좋은데 관자놀이에 있는 급격 우 멍개 쑤가 크게 뭐 이렇게 중요하냐 이걸 알아보니까 확장 힘들에 따르면 육지 올라와서 사양을 하려면 은이 턱근육이 강 해야되는데 고기 근육이 자려면 구멍이 있어야 된다 4 얼마나 강한 턱근육이 까 먹이를 몰 먹느냐에 따라서 구멍이 달라졌고 거기에 따라서 분류가 달라진다고 해서 계속 모방 국유 웃으니 국민 그런다고 합니다 자 그러다 보니까 이렇게 생긴 애가 있어요 d 메트로 돈 입니다 누가 보더라도 공룡이 것은 크게 거미가 아니까 무식한 사람이다 무식하고 누가 보더라도 파충류 잖아요 공격이 고 보면 구멍에 1 래요 눈 지 구멍 아 그러면 그 이러네 4 아 저도 부채가 무슨 소리야 지 모르겠습니다 구절이 지 모르겠는데 그렇답니다 그래서 저희 화석을 마스 태 아무리 파충류가 챙겨도 구멍이 하나면 포 유 라는 거죠 제가 우리 선조 하지 그렇다고 합니다 즉 구멍이 그래서 그래서 이 본격적으로 공룡 님들이 굉장히 전에 저런 구멍이 하나 1 포유류 의 할아버지 같은 애들이 지구를 10의 그가 포유류 거나 공유기 먼저 나온 게 아니죠 먼저 나온 게 아니라 우리가 먼저 집에 있었는데 나중에 쫓겨났다는 거고 그 인간도 포유 잖아요 인간 여기에 구멍이 하나 냐 두 개냐 여러분들 머리 여유 구멍이 하나 할 것 같습니까 2길 것입니까 손으로 만져 보셔서 2개 면은 공룡의 d 내가 다룰 수 있어요 하나랍니다 1 효과 볼것 얼굴 얼굴 놀고 그게 서당 공유 라고 하더라구요 그래서 혹시라도 앉았는데 나는 구멍이 두개 다 그러면 우리 선조 주게 뱀이나 마지막 거다 공룡이다 그런게 있으면 2개인데 아마 이러한 아실겁니다 하라고 하고 하이트 께서 원래 이런 당 공유 같은 토요일과 지구를 지배한다 가 여러분들이 잘 아시는 페름기 대멸종 이라 그렇죠 06 멀쩡한 거 말고 공룡이 등장하는 요인이 대멸종 이 되면서 그 저는 고생대 2벌 전문 우리가 중생대 공룡의 시대 가 열립니다 라니 10만 년에 걸쳐서 10종 됐다고 하죠 자 그래서 결론적으로 이제 자세가 공룡 인지 아닌지 알아야 되니까 아까 제가 구멍이 두개인 이궁 뉴 라는 여러 공룡의 전성 시대가 열립니다 등 상대 라고 하죠 자 그러면 됐네 이 음료 공룡이 나중에 교과서에서 배운 걸치면 시조새 가 되고 기조 3가 제가 된거 아니냐 그 새는 공룡이다 자 이게 제 우리가 중학교 꽃아 그때 배운 지식을 어렴풋하게 잘못 알고 있으며 는 이렇게 생각을 한다 그럽니다 이게 아니라고 하더라구요 시조 생은 새해 조상이 아니다 예 얘기라 wipo 쿤 2분 이름이 아르카 25t ex 라고 합니다 아르카 기업들에 있어 맛이 필요 없어요 우리가 않으시죠 3 하이튼 왜냐 자고 얘기를 하고 그냥 걸쳐서 드리도록 하겠습니다 이후 육류는 요렇게요 틀린거 요 위에 는 대충 그린 거기 때문에 이것을 생각하지 마시고 구멍이 두 개 있는 것은 아닌데요 어룡 익룡 공룡 등등등 주제 이거 공부하다 머리가 터지는 줄 알았는데 그건 무슨 말이에요 어려움은 인용은 운용이 아니다 예 그게 공력이 아니었어 약 얜 뭐야 그러면 젠 생각 벤 공명이 아니래요 감 마디로 날아다니는 이제 공경 아님 응용 이라고 하면 안됩니다 치카 소리 였어요 b 공룡 파충류 라고 하던데 완전히 다른 생물의 완전히 다른 생물 시조 3 조상도 아니죠 그러면 우리가 쥬라기 공원의 보던 왜 있잖아 예 있자 울고 등장하던 g 얘는 공룡 이냐 아닙니다 개념과 어룡 사실 어려움도 아니랍니다 다시 어려움도 아니고 얘는 뭐냐 공룡도 아니구 어려움도 아닌 다른 거랍니다 아 넘겨줘 보컬로 무슨 소리냐 우리가 어려운 이라고 얘기 라는 것은 보통 이렇게 생겼대요 근데 저의 공항에 나온 에는 요렇게 생겼잖아요 얘는 어려움이 아니라는 거죠 얜 하향 박 충 이라고 한답니다 목이 기회에 있죠 얘는 어룡 이 아니랍니다 인도 다른 용 카이트 라이트를 모르겠지만 다 공룡이 아니고 다른 놈이라고 하자 다른 놈이 때문에 이런거 보고 온 어룡 이다 2 오전 공룡 받아 그러면 무식한 거죠 그러니까 제공하여 나오니까 그거 뭐죠 공룡이 주인공을 찾아 먹을 그러면 안 되는 거죠 그런 얘기 했더니 옆에서 딱 볼 재는 응이 아냐 라고 얘기하며 는 얘기가 지금까지 있어보이는 팝콘을 내면서 예 저거는 모션 사고로 쓰는거 로 공명이 아니다 라고 얘기 라며 는 있어 보이는 거라고 합니다 아 얘기하면서도 제가 무슨 얘기 안 잘 모르겠어요 한마디로 바 충 이라고 해서 다 공룡이 아니라 갖춘 제가 더 넓은 개념이 그 그 안에 공룡 익룡 막 o 뭐 이렇게 들어간다는 거죠 결론적으로 얘기하면 만약에 여러분들이 영화를 보거나 못했을 때 바다에서 뭐가 등장을 한다 어그 운영 아닙니다 가드 겠어 호수는 모르겠는데 바다에서 것 등 잘하면 0 0 아니구요 게리즈 면 그런데 좋아하시는 영화 그 고질라 를 보면 에 바다에서 나오죠 성령 아닙니다 재생력 2시는것이 모르몬 칩을 지 모르겠지만 얘는 공룡이 아니에요 바다의 튀어나오기 때문에 여러분들 만약에 그 화석을 보거나 영화를 봤는데 요런식으로 등장을 하면 무조건 공룡이 아닙니다 무조건 어려움이 조용 참고로 당연하겠지만 얘 내가 상어 나 고래에 조상도 당연히 아니죠 이건 너무 당연 하죠 상원 한울 곡이죠 물고기 물고기 공룡 장연희 아니고요 고정 때부터 인사와 없고 고래는 우리가 다 알듯이 포유류 다리 있는 기계 지금 우리가 원래 이렇게 이렇게 없이 제 원래 이렇게 엄 시대 입니다 제가 목이 아니기 때문에 원래 저렇게 끝이 딸이 앞다리를 개헤엄 치다가 개요 글 너무 잘 치게 되서야 번지 쏘니 없어진게 공룡이 줘 자 이튼 짝 그렇구요 뭔가 많이 하늘에서 날라 다닌다 우리가 출하 공연을 보는데 어 그리고 공경 아니랍니다 아이돌 버리고 물에서 나오거나 하늘에서 나오면 공룡이 아니고요 아 그러면 얘네 이런애들 익룡 같은 큰 애들 에 예 0 0 아닙니다 음료 아니구요 예 세냐 섀도 아니구요 그냥 다른 바 충 이라고 하고 차크라 결론적으로 대단히 됐다 정해야 됐으니까 공룡은 새인가 파충류 인가 그렇게 어렵냐 이거 결론을 내면 어요 요즘 이게 항상 계속 봤다 바뀐다 그런데 최신 뉴스에 의하면 최신뉴스 새는 0 놈이다 최신뉴스 다 아시죠 그러면 됐네 됐네 절은 에 주력 0 영웅 이라고 생각하면 또 안되는게 요새가 왜 공룡 인지를 아셔야 되는 데 공룡 에서 진화 되서 나오게 세냐 컴도 아니래요 무슨 소리냐 아까 되겠지만 구멍 두 개 뚫린 놈이 응용이 되는데 그 중에 하나가 공룡 인데 내가 용 방목 고조 방목 이렇게 난다 글입니다 이게 나누는 것은 뭐 해부학적으로 올 밤 뼈가 요렇게 생긴 에 저렇게 생긴 에 따라서 그렇게 목에 나뉜다 그런데 소리가 용 반목이 라고 분리해내는 크니 우리가 하는 공룡 취한 545 로써 이런애들 조밥 몫 이라고 불리 내는 우리가 흔히 아는 공룡 대신 좀 납작한 애들인데 아시는 바와 같이 공룡이 6천 800만 년 전에 운석이 떨어지면서 결정을 했습니다 그런데 널 쪽을 않아 내가 있어요 공룡이 멸종한 했는데 왼쪽을 아내가 있어 누가 멸종을 하느냐 수각류 헉 원리는 2족 보행을 하는 공룡이 멸종한 했어요 채널 사왔어 수석리 줘 이족보행 을 하니까 수강 유중 의한 분류가 멸종이 되지 않았다 을 쪼일 되지 않고 헌데 까지 내려온 공룡이 있으니 머리 어떻게 생각해 어 야 자 나무 뿐이에요 이 운석 충돌을 이겨낸 분입니다 공룡이 줘 공룡 공룡 에서 진화된 게 아니라 공룡 그 자체 옆의 치아를 싸울 수도 있고 옆에 누구도 있고요 브라 쿄우 도 있고 누구도 이거 다 있었는데 스텝포드 있고 얘들은 뭐 떨어지니까 * 정말 좀 문짝 멀쩡했는데 앞면 좋겠어요 공룡 에서 진화했다고 점에 생각하지 않는다 글입니다 이런 언제나 바뀔 수 있으니까 공룡의 하다 스탈이라 어야 아예 위치가 그렇게 올라갔어 옛날에는 뭐 공룡 시조새 에서 내려와 지나 한게 아니라 공룡 중에 하나다 그래서 3는 공룡의 후예 다 틀린 말입니다 왜 기회가 아니라 공룡 중의 하나 공룡이다 여기 있죠 곡명 접해 당당하게 찍힌 아저씨 가 있는 것을 볼 수 있습니까 내려와서 그렇게 끝나는게 아니라 그냥 내가 공룡 이라는 것에 따른 애가 열정이 됐을 뿐이다 5 얘기를 잘 못하고 북한 소리죠 아마 얘기하면서도 무서워 맞는지 틀린지 모르겠어요 내가 아는 상식으로 보수 나는 소리 어서 신청과 봤더니 우리 이정복 자연사박물관 장님이 채널 공유해 후회가 아니라 대멸종 을 이겨낸 공유 그 자체가 봤어 맞는것 같습니다 맞는거 같아 그냥 125 회 1 종료 인거죠 채란 억압 열중해서 꾼이 지치는 이미 열정을 안하고 3 마디로 우습게 보였지만 화석으로 나오면 은 차오루 수가 되는 거야 무슨 3월 20 이렇게 있는거지요 페어 비슷한 많이 비싼 g2 아닙니다요 완전 달라요 아까 되겠지만 얘는 공룡이 아니죠 임명과 이제 다르고 그 옆에 당당하게 동일한 라인으로 눈높이를 같게 너와 내가 친구인 거죠 라고 고발 시작하십시오 아예 비슷하니 이런게 있는 된거라 갈 수 있구요 그러면 우리가 새 시조라고 얘기했더니 시조 3 얘는 뭐냐 얘도 공룡 옆동네 친구 0 0 그애가 날개를 달아서 목공용 이해가 되고 애가 새가 되고 이게 아니라 요즘은 요즘 모르겠습니다 그 바뀌니까 첼시도 아니라 그냥 새는 공룡 이니까 같이 보여 팩터 또 다른 놈이 겠죠 제가 만약에 지금까지 살아 갔으면 은 치킨이 아니라 오리가 될 수도 있고 거의 가 될수도 있고 끝난 게 아닐까 생각이 되는데 또 우리가 흔히 아는 이렇게 생각하는데 옛날에는 공용화 파충류 고기 조세는 어딘가 놈이고 체는 존다 파충류가 어느 순간에 조리가 됐던 캐널 생각을 했는데 이게 아니라는 거죠 알고보니까 옆에 예가 같이 떵 이런 소리를 한다고 그럽니다 점점 어려워지는데 그러면 몽롱 중에 하나가 새라면 언제부터 그랬냐 지금 목 깃털 공룡 을 찾고 그런다는데 화살 에 따라 계속 바뀌는데 2억 4천 만 년에 처음 등장할 때부터 그런 놈이 있었다 얼마 전에 화석을 발견했는데 일어나서 글 발견 할 때요 클린 다 드롭 마우스 잡 아이칼리 쿠스 아이템 더 어렵다 파이트 밀어내 를 발견했는데 1억 7500만원 화석 인데 야애 3 랑 비슷한거 같기도 하고 깃털이 달린 법이랍니다 예 뭐 이렇게 보면 또 약간 3 같기도 하고 요런 놈이 같이 있었다는 거죠 이렇게 봐서 모를 우리는 대화 라고 하니까 별이 복원도 해주셨습니다 오 오 오 이렇게 먹고온 같기도 하고 발전 옆에 같이 있던 공연 그 자체 왔다는 얘기를 하는건데 지금 그래서 기타 1 n 공룡의 해석들이 굉장히 대거 발견됐다 글입니다 3 오은경 이다 물론 계속 이혼의 바뀌니까 어떻게 바뀔지 모르겠지만 공룡 에서 새로 넘어간 게 아니라 공룡과 새의 경계가 무의미 하다 결국 새는 조류 라는건 생존한 조류 형 응용이 달아 소리 하는건데 자 그러면 제가 도 루니아 파충류 냐 애매하죠 집에 파충류 중에 하나가 공룡 3 람에 그 새는 조리 잖아요 그 파충류 냐 좋으냐 이렇게 오류가 라는건 파충류 라는 개념이 굉장히 좀 넓게 이런 어떤 분류학적 이 등장하기 전에 등장한 다르기 때문에 이게 박 충 유도하고 저리 기도하고 뭐 그렇잖아요 기분과 4 있었기 때문에 그래서 지 면 적 개념이 정확하지 않다 라고 얘기를 많이 한다 글입니다 왜냐면 아까 전에 구멍에 따라서 몰랐는데 우리 요즘 현대로 따지면 거북이 파충류 9 대마 고 공룡은 파충류 고 채는 조류 현대 이렇게 났는데 분류학적 으로 이렇게 홀로 안된다는거 조류 하고 파충류 로 그렇게 나눌 수 없다 그래서 요즘에 어 * 어려운 내용이 한데 이걸 서평 뉴 라고 한다 글입니다 아예 예 를 뺀 나머지 둘을 석현이 라고 하자 조리하고 파충류 하고 같이 들어있는 쨈 셈 이라고 하자 아주 그렇게 넘어가자 라고 얘기하고 그래서 이런 얘기한대로 조류가 그런 파충류 하고 어깨를 나란히 주는 옆에 늘 누가 아니라 류 아래에 있는 강 으로 불러야 된다 조강 이다 제가 말 아니구요 제가 바 그 공룡을 세냐 파충류 이냐 그러면은 어 조리 기도하고 파충류 이기도 하고 제가 보니까 입자 기도하고 파동에도 1 비커 같은 존재가 아닌가 그 생각을 합니다 이제 결론적으로 조류 라는 개념 자체가 파충류 하고 옛날에 생긴 개념이 때문에 현대의 부역하고 는 맞지 않아서 이런 얘기가 된다는 거고 까지 결혼을 다 필요없구요 이거죠 닭은 공룡이 낳아 좋습니다 공룡 그 자체 구요 우리는 매일매일 공룡을 얻고 있는 거죠 대불 쪽에 살아남은 그 공룡을 우리는 보고 있다 그래서 앞으로 주 라이브온 같은걸 용어 한 층을 만들 때 아마 진짜 멀지 않은 미래 제가 예언을 하겠읍니다 사람들이 0 을 만들 때 아마 이렇게 등장할 겁니다 아 똑같아요 똑같아 확실합니다 내 확실 악기도 확실히 레 과학적인 증거가 있다니까 과학 쪽으로 공룡 그 자체의 공룡도 자체 그 공연의 조류 우 기도하고 파충류 기 다 그런거죠 어떻게 보면 확충 이란 개념을 적혀 육류 중에서 교육이 보다 이렇게 닭대가리 하고 8 딸이 아니야 무술 0 0 대가리 조 공용 대가리를 하고 등장을 한다 확실합니다 깃털 을 믿고 틀리기 때문에 앞으로 미래 영화는 과학적인 사실을 분명히 그녀는 이렇게 될수있다고 거죠 아야 어렵다 없다 자세한 것은 학생 알아보시고 하세요 아까 공룡 먹었는데 그럴까 공룡 가격 너무 올랐어 아까 얼마 내라고 배달 시키니까 거의 3막은 나와서 3만원 공격한 많이 먹는데 그렇게 비싸 제가 살 수 있습니까 공룡 가격 좀 데려가 줘 공용 갈게요 아니 아무리 멀쩡해서 살아왔다 그래도 한 마리에 3만 원의 뭐야 1만원이 공유 또 크기가 너무 작아 공룡이라면 좀 정치 섬 있고 해야지 애가 좀 크기가 좀 잘 공연 크기를 커질 필요가 있다 커플도 있고 가격이 좀 넓어야 할 필요와 이다 공용 배달 하시는 분들이 고생을 많이 해서 갈비가 놓고 알겠네 그래도 싸다 한끼 3만원이 말이 되냐 어 공룡은 그 권을 보장 해 줘야지 말이야 제가 이전에 이 시리즈 좀 했어요 커플 쏘는 소잉 가 재미있어서 했는데 이거에 대한 그 반응을 보내주시는 분들이 꽤 되셨습니다 이거 자긴 아이디어 있다구 슬라이드 인데 형 그거 말고 이런것도 있다고 승모근 해주시는게 받았고 깨야 계획은 특가 없을 때 있어 타다 퍼티를 꺾기 드니까 아니겟지 당연 약물 깨는 개인가 누굽니까 묽게 이렇게 아니겠지 설마 개가 일어 헤엄 잘 찾고 그러기 거지도 아까 돼서 이거 생겼고 들어가서 헤엄친다 음에 분께 가 개발해 바다표범 뭐 그런 표범의 들어온거 고 바다코끼리 는 코끼리가 돌아온 거야 아니 자 조사를 안 해봤는데 마치 않게 찌 조사 안해 봤어요 에이 설마 발생 기자로 마침 클라이언트의 맞지 않게 찌 그럴 리가 없는 리로 보내온 새로운 아이디어 라고 그 자의 적에는 맞는데 아닐 것 같습니다 이제 아니까 그 깨는 게 아니겠죠 그래서 비슷한 걸로 하나 가져왔습니다 뭐냐 오늘의 주제는 어 외형을 이런거 많이 태어나고 달려있는 댓글도 볼 때 죄송합니다 이런 감안해서 어어 좋습니다 아 그 와중에 뽑은 엄선된 주제 음성 대주제 바다코끼리 는 꼭 뜨린 야 물 깨는 게임이야 뭐 이런 고사 2 에서 뽑은 주제다 자 우리는 주제 될겁니다 반환하는 풀이다 딱풀 같은 풀 말고 잔디 아이템풀 1 은 풀이다 칭찬 컵 처음에 듣고 진짜 글 싸니까 이거 아니 잠깐만 누가 오더라도 바나나는 마무 에서 열리는 데 이게 풀이 냐 헷갈리는 데요 나무의 정의가 여러해살이 식물인 건 당연한데 나무지 우리가 목 지리라 그래서 나머지를 줄기가 있고 형성 치 나이테 형성층 있어 작은 아이가 스스로 나이테가 생기는게 옆으로 굵어 중에서 2차 생장을 하는게 나무의 정의 라고 합니다 그러면 바나나는 꿀이 별매 나머지를 줄기 다 있는데 남은 데 빨고 저도 생각을 했는데 아니래요 왜 바나나에 있는 몸통은 목질 줄기가 아니다 이게 몸통이 아니라 하더라구요 가짜 주 6일 합니다 ep 다 아니 누가 보더라도 이게 피고 이게 즉 인데 어떻게 그러냐 그런 저같은 생각을 하는 사람들 때문에 그 그래픽을 갖고 했는데요 반하다 나무줄기 크게 대판 큰 입니다 풀리 플립 10만 배 버전 역의 클립을 키운 건데 * 안되냐 같은 펠트 아아 이렇게 세우면 나무 그저 이걸 이렇게 보여 드린 거죠 이게 이 버전 이라는 거죠 아예 그래서 풀이다 봐라 우리가 나무라고 줄기 라고 생각했던게 사실은 이 하나가 대빵 큰 입니다 이렇게 풀 잎 보면 2가 나오는 그 거라는 거죠 죽이려 할 때 몸통을 짠 나오면 풀잎처럼 되어있다고 합니다 팔기도 하더라구요 바나나 몸통 뇌파의 모르게 대해서 앞으로 받아 본토를 볼 때마다 그 대 8i 똑같은거 다 100 파이를 키운 큼직한 에바 처럼 커지는 흐리다 라고 보시면 되구요 받아줄게 어디냐 극 ap 라면 뿌리의 잡풀 더 그렇죠 2기는 뿌리는 거에요 바나 뿌리가 이렇게 땅속에 있기 때문에 이거는 그 뜻이 아닙니다 그 치약이 한마디로 정리해 보면 은 반항하는 나무가 아니다 큰 풀이 답이 클렌즈 다 타이 컴퓨터 생각하면 되고 자 그럼 이쯤에서 또 드는 궁금증이 있습니다 누리 받아 나무라 그래서 잘 못 부른다고 하구요 건반 1 라무 에서 난 바나나는 과일인 야채 소냐 다나가 풀입니다 나무가 아니래요 컴파일이 야채 쓰자 아 열었습니다 요 도시로 말 드리는데요 아 이거 쉽지 않아요 50자 가요 화단 관리 대할 채소 재야 잘 생각을 해보면 나무에서 나는 게 아니니까 최 송과 딸기 같은 경우에 과일이나 채소 냐 한국에선 채소 줘 수박은 과일이나 채소 냐 참에 채소라고 합니다 아 그렇지 스마트 최소 없구나 그렇다고 하는데 하지만 바나나는 과일입니다 우리나라 분류상 사람 있어 큰 법 피부 그렇다고 합니다 왜 오세요 오세요 2분류 하는게 사실 무다 사회적 불려 가깝다고 합니다 뭐를 과일 팔찌 볼 재수할 판단하는 과일이다 관한 아 무슨 복과 라고 해서 id 라고 하던데 이쯤에서 참고적으로 알고 지나갈 것은 딸기 은 이것 저것 이번에 알았어요 딸기 표면에 있는 요건은 씨가 아니다 그럼 뭐냐 요기 있는 요게 딸기의 열매다 그래요 이얼 매야 미국 뭔데 이거는 꼭 바칩니다 아 예 유 수많은 10배나 글입니다 우측 한건 아닌데 아 이거 보면서 충족 먹었는데 할짝 그렇다고 하구요 하이트 그래서 결론적으로 하나로 돌아오면 흐리기 때문에 한 번 열리면 푸른 쭉 쩝 물론 열애 사례 살게 향은 조금 달리 가는데 푸른 죽고 바나나도 꽃이 있다 그럽니다 이렇게 이렇게 파악 못하고 똑같다 그래요 물론 가나 q 요것을 자른다 그랬는데 반응하는 풀이다 보니까 무성 생식을 하지 무슨 소리냐 면 뿌리가 옆으로 잘 하는 딸 게 처럼 뿌리가 옆으로 해서 거기서 새로운 바나나가 올라오기 때문에 도 여부를 키우지 여기서 여러분이 먹는 모든 바나나의 유전 형질이 동일하거나 문명화 절과 안할 정지 리 동 이라고 적어 때문에 인터넷에서 한테 크게 떡밥으로 돌았던 게 유전 형질이 모두 동일한 걸 쓰니까 특정 바이러스 약하다 서 멸종할 수 있다 그래서 널리 퍼지면 이게 엄청난 더불어 한동안 인터넷을 실었습니다 우리 제반 하나 못 먹는다 특정 질병에 취약하다 옛날에 한번 그랬다 옛날에 무슨 뭐 바나나 가 그로밋 실 용 이라는 게 우스운 이었는데 어떤 병이 걸려서 이게 없어지고 새로운 종이 됐다 드문데 이 새로운 정도 또다시 대멸종 을 할 수 있다 저 새로운 바이러스 때문에 라고 하는 썰이 있다 그런데 그럴 수 있다 그런데 물어보니까 대 세종에서 물러날 수 있는데 병이 많이 퍼지면 바나나 품종은 많대요 다 한 척이 아니랍니다 천조 의상이 있는데 그럼 오한 정말 키우는 것 같던데 아 그거는 바나나가 우리가 열심히 그 6종을 하다보니까 씨가 거의 없잖아 씨가 거의 없어서 6종이 그렇게 힘들게 요 많이 00 했는데 뭐 만개 중에 한 아가씨가 있는 놈이 있다 그럽니다 그렇지 받아요 쉬 먹다보면 1만개 발아래 중에 하나는 씨가 이때 씨의 있는 반응한 못 봤는데 1만개를 없다 보면 그렇답니다 에서 그것들을 잘 모아서 욕정을 하는데 너무 어려워서 그렇고 그 아이의 곰팡이에 강한 바나나를 요즘에 유전자 기지를 발달돼 서 잊은 나를 변형해서 만들 수 있다요 물론 그러면 안 팔리게 쫓아 는 이쯤에서 두 채가 도착 딴 얘기 나들이 텐데 좀 받나요 이 전자 오리진 얘기하다 보니까 갑자기 이 생각에 하더라구요 우리가 먹는 닭은 일부 토종 딱 을 제외하면 99% 모두 사실상 수입사 님 이게 무슨 말이냐면 닭은 우리나라에서 크거든요 병아리 에서부터 커서 얘가 또 새끼라고 q 하지만 모두 수입사 입니다 왜 타게 오리진 뺀 위에 있는 수녀를 개의 통해 닭은 우리나라의 없대요 아 아 또 이번에 알았어 우리나라에는 순 개 라고 불리는 b5 라인 닭이 없답니다 순열 닭이 없어요 뭐 아니냐 요순 10 당인 외국인들 갖고 있고 이 중에서 애들이 판 원종 해라고 다음 버전의 닭만 있다고요 우리나라의 나를 본 시켜서 맨 마지막에 우리가 먹는 닭 을 만들수 있냐 이게 없어요 왜냐 룻은 10개가 없기 때문에 얘 내가 준 걸로 한번 키워서 받아 먹고 얘 내가 닭을 2 때까지 맨유 있는 조언 정리를 키 때까지 닭을 뭐 키운다 글입니다 오리 우리가 먹는 작은 여러분 약하긴 드디어 순열 개통 액 숨게 라고 생각을 한테 그게 아니라 a 와 b 와 c 와 g 가 섞여있는 잡종 닭을 우리는 먹는거 다시금 치킨 먹을때 잡종 닭 이라는 겁니다 그러면 좀 순열 a b c d 가 섞여서 우리가 먹는 타게 된다는 건데 abc 뒤에 닭이 우리나라의 없다는 거죠 아 이거 수입해서 한번 되지 않냐 외국 6종 회사들이 순종 계 적 a 와 b 와 c 와 d 를 안 판답니다 아이 독한 놈 듯이 더 들어오는 거 있잖아 그 들어오는 것은 이걸 잘 보시면 이 되게 얍삽하게 얘들이 하는데 a 에서는 특허만 주고요 b 에서는 암 컵만 a 암수를 동시에 안 준다던데 자기들끼리 요걸 해서 에 이순기 를 만들까 봐 여기서 외국이 줘 외국 이고 여기는 대한민국 이하면 줄 때는 a 에서는 수타 비해서 남 탓만 주는것도 우리나라는 만들면 a 와 b 에 헌혈 혼혈이 하게 되나 잡종 밖에 없는 거죠 아 그래서 아 저기에 그렇게 어렵다고 해요 적어 이렇게 만들면 되지 않아 이런 소리 하면 싸대기를 만난다 글입니다 순 개를 만들기 어렵다 외국에서 져 숭 게 싶다는 유출이 검지 돼 있고 지금 아비 아쟁 코트 하바 3개사가 전세계 시장의 95% 를 갖고 있다고 합니다 우리나라 없다는 거고 물론 저수 무기를 수입한 아까 지원 종교라고 우리 두 번째 라인 닭을 갖고 와서 생산을 하는거죠 뭐 하림 4 마창 국의 이런 내가 갖고 와서 교회를 시키면 잡종이 우리가 먹는 게 된다 결론적으로 보면 우리가 먹는 치킨은 한 번도 못해본 다 흔들어 본다 g 죽는 거예요 얜 해에 자손은 없어요 먹고 끝납니다 한번도 못해본 닭 이고 뭐고 끝난다는 게 무슨 소리냐 내려 왔죠 실험 개까지 우리가 먹어요 그러면 내 자손을 또 우리의 키워서 먹는게 아니라 다시 은혜를 받아야 돼 한번 싸이클을 끝나서 얘를 먹으면 얘네가 그 외국인은 그 회사들이 이순기 새끼들 의원 종괴를 줘야 앤 애를 또 교회에서 우리가 뭐 님의 자손들을 먹는게 얘네들이 안주면 우리나라 치킨 개가 작살나는 겁니다 뭐 바머 얘네가 주면에 키워 먹고 내가 주면 키우고 거의 수입사의 자만을 쉽사리 라고 할 수 있고 그래서 이런 저가 책이 무식한 생각하시는 분이 있을 거에요 아니 순결을 원종 게 데려와서 새끼 낳고 우리가 이렇게 잘 이전 관리해서 숨 개를 만들면 되는 거 아니냐 말처럼 쉽지 않다 그럽니다 잡종 이기 때문에 10석 인자들의 계속 나오고 해서 순결을 만들기가 그렇게 어렵다 그래서 우리가 간다 c 수입을 한다 우리가 먹는 타기에 후손은 없다 전부다 일회성 잡종 자다 라는 쓸데없는 얘기 오예 파이트 바다로 다시 돌아 봅시다 바나나의 잎은 그러면 크기가 최대 심 5m 까지 사람이 엄청나게 크죠 가서 보시면 그러면 이런 생각이 들 조 반환하는 세계에서 가장 큰 프링 가 15m 짜리 잔디 내심 5m 요 우리 잔디밭을 이걸로 집으면 어마어마 잔디밭이 되는 건데 이게 또 아니랍니다 아까운 경쟁자가 있고요 세계에서 가장 큰 풀의 숟가락을 내놓는 정말 아까운 경쟁자 어 또 놀랬는데 대나물 합니다 터 예 야 겠 어 뭔가 이자 이름 누가 줬어 재단 풀 했는데 대나무로 붙여서 이 최대크기 사시미 타요 미친듯한 컴프리 줘 어마어마한데 풀이 대대 풀 최대의 큰 풀기에 가장 막강한 경쟁자가 대남 은 이미 되겠습니다 아이 대남문 자 잠깐만 힘이나 묻는데 이름이 나무지만 대나무를 잘라 보면 당연히 라이트 없죠 나이트 없고요 프로 큰 형성층 이 없죠 목질 안에 없죠 까 이게 풀이 랍니다 그 이름을 잘못 쳤어 대나무가 아니라 캠프 앓지 아주가 어두 텔 풀이 40m 짜리 풀이 어딨어 여러분 잔디 앞에 그 마당에 심을 때 내가 풀 사와 잘못 말하면 대나무 사와 심는 사람이 있을 수 있습니다 40m 차리자 비판 색감의 야우리 잘때 장난 아닌데 뭐 이렇게 얘기할 수 있는데 때 푸린 데 대나무는 그럼 이과가 어떻게 되냐 벼 보리 사탕수수 등과 같은 벽과 다 아까 촘 큰 펴 적 여러분이 그 가서 보면 벼 있잖아요 사탕수수 이렇게 1일 미처 그 밖에 앉아 나는데 이게 한 40m 잘하면 대단 보입니다 좀 큰 핫 즉 벼가 많이 큰데 많이 크긴 하지만 뭐 그렇다고 하구요 우리가 한자 성어 에 많이 보는 오후 육순 비온뒤에 죽순 외 우후죽순 아냐 나무는 우후죽순 안하죠 남은 큰 엄청 오래 걸리니까 나무가 아니라 커리어 서비 먹는 잔디밭 제목 그렇게 잡초 많이 자라 줘 똑같이 의 변이 까 비바 오면 뭐 별 처럼 줄줄이 올라 온다는 거고 나무 다 보니까 아까 전에 바나나와 똑같이 풀이 번식을 합니다 그래서 이것도 유명하죠 주변이 프리로 옆에가 줄기가 사실 뿌리로 가는 거잖아 이 풀이 니까 주변의 많은 대담 부제는 사실은 한 개체 일까지 높다 여러분들이 가서 대나무 잎을 보면 y 넘은 어떻고 전함으로 토크를 얘기하면 왼손과 오른손을 비교하는 걸 수 있습니다 야 이 나무는 좀 먹어 어떤 끝나면 덮고 그럼 이건 왼손 손가락 이고 둘째 손가락 3종 깔아 일제 손가락 제정 카 대부분 이렇다 요 대부분 라 아래는 사실은 뿌리가 같기 때문에 아직 한 개 칠까 쓰면 굉장히 만다라는 거구요 자 그러면 이쯤에서 사실 끝내야 되는데 어 죄송합니다 이런 걸로 보여 드려서 해외에 이제 가죠 여름에 여러분들 해외에 갈 때를 제가 미리 여러분들 여자친구는 안 돼 친구한테 가서 있어보이게 하는 스쿼드를 보는데 그래도 좀 지적 해야될까 뒤쪽에 그 이런 얘기를 하기 위해 미리 짐을 드리겠습니다 분위기 잡고 멀티 한잔 마시면서 따져야 자수를 찾아보면서 내가 말이야 이런 얘기하면 되는거 이때야 자손은 종류와 나무의 야자나무 깔아 글입니다 나무 잖아요 근데 이제 아저씨를 보면서 어찌 얘기라는 걸 또 야자수가 나무 라고 생각해 니 다 일어서 앞서서 생각만 해도 멋진데 아 그거는 나머지만 나무가 아니야 아저씨가 몰드 바닥 마시면서 그건 나머지만 나무가 아냐 딱 한 마디 하면 있어 보이는 거죠 어 우리 자기 밖의 나무 대나무 거 아냐 다음은 내 나무가 아닙니다 아무 까지만 나무 나빠 되겠지만 이렇게 it 가 있죠 상상적인 라이트가 있는데 야자수를 짤라 오면은 이게 풀 때 하고 똑같아요 근데 왜 타이트 가 없어요 저 짤라 동거를 가 보았는데 이렇게 됐어요 그냥 통짜로 통짜 나무는 이렇게 이렇게 이렇게 이렇게 이렇게 생기죠 통짜 이기 때문에 딱 그 뭐지 번째 마시면서 야 어 저거 봐 저와 전부 크다 야차 풀 큰거 가 이러면 있는거예요 그게 맞는거죠 풍 큰거 바 그러면은 뭐야 신과 무식하다 3 퍼주고 지마 하다 왜 최신 흐 정보를 좀 알아보라고 최신정보를 펌이 앞으로를 북항 거죠 엄청 큼 풀 커 2편 다시 타프 입니다 농담이 아니라 진짜 시점이 풀입니다 엄청큰 풀이다 아따 쿵 크죠 풀 좀 깎아 짧은 털을 깎을 수 있어요 그그 마당 정념 서품 정리해 그럼 더 전개 나갈 수 있기 때문에 홈 더 컴프 를 보여 드리면 만약에 가서 해변에 갔는데 이런게 있다던데 그러면 진짜 그물 진짜 금품 4 진짜 뭐 하 진짜 그죠 짱 컴프리 짱 큼 블리 오프리 개풀 와 뭐 어마무시한 드 자 이게 잔디 일 수도 있나 제가 얘기하면서도 제가 틀릴 까봐 걱정이 됩니다 솔직히 게 꾸릴 수도 있구나 그렇다고 합니다 그렇다고 하니까 뭐 그런 값 쪽으로 하는거고 점보 이런거 세계에서 가장 큰 처 전화 문자 떨어지면 이렇게 떨어지지 않아요 이렇게 엄청나게 떨어지는데 풀 식후 심리 다크 c * 시하고 다르게 없는 풀씨 하심 한 대형 때 한거고 저런 식물들도 어렸을 때를 보면 전부 약하다 그래요 걔들이 어렸을 때 몸의 이렇게 풀처럼 떡잎 으로 나오죠 방문 일상 동력으로 나오는데 얘들은 떡잎 으로 나오기 때문에 어렸을 때는 거의 똑같은데 크면 은 너무 크게 자라서 적당히 해야지 얘도 좀 이런 풀이 된다는 거죠 이쯤에서 사실은 또 끝내야 되는데 조사할 이익의 있습니다 약간 일단 얘기인데 세계에서 가장 오래된 4 뭐가 있어요 무두 셀라 라고 부른다고 합니다 나이가 4851 사이라고 하는데 물론 더 오래된 나무도 뭐 북극 어디 있다고 하는데 대충 미국에서는 여기에 4850 일상이 가장 오래된 나무의 근데 참고로 옆에 있는 나무가 더 오랜 데몬의 하고 있지만 아직은 공인은 2등 가까이 때 갔다오고 있는데 모두 셀라 라는 나오는데 여러분들이 무드셀라 라고 보는 이 나무가 사실은 무드셀라 가 아닐 수도 가 있습니다 무슨 소리냐 훼손을 막기 위해서 좀 무드셀라 라고 부른 첫 나무의 4천 8백 년 된 분의 위치와 사진을 비공개로 해놓았어요 맨첨에 오리지날 사진 말고 다른 사진들은 근처 옆에 있는 비슷한 강 털 선하고 도감 모선 안 그랬는데 털이 비축한 그런 소 암호를 비슷한 놈을 찍은 거예요 그 어느 놈이 진짜인지 고 오리진 사진 빼면 은 다 아닐 수도 있어요 훼손을 막기 위해서 왜 이렇게 됐냐 이유가 있습니다 이유가 훼손을 한 놈이 있어서 이렇게 됐냐 그렇죠 이것을 화성 한 번 있어요 세상 밑이나 힘은 테 뭐 어떤 유명한 얘기입니다 세계에서 가장 오래된 저 나무에는 가서 이 나무를 개업 어린놈이 있어요 나오죠 더 올 디스 트리가 이렇게 된거 밑쪽 만남은 사건이 있는데 사건이 왜 그렇게 됐냐 어느날 커리 라는 사람이 은 트리의 꽂아서 조사하는 걸 남을 꽂고 있었는데 이게 들어가더니 안나와 꼈어 스토어 캐서 컨 옷이랑 네 끼 어스 아무리 때려도 안 나와 그러면 거 버려야지 애가 안 버리고 그게 아까워서 공원 파크 레인 지한테 꼽은 관리 한테 가서 즉 그 너무 짧아서 되요 1시간 이거 - 위해서야 그 나무 좀 잘라서 뺌 안되겠습니까 라고 요청을 했답니다 티파 크레인 적어도 위의 물어봤죠 않고 누가 뭐 했다는데 이 거담 짜라 올까요 다음의 자료는 해 저는 할 수 있잖아 쓰고 따온 했는데 컸다 온 하고 와서 사이트를 3 보니까 5000 5000 개가 안갔어 이렇게 무드셀라 보다 오래 대나무 였어요 잘라 보니까 발견된 나무 좀 가장 오래된 나무가 운명 햇죠 그가 맡겼다가 가셨습니다 저 극적인 사건이 1960년대 벌어졌는데 그 나무가 제가 짤라 버린 나무의 이름을 나직이 졌어요 프로메테우스 우리 에일리언 시리즈의 나오는 창조자 란 뜻이 첩 프로메테우스 트리가 됐고 지금 어떻게 되셨나요 당년 4862 3의 테이블이 되셨습니다 박물관의 있어요 아 사실 그렇게 힘드실 참드 실제 기 온전히 1898년에 탄생을 하셨고 기원은 1964년에 캠프 테스트 가슴 아프죠 정말 가슴 아프게 4862 원의 그 무슨 무슨 꼴 온지 포린 지를 잘못되었다 가 인간 한번 잘못 받았다가 저렇게 됐는데 참고로 요 잘 먹긴 그분이 이름이 동안 로 커리 인데요 대화한 생물로 알려져 있어요 개 학원생 잘못 만났다 가 저기에 그냥 갔는데 그래서 보면은 교수님이 아웃 데이즈드 그대 노 아마 험난한 대학원 생활 예상됩니다 박사과정까지 반드시 잘 모르겠는데 아웃레이지 도 했고 그 커뮤니티 사이언티픽 컵 lg 화학 개가 들고 일어나서 저런저런 제천 해 라고 손가락질을 했기 때문에 아마 헌 단 했을 거에요 생물 학계에서는 험난한 인물이 3 자슥아 총 60명 대기 지금 가보면 은 기댔다 글입니다 프로메테우스의 반만년 인생 대학원생이 잘 없는것 같아 통쾌하게 나서 헤드 짤라 들 때 잘라야 그거 커스 * 거기만 잘 파지 반반 연인 세미 이렇게 이렇게 됐다 지금 가시면 이거 사진은 많이 있습니다 이거 사진 많이 있지만 내가 하시는 인류가 발견한 공식적으로 9개 있는 뭐 그런 빼고 공식적으로 예인데 이렇게 됐습니다 dp 때문에 쓸데없는 얘기를 해야 될 텐데 아 난 이런 얘기 할 때 긴장이 됩니다 저도 왜냐하면 잘 모르는 얘기 때문에 어떤 얘기냐 이것을 그대로 써도 되는지 약간 헷갈리는 것이 잠자리 여 파리의 기로를 잠깐 할 거예요 잘까 있습니다 어느 분이 더 고등 이란 표현이 많아 한다 잘 모르겠어요 를 써도 되는지 알 때 어느 분이 더 그 진화적으로 좀 고등 하신 분 인가에 대한 잠깐 15 년과 재미있는 아이스브레이킹 하는 시간으로 가도록 하겠어요 잠자리와 파리 어느분이 도 고등 하신가요 아이를 먹는데 또 봅시다 왜냐하면 제가 최근에 충격을 받은 내용 있었거든 깜짝 놀랬어요 언 덱 이야기인데 건데 이 뻔데기 해라 번데기 애벌레 가져 안에 들어가서 번데기가 된 다음에 성충이 됩니다 예를 들면 지로의 같이 생긴 앱을 내가 좀 많이 있죠 옛날에 저로써 금하여 배추흰나비 애벌레 뭐 이런거 있잖아요 내가 번데기가 된 다음에 아비가 돼요 저는 찰 어떻게 생각해 냐 면 지체를 이 생각했어요 차안에서 언덕이 안해서 이거 아닌가 애벌레가 6번째 계시를 감싸줘요 감은 다음에 날게 생기고 으 더듬이 생기고 다리 쭉 시켜서 탁탁 털고 나와서 날라가게 됩니다 라고 생각을 했어요 엄청 무식한 생각이었죠 탁 6세가 이삐 게 아니더라고 이 게 아니었어요 아 이게 아닌게 정말 충격을 받았는데 검색이 안에서는 그러면 이거 무슨 일이 일어난 거냐고 달게 생기고 자리 생기고 보 껍질 생기고 눈 생기고 에서 다 가는거 아닌가 그게 아니랍니다 이것을 연구와 하시는 분들이 있죠 건데 하루마다 하나씩 잘라 보면서 아내 모여있다 이게 잘 나오면서 연구회 신 분들이 있는데 연구결과 저는 뭐가 되냐 에 벌레 가 번 대의 안에 들어가면 다 녹아 버리고 새로 만들어진다 이게 무슨 말이냐면 아까전 애벌레 있잖아 예 애가 번데기 안에 들어가면 단어가 버린 녹아서 액체로 가득 찬 본드 야 그 다음에 처음부터 다시 창조가 된다는 거 참 괴롭혀요 다시 긴다는 건데 앉아 밥맛 전략 뭐라구요 녹아 버린다 고 애벌레는 번 데이 안에 녹아서 액체 처럼 거룩해 집니다 애벌레는 번데기가 되면 소아 요소를 방출 해서 모든 생체 조직이 용해가 되서 걸쭉한 액체를 바 나 고 2때 특정한 3 폭으로 이매진 얼 우리나라 편성 청일 펼치던 데 id 라 하겠습니다 아이들아 는 조직만 살아남고 나머지는 정부 이렇게 배치가 되는 거죠 즉 건축 건축 처럼 되어 있는데 이 세포를 바탕으로 처음부터 마치 우리가 태아가 요 많아 세포 시작해 뜻이 다시 생각이 된다 그런데 어 에서 안에 있던게 날개가 생기고 뭐 눈이 생기고 그게 아니라 애벌레 수프가 된 다음에 여기서 다시한번 성충이 되는 겁니다 처음에 번들을 잘라보면 액체 크게 나온다고 아직도 못 믿겠는데 아직도 아직도 솔직히 안 믿겨 요 이게 진짜 맛있긴 한데 그렇대요 펀데이 안에서 완전히 녹은 다음에 어떡하지 말 id 성 첨 기아 봉고 세포들이 짝 정렬 되는데요 아 정리된 다음에 그 안에 녹아있는 그런 체 이를 바탕으로 새로운 몸을 만든다는 건데 이걸 을 그래픽으로 표현 하면 이렇게 됩니다 와 아 이 빨게 부스 이 값은 로버트 달 저해 녹은 남의 저 기초적인 저쪽 만 세포 판이나 벽이나 요 세포들이 하나하나가 주변에 있는 고 영양소를 빨아들이면서 완전히 새로 조립식 만들듯이 만들어서 따 다 다 다 다 다 다 다 다 2 사도 붙여서 위 빨간 테퍼 y 진짠가 첨엔 진짜 믿기지가 않았어요 저게 놓아서 완전 이적이 수프 처럼 되신다고 이러면 다 이 같은 경우도 한 점에서 이렇게 모인 다음에 이게 녹색은 일로 가고 파란색은 일로 가고 주황색은 길로 가고 까만색은 인류가 오 이런 식으로 완전히 새로 만들어 준다고 하는데 이것을 여러분들 많이 배웠죠 사실 용어 자체는 베타 버퍼 시스 어서 많이 썼던 단어 에요 그래서 마트 변 개편 테고 축에 변태가 그렇게 완전 멘트 하는데 거의 완전한 단백질 액체 덩어리에서 달라 다니는 이런 팔이나 낳아 박무 이런걸로 12 신규 2주만에 제작이 완료된다 정말 엄청난 성능 일이지 엄청난 성능 엄청 능을 가진 오 정말 슈퍼 공작은 슈퍼 팩토리 가 본 층의 2 베타 벗이 쓰 변태가 되겠습니다 그런데 아니구요 자 그럼 베타 했는데 그 자체가 꿈 알아보니까 변태 가정이 에너지 소모가 엄청나게 그대 어렵겠죠 그거 다 푸셔 갖고 처음부터 다시 만든다는 건데 신랑이 48 대학가 감싸주는 게 어려운 작업 이어서 얘 내가 그렇게 열심히 먹고 애벌레가 통통 하잖아요 빵빵합니다 보면 만들며 통통한게 성충으로 완전히 배타고 퍼시 싹이 위한 변태야 기간 에너지와 단백질을 축적하는 것 그걸 통해서 나를 완전히 녹인 다음에 새로운 성충이 되는 건데 그러면 이런 생각도 하 죠 어떤 여 소 또 어떤 호르몬 어떤 id 가 어디에 작용 하는 건가 이거에 대해서 저희 옛날에 컴퓨터에 많이 봤던 실험 인데 정말 유명한 실험이 있습니다 손님들도 많이 보셨을 거에요 컴퓨터에 많이 돌아가셨어요 이거 건 되게 잘라 놓으시오 나박 먼저 인데 왼쪽은 그냥 번득이고 오른쪽은 반으로 잘랐어요 그리고 중간에 있는 것은 반으로 자른 다음에 체에 이동할 수 있도록 세포가 이동할 수 있도록 플라스틱 관을 고 봤어요 이런게 왜 되냐 됩니다 왜 이하늬 액체에 그 뭐 아까 전에 무슨 보 원격 온도 id 이미지 널 디스크 들이 이런 되어있는거 이렇게 나머지에 제일 외질 뺏고 누굴까요 오른쪽에 있는 것은 세포가 몰 지나도록 플라스크 아니 연결했는데 구술로 막았다고 합니다 자 이렇게 됐을 때 어떻게 됐냐 이 결과가 당연히 왼쪽 아무 것도 아는 것은 나방이 됐구요 반으로 짧은거 너무 재료 니까 위에만 위 만나게 됐고 이 중간에 연결시켜 온건한 회의가 다됐다 2 계층 격이죠 이 중간에 저걸 연결시켜 근거는 아래위가 각각 나방이 됐다 2주만에 막아 논거는 함대를 실패했다는 건데 이 짤이 돌아다니는 것은 가장 충격적이었던 것은 반으로 연결 될 거 리 플라스틱 관 우리 연결했던 다방이 짜잔 난 나방 됐다고 생각하고 날라 오르다가 이게 끊겨서 죽었다는 게 있어요 이슈를 엮음 씨카 장면이긴 한데 할지 그렇다고 하고 생각을 해보면 만약에 우리 신체가 완전히 4 녹았다가 어떤 고런 조금만 몇몇의 품안 살아 남은 상태에서 다시 재창조 되면 그게 나은가 태그 비앙카 어 만점인 없는거잖아요 근데 뭐 3 같은데 소화해서 때문에 위 산에 들어가서 완전히 높고 몇몇의 푸마 있는거죠 우리 춤의 는 줄기세포 라고 해야하나 그럼 몇몇 세포 만남은 다음에 다시 만들었어요 다시 꺼져 고기 고체 들어 주로 있다 다시 만들었으면 그건 새로운 개체 냐 그게 나냐 내가 나 라는 게 기억이 나냐고 이런 생각을 하잖아요 곤충 한테 물어 볼 수가 없는데 이걸 싫어하는 사람이 있습니다 무슨 실험을 했냐 애벌레는 나 박을 애벌레를 방에 관속에 넣었어요 이렇게 2개가 연결된 방 해뒀는데 한방은 물이 있고 이쪽 빵은 냄새가 강한 에틸 아세테이트 않은 냄새가 강가를 갇혀 왔어요 재 벌레가 꿈 초 꿈들 되다가 일러 오면 여기서 전기충격 우려서 빠바 깜짝 놀래 줘 이세일 아놔 애벌레들이 전기충격을 주니까 냄새만 나면 정 그 친구의 일로 안하고 물에만 애벌레들이 있더라 이에 벌레들이 아직 변태 해서 성채가 됐어요 나방이 성체가 된 다음에 이 냄새가 나는 nt 라세티 들을 래핑 기억을 가져야 한다 라고 판단을 한다는 거죠 아 물론 저어 없이 않습니다 나한테 물어보지 나와서 니가 니가 그래서 그걸 피하는 건가 라고 물어보지 알기 때문에 이 정확치 않지만 애벌레 쪽 어떤 경험 이건 본능 인지 경험이 반사 작용 인지 언제고 이제 그걸 가져가서 나중에 성취가 되는 데도 해피 하더라 이것 때문에 몸 전체가 녹았다가 재창조 드렸지만 같은 개체 같은 기억을 가져온 내가 아니냐 라는 생각을 아니 한다는 거죠 그런데 이 실험 때문에 이런 얘기들이 사실 있었어요 우리가 너희를 정확히 모르니까 도대체 기억이라는 것은 어떻게 우리 되는거 제 다 녹은 남에게 세포 몇개 다 봤는데 저 우 지내면 우리도 혹시 우리도 그런 것만 남겼을 때 믿을 수 있는가 라는 생각을 많이 한다는 건데 아직 결론이 안 나죠 아무도 모르기 때문에 그리고 아기 실험의 너무 많은데 얘들 결별 잔인한 실험을 다 했어요 왜냐하면 신기 하잖아 예림 이런 실험 가까 전해 그 디스크 이미지 날 스크 라는걸 아이디를 짤라서 이식을 해 봐 예를 들면 뭐 그런 많은 디스크 들이 아까전에 그림을 보면 이렇게 된 다음에 요 이렇게 그러면 얘가 한 부분이고 애가 무빙 이런거 궁금 하잖아 이름을 짤라서 딴데 이식을 해 보는거 혹시 2개나 예 그런 실험을 많이 했어요 5 그렇게 다리야 음주 짤라서 붙이면 다리가 더 생기다 머리가 두개 대나무 이런 잔인무도한 생각들을 많이 해서 실제로 이런 실험들을 합니다 데미지를 준 다음에 재생 실험이라고 재생이 어떻게 되냐 재생을 어디까지 시키냐 뭐 이런 시험들을 많이 했는데 일드 미건 지금 보니까 알기 줘 빨기 버거를 짤라서 이식을 하니까 날개가 하나 더 생각 해 줘야 하니까 얼른 보트들이 있더라구요 아 아 어디까지 재생을 하냐 심지어 고 전화기를 하나 더 작아 본다면 붙이면 지날 기회가 된 야 뭐 이런것들 하고 있는데 이런 실험들을 많이 합니다 알겠고 중에 특징 1 하니까 이걸 우리가 교회 컷에서 배우기는 완전 변태 정말 전 테죠 정말 정말 형태죠 컴플리트 한 그 메타보 시 쓰 펀드에 들어온 곤충 있으면 완전히 변태다 라고 생각하시면 됩니다 언덕 이렇게 해서 완전히 바뀐 완전 배 타러 갈 수 있고 생각을 해보면 대부분 들어있는거 아닌거 대북 완전 변태 라고 생각하지만 아니에요 완전 매트를 안하는게 개수는 아니지만 종류 훨씬 많아 예를 들면 매미 완전 멘트를 합니까 합니까 매미가 번 데이가 있습니까 스피카 이게 좀 있으면 여름에 이제 귀여워요 여러분들 가루 3 보면 뭔가 많이 붙어 이 많이 볼 날이 멀지 않습니다 뭐가 9층 다음에 지금 짝짝 열림 우선 여기서 이제 매미가 나오잖아요 이렇게 그 다음에 껍데기 많이 붙어 있자 아침에 보면 이게 번데기 아니냐 이것을 번데기 라 그러면은 좀 써 볼 수 있어요 연식은 안 가는데 호머가 저 매미 번데기 붙어 있어 그 뭐 참 컬 들을 봐야지 적어 내야 번데기가 아니야 왜냐 문제는 완전한 변태가 아니기 때문에 불완전 변태를 하기 때문에 저건 번째 기서 없는 과정이 대부분의 절지 동물 들이 몇몇 종류의 빼고는 번 짜면 잘 안난다 머금었다 척의 번데기가 아니고 뭐야 그럼 여러분들 뭐라 그래요 그건 허물이 다 너의 허물을 내가 4 아는건 아니고 이것은 번데기가 아니라 건물 건물 하나하나 보시면서 그 다음 장에 그다음 땅에 가는 거죠 매미는 던지지 없어 아 라고 얘기를 하면 갑자기 부모 역시 우려 바치고 애도 사이가 좋아지면서 분위가 화 해 지구 얍 합작이 그저 있어보이고 약간 기종들이 지적으로 보이고 이런 효과가 있기 때문에 쑤 료마 1 텐트가 될 수 있구요 즉 헷갈리면 안됩니다 이건 d 가 있어요 라고 했을 때 번데기 아니고 허물을 벗고 있는거고 이런거에 특징은 보다 완전히 녹은 다음에 새로운 게 되는게 아니잖아요 그래서 대부분 다 그렇지 않은데 닮았음 태민이 비슷해 여기서 나오니까 비슷하겠지 가지가 껍질 어선 비슷하죠 그 것일까 그 가지인데 내가 거침없고 다 오늘은 비슷해 4 약간의 요번 되겠네 들어가서 완전 면 테란 애들은 어떻게 된다 환골탈태 에서 나오죠 전혀 다르게 생긴 애가 나와 기억하는지 루이가 들어가더니 날개가 달린 나비가 나온 다든지 뭐 이런애들 완전히 변태인 놈들이 고 그게 아니라 일해 주신 불완전 왜 여기서 많은 경우에 뭐 서식장소 비슷하고 먹는 부터 비슷하고 그렇다고 합니다 다 그런건 아니지만 왜냐면은 껍질만 벗고 나온 거기 때문에 아 수료한 걸 배우고 있어요 완전히 변태인 놈들은 정말 상태이기 때문에 전혀 안 담았죠 식성도 달라 얘는 뭐 짜고 그러잖아요 참고로 여러분들이 않은 것들이 대부분 불완전 변태 경우가 많습니다 예를 들면 잠자리 잠자리 번데기 딴 약하지만 되요 이거 보고 물속에 있는 내가 나온 다음에 덮고 나오는데 요건 비슷하게 생긴 애가 나오죠 허물 허물을 또 메뚜기 메뚜기 이벤트 같은 경우도 과학 씨가 아니네 애벌레 이렇게 생겼지만 허물 벗고 나오면 은 괴뢰메 뛰게 됩니다 아서 불완전 데려갈 수 있고 참고로 대부분의 절제 동물들이 불완전 배틀 하는데 인 3억년 전 위 엮는 전 이럴 때 그 중에 어떤 놈들이 번데기가 되기 시작했고 그 중에 어떤 놈들은 이렇게 굿은 모노 필수 조에 야 뭐 이런거 를 거쳐서 거쳐서 세우 가 되거나 개 가져다가 까면 그렇죠 아깝 요럴땐 요렇게 생겼잖아요 어느 순간 이렇게 달라졌다 그래서 누가 그 못에 후에도 상의 바퀴 아니냐 이런 무식한 소리를 하며 는 야 바퀴는 조 해야 이런 게 없고 불완전 변태 라고 허물을 봤죠 아니 c 안 있자 어지 그렇게 북한 3억년 전에 도안을 3억년 해 놓을까 전혀 무식한 소리다 라고 들으면 되구요 그래서 결론적으로 완전 변태를 않은 이런 훌륭한 분들은 예전에 이런 전주 동물에서 어떤 공통 조상의 있었다 생각이 되요 어떤애가 한번 하니가 성공했어요 완전히 녹여서 다시 만드는게 성공 인해서 예로부터 나온 애들이 관전 이경택 느린데 가지 의 약점 원래 얼 개미 나방 나비 파리목 이렇게 보통 부여한다 글입니다 종류는 몇 개 안 되는데 숫자가 거의 60% 가 그러고 한 마디로 누군가 공통 조상이 있지 않을까 라고 생각을 하는데 어떻게 차 키스 곤충에 그 큰 공룡 뼈도 못 찾는 데 곤충 별을 안고 좀 뼈가 없지 곤충 껍데기를 그 화석으로 찾으려면 힘드니까 추정만 한다는 거고 자 이렇게 해서 이상한 결론이 나왔습니다 이렇게 길게 힘들게 곽씨 가능한 이유는 결론적으로 완전히 변태 안 곤충은 브랜드별 테라다 고충 보다 나중에 나타나 쓰니까 고등 이라 표 이게 미사 하지만 조금 나은 놈이죠 쪽 발전해 란 놈이 어서 파리는 번데기가 있어요 완전 괜찮은 놈이고 잠자리는 아까 맞지만 등장 10구 커 물로 나옵니다 홈을 벗고 나오기 때문에 잠자리 보다 파리가 고등 하라 아 얘기할 6 15분을 얘기했는데 15일 결론은 그겁니다 결론 여기서 어디 가서 이렇게 아는 척을 할 때 파리를 한 번 답답할 하면 작품을 만드신 3장이 가파르게 올라가면 어제 훌륭한 보여달라고 좀더 루루 한분이 날라간다 이렇게 생각하며 는 플루 마약 와 같이 충만 하실 분이 될 수 있고요 이걸 차 또 타봤어요 이게 보면 잠자리가 잠자리 날개 제대로 보조 이파리 마 여 8일 예쁘게 입자 이게 제가 농담처럼 얘기 하지만 실제로 과학자들 그렇게 얘기합니다 파리가 에게 날 기간 잘 접히지 않을 뒤에 딱 붙어서 잠재 느끼게 안돼 이게 수준이 좀 떨어지는 목이 있다 그럽니다 이렇게 완벽하게 등기를 초 피는 이게 진화의 결과 다 훌륭하다 라는 얘기 고요 참고로 참고로 더 말씀드리면 5d 는 8일 겁니다 그럼 긴 털이 캐서 모으기도 굉장히 훌륭한 군인이다 아라는 거고 아까도 얘기 드렸지만 바퀴벌레는 생긴거 답게 거란 증발하기 때문에 조금 지키다 이렇게 보시면 될거 같습니다 결론적으로는 이제 완전하게 자기 옴 을 녹여서 새로운 형태로 만드는 컴플리트 베타 배포 시 쓰는 지금까지 역사상 가장 성공적인 생존 방법이다 라고 얘기를 많이 한대요 왜냐하면 환경에 따라서 그 안에 들어와서 완전히 새로운 놈이 나올 수 있기 때문에 지금 전체 곤충에 60% 를 차지하는 데 처럼 성공한 이유가 완전히 녹여 버린 다음에 새로운 걸 만드니까 기존의 자신의 모습에 얽매이지 않고 새로운 모습을 만들수 있는 일로 부모와 자식 개체 간의 먹이로 아니 분리 한다든지 이런 생돈 방법으로 가장 성공을 한 방법이라고 할 수 있습니다 아 여기까지 얘기 했구요 제 혹시나 궁금해서 가장 오래된 곤충 화석 또 봤어요 있나 5 올해 참고로 보십시오 4 5년 전에 있는 곤충 화석 이라고 하는데 뭐가 건축 인데 솔직히 다 버리지 뭐 그렇다고 하고 잠자리 같은 경우는 굉장히 오래 되죠 산목련 유명하죠 내가 내 오라 가장 큰 장점이 이 유명한 이유는 잠자리 크기가 사람만 해서 사람 얼굴 말하죠 요즘에 잠자리 라고 비교하며 는 크기가 이 정도 됩니다 이걸 후 상당히 신기했는데 여러분들 어 생각하실지 모르겠네요 인류 서교 가 무엇인지 아직도 모른다 이 말이 제가 아직 이걸 왜 모르지 요 모르는거 맞아요 양치 식물이라고 석유는 뭡니까 공룡 입니까 척 유에 기온이 뭔지 모르는데 요고 살입니까 나무 공용 p&i 제 의견이 또 플랑크톤 또 뭐 있으니 꼭 필수는 아니구요 그래서 보면 아닌데 누가 보더라도 5 지금 21세기 인데 아니 그거 성분 분석해 보면 모르나 아 요즘에 뭐 cdna 는 분석하는 판에 설교 국어 분리 분리 분리해서 의 9분 보고 이건 보고 뿅 보다 이거 알면 날지 20일 세계 석유 의 정체를 첫 휴가 어디서 오는 걸 아직도 모른다는 게 말이 되나 물론 썰은 있죠 메인 썰 소수 쌀 은 게 있는데 하여튼 정확하게 판결이 안났다 하는게 심지어 요즘에 싸우는게 이런 뭐예요 석유가 유기물 해서 왔는지 무기 물에서 왔는지 모른다 이건 뭐 흡수됩니다 자 유 게 몰에서 왔는지 무게 물에서 왔는지를 모른다 이게 바위 같은 거고 깨져서 한건지 아니면 여러분이 말하는 공룡 시 체인지를 모른다 라고 일어나는데 석유 같은 경우에 주요 구성성분이 탄소 함량이 당연히 당연히 탄소가 없죠 탄소 제로 1기 이런 이유 잖아요 탄소 안내 거의 80 파이터 가깝고 여러개가 섞여있고 주성분은 탄화수소 다 성분까지 는 쫙 나오는데 이게 도대체 왜 뭐 때문에 생겼는지를 잘 오른다 는 겁니다 안되어 추정을 하는 거 추정을 하는데 확실하지 않다 는 거고 일반적으로 옛날에는 알림을 책은 중학교 초등학교 시절에는 이런 생각을 많이 했습니다 성규는 공룡 시체 또는 생물체의 자네 다 되게 이렇게 막 아래 쌓였다 가 위에 커다란 돌 가치들을 눌러 가 꽃지 눌러 갖고 외채 스럽게 된게 속이라 이름도 화성 율 화석 그쵸 화석이 얼려 가 된 게 아니냐 우리나라 있던 그 보존 공무원 그런것도 잘 눌려 쓰면 석유가 되는데 아 그 자식들이 적절히 안내 및 언가 양이 좀 적어서 과속 놀러가 못된다 화석연료가 못되고 파 서게 됐다 라고 무 생각하시는 분들이 가끔 있습니다 공유 백서 금물 그 참고로 이게 5500원 부터 먹으러 수를 아따 그런데 어 화석이 좀 발달하고 화석 열려다 우선 별로 도 아니고 이 생각은 여러분들 제작까지 겠지만 아닙니다 아니 아니라고 합니다 과학자들이 그것 아니다 공룡이 잘 눌리면 가벽 박도 아니고 석유가 되는것은 아니다 그래서 화전 요 라고 부르는건 아니다 라는 건데요 여러분들이 가끔 저도 옛날에 이런 농담 많이 했잖아요 대한민국 0 0 원 도대체 보겠냐 어 이놈의 공룡들은 좀 눌려서 제대로 누릴 것이지 과정 연료로 못가고 화석이 되더라 그래야 코 우리나라 공룡 있습니다 코리아 노사 울었어 보송 하실수 들어보셨죠 실제 이름입니다 코리아도 싸울수 보성 레이스가 일이며 이름 있어요 참고로 기존 배달 있습니다 아 사고싶다 이고 콜린 1억 사우루스 보석 acc 의 기념 매달 있어요 아이고 이스타나 괜찮은데 이거 타고 싶은데 하여튼 이런 애들이 제대로 누렸으며 는 속인 대 들 눌려서 화석이 다 아니구요 딴건 몰라도 짱 받는 뭐 썰이 맑은데 그것은 아니라고 합니다 그거는 왜냐 아 누가 봐도 공룡 시체 치고 너무 많이 나오잖아 누가 봐도 사실 여러분들이 쓰는 그 석 위암을 생각해봐요 공룡이 몇 마리가 주 거야 그게 되겠소 지금 전 세계적으로 그 차들이 그거 다 불고 살리는데 0 0 2 적당히 죽어선 안돼 짓도 눌러야 될 거 아니에요 적당히 죽어도 안 되기 때문에 공격 제치고 너무 많고 또 이거 뭐야 0 명 시대가 아닌 퇴적층 에서도 성규가 나온다고 합니다 당연히 공룡은 아니다 요렇게 이런 생각 많이 하지 않겠어 공룡은 아니지만 그 고생대 중생대 울창한 밀림 있잖아 그거 이게 이렇게 넘어져서 개가 쌓인 담에 또 압력 박철희 잘 울리면 속이다 어유 생계 하는 그렇다 줘 아 큰 석탄 이라고 그쵸 이건 석탄 인데 이런 생각을 하는 거죠 석탄 좀 들으려 얻고 적합한 싹 탁 설탕을 조금더 길게 누르면 선교 아닌가 그 놈이 그 놈 아니야 라는 생각을 많이 합니다 그 놈이 그 놈이다 그렇담 니까 그렇게 한참 더 드렸어야 되는데 줄을 울려서 고착화된 계속 탈 이다 라는 생각을 많이 한다 그런데 그 짐이 라는거 석탑은 집 짜면 소개 라고 생각을 한다는 데 어 뭐 확실한건 아니지만 일반적으로는 그건 아닌것 같아요 그래도 우리 이제 와서 이런 얘기를 하면 은 대한민국 나무들은 뭐했냐 뭐 이런 생각을 하는데 왜 석탄 말이냐 들를 였구나 강원도에는 걔들은 조금 더 누벼 써야되는데 들려서 그런거 달아 생각한다는 데 그거 또 약간 오해 가깝구요 그런 어디 조금 더 얘기가 있는데 그걸 아니라 그러고 가장 이렇게 썰은 이 거랍니다 바다나 호수의 플랑크톤 들이 식물성 이건 동물성 이거 수천만 년에 걸쳐서 침전이 되어서 쌓인게 눌린 거 다 중 있는걸 쯤에는 걸만한 플랑크톤 들이 엄청나게 마치 그 뻘 처럼 박수 첨 만져 번째 쌓여서 게이들이 눌려서 한마디에 유기물의 서 어린애들이 어떤 짜 인걸 유기물의 서 나온게 서킷 알았어 리 있습니다 그럼 그 분들이 가장 그럴 듯하지 요 그래도 그게 그렇게 맛있다는데 그럴듯 거 우리나라 한국 프랑크 톤은 뭐 있냐고 그러게요 작은데 그래서 왜냐하면 만삼 이렇게 생각하는 이유가 유전 지대가 과거 퇴적 뿐이지 돼 하고 좀 위치한다 호수의 위치와 바다위 체류 7 하기 때문에 바다에는 워낙 넓어 쓰니까 많이 쌓아 쓰 거다 라고 생각한게 가자 근본적인 어떤 주된 썰이 라고 하는데 이론 이라고 하죠 그래서 어느 분이 얘기했지만 한반도의 공룡 은 일단 죄가 오구요 죄는 그러나 그 토니 있습니다 저 이론에 따라 다면 앞으로는 그 공룡을 욕할게 아니라 그 플랑크톤이 잘못했다 우리나라는 이런건데 하는 문제는 어떤 사람들이 이렇게 해야 한다는거죠 아니니 안 이슈 카야 크게 사람 그 천치 것도 너무 많은거 아니냐 아까 전에 무슨 자동차가 그걸 타고 다닌다 프라도 쌓인 건 좋은데 좀 적당히 해야지 이 양이 장난이 아니거든요 지금도 계속 나오잖아 너무 많은거 아닌가 라 생각을 하는 사람들이 있고 그 다음에 바다나 호수가 옛날에 아니 어떤 곳에서도 석유가 다오네 많지 않지만 그룹명 어이 거기 바다가 아니었던 것 같은데 왜 석유가 나오냐 라는 생각을 부축하게 하는 사람들이 있다고 합니다 의심을 하는 거죠 그 여기는 뜻이 뭐가 된거냐 캐다가 옛날에 여러분들 경 날씨지만 형님들 어렸을 때는 1950년 6 씹는데 커트 피코 일이라는 q 정복 되셨습니다 이게 무슨 소리 하면 석유가 언제 고갈된 야 그때 했던게 2천 대 초반이고 가 된다 잘 미래에서 왔습니다 아 아니에요 예 c 그런 소리들을 지가 그래서 틀리지 갖고 있어 그 때는 생각했는데 30 년 밖에 안 나왔다 라고 5초 구독하시면 되게 많이 했죠 1990 년 대해서만 30년 2000년대 30년 2020년대 오니까 삼신 정리까지 또 그랬더니 아니랍니다 50년 107 늘어나는 기적을 모이고 있어요 이제 주어야 되는데 늘어난 것도 점점 점점 들어와서 지금은 50 년 입니다 임플 tc 패트롤 은비 p p p p 의 보고서에 따르면 지난 30년 동안 서교 확인 매장량은 아무리 써도 계속 늘어 왔다 2.5% 썼는데 가채 매장량이 늘어 어 어 좀 소스 이글 들었겠지 하는데 발견이 더 많이 해서 더 늘어 이렇게 들어서 지금은 50 년 입니다 예측하게 예측하기 에 아마 비전통적 서기 우리가 무슨 뭐 가스 형태로 있거나 아니면 쉐이 같은걸 까지 따지면 은 지금 매장량이 1조 7천억 배럴이 라고 얘기를 하는데 활에서 구조 배럴 까지 본다 지금 보다 5배가 더 있을 가능성이 있다는 거죠 확실하진 않지만 이걸로 끝이 수도 있지만 어떤 사람들은 지금보다 5배 저를 자꾸 하니까 사람들이 낚은 에게 또 그런 미생물이 쌓인 러플 아콘이 많냐 플라톤 들이 죽어서 그 정도의 양이 될 수 있냐 에 대해서 굉장히 의구심을 많이 갖는 다는 소리 하는 겁니다 저를 자꾸 보니까 어떤 사람들이 저걸 보면서 아니다 그래 혹시 이거 하니까 석유는 무기 물에서 나온게 아닐까 라는 소설이 있어요 무슨 시체 그런게 아니라 왜냐하면 이거 주된 성분이 타나 수송대 실험을 실에서 도 만들 수 있다 그래서 이제 제가 얘기한 게 아니라 실제 과학자가 쌓은 겁니다 척 이유는 무기 물에서 나온 것이다 토마스 골드 라는 글인데요 이름부터 신뢰가 확실하죠 아 이름부터 뭐 확실히 합니다 예 이름부터 이 빛나 보이는 저분이 석유 무디 물론 옛날부터 있었긴 한데 대표 주장을 했는데 소개로 구성하는 타나 쏜 우주 어디에나 있는데 그걸 꼭 지구는 바이올로지 커리 놀이 지니까 생물학적 기운이 있다고 꼭 생각할 필요가 없다 모라 우정이 내의 그는 그거는 지구 내부에서 그런 분자들이 있었는데 그게 모여 갖고 고온 고압에 2에서 탄화수소 로 포함한 그런 분자들이 지구 바깥으로 지표면 가까이 이동을 하면서 척추가 된 거다 타나 소울이 지구 아래는 지구 중심으로 갈수록 깊어질수록 거대한 미생물 군집 이 있다라는 얘기합니다 많은 무기 물에서 만들었다 지구 내부에 있다 어떻다 낮술을 펌 하고 있는 애들이 지표는 근처로 나오면서 눌린 이까 걔들이 소개가 된 거다 라는 주장을 펼쳐 요 그렇다니까 d 저는 이 주장이 소설이 소수 저린 데 막기 를 강력하게 원합니다 왜냐 만약에 척 유에 기원이 무기물이 라면 어떤 효과가 있냐 외장 양이 사실상 무한 얘기가 탄압에 정말 그렇다면 야 정말 그렇다면 저 지구 깊숙한 돼 있는 일들이 나오면서 눌려 갖고 석유가 되면 얼마나 많겠어요 얼마나 이 계몽 명물 탈을 하는데 거의 무안에 가까울 정도로 많이 붙일 수 있다 업어 기후가 나만 아니면 돼 축소 되는거죠 사장님 대충 써도 되는데 무기 우리라면 유기물이 라면 안되죠 유기물의 서옹 거라면 기우에 오리진이 바이오 로지컬 우리 진이 라면 이거 뭐 브라운 컨 써보는게 얼마나 되겠어 공용 시차 아니더라도 있고 한계가 있을 텐데 만약에 무기물이 라면이 거의 무 아니다 와 강력하게 원합니다 쇼카 기억할게 야무 가길 원하는데 jv 유명한 실험을 합니다 아 이거 위키 반면 볼 수 있는데 코마스 골드의 시라노 시험 이라고 하는데 요 호수 를 통해서 진짜 그런게 자지 우보 요철 m 5000m 6000m 아래 실제 그런 게 있냐 라는 걸 찾는 걸 찾다가 보니까 딥 핫 바이오스 피어라 그랬는데 정말 막 수천 m 를 내려 갔는데 거기에 엄청난 양이 미생물이 있었다 라고 발표를 하죠 이것때문에 요즘에도 저게 맞나 안 맞나 사랑 순례를 많이 하는것 지구 땅 속 깊숙한 곳에 우리가 알지 못하는 그렇지 고안해서 나오는 그런 탄화수소 때문에 우리가 알지 못하는 생체가 있다 5000 미터 지하에 미생물들이 엄청나게 많다 어 이런건 아닙니다 그 부터 시작하는 거죠 각각 땅속 미생물 무게가 70억 인류 전체 몸무게 보다 수백배 많다 어 심층 생물권 있다 심 해에만 생명권 있는게 아니라 2 땅속 아래도 새로운 생물권 이 있다 이게 바닷물 국제 거의 2배 고 지구 전체의 세균의 70% 는 지표면 아래에 있다 라고 하면서 석유는 와 내 가깝다 라고 주장하는 일어 있다고 합니다 꼭 막기를 꼭 막기를 그 왜냐면은 저 꼭 맞으면 아니 만약에 6 인물이라면 우리나라 금호 플랑크톤 들이 잘못해서 우리나라에서 그가 없는데 무기물이 라며 우리도 파다 보면 그렇죠 파 터 우리집 집들도 어떻게 잘 하면 은 뭐 되지 않을까 생각을 하죠 물론 국내의 가능성 현재까지 없다 그랬는데 살짝 무 아니 될 수 있으니까 게다가 실제로 적 골드 아저씨 골드 아저씨 이론을 뒷받침할 실험을 했는데 이 오옹 고압 발생 장치 안에 멘트를 성분을 놓고 어떻게 하니까 안에서 메탄이 나오더라 가 천연가스가 그게 나오더라 그러니까 석유가 우리 물에서 나온 게 아니냐 라는 의견이 있다고 합니다 4 놀라운 건 이 걸 아직도 모른다는게 놀라고 개인적으로 아니 그 6 유물에서 온건지 무균 물에서 온건지 우리가 석유를 지금 승계 몇 년인데 지금 부지 내에 검사하고 아까 되겠지만 번 나노 무슨 미터의 뭐 어쩌고 하는데 이게 어디서 온건지 볼 다 갖고 it 끌고 있다는 게 신기하긴 한데 실제로 그러고 있구요 물론 무기 몰에서 나온 석유가 있다고 합니다 자연 발생된 석유가 있는데 양이 적기 때문에 요즘엔 이렇게 생각하는데요 소수의 과학자들이 무지 이 원서를 연구하고 지질 하는데 대부분의 과학자들은 아까 되겠지만 플랑크톤 같은게 올렸다고 믿고 있고 무기 원서로 나온 석유는 굉장히 작을 거다 라고 생각하고 있다는 이걸 모른다는게 올랐다고 할 수 있고 4 만약 에서 그가 정말 문이 물에서 나와서 지구 내부에서 보 나와서 압축돼 서 나온 거라면 사실은 다른 별에 도 있을 수 있죠 만약에 유기 기원설 무슨 플랑크톤이 눌러서 마님 공용 시체가 썩어서 된 거라면 지구의 만 있을 텐데 그게 그게 아니라 실제로 무기 물이라면 다른 별에 더 석유가 있을 수 있으니까 만약에 찾으면 노벨상이 줘 하지만 노벨상 있는데 돌발 싸게 문제가 아니라 찾으면 가프 줘 찾으면 내가 싸우지 를 만든건데 실제로 있을지 든 잘 모르겠는데 이거 있습니다 천연가스는 있어요 천연 가스 3주정도 메탄 인데 예를 들면 토성의 위성이 타이탄 이라고 있잖아요 유명한 유성이 줘 타이탄은 메탄 으로 답해 있다고 이런 얘길 많이 하죠 그래서 이 커트에 있는 것은 메탄의 거의 못 받아요 음표를 쓰는데 어떻게 보면 석유와 천연가스 의 그런 성분이 5 베타 니가 나타나 쏘 니까 타이탄의 이런걸로 가득 차있지 않냐 라는 생각을 한다 글입니다 그래서 저희 까지 말씀이 찾으러 가야겠죠 실제로 타이탄의 나사가 는 입니다 이게 취재 타이탄의 내린 10월 호 이젠 스스로 벌 친거 또 하고 7년 되셨어요 도표 모듈 파일을 2시 카부토 이상이 지금 어려운 것 같아요 스파 4를 내리고 있는데 그 문 없이 들어요 내어 휴지를 보조 한 거죠 섀도 먹으러 인해 데 없어 밖에 없게 생겼는데 아야 아시아 주세요 싸우지도 원래 이런데 서류가 나오는거 없요 sexo 핑크 앓지 이렇게 석유가 있게 생긴 지 모르겠지만 발견하면 대박인데 타이탄의 나 가졌기 위성을 내리기도 했죠 자 그리고 앞으로 몇 년 뒤 아마 스컬 을 빛나네 주제 이긴한데 나사가 이번에 가입했습니다 2026년 아까 타이탄의 비행 탐사선을 보내는 데모를 보낼 거야 아까 본 했잖아요 그거 말고 예를 보낸다는 발표했어요 드래곤플라이 프로젝트 라 부릅니다 나사에 타이탄 들어온 탐사 프로젝트 요요 집에 들어오니 될 테니까 저 타이탄 위에다가 예를 보내서 날라다니는 파리가 토대를 보내서 배터리를 달라지면서 이렇게 보면 비틀다 다니면서 찍어 보겠다는 거죠 이렇게 못 석 유인나에게 모처 접할 수 있나 라는 것을 하겠다는 드래곤크라이시스 프로젝트를 깔 폈고 2016년에 괄 사회적 입니다 아산 대답 할 수 있는데 잠깐 보여드리면 발표 장면 입니다 ole 튜브 안티를 좀 아쉬운 브라의 my 뭘 쌀을 좋아졌음 은 차이 [음악] 싸우지 처럼 생겼네요 속에 나올 것 같은데 이렇게 날라다 지는 그리고 플라이를 바깥은 달 거리면서 날려 다는걸 2026년 에 보내면 2사이즈 34년 에 여러분들은 장면을 아마 스쿼드 에서 확인하실 수 있을 겁니다 그 차 비산 여니까 지금 2022년 2조 12년 요맘때 쯤 에 아마 주제가 드래곤플라이 프로젝트 적어주세요 달력에 표시 되시면 12년 지난 다음에 드래곤플라이 클릭 틀을 한번 여러분의 라고 얘기를 같이 하도록 하겠습니다 우리가 일단 얘기하면 은 이런 생각하실 싸 그러면 척 탐 도 무기 기원설이 냐 그 아니구요 석탄은 그 고생 대화 중생 되시기 식물들이 제작되어서 생긴 거라고 얘기를 많이 합니다 그래서 아시겠지만 고생도 에는 탕기 가 있죠 그 동탄 2 맞겠지 그 석 찬기가 받겠지 아 영어 갈때는 불안해 이석 탕기 가 그 석탄 게 맞겠죠 제 짧은 그 중 고등학교 때 그거 에는 분명히 그런데 마치 거 같아요 자 그런데 사실 우리나라에도 희망이 있던 전적이 있습니다 뒤에서 아실지 모르겠지만 1976년 박정희 대통령이 연두 기자회견 을 하면서 연기에만 부근에 석유가 발견되었다고 전격 발표 합니다 포항 영일만 서기 밝은 사건인데 만약 이게 진짜 했으면 우리나라는 지금도 산유국 이 될 수 있었죠 저희 책이 발표했는데 이 때 온나라가 일면이 뉴스가 이걸로 자 팠다 글입니다 저는 모르죠 왜냐 안 태어났으니까 마치 파스텔 모르는데 그랬다 그래서 교수가 낳다고 그 석관이 메뉴 에다가 전부 다 익어서 없고 드디어 산유국의 꿈 에서 와 부푼 꿈 박 들 조각 그랬었는데 아 이제 오늘 보면 이래요 그걸 팝 오라고 해서 모서리가 있을 것 같아요 사실 파 보는데 뭐가 나왔다 그래서 그것을 들고 청와대로 왔죠 그 다음에 청와대 와서 대통 딱 치니까 이거 보십쇼 속이고 나왔습니다 그래서 집무실에서 실제로 그때가 했었던 바뀔 등이 들고 오며 소드가 이 싸고 기존의 부른 다음에 후리타 드라 브 리 붙더라 이것은 확실히 소비 다 그랬는데 이 o1 철이라는 무 님 어서 게 좀 일가견이 있는 화 목적 담당했다 그래요 차마 대통령 앞에서 얘기 하지 못했지만 이렇게 생각했다 글입니다 아니 석유가 나왔으며 원유 잖아요 온 이면 전 잘 모르지만 그게 얌전하게 안 탄다고 하는데 원유가 언어가 치며 는 여러가지 까 썸머 있기 때문에 이렇게 타야 되는데 라이타 처럼 됐다는 거죠 다소 없고 이렇게 계속 엿보면서 대통령 아프리카 참 에게 못하겠는데 야 원유가 이렇게 5 할 수 있나요 이게 너무 의무가 보더라도 이건 라이타 그 같은 데 따른 생각했다 글입니다 에서 앞에 저녁에 못하고 그걸 받아 보병을 받았고 이제 그 당시 미국의 칼텍스 한테 원유 분석을 라로 보냈더니 리뷰가 에 날라갔다 가 더 가 나왔는데 그것은 경유 다 그러니까 우리나라 영예 바다에서도 원유가 나온 얘들 경유 가 나온다 달달한 나라요 따른 봤는데 거기서 경기고 나와야 이것은 뭐 자체 석유화학 시설이 안에 내재돼 있는 거죠 온도에 따라서 그걸 끓는 참에 다른데 경우가 나와도 세계 최초 글로벌 최초 10시 출회 뜻 이경규가 나오는 기적을 창출 했는데 그때 누가 오더라도 누가 일부러 얻거나 경유를 루소 교복을 와 니버는 지 추운 경우가 섞여 들어가고 나오고 2개 주가 될 텐데 할튼 정답은 경유 가 나왔습니다 주유소도 아니고 그게 석유가 나오는 거 좀 이상하잖아 온 역사와 가야지 왜 켜게 가 나와 했더니 음모 천일염 이라고 물을 말렸던 이마 소금이 나오는 이제 그런거 비슷했기 때문에 결국에는 이게 거짓으로 발표 우리나라 산 u100 구민의 날 나갔던 적이 있습니다 1976년에 기억이 나시는 분들이 라면은 아마 키오카 시청 110 년이 경 날 정도면 은 청취 십 년씩 뭐 3시면 60 하오 3 대충 뵙길 아쉽네요 아 물론 이걸 보다 보니까 이거 이런데도 있죠 우리나라의 포항의 불의 정원 이라는 데 있다고 합니다 옛날에 한번 반드시 되면 까먹고 있었는데 24시간 365일 꺼지지 않는 천연가스 발생지 포항 있는 분들은 아시나 모르겠는데 이렇게 좀 건 축하 다 보니까 천연가스가 나와서 언어 불을 붙였더니 안고 지더라 지금 관광자원을 알겠다고 지금까지도 안 꺼지고 있다 그러면 년과 께 에서 아래 최적 가스가 나오는 거죠 양이 많지 않다고 하는데 안 꺼진다 고만 알고 있는 분들이 계시는데 라고는 말했지만 그게 툭하면 꺼 져 유타 묶어 줘 또 꺼지면 자꾸 그 앞에서 그 관광객 본다고 민원 전화가 이렇게 들어와서 그랬어 거기다가 포항 씨가 나 이탈 그걸 붙혔다 자동 볼을 시간되면 시카 면서 분류 치라고 그래서 그걸 쌓고 그 꺼졌다 고민 원자 자꾸 떠서 자동으로 여기 데드풀 돼 있답니다 a 지금부터 있기 때문에 가며 하는 지불에 정원을 볼 수 있구요 우리나라에서 처음 까서 나온 데가 있다는 거고 적 프레 정화는 원래 오리지날은 거죠 뭐 한거 저도 안가봤지만 2로 껌 애니스타 4 있다 글입니다 지옥이 문 여기에 사람이에요 이게 불 붙어있는거 아사이 d 가 다르죠 우리나라 불의 정원은 으 만한데 귀를 치면 음악 하겠죠 그리고 넓은 쪽으로 유다한테 역시 투르크의 스타 에는 지옥의 문 은 이 못합니다 포옹 69m 깊이 30m 1971년에 타오르기 시작한 이후 한번도 꺼지지 아 아 아 아 이게 왜 안고 좋은 약이 좀 더 차지 있는데 아가 섞으면 멋있을 것 같습니다 아까 그 이거 무섭다 수업 그저 야 이 사람은 심장이 커요 내가 떨어지면 통구이 안녕 이때 버렸습니다 바로 통 거 같은데 그래서 이런 내가 있다고 합니다 사막 한 가운데 있다 그런데 저희가 저렇게 테인 이유는 1971년 소련이 절입니다 이것도 정확하진 않아요 80년대부터 딱 말도 있고 그렇다고 하는데 석유를 10시 하기 위해 땅을 파내려 바다가 암석들이 문화 주고 유독가스가 퍼지 니까 그걸 끌려고 유독가스를 끌려고 불을 붙이고 가스 가 여서 되길 기다렸다 말이 있습니다 그대로 50년간 기다리고 있어요 90명 이거 왜 안 것이나 유독가스가 퍼지 니까 카스 연세 날리고 다시 보라 하려고 했는데 부라보 붙였더니 아직도 안 것이다 라는 말이 있습니다 많은 말이 있는데 50년 가까이 있음 더 커지지 않고 그니까 참고로 누가 보더라도 좀 위험하고 좀 환경 물어 주 않도록 것 같고 그렇잖아요 그래서 사실은 이것을 끌려는 시도가 몇 번 있었습니다 근데 자 실패했어요 지금까지 2022년 지금 이 순간에도 투르크메니스탄 대통령 이 명령을 내렸어요 좀 될 거 봐라 근데 먹고 있어요 초 그걸 먹고 다시 긴 한데 아직도 저가 습을 제탄 몇번 시도 했다 글입니다 2 3번 시드 다 실패했는데 2022 현재에서 적어 글방 않을 아직도 잡고 있다 그런데 방법은 없을까 산소 차단 안되나 묽어서 어는 잘 안될꺼 같고 크기도 마사지 또 사막 한 가운데 자나 바닷물을 그러고 싶었을 것 같고 아직도 못 꾸고 있는게 지옥의 문 이라고 합니다 후 뚜껑으로 받자고 그래서 뚜껑으로 맡기는 하직 이거를 솥뚜껑을 어떻게 막으러 이제 뭐 못해 할 것이고 69m 하는데 이제 열 찍을 끝날 아이디어가 안 나오고 있다고 하는데 신기하기도 하고 이걸 그 방법이 없나 얼핏 살고 있을 것 같은데 우리나라 같으면 분명히 익은 최다 가요 앞에 이제 수많은 가게들이 들어서 겠죠 지옥의 문 삼겹살 아 무심 지옥의 임은지 콰이 퐁 당 웬지 3g 최소 5억 옆으로 살짝 되어 있으며 쭉 영어시간에 그쪽 많겠지 지옥의 불로 끓인 못사고 다 그래서 옆에 싸우다 1 싫고 않겠죠 온갖 게 다 들었을 것 같은데 보통 답고 이 무슨 뭐 영석의 모발 쑥 맞을 것 같은데 나라는 좀 그런건 부족한 거 아 아이고 우리 나라의 있었으면 관광상품으로 그 얼마전에 영국에서도 놓고서 구해서 법률이 하나 나왔습니다 법이 뭐냐면 랍스터를 산 채로 끓는 물에 쌀 는거 산채로 누리 누차 나요 이게 불법이 않은 법이 나왔어요 통과가 됐어요 자 앞으로 라우터를 산 채로 끓는 물에 싸우거나 랍스타 요우 조금 왜냐고요 것만 잠궈서 이동 시키자는 산채로 산채로 성 하는게 유럽에서는 불법이 될 단 수도 없습니다 숨 첫번째 지금까지는 불법이 왜 아니었나 두번째 지금은 왜 불법인가 이유가 있어 한국인들은 이해를 못하지 여러분들은 이해를 못할 줄 알았어요 우리는 랍스터가 문제가 아니라 문어도 너 코드 우리는 그냥 다 주차 나요 그럼 뭐 이렇게 상보 짤라 봉 팜에 한국인들은 1 납치 탄 탕이 를 먹는 민족이 물론 이를 못하지 물론 이해를 못하는데 적어 낙지 다 문어 가요 랍스터 보다 쪼금 다 나오지만 신경 제가 더 발달한 거에요 걔를 참 탈의를 먹는 민족은 이 곡 글루 물을 썩는 게 뭐가 문제냐 라고 생각을 하죠 지금 우리 고 이제 서구에서는 좀 충격을 받았다는 건데도 걔도 충격 받은 이유도 있습니다 월 한번 알아보도록 합시다 지금까지는 서구에서 소국 기준으로 이라 스타가 재지 우리나라 발람 가제 바닷가재 는 이 동물보호법 의 대상이 아니었다 그러니까 그 유럽 기준으로 척추동물 만 동물보호법 의 대상이다 일명 포유류 조류 파충류 심지어 어려도 척추가 있으니까 동물보호법 의 대상인데 랍스터는 척추가 없어요 랍스터 잘랐을 때 척추를 발견하면 너무 열사를 맞을 수도 있어요 조기를 짤라서 척추를 찾겠다는 말고 굉장히 비슷하기 때문에 이게 없어요 그렇기 때문에 랍스터는 애통 물 보호법에 원래 대상이 아니었어요 왜 척추가 없고 이런 신경계가 발달되지 않은 이런 무척추동물 꽈 에 있는 어떤 생물들은 그동안 서구에서는 뭐라고 생각해 냐 면 고통을 느끼지 못한다 라고 여겨져 왔다 그러면 그렇게 생각합니까 고통을 느끼지 못한다 왜냐하면 은 인간적인 측면에서 고통을 느끼는 부분이 못해 에 어느 부분이 래요 뭐 중국 무슨 피지 무슨 피 그런데 그런게 없어 얘들은 즉 고통을 느끼지 못할 거야 라고 생각했기 때문에 동물 보호법이 아니었고 그렇기 때문에 얘들은 끓는 물에 넣어도 고통을 느끼지 못하니까 잔인한 일이 아니라 그냥 감각이나 감정이 없다 라고 생각을 했답니다 자석 5에서는 그렇다는 걸 서고 에서는 이 말을 조금 어렵게 하며 는 그동안 이 랍스터 같은 앞서 뿐만 아니라 반은 무척추 동물 들이 뇌의 가 없습니다 라고 얘기하면 또 혼내 겠죠 뇌가 없으면서도 있어요 이 무슨 소리냐 하면 휴먼 적인 관점에서 보는 뇌는 없는데 보면은 여기 중간 유마 이렇게 신경 절이라고 하는게 기차표 있죠 이런게 있어요 그 옛날 고전적인 측면에서 보면 내가 없고 새로운 동물 앞쪽 이라 그래 나의 동물 학적 시각에서 보면 굉장히 원시적인 형태의 뇌의 구조를 가지고 있는것 탈구 화가라고 아 탈 추가합격 뇌를 가지고 있어요 하여튼 9 정적인 시각에서 보면 너희가 없다 라고 생각했기 때문에 그래서 고통을 느끼지 못하고 그래서 그동안 산채로 삶아도 별다른 문제가 없자 왜냐면 은 이런 신경 절에서는 물론 시내 지원 신의 빈약하고 신에서는 고통을 느끼는 역할이 없을 거다 라고 생각을 했고 실제로 이런 관련 논문들이 옛날에 몇 개 있었다고 합니다 그래서 고토 그렇게 못 하니까 뭐 어차피 뭐 그냥 넣어도 되는 게 아니냐 라고 넣었다는 거고 물론 우리는 그렇게 복잡한 생각을 안하고 쌀 업죠 그제 코리아의 이기고 우리는 딱지가 신경절 이고 뇌가 제대로 안 됐기 때문에 고통을 느끼지 못할 거라고 생각한 낚시 탄탄이 를 치는 거 아니고 우리는 그냥 쳤지만 재는 그랬다는 거죠 우린 우리는 그냥 치죠 그래야 우리 c 보보 맛있으니까 치는거 지고 꼼장어를 내가 뭐 o 신경절에 어쩌고 부터 치지 않잖아 대충 쳐서 데 먹는게 코리아 스타일이고 제어 외국에서는 그랬다 라는 겁니다 그렇게 생각을 해 와 때요 그래서 지금 와서 이제 서구에서 붙는게 문어 케라스 터도 고통을 느낄 수 있다 지금와서 과학적으로 살펴보니까 그런거 아니오 아직 확정 아닙니다 인간이 생각하는 그런 고통은 아니고 얘들도 문화계 라우터가 인간 쪽으로 마케 우리 휴먼 2 생각하는 페이는 아닌 다른 식의 폐인 을 느낀다고 생각을 하지만 아직도 박정도 아니에요 이게 물어 볼 수 없으니까 넌 느끼니 라고 물어볼 수 없으니까 서구에서는 느낀다 라는 쪽으로 제법 이 생각이 과학의 바뀌면서 산채로 쌈 는 것을 금지하는 관계들이 2011년 2조 최근에 정말 최근에 제 개정이 되고 있습니다 여러분들 만약 유럽여행을 가서 문어를 산채로 쌀로 먹거나 랍스터를 통째로 넣으면 잘못하면 깜빡 아니겠지만 벌금을 맞을 수 있습니다 아니 근데 귀 과학을 잘 모르는 입장에선 아니 당연히 느끼지 않을까 예 그게 얘네 끓는 물에 들면 막 달리아 돋네 피하고 그게 고통 이냐 아니면 이상 단순한 자극에 의한 반응이 냐 뭐 이런건 있지만 고통을 느끼는 것 같은데 개인적으론 아직 개인적으로는 그 생각하지만 자 그래서 정열이 주제 기도 하죠 저도 이거보고 한참 아닌거 같다고 생각을 했는데 군 층이나 가지는 뇌가 없다 마스미 같을 입니까 모든 건축은 아니고 몇몇 몇몇 보충이나 이런 무척 또 같은 가지는 뇌가 없다 라고 얘기하는 사람들이 있어요 왜냐면 아까 되겠지만 이런 얘네 들의 신경계는 매우 원시적 이라서 이 인간이 생각하는 그런 중앙집권적 내가 없죠 타일 중앙 하 죠 이런 신경들이 여러개가 분산이 돼 있고 그래서 곤충이나 바다까지 모두 내가 없다 라고 얘기한 사람도 있습니다 물론 이건 또 이 분명히 곤충 선생님들도 콧날 거기 때문에 원 시대 내에 스러운 건 있다 그래요 근데 벌겠다 며 있죠 애들은 꽤 나뉘어 있기 때문에 이런 식으로 휴 번쩍 입장에서 없는거고 그래서 이거를 이렇게 얘기하더라구요 전형적인 인간이 전형적인 생각하는 중앙 채권 적인 내는 없고 식령 저를 가지고 있다 목우촌 깜짝 놀랬네 그래서 저런걸 바탕으로 2005년에 노르웨이 해서 가지는 너희가 없어서 고통을 못 느낀다 라고 생각한게 지금까지 서구인들은 이제 그렇게 생각하고 있다고 합니다 물론 최근엔 연구 대세는 반대예요 이거 완전히 인간 중심적인 생각이고 바다까지 의 개 3 우도 다 있을 거 다 있고 그 니가 생각하는 중앙집권적 내가 없어 그렇지 신경절 도 있고 쪼끄만 같아 있기 때문에 고통을 느끼 나라고 해서 이 물에 뭐 싸 않는다는 건데 그 웃긴것은 아직도 2022년 현재까지도 정말 느끼는지 는 모르 조 1 이게 오르간 이제 신기한데 모른답니다 결정적인 증거가 없다 랍스터가 바닷가 제가 고통을 느낀 야 아 올로 설왕설래 합니다 많은 실험들이 행해지고 있어요 제가 그래 포트 하고 관련 레포트가 30개가 떴어 진짜 30개가 또 있습니다 이런 뭐 등의 뭐 염산을 뿌려 봤는데 랍스터가 팔을 허우적거릴 더라 아시아 그런걸 왜 하는 거야 일자 있어요 진짜 동 값들을 되지만 랍스터 등의 염산을 풀어봤습니다 랍스터가 허우적거릴 따라 고통을 느끼는 게 아닐까요 이런거 에서부터 제가 또 본건은 뭐더라 곤충에 달이라 짜자 써 반쯤 잘랐어요 그 그런걸 왜 아니고 그게 반쯤 잘라놓고 아프지 아프지 않 남에게 앞 은 다음에 그 예가 의 왼팔에 대한 고통의 기억이 있는지 그것이 엄 하더라구요 왼팔을 치려고 할 때 더 방어기제가 쎈지 오른팔을 치려 그럴 때 방어기제가 쎈지 그렇게 반쯤 짤라 놓고 아문 다음에 왼쪽을 치려 그럼 내가 던 올린다는 거죠 그래서 얘는 고통을 느낄 수 있다 라는 이런 반 곤충 적인 논문이 의 30개 정도 있는데 가서 보시구요 아직도 결론이 안 나와 있습니다 제 개인적인 생각에 꿈 축 수출의 건립해 보면 이거 를 느끼는 거 아닌가 이거 어마무시한 데 애들이 가 안 먹어봐서 그런거 아닌가 이거 이거 하면 물론 이게 이제 고통이 냐 뇌가 없잖아요 지금이 짤려 여기 내가 없으니까 그냥 신경 반응이 냐 이런 문제가 있긴 한데 오징어를 이렇게 다리를 잘라 놓고 2 몸통을 세워놓으면 은 몸통 외상 털 달 움직임이 없더라 다이와 꿈틀거리고 까 다리는 이 신경 반응이 고 몸통은 고통을 못 느낀다고 이런 얘기 같은데 아직도 정확하지 않다 드립니다 여기서 랍스터 에 대해서는 우리가 잘 감점이 못하니까 조금 더 범위를 넓혀 보면 조기에 도 비슷하죠 그럼 조기는 고통을 느낄 수 있을까 아 우리 조개 그냥 물에 넣고 드냐 삶아서 좀 조기에 도 고통을 느끼면 조개도 사랑채는 못 삶을 수 있습니다 어렵죠 초기 대추 2개를 못산 깽 되는 그 어떻게 죽여 아 냉동 큰 쟁 독이 뭐 얼어 죽는 거 잖아 얼어죽은 쌀 마 죽는것 않나 뭐 어떻게 2개를 직사 시킨 지 모르겠는데 하이튼 그러한 문제가 있는 거죠 조기 한테도 똑같은 문제가 발생을 하고 또 똑같은 문제 조개는 뇌가 있나 초기에도 우리가 생각하는 뇌는 없죠 이렇게 얘기합니다 이거는 너가 생각하는 뇌의 정의 에 달려 있다 인간적 관점에서 는 가제 도 조개도 뇌가 없죠 근데 인간적 관점이 아니라 조개 적 관점에서 는 이런 신경 들의 모임들이 있으니까 너가 생각하는 뇌의 구조 해야하고 달려있다 시원한 원시적 이 때문에 이런 생각도 한답니다 조개나 랍스터는 니가 없으니까 다음에 무엇을 할 것인지 생각할 수 없다 생각이 없다 본능적으로 만 움직인다 그 자극에 의해서 본능적 으로 움직이지 생각을 안한다 생각을 안 할 것 같긴 한데 랍스터가 생각하고 움직이나 2개가 생각하고 1 어렵게 한데 할지 이런 문제에 빠져 있다는 거죠 할 때 그래서 뭐 복잡한 문제는 이제 과학 근생 너한테 물어보고 요 고통을 느끼 것으로 이 과학적 을 바뀌었기 때문에 산 채로 쌈 는 것을 금지하는 법률 해 주겠다는 건데 근데 우리가 보면 그렇잖아요 아니였 이들 불고기 대가리는 팍팍 짜르고 그 모기나 파리를 날라가는거 그녀 x 를 치면서 어후 랍스터 에만 민감 에 달 고택을 짤라서 뭐 박두만 하루 8 야 파리도 그 신경철 링가 있어 그의 우리의 작가 내가 없어 그렇지 그건 은야 노트케이스 달리면서 끄 랍스터는 왜 민감한 야 물로 코리아 적 입장에서 코리아 제 입장에서는 이러 모기는 뭐 사지를 분해 하드만 사지를 분해하고 목이 유튜버 드 하시는거 보면 번쩍 하며 니모 길을 조금 더 고통스럽게 보낼 수 있나 뭐 그런거에 대한 유튜브 가기 활황 되는데 아니 랍스터 왜 민가 백을 앞서 망 갖고 그래 그 이유가 있다고 합니다 서양인들에게 랍스터는 의미가 다르다 소비자들의 입장에서 특히 다르다 왜 소비자들이 요리를 할 때 답 되지 물고기는 다 죽은 채로 워 근데 움직이는데 내가 스스로 죽여야 되는 음식은 몇 개 없어 차량 입장에서 몇개 없는데 그 중에 하나가 랍스터 한 거죠 가장 이렇게 저렇게 좀 뭔가 이렇게 좀 뭐랄까 굉장히 활발하게 움직이는데 그걸 그대로 뜨거운 물에 넣어야 되니까 2 심리적 데미지를 많이 받는게 사용 인드라 일때는 대표적으로 랍스터 라 글입니다 아 물론 그 문화를 탕 장천 없는 한국인들의 태그 척 모조리 하는건지 이해가 안되지만 차량인 들한테 느냐 우리야 우리가 참기름 뿌려서 군침이 싸악 돌면서 요 울음 속에 쳐서 없지만 제는 이제 그 곳 아가야 그 살아있는 것을 내가 죽여야 된다 이렇게 해서 닭 돼지 물고기 뭐 이런 것들은 죽어서 오잖아 그 죄책감이 나한테 안 생기는데 이 바닷가재 얘들 아 스턴은 주 식감이 나한테 생긴다는 거죠 조개는 의지 찌꺼기 없냐 죽이는 않은 식 이 요 물 안에서 움직일 지 모르겠지만 껍데기가 쌓이기 때문에 안에서 뭐 이러니 안 보이잖아요 그 조개는 센터를 그게 없는데 하필 그 쭉 검출되고 좀 불쌍해 보이는 그게 이제 감정이입이 되는게 차 애들한테 제 랍스터 다 라고 합니다 대한민국 사람들은 뭐에 감정이 물 하지 살아 있는걸 내가 죽여야 되는 거에 감정이 한국인들은 감정이입을 잘 안하는거 같애 소나 돼지는 죽어서 오니까 죽어서 오니까 그런데 쳐 향 사용 저한텐 바 없으니 그렇게 좀 차이가 있다 서 보면 요런 말을 많이 해요 내가 죽여야 하는 먹기 위해서 죽여야 하는 존재에 대한 부담감 그래서 얘가 고통을 못 느꼈나 그러면 생각이 없다 뇌가 없다 그러면 내가 편향 그 옛날을 세상 사람들 그렇게 많이 생각해 때 내 고통을 못 느껴 된 생각이 없어 얘는 내가 없어 신경 제가 지원시 거 밖에 없어 그러니까 내가 모양 잘라도 되고 뜨거운 물에 넣어야 되고 주위의 되는 부담이 없고 어떤 비건 분들은 저도 그래 포트에서 봤는데 초기에는 먹는 분들이 있다더라 고 사용해서 사용해서 조개 내 먹습니까 초기에는 고통을 보니까 이렇게 생각하는 분들이 이제 잇다고 할까 서구적 입장에서는 아 물론 뭐 주민 여러분들이 옆에서 그 열심히 화를 내고 계시는데 그가 이제 그 한국적 입장에서는 이제 그런거고 그쳐 우리는 뭐 뭐 미꾸라지 동작 통으로 하는 건데 않든 서구적 입장에서는 즉 그런거죠 싹다 여러분들 반 이해했습니다 여러분들 관 여러분들은 그 자 대한민국 으로 이해 못하지 분납 스터 야 대한민국 그냥 이러고 그냥 넣는 때 일본도 마찬가지 제 1번 영상 봄에는 꼭 뭡니까 손질하는 영상들을 뭐 조교 오징어 손질 살아있는 우 징 5반 짤라 가곡의 세운다면 거기다가 간장소스 꿀이 모세가 홍조 껍질 거리는거 좋아하는게 이제 그 동아시아의 꼬리 1 재팬 애그 문화 아잉 거고 14 목 사례는 개구리도 막 일해 왔고 헤치고 하는게 꼬리 1 제패 인거 9 초장 가지와 이런 소리를 하는게 이제 우리나라 이거 고소 구해서 이제 그렇다는 거에요 얼마전에 이거 돌아 다니더라구요 노 미드에 대한 게드 커뮤니티 많이 돌아다니는데 나만의 결 미지 이거 누가 번역했습니다 까 4 아래 또 어 북한의 * 밀 수도 있어요 모카 대는 이거 뭐 목 나 북한도 먹지 야만의 별미 지라도 이걸 보여줬다는 데 a 우리들 이걸 그냥 먹지 다 나 이거 미드에서 그래서 얘가 뭐 이렇게들 의거를 우적우적 씹어 올드보이 너무 많이 봤어 우리도 이거 이렇게 먹지 않아 문어는 쌀 와 복지 낙지 려와 전이고 무너져 늘 자 후보 너는 그렇게 먹지 않아 이건 딱 치 정도는 이렇게 9 거다 이렇게 해서 목 찌가 누가 임 안거를 이렇게 무식하게 이렇게 먹나 이고 이렇게 안 먹죠 차기 왜 기함 먹는것은 끔찍 역 한국인은 이렇게 못 먹냐 그런 먹지도 않지 못 먹진 않는데 골프장 이름 필요하고 좀 찌르기 고 한 입에 안 씹히고 뭐 그런게 좀 있긴 하죠 이렇게 먹지 누가 그렇더라구요 이걸 서양인들은 이걸 모르더라 먹는거 를 쉬지 처리 인가 뭐 그걸 했다고 그랬더니 그 한국인들의 댓글을 그걸 을 cg 그걸 되어 오늘 9일 답으로 죄업을 왜 그렇죠 한국인들 그렇지 대어 과 위에 너무 쉬울 것 같다 그래서 뭐 그걸 메시지 처리 합니까 그냥 먹으면 되지 뭐 이런 게이지 우리나라의 반은 이어 이죠 좋은글 외시 지철이 합니까 모르게 달렸던 데 서구에서 이제 그렇다는 거 반대로 우리는 서구의 2 랍스터 내가 죽여야 되는 존재 대한 부담감을 또 잘 모르는 거고 서로 그렇다 보니까 하이트 랍스터를 이제 뜨거운 물에 산채를 썩는 것은 서구에서는 유럽에서는 불법이라고 합니다 자 이런 와중에 방금 1기 뜨지 부친이 당 갑시다 끝나고 다 격 시대가 시작되었다 이 말인 즉슨 뭔가 양쪽 세력이 싸우고 닭 역시 대 하면 떠오르는게 미소가 싸우고 내 인견 이고 냉전을 하게 되면은 양쪽 진영이 서로 팩 공격하려고 엄청나게 경쟁을 하고 그러면서 믿기지 않겠지만 과학기술이 발전한 하죠 군사 기술 발전을 합니다 이때 가기 으레 발전이 최고 했던 돼요 왜냐하면 돈을 쏟아 붓기 때문에 내가 이길 6 말도 안 되는 짓을 하자 날 사람을 달해 보내고 글 돈이 어디서 옛날에 1962년 치시는 데 돈이 어디 있어서 뭐 그런거라고 모주 경쟁을 지금도 돈 없어서 못하는 것을 그때는 이게 된 이겨야 되는게 모든 거니까 쏟아 붓는 게 타격 시대인데 자 그렇기 때문에 발생한 일이 있죠 바로 뭐냐면 아 좋아요 카라 di 야 야 애 중에 우리도 우리도 합니다 우리도 우주 경쟁 된단 말이야 자 보여드리겠습니다 혹시 못 보신 분들을 위해서 놓칠 수 없지 이거를 놓친 분들이 계실까봐 자 갑니다 한국 1군 연구 우주 연구원의 누리 요 우주로 [음악] 두창 단짝 9 때 막아 지난번에 저희 되다가 돈으로 여기서 옷에서 힘찬 때 1장 떼 사실상 절반에서 문밖에 모토로 절반 해줍니다 [음악] 그때 같죠 멀리서 보면 이 보기에는 쉬워 도저 엄청나게 꼽는 저 부스터 적어 를 개발하기 위해서 정말 많은 분들이 엄청난 고생을 했다 드립니다 저는 가서 그 생각에 연구원 나와서 바 눈물어린 목소리라는 걸 들었는데 적어 개발하려고 진짜 얼마나 노력을 했는지 자 우리나라 성공을 해서 이 경쟁에 뛰어들게 됐는데요 고 위기를 잘 다 드리겠습니다 앞으로 우주 경쟁 이 시대가 본격적으로 열렸죠 왜냐하면 방지에 보셨듯이 정말 양쪽 진영이 양쪽 기녀를 증인이 모르겠지만 처로 이 있다고 달려들던 때기 때문에 옛날처럼 앞뒤 안 재고 도난 재고 쪼다 붙는 때가 j 의 과학 기술의 붐이 양쪽 나라가 싸워서 과학기술부 된다는게 웃기긴 하지만 어쨌건 상대를 이길 거 엄청나게 쓰다보니까 엄청난 결과들이 나오게 됩니다 자 과거에는 어떤 여 가 되다 쓰냐 기억 낫겠지만 미소 냉전 시대 1957년 미국이 젖어 처음에 그 유명한 스프 디스크쇼 그 소련이 1957년 에 먼저 인공위성을 발사합니다 곤궁에 날라가는 이걸 보면서 그때 나사가 없었으니까 미국 과학자들이 그렇게 허탈했다 그렇죠 쇼크 같다 그렇죠 저하늘에 조금은 새 인공위성이 먼저 가고 있다는걸 듣고 정말 초크 에 빠졌고 1958 이것때문에 따 사가 만들어 줘 이겨 보겠다고 지구 있는걸 이겨 보겠다고 하지만 처음에 61년 에 소련이 유리 가가린 인간은 우주의 처음 보내서 우주 비행에 성공했다고 그런데 지금와서 보면 놀라운 게 이게 처음이 61년 이거든요 우리는 이제 간신히 누리 5 를 썼는데 내면에는 인간의 보냈다 며 61년 에 지금으로부터 60년 전 이잖아요 이걸 보면 이걸 타고 갈 생각을 한 그가 가린 형님 의 그담 대함에 시작하겠다 하라 거의 목숨 않 거야 되지 않나 저정도 배와 죽을 생각하 야 이거 이거 어떻게 이걸 타고 갔지 목숨 걸지 않으며 그 사람이 타는 것에 안에 들어와서 이렇게 이렇게 할걸 족을 발사 하는건데 와 야수의 시대입니다 야수의 시대 보스토크 이르러 가는데요 여기 안에 있는 것도 특이한 에그제 발사되는 겁니다 한번들 미사일 탕 거에요 그때 당시로는 진짜 목수 먹는거 저 미사일 미사일 미사일 발사체 위에다가 고가 달아서 보내는 건데 목숨 알고 간 거죠 저희 죽을뻔했다 그래요 실제로 이리 가까이 1961년 부 60년 전에 우주로 간 데 성공합니다 이렇게 되어 있대요 이렇게 누워서 우주에 간 거죠 구워서 크로 생각해 들어서 이게 어떻게 생각할까 이미 8 3rd 버렸잖아 요 것만 남아 있었는데 이게 미스테리 어따 그래요 그동안 뭐 요즘 같으면 이렇게 뭐 딱 하나 맡은 높일 텐데 그 애드벌룬 같은 필 텐데 최근에 밝혀진 데 따르면 애가 들어오다가 여기서 좌석을 그 비행기처럼 비상탈출 처럼 땡기면 깨 백마 그 사출 와 진짜 목숨 걸었죠 보다 1000m 에서 비상 탈출한 레버 땡겨 왔고 비니 떨어질 때처럼 비상탈출 해서 낙하산 피가 떨어지는 건데 진짜 목숨 걸었다 야아 이거 진짜 본질 구하라의 억만금을 추고 아래도 이거 쉽지 않은데 실제로 가서 비상탈출 해서 낙하 잤다고 내려오는데 성공을 했다고 합니다 유리가 가리 이 아쒸 시대에 살았던 추측이 우주 의 한 마리 유용하죠 지구는 푸르다 이거 그 이발을 한 분이 있는데 저희 떤 케네디 대통령이 10 받은게 또 유명하죠 아폴로 계획을 발표 하죠 인간의 다 해보자 했다 여전히 운율 보였지만 자리에는 우리가 먼저 보내겠다 1961년에 발표 내 신년 와 내보내기 때문에 나왔죠 요즘 면 hq 자기가 어느 다온 모두 놈은 왜 슈팅 너를 한번 으 집 난 내보내 가사 아 해야 춰서 거 아니라 어려워서 어려운거 기 때문에 소로는 못할 것이기 때문에 우리가 대시 우린 알 수 있다 어렵기 때문에 보내겠다 라고 선언을 합니다 이 선언을 하고 앞으로 케 실제로 사람을 다해 보내는 계획을 하던데 이 처음에 앞을 5일 이라고 표현을 하자 나중에 앞으로 이론은 화제가 납니다 발사하기 전에 또 머리 머리 부분을 테스 타원 중에 기지 테스팅 화재가 발생해 서 요 우주로 보내자 지구에서 세 명의 우주인이 제 전원 사망 하시는 사건이 사실은 펼쳐져요 앞으로 가십 몇가지 나왔는데 5 지구에서의 머리를 테스트 하다가 요 세 분이 돌아가신 사건도 발생을 하지만 이 67년 인데 불과 2년 뒤에 미국의 미친 사랑에 미친 다른게 아폴로 11호가 여러분이 다 아시는 달 탐사선을 미션을 하면서 발표합니다 69년 이니까 케네디가 속했던 60년에 마지막회 마지막 가는데 뭐 이건 다 아시죠 보여 드리지 않을게요 앞으로 심의로 발사 요렇게 생긴게 발산합니다 타고 있던 분들도 여러분들이 잘 아시는 왼쪽이 9 유명한 닐 암스트롱이 고요 마이클 콜린스 에디 놈들이 니라 그런데 근데 우리가 제 개인적인 궁금증은 이 거였어요 분명히 출발은 이 거였거든요 그런데 우리가 갑자기 칩이 화면으로 본건 얘야 고 생각해 보면 얘는 어떻게 지구로 왔을 까 얘가 내가 지더니 애가 지구로 왔어 그 직업을 온것은 요렇게 생긴 애 같이 그렇거든요 회사 이렇게 중간에 어떤 일이 있을까 근데 생각보다 우리가 생각한 것보다 정말 엄청난 일이 있습니다 정말 보통 일이 있는데 저도 처음에는 깜짝 놀랬는데 이게 보면 아폴로 발사체는 여기 발사체 즉시 인거 길어 기생이 로케트 베뉴 욕이 막 때 보면 요 안에 여기에 들어 있어요 사람이 타는 부분 요걸 또 확대해 보면 위의 커맨드 모델이라고 쪼금만 로 키샤 들어 있고 그 아래 우리가 달에서 본 발 모듈 이렇게 달려있어요 이게 여기 안 있는거예요 저 안에서 지금 올라가서 이제 불러야 되는 건 알겠어 근데 잘 보면 무슨 생각이 들어요 얘가 불을 뿜으면서 가야 되거든 공지 올라가서 분리된 다음에 달을 향해 서 내가 달려가는 건데 문제는 요 달 모듈이 아래 달려있어요 그럼 얘는 불을 뿜으면서 받는데 얘를 어떻게 달고 갈 것이냐 자 여기에 비문 있었습니다 좌측이 방금 전에 보여드렸던 아폴로 커맨드 모델이구요 이제 달로 가는 모듈 우측이 달에 내야 되는 누나 뭐 두려고 올라 달 뭐 드려요 루나 모델이고 커맨드 서비스 보지와 버렸는데 보면 다 아시겠지만 대기권 돌파 를 하면 추진체 는 분리되고 남는것은 머리가 가리 부분인 쪽에 나와서 요런 모습으로 우주에 떠 있습니다 차미애 어떻게 달록 아냐 이게 1 어떻게 달로 갈까 불을 뿜는 것 여기 있고 달려있는 건 여기 있는데 전 이게 정말 처음에는 말도 안된다고 생각했는데 이렇게 합니다 우주에서 조 추진 치를 떨 군 다음에 왼쪽에 있는 애가 우주에서 반으로 나뉘어 10 그리고 거의 회 크다 둡니다 우즈 돌아요 돌아서 머리를 합체 아 진짜 있어 농가의 아니라 요즘의 간 다음에 우주에서 저걸 뺏어 저게 돌아서 껴요 다시 뭐를 느낀 다음에 머리 느끼 내가 어떻게 되냐 플라이 투 더 문 1 다 읽기가 적 없이 읽고 짜 달려가는 거야 아 이게 가 이렇게 가 교복으로 약이 농가 아닌가 했는데 진짜 이렇게 갑니다 저와 위에 올라와서 반 뚝 자른 다음에 대가리 꽂고 여기서 애가 밀고 달로 간 이렇게 이게 생각해보면 조 우주에서 애가 반으로 나뉜 다음에 다시 저가 우주 자네 우주 청매 69년 이에요 이걸 저하게 꽂은 다음에 예를 밀고 달로 가는게 기술이 날이 되나 누 접합 부분이 샷 1마리 되다 척이 우주에서 없는게 이게 굉장히 고난이도 라고 굉장히 고난이도 9 심지어 사람이 타 있잖아 사람이 타인 상태에서 적어 로우 주셔야 되는걸 요기를 여기다 꽂아서 꽂아서 이렇게 잡아서 비비고 가는건데 농담 이라고 생각하실 까봐 꼬리 이미지로 만들어 놓은 게 있어요 손에서 이렇게 터라 라에게 많이 내가 저기에 저렇게 돌아서 좀 꼽는 겁니다 가서 아 저거 꽂아서 5 적을 뽑아서 라레 는 버리고 유이가 저걸로 해달라 가는걸 클라크 같은건데 야 저거 로 1960 구현해 냈다는 게 참 대단 하기도 하고 저도 끝이냐 아니죠 아직 안 끝났어요 왜냐 팔에 가야 될거 아니에요 다른 왔습니다 자금 어떻게 되요 탐 자선을 떨고 해 줘 봐요 잡아 뗄 봐 그럼 내가 아래서 불을 뿜으면서 착륙을 하면서 착륙을 해서 실제로 우리가 보는 순간 모습이다 삭제가 되고 어느 순간에 짜잔 하고 이같은 중에서 팔보다 찍으면서 뭐 인류의 작은 걸음은 뭐고 내 걸음은 작지만 이 그럼 크다는 동 모 발짝 능력이 찍혔다는 너무 퍼져 팔짝 뛰면서 먹어봐요 왜 깃발이 흔들린 야 이거 가짜 아니냐 사막 아니냐 뭐 이런 소리가 나오는게 여기 이것 조차 넘 아까워 놨기 때문에 공개로 조금 떨어져서 싹들이 우리는 본 장면이 분명 이렇게 들어갈수 있는데 저 여기 떨어진 거죠 자 그 다음에 또 드는 생각은 아니 다 좋은데 저사람들은 뭐 2개 돌아오나 벌인 끝에 없잖아 여긴 이런게 다시 있어야 우아악 하면서 달에서 써서 지구로 올 텐데 야이 조달이 한 말이야 요 어떻게 돌아오나 돌아오게 말이 안된다 그래서 좀 가짜다 3 말하는 것이죠 자 돌아오는 거 없잖아 이거 이게 다 신법 발사 될 거에요 요트 돌아와 우주 이용해서 뭐 할 거야 아니잖아 요제 돌아올까요 여기 또 비밀이 있습니다 20회 어 이거 어떻게 돌아올까 여러분들이 상상하는 방식과 조금 다를수도 있어요 돌아오는건 밑에다 발사대 아닙니다 이건 아예 위해 가봤어 그렇게 가봤어요 밑에는 여기 있어 얘기가 발사 되요 취 간웅 각처 얘기하지 맛이 짜며 진짜 이때 거리가 짤려서 애가 10 발사하고 거기서 발생 가능 거에요 다각 파는게 아닙니다 대가리가 발생 사람 되어 있는거죠 애가 쉬 크라우저 아니고 이렇게 이게 제가 만든거 아니에요 요거는 꽤 누가 만 쏜 거 콩 겁니다 18세가 되요 이게 농담으로 생각하지만 진짜 구요 달 모듈의 윗부분이 나뉘면서 애가 날라가게 내가 날라가서 없죠 하는거 그럼 이게 지구로 온 야 뭐 더 줘 요 조그만게 집을 어떻게 와 지구로 오는 건 뭐가 와요 당연히 이게 아까 전에 우리 달 유다가 떨고 나온거 있잖아요 우리 나무들 떨거나 적의 달기를 돌고 있어요 그러면 다해서 출발한 또 달궈 들머리가 아까 돌고 있는 얘야 어떻게 됩니까 이게 도킹을 만날 근데 이제 가능한가 티그 카드 앙카 내면 달리를 지금 돌고 있잖아 이렇게 아까 떨군 다음에 떨고 3 여기는 거고 발기를 돌고 있고 탐사 끝난 다음에 좀 머리가 발사해서 다시 어디에서 꽂아야 진짜입니다 이렇게 해서 돌아오는 거야 다시 달 대기에서 기다리고 있던 다른 한 바퀴 돌고 있던 커맨드 모델과 축 졸라서 합체를 해야되요 어 이거 짤게 진짜 비대가 1919년 입니다 머리가 와서 줘 여기를 낀 다음에 아 요기 하는 사람 타 있죠 투명 탈색이 1명 타 입고 건너갈 그 다음의 예를 버리고 퍼맨 이모들이 어떻게 합니까 집으로 출발 회사 되야 이제 에게 말이 제가 야 싶은 데 그쳐 잘 탐사 저건 남아있지 않죠 그래서 왜냐 벌여 왔으니까 버리고 왔고 여기 아 까지는 1명 머니에 꾸며 공개 타서 3명이 타서 그대로 찍으러 온 거 이게 또 발설 하는거 조카 발사해서 달에서 지구로 와서 이제 다 끝났으니까 암석 같은걸로 받고 음 지금 보면 얘가 착륙을 하느냐 그 또 아니죠 이 큰게 지구요 어떻게 착륙을 요즘은 가능하겠지만 제 어떻게 됐냐 지구 오면 또 머리를 짜리 줘 10일자 나 그런 거 자리 조 미룰 잘라서 애가 떨어져요 궁극적으로 돌아온 건 예입니다 네 앞에 예 여기 세 명이 옹기종기 되는거 이렇게 때가 떨어져요 어 그럼 얘는 어떻게 떨어진 야 최종적으로는 저 세 분이 접어 위해 와 진짜 이걸 어떻게 했나 아쉽긴 한데 종교 악의 종교에게 종교계 만나고 만나고 만나고 해서 마지막에 커맨드 보들이 대기권으로 진입을 하구요 마지막 순간에 다 타 없어지기 전에 당연히 낙하산은 필요 그거 대학에 가서 그 많은 일에서도 좋은 꼬랑지 가 돌아온 게 우리가 본 전국적인 인류가 최초로 달간 위해선 아폴로 11호가 됐고 이겁니다 지구로 그 많은 그걸 겪어서 무사귀환 아폴로 11호에 머리가 되겠습니다 예 지금 90 그 자체 4 1969 전에 저걸 타고 그 다르다 뭐 이렇게 뭐 이렇게 하고 이렇게 하고 만나서 웬만한 담력 으로는 못하죠 다르다고 발생해서 위에서 떠돌아다니는 거기에 이게 껴서 이게 되나 이렇게 뭐 고바리안 도 아니고 그랑 조도 아니고 b 되나 싶은데 이거를 해냈죠 또 아까 말씀드렸지만 자 플러쉬 으로의 오누이는 모두 3명이 탔죠 잘 생각해보면 달 위에 커맨드 어비스 모듈은 계속 달린 을 돌아 짠 여기에 한명이 들어가 있어요 그러 착용모델 루나 모듈에는 2명이 들어갑니까 무슨 소리냐 하면 2명은 다 착륙을 했는데 한명은 달비 를 돌고 있어요 한명은 * 까지 갔는데 다른 먹는거 그 우리가 달 사진을 잘 보면 핑 사가 보통 한 번 밖에 없어요 왜냐 한명이 찍어줘 되니까 대한민국 찌꺼기가 보통 한 명인데 그 사람들이 오해를 한 다르더라고요 번갈아 찍었는데 다 암스트롱 오신 지 않는데 아닙니다 그래서 그 두 명 중에 한 명이 나게 그렇게 삐쳤다 그래 아니나 내 사진도 많은데 사람들이 내 사진 모음 에서 다 암스트롱 얘들아 아니다 철 받는 나한테 이제 하니까요 얼굴을 써 지도가 리우 저라도 쉬워 주던가 한명은 초파 모자쓰고 한명을 모자 쓰고 있어요 구별이 되는데 똑같은거 끼고 있으니까 다 비스트로 이라고 하기엔 나를 그렇게 아나라 된다면 그렇게 서운해서 진짜 막 조 싶어 걸릴 것 같다 이야기 했다 그래요 실제로 놓고 그 물어봤어 이렇게 성 했다는데 여기 리자 토너는 거기까지 갔는데 다 레몬 내렸어 어쩌니 그떄는 존 행복한 되요 그렇게 실화입니다 시라 저는 너무 좋아요 너무 세상에 내가 이걸 성공 했다 이쁩니다 이렇게 이래서 2분은 장소에 써요 94 까놓고 살았다는 데드 있는거예요 원래 동마다 리지 행법 음 네 자리 분명히 여기 까지 갔는데 다시 그 아비 툴이 먼저 드려야 하고 내가 원 두드리는 내가 할 말도 있었는데 어 다는 대 발걸음 그 발걸음이 아니라고 내 손바닥 흔적 받아 1 약한 손바닥에 다면 말할 수 있었는데 암술이 홀릭 얘기하고 사인도 다음 줄이야 라고 말이야 알아보지 못하고 따른 매달리고 아무도 모르고 얘는 동메달 저는 여기까지 강 것만으로 행복합니다 얜 행복하고 얘는 불행한 게 이제 실제 상황 이라 볼 수 있구요 이런게 은근히 중요해요 사람이 아니 리자 사람의 마음을 이렇게 만져 주는 게 김 여행은 생각보다 가소 프라이스는 끝나는거 아냐 뭐 좀 뒤도 더 내가 에라 심하면 된다 여기 사고 났어요 언제 출발해 버리면 사고난 줄 아는 거지 부르는데 우주에서는 이 중요한데 왼쪽이 딜 앞둔 오른쪽이 달에 발 못 내려졌습니다 마이클 콜린스 행복한 분 동메달 오른쪽이 애드 위 놀 드린 열받은 분 있어 같이 사진 찍었는데 아무도 나는 보다 분들은 얼 받은 분이 음 매달 가운동 메다 행복한 번 골 있어요 그 다음에 어 승자 닐 암스트롱 자 이렇게 됐구요 2 미션 중에 쭉 뒤로 같잖아요 어떻게 같다 어떻게 하는지 가장 어려운 순간이 언제냐 언제 일 것 같아요 와서 뭐 반으로 쪼개서 거꾸로 해서 탄다면 다 시카고 달에서 또 내를 내린다면 착륙한 다음에 대가리 올라가서 또 위 있는 합체 하고 다시 지구로 와서 지구에서 또 머리 많아서 내려 와야 되는데 가장 어려웠던 순간은 기술적으로 도 그렇고 사람들의 목숨이 가장 어려웠던 순간 역시 달 대기의 돌고 있는 커맨드 서비스 모드 csm 모듈과 달에서 발사된 머리 탈모 둘이 만날 일이 어떻게 가능했는데 신기하긴 해요 솔직히 별로다 굉장히 적을 거예요 18 가까스로 가실수 정도 열녀가 있는데 정확한 타이밍에 포트리스 처럼 정확하게 싸갖고 이거 마 이렇게 이렇게 운전하는 것처럼 가는게 아니잖아 그건 우리 생각이고 계모 비행기처럼 이렇게 가는게 아니라 판소 메는 이건 2절 힘들다 말 옛날이 처음 싶은데 뭐가 되겠어요 넣어도 그대로 가서 그 데이로 그 앞에 딱 떨어져 갖고 요기가 어야 이게 정말 어려웠다 드립니다 일단 달에서 발사를 실패할까 써도 굉장히 높고 아까전에 몸통 버리고 머리만 달랑 거 아니야 이걸 실패하거나 발사를 했더라도 파워가 좀 모자란다 조금 천천히 가자는 지속시간이 짧다 던지 걔도 계산이 조금 들이 다든지 애가 좀 더 빨리 움직인다 던지 아니면 통 부딪치면서 언어를 튕겨 나가 버린다 던지 이런 자 실패 니까 이 정말 목숨 걸고 한 순간 이었다 그리고 성공률을 그렇게 높게 평가할 수 힘들었다 그런 사건이라 그런데 실제로 합체 하고 느낌이 에 돌아온 데 성공했던 그런 사건이라고 할 수 있고 자유가 지하실 트리스 얘기 되게 많은 부분이고 미국이 이걸로 우주여행을 승리 햇죠 그리고 이제 소련이 붕괴되면서 웃긴게 통로에 음식 9년에 저렇게 보냈는데 몇번 더 가져 초 172 년까지 몇번 다 갔는데 그 이후로는 안 있어요 감아야 뭣보다 가서 뭐 해 돈 만들고 말이야 이게 상대도 없고 술을 이 없자 우주 대 발동이 약간 쏘리 얻고 골라서 뭐에 경제 나 잘하지 그래서 못 간게 지금까지 거의 몇 십 년이 니까 그 50년을 못 갔죠 이제는 아닙니다 지금까지 70 인형과 50년의 우주 공간에 다른 빈 공간이 있는데 지금 아니죠 왜 다시 불 것 은 예 이제는 다시 물려 다시 1 상대가 생겼어 중국 2019년 인류 최초 달 뒷면 탐사선을 해머 탐사선은 참을 시켰어요 심지어 2011년의 화성의 태민 1호 를 보내서 화성에 착륙해 쬲 화성에 대한 찾은 같음을 두게 보냈고 중군 2022년 에 우주 정말 저 아세요 오래입니다 완성을 선언했기 때문에 이게 다 초대 짜르르 펼쳐지고 화성의 착륙을 한 중국 테니 로 미래는 화성을 보냈으니까 할 기술은 대단하다고 할 수 있죠 올해 완공된 은 중국의 유인 우주 정거장 이런 게 에 올해 완성이 되니까 참을 수 없으니까 미국도 2050년 오십 년 만에 다시 사람을 다해 보내겠다 아르테미스 계획 유명하죠 게다가 한 번 보낸게 아니라 매년 2배씩 보내서 뭔가를 상업적인 벽까지도 없겠다 대한민국도 아르테미스 들에게 합류 햇죠 열 번째 참여 구름이나 우리나라도 한 발 올렸고 이것때문에 조금있다가 8월에 나오죠 뭐가 대한민국 달 탐사 서다 둘이 호가 이제 2010년 8월 우리나라 건 아니고 스페이스 x 스페이스 x 의 팔콘 라인을 타고 달로 발사 되죠 자 이 다누리 호 에 대해서는 똘이 센가 함께 가야 올해로 놓칠 수 없죠 케이스가 함께 제가 출연한 프로의 단 우리를 반드시 항우연 에 우리 원장님이 소개를 시켜 줄테니까 가서 보시면 어떤 건지를 명확하게 알 수 있구요 제가 놀랬던 것은 옛날에 우리 이런거 보여 줘 짜 나요 이거 스페이스 x 가 이 거꾸로 착륙하는 의족 맞서다 사용한 다음에 에 아 이 거꾸로 착륙하는 이게 주 맨 10인 줄 알았거든요 아니면 앞으로 미래 기술 전한 미래 기술이죠 진짜 침 업적으로 보여주고 앞으로 10년 뒤에 쓰지 않을까 생각했는데 요즘엔 스페이스 x 가 다저 곤란합니다 까 아 이제 저희 일반 기술이 됐어요 그냥 저렇게 써 저렇게 다 돌아온 되요 지금 이미 뭐 어 저기 현실이 없구나 즉 미리 기술이 아니라 역할 컨 라인 같은게 가면은 다 저런 식으로 다 사체가 10번 이상 돌아 온다고 하니까 와 뭐 대단하다고 할 수 있고 게다가 세계가 지금 민중이 절 하니까 날려 일본도 달 탐사선을 발사합니다 올해 구요 일본은 달 착륙선 계획 끼세요 우리는 탐사정 받아들인 탐사대 달 위를 도 냐 아니면 달에 착륙을 하냐 일본 달 착륙선 도 있고 달 착륙선 의 탐사선 이것도 시립니다 1번은 우주 마당 경쾌 있어요 우주망원경 계획 x 리 즘 이라고 하는데 자세가 꽂이 않습니다 자기애 대열이 만든 망원경 있어요 제임스 웹 과는 비교가 안되겠지만 하이트 자기들이 만든 우주 망원경을 보낼 계획돼 있고 러시아도 참을수 없죠 푸틴이 입어 다극화 그러고 있는데 그 달 남극 탐사선 루나 25 46년 만에 올 7월에 발사합니다 그인 에는 이게 자꾸 털이 강 했냐 즉 러시아 거 라서 그런지 자 쪼끔 그 매무새 가 뭔가 좀 그런데 은 1970년대 티가 나고 좀 그렇게 하는데 노씨 아도 보내고 요 인거 는 아이 착륙선 찬드라 야상 올해 발사합니다 지난번에 한번 발생했는데 잘 안됐죠 참 들어야 사모는 마치 앞으로 10일 하고 똑같이 이렇게 달 착륙선 기억도 있어요 가서 이런 식으로 착륙을 하겠다 자 그러면 딱 보시다시피 알겠지만 거의 50년 만에 우주 부 미적 달 탐사 품 옛날에는 소련 미국 이마 경쟁하다 미국의 한 번 간단 얼룩 어려 성공할까 하고저 봤다면 이제는 수많은 국가들이 선진국 모이라는 국가들이 다같이 z 아래 보내고 있고 다해서 경제적인 모를 가질 수 있다 게다가 나 사회한테 물었어요 타이 그렇게 많이 가서 뭐 할래 그랬더니 나사가 궁극적인 목표가 브링 휴 머스트 마르 화성으로 사람을 보내는 거야 이게 일로 모스크가 괜히 화성 칼빈이 깔 건 줄 알았더니 나사의 목표가 되어 있습니다 타세요 표가 화성으로 2030년 대 화성으로 사람을 보내겠다 어 뭐 라는 궁극적인 목표가 있다 됩니다 정말 뭐 2주 할지는 모르겠지만 화성에 가서 뭔가를 해보려는 거겠죠 결론적으로 제강 대고 팩 공동 님과 기술의 발달 스페이스 x 같은 그런 로켓의 기술의 발달 또 옛날에는 미국만 간신히 좀 말도 안되는 것처럼 99년에 간신히 했는데 60년 동안 기술이 발달했기 때문에 많은 나라들이 동시다발적으로 우주개발 하는 시대가 이제 문앞에 열리고 있습니다 우리는 곧 보게 되겠죠 제가 얼마전에 그 채용도 에서 씨가 그 자기 돈 많이 벌어 보고자 하는 유튜브 채널이 있어요 거기 퀴즈쇼 나갔습니다 극히 셔야 봐도 이런 대로 문제를 푸는데 틀렸던 문제가 있어요 그 문제가 뭐냐 학을 떼다 는 어느 병을 의미하는가 이딴걸 문제를 할지 몰랐어요 화기를 되다 어학 때다 어 정말 받을 때 써요 완전 학을 떼서 뷰어 2명이 냐 참고로 터졌습니다 버튼 될거 같습니까 학을 때 다 개고 되겠다는 뜻이죠 확 찌를 학질 장티푸스 콜레라 페스트 패스는 뭐야 이 개념없는 답은 제가 이 한거 아닙니다 상대 하겠구요 20 하지 뭐 이런게 있었는데 답은 뭐였을까요 그렇죠 어우 쳐야지 10탄 지석은 패스트 몸이 카페 이스트 유럽 인지하는 제가 얘기한 거 아니에요 이거 누구를 얘기 안했는데 의외로 이 개념없는 얘기를 했구요 더 테스 좋아 지구요 당연히 말나리 합니다 아 뭐가 빠졌나 있다 못받아요 악질의 말라리아를 일컫는 말인데 말나리 학자 입니다 1 자태가 말라리아 텐데 이목이 님 우리 목인 님 을 매개로 걸리는 질병이 참고로 장티푸스 는 그거 이염 이거이거 구요 이 얼마나 독해 쓰면 학을 뗀 달하는 표 쓰냐 말라리아에 걸린 문의 증상을 보면 우리나라는 말라리아 얼음 약한 말라리아를 그래요 아프리카 쪽 말라리아 보다 조금 약한것 10개월 말라리아 6 어치 4일 높은데 우리나라는 그나마 조금 약한 말라리아 임에도 40도의 고음과 해열 올라가고 내려가고 가 일주일에 서 1개월간 반복된다 사람이 치는 거죠 그닥 10:00 적당히 하자 심지어 재발도 한다 2 에서 5년 주기로 어 1 한번 걸리면 찾을 땐 다 그럽니다 진짜 하늘 된다 그런데 허리를 곳이다 하는데 대충 말래 용의 치세의 성 28 텐 없고 소화도 10% 가 넘는다 그러는데 치료하며 이렇게까지 안 되고 우리나라 어떻게 높지 않은데 정말 엄청난 고열이 내려 갔다 와서 내가 떠올랐다 반복을 하는 미친 병이라고 하는데 참고로 말라리아는 바이러스나 세균에 의한 질병이 아닙니다 이게 느끼지 않게 기생충 1 우리 살아가는 그런 춤까지 다니지 단세포 기생충 원충 이라는게 우리 몸의 트루 모기 에 이은 바이러스나 황 열병처럼 그게 아니다 여러분 추위 들어와서 우리 몸의 기생을 1 그래서 간의 파기하고 적혈구를 파괴하고 있다가 또 뭐야 피를 빨면 개한테 들어가서 자신이 그 삶은 반복하는 게 이제 말나리 한데 5 그래서 오직 모기를 최종 숲 줄어 입니다 그래서 목이 흡혈이 에 의해서만 감명을 하구요 사람간의 감염도 없죠 그리고 또 모두 모기가 옮기는 게 아니죠 말라리아를 옮기는 말라리아의 주 매개체가 있습니다 말라리아 도 모빌을 따지 줘 그게 문제가 최종 사는데 감옥 이란 말이야 그거 또 문제가 있냐 이 말라리아 이 기생충은 관심이 없어요 뭐에 인간이 죽거나 사는 거에 관심 모기가 죽거나 사는 거에 관심이 있죠 지들이 살아야 되니까 좋은 충 기생충 입장에선 원주 입장에선 뭐 혹시 가 죽는 없는 큰 문제 내가 들어가서도 사는거 아니야 상단에 나오는 건데 인간한테 관심이 없어 뭔 인기는 죽거나 말고 다오 뭐 뭐 상관 없잖아요 쪽지도 아니야 지나가는 것이 그래서 더 독하다 그러니까 쉽게 들어와서 간을 파괴하고 적혈구를 먹어치운 성장하는데 망가트리는 사람도 칩 망가뜨리며 서해 라 그래도 우리 집안이 다 하고 다 펼쳐놓고 사는 것과 예 똑같다고 할 수 있습니다 그래서 100 아침 역률이 굉장히 넓다 4번 60% 에서 20% 까지 갈 정도로 치료를 하면 은 영점 몇 퍼센트 지만 옛날엔 이제 그랬다는 거구요 게다가 더 놀라운 건 2019년 키 준 지금도 마찬가지예요 말라리아 걸리는 사람의 숫자가 이게 맞나 이 1억 2900만 제가 숫자를 보면서도 착한가게 잘못 잡은것 2900만 며 가니까 이게 가능한 수 짱가 어 다시 한번 살펴보게 다시한번 미친 수자 미츠 숫자 할 때도 수천만 명 뭐요 2호 과 이런 a 형이에요 전지구 이루어 어느덧 명인데 매년 사망자가 500,000 지금 우리 팬들 미끄럽다 그러잖아요 편 댐이 끓여서 지금까지 그저 확진 자가 5명이 말라리아는 잃는 이유 뭐 홈 2층 거라고 할 수 있고 이런 말을 많이 하여 인류 역사상 가장 많은 사람들을 죽음으로 몰고 간 질병 천연두 자 말을 많이 하는데 알라 리아드 그 중에 한 35명의 얘기를 많이 하니까 다만 이 우리나라에서는 하 들 때 긴 하지만 그나마 잘 얘기를 안 하는게 이렇게 94% 가 아프리카 있어요 아프리카에서는 거의 감기처럼 주기적으로 걸린다는 건데 게다가 이 말라리아에 또 결정이 문제가 아까 되겠지만 바이러스나 세균이 아니에요 원충 이에요 기생충 그래도 어떻겠어요 면역력이 생기는 것도 안 4 봄에 기대 해킹 들어가는것은 면역력이 생도 들어오는 그냥 파보 가는것 들어오면 걸리는 밑도 말이야 이게 문제입니다 이게 한번 걸리면 나야 되는데 들어온 또 올려 아니지 피운 내 하고 또 들어와서 또 파먹고 가 뭐 아팠다가 닦다 하는데 계속 하니까 정말 학을 뗄 정도의 이 참 거시기한 병이라고 할 수 있고 그래서 이 말라리아가 참고 라는 지역은 옛날에는 사람들이 접근 불가 지요 강한 놈이 없어 카메룬 퀄리티 유럽 사람들 입장에서 그래서 어떤 일이 있었냐 과거 유럽인 들로부터 아프리카를 지키던 게 2개가 있는데요 그중에 하나가 사하라 사막 림 이었구요 그보다 더 센 놈이 이 분이었어요 아프리카인들은 그래도 워낙 많이 몰렸기 때문에 좀 강해 매력도 있고 좀더 7만 더하고 이유로 있는 내려 뭐 딱 내려 보다 이렇게 뒷자리 뜹니다 그를 보여드릴께요 저길 너무 오질 못했다 그래 너와 나 죽는걸 높은 확률 여기를 중 앞을 가 에 들어갈 수가 없었다 내려가면 죽는다 목이 한계에서 아프리카를 지켜 준답니다 아프리카 의 수자 가디언 어부 아프리카 아예 훌륭 앞으로만 분야로 안되지 아주 몹쓸 로 이지만 앞으 털을 지켜 준 바 러그 부분이라고 할 수 있습니다 그래서 유럽인들이 인도에 갈 때도 이렇게 안 가조 가면 죽어요 못 가는게 아니에요 강원 추고 1 합니다 옆으 좀 알려 케 가면 되지 않습니까 가면 되지 주거 이제 그 3 죽기 때문에 돌아갑니다 아서 아플까 이렇게 돌아가서 1400 88년 바르톨로메오 디아스 가격과 3 박수희 방법을 발견해 무려 언제 1488 여명이 사라사 법도 없잖나 어디든 여기 있었으니까 아프다 주어를 할 수 있지 않냐 할 수 있죠 언제 가냐 1488 년에 희망봉을 발견했지만 아플까 중앙으로 들어간 것은 1856 300년이 거죠 하하 8 바닷가 따지는 갔는데 안으로 못 들어와 걸림 은 가면 죽어 죽는 겁니다 에 가디언 님 한테 걸리면 방법 없어요 가능 거야 가디언 님이 한두 마리가 아니거든요 가변 같기 때문에 중앙으로 들어와 되구요 300년 이걸 그전에도 들어갔지 1600년대 들어 천치 벽에서 들어갔는데 들어 방 하면 흔히 풍 턱도 일해야 하는데 이게 황열 병이나 말라리아 걸리면 가졌기 때문에 수호가 됐구요 뉴스에서 갖고 왔는데 얼마나 가 션 냐 보면은 1843 명의 백인 군인 중에 사망률이 48.3% 어 골드 코스트는 224 병주 기입이 21 뭐 이런 식이에요 그 들어가면 죽어 77% 가 풍토 병으로 사망 걸린 놈이 또 올리고 또 올리고 또 올리고 하면은 이 치사율이 10% 20% 틀 거래도 보고 한번 걸렸을 땐 이 집은 쉬울 때도 없이 보니까 이 방법이 없어 다른 거구요 이걸 해결 했던게 1600년대 아메리카의 나가있던 유럽 선교사들이 키나 나무라는 껍질에 연령 효과가 있든 발견합니다 익히니 소 의 힘을 말하는 키는데 성분은 몰라도 이 땅의 급질 보여드릴 병이 낫는다 그래서 이거를 선교사들이 만이다 꼬아서 예수의 가루라 그랬다 그런데 문제는 이게 너무 멀고 아메리카 있고 효과도 관심 많이 줘 진짜 인지도 모르고 결정 적으로 외에 났는지를 몰랐어요 적을 먹어 왜 괜찮아 지도 모르고 또 더 웃긴건 그 병을 왜 걸리는지 몰랐어요 이게 무슨 소리냐 자기 들한테 병을 옮기는 게 이브닝 걸 몰랐어요 아프리카의 수호자가 이 분이라는 것을 정말 나중에 합니다 정말 나중에 1870년대 봐 이때 가나요 그전까지는 일지 몰랐어 인지 알아 낸 문이 믿기지 않겠지만 노벨상 맞았어요 신체 입니다 왜냐 드디어 아프리카의 들어오게 해 준 거죠 대 식민지 시대를 열어 줬거든요 러 팔 테니 걸 알려준 분이 정말 역사에 답을 발견을 해낸 분이라고 할 수 있는데 아직 적을 먹으니까 괜찮더라 라는건 알려져 있었지만 이걸 결정적으로 성분을 알기까지 가 1820년 한창 들킨 인해 를 추출하는 데 성공했습니다 치료제 줘 치료 즐긴 한데 이때까지도 하지 왠지는 몰라 양 먹으니까 괜찮다 이 치료제가 나오면서 아프리카의 깟 이언이 무력화 되고 문 10 봉인이 해제 되면서 쉴드가 풀었어요 아 하 아 빠 법의 실드가 풀리고 여러분들이 땅 따 먹게 들어와서 이렇게 칼질을 하기 이제 시작한 거죠 아까 카페 문이 열리는 모기의 밥이 풀리고 1분이 어렸고 그러면 언제 발견 했냐 1879년 이 말라 마리아의 원인을 알게 됩니다 이제서야 거의 최 등의 최근 총 금액의 다르잖아 말라 네 원충 기생충을 발견돼 알퐁스 라브 락 이라는 분이 근데 그 때는 물론 예 때 원인은 명확하지 않았는데 왜냐하면 질병이 라는게 이런걸로 생기는 다는 생각도 잘 알던 때라고 합니다 할 때 발견을 해요 이겁니다 1879년 이고요 그러면 사람들이야 도대체 얘는 어떻게 우리 몸으로 들어왔을까 영국의 로널드 로스 라는 분은 그때 당시 많은 사람들은 물이 더러워서 더러워서 걸린다 라고 생각했기 때문에 물을 깨끗하게 먹물 노력을 했다 그런데 이 룬을 들어 사운드 인도의 있었어요 내 인도에도 말라리아가 참고를 하니까 물 깨끗하게 먼로 도 걸려 그래서 7월 합니다 어떤 실험을 말라리아에 걸린 환자들을 옆에 모기를 갔다와서 모기가 그 환자의 피를 빨게 해 그 다음에 그 무게를 해봐야 말라리아 병원 제가 목이 안에서 살고 있는지를 확인하기 위해서 그런데 해볼 해봤는데 목이 해부도 대단하네 어떻게 했지 뭐 기한의 병원체가 말라 랫동안 죄가 없어 때요 왜냐 아까 되겠죠 얘네도 취향이 있는 분이라고 특정 노기를 찾아든 모두 모기가 있는게 아닌데 몰랐죠 뭐 해 보니까 없어 하하 이거 뭐 긴거 같은데 없으니까 합장을 해 봤는데 많은 목 이들을 데릴 갈라 본 결과 그 놈을 찾았죠 찾아서 드디어 모기의 위해서 말라리아 병원체를 발견합니다 아프리카 의 가디언이 드디어 검거가 됐죠 이 검거가 된게 언제냐 샵에 9시면 거의 500년 전 이니까 그랬고 이 공로로 1902년 왜 생리 약 쌍 드디어 말나리 의 원인을 찾아 내가 목이 배를 여러분 갈은 답에 그놈을 찾아내서 영웅 연 기사 작위를 받아 나이트 미드나이트 목이 배 갈라서 왜 나이트 냐 영국이 말라리아 때문에 인도 집에 어려움을 겪었다고 닫았다 왜 민도 안으로 못 들어 가는거 드럼 죽어 할 스파 구축 어 저흰 도 12를 못했는데 물론 키 4 를 먹기 때문에 들어가긴 하는데 왜 인지도 모르고 상해서 드디어 우리가 못 들어가도 원인 인도의 씨들을 완벽하게 풀어준 게 로널드 로스 라고 할 수 있고요 아까 전에 우리 몸 안 해서 돈 충을 발견한 노벨 생리 약사 r4 스라브 라 이 아저씨도 역시 노벨 생리의학상을 받습니다 한마디로 이 모인 님이 쉴드를 풀어주고 김민지 지배를 열어주는 순간에 노벨상 2개가 배달이 된것이 여러분도 지금도 옆에 있는 모기를 잡을 때마다 배를 가려면 노벨상의 올 수도 있어요 아직도 모르는 거죠 말라리아 말고 딴 것도 있을 수 있으니까 작은데 이 당시 사람들은 키는 애를 먹을 문제가 없다는 걸 알았죠 응 해결이 된다 문제는 맛이 없었던 선원들 한테 이걸 먹으러 드리니까 않아요 자꾸 안먹어 몰래 먹는 척하고 뵙고 그 키스도 안 먹어봤지만 다시 업데 그래 갖고 이걸 못 예방법을 생각을 합니다 배 선언 들한테 병사들한테 이거 쉽게 먹어요 어디서 타야 돼요 벌 아타 에 대해 앞으로 그 축복인가 그쵸 여기 나타내 키가 마키에 먹었다 술에 타 스 아 선원들 술 타면 죽어도 먹자 의술 타니까 마 15 잘 맨날 없드라 맨날 먹더라 p 여러분들이 발수 하시는 진 터 등이죠 지네 퀸의 섞어서 선언 들한테 준 진 터지진 토니 먹고 술취해 갖고 제 칼을 들으면서 말라리아 무섭지 않다 라고 아프니까 쳐 들어가고 인도 쳐들어 영국인들이 대영 제국 을 만들 수 있게 만들어 준 바로 그 술이라고 할 수 있겠죠 요키 내가 식민지 시대를 열어 지게 됐고 나중에 1차 세계대전 때도 굉장히 귀엽다 글입니다 필요하니까 전쟁을 아프리카에서도 하자 1차 되게 3개들이 3개 되죠 여기서도 하고 저기서 달고 키이나 필수인데 독일은 키 내릴 거야 어려웠다 그래요 해외 식민지 가 많이 얻고 키 내가 나온다고 부터 아메리카의 저 니까 독일의 아메리카의 뭐 없잖아요 킹을 구하기가 굉장히 힘드니까 그래서 독일 애들이 연구를 많이 합니다 독일이 화학 강국이 줘 그래서 무슨무슨 퀸 이렇게 분 는 최근에 까지 여러분들이 많이 보는 약물들이 도비 리포터 만들었죠 키 1분 을 이용해서 뭐 클로로 킨 뭐 이런거도 들어왔죠 트럼프 아씨가 뭐 이거 코로나 로 이거 먹어 되다 꺾고 맛이 썩 그런 약물들이 계정에서 나온 거구요 극우 꼭 마신다고 안됩니다 말라리아 치료제 말입니까 거기다 가신다고 되진 않지만 맨날 진토닉 마시듯이 그냥 라고 마셨던 게이들에게 되겠구요 더 있습니다 악대 안 끝났어요 이 말라리아 기생충 이다 보니까 내 이성을 가진 놈들이 등장 조금만 원충 이자 내성이 생겨 그런데 당시 베트남과 미국 베트 않는 장 때도 벤츠 카메 얼마나 모기의 많겠어요 말년의 상자 엄청나게 생기니까 북백 타임에서 자가 병사들이 죽는가 마오쩌둥이 말라리아 치료제 개발에 명령했다 는 말이 있습니다 513 인물 아 그래요 1917년 그거 말고 다른 치료에 대해서 개발 해라 실제로 개화를 합니다 과학자들이 달려들어서 중국 식물 과학자 투 유 란 분이 이 개똥쑥 일하는거 에서 말년에 치료 성분의 발견 하고요 이걸로 세번째 노벨 생리의학상을 받 지 좀 뭐 설왕설래가 있었죠 중국 정부가 뭐 한거 아니냐 있었지만 하이튼 크게 모으기 배를 갈라서 세번째 노벨 생리 의학상 야 말라리아 모기가 세번째 노벨상을 75년 해 가져왔습니다 여러분들 패를 가르치면 네번째 분리 학생은 한국의 할 수 있지 않을까 생각이 되구요 그럼에도 불구하고 아직도 매년 2억명 이상의 걸리니까 요번에 2021년 현재 입니다 말라리아 백신 이 나왔어요 또 우리 치사 보충 이러니 겠어요 모든 역사 되겠네요 키 내가 발견되서 아프리카의 문이 열렸던 날과 2011 세계 최초 말라리아 백신 이 나온 오늘 역사적인 날이다 물론 이번 유전 낮아 39 뭐 30% 그 3분의 이긴 한데 법무부 나왔죠 이게 걸리면 죽지 않는다 그래도 파악을 때 자 아프리카 여행 가서 아니면 못 동남아 여행 가서 말라리아 걸려 봐요 어려워지자 그 돌로 갔는데 정말 하듯 될 정도의 괴롭 이기 때문에 이 말라 레벨 c 앞으 사람도 얼마나 많이 글래머 억 단위로 걸리는 인류 최대의 질병이나 다름없습니다 감기 정도 제외하면 은 인류 최대의 질병 인데 이 백신이 발견된 게 저 11 어 아니 라고 하구요 물론 이 백신 때문에 4번째로 배당이 나올 건지는 톰 백신을 조금 알겠죠 이제 막 나왔으니까 아직 모르겠지만 저는 게 제작합니다 여러분 입니다 21세에 최고의 발명품이 뭐냐 여러분 뭐라고 생각하십니까 2000년대 최대의 발명품 저는 과감하게 여기에 한표를 행사 하겠습니다 바로 아 tour 날 좋아 좋아 좋아 야 이거 없었으면 어쩔뻔 했니 옛날에 찰싹찰싹 그것이 인트로 찾으십시오 그 못잡으면 또 이게 힘들어도 마블 거면 헤어 안 보이잖아 즉 야 이거 시청률 95년에 등장했어요 실제로 등겨 2000년이 찾는데 2000년대 21세기에 최강 말 명품입니다 야 좋아야 전기 파리 차안에 전기 모기 채 8일 이걸 왜 잡아 파리 살려줘 비싸 가자 다 귀엽기도 하고 참여 북부 내고 청지 뭐야 이거 진짜 최강의 발명품이 아닌가 생각이 됩니다 이게 아 이것 중 일 중에 아주 훌륭한 이지 않나 생각이 되고 참고로 자두는 얘기를 안 했는데 그 옛날에 스컬리 한번 나왔어요 파나마 운하를 만들 때 저 모으기 때문에 실패할 거야 줘 저 모기가 하도 말라리아 황열병 을 걸려서 하나보다 만들던 사람이 파산의 도주한 4구 는거 가면 다 주고 항상 점검을 해 주고도 저야 되니까 나중에 나중에 나 경우 개가 완성 그랬던게 역시 이놈 덕분이다 1 후에 저 좋아요 아 훌륭한 이 발령 그 때문에 올 여름은 저 예 그 없이 우리나라에서도 걸릴 수 있다 글입니다 적 휴전선 어디 근처 가면 걸릴 수 있다 그런데 사실상 청정국 에 가깝기 때문에 우리는 걱정하지 않았지만 아우 걸림 하게 된다 그러니까 주시면 되지 않을까 생각합니다 요즘에 채널의 의해서 금쪽같은 내 새끼 라는 프로를 한다 글입니다 여기 보면은 우리 이지연 변의 인 잊어 선생님 나오는데 그 아이들이 나오죠 니 아이들이 어 보신 분은 알겠지만 우아 진짜 감당하기 힘든 감자 힘들 정도의 그 말과 뭐라고 행동을 부모 엄청 힘들게 하는 아이들이 나오며 특히 요 꼬마의 아직 어리니까 그렇게 하는데 요건 아이가 정말 아이 라고는 믿기 힘들 정도로 극단적인 단어와 폭력적인 행동을 보이지 않아요 아이 키우는게 그렇게 힘듭니다 참 아이가 얘도 물러 지크 면은 성인이 되면 아직 하는데 아 이때 이런 모습을 보이는데 그 거기 있는 스크린샷도 요즘 컴퓨터에 많이 돌고 있더라구요 이르면 그 아이가 하는 말인데 이 충격적인 단어들 뭐 죽여야 겟다 짤을 올리는 사람은 그런 대가 니 써야지 뭐 또 엄마 그래서 죽을 거야 이런 부모 마음에 어리니까 그렇긴 한데 부모 마음 애니좀 대못을 강릉 말들이 줘 엄만 따위 필요없어 어려운 뭐 그렇게 뭐 누나한테 굉장히 막대가 그런 모습을 보이는데 지옥을 보면서 물론 쳐 아이가 선택에 나프 그런게 아니라 여러분들 방석 보셔서 알겠지만 이런 표현이 많이 나오죠 adhd 라는 표현이 맞나요 요즘에 워낙 유명한 단어가 됐죠 사실은 10년 2002년 2005년 정도만 해도 그렇게 2명 단어가 였는데 최근에 우리 사회 로 좀 강타하는 단어 중에 하나가 되고 있잖아 생각합니다 hd 가 영어로 위에 있고 한글로는 주의력 결핍 과잉행동 창에 라고 읽는다고 합니다 서울 아산병원 에서 가져온 거니까 맞을 거에요 제가 할 늙 틀리지만 아 4동 하니까 말이야 생각하는데 이 adhd 를 보이는 애들 어른도 있다고 하는데 보통 산만하고 과잉행동 이고 충동성 을 특징으로 하는 질환이다 이거는 질환입니다 비평이 고뇌에서 뭐 호르몬이 뭐 턴 초안은 병이라고 합니다 지 좀 보여드릴께요 보통 12세 이전에 발명을 많이 하고 만성적인 경과를 보이며 이온을 주시기도 하지만 시료를 안 할 경우에는 성인 데까지 가면서 성인 해서 이 사회에 적응한 굉장히 어려운 가꾸는 질환이라고 하는데 단 봅시다 adhd 가 어떤 아이한테 영향을 가져오는지 아 저는 이제 감정이입이 많이 됐어요 왜냐하면 겪고 봤거든 제 예전에 그저 어렸을 때 어렸을 때 가족 중에 사람의 겪어 봤기 때문에 정말 정말 실제로 겪어보면 감당하기 어려워 아마 영상 보시면서 도 tv 보시면서 지킬 때 감당하기 힘듭니다 왜냐 이 아이가 기분이 롤로코스터 처럼 변해요 순간적으로 폭발합니다 갑자기 반복하는 그것도 감정이 애가 폭발을 하면 정상적인 대화가 힘들어야 빨리 태아가 잘 통하지 않아 너 설득이 되거나 논리가 이미 죽고 감정이 막 파라고 있기 때문에 여기 되어 가 있는데 이 정말 사람을 어렵게 만들죠 정말 힘들게 만들고 또 아이의 따라서 어떤 아닌 안걸린다는 심한 아이는 임에 거친 욕과 아이가 한다고 생각하기 힘든 그럼 단어들이 나옵니다 모두 죽여 보 죽고 싶어 그 찌를 거야 뭐 그리고 씻자 붙은 녹 뜰 뭐 그런 욕들 그 아이가 하기 힘든 냉을 이제 많이 g 걔도 바라는거 6화 하기 때문에 이렇게 하는데 또 egg 등 상을 보이는 애들이 따라서 사람에 따라 다른데 아침에 잘 못 일어나요 문제는 아니지 않아 타 끌어갈 이거 한번 끼워 4 전쟁 에 아 전체 1 손재 온 집안이 특히 요즘엔 애태워 로 오잖아요 스쿨버스가 온단 말이에요 금 스콜스의 열 명 스무 명의 기다리는데 예를 들면 요즘 m1 8 10 뿐 이라고 할까요 8시 폰에 기다리는데 애가 8시 5번 인데 아니라 아무리 소리를 지르고 아무리 날 저도 뭇 일어나고 일어 날려고 그러면 굉장히 활 적으로 반응을 하니까 이 버스가 기다리고 있는데 가 안 일어나는 이 그 감당하기 어려운 그런 아침 아침마다 전쟁 사람마다 다르지만 아무리 부패도 취하게 꿈을 거립니다 c 아싸 이거 뭘 꿈을 거리니 머리는 하이트 뭔가 꿈을 거여 마지막 정말 마지막 절박한 그 순간까지도 행동을 잘 하지 않고 또 너무 특정 물건에 집착하는 친구들도 많이 있구요 어떤 물건의 아닌 무드음악 쌓아둔 저장 등 박주미 라 그렇죠 방 해방 가면은 그냥 그 3사를 때 써 언급 에서부터 10살 때 쓰던 것까지 하여튼 계에서 9분 쌓아두고 거리면 과라고 이런 애들도 있고 진행에는 문제가 없어요 애들은 다 똑똑한데 집중력이 떨어진다고 합니다 의사선생님 에 따르면 집중력이 떨어져서 과제를 못따라 는 학업을 어려운 똑똑하지만 아오 번 10분 보면 자꾸 산만해서 막 딴거 보게 되고 학업을 전혀 따라가지 못하기 때문에 물론 이 애들도 크면서 이제 다 따라 가는데 그 시기에 따라가지 못하기 때문에 계속 패배감이 사이즈의 아이나 이들을 패배감이 쌓이고 특히 어려워하는 과잉 반 갑자기 뭐 길가다가 어떤 행동 음식점에 가서 탱 동기를 행동들이 보이면서 정말 참 힘들죠 정말 힘들고 이게 과거에는 형님들 어려서 쪽에 이거를 아이의 성격이나 기질에 문제라고 생각을 했어요 이것도 잘 알죠 왜냐믄 저희 부모님께서 할머님 a 계셨는데 어 니 이모가 어렸을 때 장난 아니었다 아니 이모가 할머니가 어렸을 때 손잡고 같이 한강변의 산책도 같다 아직 열 받았어 파티를 많아서 이 뭐 한테 50 1 거리 거야 그랬더니 이모가 전혀 아무 서 하더라도 과연 대단하구나 그런 건 한번에 매겨져 있지 에 옛날에는 그랬지 날에는 뭐 외가 하려고 얻어 되니까 이건 어린데 그중에 한명이 adhd 증상을 보이는 게 거의 10% 라 그래요 아이가 7 8 로 이면 개 중에 한명은 야 쉽지 않은 애가 있어요 이 할머니 할아버지들이 면은 즈 추천 천 첫 일제가 얼마가 키우기 힘들었는지 아냐 뭐 그런 3000 이나 이러한 사람들이 보통 있어요 집안에 꼭 하며 있어 뭔가 동 q 타 같은 뭐 빨리 수 없는 옛날에는 근데 그걸 이제 성격 아니면 기질 이렇게 생각했는데 과학이 발달하고 심리학에 발달하고 하다보니까 요즘에는 뇌의 뭐 허름한 쪽이 문제 아니면 뇌의 성장에 문제 이런걸로 생각을 한다는 거죠 이건 이런 걸 보면 특히 그 프로그램 그림이 금쪽같은 내새끼 이 풀의 보면 보신분들 타이 걸 느끼실 거에요 아유 저거 로 확대 장 등장을 때려 왔고 그렇죠 아 유저로 옛날 뒤 제가 박박 데려 갔고 그 말 자들에게 만들 수 있는데 뭐 군대에서는 때 리브 난다 뭐 이제 이런 그 생각을 하시는데 어 실제로 그렇게 하는 분들 많죠 4 실제 경험에 보면은 그때는 거칠 수 있지 폭력이라는 무섭기 때문에 그때는 꽂힐 수 있는데 연락은 애한테 확대로 넣고도 열라 지마 그러면 어 안 난다 고 말할 수 있는데 안 나는 거 아니죠 열나는 덴 블럭에 sf 등 싸대기 때린 다음에 10 안나지 그러해야 열을 안다고 하는데 사실은 열이 나기 때문에 이게 왜 쉽지 않은 생각보다 쉽지 않고 남의 같지만 아우 그냥 손 대서라도 라고 생각하는데 생각보다 10:30 정상이 되고 이게 원인을 살펴보면 라사 병원에 따르면 외 한해 주의 직접 능력을 요하는 무슨 물질이 이따 글입니다 무슨 물질이 있는데 뭐 도파민 아 이런 물질이 있는데 성장이 좀 늦거나 아니면 어디가 더 빨리 성장하고 나님 유저 쪽으로 뭔가 문제가 있으면 그런 신경전달 물질이 불균형하게 발생 하기도 한데요 그렇게 되면은 주의 집중력과 행동을 통제하는 뇌 부위가 이 클래식의 나이가 들면 절반 정도는 자연 치유가 된다 글입니다 내가 성장을 하면서 적절한 물질이 분비가 되면서 58 정돈 잔치가 되는데 그때 치료를 제대로 안하면 아까도 얘기했지만 50% 는 어른이 되어서까지 이런 문제를 보이게 된다고 합니다 전문 유전적 이라구 천재다 말이 많은데 그렇다고요 니 증상이 어려운 점이 있어요 외관상 그 애가 너무 멀쩡해 보여 그래서 옛날에도 그랬지만 게 성격 기질 무용 걸로 아니면 도덕적인 문제 아침에 뭐냐면 의지적 문제로 취급을 해서 등 싸대기를 알리게 됩니다 i 참기 힘들어 이렇게 요즘은 찾죠 요즘 성인 여러분들은 폭력의 문제가 있다는 알기 때문에 n 싸대기 우리나라에도 잘 안날 이잖아요 옛날 우리 아버지 때는 몸 안 하면 증설 얘기죠 저런 행동을 보이면 저만 해도 고등학교 때 우리 체육선생님 일렬로 세워지는 따귀 때리는 때 거든요 함께 굳이 딱 이때 리드 깨문 채 머리 너무 당연하다는 때니까 당겨 같은데 개의 어떤 도덕적 의지적 문제가 있다고 이렇게 비난하게 슈얼 날고 옮기는 열나는 거죠 10 않은데 너의 어떤 도덕적 자질 역부족인 아 이제 반항심 이기심이 많다 먼 놈이 이기적인 놈이다 이런 평가를 개한테 비단이 가격 되기 쉽고 그리고 이거 있게 있죠 아이의 어떤 도덕적 성격적 문제로 판단 함과 동시에 보호자 입장에서는 이게 인내력 캐스트가 의 비슷해요 아 그 보시면 알겠지만 참기 힘들죠 부모한테 욕을 하고 구한테 폭력적인 행동을 하고 아침에 아니라 다고 전쟁의 않고 다 팔지 보기는 다 2시간 걸리고 옷한벌 있는데 얘가 폭발적으로 만 응하고 박변 학원에 가서 우리 아이가 피해를 받지 않았다 아니 반대로 피를 주저하는 이런 걱정은 계속하기 때문에 인내력 테스트를 엄청나게 많이 하죠 그래서 여러분들도 보면서 사랑 애매 이렇게 하는데 제가 사랑의 매를 우리 선생 선호하죠 그렇게 많이 달려 보 결과 이게 여러분들도 그렇지 않습니까 30년이 지나도 안 잊혀 져 요 2 그 억울하게 맞았다고 생각하는 그 체벌의 기억이 요즘에 체벌 없잖아요 와 그 중간 끝이 챔 어렵죠 억울하게 맞은 그 순간이 안 잊혀져 지금 제 나이가 이제 27 이니까 열다섯 살에 또 12년 전의 그 일이 아니 차죠 15살 16살에 선생님들한테 맞았던 그 기억이 s2 함부로 5 애를 그 하는것은 확실히 쉽죠 남의 이니까 남의 에 는게 이렇게 말 하기 쉬운데 이 아까 되겠지만 정말 어려운 일이다 열나는 사람보고 때리면서 차 뭐라고 말하는 거 굉장히 비슷한 느낌을 받죠 깨나 가 adhd 가 여러분들 주변에 있으신 지 모르겠는데 팀 2% 를 보시면 알겠지만 왜요 왜 물음표를 왜 뭐가 문제 였어요 문제 있어요 아 27 왜 아이 것들인데 아노 때문에 여러분들이 야 그런 사소한 오류 느 조금 지나서 됩니다만 나체 안나니까 사소하다 너무 사서 그 메인 흐름에 집중해야 저렇게 사소한거 집중을 하며 는 흐름으로 지수 자수한 거야 지나고 그러려니 암 왜 그렇게 부하와 올라오 된다 이 심각한 얘기하는데 올라와서 뭔가 있더냐 사소하다 또 이런 구제 ada 뿐만 아니라 이런 정치적 이 어려움이 있으면 이 주변 사람들의 정신적 데미지가 큽니다 예를 들면 부모가 우울증에 잘 걸려요 그 형제 자매도 심리적인 데미지가 있어 누가 폭발 하거나 막 그렇게만 험한 욕을 하거나 험한 행동적 그 모습을 보이면 옳지만 부모가 올해 그치만 분위기 항상 살오른 발 종말 나쁜 말라면 개판 탐험가 깊다 입니다 아침마다 전쟁이고 밥먹을 때마다 소리소리 지르고 서로와 그렇게 되면은 이게 정신적 데미지가 옵니다 가족들이 금오도 그렇고 같이 자란 형제 자매도 그 금 쪽에 보면 누나가 5조 엄청 이쁘게 생겼던데 아이가 엄청 q5 누나 하드 정치적 대미지 내가 원래 이런 에 아니었는데 작품 이렇게 딱 이런 것을 나오던가 시청자들의 심금을 올리는데 그 실제 가족 분들은 아마 이 느낄겁니다 겪어본 사람만이 주변인들의 감정적 정신적 체가 굉장히 쌓여가고 게다가 이 아이도 계속 꾸지람을 됐잖아요 계속 지적을 다하고 넌 늘 그래 니네 누나 난 그러니 네 형은 안그런데 누군 안 그런데 계속 꾸지람을 들으니까 외에도 올해 줘 그런 세이디 hdi 거나 adhd 성인 인 경우에 치료를 안 받으면 우울증의 쌓여서 안좋은 소리지만 극단적인 선택을 하는 경우가 굉장히 늘어난다고 그 6대가 내려 간다는 건데 이거 보니까 게다가 계속 꾸지람을 드리니까 애가 불안해 자기가 뭐 하면은 끝나는 거예요 원래 헌 날 행 동일한데 잘 모르는거 조작이 잘 모른 상태에서 보만 하면은 혼나고 모마 하면은 부모가 소리 지르고 만 하며 하는 선생님이 뭐라 그러고 집안의 문제인거 마치 취급을 받고 적대적 방랑자의 같은게 나오고 또 학업 이부진 하죠 그 상황에서 공부가 되겠습니까 집중적 떨어진 상황에서 지능은 문제가 없지만 나남 된다고 잠깐 자존감이 급격히 떨어지고 그래서 나중에 성인이 됐을 때 자존감이 엄청나게 낮은 사람이 될 가능성이 크게 없다고 뭘 해도 안 된다 그러니까 뭘 해도 실제로 잘 생각보다 디자 구형보다 안돼요 왜 동생보다 안될 누나보다 안되고 잃게 되기 때문에 키 곡 여러분들 여러분들은 다 이젤을 3명 또는 4명씩 나실 거죠 계획을 다 하고 계시잖아요 애국자 신 그때를 대비해서 혹시 아이가 그런 모습을 보이며 는 신경을 썼고 치료를 받으셔야 된다는 왜냐면 이게 10대 자살률 의 굉장히 크게 영향을 주는 걸로 알려져 있구요 6가 랍니다 6 예 어깨에서 그것 때문에 부모 하고 트러블이 생기고 온 우울증이 생기고 바 남자에게 생기가 3명 아니라구요 왜 며 이상은 전부 뒤에 예명 이상한 정말 이 달 밖에 물고 좀 다운을 백마고지 전투 나오거든요 그 정도 되는 애국심이 투철한 애국심 이 아니면 내 명을 무기야 4명 생각에는 적절히 너는 세 명의 닭들이 너는 3명 적어주세요 그치만 검 중요한 적절히 너는 금메달 은메달 동메달 뒤 한겁니다 국가와 민족을 위해 아 달리 나눈 수를 따르다 행복을 위해 3명 정도가 적절하다 그랬을 때 저는 행동을 보이는 아이가 나왔을 때 게 뭐 아이를 탓하고 다 자기 자신을 탓할 필요가 없다 일종의 질환 인거죠 중에 질환이기 때문에 질환인데 꼭 사람들은 또 이런 시선을 같습니다 그렇죠 넘어 보여주면 푸가 문제 아니냐 집안 가정 교육이 문제다 꼭 이런 소리를 해요 개가 어디가 더 그럴 거 입어서 공작님 집에서 개를 교육시켜 맹모 3000g 유래도 이 뇌에서 질환이기 때문에 쉽지 않을 쉽지 않기 때문에 부모 닮은거 아니냐 부모가 가정 교육이 문제다 그와 어떻게 시키는 거냐 서로 모어 남편 때문이다 아 뭐 아닌 때문이다 이런 식으로 짜 우기는 가장 트러블이 많은데 이게 사실은 좀 과학이 발달하기 까 아 뭔가 흐르 멋지게 문제라는 것을 외에 문제라는 걸 알게 된다는 고 여러분들도 빠지게 꼭 생각을 했어요 왜냐하면 생각보다 많습니다 이게 그냥 모 100 과정 중에 한 두 가정 그러면은 뭐 우리가 그 가정의 문제를 생각하는데 초등학생 63% 라는 말이 있어요 굉장히 많 여서 7 과정 중에 한명이 아니지 여러분 내가 여러 명의 니까 애가 3 시디 보니까 2 가정 중에 하매 6명 중 1명이 니까 2 가정 중의 한명은 이런 가볍거나 경중을 있겠지만 adhd 같은 어떤 뇌의 발달이 다른데보다 작가 느리거나 나이가 들면 되긴 하지만 이런 경우가 있고 중고등학생이 7% 된게 높기 때문에 뭐 이건 강하게 발 다르니까 저렇게 생각을 한다 그리고 아까도 말씀드렸지만 60에서 88세 진상은 아 그리고 제가 비판을 받은 게 말이 너무 빠르다 너는 도대체 뭐라고 하는지 알아들을 수가 없다 자꾸 뭐 온건 거리고 뭔지 모르지만 잡고 너스레 가 쎄고 너무 말이 빠르고 넘어가기 때문에 천천히 천천히 부드럽게 얘기해 달라 라는 피드백을 받았어요 최대한 천천히 부드럽게 얘기하고 있습니다 1 처치하는 데 짚지 않지만 최대한 좌천 이 부드럽게 마치 그 우리 그 과외 선생님이 봐야 된 분위기로 화질이 결론을 노력하고 있습니다 물론 언제까지 할지 모르겠어요 힘드세요 이렇게 얘기하니까 그렇게 하려고 하고 있는데 하이트 이런 증상이 치료를 안 할 경우 에 청소년기 까지 안 60에서 88세 정도가 지속된다고 합니다 반대로 얘기하면 뇌가 성장함에 따라서 그 문제가 있던 애가 청소해야 되면 사그라 드는 경우도 꽤 된다고 해요 거의 40 포인트가 되니까 치료 안 받으면 50% 가 성인이 되어서 조금 이따 성인의 증세를 보여 줄 텐데 아마 여러분들이 갑자기 채팅창에 분명히 그때 난 달을 치실 거에요 왜냐면 성인 adhd 증세가 주매 소리가 생각보다 많이 보이는 그런 모습 볼 자 1지 그렇기 때문에 꼭 치료를 받으시고 오 레이디 gt 만약 치료할 경우 l 많이 나타나는게 적대적 반항 장의 목마 자꾸 애가 아직 안 했어요 지금 치시면 안됩니다 난간을 아지 안했어 미래에서 미안해 아직 그 얘기 안 했거든요 모자 칩 안돼 하면 할까 라는 거죠 예 아직 내기 안했습니다 아직 안나왔어요 자 그래서 뭐 그런거 싫어 않으면 적대적 바당 장애를 같이 말 지지리도 안듣는 우리 때 를 치면 저희 어렵게 살 빼면 중고 달 그때가 초등학교 때 하이트 선생님을 취해도 안됐 꼭 청개구리 같은 애들 있잖아요 그게 물론 적대 바당 장애란 어떤 기금 장애가 있는 경우도 있지만 심리적으로 이런 a 세이지 같은게 치료를 안 해 왔고 그게 이어지는 경우가 생각보다 많다 로 절반이 됐다 그러니까 한번 그런 경우가 있으면 그 치료를 받으러 가보셔야 라 라는 얘기를 드리구요 성의 되었을 때 이런 증상이 딱이다 일단 하나하나 천천히 볼게요 자 전 체력을 한번 읽어주고 과다 활동은 청소년기 로 접어들면 유의미하게 감사한다고 입니다 과다하게 이런거 있잖아 이런 값지게 꽉 하는거 이런거는 유임 하 게 감소 여기 성인이 되면 다들 조용히 잖아요 비교 줘 침착해 지고 어렸을 때에 비해서 내 성인이 돼서도 님이 하 게 감소 안하고 과도한 액션이 가능하다 개그맨의 자질이 있습니다 그 정도 되요 그게 맘들이 많이 보는데 나는 과다한 액션을 별다른 무리 없이 해낼 수 있다 그때 대물 능력을 수도 있어요 안 좋게만 보지마 능력일 수도 있어요 개그맨이 아무도 아직 쉽지 않아요 카메라가 앞에 한 20대 있어요 랗게 앉아 있는 분들이 여러분들 안보여서 그렇지 50명 정도 되어 50명 심지어 드라마 찍음 100명이 야 그럼에도 불구하고 그 때가 싹 무시하고 나는 내가 하는 그런 과다 액션을 자유롭게 할 수 있다 은파 일이 잘 안 좋잖아요 그럼 너 되면 그 글로벌 스트리머 2 될 수 있습니다 글로벌 스트립 어 그 진짜 어려운 거기 때문에 만약에 내가 그 정도다 라며 는 요즘으로 가 어떻게 보면 또 복으로 생각할 수도 있는 거 골 약하면 3 않게 말 쉽지 않아 쉽지 않아요 자파 지만 본토 경우에는 집중 유지가 어렵다 그것은 근데 다 어려운 거 아니까 제가 이거 도핑 물약 괜히 먹는거 아닌데도 유무 20조 어렵지 않은 과도한 집중을 한다 언제 여러분들 잘 모르겠지만 법으로 라 할 때 그걸 옆에서 바가 돼 수습한 먹어라 라거나 쉬고 거르지 않고 와 반 동안 액션을 암 눈썹 롤의 과도하게 집중을 한다 그럴 때도 있구요 건망증 40 넘어가면 생기는데 쪽을 다 식고 드리겠습니다 충동적인 감정들을 없다 며 아직 보면 성인이 되었을 때 이런거 일을 끝마치지 못한다 성인의 5% 정도 산다고 합니다 전체 3 회사 오퍼 색 정도가 이런 증상이 있을 거라고 예상한다 그랬는데 1 끝마치지 못하고 지우지 끄는 거 어 저는 뭐 일을 끝마치지 못함은 이를 알기 때문에 거 잘 모르겠는데 과도한 집중 내가 그 어떤 검을 얻기 위해서 과 더한 룰렛을 돌리고 있다는 한달에 100만원 이상을 투자하면서 흥분과 보상 있는 일에 과도하게 몰입한 다고 생각하면 가서 약을 먹으면 조금 않아 될 수 있습니다 거기에 대한 재미가 떨어질 수 있어요 내가 과도한 집중을 수 있다니까 응답이 아니라도 막 하는데 너무 내가 몰입한다 아니 뭐 에 너무나 빠져 있다 그러면 나를 탓하지 말고 꼭 병원에 가서 한번 약을 먹어 보는 것도 도움이 될 수 있다 가만히 있는 걸 못 참는 달아 아까 말씀드렸지만 그 개금 해 예 1 개그맨 분들이 신기에 요오 문의사항 그 tv 촬영하는데 가만있으면 은 자기가 못 참아 뒤 있는 것 같아 뭔가 해야 돼 자 잠깐만 지금 뭔가 지금 제가 이렇게 하고 치료를 받을수 있을까요 봐 걱정을 하거든요 뭔가 하이트 트립을 알리려고 끊임없이 노력하고 가만히 뭔가 이렇게 조항을 찍은 바 이렇게 움직이려고 그래요 가서 되는거 아닌가 물로 생각을 하고 있기 때문에 가만히 고참들이 경우 있지만 일반적이 생활에서 시끄러우면 그렇다는 거구요 자극적 흥분되는 이를 죽어 한다 뭐 어느 수준이 있겠죠 뭐 이런거 만성적인 지가 이게 자기가 조절이 안되는 분들이 있어요 신기에 호랑이 팀장님이 그래도 한 3일 녀석 지각을 해서 진짜 엄청나게 깨졌는데 그 다음날에도 지가 그러한 놀라운 기적을 보여 친구들이 가끔 있습니다 가끔 심지어 군대에서 구타가 행해 가던 시절의 아침 점호를 하는데 안 일어나거나 그냥 광장에 모여 있는데 와 흩어 거기 중대장님 연설을 하는데 이제 그 저서의 비비적 비비적 나오는 그런 동안 온 애들이 있어 여기를 뭐라 그러면 된 개는 열이 나는 거야 그냥 봄에 몸에 열이 나는 거기 때문에 저런 천하의 뭐 쓰려고 하고 지나친 그 옛날 옛날 문제처럼 마크도 타원 아들로 안되고 게 진짜 약물치료가 필요할 수 있다 아예 집이 전기 정돈이 안 되는 흔들 엄청나게 뭐 쌓아두는 분들 자제하지 못하거나 무리하거나 부적절한 언사를 그대로 내뱉는 분들 특히 이걸 얼굴보고 내뱉으면 진짜 병 이고요 윈터 4 사회에서 내뱉는 분들도 있습니다 얼굴 보고 이것을 그대로 내뱉는 문은 정말 가끔 마세요 가끔 참지 못하고 가끔 미친거 아닌가 예 뭐 아저씨 어떻게 저런 말을 하다 생각을 저는 가끔 있는데 대부분은 그 2선 했어서 하는 경우가 있죠 그러자 종가가 섬 시간에 과도하게 낮거나 감정기복이 심하고 예민하고 팔려 글 화를 내는게 너무 반복적으로 누구나 그럴 수 있는데 이게 좀 심하고 반복적 이 되면 가서 압박을 받아 먹으며 좀 나아졌다고 한다 그래서 요즘엔 아이 시절의 발견하면 되게 다행히 라고 합니다 오히려 잘 발견하면 근데 요즘에 발견자 해요 왜냐하면 은 저런 프로가 많으셨고 부모 입장에서도 정보도 많아졌고 금세 산 예를 진짜 1억을 주고 소라도 고치고 싶은 약간 그런 거거든요 이게 엄청 힘들기 때문에 그저 지금 발견을 많이 한다 그런데 다행히 아니게 생각이 되고 특히 우리 아이가 달라졌어요 2005년 에서 2015년 2% 가 나오고 우리 보온 0 박스까지 선생님들이 다 오고 하면서 애들을 그렇게 옛날처럼 접해 면서 하는게 아니라 게 뭔가 문제가 있어서 이렇구나 라는 것을 차이가 많이 느끼지 않나 생각이 되고 다만 아직도 처음 힘까지 발견하지 못하는 경우가 상당히 많고 그 경우에는 잠재적인 경우에서 인해서 들어가는 경우도 있으니까 꼭 문제가 있으면 꺾고 꼭 제가 이제 5치 물닭 보는데 성이 된 다음에 심리치료 알아 와서 그때 세안에 문제가 이거였구나 라고 깨닫는 분들이 굉장히 많다 나중에 4월께 집중이 안되고 하단에 이렇게 뭔가 자존감이 낮고 나눌 때 성취가 안되고 나에게 참지 못하고 아머 시대나 수치보다 이런거를 나중에 이런 벤타 키워 받았을 때 다 내가 문제가 이런게 있었구나 야 이런 약을 먹으니까 급속도로 좋아지는 특히 제가 adhd 약을 먹어 은 간첩 한테 물어보니까 갑자기 세상이 확 바뀌는 그런 느낌을 받는데 먹고 나서 갑자기 뭔가 확 중이 되고 뭔가 그래서 이거를 이 약을 옛날에 보고 3 애들이 쇼 꽃만 하려고 먹는 그런 미친 짓을 했다 그런데 그렇지만 되구요 뭔가 집중도와 올라가는거 건물주 귀작이가 바뀌는 느낌을 받는다고 하니까 갔었고 해보시면 은 약물치료와 인재 누 치료를 꼭 한번 받아보시면 나중에 우리가 이제 고민 해 라고 자기가 심리적으로 데미지가 쌓이고 우울증이 쌓이고 극단적인 선택으로 가는 비중은 조금이라도 낮출 수 있지 않을까 생각을 하고 특히 이게 치료를 받으면 호전 유리 굉장히 없다 드립니다 생각보다도 만약에 호전 유리 이게 치료를 잘 받으면 adhd 를 갖고 있는게 창조적이고 아까처럼 생산적이고 누구보다 텐션 도 놓고 두꺼워 단 미친 짓 자란다는 이어지면 칭찬이 경우가 많잖아요 누구보다 이렇게 창조적인 사람이 오히려 더 긍정적인 반응이 있다니까 꼭 7월을 따지면 아니면 어떻게 되냐 아니면 정해 굉장히 어려운 겁니다 그리고 최근 4년간 이 adhd 같은 질환의 진료 자 걸 확진 자가 아니라 질로 자가 굉장히 급속도로 늘고 있다고 합니다 이렇게 국민건강보험공단에 adhd 질환으로 진료 받으러 온 사람인데 거의 어플이 쭉 10년간 지다가 최근에 짝짝짝 올라가고 있다고 하니까 이게 아마 옛날엔 오우 의심이라도 더 많이 생긴게 아니라 옛날에는 이만큼 치료자가 있답니다 안 받으러 온 거죠 안받은 오다가 최근에는 아 이제 이런게 많이 사람들이 알게 되고 아 일언지하에 대해서 많이 알게 되고 티비에서도 많이 나오고 옆에서 받는 사람들이 많아지고 심리 치료 받으러 가는게 그 없지 않은 시대가 되니까 그런 아는것 과거 여기는 엄청난 고생을 겪어 나 또는 겪고 있다는 소리니까 점점 전부터 늘어나서 우리도 옛날에 볼지 3번 나왔지만 진짜 뭐 이런걸 굉장히 쉽게 받으러 갈 수 있는 사회가 되면 굉장히 좋겠다고 생각하고 이 유병률이 보통 이 증상이 있는 사람들이 전세계 산 6% 만성적인 경우에는 이에 3% 정도 된다고 합니다 우리나라에서는 지금 대한민국 성인 경우에 치료를 받는 분이 0.7 6% 라고 하니까 직접 갈길이 멀죠 모르는 거예요 자기가 그런 어떤 호르몬 상에 내 기분을 좌지우지 하는 게 있다는 것을 이래서 5% 0.7 적발해 뜸 거의 아직 5 5 4 1 4분의 1 정도만 빼면 나머지 분들은 오를 수가 있는 거니까 꼭 한번 생각해 보시고 특히 특히 이 병은 병 일에 의지와는 어 남성 환자가 75% 있지 내가 롤을 할 때 엄마 욕을 참지 못하게 쓰면 잠깐 멈추고 아 축하하기 이런 얘길 했지 한번 가서 취미 상담을 받아볼까 선생님 죄송합니다 제가 그만 참지 못해 고음 물에서 정치 지를 했네요 그리고 그 한 번만 참고 남의 그 승강 전 일하는거 생각하고 한번만 참고 한번 테이션 뛰어들면 안 되겠냐고 그 다음날 가서 손님 죄송합니다 제가 오늘 또다시 엄마 요 그랬습니다 그러면은 그런 것이지 남성 원자가 앞쪽으로 만든 이게 80% 이상이라고 봄 남성 원자 지금은 여성 환자보다 사실을 더 많은데 그렇지 안가니까 남자들이 그렇게 남 성적이다 이런 이상한 생각을 하면서 잠정치 지를 시도하는데 병일 수 있다 농가 므로 이 하는게 아니라 진짜로 참지 못하며 이런게 있으면 은 그래서 남자들이 단어 우울증이 앉아 체포해 좋을지 기니까 그러면 노하고 죽고 싶습니까 1쌍은 비중이 많은게 이런거를 어떤 질환으로 생각을 안 한 케이스도 많으니까 꼭 못가서 해보시고 게다가 웨이즈 hd 같은 경우에는 아주 성인이 되면 은 많이 줄어든다고 합니다 가장 많이 등장한 게 10대 아이들이 많이 등장을 하고 20대도 많아 아이 하고 있다 거의 비슷하게 뜬 30세 이전까지 해왔던 것은 문제가 있다 생각하면 꼭 가보시면 좋겠고 물론 활동 등기구 충동적이라고 당연하겠지만 모두에게 hd 아닙니다 진짜 그런 친구가 있는 거에요 예 예 갑자기 개가 활동적이고 충동적으로 추측 질환자 라고 얘기 하시면 안됩니다 그 성격이 지성 게 그렇게도 있는건데 과다하게 자기가 참지 못하는 내가 있는거고 성격상 그런 내가 있는 거죠 글 다양하겠지만 잘 구별을 하셔야 되고요 그리고 이 질환이 있다고 굉장히 뭐 걱정하고 아닌 비난할 필요가 없는게 약물 치료를 받는 환자 중에서도 정말 정말 심각한 사람은 10% 도 안 되고 나머지 90% 는 약물 조절이 되거나 아니면 낡았지만 따라서 보기 정답 입니다 그래서 결론적으로 bbc 에서도 이 제목으로 갖고 하는데요 나의 괴로운 나의 오란다 에 힘듬 이 옥 성격이나 상황에 문제가 아닐 수 있다 이게 나의 어떤 품안에 문제 거나 뇌의 문제일 수 있다고 생각을 하고 적극적으로 치료를 받으면 여기서 그 말이 나오더라구요 분노 충동적 행동 우물에서 정치 죄라고 싶은 나의 모습 너무 무기력하다 난 왜 이 모양인가 자존감 추억 내려가지 말고 성격이 아닐 수 있습니다 지난해에 증상일 수도 있기 때문에 치료를 받으면 이게 성인 adhd 치료를 받으면 굉장히 좋아진 다 그래요 그래서 제가 그 승급전 할 때 관련 문제 없이 저 얼마전에 페이커 용 또한 했더라구요 페이커 솔레 갔는데 가서 그친 따뜻한거 누굽니까 중국 뿐 이라고 하시고 무버 테이프로 라고 해서 한테 세이카 용도 환 했던데 참기 힘들 참기 쫄래 열심히 하는데 검색된 바치면 정말 참기 힘들다 실생활에서도 그렇게 장판을 침착 힘들기 때문에 이게 증상으로 여기고 가서 정말로 감기처럼 누구나 이런 진단과 누구나 치료를 받으러 가는 사회 분위가 이런 모습이 나라 드라마에도 많이 나왔으면 합니다 이런 내용이 있어요 있자 가속기 에서 새로운 외계 입자를 발견했다고 아예 또 이런 데서 찾아볼 수 없죠 음 우롱 과 비슷할 정도의 이런 뉴스 유튜브에서 참을 수 없는 제목 야외 게이 입자 봤을 때 멈출수 없는 예 새로운 떡밥을 발견한 이후 문 과학자 보다 더 문 하는게 유튜브 라고 할 수 있습니다 5 미국 어찌 할 주제가 이렇게 나오나 어어 흥분을 멈출 수 없었죠 자 그래서 찾아봤습니다 이게 진짠가 뉴스레터 낄 애 cern 에서 이사 이언 트 스 과학자들이 새로운 3개의 계획 입자를 3 떠오를 토마 있으니까 뭐 그렇단 것 같아요 물론 이게 무슨 입장 지난 나왔는데 일단 발표를 했어요 너무 가 나왔다 토플 스타인 뭔지 모르지만 자요 얘기를 10분 15분 에 걸쳐서 한번 해보도록 하겠습니다 ie 를 준비 하면서 일단 어 때 못 내용이 저도 우리 있는데 모르는걸 얘기해야 괜찮아요 어차피 여러분도 모르고 저도 모르니까 잘 못 보도록 합시다 잘 때 앞에 말한 그 cr 은 우리 나온 요 단체가 뭐냐 과학자 분들은 다 아시죠 유럽입자물리연구소 라고 한다 그럽니다 한마디로 입자를 찾는 물리학 연구소 겠죠 저도 이름만 들어 왔고 사실 뭐 하는지 모르겠는데 내가 중요한 게 아니라 얘네도 운영하는 시설이 유명하죠 여러분도 들어보셨을 거에요 인류가 만든 가장 큰 기계 라고 불리는 입자 가속기 예리 tc 라고 한답니다 라지 하도록 내 콜리 더 약자인데 gis 치아의 짜 175m 있습니다 여기서 팝 느낄까 지하철 도 아니고 175 비트 27 키울 자리이기 인류가 만든 가장 캡 기계 라고 한다 그런데 이 아래다 뭘 돌려서 여기 이제 원자 같은걸 흄 돌려 왔고 빡 물 친 거죠 쇼 놀라고 그 부심은 뭐가 나오는지 그 도지 검출해 내는 얘기죠 그런게 입자 가속기 라고 할 수 있는데 박 부딪쳐서 대까지 깨지면서 그 안에서 얘를 구성하는 한마디로 물 얘길 해야 혼나지 않을까 한마디로 뭐 바둑알을 바뀌면 바둑으로 몰래 만들어 즉 소품이 나오니까 파악했을 때 과연 얘는 뭘로 구석이 됐는지 찾을 수 있다 뭐 이런 내용이라고 할 수 있습니다 저희가 lhc 라 그런데 lh 입자가속기 를 보면 이 그림이 뭐 층들이 너와 와아 사람이 어디 있죠 와 어마무지하게 조직자 와 보지 않는 이런 어떻게 만드나 보면 볼수록 인류의 기술은 대단하다는 생각이 있는데 이런건 도대체 어떻게 만드나 이거 만들다가 뭐하다 삐끗하면 갈 것 같은 뭐 이런거 가지의 입자 가속기 라고 합니다 저거 반대로 붙인 다음에 27 q 짤이 끝에 뭐 붙이 겠죠 이제 뭐 그런거라고 할 수 있는데 샵으로 입자 가속기가 문제는 방법의 설명을 드렸으니 까 문과 적으로 설명을 들었기 때문에 자세한 설명 언제 교수님 유튜브 가서 보시구요 물질 미세 구조를 밝히기 위해 한마디 부딪쳤을 꿰매는 나오는게 문제 알기 위해서 기본 입자 우리가 흔히 모양 성 잡으려고 많이 하죠 가속 충돌 시켜서 딱 붙인 다음에 또 깨지면 나오는 것을 잡아 갖고 누가 나온지 를 파악한 제 그런 기계라고 할 수 있습니다 다만 비싸겠죠 또 지하철이 자나 175m 에 27 km 짜리 지하철을 파는데 어마무지하게 비싼 기계가 들어가야 되니까 지하철보다 가격이 더 비싸겠죠 지하철을 뚫었고 레 임 마 깔면 됐는데 재난 뭐 엄청나게 왜 그 볼 수 있는 기회를 만들어야 되니까 엄청난 돈이 또 수십 조 원 이상 뭐 20조 30조 이렇게 돈이 들어가는 엄청나게 비싼 놈이라 라고 할 수 있습니다 자 그런데 져 입자 가속기가 굉장히 유명해진 일이 하나 있었어요 룰루비데 사건 그게 바로 여러분들도 다 기억이 다 아시겟지만 2013년에 신의 입자 어전 이것 우리나라 사람들이 지음 말이냐고 영문으로 찾아 봤는데 진짜 영원으로 도가 스 파티 크리라 글입니다 신의 입자 이 각각 신 신의 입자라고 얘기라는 그 힉스 입자를 발견한 사건이 있었죠 2013년 이고 이 당시에 ver 유모 21세기 최고의 발견이다 물음표 썼다는데 자신의 입자도 픽스 입자가 뭔지를 좀 알아 보면 1964년 지금부터 매년 되니까 36 20 거의 50년 전의 빅터 이스라엘 아저씨가 지금도 살아 계세요 그렇게 살아 계세요 왜 살아 계시는지 아니야 얼마전에 노벨상을 맛있었거든요 얼마전에 노벨상을 받았다는 말은 얼마전까지 생존의 계시다는 겁니다 장수를 하셨죠 힉스입자 라는걸 제안했다 그랬는데 뭐 어려운 내용을 저도 모르니까 건너뛰고 한마디로 자기가 계산을 해보니까 몸 가 새로운 특정 입자가 존재해요 2 지금 모델 표준 모델의 건 이 모델에서 질량이 생길 수 있다니 그 입자가 치금 발견이 안된것 같다 라고 약간 제야 예언을 한 거죠 그런 입자가 있을 거다 라고 예언을 했다 글입니다 자기 이름을 따서 힉스입자 됐는데 일설에 따르면 이 직접 얘기했어요 인터뷰 보니까 우리나라에는 이휘소 박사 님 있죠 들어가신 분 이 의 소 박사님의 십자의 이름을 지었다 라는 인터뷰한 내용이 있는것 같더라구요 같은 그렇다고 합니다 하지만 지금의 빅뱅이 일어난 다음에 입자가 모두 진리 안으로 다 만들어지고 사라졌을 거다 라는 얘기를 했는데 문제는 아무리 찾아도 익 십자가 발견이 안되죠 나머지 우리가 흔히 표준 모델의 얘기라는 뭔지 아실 필요 없습니다 더 잘 모르니까 표징 모델의 얜 어떤 물질을 구성하는 입자 파티클 들은 다 발견이 16개가 다 나왔는데 우리가 예상한 14세 때 그대로 나왔는데 누두 1 안나오는거 유일하게 발견되지 않은 이론 속에 잊자 그래서 얼마 전까지 굉장히 싸웠어요 이 입자가 실제로 있는거냐 없는거냐 발견을 할 수 있는거냐 없는거냐 수 예를 들면 여러분들이 잘 아시는 스티븐 호킹 박사가 이런 얘길 했습니다 딕스 입자는 발견되지 않을 것이다 $100 되기를 걸어도 좋다 실제로 내 길을 걸었어요 이 어디서 있냐 사우스 코리아 3 먼지로 쳤지 먼저 오셨습니다 여러분들게 않아 지겠지만 언제 사우스 고리에 오셔서 거기서 야 직수입 짝으로 없어 없어 없어 없어 안 나 안 나 안 나 $100 대기를 걸어도 좋아 라고 얘기했습니다 물 기계로 말씀하시죠 교리서 얘기를 했어요 어 상구 계셨습니다 한국에서 실제로 이걸 하고 한동안 발견이 안되서 호킹 박사가 내기에서 이긴 줄 알았는데 문제는 2008년에 아까 방금 전에 말한 lhc 입자 가속기가 몇 년만의 수리와 하셨다 오늘 한 다음에 엄청나게 모를 많이 넣어서 진화를 했어요 그랬더니 그 약간 포켓몬 몬스터 같은 느낌이 있어요 몇 년 동안 문을 닫은 다음에 아내를 딱딱 했다 그래서 더 큰 놈으로 나왔어요 옛날에 날은 미약한 놈이었다 약한 검이었다 10배가 나를 보여주고 있다 2008년 9월에 대형 강 입자 충돌 위로 진화합니다 변신을 쎄 쎄 쎄 쎄 쎄 쎄 쎄 쎄 쎄 를 다시 돌려 오는걸 기존에 우리가 못 찾았는데 익자 라는걸 더 큰 놈 이름을 찾을 수 있지 않을까 인류가 그동안 경험해보지 못한 에너지로 양성 대로 부딪쳐서 부셔 주겠다 과거에는 약하게 부디 치니까 애가 2 절 표만 나가 이 잘 앉게 줘 화끈한 에너지로 한번 부딪혀 지겠다 라는걸 선언을 하죠 화끈하게 부딪힙니다 2 그래서 광속의 몹시 프레도 윙으로 파악하고 깨는 걸 하는데 절대 문제는 여기서 좀 두려움을 느끼는 사람들이 많이 있어요 모를 두려움을 느끼냐 인류가 경험해보지 못한 에너지로 그런거를 충돌 시키면 어떤 일이 일어날지 아무도 모르는 거 아니냐 실제로 이런 의혹이 라 그러나 이런 문제제기를 한 사람이 많았어요 그랬나 2008년 차감한 약 그렇게 해서 딱 보셔도 뭔가 깨지는데 옛날에 우리 뭐 같은거 방사능 잘못해서 옛날에는 방사능 처음 연구와 사람들을 방사능의 뭔지도 모르니까 감상을 연구하다 많이 돌아 하셨잖아요 그런 것처럼 인류 한 번도 경험해보지 못한 물로 파 꿰매는 몇번 더 공짜로 옅어지고 어떻게 심지어 파 깨지면 에너지가 엄청나게 발생을 하니까 그때 초소 용 블랙홀이 지구 상에 등장하는 거 아니냐 라는 항의가 그렇게 많았습니다 진짜 과학자들의 서도 그러면서 b 거 하면 안 된다 지구 종말이 올 수 있다 소송 되자 따른다 소속 놓이고 멈춰 달라는 소송도 입자가 족히 지금 엄청난 놈으로 진화 했는데 요 마다 내에서 이만한 놈으로 진화해 갖고 이루었고 놈의 내가 다 부숴 주겠어 이런데 이거이거 이걸 그 실행 시키면 안된다 이거 모델 키 니들이 아냐 방사능은 뭐요 많이 알았냐 왜 이런 얘길 했어요 즉 이 뒤에 썰이 아니라 공식적으로 나중에 나사가 입장까지 발표했어요 파도 말이 많으니까 뭐 긴 장문이 뭐냐 세상에 마지막은 오지 않는다 저거 돌린다고 월드가 & 하지 않는다 끝나진 않는다 세상은 망하지 않는다 실제로 이 한겁니다 미니 블랙홀 마이크 로스 코픽 블랙홀은 행 되지 않는다 걱정하지 마라 아직 릴렉스 릴렉스 안심해라 그 마크 티포크 베리 p 마크 트웨인 이 말했듯이 지우 종말론은 과장이나 니들 자꾸 떠들지 마라 그 블랙홀이 생겨도 뭐 증발한다 글입니다 생길 수 있는데 그 발이 더욱 이던데 챙길 수도 있대요 뭔가 라셀 모르겠는데 정말 초소 용 미니 블랙홀이 생길 수도 있는데 다 증발되어 달라 가니까 아무런 영향을 미치지 않는다 그런데 생길 수도 있다는 말에 매니저 같은 문과생 들은 어 어 그게 마블 노 라는 건가 생길수도 있다고 하는데 욕을 공식 기간인 crn 에서도 발표했습니다 뭐라고 배터리 하도 떠든 이까 우리가 블랙홀을 만들고 있는거냐 우리는 블랙홀을 우주적 관점에서 생성하지 않는다 여기서 중요한 것은 뒤에 있지만 우주적 관점 이라는 단어입니다 무슨 소리냐 하면 그리 큰 건 안 만든다 얻자 근거 만들 수 있다는 거죠 짧은거 콘 텀블러에 코르 레이 b 파서블 만들 수 있다 타이미 하기 때문에 아무런 문제가 되려고 날락 알아야 없죠 그저 타인 양과 만들 수 있다 그러면서 내가 발표한 계약을 안심시키려고 발표 했으면 말을 잘 해야지 밟자 드리니까 솔직해 잡아 문에도 법칙이 있는데 이런 발표할 때는 우두리 쓰림 조금 그 스릴 넘치게 않습니까 이 우주를 2 언더 스탠딩 오브 더 유니버스 하는데 에리얼 맛 i3 있어 이런 야구 과학자 t3 있는건지 야 우리가 테스를 안심시키는 어디 글 쓰란 말이야 같은 뭐든 이라도 전혀 문제가 없네요 그 다음에 안전하다 이런거 나중에 무침 뭐에 쓰 릴링 이런거 쓰지 말고 마크 제품도 아니고 못쓸 일로도 아니면 죄다 그런거 말고 이과 생들의 문제는 이 거에요 너무 뭐랄까 이 워딩 을 똑같은 말이 어도 무가 저것 있으나 말이야 문과 적인 어디있냐 부드러운 어디에 써야 되는 데도 이런 식의 어디 글 썼다가 한동안 더 좀 전에 썼던 적이 있는데 하이트 실제로 조금 돌려 있는데 뭐 헌 텀블러 코를 모르겠지만 아직까지 생애가 말하지 않은 거 보니까 얘는 말대로 큰 문제는 없었습니다 지금까지 40 는 돌려 쓰는데 자 그런데 저 엄청난 놈을 돌리고 2012년 cern 에서 풀파워 입자 가속기를 돌린 결과 이런 놈 이런 몸을 돌린 결과 드디어 힉스 입자를 발견했다고 선언을 99.99% 로 왜냐하면 발견했다고 오케 사진 찍어 놓을 수 없잖아요 발견했다 고 1 보통 애가 도왔고 이놈의 다 할 순 없는 거니까 나오는 모습을 보니 인 것 같다 거의 확실하게 해서 이게 제 확정이 됐죠 2013년 협정이 됐는데 금세기 최고의 과학적 발견 이다 이 어떤 물질을 구성하는 데 있어서 새로 입자를 발견한 거니까 정말 금세기 최고의 발견이다 라고 얘기했고 금세기 최고의 발견이 문제가 아니라 더 중요한 것은 어 스티븐 호킹 아저씨가 이때 $100 를 털렸습니다 직접 터졌어요 농담이 아니라 진짜 터졌어요 나오죠 $100 도 가나 해줬다 보냈다고 합니다 그 인증까지 했는지 모르겠는데 해달라 를 보낸 걸로 일어납니다 그래서 나중에 저 뒤에 나오지 많아서 물어봤어요 이거 $100 어떻겠습니까 그랬더니 예 실제 인터뷰가 있습니다 아깝게 팔리기 때문에 야 그게 나오네 로서 그 와중에 한마디 더 였어요 그게 발견되지 않아야 물약이 더 재밌어 졌을 텐데 아따 이게 발견되서 이거 재미없다 이 약만 재미없다 물리 야노 재 이렇게 얘기를 하셨습니다 웸블리 하던 노 재 입니다 물론 모두 불상을 축하하고 나 흡수되었다 라고 다시 얘기 하셨는데 하여튼 헤드라인은 2항 문제일 없어요 a 그 안에 이렇게 했다는게 이제 헤드라인으로 떴고 빅스 입자가 발견된 공회에 2013년이 줘 고 확정된 9회 5 피트 x 아저씨가 노벨 물리학상을 받았어요 옆에 옆에 있는 분도 사실을 같이 영광 분인데 더 흡사 같이 발표했던 뭐 두분이 다 오래 되셨죠 잠수 있기 때문에 오해 바로 노벨 왔음을 바로 받았습니다 금색 이번 최고의 발견 이라고 하니까 산지직송 이러한 지식도 인것 같아요 확정하고 노벨 싸 아 근데 좀 솔직히 노벨상 선정하는 위원회가 마음이 급해 스 우리는 모르니까 내년에 주자 는 돌아가시면 84세 네팔 백업해서 지금 안 드리면 못될 수도 있어요 뭐 뜨릴 수 있기 때문에 마음이 급할 싸지 꼬 헤에 고대로 가서 드린 얘기라고 할 수 있습니다 그게 10년전 이구요 2012년 이까 10년전 이고 10년의 2022년 그동안 요 lhc 가 1이 3녀 멈춰 있었어요 다시 또 다른 버전으로 업그레이드 되기 위해서 아까 져 이만한게 2만을 엿짜 나요 얘가 이만 한 몸이 되기 위해서 멈췄다가 드디어 2012년 7월 지금입니다 지금 지금 3년만에 다시 이마다 내로 등장을 했어요 예 플레코 로 어떻게 되는 거지 어 금 타인이 퀀텀 블랙홀이 좀 커지는 건 아니겠죠 뭔가 적으로 이 생각이 된다 아마 그런 문제가 없지 않을까 생각을 하고 더 커진 놈으로 등장을 했습니다 2022년 7월 5일 lhc 런 쓰리라 그렸는데 더 강한 놈으로 진화되어 들어왔다 슈퍼 파워 풀 충전 13조 6000억 전자 볼트 라는 새로운 에너지 월드 레코드 를 감 마디로 이 돌리는 속도를 더 빨리 한때는 거겠죠 엄청난 에너지로 예를 돌려 왔고 역대 최고 끄 파워로 머리 붙이라고 한번 깨 보겠다 나는 거리 발표했습니다 이걸 해서 그럼 뭘 하려고 그러냐 여러가지 이렇게 쩔어 가지는데 저같이 무식한 놈들이 알지 못하는 여러 가지 정말 우리나라 분들은 여기 과학자 분들도 땅에 들어와 겠어요 정말 많은 과학 실험이 있는데 가장 만약에 찾으면 가장 대박이다 힉스입자 다음에 얘기하는게 거쳐 많이 들어보신 저도 문과생 도 들어본 암흑물질의 하는거 택시타고 똑같죠 증거가 있고 뭔가 있으리라고 생각한 되는데 관찰이 안되는 건지 우리 이론이 잘못된건지 뭔지 모르지 마이트 없는 동 읽는 거 같은데 없는 노 뭔가 뭐 심지어 고우 지우지 되고 85% 를 얘기할 정도로 몸 받아 있는것 같은데 없는 놈 을 찾는 거죠 많이 걸 찾으면 산지직송 노벨상 입니다 산지직송 도 104 차 지구 확정 노벨 서버 확실해요 면서 그림 있다며 언니만 되는데 여기서 일테면 3d 쑥 노벨 사이이기 때문에 요구 깨서 만약에 뭐 증거나 확실한 모를 찾을 수 있으면 어떻게 해 주셔도 모르겠어요 뭐 근본적 에 물약 이런 을 맞을 수도 있겠죠 만약에 이게 없는거 다 그리고 아마 그 과학자 분들의 말에 따르면 지금까지 현대의 과학 헌데 물약이 쌓아온 근본이 잘못된 걸 수도 있다는 게 없다면 왜냐 물이 계산하는데 있어야 되니까 다른 얘기를 한다고 합니다 분말이 저도 모르겠어요 대체 우주에 대한 더 어제 더욱 통합적인 이해를 할 수 있는데 깨서 나오면 나 야 만약에 정말 좀 돌렸는데 2013년이 다 2014년에 암흑 물질이 발견됐다 라고 발표를 한다 와 와 야 이거 빨리 발견됐다 이 체질 자녀 4 지젤 에서 전격 몽 물질을 발견 아 무슨 일이 일어 할지 상상이 안되는데요 왜냐 과학자들도 모르죠 저게 있는점 지도 모르고 저게 무슨 뭘 뜻하는지 를 몰라요 아지 우리가 방사능을 처음 알게 됐을 때 방사능이 몰드 타는지 몰랐잖아 요 뭐 엑스레이를 찍고 지금와서 보면 뭐 핵발전소 또 있고 원작 받쳐주지 그 뉴클리어 웹 폰이 떨어지는데 그 당시에 몰랐으니까 저걸 만약에 발견했으면 뭐가 될지 모르는 것도 어떤 분도 그렇게 얘기하던 데야 흥 물질이 계모 만나서 없어지는거 면 차원의 문을 열 수 있지 않냐 태그 까지 버리겠습니다 어 누가 이렇게 약은 그를 잡아서 봤는데 차 흔해 볼 아 포탈 이거 이거 이거 이거 이거 이거 이렇게 열고 들어가는데 이렇게 최근 거라는 거 어 모르죠 뭐 30년 뒤에는 암흑물질 어떻게 하니까 포탈이 얼리 더라 안돼 하지만 뭐 이런거 하는거 어 뭐 그걸로 인류가 화장이 날 수도 있겠죠 그걸로 모든 또 보니까 안 들어갈 수도 있는데 모르겠습니다 이 칼을 할지 저도 모르겠지만 아트 뭐 그런거를 꿈꾸는 거죠 자 이런 기대를 하는 와중에 처음에 돌리기 시작하는데 새로운 애기 입자 이게 물 아무 물질 아니겠죠 새로운 얘기겠죠 이거 간으로 도 사람들 가슴 떨리는 거죠 무엇인지 모르겠지만 아직 우리가 모르는 무엇인지 발견했다 언제 머리를 깨보니까 다른 얘기를 하는 거고 근데 만약 이번 이번에 으 만한 게 음 안한거 더 큰 거의 큰 놈이라 돌렸는데 아무것도 안 나와 예를 들면 깼는데 똑같잖아 뭐 새로운 게 없는데 그러면 여러분들 과학자 라면은 어떤 결론을 낼 것 같습니까 과학자 라면 원래 아 그러면 우리 로인 트렸다 우리가 잘못 된거 다 이렇게 결론을 내지 몇 벌 문제가 없는데 왜 우리가 틀린건 아닌데 그 놈이 약해 써 음 안한게 유반희 유망 하게 됐거든요 안돼 안돼 한데 이게 최악 체어 이런 약한 놈 으로 하니까 내가 틀린 것 아니고 안 나오는 거야 뭐가 필요해 더 크고 더 강력하고 야 그거 고 아이 거죠 착취한 이 정도론 안 돼 2만건 있어야지 야모 그래야 뭐가 나올까 말까지 약 5 다크 매터 쉽게 나오는지 아냐 안 나온다니 가요 말에서 그래 나 그게 학교에서 긍게 높은 거죠 더 더 더 더 더 더 더 1 놈이 필요하다 이런 시립니다 실제로 그래서 방금 전까지의 했던 기존 lhc 라고 얘기했던 7 않는 가창 큰 기계의 요놈이 예 구요 벽이 쪽이 예인데 안 나오면 아 이걸 안달 약해 뭐 해 키로 가자 3배 3배 자전 용도는 돌려줘야 아 뭐 그렇죠 그럴듯한 거 그냥 하면 블랙홀 어떻게 되는 거지 아직 모르겠지만 뭐 안전하겠죠 또 나사 라고 발표 하겠죠 걱정하지 마라 릴렉스 하면서 쓸일 있지 않니 무료도 발표 할 텐데 지나치게 쓸일 있을 것 같은데 슬 확실 하겠네 소리를 확실하게 써 어촌 둘레 100키로 현재의 장비 보다 10배 이상 강력한 충돌을 하는 이렇게 빅뱅을 뭐 제언 한다 이런 표현을 하는데 그걸 지구에서 제언 해도 되겠지 업무 까기 때문에 완전하게 해 주시리라 믿어 의심치 가치와 패튼 이걸 만들겠다는 그렇게 꽤 있죠 fcc 라고 합니다 만약에 이것도 안 나온다 어떻게 될까 3,700 키로 짜리로 있는 총구를 안나와 그런데 이들 이루어 잘못된 90,000 언니들 급우 실험 잘 해야지 이렇게 손가락질 하며 는 그 분들이 또 오르겠죠 자 100키로 이거 안 돼 패키 루저 안돼 100킬로 있어요 천 킬로 는 대학에서 실제로 과학자들 이렇게 얘기할 거 기 때문에 많은 분들이 제가 말 아니 어떤 과학자가 1월 인터뷰 했어요 10 리드 보아 보자 하니까 너무한거 아니냐 나중에는 지구 적도의 그 두 루 자갈 것 같다 실제 택했어요 과학 되니까 1 쳐다보고 있다가 옆에 키로그 안되면 뭐 이 100키로 얘길 하니까 야 붙이고 적도의 누르자 고 만약에 지금 쫓겨 있는데도 다크매터 많어 그러면은 달달 수송선 해 걸 싫어 같고 요즘 달 많이 보내니까 타일과 이렇게 이렇게 이렇게 돌리는 뭐 광속으로 이거 이거 이거 이거 이거 아니냐 그리고 비꼬는 거죠 니들 뭐 하는 이걸로 가는데 뭐 이런 얘기를 했다고 하고 이렇게까지 안되겠죠 하여튼 이번에 최고의 결과가 나오기를 게다가 중국도 하고 있습니다 중국은 잊으면 뭐 사방에 숟가락을 올리니까 세계 최대 입자가속기 우리도 가 되겠다 여기서 2 100키로 2030년에 완성돼 10년간 운영될 계획이다 않은데 씨알의 는 유럽 이잖아요 그리고 나사도 있고 뭔가 미니 블랙홀 퀀텀 블랙홀이 나오더라도 별 걱정이 없는데 너희는 헤어 있는 점 프 라 하는데 야 어 차이나가 그 광속의 방 90% 의 속도로 뭔가 빵 부딪친다 그랬을 때 옛날에 그 머리속에 체르노빌 뭐 이건 총 조금의 우려가 약간 생기긴 하는데 뭐 중국도 과학기술을 엄청나죠 세계적인 과학 되고 이 때문에 큰 문제가 없겠죠 없지 않을까 생각을 합니다 전세계가 이러고 있으니까 불안하고 자 이쯤에서 대한민국의 입자 가속기가 없냐 있습니다 있어요 넣기 씩 있어요 그건 좀 작지만 이 와중에 다수가 시켜줄 수 없고 가장 최근에 보는 약간 방향은 다르지만 총 사업비 1조 5천 5 축구장 137개 넓이 올 10월에 쉬운 도내 들어가는 대한민국 중요한 가속기 나온 일하고 있습니다 어 중이온 가속기 요 앞에 있는 거 좀 다른데 여긴 물론 파티클을 그 원서 새로운 원소를 찾는 목표로 맡고 있는데 자 우리는 10월에 쉬운 져 들어갑니다 초장 137개 어디 물로 몸이 블랙홀은 없겠지만 큰 얘는 몰 목표로 아냐 잘 모르니까 저는 바꾸어 보면 세상에 없는 원소를 찾게 따라 못 봐 있대요 원소로 기는 아까 지는 이제는 뭐 다크매터 라운드 무슨 뭐 채로운 모바 특히 라도 이런 소리 나는데 뭐냐 독일이 발견한 원소 기가 32번 이름이 여러분 배우 졌죠 게르만 요 게르 많 러시아 가발 되는걸 루테늄 이것이 옛날 이름이에요 프랑스 더 밝게 상업 87번 이 프랑스 움 짤 프랑스식 뭐 옆으 학교야 대한 루트 지금까지 어디 트롬 움직이다 하프 항시 5 미국이 발견 한거 95번 아메리 슝 잇점을 저도 게다가 얼마 전에 얼마 지나 이제 70 20년 전에 일본이 발견했어요 이것 때문에 한국이 참을 수 없이 이것 때문에 우리나라가 못 참어 진짜입니다 니온 힘이라고 줘 113번 그래서 2012 년 전 이온 이미 나왔을 때 우리나라 신문 기사를 찾아보면 은 차 올 수 없다 114번 은 어 저기 일본의 1 먼저 했다 그래도 114 원은 모르고 간다 그럼 날 기사 찾아 보세요 진짜 있어요 코리안 2호 게르마늄 파랑 쇼 아메리 슈미 원유 코리아 님아 다졌습니다 야 이름만 들어도 좋다 코리아는 그때 당시 목표가 114번 으로 가는 거였어요 진짜 입니다 근데 원수 기어도 정해 나서 발견도 안 했는데 원 소유를 번도 저하된 나라 있다 있습니다 우리는 ko 약 원소 기어도 멋져요 k5 k5 한방에 날릴 수 있는 발견할 있지만 이름은 좋습니다 이름은 있는 조금 지도 모르지만 듯 이름은 전 왔는데 버프가 될 집 자본 이었어요 10년 전에 지금까지 그런 발견을 했냐 어 당연히 여러분들이 기억이 없는걸 봐서는 그리고 못했구요 지금 어디서 118개 가 되기 때문에 제 생각에 114 벋은 이 같구요 119 버들 유치해서 뭔가 숫자가 들어가고 있어요 이게 늘어 난다는 걸 모르시는 분이 있더라구요 여러분들이 중학교 때보다 그때 베어 또 술이나 칼로 세프 팸 악할 수 바라 이것 합격을 의식이나 g 이거 있습니다 주기를 개 업적은 아시죠 외우는 법 이 학교와 다르더라구요 저희 학교에서는 술이나 칼로 cf 뭐 뱀 악할 수 바라보려 요런데 학교마다 다른 거 있지요 주기율표 오는게 요즘 학생들은 더 길어지고 있어요 물론 뭐 짤라 요 그래서 더 이상 오지 않는데 만약 다워 오려면 옛날의 형님들이 할 때는 70개 정도가 됐습니다 지금은 118 개 요 터만 이어 같아요 전혀 점점 양이 늘어나고 있는데 할지 119 번은 코리아님이 되지 않을까 확실합니다 119 원은 아니 뭐 120번 119 라이브 다 122 좋다 짝 딱 좋네 여기에 또는 아마도 코리아 뉴 음 자라온 해서 돌려서 맞게 면은 코리아님이 착취 나오지 않을까 기대를 하고 거기서 2014년 쯤에 기다리게 2개 있어요 1번이 다크매터 으 이번이 코리아 늄 ko 예 이게 발견이 되면 제가 이제 그 날 또 그 주에 주제로 가져오도록 하겠습니다 얘기하고 싶어서 koon 코리아는 주제 한하여 힘들었다 요구에 오늘의 이제 매일 주제라고 할 수 있습니다 참고로 이 쪽이 정말 핫한 최근에 우주와 더불어서 가장 핫한 쪽에 하나요 왜냐면은 얼마전에 신문 인터뷰도 나왔지만 한국계 라고 했나 미국의 시카고대 교수 니 김영기 선생님이 한국인 최초로 미국 물리학과 정의 됐죠 미국 usa 물리 학회 대빵 이 하고 있습니다 2분의 발명이 충돌 해요 이 외 충돌 확인이 방금 전까지 들을수 아시겠죠 입자가 좋게 듣고 돌리며 다 부딪치는 게 충돌이 니까 왼쪽을 연구 하시던 분인데 김제 비고 물리 학회에 장까지 되셨으니까 돼 다시 1 생각이 되고 위한 요번 이슈 문의 전 인터뷰 한 게 있던데 좀 가꿔 보면 딱 저희가 떠나 비슷해요 5 인터넷 내의 저어 위성항법장치 뭐 등등등 이 사실 옛날에 처음에는 몰랐다 입자 물약을 처음 연구 했을 때는 이게 이런 걸로 할지 몰랐는데 우리도 코리아님이 나오고 뭐 아무 m 가 나고 다크매터 가 나오고 뭐가 나올지 모르겠지만 나오면 은 또 어떤 식으로 활용이 될지는 모르는 걸 많이 발견이 되면 뭐 10년 20년 뒤에 어 뭐가 역시 정말 여러 분들이 기대하고 저도 기대하는 포탈 예 나와의 대안이 와서 언제가 포탈이 나올 수 있는 거야 알겠지 맞아 포탈 한번 기대해 보도록 하겠습니 포털을 얘긴데 아냐 아까 $100 털리고 지금 이제 고인이 되신 우리 호킹 선생님이 이런 얘기 했어요 우리는 인류의 미래를 위해 우유 로 나가야 된다 왜냐 이 연약한 행성을 프레 자일 플래닛을 벗어나지 않고 는 다음 천년을 인류가 더 살아 남을 수 있을 것 같지 않다 지구는 천연향 못 갈 것 같다 지구는 하죠 인류가 인류가 꼴을 보니까 여기서 천 년도 못 같으니까 반대로 가야 된다는 말씀 하셨는데 크랙이 위해서는 그 포탈 어학원 기대 한번 해보도록 하겠습니다 자 오늘의 주제 조금 웃긴거 재미있는 것 중에서 옛날에 한번 에서 좋고 플 쏘는 소가 아니다 고 풀 산소가 아닌게 한동안 하다가 야 너무 지겹다 보면 맨날 그러고 막 단역으로 잠깐 했었는데 요건 하나더 가져왔습니다 새로 보다 깐 따끈한 걸로 아이오드 충격적 이에요 뭐냐 그림 커뮤니티에서 조금 돌아다니는데 자코 풀 소소가 아니다 이후로 하하의 좋습니다 아 전환 이런 주제가 조치 차 킴 클립은 계획에 아니다 맞습니까 틀리니까 야 이거 어려워요 나이 더 재밌어요 아 힘듭니다 과학적 하시는 분들도 쉽지 않아요 이거 뭐 우리 뭐 불이 용이나 당시를 모셔야 되지 않을까 생각하는데 자 킹크랩은 개가 아니다 맞습니까 틀리니까 이렇게 거미 아니구요 참고로 개가 아닙니다 말하면 웃긴데 를 계기가 아니냐 뭐냐 자위는 5만 보시면 되구여 갑각류 들어주기 쭉 내려오는 데 요 목에 이름이에요 전문의 오니까 시 필요 없어요 박미화 몫 이라는 위쪽에 개들이 다 들어가 있고요 쉽게 화목 이런쪽에 집게 소라게 들이 들어 있습니다 이렇게 된게 자 그러면 쉽게 소라게 가 뭐냐 개냐 게 아니죠 이름이 집 개인 거에요 제가 아니야 뽑아 보면 요렇게 생겼어요 아예 류가 달라요 이거 패각 뭐 둘러싸여 있는거죠 소라 같은데 안에 있는 거 자 그러면 이걸 보면 은 다시 한번 보면 킹크랩은 개냐 쉽게 냐 닳는 애들의 단련 애들 생각한 비슷한 거예요 다른걸 얘는 이 애냐 애냐 참고로 저 집게 류 라는것은 다리가 될게 라고 합니다 계 류 는 되게 10 개 요 여기보면 1 2 3 4 8개 1 2 3 4 5 개 10 개 차쿤 세 부분 되지 킹크랩 다리 여러분이 킹크랩 전문점 이어서 먹었을 때 꼭 3 보시기 바랍니다 1234 봤어여 써 읽어 벼 닭 그럴까요 체크해서 자 결론적으로 하게 킹크랩은 개가 아니라 집게 라고 합니다 요리 있는 거죠 자 그러면 킹크랩 하고 비슷하게 생긴 돼 있죠 영덕대게 대기는 개냐 돼 있게 된 나무 다리 갔다고 되나 무대 죽자 를 쓰죠 대기의 개나 먹이는 1 2 3 4 5 6 7 8 9 10 개 져 핍니다 짜리 영적 태희는 개 구요 전혀 다르죠 엄마들이 킹크랩은 아까 되겠지만 은 쉽게 하기 쉽게 고 대개는 게 가 되겠습니다 자 물론 이쯤에서 킹크랩 또 다리 10개 인데요 제가 이전에 의 전문가 선생님의 방송 보니까 베타 찌를 딱 가더니 우리 다리 두 개가 되십니다 라고 얘기를 합니다 그것도 맞죠 그 배 안에 캐야 된 다리가 있다고 합니다 킹크랩 먹을 다만 잘 까서 보면은 이렇게 생기는데 이게 다리 되요 꿀의 lg 달 같은거 좋고 레지 딸이 같은거 내 안에 있다고 하니까 보시면은 있긴 한데 그 태아 된거고 자 그러면 근데 이렇게 얘기하지 문제의 낚시 아니야 아니 집게가 개나 이거 다 똑같이 생겼는데 이게 뭐 이어 안에 들어가면 이름이 집게 뭔가 공략해야 아냐 닿게 아니냐 그 기가 그게 아니에요 짭니다 개 일종인데 이렇게 생각하시는 분들이 있을 것 같아요 근데 그거는 그렇게 왜 생각하냐 크기가 그게 아닌 야 이거 어차피 개인데 이름만 바꿔 놓은 거 아니냐 그거는 책임 깊이 트 챙기게 개 처럼 생겨서 이름을 집게 라고 하다 보니까 그렇게 된건데 만약에 여러분들 생각하기에 쉽게 낳게 나 이름만 바꿔 찌다 개다 라고 생각하는 분들은 그러면은 이거를 보시면 됩니다 쉽게 가 개라면 가젯 5개입니다 왜냐하면 은 하 목에 다르니까 이렇게 그렇게 많이 달라요 얘도 하고 이거 얘도 아모 이후에도 화목이 엄가 제가 개냐 집게가 길면 가제 도 개조 생각하는 것에 따르면 위에 목이 같으니까 가지도 개냐 그것도 아니란 말이요 소비자의 만약에 지키라고 개가 똑같은 문제 1 우리 나는거 아니야 개 종류 인거 아니야 가 아닙니다 생긴게 빛에서 그래요 이 안에서 이렇게 난 있는게 아니라는거 생긴게 비슷해 먹으니까 이렇게 얼른 화목이 다른데 그렇게 착각을 한다고 할 수 있고 그 정말로 개가 아닌 거야 정말로 개가 아닌데 생긴게 비슷해 먹은거 다 자 그러면 자 이제 심화학습 갑니다 c 박 쓰자 제가 요거 준비하면서 이렇게 심화학습을 해야 되나 라는 생각을 했는데 자 봅시다 자 우리가 많이 먹는 랍스터 당연히 가지죠 가집니다 바지 하모 기구 개가 아니죠 당연히 가 아닌데 아무 얘기 했듯이 가제 닿게 집게는 전부 다 목이 다른 놈들이 에요 생긴게 요 모양이어서 비슷하다고 생각을 하는 거죠 자 그럼 봅시다 자 제시 왁스 합니다 자가 지에게 집게 분류를 나누어 주셨어요 아 어렵다 전라 크레이 pc 라고 불리운 애가 있어요 닭새우 빨고 뭐요 무 처음 봤는데 아기 천 보지 않은게 이렇게 오늘 처음 볼 수 있지만 여러분들이 그 열대지방 에 가서 유튜브로 보던지 아니면 예로 정글의 법칙 이런거 보면 은 물에 바자 우수 에서 박그네 오고 있어요 이런 애들 열대 지방에서 저 랍스터 일에 들은 추운데 살자 저게 1회 들을 대 기뢰를 추운데 사는데 킹크랩은 열대지방 가속 들어갔다 나온 다음에 뭐 이렇게 집어 올릴 있잖아요 얘길 클리피씨 락을 닭새우 닭새우 이렇게 들어가서 많이 보셨죠 자 그러면 자 문제 갑니다 제가 어려 보일 거에요 차탁 새우가 있습니다 도탁스 후 생긴것은 완전히 가져야 똑같아요 자 닥스 오는 가진 야 야 아 어려워요 어려워요 쉽지 않습니다 야 비슷한데 집게가 있고 꽤 차이가 있죠 박세운 가진 야 당연히 아니구요 따로 있습니다 허버기 어플 가요 어 그렇구나 또 다른 놈이 또 다른거 개도 아니고 집게 다니고 가제 도안이 따른 놈이에요 아예 아 목이 따로 있구요 그래서 여러분들이 헷갈리지만 되는게 비슷하게 생겨서 그래요 비슷하게 생겨서 킹크랩은 개가 아니구요 닭새우 는 가 제가 아닌거 좋아 좋습니다 자 그러면 채우는 아까 이에 이름이 닭 세우자 그럼 세우는 여기 들어가냐 당연하겠지만 세우는 또 다른 놈이죠 옆으로 또 하고 있습니다 2기는 또 목이 달라요 즉 이렇게 옆으로 이렇게 이렇게 이렇게 감각 서로 다 다른 겁니다 자 이제 시마 를 넘어서 응용 갑니다 응용 야 요건은 쉽지 않아요 요건은 왜냐 저도 보면서 어이가 없었거든요 카톡도 닭새우 있습니다 제가 좋아하거든요 가격이 좀 비싸요 독도 답 쎄요 세움 니까 닥스 봅니까 알고 지나치게 지엽적인 문제가 수능에서 이런 문제 나오지요 걸 했는데 아 죄송합니다 이거 빨리 지나 가도록 하겠습니다 조토 닭새우 오행은 정식 이름이 가십에 세우라고 합니다 닭새우 아니고 기초가 아니구요 채용 이렇게 세워요 세우고 이거 보면서 닭새우 오라 생각하니 메다 세운 거에요 자 처럼 맡으면서 그러나 이런 깨졌고 가십에 세우고자 그러면 조금 어려운 문제 직업적 이 때문에 빨리 넘어가도록 하겠습니다 딱 세우고 있어요 아 전문 여고 나온다 전문용어 벌리지 그 수산물 쪽에는 자꾸 말기 때문에 딱 쓰고 있습니다 그걸 모르겠다 이렇게 와서 가끔 여러분들 시킬 때 이렇게 나온 있어 이렇게 기가 막히죠 맛이 기가 막힌 데 문법은 뭐 들여 본부 납니다 감수 점을 봤는데 작으로 딱 세우는 일이 미세 우니까 채운 야 딱 세 오는 세운 야 박세운 야 아 o 또 아이도 가 있습니다 참고로 딱 세우는 가집니다 야 이거 찍게 어려워 벌여 올해 맞출 수 없어 제가 이름을 딱새 오르 줬고 닥스 5단 이곳에 우도 아니고 가져야 그렇답니다 다시 말을 해보라고 한다면 잘 모르겠어요 같은거 그렇다면 라인이 바자 까지 사촌이라는 왼쪽에 들어가는 거죠 그리고 보니까 이게 있어요 이겠지 커서 뭐 그런거 아쉽긴 한데 하이트 뭐 그래요 때 이름을 그렇게 지은 걸로 하구요 지엽적인 문제 몇 개 좀더 가도록 하겠습니다 난이도가 점점 올라가요 자 그러면 여러분들이 갯벌이 가서 많이 보시는 개까지 의 죄송합니다 지나치게 지엽적인 에 지금와서 보니까 개 까지는 가진 야 아 어렵다 책까지 교육생 애인있어요 가진 야 채운 야 닭새우 냐 개냐 참고로 일정 뭔지 모르겠는데요 여러분 유투브 보다 보시면 해양생물 유튜브 들이 이어 보이잖아요 그 뼈 키친 했어요 그렇게 치매 펀치를 웃으면 유리를 깬 닫은 동 저거에 맞으면 뭐 사람 손이 날라 간다 는 동안 했거든요 그래서 멘티 쓰자 맨티스 스매시 져요 퍼즈 빵 박대리는 에 예종 4의 종류 그 예는 세움 니까 개미 까닭 세움 니까 가지 입니까 아요 진짜 어렵습니다 이거는 진짜 해양생물 유튜브 아직 모르죠 이거는 저도 몰랐으니까 가서 보니까 저희 멘티 c 에는 목이 달라요 얘네들 가는 아예 다른 눈 얘들은 그래도 퓨전 어떻게 뭉치 잖아요 비스무리한 애들인데 그는 목이 달 여기는 식당 몫 이라고 르고 요리는 구강 무 10장 먹은 다리 10개 국악 목은 다리가 이 얼굴에 될까 2배 입구에 달렸다 그래서 아예 목 자체가 다른 그래서 이 구조를 보면 모두 번째 달리는 채 즉 구조를 보면 주 앞다리가 이렇게 이 두 채 들어요 미기 근절에 달린 거죠 이며 페리 개발했기 때문에 구조적으로 다르다 자 그러면 서에서 많이 잡히는 쏘 1시간을 자 이제 죄송합니다 1부 제 4문 서쪽 지나치게 지엽적인 게 아닌가 생각이 되는데 자 쏘겠습니다 쏜 요거 뭔지 모르겠다 싶으신 분들 다 속은 게 까지는 약 가 제냐 세운 야 박세운 야 아 까지는 뭐라구요 구강 목 이냐 아구가 항목까지 자 뭐냐 참고로 내가 뭔지 모르겠다고 하시는 분들은 시장 가면은 이렇게 요리도 팔리거나 이것도 잘 모르겠어요 그리고 역시 유튜브에 가면은 2 갯벌의 구멍에 부탁 팅커 이렇게 떠요 여기에 돌려 너 그럼 올 제가 잡고 올라와 계속 입니다 아니면은 여기다가 그 공개 꼭두 같은걸로 그가 펌프질을 해 그럼 내가 버티다가 뿅 튀어나와요 크게 붙어 썩 이에요 막 공통 부지를 아이패드 말했어요 번 싸움 음 품 처 나오죠 보셨을 겁니다 왜 튜브의 여기다가 고기 펑 줄을 그 말 이렇게 테니까 여기서 참지만 또 풍치와 언어가 있는데 그랜드 이제 보통 제 속 이라고 할 수 있습니다 아가서 보지 말아요 구별이 거의 힘들어요 쪼까 개가 제가 아 물론 옆에서 보면 이 더 커요 오른쪽이 더 크고 제 앞에 머리 부분이 다르긴 한데 대충은 비슷하죠 자 그러면은 오른쪽 개까지 는 아예 목이 달라는데 속은 다리가 10개 13억 이고요 1 2 3 4 5 10 개 인데 보면은 지켜 쪽 이래요 근데 이거 어떡해 로 야 이걸 어떻게 으로 이게 지끈 지 개인 지가 전 g5 식각 뭐 구광모 긴 지 컬 러 니 까 뭐 아직 그렇습니다 한마디로 개가 아니라 킹크랩 에 친구죠 킹크랩 에 친구 쪽으로 분류를 하면 되겠습니다 자 그러면 다시 돌아와서 제가 응용 문제는 그만 하고 아까 전에 얘기한 것에 따르면 킹크랩과 개가 다르잖아요 원래 다른 놈인데 스윙의 비슷하기 때문에 무시하게 헷갈린다 말이야 위의 목이 비슷하니까 그렇긴 한데 그러면 요즘에 컴퓨터에서 많이 돌아다니던 얘기가 있습니다 그놈의 그것 처럼 생겼다 지금 여러가지 목이 다른 애를 보여줬는데 뭐냐 이 개가 아니라 왜 왜 개 같애 좋냐 그게 있습니다 영어로 그 현상을 나타내는 말이 개화 개의 화 아니구요 우리나라 발음이 어려워 개화 아니고요 걔 와 계획과 아니고요 그렇다 개념 합니다 개가 태진은 연사 진짜 있어요 이 개가 아닌데 누가 봐도 개야 왜 그러냐 개가 태진 새 있어서 개화 현상이 있어서 그렇습니다 아까전에 킹크랩 이야 누가봐도 고개 지 집게 두고 개인데 이름만 바꾼 거 아니아니 에 생긴게 그래서 그래 생긴게 원래는 이렇게 생긴 놈인데 꼬리가 없어지기 시작하더니 개처럼 가 아니면 말리 시작하더니 집게 처럼 과 그 결국 개처럼 거 생기기 개 같애 줘요 요가 아니구요 심지어 이거 컴퓨터에서 많이 돌아 왔을 거예요 개가 등장하기 이전에 등장했던 생물도 생긴게 같에 개보다 1억년 전에 등장한 생물이라고 합니다 화상의 화서 화 적을 보니까 뒤집어 놓으면 개같은 후 아닌 개는 예 뒤에 나온 애들이야 걘 가끔 저 뒤에 나온 얘기인데 어이구 개처럼 생겼어 그럴까요 왜 개 같애 줬을까 이걸 뭐라고 합니까 전혀 생긴게 다른데 비슷하게 생겨 지는 현상 버전과 들어 보셨죠 과학시간에 바로 수렴 지 나 라 유리 악 생존의 유일하게 변 하다보니까 비슷하게 생겼어 1명은 청새치 어류 어룡 옛날 나왔죠 파충류 동굴의 포일 달라 예 종각 좀비 달님 아주 어려 보여요 파 죽느냐 아예 아예 위가 다른데 생계비 타자 그거랑 비슷하게 우리가 킹크랩 돌고개 도 그렇고 달 개같이 있기 때문에 계획 아태 지는 현상이 일어 일종의 수렴 진화 현상 이라고 하죠 결론적으로 여러분들이 앞으로 킹크랩을 사서 계실때 게 아닌 것 가제 위와 같이 가져와 개의 와 비스타 그런 느낌 개가 아니라 짓기 름 코코 나 끝 2기 따블 달리는 놈 있죠 뭐라 그래요 뭐 크리스마스 서 뭐 이런데 가면 놓고 코난 열매 한다고 막 2만원 짙게 있는 정말 있다 10만원 개들 개지 찍게 그 유를 먹는거 아니면 뭐 이상한 소라게 같은거에 골에 말고 안에 들어가서 머리만 요렇게 내민 이렇게 대가리만 이렇게 되면 타면 데 대해 얘들이 시킨 데 개나 그거 확장 분 그거 확장 한거 전이라고 생각을 하면 되구요 그래도 다같이 캐다 아 그러면 만약 그 말이 그 집게 나 걘 할게 아니냐 라고 와 100m 아까 얘기했지만 그러면 큰 울렸다 리는 랍스터 됩니다 그렇기 때문에 맞지 안된다고 생각을 하면 되구요 참고로 여기서 조금만 재민이 나들이 면은 특히 킹크랩 에 서식지는 베링 입니다 ars 카 미 로시아 가운데는 여기 너무 베딩 에서 져 킹크랩 짬이 대게잡이 하는게 목숨을 걸고 엄청나게 돈많이 버는 걸로 유명하잖아요 다큐멘터리도 있고 가보면 이거 파도 아머 지고 물에 빠지면 뭐 분만이 죽고만 이런데서 게 잡자 가요 그런데 여러분들이 무슨 마트나 이마트나 대형마트 같은 데 가서 문 오늘 사려고 보면 가끔 이렇게 써있어요 노르웨이산 활 킹 크림 20% 할인 판매 분명히 베링 해서 나온 애들인데 노르웨이산 있습니다 노르웨이는 어디 있느냐 며 유럽의 있는 다 가요대상 쪽에 있는데 정반대 이렇게 러시아가 있고 한국 여기 그 인도가 있고 유럽 여기 있다면은 베딩 n 왼쪽의 미국하고 있는 쪽인데 요리에는 이쪽에 있는 날 은정이는 태평양 여기는 대장이 자 그러면은 이 킹크랩 2 여기도 잘고 여기서 산야 아니에요 베링 에서와 있는 해요 근데 일로 온 거예요 왜 왔냐 2 캐릭터 이유가 있습니다 이유가 이 옛날 소련 시대 이유가 있는데요 소련이 먹고살기 힘들고 춥고 50은 키워드 다른 것도 없고 즘 시베리아 가 요즘은 녹지만 있는 높지도 않았고 요기가 이름이 바랜 치라고 합니다 여기서도 뭔가 훌륭한 단백질 보충 운을 찾고 싶은데 2 오른쪽 있는데 선물로 미국하고 있는 에서는 요 킹크랩 이 짭짤한 말이에요 대개 어 킹크랩 이 쏠쏠 레 생애를 잡아다가 바른지 뿌렸어요 진짜입니다 어떻게 좀 잘 해보려고 그럼 양식을 하던가 이것들이 풀었어요 뿌려 왔고 구소련이 1930년대 한번 뿌리고 잘 안됐는데 청화 6시 있는데 다시 뿌릴 다시 풀어 갖고 바 렌치 대략 팁을 합니다 어떻게 안되겠니 그대랑 튜브 했는데 이 킹크랩 2 겉보기에는 쪼끔 없어보이고 멸종 하지 않을까 오히려 생각을 할 정도로 내가 좀 2 내봐 유브 잡히고 맛있고 왼쪽 얘기를 생각을 하는데 우리는 물론 베링 에서는 많이 없어져서 그렇긴 한데 이쪽에 보니까 소수자 적이 없어 현재 교회가 책이 없어 힘이 날 감싸고 똑같죠 우리나라 블친 우리나라의 마나한 약밥 으로 바로 찍혀 있는데 우리나라가 불침번 말이 없잖아요 보이면 무 후루룹 짭짭 이지 내 아메리카 넘어가니까 무슨 머스 니크 헤드 라고 불리면서 아메리카를 휩쓸고 있다 말 지금 미국 뭐 생태계를 작살 한다고 이런 수를 하니까 오른쪽에 패딩에 있던 애를 퍼서 왼쪽에 빠르 치에 넣는데 거기 들어가니까 포식자 천적이 없어 한모금 그 앞 바다에서 볼 쉬고 이런 것을 내가 이렇게 보여도 별거 다가올 풀도 먹고 60도의 잡지 기 타 15 배웠고 바닥은 이 황 페이지는 문제가 있다고 합니다 차라리 그 뭐 러시아는 쏘리 는 알고 황폐해지고 말고 맞아 표면 되지 하고 많은데 문제는 바다가 소련 많이 있는 바닥 안에 러시아 만 있지 않죠 익힌 크림이 점점 점점 기어 가더니 몇 년 뒤에는 그림 난 돼 있죠 요 쪽에서 발견된 그러한 요인은 섬 요 섬 제도에서 발견이 들기 시작했어요 한마디로 여기가 뿌렸는데 악 퍼져 다 된거 이렇게 세 우스 발견돼 쪼금 베타 노르웨 하는거 봤어 그래서 어제 써레 따르며 라도 노르웨이 해에 저 킹크랩을 막기 위해서 무진장 노력을 하고 있다고 합니다 무진장 노력을 하고 있는데 생각보다 힘들다 그래서 이런 열심히 잡았고 사방이 팔고 있죠 그래서 싸다고 해요 놀 마사지 모르겠지만 이제 그런 상황에 이제 초에 있는게 바다의 지배자 알고보니까 엄청난 포식자 였죠 맛있게 하지만 지금 놀이 애를 쓰고 있다 라는 내용이 되겠습니다 제가 원래 스포츠맨이 합니다 4일 이면은 야구 언어 농구 축구 이런거 매니아 줘 자리에서 면이 아냐 안녕 보는거 어 해 원래 나이들면 봐요 나이 들면 그냥 내가 하는게 아니라서 봅니다 심지어 야구 농구 축구 가 문제가 아니야 나이들면 은 게임도 봐요 어 신기해요 주차 신기 옛날에 그 사람 있자니 무슨 게임을 바 내가 해야지 요즘엔 내가 씨가 네파 대리만족을 하는거죠 왼쪽으로 가면 왼쪽으로 말아요 해줄 좋아요 베르크 있어 그럼 봅니다 내가 하면 한 두판 하면 힘들어 힘들고 피곤하고 와 있지만은 됐네 하고 파요 그때 진 하는거죠 내가 움직이기가 절연 접지 오른쪽으로 쪽 뭐 이런거 를 대신하기 때문에 제가 요즘 신작게임 이 나왔어 그럼 신작 게임을 옛날에 했죠 신체 게임의 나서도 유튜버 신작게임 누가 한거 봅니다 아 그럼 진짜 깨고 부터 버려요 이렇게 써 야 그거 아야 크기 그게 안되네요 이래서 진짜 끼는 눈으로 혼 의 시대가 되죠 그래서 이제 보는 걸 좋아하는데 자연스럽게 이렇게 됩니다 신기 옛날에는 밤을 새고 게임을 해서 표 나지 않았는데 요즘은 한판 두판 정도 하면 적절히 한 것 같다 느정도 충분하지 않나 뭐 이런 생각이 덜 아이템 5 절로 들곤 그렇게 합니다 그래서 요즘에 지금 축구도 시작하고 잎이 엘르 시작이라고 애모 점점 더 리프 라고도 하고 이러다 보니까 미국 스포츠를 2 치아가 자주 봐요 우리나라 스포츠도 많이 보지만 각 보면 항상 보면서 드는 생각이 야동 우에 스타 선수가 났어 와 아쉬 금 봐 쏘면 뉴 피트 7인치 야구 투수 구속이 대단해요 95 mi 묻었어요 그래 올 던졌다는 것 같아 아예 제발 이렇게 쓰지 마 이건 아까 디폴트 7이 지하 키가 진짜 웃었 짜는 으 네이버나 구글을 킨 다음에 6피트 몇 cm g 그냥 곱하기 아빠 곱하기 하고 있으면 야 이거좀 6 얻을 쓰시마 이고 왜 왜 전시 왜 이런거에 내들은 아 영어 속이 터져서 자 그래서 오늘 이 주제를 가져왔습니다 게다가 나는 스포츠 안 보니까 상관없어요 아니 미국 그 방송을 좀 보다보면 이런거 아 이게 너 또 라는 거야 아직도 어쩌라는 거야 라도 뜨겁다 하는데 빨 90g 직구 아 딴거 보지 마시고 따고 보지 마시고 아니 분 보지 마시고 숫자 숫자 숫자 아 진짜 너무한거 아닌가 이게 화씨 뭐 이런거 와 한 거 보지 마시오 아니 그 젖 a 해 보라니까 손가락을 봐요 달을 보세 가다 를 달을 보시고 이런 것 때문에 굉장히 좀 불편하죠 도대체 미국은 왜 그런가 얘기 한번 해보도록 하겠습니다 되게 하 타죠 되게 라탄 할튼 짝 봅시다 원래 우리가 사용하는 것은 국제 단위계 라 글입니다 많이 들어보셨을 거에요 주로 불어를 많이 써요 이게 프랑스의 들어와 있기 때문에 영어로 하자면 인터넷이나 시스템 의원이 을 si 다니라는 터졌어요 si 단위 아마 많이 보셨을 거 이게 뭐냐면 뒤 m 초 kg 암페어 뭐를 노력한다 가 켈빈 잘 안쓰니까 우리가 앞에 있는 이런 것들이 국제적으로 정해져 있어요 전부 이걸 따라 합니다 90% 이상의 국가들이 이걸 따라 요 95% 이상이 따라 합니다 이게 처음 나온게 1875년에 목재 m 협약 이라고 프랑스 파리에서 17개국 2 지금으로부터 백 오십 년 전에 모여서 키 저항 거에요 협약 길이는 m 질량 kg 뭐 이렇게 하자 국제 도량형 옆에 지금도 있어요 양립을 하고 100대 부터 시작을 합니다 근데 놀라운건 밑에 1875년에 모인 17개국 중에 미국이 있어 조약을 미국은 150년 전에 ok 를 했어 근데 지닐 만큼 아잉 거야 흠 무슨 일이 있었을까 재단 얘기를 조금 더 보면 1990년의 드디어 제 11차 국제 도량형 협회에서 지금 우리가 쓰는 si 시간은 초 길이는 m 질량 1kg 라도 당연하잖아 왕 페어 이런게 공식적으로 확립되어 사용하게 됩니다 그 현재 이 우리 si 국제 단위계 를 사용하는 나라들이 몇 개국 이냐 다해요 다 누 빼고 9 미국 빽 예 미얀마 라이베리아 르지 고 말할 필요 없어요 1종 일단 분들이 있지만 말할 필요가 없고 될 미국 이야 미국계 다니길 안써 내가 딱 하나의 3 미국 아가 이런 이웃 꺼지자 영국 있지 않습니까 명 국도의 좋아했어요 미터법 없어요 기본적으로 얘는 병행을 하지 근데 사실 우리가 병행을 해요 왜냐 여러분 끝임 모르세요 1 평 우리 이런건 쓰잖아 우리들 먹었어요 이거 쓰기 때문에 돼지고기 600g 드세요 라고 할 수도 있지만 한국은 주세요 물로 쓰니까 그게 영국도 경영을 하고 대하면 대부분의 따라 병행을 하죠 하지만 기본적으로는 조 국제 단위계 싸이를 쓰는데 기본적으로 안 쓰는 나라가 있어서 문제 뭐예요 기본적으로 안쓴다는 미얀마 자질 병행을 합니다 어느 정도로 크게 미국이 라이베리아 미얀마 돼 있지 않습니까 전화 라는 왜 그래요 아 그랬어요 라이 메리언 어떤 나라입니까 과거 미국 식민지 이 아프다 넓은 것 중에 여기에 유 어 마이걸 지나 바다 뻗 아지야 미얀마 다 왜 그 뭐야 도보 크롭티 싸웠어요 얘기했어요 혹시 그렇기 때문에 한거 사실 싸 미국 1 다저 달아 마크 뭐야 그 꼴이다 자 그러면 미국은 도대체 뭘 사용한 야 모를수도 있죠 전날 하는 뭘 사용하길 애니가 이렇게 10일 내냐 연구의 쓰던게 야드 파운드 법이라 그리고 끌림 미국 식으로 개량한 겁니다 미국 식으로 개량 거역하고 달라요 가영 모카 모두 달라요 이 같이 가다 영국은 일로 가고 미국 이루어 갔어요 해 요금 다른데 보면 6시 길이 야드 말 넓이는 피트 에이커 오이시 메이커 비로소 리스 줘 부피는 여러분들 많이 드시는 되게 사용 해 합계 엘런 첫 은파 인트로 먹을게요 크게 그 거에요 모오 배럴이 라도 6배로 의장 후보 나오고 질량 1 몬 쓰고 파운드 온도는 화씨 야 뭐 이런 뭐 를 쓰는게 미국 단위입니다 미국 다니게 까 si 말고 중에 나라 마 쓰는 다니게 요기에 있는 날아가지 미국 이라고 할 수 있습니다 쓰심 제가 말했지만 우리도 은근이 미국 여행을 많이 받았죠 왜냐하면 미군이 1교 때 우리나라 들어가서 미군 정도 있었고 미국여행을 굉장히 크게 맞고 지금도 오고 미군이 주둔해 있죠 미국 덕분에 쓰이는 단위들 많아요 27일 유치 킴이 8인치 스마트 폰 흘러온 컥 골프 드라고 202 한테 야구 투수 보 백 마이 너와 했던 하프 갤런 뭐 파인트 이런거 고도 3000 비트 주에 나오지만 이 중에서 가장 큰 문제가 이겁니다 왜냐하면 항공산업은 그대 빵이 누구요 빙 길을 만드는 대빵 에 나라 그 때 빨리 미국이 야 걔 내가 mi 쓰고 피터 써요 고도 뭐 3000 모피 틈 어쩌고 그런가 쓰면서 뭐 마일리지 자나 일이지 오죽했으면 쌓임 거리도 마일리지가 싸요 모범 원만 mi 가면 뭐 다 마일리지가 쌓이고 뭐고 도보 4.2 틀을 유지하고 4 정부 4천 피트 로 뭐 이런거 얘기하는 게 다 미국이 때문에 여기 나의 국제 단위가 피트와 마일로 돼 있습니다 자일 어려움이 있는데 자 진짜 여기서 또 제 의견입니다 미국 다니게 특징 이 뭐냐 100% 제일 위한 어려운 말로 중고 단방 이구요 오일 중 쉬운 말라며 는 그 제 생각입니다 캡파 이 야기를 파지 지 야 이게 실제 횡단 에서는 그 오리지날 미국인들 아니면 쉽지 않아요 제가 많이 노력을 해 봤는데 저 야구 좋아하고 모노 구조하고 하니까 이게 그때의 택가 1파운드 16온스 야 1 피트는 심히 i'm 10인치 찐 법으로 다던가 이제 까지 스테레오 만들지 빈뇨 우리 싶지 법을 해줘야 될거 아냐 25t 계산서 라고 이고르 그리고 1 80 4 pt 5 물은 32 누에 서로 212 되서 꿇고 아니야 이렇게 적당히 하지 않자 적다 2기 안 돼요 이게 진짜 해보시면 은 게 안 됩니다 그때 그때 너 뻔 외워도 맨날 까먹고 고 게다가 국회 단위로 바꾸기도 너무 어려워 대충 원하죠 근데 정확하게 하려면 30.48cm 이 피트가 1 인치는 2.33 구야 아니 1피트 나 그래도 대략 30 이라고 외국어 든요 대략 2피트 30cm 30.5 지만 제끼고 1 씨는 어떻게 5 아니 2.93 뭐 이렇게 만들어 주던가 대충 3으로 요게 이하이 조각이 충 하겠어 2.5 야이 도 아니고 3 가지고 이렇게 가장 악랄한 데 안 떨어져요 쥐가 장난이야 그래서 정확하게 알기가 쉽지 않고 그래도 다행히 있습니다 미국이 취미 짐 법을 쓰진 않는다 이다해 뭐예요 옛날에는 12g 법을 썼습니다 털이 다시 듣고 o 쉽지 않았어요 미국 22g 법을 썼다 고 생각하면 끔찍합니다 그럼 쉽지 않았어요 100년전 영국도 12g 법이고 미국도 12 진법에 나라 였어요 옛날에 처음엔 아직 날이 겠지만 영국이 1947년에 화폐 기억을 해요 그때 이전에는 동전이 이랬어 2실 익은 12 펜스 아 이거 이거 계산하려면 죽죠 정전 22 진법으로 하기 시작하면 정신이 없는데 이 영월 후면 있죠 원 투 쓰리 포 파이브 식스 세븐 에잇 나인 텐 우리는 60 그 다음에 11 12일 k 아내들은 그렇게 하죠 10 길리안 10과 일이 아니라 합주 길래 부식과 이가 아니라 투 일 북 13 부터 10과 3 2조 모집과 3 죽과 4 이렇게 23 부터 넘어가는게 원래 12g 법이어서 그 뭐 어떻게 땀 하니까 미국이다 인것은 12일 벗 아니었다 사실은 미국은 되게 옛날부터 시피 보통 와 를 사용했습니다 이게 뭐 토마스 제퍼슨 미국 3대 대통령 때문이라고 하는데 10 법 통화를 생각한 초기 미국인 중 한 명이다 이제 퍼스 아시 덕분에 10진법 주아 시스템을 전 세계 최초로 갖췄다 라고 장애인들을 주장을 해요 전세계 추천 아닐것 같은데 자기는 다른 라이트는 10진법 또 원래부터 사용했다 라고 수장을 하고 2분이 1789년 해 제퍼슨 아저씨가 쉽지 법 에 기반한 시스템을 제안을 합니다 이때 만약에 콩과 가 됐으면 미국의 지금처럼 개판으로 안 사용할 텐데 m 과 유사한 시스템을 제안을 해요 근데 1789년 이 엄청나게 빠른 겁니다 m 국제 밥보다 빨랐는데 제가 보니까 믿기지 않게도 우유에는 아무것도 결정하지 않았다 그냥 하던 대로 하자 라고 결정을 했대요 그래야 꼬 지금까지 뭐 무슨 그런 개판 5분 저들 이제 사용하게 된 그런 역사가 있다고 합니다 물론 이 역사 다음에 미국에서 누가 보더라도 남들 다 m 쓰고 kg 쑤가 한데 넘 아닌 치아 죽었으면 되냐 바꾸자 라는 의견이 그렇게 맞다 그래 예를 들면 1866년에 m 법을 합법화가 되고요 그 m 협약의 미국 최초로 가입을 하죠 그래서 바꾸자 는 말이 그렇게 많아 는데 지금까지 아는 데 결정적인 이유는 과학자들과 일반 대중이 사실상 분리가 됐어요 일반 대중한테 안 퍼져 미국은 자기들이 3개 잘 아메리카가 월드 라고 생각한 애들이 미국에는 죽어 하나하나가 왠만한 나라라고 생각하기 때문에 자기들 3개 해져 있는걸 옆나라 가 뭐라고 관심이 없어 큰 더 월드가 아닌거죠 거기는 거기는 월드 아니고 무슨 뭐 화석이 닭 음성으로 생각을 하는 거고 자기들 내부에서 가 쓰기 때문에 뭐 우리도 올려져 아무 불편하면 드 일반 대중은 아내 금연에 미트 법의 리더들이 대부분 미국 과학자 될까 미국 엔지니어 지 노 미터 법을 이렇게 하고 저렇게 하고 바흐 튜바 우리가 하는 s 아이들을 연구 게다가 발전해 나간 사람들이 미국이 있는데 그건 과학자 드리고 그 사람도 집에 오면 은 1파운드 줘 뭐 이런 소리 안 되는 거에요 그게 그 100만 입 알지만 5 빠른 거 아니냐 뭐 이런 자기네들은 m 펌 만들었고 집에 가는 차 안에서는 mi 이라는게 미국인 이었다는 깨지 문제가 되죠 이제 할 기회가 몇번 있었어요 정치적으로도 미국이 우리가 쓰는 m 법으로 기회가 있었는데 1893년에 대표적으로 마지막에 까지 아닌데 제가 쓰는건데 맨 대 너를 올 더 라는게 생길 게 뭐냐면 그 동안 영국이 그 영국식 도량을 어제 보관을 했는데 그게 불타 없어지면서 새로운 도량형 을 만들었어 그래 갖고 이 토마스 맨들 우리가 사람이 피터 포크 kg 이 체계적으로 통영이 되니까 이걸로 모든 특정 투 준 을 만들자 라고 결론을 짓고 이것을 공표 해요 이게 맨디는 오라고 합니다 자크를 밑에 미트 뽑아 꿈은 되겠네 소드 그 생각을 했는데 안 된 이유를 보니까 m 포카 kg 을 사용하라고 공표를 했는데 자기들이 사용하던 관습 단위를 m 국가 그래버 보는 정교하게 정리를 했어요 아니 정의 하지 말고 그냥 m 를 써 어 1 부순 0.3 04 8m 이런걸 정의하는데 m 를 썼다는 거죠 이 검이 타고 그램을 쓰니까 그걸 쓰니까 쓰긴 쓰는데 지낼 거 정의하는데 썼어요 1파운드 는 400 53.5 237 글입니다 아 정해서 뭐하게 그냥 그래 벌써 그거 정의할 수 께 하여튼 이래 갖고 적도 날라 같고요 1970년대에 여러 가지 노력을 합니다 마지막에 대통령 후보들이 나와서 노력도 하고 늘리면 m 법 사용을 뭐 법주 만들었어요 m 또 변환법 이게 카터 대통령 시절에 아주 유명했던 법인데 m 부분을 변환 해야겠다 실제로 변화는 했어요 더 2 만들었어 미국 소비자들이 거부 sb 얼마나 세게 거부 했냐 이름은 접대 했던 가장 유명한 뒤덥어 편한 이런게 있었어 지미 카터 대통령 시절에 고속도로 표지판 을 시범 삼아서 1개만 mi 말고 키로로 바꿔봤어요 560,000 1 2 3 4 9 10 키로 이렇게 바꾼 거죠 100마일 160km 바꾼거 비트 법을 가겠다고 고속도로 표지판 바꿨더니 조윤희 분위기 봐서 사람들이 적응을 하면 나머지는 다 바꾸려고 덕도 만들었을까 m 복도 만들었을까 총 170 년 의 지미 카터가 이걸 시도를 했는데 고속도로 표지판 을 바꾸니까 들고 일어 났어 헌법 소원 얘기로 너 척 그래서 이 지금부터 한 사원이 온 일겁니다 아마 1977년에 미국의 네게 m 법으로 전환 하도록 강요하는 것은 민주주의 원칙에 위반된다 그 법규정 폐기 운동을 바래 진짜 어 그게 무슨 민주주의 원칙이 야그 루터 팝스 분 되지 그러면서 이 아저씨가 뭐라고 주장 했냐 이것 기능이에요 우리는 이 나라가 어떠한 인 치도 포기하지 않도록 하겠다 i 무슨 땅도 아니고 뭐 한때 암에 땅도 뭐 포기할 수 없다 뭐 이거 뭐에 씌인 착한 거 타이거 아니 그걸 포기하는 게 아니라 m 썩은 야 그래서 이런 소릴 때 아 그거 프랑스 파리 놈들이 이거 첨에 밑에가 8에서 만들었죠 프랑스 파리 놈들이 만든건지 우리가 따라 하는거 아니냐 뭘로 캐드 만든 것 따라 의 걔들이 올걸 따라야지 라고 얘기를 했고 버드 게 과학적 을 이래 때요 야 1 pef 얼마요 조언에 손 크게 발 크게 아니야 그게 이딴 인식적 인거죠 1m 무슨 뭐 뭐 빛이 뭐 0.00 너 초에 뭐지 가는 거리 내용이 어떻게 과학적인 얀은 손 크기 발 크기 야 흉계 박정희 되지 않냐 라고 얘기했다 글입니다 실제로 택 그래서 적어 맞고 두드려 봤고 적어 지금까지도 안 되고 있죠 그럼 이렇게 이랬다고 합니다 전 세계에서 카 니가 맨날 미국만 m 법 체형을 안 한다 얘기하는데 틀렸다 미국은 m 법 채택을 안 한 나라가 아니야 왜냐 미국은 아까 봤지 1866년 부터 m 법 을 채택해 써 아까 m 로 써도 되 써도 되는데 궁 들이 안쓸 뿐이야 라고 얘기합니다 어 할 수 뭐 있진 있는데 안 쓴다는 거죠 그래서 이렇게 일합니다 미국이 실패한 것은 미터법 사용을 실패한 게 아니라 사용은 지금도 해요 하면 되니까 전통적인 단위 사용을 제한하거나 금지하지 않는 것이다 이것을 뭐 공무원 이건 일반적으로 쓰는거 에서 제안하거나 금지 있으면 사람들이 m 법으로 갔을 텐데 뭐 알아서 편한가 쓰세요 그러니까 이건 안 쓰고 전통 단 이상으로 갔다는 거죠 일반 시민들이 전통적인 단위 색을 제한하거나 금지할 뜻이 팻 우리 외치며 는 이제 앞으로 평 쓰지 마세요 요즘에 평은 잘 아시죠 우리 누르고 평 말고 제곱 미터 를 쓰고 그렇죠 평 쓰지 마세요 뭐 그렇게 얘기하면 30평 40평 요거 뉴스에 못 나오고 신문에 본 나오고 무조건 제 컴퓨터로 가고 우리나라도 그렇게 하는데 예를 들면 돼지고기 앞으로 그누 3 는거 불법입니다 뭐 예견할 수 있겠지만 어디에서도 글이나 신문이나 아니면 에쎄 싹은 으로 쓰는거 불법입니다 금지 입니다 라고 했으면 모르겠는데 미국은 근거를 안 했다 라는 게 문제죠 그리고 뭐 이런 일이 다 잡고 나왔지만 우리만 그런 거 아니야 어 대한민국 빠 돼지고기 한근 반지 한도 나 그렇게 반지 한도 쌀 한 돼 1 호 30평 집 다 쓴 에다스 4 온 자기네들도 m 도 쓰고 어야 들은 모두 쓰고 대한민국 또 m 쏘야 들어갔었는데 똑같다는 거죠 똑같은 뭐 똑같아요 또 거니 야 니들은 야드 인체 그거만 쓰잖아요 우리는 대부분 5m 법 쓰고 어쩌다가 이러고 쓰는 거고 앞에서 손으로 바뀌었는데 해체 모비움 그렇게 주장한다 글입니다 그래서 미국의 가시면 은 그리고 아마 처음 가시는 분들 미국의 가변 은 이렇게 써 있습니다 슈발 유리 앨런의 $5 있는 더 올랐죠 내 자동차는 얘기하려 대신 mi 간다 이거 연비가 어떻게 됩니까 1 갤런 5 달라는데 1 갤러 들은 10 말과 그럼 몇 미터의 몇키로 1단 소리냐 이거 계산하려면 은 계산기 있어야 되요 굉장히 있습니다 1 갤러리에 옷 알람 대 1 계란은 10마일 가 이게 왜냐하면 처음 가시면 그래요 1 갤런 이 3.78 l 입니다 1 마일은 1점 6국 몇 넣기 루어 10만 의심 니켈 한마디로 3.78 l 내면 16회 호환되는 그 m 다 연비 니까 16을 3.7 팔로 나눠야 돼 ic 에 별 하나가 말지 에서 보면 뭐 하는 거에요 얼마라는 거야 이 결론은 4.1 하는건데 하다가 숨기지 않는 이유 있는 것을 듣고 아래로 가려면 은 막 쉽지 않은 이게 우리가 일상생활에서 는 미국의 안 사니까 용감 철을 얘기하지만 자주 심각한 분야가 있습니다 어디가 생각할까 당연히 한국 우주 분야에서 생각하죠 한국에서 특히 왜냐면 아까 이겠지만 미국의 슈퍼 파워 곳 사실상 미국의 길기 때문에 전세계 항공은 모마 1 피트 물어봤습니다 아직도 야드 방법을 쓰는데 스 결국에 사고가 발생할 꽤 많이 발생을 하는데 심각한 사고 날고 자잘한 사고 많이 발생할 때 가장 유명한게 나와 있죠 1999년 화성탐사선 폭파 사건 입니다 왜 유명하지 는 이름만 봐도 알 수 있어요 오죽했으면 적어 틀려 갖고 화성 탐사선이 달랐어 수천억 이 들어가는 화성 탐사선이 서로 사용하는 단위가 틀려서 폭파되는 역사적인 사건이 있었죠 무려 1999년에 1960년대 도 아니고 이런 내용입니다 1999년 9월에 화성 탐사선이 화성에 접근을 했어요 제 궤도에 안착하고 왜 돌면 됩니다 화장의 대기를 탐사하는 탐사 전이에요 대기중에 돌면서 적당히 1 1 2 100키로 상공에서 돌면서 화성의 이제 못해 길을 탐사 하겠죠 이거 임무 수행은 나사가 있구요 제작사를 록히드마틴 이었어요 그렇담 차선이 나사는 당연히 록히드마틴 해서 자료를 받은 다음에 당연히 미토 법 이라고 생각했어요 당연히 했어요 국제표준 이겠지 록히드 바치는 당연히 아 2파운드 뽑을 만들었어요 냥이 앞에 파우더 펄 만들었습니다 이 미국에서 되는거 아닌가 여기 자연이 만들어 놓은 데 까사 숫자를 받아보고 을 넣었어요 1 파운드는 0.45 km 그러니까 무슨 말이 록히드마틴 숫자가 2백 빵 어떻게 되서 짜요 키로로 따지면 따스한 몰랐죠 그 어떻게 됐어요 2 배추 실력으로 화석 만약에 돌진을 했죠 요 빠른 거 아니냐 의상 한데 즉 치아 치 빠른거 아냐 어길 수가 있으니 써있습니다 있어 맞을 거에요 멈추게 쬲 멈추게 쭉 하다가 그 슈 안 하긴 션하게 화석으로 다이빙을 하사품 입니다 1 2회 어이 3억 달러가 넘게 들어 어때요 3초 넣어 이상이 시원하게 2배속으로 야 이거 뭐 실시간으로 벌어지면서 최근 보신 게 다 이면 없어 가요 지금 이슈가 아니어도 자 가는거죠 슈만 되게 뛰어들었다 2개소 기니까 두부 속으로 뛰어들게 나사 입장에서는 야 이거 어떻게 국제 길을 안 만들었냐 이런 얘길 하는 록히드마틴 입장에서는 아니에 우리가 뭐 중국이나 브러시 아 프랑스 이런 대로 조스 면은 밑으로 맑겠지만 나서도 미국 기관인 덴 이들은 어떻게 파운드 안하고 키로 쓰니 오 이런 얘기를 서로 하는 거죠 마 싶은데 비행기 국제적으로 만전 회사가 지아 2파운드 파일로부터 대단하긴 한데 거기서는 제 크게 표지 이었던 거죠 그래서 시원하게 화장 탐사선을 날려먹은 나사가 이 사건을 계기로 공식적으로 아프다 3에 들어가는 모든 수치는 m 퍼 2007년 에서요 피로써 그 동안 그 달 탑에서 어떻겠냐 야 그와는 모이 아들 파운드 법도 썼다는 건가 야 그동안 대단한 에 그제사 어떻게 찌 쉴 때마다 그저 누가 보인 치피 틈 이름을 했으면 그 거다 1 숫자 바꾸고 있어야 되니까 하지만 아직도 한국은 따듯 펀 법입니다 그 말인 즉슨 우주는 si 에 요 우주는 국제표준 이에요 m km 이런거 고 kg 대기권으로 들어오면 야드 파운드에 요 괴 잘 잘해야 해 까니까 욕실 수축하는 걸 나서 하고 계산을 했어 이것은 우주 인지대 기 꾼 인지를 잘 봐야 돼 2권으로 들어오면은 나드 파운드 피트 뭐 이런거 기 때문에 잘 봐야 됩니다 잘 타요 2기 왔다갔다 하다가 2 틀니 6g 드시기 때문에 현재 진행 합니다 아직도 그래요 아직도 그렇고 미국 모 바꿀 생각이 없죠 건 더 월드 니까 우리가 새기 때문에 불편한 게 없다고 생각하고 따른다 라고 과제 없는데 뼈 다 앤디의 모은데 불편해 다 매 들고 뭐 어디 불편해 거기서는 그 한국 k 리그 안 보조 1 개입이 안본다 말이 한국 모 kbl 담아 택 불쌍하게 없어 자기들은 불편한게 없고 잠이 들 거 가 보기 때문에 다굴 생각이 없나 띠 그런 나라 라고 쓰고 있습니다 참고로 약간 좀 새는 얘기를 들으면 전세계에 kg 의 긴 유니 표준 원기 라고 있습니다 라 마실 거 6일 키로 줘 이것이 우리나라 있는거고 프랑스 파리 가면은 굉장히 2 꼭 금고 안에 백금 90% 이 리듬 10% 에 딱 끊기로 짜리가 있다고요 1889년 이니까 거의 팩 1 30 년 130 년이 지나 쬲 오랜 시간이 지나면서 무게가 정말 누구 마치 달랐다 글입니다 푸와 되니까 이렇게 보관될 했어도 미세하게 우리가 달라지는 그럼 전 세계 1kg 에 기운이 미세하게 우리가 달라지니까 이게 문제가 있다 그래왔고 2018년에 얼마전 입니다 4년전에 국제 도량형 폐를 열어서 4개의 기본 단 의 정의 를 변경했습니다 이제는 저기에 1키로가 아니에요 옛날 가 달라 졌어요 이게 불과 몇 년 전이 질량과 암페어 켈빈 몰에 대한 정의를 바 끊기 얼마전에 있었습니다 그래서 신문 이름의 5 이제 18년에 130년 만에 kg 의 정의가 바꿨다 우리가 모르는 사이에 kg 이 바뀌었습니다 살짝 바꿨어요 살자 지금 1kg 에 저희가 뭐냐면 저도 무슨 얘기 하지 모르겠지만 광자를 광자 주파수를 나눈 플랑크 상수의 대한 종이 로 변경했다고 합니다 예 혹시라도 관심있는 분들을 해서 자식도 가져왔어요 식도 식은 비롯해 요게 산악을 클럽 그런데 옛날엔 이렇게 안 했는데 받겠습니다 옛날에 2키로 요즘이 필요는 다르다 옛날을 키보드 요즘에야 조금 더 무겁습니다 m 2 궁금하다 m 는 일단 바뀐 가야지 옛날에 됐는데 비시 진공 해서 이 9979 2548 분의 1초 동안 진행한 격노의 길이니까 이게 여기에 m 구요 집에서 대단해 보세요 여기 2m 고 위해 가기로 같죠 그렇습니다 타케 딱해서 1키로 의 무게가 미세하게 무거워지고 조금 무겁다 라고 생각하시면 될거 같습니다 저들이 메뉴 중 하나는 바로 아 어려운 주제에 어 자 그 경험 작용 피해자 겸 옆에서 실시간으로 보고 있었던 사람입니다 강남 물난리 가슴이 아픕니다 가세요 왜냐 제가 그때 있었어요 어디에 강남 예 굉장히 여캐 정확히 썼습니다 정확히 와 가 클래퍼 인데 그 앞에 있어 이게 사진들이 대부분 다시 가 커멘트 다 보았는데 어느 커뮤니티가 우리 사이 지 모르겠어요 사람들 너무 많이 퍼 날라서 그래서 제가 일일이 표시를 못드려서 일단 먼저 죄송하다는 표현을 드리고요 다 표시를 들려고 했는데 어디가 오리지날이 못찾겠어요 너무 편해져서 예를 들면 덜 강남역에 진흥아파트 있습니다 아시죠 강남역이 이쪽 잊어가는 여기서 이렇게 오다보면 지도가 파피 있는데 여기가 와 이게 띨 수 하위 찾자 있어요 여기 아시는거 다시 계분 지잖아요 살짝 에 들어가 있단 말이오 위쪽 그 진흥아파트 사거리 가 들어가 있어요 그래서 보통의 어이가 물이 차는데 그 적당히 차일드 이렇게 많이 참고 는 거의 처음 보네요 어떻게 쉽게 차지 꽉 차 있는 상황이 됐고 이렇게 학력 삼성빌딩 아 이렇게 제가 찍는 아닙니다 이렇게 이후 반대편의 삼성 건물이 있고 강남역이 줘 보면 와 제가 매일 지나다니는 김 중에 하나인데 와 1 루트 cc 분이에요 처음에 이 시험과 싶어서 끝날 있었습니다 그 날 이게 실험 과 싶었는데 이렇게 될 수밖에 없었던 이유를 조금 보면 서울시 1강 술에 하루 강수량이 기준으로 100년 내 최고 기록이다 1920년 얘기하더라구요 100년 내 최고 기록이다 왜냐면 빨라야 제가 근거입니다 취미 서울시 길 강수연 표시해 놓은 거에요 잘 안 보이시겠지만 어떤건 오픈된 우동도 있고 의 정도 있고 우정도 있고 무정도 그런거예요 그정도의 정도 좀 하루 하루짜리 표시등 거니까 이날은 380 놈이 여기 있어 4짜 1920 년에 도가 하고 있을까 말까 하다 고 하는데 와 무 정도로 100년 내 최고 기록이라고 할 수 있고 물론 비공식 입니다 비공식 인 이유는 왜냐믄 2 서울시의 공식 기록을 기록하는 것은 한 곳이 꽤 속물 동해 있다고 하고 여기서 하는게 서울시 공식 이고 저기로 가 뭐에요 서울시가 아니라 그 동네 줘 그 동네에 기록 서울 전체가 동네의 이루기 때문에 주 서울 동작구 신대방동 에서 380 1.5 만약에 끔 강남 진흥 아파트 앞에서 재 쓰면 얼마나 왔을까 뭐죠 모르겠지만 시간당 강성도 최고기록 다만 서울시의 공식 기록은 아니다 라고 보심 될 거다 마치 100미터를 뭐 남들은 신뢰에서 재는데 실내에서 3 그런 거라고 할 수 있겠죠 자 그러면 제가 왜 강남역 물난리가 그렇게 몸에 와다 아냐 고 날 미키 씨 않겠지만 투자 카나 없이 좌 카게 그 강남역에 있는 사무실 있었습니다 위에서 아무 생각 없었어요 태그 가려고 하고 저스트 가요교실 때 내 택하자 근데 갑자기 먼저 나간 직원의 메시지가 오는 거예요 들어 놓고 뭐야 대변이 오늘 치매 못들을 것 같은데요 원래 뭐 입고 밖에 비디오 모네 아 괜찮아 빨리 들어와 무슨 일로 그래 라고 보냈더니 왼쪽이 그때 당시에 그 친구가 보냈던 사진입니다 심상치 않습니다 자기 여기 있어요 여기 있어요 지금 으로 무리하게 차 오르고 있는데 쫌 이따가 이 문을 열고 물이 펄 칼칼칼 들어오는데 그 책자의 로 찍은 거에요 대본이 오늘 못 할 거 같은데요 그런 소리 하면서 얘 괜찮아 그랬더니 메시지가 뭐라고 하냐 그 다음부터는 이 친구 사진이 없어요 외사 지니 없냐 이런 거치고 있었거든요 실제로 온 단어입니다 적 가 쳤어요 체력 주세요 뭐 까 사진찍을 정신이 없어 이건 딴데 가끔 거의 딴데서 언어 컴 이전이 흥미를 찍은건데 지금이 상체 알까 다쳤어요 살려주세요 라고 문주 보고 오길래 요 뭐 의 살고 초 정부가 칼들고 나 되게 아니라 문의요 니까 갇힌 거죠 버스 기사님 을 다 되리라 그러고 여기서 해 음을 치고 나갔다 그럽니다 그 팩트를 짜지 밟고 헤엄 치고 나가면서 이 진짜 도 제가 적은 게 아니에요 개가 이렇게 좋았어요 바로 을구 진짜라고 진짠가 보네 옳게 봤던 기억이 나는데 그리고 조금 있다가 또 온 메세지를 보여드리면 이렇게 않습니다 강제로 데려 할 것 같아요 댓글 님 팬티까지 젖었어요 남자입니다 남자 해주 이 사진은 아니고 팬티까지 셨어요 이렇게 오고 야 큰일났다 노지 베어 들어가니 많이 얘기하고 있었는데 그 옆에 있던 직원이 즉시 집으로 가고 있던 직원이 줘 이렇게 됐던 직원이 자기도 갖췄다 면서 보내는 메세지가 정말 제 마음을 후벼 팠습니다 아 이것이 직원이다 어 그 상황에서 애가 야 페이지까지 셨어요 살려주세요 이루고 있는데 옆에서 다른 직원이 저희 내일 채택이 줘 어 훌륭하다 역시 자네요 역시 자네 아베크 생각을 미처 못했네 그 다음날 채택 2차 일제 내게서 더 거기까지 생각을 못했는데 아 그 상황에서 제 4회 원칙 물이 물론 이 친구 대현 치고 있었어요 친구들이 집에 못가고 강당 여기서 회원 치고 있는데 그 와중에도 한손을 헤엄치는 아직 모비즌 다음에 오초희 제 택이 조렇게 고갱은 쳐보세요 아 아름답습니다 이것이 직원이다 이것이 대한민국 직장인 이죠 이정도 패기가 있어야 되는데 텅 킹 건 그 와중에 또 다른 직원 있었습니다 그 친구도 없이 택은 중요하세요 그 친구들 막 교훈 사진 보내고 막 그러고 있었는데 그 친구는 져 친구 둘이 그 한명은 팬티까지 절임 사형 치고 한 명은 헤엄치며 선호 피지 워터 제트 인가 라고 보내는 그 와중에 2000 이렇게 보냈어요 훌륭한 친구다 그 와중에 진짜입니다 실시간으로 침수 낼 땐 주식 노 사면 되나요 아 야 그거 그러니 그 생각해서 보내다 애들이 알고 우리 직원들 뭐 어떻게 하나 오늘쪽 집에는 갈 수 있나 침수차 구내 차는 빠리 내려다 될 거 아니에요 지하실에 축제 내다봤습니다 차올라서 까봐 내려가서 옆에 보니까 요건 무릎만 물 콸콸 들어가고 있고 우리 주 찾아온 괜찮아 막 그렇게 보고 있는데 지고 가는 주신 못 사면 되나요 밤 10시 11시 멋 주식을 몰라 해주시 평일 주식은 아니지 우리가락 이홍구 자다가 자 그다음 나치를 할 것을 미리 물어보던 이런 훌륭한 자세 여러분 이렇게 돈을 법니다 미리 미리 물어보는 그 와중에 없인 와중에도 주식을 물어보는 우리 싫어합니다 다시 레 호지 타다 없는 실 하기 때문에 자 이런 상황 이었구요 훌륭한 직원들을 되고 있다 슈카 는 어떻게 우선 야 그럼 제 사진은 아닙니다 역시 어디서 갖고 온 건데 이 강남 의사 거리죠 저는 요 위에서 보고 있었죠 먹고 뽑아본 아씨 어떻게 가지 버거에 지금 나가면 기옥 인데 보고 있었어요 아주 중요 치료가 되는데 요 아이 것들이다 보고 있으면서 하자 고민을 하다가 새벽 4시 가 넘어서 편지 그친 것 같고 무좀 빠진것 같아서 살짝 나가봤더니 뭐 제가 찍은 사진은 아닙니다 힘에 나 혼자 쓴 씩 이렇게 됐어요 또 이것 사람 다 갔어요 이미 입니다 집에 갔고 깐다 나중에 귀신처럼 차가 이렇게 도로를 봤군요 이것도 새벽 네시 사진 아니건 11 설치 사진을 거고 이런 식이었어요 나중에 이렇게 가터 집을 이렇게 이렇게 이런식으로 이런식으로 피해서 집을 갔던게 그날의 강남역 이었다고 할 수 있습니다 와 빨리 나갔으면 바로 잠시였다 개나 차를 끌고 나와 쓰면 바로 층수 줘 아니 방법이 없는게 꽉 막혀 있는데 물이 들어차 요 무료 면책 싸게 피함 되지 않습니까 아니 피하면 되는데 내차는 앞뒤 차가 꽉 막아 있어 발 데가 없는데 물이 창군 그러니까 방법이 없다 갈 수 있고 차분히 상황을 보면서 여러 가지 생각을 했는데 서울시가 잽싸게 대책을 해봤죠 대심도 빗물 저류 배수 시설을 계획하게 따고 많은 어렵지만 한마디로 이런 이러한 지금 양천구 있는 거라고 하는데 빗물이 빠져 나갈 수 있는 이런 거대한 통로를 만들겠다는 것을 밝혔죠 10년간 1.5 조원 이거 를 발표했고 제가 아까 얘기했던 어 대표님 그렇게 주식 못사요 라고 얘기했을 때 미처 바쁜 와중에 대답을 못했던 바로 그 거 노을 4 했습니까 뭘 사야 되면 안 되죠 이미 아침에 점프 했기 때문에 뭘 들고 있어야 했습니까 몇몇 터널 건설사를 두고 있어 됐습니다 정 나물 얘기해 줄게 지금 얘기해 줄게 내가 답할 끝내 바 여러 집으로 오면 어두 그때 없었을 거야 들고 있어 써야지 그때 사회의 늦지 아침에 내 이미 갭 상 이었기 때문에 몇몇 건설사를 들고 있었으면 터널 공사 때문에 26% 가 순간적으로 올랐다 그러나 20% 올랐죠 몇몇 합니다 정감 그거 봤어요 정답은 그걸 했는데 나중에 녀석 위한 하구요 그것도 우리가 걱정하는 것은 물난리가 강남에서 놨어요 서울에서 비싼 차가 가장 많은 거죠 예상 침수차량 지금 40대가 지키고 있습니다 금요일 오전까지 18,000 살을 88 대란 시켰구요 이중에 수입차 많이 1787 대가 찍혔어요 4 금요일이 줘 토요일 있고 이를 있고 자 아까 전에 강남역에 보니까 아직도 안 치워진 차량들이 있어요 골목골목에 알도 차량이 서 있어 아직 단 쳤어요 그 다치면 이거만 대 흑자 읽었기 때문에 여러분 아시겠지만 자차 보험에 가입돼 있는 서 전손 처리 된 채 부차는 폐차가 원칙입니다 물에 들어갔다 나온 차는 패착 원칙에 팬 착하 수명이 다 짤 맛인데 에서 잠시 잘 모르는데 잘 못 고쳐 쓸 수 있으면 고쳐 쓰신 전 잘 모르겠어요 근데 많이 신문에 이딴 거 보면 회차를 하는거 치료합니다 문제는 폐차 되면 별 걱정이 없는데 왠 의 왜 니 우리의 걱정은 이게 몇 달 뒤 에게 등장하지 않을까 라는 연지 좀 저렴해 보이는 야 저렴이 뒤 중고차 시장에 나오지 않을까 는 이런 좀 부처와 생각되어 를 좀 하고 있죠 안 그럴 겁니다 안 그럴 거라고 믿어 의심치 않았는데 혹시 그럴까봐 이런 부정한 걱정들이 돔 아니었어요 지면서 인기 키워드 가보 챔스 차 알아보는 뭐 흑 인기 키워드 라고 하는데 r 걱정하지 마시고 에이 설마 그러겠어요 자 그런데 우리의 또 걱정이 있죠 이것은 이렇게 비가 500년 만에 많이 오고 하루에 뭐 380m 쏟아지고 이거는 기후변화 때문인가 그렇다면 이런 것은 반복이 되는거냐 푸르게 일상인 야 이 길 은 말이냐 보니까 강남역이 어떤 뭐 건물은 빌딩은 아예 차 폐막을 세웠지만 그럼 10년에 한 번씩 뉴스에 나오는 바로 그 낄 때의 저도 지나가면서 봤는데 그때는 10년에 한 번씩 뉴스에 나와요 10년에 한 번씩 강남역 물난리 날 때 혼재 차폐 가 올려 갖고 오케 거기 침도 안 당하죠 기계적으로 앞을 있어야 되는데 이게 10년이 아니라 이제 무 2년 일 년에 한 번씩 반복되는 일이냐 이걸로 아마 걱정을 많이 하실 거 시작됩니다 자 그러면 이 사태를 알아보기 위해서 사실은 작년에 얘길 많이 하기 때문에 올해 얘기를 안 한 얘기가 있는데 뭐냐 아시는 분은 아시지만 지금 현재 유럽은 대한민국은 물난리로 날리고 미국은 헉 영어로 난리 줘 작년 유수 하고 똑같지 않냐 똑같았어요 안 갖고 오셨어요 근데 사실은 좀 더 심해요 영국이 사상 최고 기온은 40도를 넣었습니다 우리의 요 7월 포르투 칼은 47 도 넣었어요 은행 애들은 계속 레코드 하이 를 찍고 있어 이제 다시 또 별거 아니네요 우리나라 올해 아직 40도 안 찍었죠 대군 찍었을 내가 서울 30도 만 넘어가도 30도가 넘어가도 장날 47 도면 47 들은 나갈 수 있나 싶어 놈도 영웅 게다가 약간 부채 쪽에 있잖아요 약간 시원한 나라의 가까운데 약간 넉넉한 나라의 40대로 줘 40도 이게 지도를 보면 미처 버렸죠 위에 보시면 빨간색 2 30대 상입니다 닭발 조금 진한 빨려 난 35도 이상 여기는 40도 이상이 이거 뭐 모두 그래 노모쇼 그런 프랑스 팀 경우에도 최고 귀여운 기록이 연일 경신 되고 있다 국내 기록이 계속 경신 되고 있는 거고 이렇게 온도가 올라가니까 저 남쪽 나라들은 산불이 당연하겠지만 통제 불능 상태입니다 스페인에서는 최소 29 이상의 화재가 아웃 오브 컨트롤 통제불능 상태에 빠져있기 타도록 내버려 두는 것도 너무 더우니까 그게 안돼 끌 수도 없고 거 다시 타고 하니까 어떻겠소 그 이탈리아도 42도 까지 이렇게 기온이 오를 것을 경고하고 있다 고 하는데 그런데 이렇게 생각하죠 아니 치구 키우는 일도 오른데 매 그러면 유럽도 1도가 올라야 지 왜 훨씬 더 오시는거 일이 도마 올라오면 그냥 뭐 30도 하던걸 30일 전함 짐이 도록 옮기면 요건은 참으려고 했는데 그렇게 안 오르죠 훨씬 더 큰 폭으로 오른다 말이야 그리워 볼까 이것을 살펴보면 유럽의 남부가 어디에요 유럽의 이렇게 못하겠어요 남쪽의 어딥니까 아 아 유기는 거의 사막 시작과 끝이라 사라사 확인해 뭐 이런 무례와 그 뜨거운 열기가 있는 그런데 잖아요 이 폭염이 원래 이렇게 돌기 때문에 이런 식으로 돌기 때문에 대류가 위로 올라와요 원래 올라옵니다 서유럽 2 이것땜에 더워지는 게 맞아요 4 평상시에 어떻게 됐냐 올라 오더라도 바람 이렇게 부르죠 비교적 빠르게 터졌어요 빗발이 흩어지는 데 요즘에는 앙 그렇습니다 왜 안 그러냐 적발된 열기가 아프리카에서 올라오는데 일단 지구 전체 온도가 상승 하니까 위에 있는 찬 고기압 또 일단 약화된 것도 맞구요 그보다 더 심한게 요즘 많이 후 요즘 다 옛날부터 많이 나오는게 온도차이가 주잖아요 여기와 여기 가에 이고 아래가 필요하며 는 a 와 b 와 온도 차이가 크면 빨리빨리 공기가 가는데 온 업체가 줄어드니까 흔히 에너제틱 이를 그런 표 쓰죠 자 공중에 있는 그런 되 게으름이 악화된 데 그건 무슨 말이에요 천천히 가 아니면 멈춰 있어 정체돼 있어 그럼 블로킹 현상 이라고 부른다고 합니다 그럼 뜨거운 열기가 와서 빨리 빨리 일로 빠져 나가더니 좋을 빠져든 해야되는데 천천히 빠지는 거죠 아니면 정책 그러면은 이렇게 된거 그래서 5분이 되는 거에요 문이 국내가 빨리 빨리 가서 이게 옆으로 가더니 이렇게 흩날려 야 되는데 버프로 키 하고 있으니까 이 천천히 아바 내내 리를 정체되면 은 이 온도가 기온이 훨씬 더 1 또 가 아니라 파 올라가는 현상이 일어 난다는 거죠 그래서 반도체가 주면서 데이 의 흐름이 정체되고 고착화된 야사 대기열이 미 정체되고 고착화 되면 어떻게 되냐 당연하겠지만 더운 것은 더 더워 지겠죠 더 쎄게 빨 반야 간다니까 비도 거기서 오래 있으면 더 많이 내리고 더 쎄게 되는거고 추위도 제 마찬가지로 되는거 아니냐 라고 얘기하는데 그 날 우리나라의 강남역에 그 비가 많이 온 날 한반도의 그룹 모양을 보시면 아마 이거 많이 보셨을 거에요 굉장히 뭐랄까 극적으로 요렇게 돼 있죠 이게 또 하지 였죠 남부에 있는 친구들은 아니 피아노 은데 예 그 얘기 많이 났어 아니 수도권 만 뭐 대한민국 이냐 남 불을 피울 때는 어 아무도 이게 알아 돈이 속건 존 작업을 난리냐 우리 짹짹 한데 뭐 이런걸 올리면서 왠 일 할 때만 난리냐 라고 그 얘기 했던게 이렇게 좁은 띠 모양으로 그런 때가 있어서 그런거 곡으로 아까전에 배움으로 블록 현상 을 떠올리면 이런 거죠 한반도의 창구 기아 북태평양 고기압이 있어서 키모 그룹 때가 생길 수 있다 그럼 빨리 빨리 어떻게 되니까 가야 되죠 빨 빨리 가야 되는데 요 쪽에 고기압이 크게 생겨 버리면 이렇게 되는 겁니다 뭐야 가야되는데 빨리 빨리 안 가니까 정체 이쪽에 오호츠크해 고기압 뭐 그렇게 얘기해 줘 생겨 버리면 가야되는데 늘이 간 그 여기서 천천히 가니까 소 대거 확확 쏟으면서 뭐 이 자동차들이 물에 빠진 그런 세상이 펼쳐지는 블로킹 현상이라고 하는데 끼우지 메 나온 단어는 은 아니죠 옛날부터 5 2010년 때 제가 기상청 보고도 로 바꿨는데 그 때도 벌써 제트기를 악화에 따른 브로켄 현상 우리의 이런 말이 있었어요 이때는 2부가 10년 전인데 아무도 이런 말에 신경을 안 썼죠 그냥 뭐 하지만 나라 얘기인 것 같고 모조리 할테고 영향이 없네 라고 일이 생각을 했는데 10년만에 정말 빠르게 우리 곁으로 다가왔다 고 할 수 있고 그 요즘에 10년만에 기우제 다들 모여서 과학자들이 이런 생각을 많이 하는데 해외에서 이런 기사들이 많이 나오고 있는데 우리가 그동안 기후 온난화 라는 거에 대해서 좀 과소평가 에 온 게 아니냐 10년 전에도 그런 얘길 했는데 딱 10년 지난 2022년 되니까 이거 심상치 않잖아요 그동안 우리가 이 평가를 너무 과소평가 한 게 아니냐 라는 얘기를 하고 있다고 합니다 요즘 현재는 유럽을 돌아 보면 앞으로의 가까운 나라 드 좀 텅 방 3 으로 있는 나라들이 있죠 이쪽 나라들 이쪽 나라들의 지금 상황은 어떻게 되고 있냐 저희가 스페인 포루투칼 뭐 그런 나라들이 잖아요 더위 관련 사망자가 1100명 을 었다면 우리의 올해 7월 19일 아직 7월 8월에 안갔어요 이룰 기온이 42 도시 스페인 an 주 기상청은 극단적 위험 경보를 발령했다 이스트 렌 리스크에 요 예 40m 넘어가면 사실도 너 한번 나가봐 안되지 죽을 수도 있죠 진짜 죽을 게 건강하다면 죽을 수 있는 되기 때문에 자시 비도를 얘기를 하고 있고 자 그러면 우린 유럽을 봤는데 당연하겠지만 미국도 마찬가지입니다 포맨 나라는 이겨서 미국의 안갖고 왔어요 미국도 난리 났죠 지금 미국 같은 경우에는 최악의 폭염 과 싸우고 있다 그런데 우리나라 스 분들은 그나마 조금 덜 느껴 왜냐하면 은 지금 la 쪽 한국인들이 많이 사는 데는 조금 상에 난거 같아요 아까 보셨지만 동쪽 아래가 지금 뭐 난리 났죠 저때문에 미국에서 폭염이 1억 명 이상의 사람들을 위협하고 있다 그리고 올해 가장 많이 나오니까 얘기입니다 올해 수백만 명의 미국인들이 세 자리수 더위를 경험할 것이다 여기서 말하는 세 자리 수는 지난 시간 스쿼드 보신 분은 알겠지만 화씨 에요 자기네들 에 따라 화씨 100도 되게 의미 놓습니다 우리나라에서 이며 전혀 없어요 섭씨 37도 38 표가 뭐가 다르냐 다름이 없다 이 나라는 달라요 화 19 19 도와 100대 체어 그렇게 태우네 커다란 숫자가 바뀔 때 삐끼 지 박힐 때 기 때문에 화씨 100도 라는 게 의미가 있습니다 세 자릿수 더위 섭씨 37.7 던데 이거를 아마 올해 많은 미국인들이 겪게 될 거라고 결코 씨에 따르면 미국인의 85% 가 올해 32도 의상을 경험 할 거다 85 p 가 수백만 명은 37.7 도 세 자릿수 화씨 100도 이상 을 경험하는 그런 해가 될 것이다 라고 얘기하고 역시 미국도 마찬가지로 올해 를 극심한 위험 경보 상황으로 예고했습니다 익스트림 냉장 사항으로 얘기를 하고 있는데 오죽했으면 은 미국 기상청이 트윗도 날렸어요 뭐라고 다녔냐 아주 유용하고 혹독한 여름이 지속될 것이다 워싱턴 뉴욕 보스턴 등 주요 대도시 틀에서 극도로 압박 쩍 인 기운을 아마 느낄 것이다 이것 때문에 아시는분 아쉽지만 얼마전에 바이든 2 국가비상사태 선포 를 하려고 했어요 기우 이기 때문에 기욱이 관련 국가 내셔널 이머전시 를 선언 하려고 그랬는데 뭐가 움직였어요 선언을 하려고 했는데 뭐가 가구 빠졌지 야 야 이 상황에서 국가 비상사태 선포 하면 경기가 노 말이냐 리세 서인 야로 박사 오고 있는데 비상 사태에서 판의 경계 약 갈 수 있죠 카시아 여름 마 어떻게 지나만 될까 침 그러나 552 평상시 같으면 했을 수도 있는데 경제가 너무 안 좋으니까 이제 그런 상황인데 요거 에 관련해서 나도 드리겠습니다 가운데 바이든 2 조 바이든 rc 간 얘기에요 때 스스로 뭘 해줬어 1 벌지 1 이구요 알고 우케 했다 왜 발생 아시고 2 아세 르게 마을 커야 l s+ re re 쌓기도 파워 우직한 발판을 포함해 카이스 그래야 따고 넘 길어서 그 바라구요 보심 알겠지만 지금 사실은 이 멀더 씨다 예수님이 버저 씰 성능 하냐 마냐 를 갖고 좀 얘기하는 건데 기우 위기 상황이라고 얘기를 하고 있구요 게다가 요즘에 미국 신문에 나오는 것은 이런 얘기들이 나오고 있습니다 지금 이 순간 이 당시에 남은 인생에서 가장 시원한 여름 일 수 있다 42 도 가 여러분의 인생에서 가장 시원한 여름을 수도 있는 겁니다 봄의 날아다니고 미국이나 유럽 이지만 지금 이순간이 가장 시원한 비가 가장 적게 온 날 수 있어요 381 어우 어우 야 평 연인의 하루에 400도 않았어 아아 이 학교 좀 그래요 뭐 얀 오늘 뭐 수정 보안 입고 왔냐 안에 준비 서에 부족한 없네 실험 오는 챙겨요 의 380 400 오는데 야구 얘기할 날이 차표 는 당연히 다 있는거 아냐 아니 요즘 차구 수록 양 요 안되는게 있었나 뭐 이렇게 얘기할 수 있는 거죠 아니 니 차에는 너가 없어 아기 돌 그 키봇 아닌가 방수가 라고 이렇게 될 수 있는 날이 올 수도 있는겁니다 단기 내 인생에서 가장 시원한 여름 당신의 세계에서 비가 가장 적게 원 날이 올해 일 수도 있는 거죠 이런 상황이 때문에 우리나라 잘 못느꼈는데 유럽과 미국은 날렸죠 뭐 국가 비상 한테 게 없나 있는데 우리나라 못 느끼다가 이번에 홍수가 그건 뭐 물난리가 나서 다같이 같이 느끼게 됐고 그 때문에 베시 에서도 보면 우리나라 서울 포구를 굉장히 비중있게 다루고 있어요 자기들 원래 관심이 있었거든요 서울 유일의 따서 울드 기록적인 폭우 아서가 운명 이상의 돌아가시고 자동차 침수되고 건물이 번 남하고 이런거에 대해서 흔히 비중 있게 되고 있고 계속 나오는 얘기 우리가 기후변화 를 과소평가 에 온 게 아니냐 화대 평가가 아니라 과소평가 에 공기 아니냐 라는 것 를 많이 하게 되고 있습니다 자 오늘의 메인 1기 중에 하나가 여러분들 굉장히 유명한 트위터입니다 왜 얘기 하시는 지는 좀 이렇게 밝으신 분들은 얘기 하자 마자 아 그 얘기 라고 아쉽고 왜냐하면 트위터 주가가 4 다만 하늘에서 아니었나 라고 생각했는데 갑자기 점 점 점 점 점 점 찍으면서 위로 올라가고 있죠 이 사람은 상한가가 없긴 하지만 28% 바이키 올라가고 있는데 그 이유는 여러분들이 열심히 그렇게 아시듯이 일러 머스크가 트위터 최대주주 에 등극했습니다 9.2% 를 한방에 샀죠 3 조언 아까도 말씀드렸지만 일로 머스크의 재산은 이래 60조 작년에 늘어난 재선은 82 주어 3조원 은 한 달 월급이 안 된다 2주 치다 2주 치 월급을 쏟아부어서 쏟아 본다 길 무리지만 트위터 재주가 됐는데 처음에 이런 마스크가 저 지분을 산 다음에 투자 목적을 이렇게 공시 했어요 경영에 적극적으로 관여하지 않는 수동적 세라프 소리하면 주가상승 만 관심이 있지 내가 트위터 모아 라이거의 나라보다 시키지 않겠다 m&a 를 하거나 뭐 거의 인수하거나 거기 들어가서 이사회의 들어가서 뭐 사장 바꾸거나 이런거 할 생각도 없다 라고 공실 했는데 아무도 안 믿죠 피하게 칼 이영 성격 싸 그럴 사람이 아니라고 생각하기 때문에 아무도 안 믿었는데 작곡에 대한 얘기를 해보도록 하겠습니다 트위터가 그러면은 그게 매력적 에서 투자란 건가 수동 독주 하라는 것은 주가의 방 관심이 있다는 거잖아요 참고로 일로 마스크 아저씨 자체가 트위터 팔로어가 8천만 입니다 파워블로거 야 한 버블로 액체 씨드 오니 들어가게 된다 이 일로 머스크 인데 좀 깎아 주세요 뭐 그런 많아 서비스로 주셨네요 그런 얘기를 할 지 모르겠지만 트위터 팔로 8천만 그 뒤에 이제 테라포밍 같은 걸로 아는데 타이트 화상을 바꾸겠다는 꿈을 가진 파워블로거 라고 할 수 있습니다 자 그런데 이영희 왜 트위터에 추 잘 하게 됐냐 제 생각이에요 진짜 제 생각입니다 트위터 sns 기업들이 요즘 굉장히 마니아 몇 년 전부터 받는 압박이 있는데 어떤 거냐면 소셜미디어 줘 대표적인 기업들이 혐오 놓을 거 간단히 술을 삭제 해라 몇 년 전부터 나왔어요 왜냐 이 트럼프 형이 큰 역할 했죠 리 트럼프 형이 트위터를 활용해서 이런저런 상한 그 사가는 모로 내진 이름을 많이 펄 치다 보니까 이런거 자꾸 하지 못하게 해라 해서 이유도 모르고 미국도 그렇고 페이스북이나 트위터 한테 sls 에서 펴 모리나가 짜 에서 삭제 해라 라고 요청을 많이 있습니다 버거로 만들었어요 어 1 이면 모인 종단의 어떤 얘기 흑백 논란 뜨면 남녀문제 pc 적인 거 이런 정말 같은것은 올리지 못하게 그러고 올리면서 삭제하는 이런적 책을 썼는데 음모로 같은거에 트위터가 음모론 관련 개정을 7000개 씩 넘게 매년 삭제 없습 있는 삭제하고 있고 심지어 트위터는 폭력을 조장할 위험이 있다라고 전 미 대통령의 계정을 영구 정지 햇죠 예 어 도널드 트럼프 개 정도 수천만의 팔로어가 있던 계정 인데 그 계정을 미국 대통령이 조정미 대통령이 개정을 폭력이 위험이 있다 가짜 진수 를 생성한다 1 웃어 영구정지 했던지 그런 전례가 있습니다 게다가 의 집에 우크라이나 5 러시아가 전쟁 있잖아요 싸웁니다 물론 싸워 퓨어 에 죄를 우선시 할 거냐 아니면 러시아나 우크라이나 가 각자가 선동 하겠죠 러시안 러시아 가 우리는 박사를 안한다는 위기란 넣은지 오클리 오클리 그대로 보여주는 것을 가짜 뉴스 라고 판단을 되는것을 지울 거냐 대부분의 ss 기업들은 러시아 정부 계정에 대한 차단 및 금지 또는 삭제 5층을 받았어요 친 로 # 계정을 삭제해 라 우크라 계정만 살려 나라 우크라이나 에서도 결혼 전에 이런 지긴 하지만 it 기업도 구글이나 페이스북이 다 이런데 메타가 이런데 제재 하는것을 요청을 했죠 심지어 이후 에서는 이런 얘기 됐습니다 표현의 자유에 전쟁을 선전하는 것은 포함되지 않는다 그것은 표현의 자유로 우리가 용납할 수 없으니까 지워라 유튜브 아 절 정도 각종 검열이 나 이런걸 합니다 트위터도 마찬가지로 러시아에 대해서 신규 계정을 등록하고 로 시작해 정말 일부를 지웠는데 일로 머스크 스타 링크 내란 보여 드렸지만 러시아 발 어떤 전쟁 선전 러시아 바 어떤 가짜 슬어 판단되는 거센 차단은 거절했어요 이런 얘기 했습니다 이런 머스크 총구를 들이밀지 않는 날에 머리 되지 않는다 라는 러시아의 뉴스를 지울 수 없다 라는 절대적인 언론의 자유론 자다 라고 얘기 했거든요 한마디로 타임 제도 많았지만 절대적 표현의 자유 혼자라는 편했어요 표현해 자영은 무조건 적으로 가장 앞서서 지켜져야 된다는 얘기를 하는 사람이 머스크 인데 이 사람이 트위터에 3조 원을 놓고 전격적으로 최대주주로 등장을 한 겁니다 게다가 저도 늘 넣기 전에 트위스트 상에서 지지자들과 투입됐던 내용이 이런 내용이 있어요 어떤 지지자가 오픈 소스 알고리즘이 면서 절대적 표현의 자유가 있는 플랫폼이 필요하다 물론 선전선동 은 적게 하면서 근데 개인적으로 오픈 소스로 하고 철도 지표의 자율 하는데 이걸 줄일 수 있나 적의 되면은 그렇게 하지 그걸 북한의 끌 들면 그게 댓 아쉽긴 한데 왜 이런게 필요하지 않나 햇더니 일로 머스크가 심각하게 고민해 보겠다 라고 하고 트위터 지분을 좀 3 거기 때문에 누가 보더라도 오픈 소스 또는 절대 집회의 자유에 있는 플랫폼으로 만들었구나 라 생각을 하는 거죠 그리고 져 트위터 지분을 산 다음에 자기 트윗에서 요즘에 설문 조사하고 있습니다 아 아 심심하지 나는 형이야 심심하지 않은 욕 유심을 설문조사 없어 얘들아 트위터 최 만들면 좋겠니 이거를 설문조사 하고 있어요 돈이 많이 면 뭐 그렇게 할 수 있죠 마치고 낚시터 가서 자 여기서 만들까요 사당 걸까요 이런거를 8천만 편을 대상으로 설문조사를 하고 있는데 트위터 알고리즘을 오픈 소스로 만들까요 지금 110만 표지 110만 표에서 1 쓰게 82% 가 나오고 되게 많아요 트위터가 표현의 자유를 지금 엄격하게 지킨다 고 생각하냐 2,000,000 녹아 70프로 표현해 샬 과 엄격하게 지켜지지 않는다 자꾸 검열하고 삭제하고 한다 그러니까 일러 마스크가 정말 중요한 지표다 신중하게 달라요 왜냐 트위터에 진짜 반영을 할 거니까 그리고 마지막으로 트위터는 언론의 자유 우측을 지켜야 된다 아니면 민주주의 관선 될 거다 라는 말을 했는데 이 말 함과 동시에 요 그래도 트위터에 수동적 투자해서 재무적 그것만 관심이 때문에 같 적극적인 뭘 안 한 됨에 나하고 말하고 그 다음 날인가 트위터 이사회의 합류 했어요 4:00 그런데 그럴 줄 알았어 우선 수동적 투자 자야 돼 그렇지 않아서 내 그렇지 않아서 바로 적극적 투자로 사뿐하게 변경해주면 서해 가 트위터를 착각과 벌이겠다 고 선언했습니다 그치 그럴 줄 알았지 이거 보면 트위터를 정말 절대적인 언론에 잘 되어있는 그런 sns 로 바꿀 것인가 근데 문제는 것을 같은 정보들이 넘쳐날 텐데 절대적인 언론의 자 이런거 누가 몸 말을 해도 다 살려 준다는 말 다 비슷한데 그걸 어떻게 커버할 수 있을까 이런 머스크 씨는 뭘 바라는 걸까 라고 생각을 했는데 바로 이 자료를 만드는 그 와중에 또 트윗을 했어요 실시한 퀴즈를 알리 되고 싶지 안녕 이긴 한데 여기가 폐 뭘 링크 했습니다 젠투 이슬아 인거죠 몰 링크 있냐 요 아래에 있는게 민주당 원과 공화당 원들이 보는 미디어 * 신뢰도 될까 위의 예를 들면 bbc cbs abc nbc 퍼 파란색이 민주당 빨간색이 공화당 각 짝 모을 신뢰한 야를 한번 우리 우 치매는 조선일보 한겨레 뭐 동아일보 중앙일보 뭐 무슨 뭐 오마이 뉴스 그리고 쭉 는 다음의 좌파와 옵하 햄버거를 지크 이게 찍은 것이오 어디가 더 신뢰가 있습니까 뭐 이건 조금 더 진중하게 안으로 들어가자 면은 그 우 쪽에 가장 강력한 odt 에서 맨날 얘기하는 그런 분들 계시죠 좌 쪽에서도 그 옛날 그 나니 왜 이렇게 강력하게 계시는 그런 분들이 있어요 그런분들 및 요를 쫙 무언 다음에 그 정책은 거거든요 이걸 갑자기 링크 라더니 이런 얘기를 했어요 이런 어떤 결과 진실이 희생 됐다 요 있죠 그 다음에 또 뭐라고 올리셔야 지 모르겠는데 일까지 마케팅 폐 진실은 첫번째 생기다 이런 얘기를 했어요 저걸 보면서 언론의 참 많이 걸을 내가 어떻게 끼어들어서 제대를 다 박살내고 내가 뭘 한다는 건가 아니면 진짜 마음껏 뛰게 할 수 있는 근데 바꿔 얘기하는 게 진실로 가나 할 책 해야겠지만 어우 우리 놓치면 아직 이런 표현 제가 잘 안쓰는데 우리로 치면 어 좀 유용한 편이긴 합니다 그 특정 아자 감안해서 안되겠다 바꿔야지 발 주 치보 위업을 그런 모 스트리머 주제 부도 위험을 직접 짜 하셨습니다 a 당과 b 당이 에 그지 #2 언론 만족도 조사 오 그럼 그걸 조사를 한 다음에 진실은 기천 이 되었다고 거라는 거죠 거길 진실이 있냐 다 알어 ea 얘기야 높이는 b 얘기하고 다른 얘기가 나오고 싹 무시하고 개돌 리더라고 이러니 내가 새로 만들어 보겠다 라는 얘기라는 거 굉장히 비슷한데 언론의 자유를 얘기하자면 그게 이나 급히 도일 할 수 있게 펠트 무슨 생각인지 모르지만 이런 걸 지금 얘기하고 있고 그가 재밌는건 이런 얘기도 했죠 아예 트위터가 안될 것 같으면 새로 만들겠다는 얘기 됐어요 3조 정도야 뭐 2주 치니까 다시 팔고 1 2주에 8 끼울 첫날은 다치고 2조 팔고 캐러반 될까 뭐 이런 얘기도 하는 인생 재미있게 살아요 이제 집에 상어 8 그 3 들었는데 그거 버리고 아들 딸 다시 파랑으로 새로 만들까 뭐 이런 얘기도 하는 차 미생 재밌을 거 같습니다 아까 얘기 드렸지만 재산이 265 줘 포브스 선정 2011년 세계 랭킹 1위 작년에 8 10조 원이 넘게 생각해서 그렇게 하지만 하여튼 그런 얘기도 하고 이름을 심하며 는 가끔 몰라요 사람들한테 뭐 불편해 했던 아이 그 트위터 그 낙인 보면 다음 에디터 버튼 없어요 제트 어렸지만 유튜브 업로드 한 다음에 영상 수정이 안 돼 이런 얘길 했더니 어 그래 9 설문조사 올렸어요 댓글 한것을 쓰러졌어 군요 아 그거 수정하게 만들어주기 필요하다고 440 마피 예수 73% 유튜브 어떻게 안될까 머스켓 맥주만 넣어서 유튜브 한 다음에 수정 버튼이 필요한가 있을 수 있어요 그 유튜브 정벌 수 없는데 온리 업로드하는 수정이 안되요 삭제 밖에 한테 중에 짜증 거 밖에 안되기 때문에 알겟습니다 이런거 요즘에 하고 계시다고 할 수 있습니다 그런데 그 양부 자기만 하면 은 또 괜찮은데 2분이 제게 이렇게 무제 일이기도 하지만 tsx 스타 링크 프로젝트를 사실상 갖고 있죠 누가 보더라도 페이스 씨스타 링크는 앞으로 이 전 지구적 통신 기업이 될까 새긴 보이거든요 이번에 우크라이나 전쟁을 여러분들 받잖아요 그거 접시 하나 있으니까 러시아가 아무리 폭격을 하고 아무리 통신망을 끊어도 다 유튜브를 하고 다 트윗을 하고 다 동영상을 올려 타 통신이 돼 요즘에 러시아 모디 학살 했네 모디 뭐 이거 재 불린 으로 탱크를 날 연내 누가 누구 싼 내라는 게 실시간으로 3개 나와요 옛날에 같으면 안 났지 맨하탄 통신만 끊으면 방송국 독해서 우리 치면 kt 기간만 같은거 날려 버리면 될 리가 없는데 요즘에 아니죠 쫌 있어요 21 주겠죠 보이는 제 우주 있죠 초 우주에 떠 있는 애가 내 머리에서 이걸 알리 니까 아무리 거기를 날려도 야 실시간으로 다 소통이 되버리는 그런 치대 가 됐는데 만약 그렇게 되면은 이게 조금 있으면 지금 이미 세계를 덮고 있죠 새끼를 덮고 있는데 만약에 가격을 따운 ck 시작하고 우리도 가입할 수 있다면 우리가 kt 나 sk 텔레콤의 굳이 가입하 이유가 없을 수도 있어요 가입함 될 수도 있어요 90 회사다 된다는데 미 국가도 국어 고모 북한에서도 되죠 안걸리면 걸리면 클릭 r 뜻이 걸리면 총 나아지겠죠 안걸림 드실 뭐 남극 북극 뭐 러시아 춤 중국에서 되죠 되긴 되죠 안걸립니다 깍 걸리며 모르겠네 아까 무슨 뭐 또 새로운 방법으로 막을 지도 모르겠는데 지금 전쟁 중에도 되는걸 보면 받기 쉽지 않을 것 같아요 공중에서 내려오는 게 있기 때문에 게다가 이스타 리크 접시가 지금도 많이 크기가 들었어요 정말 손바닥만한 일수도 있죠 아니면 정말 스마트폰 그 자체의 들어갈 가능성도 가능성이 줘 그렇게 상소문 털이 될지 모르겠지만 스마트폰 자체의 그의 들어갈 수 있어요 뭐 그러면 세계 어디서나 5 막을 수 없는 지금 막을 수 없는 먼로 내 자요 막을 수 없는 절대적인 자유 정말 여기서 뭘 이 제안을 안 걸면 은 뭐고 끝도 없는 자료가 나올 수 있는데 하필이면 이거 를 운영하고 있는 사람이 절대 저어 언론의 자유 자의 자 무슨 뭐 이걸 보면서 뭐 그렇죠 진실은 죽어 버렸다 아까 본처 진실은 최초의 희생자 다 저런거 를 제안을 걸면 라고 생각하는 분이 저 프로젝트를 사실상 갖고 있습니다 앞으로 미래의 적의 정말로 우리가 가입할 수 있고 전 세계 사람들이 가입하게 되면 어떤 일이 펼쳐질까 라는 생각을 많이 하는 거고 옛날에 한 분 들었지만 정태적 언론과 통신의 자이고 어 리스트 할 수 있을까 어초 그게 뭐 할 수 있을지 모르겠어요 충수 에 들어가서 그렇게 스탈이 크리 연결하게 되는 물개 실시간으로 못 들어오고 야부 틀어놓고 야 이게 될지 모름 그러 스마트폰이 안 팔리게 쬲 뭐 팔리고 연결하면 은 그 여기 나오지가 아니죠 한참 그게 어려움을 겪을 수 있을 수 있지만 실제로 그렇게 될 가능성이 있을 수도 있다 라는 생각을 하는데 아마 그 처음 단 초로 지금 트위터를 샀기 때문에 거의 않기 때문에 고파 s 정도를 트위트 해서 어떤 일이 벌어지는지 가우리 미대 언론과 우리 빈에 통제해 자요 우리가 만약 그 스타 링 칸테 가입했을 때 걔네들은 정책을 미리 볼 수 있는 그런 현상이 되지 않을까 생각을 하고 좀 사담 이긴 한데 이런 얘기도 있죠 머스크의 아저씨 가져와 살 때 누구야 이고 상당한 규모의 트위터 콜옵션을 먼저 산 놈이 있었다 할 겁니다 이걸 뭐 스퀘어 이 적어 발표하기 전에 트위터 콜옵션을 먼저 지 으니까 사정 거래적 먼저 선행 매매 생각을 한 번 있었다 누굽니까 이고 근데 뭐 스퀘어 한테 그 정보를 들을 정도면 대단한 사람인데 머스크 형한테 안듣고 머스크 여기야 사라고 누구한테 시키니까 내가 또 어디 자사 운영사 나 어디 뭐 열나 그랬겠죠 모 증권사 나 얘가 되게 있을 수 있겠죠 왜냐 모스크 삼산 대라고 어디에 정보가 흘러서 그 정보가 흘러 오고 흘러 오고 흘러 서 누군가가 했을것 같은데 이거 걸리면 빵입니다 거니까 빵이에요 이런게 진짜 맛난 우리나라에는 과거의 정말 많았어요 정말 옛날에 정말 주식으로 좀 많이 벌었던 분 중에 이런 작전으로 반 분이 굉장히 많은데 요즘엔 걸면 과목입니다 강 법입니다 오늘 메인 주제 머스크의 트위터 인수 입니다 5 14조원 규모의 인수 제안을 ok 인수가 사실상 성립이 됐죠 아 물론 앞으로 거쳐야 할 절차가 많이 납기 한데 뭐 문제 없이 되지 않을까 생각합니다 반독점 뭐 이런거를 걸릴 수도 있겠지만 이 설명 트위터 맞이 가는데 란 생각을 하는데 제가 느낀 느낌은 여러분도 그렇게 느껴지겠지만 이 걸 느끼죠 아 진짜 상태 야 이거 이거 이걸 우찌 알았더니 저걸 54조 를 죽은 진짜 산에 와서 남자 긴 남자 남 들어간 되지 사다 라고 말이 물어야 대단하긴 하다 진짜 생각에 1 처음에 9% 인 수 있을 때만 해도 요거 하려고 사나 했는데 와오 14절 놓고 쪽을 진짜 해라 생각이 들고 타임 라인을 조금 보면 블로 머스크가 트위터로 54조 4 살겠다고 선언을 합니다 4월 14일날 사실상 적대적 인수합병을 선언 햇죠 그리고 뭐라고 얘기해야 면 100% 를 회수하고 비상장 회사 로 바꾸겠다 상장은 내려 버리겠다 내 개인의 4 로 만들겠다 54조 원짜리를 취미생활로 하나 장만한 거죠 플러스 하겠다는 거죠 54 돗자리 플렉스 에서 우리 참고 다가 우리 그 차가 또 북한 따라 소리 있기 때문에 야 이거 어려웠지만 나 라고 생각을 했는데 게다가 트위터 경기 처음에 반발했습니다 어 우리를 어찌 54조 원 정도로 지금 나를 그렇게 값싼 가격으로 볼 유량이 냐 라고 얘기하면서 포이즌 필요한걸 선언 했어요 경영학 경제학 하지 한번도 많이 들어 보셨겠지만 보이진 피를 뭐냐 포이즌 top 알랴 무슨말이 독약 통해 학점 우리는 동 약 작전을 크게 딱히 무슨 말이에요 용어 자체는 보이질 필은 기존의 주주 들한테 신주를 막 뿌리는 거야 막 저가의 가격으로 왜 등치가 이만 해지면 본 먹자 상당히 깜빡 저가 주식을 맞구요 없이 뉴스 거에요 그러면 물론 자기도 가져 뭐야 주가 내려가고 막 등 치마 거의 뻘짓 하는건데 이렇게 해서라도 나를 먹지 못하게 만들겠다는 거죠 즉 포인 pm 이걸 삼켜서 날을 잡아 먹지 못하겠다 4 한국말로 독약 쪄 기존 어려우시면 이렇게 생각하시면 됩니다 복어 잡자 똑같아요 1 공포 초 뭐 그리 테가 물론 얘도 먹는 놈이 있어 이래도 먹는 놈이 있긴한데 것들 가 잘 쳐서 이거 뭐 등 하고 뭐 주 누르고 뭐라고 막 아 이제 구해서 보면 사람이 있긴 한데 좀 먹고 주격 맞았더니 제 폰이 필력 터인데 한국의 건립은 여시 없습니다 이건 뭐 미국에서 통한 작전이 g 이거 한국의 걸리면 너는 바로 얇게 떠지는 것이 않게 따지기 때문에 요즘 없긴한데 그러니까 일러 마스크가 이러한 얘기를 했어요 야 트위트 이사회에는 지분을 가지고 있는 사람이 거의 없다 을 의미 있는 지분을 내가 비싸게 $40 짜리로 54 달래 비싸게 산다는데 주주의 권리를 침해하고 니들이 뭔데 그렇게 결정 하냐 라고 하면서 마지막 한마디를 했습니다 이 제안은 최선이 후 최종적으로 거고 거부할 경우 안 사겠다 에 시안 사라고 와 마디를 했더니 보이진 필 어쩌고 하다가 거부하게 는 54 줬죠 나를 돈으로 유혹할 생각인가 라고 얘기하고 잘 생각해보니까 54조 였죠 그쵸 어 쪽 역시 자네요 통이 쿠 90005 14일 콜 해서 코를 했습니다 열무 라쿤보이즈 피뢰기 않 거야 p 선언을 해서 앞으로 유령 마신 뒤 스콘을 뿌리 겠다고 선언을 하더니 짝 이고 코 를 외쳤고 해서 이 거의 모든 지를 보는 우리들은 진짜 이런 생각을 했죠 자족 아 진짜 될까요 농담 아닌가 즐기고 있는 거 아닌가 라고 생각했는데 갑자기 악수를 하더라 그럼 보면서 여 야 이거 되는거고 되는거고 나이테 생각을 하는데 물론 이걸 굉장히 충격적으로 받아들인 분들 계십니다 누구냐 테슬라 주셨죠 앨런 머스크 0 2 저그 54 정원 살려 니까 장난감 사야 되니까 테슬라 주식형 8 꾀하고 알게 모르게 10조 가치를 시장의 던졌어요 이 440억 달러 중엔 대출 좀 받고 210억 닮아 1 20 10 저는 개인 재산도 잘 거니까 미안해 장난감 살려고 돈이 필요해서 하고 주식을 팔아 갖고 보고 어우 트위터 샀어 어머 5 재밌다고 남지 인지 알았는데 내 주식가격이 빠져 쭉 야 10 런지 장난감 하려고 그걸 던진 하고 화를 내니까 물론 머쓱해 이런 말했습니다 다 팔았다 다 팔았다 - 입대 후 땐 기타 바라기 때문에 얻어 팔지 않겠다 라는 애기 이랬습니다 작은데 여기까지 하고 또 농담도 많이 했어요 무슨 농담을 했냐 자꾸 이상한 건가 몰아 올해 이 여기 약간 계획이 욕심이 있는데 코카콜라 사볼까 유명했죠 나는 다음에 코카콜라를 근데 트위터도 처음에 산다고 동감했다 4짜 나면 뒤에 3년 전인가 농담 하다가 두지 샀거든요 쿨러 사 볼까 라고 농담을 했어요 코카인을 넣기 위해서 이게 그 코카 에 맞겠죠 사이프 억하고 늙고 카에 넣는다고 과목 아닌가 뭐 감옥 이라고 생각하게 되지만 코카콜라는 축가를 잠깐 봤습니다 설마 정말 때문에 움찔 하진 않았겠지 아직 코카콜라가 대단하게 합니다 이게 꼭 하고 레이스 가거든요 아주 주부들 축하 드립니다 아무리 박살날 때 지금 빠지기 빠졌는데 여기에요 물론 코카콜라는 만만치 않죠 삼백초 짤입니다 54 실 안되기 때문에 300 개 짜리 어서 만만치 않긴 한데 저런 옹벽을 꿀과 사람들이 이게 요즘 편으로 뇌 절이라 흐르죠 즉 자꾸 트윗을 본 해에 일러 머쉬 얻어 뭐라고 했냐면 맥도날드는 어때 뭐 이런거 자꾸 보내요 y 스크림 기계를 뭐 만들어서 맥 딸의 아스크림 얻고있다 소리 하니까 2기 8 어 뻘 소리 하지 마라 라는 기조 화가 나셨다 이런 얘기를 하곤 했는데 할 때 보이고 유머 였구요 자 이제 트위터를 샀어요 이 트위터를 가서 물어봤습니다 뭐 할 건데 그걸로 라고 물어봤더니 엘론 머스크가 이런 얘기 했습니다 일단 재밌게 놀자 그쵸 54조 원짜리 질렀는데 재밌게 놀아야지 메이크 on it 메이크업 맥시 범퍼는 하겠다 장난감이 좀 비싸긴 한데 그 장난감 으로 재미있게 놀 게 따라 얘기를 먼저 있고 그래도 뭔가 모모 있어야 될 거 아냐 라고 어떤 트위터에 계속 날 요즘에 실시하는 알리고 있습니다 뭘 알겠냐 트루스 소셜 이라는 끔찍한 이름이 생겼다 트위터가 검열을 해서 언론의 죄를 검열 했기 때문에 혹시 이거만 보고 트루스 소셜 진짜 사회적 진리가 억압받는 것을 얘기하는 거라고 오해 하시면 됩니다 저게 뭐냐면 느끼지 않으시겠지만 트롬 터 예전에 자기를 ss 쫓아 되니까 트위터 차례가 페이스북에 쫓아 되니까 내가 엑세스를 만들겠다 이런 수를 했어요 그래 실제로 믿기지 않게 만들었습니다 그래서 돌아왔어요 언제 29일날 그게 트루스 소셜 cpr 북한의 저안에 자기 여 팀원 날리게 한다고 자기가 만들었어요 제 자기가 만든게 1 메이트를 쑤셔 인데 짜인 페이 들으셨습니다 트럼프가 트위터가 짤라 도 p3 정지 시켜도 돌아온다 3대 i'm - 아니게 생각합니다 첫번째가 그 마이클 조단의 안 - 있었구요 터미네이터의 i'm - 있었는데 그래도 나 퓨쳐 오프에 i'm 102 있는게 아닌가 라고 생각한 4 트럼프 리스 100점 그는 - 다오 5 샤넬 백은 아니겠고 요트 이런 것에 대해서 돌았습니다 이게 들었소 수립 2루수 소리 이런 마스터 위기 아냐 최근에 앱스토어에서 앱 다운로드 아주 섬 죄송합니다 13 즉 물의를 일으켜서 죄송합니다 앞으로 주께서 여러분들이 받아들인 얘는 쪽 하이퀄리티 아 이렇게 얘기했어요 뺑 죄송합니다 죄송합니다 트럼프가 2c 를 만들었는데 이게 앱스토어 1위를 기록해 써요 트위터가 쳤어요 이걸 물러 지금 막 만들었으니까 지금 다운로드 가방 늘어나니까 주간 월간 다운로드 숫자가 적긴 했는데 이거 보면서 54 재설치를 했는데 트럼프카드 쥐고 있잖아 그래서 트위터를 달린거 우리가 언론 검열이 있기 때문에 트루 소설같은 저런 내가 뜰 수 있었다 전어를 다 트위터가 급수 해야 된다 이런 얘기를 했고 이런 얘기 됐어요 저런 말도 안되는 자기가 보기에 말도 안되는 처럼 어땠을 뜨는 것은 표현의 자유를 억압하고 거며 있기 때문이다 하지만 이제는 내가 작기 때문에 아무도 너를 감상하거나 아무도 감시할 수 없다 그리고 멋진 말 됐는데 나는 나를 비판하는 최악이 비판 자들도 트위터에 남아있기를 바란다 그것이 언론의 자유 기 때문이다 서초 이거보고 여러분들이 트위터에 가서 엘런 머스크 한테 욕을 알려도 좋아할 거야 라는 생각을 하긴 하는데 차지 있나 화이트 먼로의 자기 때문에 다요 그래도 남아 있게 해준다 라고 얘기했습니다 그리고 지금부터 언론 머쓱한 정치적인 얘기를 했어요 무슨 얘기 했냐 소셜 미디어 플랫폼의 정책은 다 파 건 우파 건 양쪽 극단주의 자들의 퍼센트를 도래 있나 게 만들어 주면 좋은 것이다 5화 등을 할 수 보면 웹 틴 라이트 2 콜리어 4 p 모스트 han 햄퍼 등 양쪽 극단에 있는 자들을 도 랭 하게 만드는 정책을 써야 된다 많은 내기를 했습니다 그리고 비슷한 얘기를 계속하는 데 트위터가 사회적 신뢰를 가지기 위해서는 당연히 정치적으로 중립적인 할텐데 뉴트럴 해야 할텐데 그 9화 극 짤을 똑같이 환하게 만들어야 된다 어떻게 파 5는 없어요 하원 하원 없는데 그 9화 극작 아 극도로 말하는 것을 배지 시켜준다고 이런 얘길 했는데 그리고 자기는 언론의 자유는 법을 어기지 않고 는 절대적으로 지켜야 된다 근데 언론의 자유를 절대적으로 보장 시켜주면서 9화 국자를 돌아가게 만들 수 있을까 뭐가 있는지 모르겠는데 그런 생각을 했어요 그 사람들이 물어봤습니다 야 모스크 머스크 강신우 파여서 그런거 만드는거 아냐 트럼프 보라고 어 트 럼 2개정도 주려고 그 트위터 상 거 아니냐 근데 청 플레이트 루쏘 소리가 만들었더니 삐진 거 아니야 그랬더니 54조 원을 주고 내가 트위터 계정으로 살려주고 있냐 이런 생각을 하죠 얼마전에 요건은 번에 이긴한데 머스크가 이런 내용 됐죠 건넵니다 번에 네 커버가 야 이거 누가 낙심 지 않았어 낙심 지 알고 이거 사실은 저장 다했어요 누가 낚시 릴 컴퓨터 돌아 다니길래 테슬라가 b 기체 하고 묻자 메세지 했는데 개의치 한테 아직도 테슬라 공매도 6000억원 않냐 그랬더니 쏘리 했다 하지만 아직도 하고 있다 그런 얘기 하지 말고 자선 사업이나 얘기하자 있진 악신 줄 알았어 이게 낚시 아니야 지금도 답신 찌 않을까 생각을 하는데 그러니까 뭐 스카 화를 내면서 기후변화 를 박자는 테슬라가 공부 더 치고 기후변화 라 하자 낮아 전사 벌의 라는거 무슨 말이냐 라고 하면서 라이 테슬라 를 공부도 치다니 하면서 이런 사진 올렸죠 빅 h 보고 이 탄력 쓸어 운 것 하고서 이런 사진을 올렸는데 진짜 전어 그래서 이건 누가봐도 조작 이냐 알았어요 아니 아무래도 귀 계층 한테 처럼 해도 되나 저걸 조작 아닌가 했는데 머스크 향의 트윈스 를 진짜다 라고 얘기해 때요 전유 이트에서 못 봐서 진짠가 나는 내가 유체 한 건 아니다 우리집 고양이가 있다 라고 했다고 합니다 있죠 프렌즈 친구의 친구 라 리가 고양이 줘 우리집 거니까 그걸 울었다 바 얘길 했다는데 그 아직도 초창기 아닌가라고 생각을 한 라이트 다시 돌아오면 머쓱하게 물어봤어요 당신은 우파 기 때문에 좌파를 어가 팔려고 트럼프를 내세울 요거 트위터 인사 한게 아니냐 얼마전에 올렸죠 요런 트리스 아니다 보면 2008년에는 사람들이 나보고 다 팔아 그랬다 램 스트라 파란색이 있죠 그런데 레프트 가 왼쪽으로 엄청나게 끼더니 이거 이런 모습입니다 나는 갑자기 가만 있었는데 사람들이 우파 라고 하더라 예 어 아 그래요 안 이들이 왼쪽으로 너무 많이 쪄서 나는 가만 있었는데 옵하 라고 했다는 거죠 그래서 뒤 좌파의 있는 미국의 민주당의 있는 분들이 미국 민주당 우리나라 말고 잡지 우기는 분들이 루머 스카치 삿대질 하면서 크게 말이 되냐 그게 아니다 얘네들 끼었다 저렇게 얘도 쪘다는 데 그러면 내가 가만 있었으면 순간인데 너가 살짝 일러가 생각한 거 아니냐 우측 쪘다 이런 얘기를 했습니다 그랬던 이건 정치 길어서 보여 주긴 좀 그런데 이런 얘기 했어요 나는 버락 오바마 대통령을 강력하게 지지 찜한 오늘날의 민주당은 레프트 는 너무 레프트 로 가고 있다 반대로 라이트는 너무 라이트로 가고 있다 그러 미국 정치권이 난리 났죠 니 생각은 틀렸다 명백한 과장이다 미국 정식과 도 난리 나고 여러분의 채친 창도 난리 난 것처럼 난리가 났는데 그러니까 또 이런 머스크 향의 이런 얘기를 했어요 나는 오른쪽에 팬이 없다 모두 그만 미워하고 사랑하자 매스 헤 브레스 히트 앤드 보 어 어 으 라 없었습니다 아 몰라몰라 뭐로 을 하자는 그렇게 사랑을 알렸는데 이거 이트에서 많이 보이죠 머스트 이니 하는 얘기가 이 거잖아요 아 이 근처에 정말 많이 보이죠 보통 현실의 우리는 극단은 잡고 현실을 이렇게 되어있는 이게 뭡니까 이거 정규분포 용인데 2탄에 의견을 올리는 것은 이 쪽이 압도적으로 많이 올리죠 인터넷에 이루는 정겨운 포가 거꾸로 가 있죠 이쪽이 다수인 것처럼 보인다 이것이 이런 것처럼 보이고 이 쪽이 서로 안 될 방향 으로 달리 더라 나는 가만히 있는데 왼쪽이 많이 달리면 이새끼 오판의 오른쪽이 많이 사려면 이 쉽게 자판에 이런 얘기 한다는 거죠 1200 아이템를 나는 감아 있었는데 니들이 달리고 있더라 이게 다른 말로 하면 예전에 2014년까지 난대 요즘에 더 심해져 겠죠 예전에는 사람들 이렇게 모여 있고 왼쪽이 가 오른쪽 이건 비교적 격차가 좁은 데서 대화가 일어났는데 서로 이 쪽으로 가니까 점점 점점 저희 겹치는 데가 벌어진다 게다가 인터넷을 활용 하니까 이쪽에 목소리가 커 니까 양쪽으로 이렇게 하라는 거죠 나는 가만히 있는데 점점 이렇게 고리 파이 면서 이쪽에서 놓고 팔아 그렇게 주께서는 잡아라 고 나를 노 카더라 하는 얘기를 하면서 트위터를 샀습니다 우리는 버터 이걸 생명 많은데 저런게 있다고 54조 를 들어서 자기가 이건 바꿔 보겠다고 낮다는 게 참 태가 하지 않나 생각을 하고 이게 보면은 사실 이런 거죠 2006년에 유튜브가 구걸 우수하고 2008년 인가 한국의 들어옵니다 2010년에 페이스북이 들어오고 2011년에 트위터가 들어와 2010년에 들어왔는데 특가 dnc 시대가 개방이 되는데 옛날에 말씀드렸지만 에쎄 시대 돌리니까 세계로 나갈 수 있는 문이 열렸죠 싸이 강남스타일이 엄청나게 성공을 하고 우리가 빛이 스마프 mp 그 아들이 나갈 수 있는 문이 열렸는데 문제는 세계 로만 열린 게 아니라 외부 로드 열렸죠 컴퓨터 쓰기 커뮤니티에서 스마트폰 sns 로 앞쪽은 기능 강화를 가져 왔죠 여러분들이 맨날 사용하는 그러다 보니까 여러분도 너무 잘 하시겠지만 이제 너무 진부한 티비에 나와서 는 할 수 없는 얘기를 인터넷에서는 합니다 근데 요즘엔 팀이 비스무리한 곳에서도 확인 해 그런데 이제 많이 익숙해져서 80 년 전으로 돌아가면 그런 주장을 했다는 티비에서 퇴출이 줘 요즘은 너무 많이 그런 좌 건우 건져 의 조 10% 극도의 쪽을 들으니까 역 그런 1 극성 타고 그런것 같에 원래 가능한거 같아요 오른쪽이 가 베커 열정이 될것 각 땐 저 주장이 터 잘 먹히고 이제는 뭐 원래 그런가보다 해서 이런 주장이 잘 통해서 티비에서 할 수 없는 얘기가 우리가 인터넷에서 굉장히 많이 접하게 됐고 그래서 저런게 들이는 바람에 정말 감사하게도 팬덤이 라는게 생기죠 크리에이터들이 등장합니다 스 인지도는 전혀 없지만 저같은 먹고사는 펜더 명성이 되는데 그 새는 펜으로 이루어진 건지 개인적인 생각에 팬덤을 이유가 없죠 좋은 게 좋은 거지 hot 와 젝스키스 누가 더 좋냐 잘못 말하면 죽죠 이제는 말할 수 있다 20년된 분들 아니에요 이제는 말할 수 있지만 1997년 으로 돌아와서 이거 잘못 놀리면 했던 시절이 있었습니다 지금은 말할 수 있지 지금은 과거로 돌아온 이거 잘못 만하고 가능 거에요 잘못 말하면 왜냐면 팬덤은 이유가 없죠 그냥 좋은거 제가 좋아하는 사람이 문제는 연예인 힘은 상당히 없는데 아까 일러 머스크 아저씨 의견이 뭐 이런게 아닐까 생각을 해요 잘한 것은 칭찬하고 잘못한 것은 비판 해야되는데 뺀 이면 비판이 안되죠 팬이 어떻게 자기가 좋아하는 스타일의 축하 되는데요 4 있는 상당히 없는데 정치하는 분들은 사회 의견과 정책 결정을 하는 분들인데 팬이 되면 얘기가 너무 힘들어 어떻게 할 거야 생일 하는데 그럼 자고 누구 떠나 조직 자도 팬이고 드 페이 저야 뭐 쟈가드 라고 가자 뭐 그렇게 생각하는 것은 여러분이 그쪽을 지지 해서 그런거고 저같이 가운데 있는 사람들이 보면 양쪽 타일로 달리고 있어 나는 위치 주시는 거예요 이렇게 아 그러나 로헨타이 커널을 않고 한다는건 와 양쪽다 달리니까 있어요 뺨을 잡고 능을 이 시작하는데 옛날에는 이렇게 아까도 보여줬지만 이렇게 겹쳤다 고 하며 이게 빨간색을 이루어가고 파란색을 일로 가면 가운데 있는 뭐 이렇게 적어 얘기가 안 되죠 그 팬덤이 라는게 뺀 이라는게 그렇기 때문에 연예인은 그렇게 타지 되지만 잘한 것은 잘했다고 얘기라고 잘못한 것을 잘못했다고 얘기할 수 있었는데 그게 안 되지 않나 라는 생각을 개인적으로 정말 많이 합니다 아니 좀체 실력을 얘기함 혼자 개 나겠지만 아이템 통령이 자는건 잘했고 5.1 못했고 새롭게 대통령이 되는 분도 웃짤 것처럼 거고 되는 것은 못한 거죠 이번에 누가 뽑으려 그러면 자랑에 많은 문의 공동 거고 아니면 대부분이 그렇게 생각하고 로 생각합니다 애잔한 80프로 양쪽 시프 빼고는 흡착 생각을 하는데 이야기 잡을 생겨서 업계 그 연필의 자원 생기다 보니까 근데 과연 그것을 막을 수 있을까 이런 머스크 영은 그것을 맞겠다는 것 같은데 극단의 10% 휘둘리지 않는 sls 를 만들어 보겠다 그런게 그런 폴리씨가 그런 정책이 베스트 닥후 c 다 알지 근데 그걸 어떻게 하려고 쿡 궁금하긴 해요 그게 가능할까 소셜미디어 그런 플랫폼을 만들어 보겠다 자 물론 이런 마스 카드 씨가 무 판지 자판 지는 모르겠어요 정치적 의도가 있는지는 개인적으로 잘 모르겠는데 미국 정책 위험도를 모르겠어요 꼭 말하는거 만 봤을 땐 진짜 그런게 가능할까라는 생각을 확인 합니다 문제가 그렇다는 것은 이제는 뭐 초등학생도 아는 데 그걸 해결할 수 있을지 는 어떤 아이디어가 있어서 이런 말을 하는지 아니면 그냥 54조 가 없어 그 아이디어가 될지는 잘 모르겠습니다 하지만 이 말만은 대단한 것 같아요 정치적 목적은 모르겠지만 이 아까지 나왔죠 엘론 머스크 트위터에 그만 미워하고 살아가자 야아 이거 이 말은 어 요즘에는 + 힘든데 해야 되는 말이 아닌가 생각합니다 아님 우양 톡 퍼센트 이렇게 짧아 생겨서 그 주 다리 여기가 부쩍 뭡니까 오징어 게임도 아니고 땡겨서 뭘로 떨어뜨리려고 그 후 심각히 부저 게임 보신 분 알려 양쪽에서 1 땡겨요 되죠 땡기게 되고 가운데 밥도 있고 여기서 2줄로 땡겨서 잘못되서 하면 어느 경우에 떨어지지 않아요 아 이건 때려서 떨어뜨리려고 끝 떨어뜨려 뭐 끝나나 연결되어 있는데 같이 떨어지지 카운트 병환이 깔아요 떡이 칼로 잘라 주지 기아와 아니면은 그 떨어지면 같이 떨어지지 그건 우리 종교에서 같이 떨어지게 땡 키우고 뭐하려고 서라 땡겨 야지 오히려 이걸 이렇게 되지 않나 생각을 하는데 과연 그것을 해낼 수 있을까 이 54조 원짜리 실험을 하는 게 아니라 개인적으로는 되지 않을까 그게 될까 쾌락 어떤 아이디어가 있어서 저런 말할지도 궁금하긴 한데 대단하긴 합니다 되던 확인하고 이런 실험이 성공을 할 수 있기를 한번 b1 해보도록 하겠습니다 아무 어려울 것 같은데 아마 내 생각에는 54 주었다가 어 얘들아 그 적자다 구독해 조에서 뭐 구독하고 돈 많구요 어이 예들아 광도 좀더 가죠 뭐 이런거 하지 않을까 적자 애들아 뭐 이런거 하지 않을까 생각을 하는데 획득 성공하기를 한번 기원하고 그래서 자 최근 의료 고통받고 있는 형이 있어요 우리 머스크 향이 있는데 어항 국에 내 트윗을 올렸습니다 아 여깄다 딱딱 했어요 어제가 출사 들리게 웬만하면 안 해요 그랬는데 미국에 있는 테슬라 의 주인인 1 넘버스 크가 한국 출산율을 얘기하려고 생각을 못했는데 이거를 얘기를 했어요 보셨습니까 한국의 애정어린 퀴즈를 난리다 뭐 어떤 애정이 있냐 봣더니 출산이 공 모양 고 거 리 면 한국은 3세 대해 아네스 리제너레이션 아내 6% 이하로 인구가 데려 갈 거다 600 틈 식으로 5천만이 니까 인구가 300만 이하로 들어간다는 거죠 말도 안 x 살고 있을지 야 이거 숫자 어디서 난 거야 이건 아니야 아니야 육포 될 땐 루프 잘 못 받네 60% 라면 인정할 수도 있는데 6% 너무하지 뭐야 목 지하에 빠졌나 빙하시대 가우시안 일은 300만 아래로 내려갈 수가 없는데 무슨 소리 하는 건지 모르겠는데 해지를 애정 어리기 잘렸습니다 한국은 9 뭐 하고 꼴로 가면이 폭망 한다 2 되는 최저 알렸는데 내용을 봅시다 이걸 보면서 그래서 들지만 이 일로 머스크가 왜 한국에 관심이 있지 6% 60p 를 떠나서 아니 무슨 관심이 끌릴 애가 갑자기 한국에 퀴즈를 날리는 거야 이걸 우리나라 신문기사 많이 나왔는데 사실은 한국에 대한 뜻이 아니었어요 원래 내용은 그럼 무슨 내용이 언 냐 고 걸 아마 알아보는 시간을 갖도록 하겠습니다 갑자기 일로 모스 뜬금없이 대한민국 추천 유를 걱정을 해 감사한 일인데 한판 들인데 아닌 축하 일도 많이 만나 컬러 많이 봤으면 국정 할 수 있죠 제가 최근에 가장 많이 듣는 비판 중에 하다가 입만 열면 출산율이 다 많이 얘기 안했는데 그 옛날 얘기 봐야돼 아니 제가 한창 얘기할 때는 별로 관심 없다가 이젠 얘기 안 하니까 관심 올라가니 까지 옛날 그거 보면서 이제는 입만 10배 추천 이르다고 되는데 그런거 아닙니다 하피 오늘도 나왔기 때문에 뭐 입만 여러분이 맞긴 한거 같기도 하지만 하이트 갑자기 이런 머스크가 대학 역전 일에 관심이 있냐 시작은 이래요 머스크가 무슨 얘길 하냐면 야야 미국 미국 우리 문제있다 우리 문제에서 무슨 문제냐 출산율이 우리가 미국이 유지가 되려면 이점이 를 넘어야 돼 요거 트윗에 올린 겁니다 차트 그런데 미국은 지나니 50년간 2.1 아래 우리 문제 있다 아메리카는 문제가 너무 많아 출산율이 이 아래가 말이 되냐 우리가 이런 거리 이미 이름을 통해서 받는건데 추천 이를 높여 된다 이런 얘기 했어요 우리 입장에서 보면 무슨 선녀 같은 얘기를 하나 이하의 다 앤 씨 1.1 에서 이사회를 완전 선녀 지 어디 되도 않는 걸로 걱정을 하고 앉았어 머스크가 몰랐던 거지 저 먼 바다 태평양 건너에 있는 꼬레아 에 상황을 모르고 2탄 소리를 하면서 우리나라 문제 따로 이라니까 그 일을 왜 있냐 머스크는 물론 미국 확정해 있겠지만 사실은 이거 얘기를 하고 싶었죠 이 얼마전에 7제 가 캐어 났거든요 역할을 발짝 7 제가 태어나 쓰일 겁재가 로모 자기가 한 건 아니고 이렇게 인공 수고했다 그러지 마이트 파란 아이가 1급이 아 일본경제 났어 개국을 하는 말이야 이쯤 일이 필요한데 너희 지금 1.1 1.1 그거밖에 안 되겠냐 뭐 이런식으로 세팅을 알린 거죠 그래서 많은 사람들 도 dc 니까 그 돈이 쓰고 나는 70도 나 70 명 전할 수 있어 구도 있으면 이렇게 하면 작가는 줄이도록 하겠습니다 주리도 10 붙이시면 넘겠다 10명 주도할 수 있어 재산이 못 200종 과 300종 가 그렇잖아요 1초에 1명 시켜 봐 10조 근데 내 10점 연 돈이 있으니까 이제 그런 소리 하는 게 아니냐 이렇게 사람들이 거니까 일로 머스크가 이 문은 짠 키보드 워리어의 약간 소질이 있어요 누구나 알지만 이건 조개 소질이 있는게 아니라 않자 뭐가 아니다 부재 해서가 아니라 너희 생각과 다르게 부자 했어요 아이를 적게 낳는 다 어 잘 봐라 부제 스스로 깨닫고 못사는 나라의 수록 많이 난다 나는 독특한 케이스다 애국자 애국자 7명 시기 내가 아는 대부분의 부자들은 아이가 0 또는 일이다 나는 1 내어 하다 내용 1 케이스 고 내가 이렇게 좀 그래서 그렇지 다 그런건 아니야 또 이거를 알려 쬲 그렇다고 합니다 그러니까 보고 더 사람들이 기가 차니까 정말 그 수많은 글들이 달렸는데 그중에 한명이 의 침을 알렸습니다 뭐라 골치를 앓는 냐 아니 그렇게 출산율을 미국이 줘 미국 출산율을 걱정하는 사람이 you're 보육원 지원 자녀 세금공제 6 가족 휴가 등 아이를 만 출산이 를 높일 은 정책을 많이 하는 bb 정책 피드백 뱉어 정책에 반대해 짠 아 안 돼 있거든요 아직 그거 반대 놓고 널 급 났다고 미국이 점이 문제다 이러고 앉아 쓰면 야이 e10 야 니는 돈이 많으니까 그렇지 쪽에서 조금 올려져서 올리니까 반대에도 그 이제와서 곧다 소리 하느냐 나고 의 침을 날렸죠 달리니까 리버스 크 형이 어문 앗뜨거 를 하려고 했는데 또 뭐 스케일에 또 지지자가 많지 않습니까 지저 않다보니 까똑 글이 올라왔어요 아니라 머스크 향의 그래서 그거를 반대한 게 아니라 그런거에 도 안 되더라 첫 발은 하자 바다 건너 동북아의 있는 이거 아는 분이에요 배우신 분 라이언 제임스 퀄트 스키 하여튼 배우신 분이 그런 나라 그거 벨라 래도 안되더라 수백 개를 써 때요 5 수십대 로써 때요 안돼 안돼 야 그 나라 포 망했다 라고 하니까 그러다가 뭐 스크린이 어 이건 싹 틸리 하면서 정말 적합 말이다 대사의 주식 말을 그렇게 하다니 정말 훌륭한 시 되요 좀 받아도 동북아 달하는 리 스 턴 아시아의 이전 갔어 갔어 누워 써 너 거기 때문에 해도 안 돼 해도 그래서 내가 반 대항 거지 그의 청구 하셨음 반대로 있겠냐 라는 말을 한 거죠 그러니까 또 여기서 어떤 사람이 물어봤습니다 오라고 아시아 같다고 내가 알기론 일본이 갔는데 일부 말고 어디 가방 했는데 1 뭐니 마음이 딴데 어디가 있느냐 다구 잘 모르는 소리 했죠 미군 조심 잘 몰라 받아 건데 무슨 일이 있는지 이거를 지금은 하니까 그때서야 머스크가 잘해야 한테 있죠 지금 있겠죠 전원 다음에 어김 가장 큰 가자 일본 말고 그 받아본 더 뚜아 샵은 찾아 아침이 망한 나라 지도 7 만다라 아이 몰라 파헤쳐 줘 해꼬지 개가 자료를 올려 졌습니다 그래서 제일 망한 나라를 찾은 결과 꼬레아 가 나온 거죠 그래서 오늘의 결론인 꼬리가 등장을 했습니다 어 메탈릭 별로 굉장한 패스가 말해 되질 않아요 그런 식으로 등장하는 것은 좋지 않다 꼬리에 관심이 있어서 바로 다이렉트로 한게 아니라 가장 거시기 항거를 찾다 보니까 다 5절 로우 스트 벌 스위트 가장 초 착하게 망한 나라 202 중의 200 일을 찾은 결과 사우스 코리아 가 0.84 타라 이별 이유 중에 202 아시아 있지 않냐 평천 8 4 옛날 자료 내 0.81 아무소리 역을 맡은 비타 그래서 제 등장을 했습니다 그러면서 4 두 나라 202 하고 199 이 두 개 나라로 트윗을 올린 게 우리나라에서 신문에 많이 나온 바로 이겁니다 한국 가운 콩이 가장 빠른 인구 붕괴 현상을 겪고 있다 아마 저희들이 저런 얘기 하기 전에 자기가 과장이나 대리 한테 조사 좀 해봐 하기 전까지 몰랐겠지만 조사해 보니까 5 뭐 일련의 같네 이렇게 신 낮기 때문에 와서 실제 2.1 도 안되는 대표에게 나라로 사우스 코리아 와 콩콩이 당당하게 수백만 명의 보는 일로 머스크 트윗에 등장을 했고요 그 다음에 나온 말이 인구 분유 의상을 겪었기 때문에 고 나라들은 요 모양으로 가면 3세대 아내 인구가 6% 수준기 나오고 식스 프로 300만 명으로 줄 거다 이 자료는 제 생각인데 그 과장이 잘못 찾았어 그 팜 과장 인지 제임스 가장 인지 모르겠는데 잘 못찾아서 잘 모 60% 엷게 찌 60% 어 뭐지 서 숫자 잘못 적어서 6% 가 말이 되요 5천만 1병 만으로 태 줄어 잘 못 들었어요 잘 모르는거 남들이 적어준 거고 컨트롤 c 컨트롤 v 하니까 15 짜가 나오는게 아닌가 6% 가 말이 안되잖아 할 거야 이 코드들은 핵전쟁이 나지 않나요 포인트가 올수 없는 숫자 인데 뭐 이런 숫자를 갖춰 거죠 깔게 사람이 안에 모루 가장이 갖고 그대 적다 보니까 이름에서 이 펼치지 않아 생각이 되고 대다수의 국민들이 60세 이상일 것 이후 또 좀 오버한 데 대다수가 50세 이상 까지 모르겠는데 60세 누구를 야부리 나를 3g 뭘로 하는거 야 야 우리 아들 뭘 알기나 하나 그 나라 인구 글 알기나 싶어요 개인적으로 인구 6p 몇 명인지 알 게다가 쉽지만 이 오른 트위터에 올렸고 그쳐 이런 머스크 에 말에 따르면 드디어 대한민국은 진정한 동방 해주고 웬만한 외국인들이 들어오면 일단 거 무릎꿇고 인사부터 해야 되는 나라가 될 가서 있습니다 60세 이상 이라고 하니까 머스크 에 따르면 뭐야 60세 이상이면 40대 50대가 우리나라에 들어오면 음식 기도하는 게 툴바 타코 어디 짝 허리를 꼿꼿하게 피구 다녀 어 붉히고 다녀야지 고 피구 반말 금지 그저 라떼 이런거 하지말고 1 평균 64 라면 모조리 t 60세 이상이 있다면 그렇게 되는데 하여튼 이런 얘기를 했습니다 진정한 동방 예의 지국 이 되는 거죠 그러니 걸 듣고 있던 다른 나라 사람들이 그를 진짜 안 올렸는데 다 가볼 수는 없고 제가 인상 깊었던 것 같고 면은 지나가던 이탈리아의 냠아야 됐어요 안드레아 저 안돼 야 스트럿바 스트럿바 만나 같은 안드라 스트럿바 아저씨가 한 말했습니다 안에 우리도 줄고 있다 출산률 꾸리는 꽃이 되는거냐 초 이탈리아 여 그랬더니 이런 머스크 향의 보고 있다가 친절하게 답변 해 줬어요 수백개 수천개 올라오는데 그 중에 답한 엇 안되는 트윗입니다 어 4 너도 뭐 할 거야 라고 했습니다 도지원 망하는 거 아닙니다 아 이탈리아도 간다니까 이탈리아도 너무 풀로 하고 있다 아뇨 간단한 것이겠죠 너 인식하고 있다 해서 우리가 막 얘들아 2차례 도 같이 2백 똥으로 옆에 있다가 많이 있구요 이 나라 도마 300만 가능 거지 그대로 가면 된다 그러면 망했다 하고 요렇게 재밌는 바꾸면 어쩜 이렇게도 불었어요 인구 분개 라고 하지만 전화를 딱 봐도 인구밀도 장난 아닌데 3 빨라 쿠 만 사람도 많고 인구 대국 이야 머스크 독 몰랐지 라고 하니까 머스크 형이 딴 얘기했습니다 저기가 사람이 많은 게 아니다 지구 표면은 극히 작은 부분에 사람들이 뭐 살아서 그렇다 함께 얘기 왠지 모르겠는데 지구 대부분은 비어 있다 전 애들이 서울의 물로 살고 있기 때문에 그런 달 약해 보인다 쟤네들이 문제인것 아 뭐 맞는 얘기하지만 그쵸 뭐 넓게 펼쳐 살면 되지 않냐 뭐 이런 얘기를 하고 있는건데 니들도 도시에 살면서 배치도 찾아 기능 뭐 컴퓨트 가운데 살아 화이트 뭐 이런 얘기를 그 결론은 버스킹을 하고 싶은 말은 처음 있자 기만 이상했는데 나 에 7명 날 우리 막내 태어난 바람 말 본받아 란 말이야 이거면 막내도 지금 태어나면 바바 지금 이렇게 대아 미국이 건강해지고 이렇게 되는 거다 라는 얘기를 하고 싶었던 게 아닌가라는 생각을 합니다 이거를 되도 크게 하면 돌을 맞을 테니까 망해가는 놈들 손가락질 하면서 줘 바 결크 대망의 나처럼 에야 아마 후 건전한 사이가 된다 라는 얘기를 하고 싶었던 거죠 자 여기까지 이지 머스크 향해 그 얘기 없고 우리 머스크 형의 의견에 강력하게 2쿼드 가 반격을 하고자 찾아왔어요 뭘 불과 며칠 되는 언 2012년 3월 인구 동야 반겨 카자미 섞어서 언어 우리에게 약한 놈이 아니다 강한 모습을 보여주겠다 자료로 얘기하자 룰이 좀 가을에 읽기 라고 자료를 봤는데 약합니다 보니까 약해요 # 이렇게 어 어 스 부르지마 부르지마 약해 안돼 안돼 한테 올라갈 때 부르도록 하겠습니다 4 뭐 값은 안되요 3 값은 망했어요 4.2% 감소 입니다 역대 최저 귀로 월간 최적 은규 체 져 자 기록했기 때문에 약해 아니 아니야 이거 따라 아닌거 같애 다음 달이나 다음달에 우리가 반등을 했을 때 부르도록 하겠습니다 아 부르려고 했는데 개인적으로 약해요 물론 머스크 옛날 자료 저도 과장이 옛날 자를 찾아 써 0.8 사는 우리는 과대평가 했어요 2020년 제 2011년은 우리는 0.82% 그렇죠 을 좀 약하다 니가 생각 한 정도로 아픈게 약한게 아니라 더 약하다 그렇게 우리를 만만하게 보아 되지 겨우 우리를 그 정도로 밖에 없거나 하하 찹 그저 안돼 안돼 안돼 눈을 더 나처럼 0점 8일 모래는 기록 경신 하고 있어요 0.7 대 유력합니다 당선 유력 답변 주죠 0.7 엿 당선 유력 정도 떴기 때문에 확실한 아닙니다 앞으로 않아 확실히 아니기 때문에 유력 정도와 떠 있는 상황이구요 놀라면서 슬픈일은 출시한 그렇다고 초 사망자가 67.6% 가 증가 이게 가능한 일인가 50% 이상 67 풀어 징거 있어요 이게 무슨 소리냐 태어나는 것 그렇다고 초 월별 사망 되거든요 이쪽이 페 xx 도 아니고 그렇게 치 놓고 있어 어야 사물의 무슨일이 주셨지 저거 에 대한 해석은 많은 분들이 코루나 a 해석을 하더라고 코로나 왜냐 나이 많은 분들이 많이 돌아가셨거든요 분석을 해보면 나이많은 고령자들의 많이 들어왔기 때문에 아마 코로나 이 아닐까 생각을 하는데 아니 그 전에도 코로나 있었는데 1 2월에 굉장히 숫자나 60만명 50만명 지수 갔던게 한두달에 있다가 3월달 부터 영향을 미친 게 아닌가 라고 생각하며 물로 매일 잖아요 이랬던 게 그냥 넘어가는 게 아니죠 우리가 생각할 그냥 넘어갔지만 실제로 고령자 분들 굉장히 많이 돌아가셨다는 것을 숫자로 봐도 알 수 있고 저게 저렇게 많은 분들이 돌아가셨기 때문에 인구 자연 증가 우리가 인구감소 곡으로 작년에 들어갔습니다 그랬는데 지금은 커버 서로 피가 많이 떨어 가셔서 어야 여우야 이대로 하면 안돼요 아 물론 일시적인 코랄 때문에 일시적인 거고 다시 올라가 리나 믿어 의심치 않지만 채로 봤나 이제 로 보고 얘기해 봐 아닐 거 아냐 이거 뭐지 아 이거 어떻게 하겠어 한국말도 모르는데 한국의 직원 있어요 모르겠는데요 보고 웃은 건 아니겠지만 어떻게 가고 있는 것은 맞는 것 어이 l'amour 사태가 생각보다 우리가 전락한 겁니다 퇴각한다 아 근데 그렇게 시점이 좋겠어요 이거는 템포러리 하다 라고 생각을 하구요 그중에서 가장 심각한건 여러분들 가장 관심이 많이 갖고 계시는 혼인이 줘 요즘에 컴퓨터 많이 나오던데 혼인 예 망했습니다 아까 얘기가 별명 줄었다고 4.2% 줄었죠 본인은 2배 줄었어요 8.6% 2배속으로 말했다 왜 못 보낸 빠가 마음 거지 뭐 이게 옛날에 비해서 많이 했냐 아주 옛날 막 10년 전 20년 전 아니요 2년전에 비해서 망했습니다 일단 2년 까 올해가 다르고 내년이 달라요 불과 2년전 2020년 엊그제 자나 버크 지에도 매월 2만건 이었어요 지금은 매년 15,000원으로 좋습니까 2년 만에 거의 25% 가 달랐어 물론 앞으로 반대하면 돼 앞으로 반응을 믿어 의심치 않지만 현재까진 이 속도가 말이 되나 싶은데 이미 바닥 인것 같은 코닝 고수가 일련의 월 10% 씩 폭망 을 하고 있죠 어떻게든 뿐인데 본래 되는 그런 상황이고요 누가 가장 많이 줄은 야 어디서 결혼을 안 하길래 u 모양이 됐냐 간단합니다 여러분이 줘 오히려 들었냐 25에서 29세 1000명당 남성훈 이거 수 25명 해서 수명으로 20% 달라 같구요 30에서 34세 여 기 도 20 날라갔습니다 여성은 더 크게 날 거의 30% rs 25에서 29세 가 거의 30% 가 박살이 났습니다 예 여성은 의 식대가 박살이 났고 30대로 아차산 때 초반까지 한번 20의 3 3 결혼 적령기에 있는 분들이 로 본인은 박살이 나 따라 보시면 되구요 가장 크게 와 쌀 한 것은 아까 말씀드렸듯이 20대 여성이 가장 크게 줄었고 그 다음 주는 게 3 대 초반 남성이 2년 사이에 망했다 마태는 거구요 30대 미혼 인구 비중 이런 것이 많이 올라오더라구요 알고 자세하게 알려 어디가서 아프니까 간 따내기 위해서 30살의 에서 서론 9살 까지 절반이 안 했죠 51% 가 결혼하지 않았습니다 돌을 던지면 홀짝 이 가능해요 탁도 맞으며 는 결 쓰니까 50% 않습니까 가 50% 입니다 함부로 불어로 이제 신뢰가 됩니다 옛날에 말씀드렸지만 우리 형님들 세대에는 상생할 수 없는 일이죠 왜냐하면 1990년의 30대 미운 유리 여성이 다 풀었어요 추천 아버 8 이렇게 대단한 나라의 대단한 나라 눈을 4 풀 수도 인가 96% 약 10 하던 시절이 있었습니다 여러분의 엄마 아빠 남성 90% 여성 96% 가 결 하던게 엊그제 인데 주제 하에 어떻게 196회 대단하다고 16% 결혼을 안한 사람이 없는 거죠 이정도 매는 진짜 뭐 특별한 거 아니면 거의 모자 포제 팀에는 와 이게 뭐 말라 된 시절에서 받겠다는 거구요 물론 걱정하지 마십시오 대한민국을 빛의 속도로 추격하는 나라가 있습니다 아예 걱정하지 말아요 더 빠르게 추격하고 있어요 우리 202 중에 202 아니라 159 위로 올라가 희망이 있는 나라가 있는데 다름 아니 차이 나죠 차입자가 지금 이 를 향해서 달려오고 있어요 요 길이가 속도 거든요 같은 애니까 얼마나 딜러가 있냐 어 빨라요 취 평이 약취 입맛 전에 말 보여 드렸죠 거의 취임 마로 달려오고 있기 때문에 이 정도는 뭐 어 펌 드의 속도가 아닐까 그래서 훌륭한 말입니다 뭐 닉스 고정도 씩 쓰고 칙스 고 정도로 이렇게 따라오고 있는 게 아닌가 생각이 되었고 아마 역전을 할 시기를 기대 하구요 이코노미스트가 유력 결론이 지 얼마 전에 기획기사를 1 됐어요 베이비 어 벌써 2장 컨트리 니까 아이를 가지 우고 싶어하지 않는 아시아 국가들은 기획기사를 했습니다 쟤들은 왜 저런가 신기하다 어떻게 일본 보다 출산율이 다져 줬지 전화 알아들은 온 일이 있어 라는 기획 기사를 냈습니다 제 내가 분석한 것에 따름 이래요 전 나라들이 저렇게 망하고 있는 이유는 첫째 결혼의 아이를 않는다 놀라운 나라다 1국가 일본은 오직 2부 센 티 아이 많이 결혼 외적으로 태어난 결혼과 틀 상의 같다는 거죠 98% 같아요 대부분의 서양 국가들은 결혼의 아이가 결혼하지 않은 사이에서 나온 아이가 30 에서 60% 태어나죠 60% 도 뭡니까 결혼 하는 경우에 되게 특이한 경우 고대 부부는 결혼 이곳 아이가 아니라는 거죠 결혼이 필수가 아니라는 거 그 사회에서 결혼이 필수가 아니고 또 말해요 맞으면 같이 살고 팔다가 애도 낳고 살다가 실려가 많이 쌓인 결혼을 그러면 결혼이라는 것 자체 사람들이 많이 어려운 느끼니까 이런저런 구속을 된다고 생각하고 법적 제도적 절차적 이런 게 있으니까 결혼을 잘 안하니까 결혼과 출산이 정확하게 이 겹치지 않는 나라들이 서구에서 대부분인데 이 어디 그럼 옷 배울 생각을 하는 그럼 그 참 그이 그 야만적인 그 말이 야 2 동 망 이지 것은 있을 수 없는 일이죠 우리 이렇게 생각해요 결혼하지 않은 상에서 나오나 에는 불행하다 불행할 것 야 결혼 할 정도로 서로의 믿음이 없는데 일람 어떻게 그 어디 키워 이렇게 생각을 하는게 한국가요 배운 나라 동방의 효과라 드리구요 대부분의 사람들은 아이를 낳고 키우는 것과 결혼을 서구에서 물론 절반은 되니까 절반이 나온 되니까 동요 샤인 하지만 그렇지 않은 결혼이라는 것은 그 다음에 생각해도 된 작가 그런걸로 생각하는게 이 나라들의 생각인데 최신 생각인데 아직 한국과 일본은 그렇지 않단다 저같은 경우에는 사실 그렇게 얇게 결혼 제도가 왜 그런 안하니까 하게 만들면 좋지 베스트 인데 결혼을 안 했을 때 모직 모두 돈과 란 우리동 몰아 그럼 또 되게 이상의 생각합니까 시원하게 같이 사는데 결혼해서 같이 살면 은 좋은거 결혼 안하고 같이 살면 은 아픔 오리야 이렇게 샌들을 많이 하잖아요 나중에 그러면 결혼할 때 못 옹호하고 이게 라 뭐 이런걸 플러거처럼 싸우고 어 어 뭐 그렇죠 이제 우리는 이제 그렇게 좀 예 지우기 때문에 그럼 그런 게 있지만 그래도 결혼 외적인 얼음 지원을 많이 해줘야 되지 않아 개념 생각 많이 하고 때문에 거기서 이코노미스트 지가 얘기한 것 교육비가 비싸더라 이 나라들은 그 피가 굉장히 비싸다 3 키운 제돌이 말 된다는 거죠 a 키우다 힘들다 빵 거고 그럼 뭐 뭐 볼수있지 그 다음에 등 개 높은 지갑 여기에 대한 연구가 지금 쏟아지고 있다 라는 표현을 쓰고 있는데 이 쏟아지는 연구에 따르면 동북아시아 있는 처럼 나라들의 높은 집값이 자녀를 미우 룬은 결정적인 이유가 된다 대표적으로 콕 찝어서 이건 메시지가 꼬레아 를 얘기했습니다 조 바라바라 봐라 대한민국의 소득대비 주택가격 비율은 전 세계 최강이다 5 출산률 출사지로 체험해 0점 8일에 거의 뭐 이정도면 은 그 복싱의 메이웨더 급의 대한민국 군 2분야에서 메이웨더 져 소득대비 주택가격 빌리 16.6 뉴질랜드의 가장 높다 뉴질랜드 엎어져 냐 이민자들이 100 뉴질랜드 사는거 에서 물어볼 기타 어야 이민자들 많이 들어서 가격에 중국 이미 자들만이 로서 가기 엄청나게 올랐다 하시더라구요 아이템 혜택을 습니다 어제 지역대 계셨는데 1번은 7점으로 가량 낮다 이 무슨 소리냐 일본이 출산율이 에서 선방을 하고 의 점이 안 들어가죠 대한민국 이 폭망 하고 있었던 이유는 읽거나 밑에 따르면 일본은 나라가 풍랑을 해서 저성장으로 가니까 지 캅 c 안올라 좋은 겁니까 경제가 폭망 을 해서 집값이 안 올라서 출산율이 살았다 정동혁 대한민국 경제가 좋아서 집값이 폭등 에서 추세를 죽었다 라고 합니다 이것이 일본이 출산율 막장 국가들 사이에서 선방하고 있는 이유다 나라가 고모라 이어서 작품 저성장 이어서 이 좋아야 된다 체포된 아이고 우리 칭찬은 걸 커 등 거야 2 칭찬 이야기야 한국을 고 동작으로 높은지 값으로 출산율이 같다는 건데 스탑 어디 좀 기분은 별로 안좋은데 아이템 뭐 0.8 하니까 뭐 할말은 없고 제 생각에 또 이거 그 여기까지가 이끈 놈이 제 생각이고 네번째는 제 생각은 여러분들이 생각할 거에요 한국인은 입장에선 c 하겠습니다 실 아우 세상에 어쩜 있아오니 해 보지 않 여대 돋힌 해야 하는 거지 그렇게 인터파크 린 싸움에서 오픈 해 나가면서 로 하우 아무 것도 아는 그런 말 한 적 없는 척 서로 눈치보면서 뭐 그게 뭐예요 처음 들어간 내 뭐 이렇게 점을 찍고 있으니까 될리가 없죠 그래도 속으로는 제가 없이 그런 생각을 갖고 있지 않을까 서로 눈치 보다 저놈은 그런거 아냐 저놈은 뭐여 거 아냐 전남의 말이야 속으로 나무 서 오픈해서 절대 한마디도 안하고 온라인에서 이루고 있으니까 그게 될까 싶긴 해요 개인적으로 그때까지 길하고 엄마 신기하다 약한데 남녀가 적 있냐 그리고 청년들 입장은 엄나무를 답 c 청년들이 짜 놓으면 그 여러분들의 불을 막는 존재 근 옆에 있는 남자 옆에 해주다가 나네요 다 처음 시작하고 뭐가 있겠어 들이 똑같은데 2 똑같이 듣기 박터지게 싸워봐야 니가 내 경쟁 되고 내가 내 격리하고 써봐야 약 그게 문 경쟁자 여 경영난 누굽니까 기존의 게임 올해 해봐요 누가 부자 해요 원전은 사람이지 뭐 이제 화살 레이드 공략 먼저 한 사람들의 특히 토하 들고 있어요 홀드 바디 갖고 있고 비디오를 그럼 어떻게 나눌 거니 생각했는데 그게 아니라 같이 시작한 옆에 있는 양 자꾸 인한테 가서야 씨도 착란 왠 이 무기는 플러스 일이 더 좋아 어 내 무기는 그안 발리는 더 하나 달려있다 플러스 일이다 뭐 이런 거 갖고 둘이 멱살잡고 시장 마을에서 싸움으로 나오지 않아 나오진 않아요 나와야 될 거 아니야 말 싸워서 엄호 보스 잡으러 가야 되는데 보쌈으로 올 생각을 하니까 뭐 기성세대는 좋긴 안내 툴이 법사 잡고 싸우고 있으니까 뭐 어떤 변화를 누구한테 얘기해야 되는 지어지면 꺼꾸로 가는게 아닌가 생각을 많이 하죠 저희 한번 날 것 같으니까 잽싸게 다른 얘기로 넘어가 구요 그러면 또 우리가 대한민국 한국인으로서 느끼는 것은 사다리가 떨어진거 취직하고 대출받아 비싸고 제가 많이 한 얘기죠 결혼해서 애낳고 칩 땐 다니면서 대출 갖고 시책 열심히 다니고 뭐 그랬던거 어느 요즘은 여기가 끊게 쬲 대출 받았지 못사고 여기가 끊기 니까야 볼 사야 데려가지 마세요 그래서 여러분들이 결혼하고 애낳고 정말 이렇게 훌륭한 애국자가 되고 싶어서 요번 요즘에 코인 많이 하지 이 간격을 외우게 따 한방 한방이 먹어 기대로 마테라 때라 눈앞이 달아라 비트코인 지금 입니까 이걸 배워야 될 거야 장대높이뛰기 얇고 굴과 매우면서 애국자 못되 자나 얼마나 애 국제 가 되고 있으면 그 가슴 어린 그 뜨거운 애국의 애국 청년 다운 마음으로 그 코인을 하고 있죠 질러서 직장인 걜 찔러서 결혼하겠다 모 양 그런데 어도 침묵도 결혼 못해 어차피 못해 터질 못하기 때문에 조금 위험한데 어차피 u 모집이 뭐 가지고 또 없고 이러면서 이제 다 끼어들었다가 에 그런일이 펼쳐지는 게제 현재 일해야 할 수 있습니다 그래서 결론적으로 이어 줘야죠 이어지지 않은 거죠 알고 집도 안사고 모델 알아 그러면 누가 났나 행복한 약으로 돼 있는 얘기했지만 청년 2 테그 10평짜리 모자라고 나혼자 누울 자리 주고 뭐 결혼해서 애 나라 그러면 안 되기 때문에 요 간격이 꺼진 게 굉장히 크지 않아 라고 생각합니다 이 괴담 여섯째는 이익일 더하면 끝나겠지만 그래도 열받아서 하면은 우리나라는 문제 모르겠지만 정책이 실패했 실패했어요 벤치 페이지 문 지 몰라도 뜻은 좋았어도 결과가 실패 0점 8일 4매 예 첫 동률 과거를 야 소통을 봐요 이 100개국 중에 200위 모래는 지는 뭐 물론 되게 고민을 만약 훌륭한 정체를 많이 폈는데 20년간 특정 정당이 아니라 대한민국 20년간 20년 됐잖아요 추세 내려 가니까 20 년간 시 팻 지난 이십 년간 202 했는데 뭘 그렇게 뭐 말이 필요 이거는 그냥 뭔지 몰라도 제 실패한 게 아닌가 결론적으로 개인적으로는 이렇게 생각을 합니다 2 우리는 더 이상 일러 머 스 갖지 않으려면 충격적인 대책이 필요하다고 저는 개인적으로 생각을 해요 충격적인 대체 뭐가 됐던 개인적으로 얻어 2개 원할 것 같지만 정말 충격적으로 애를 낳으면 출산을 해주면 뭔가 해주는 뭐 이름을 적어 이런건데 뭐 100만 체 콜 친 엄 부부에 나와야 준다 이거 봄 가을 맞이 한 2억 때나 짓는데 4억 때나 뭐 옆에 나쁘다 10억 인데 아 내 알바 아니고 정부 가져준다는 생각해 할지 뭔가 충격적인 정책을 펼쳐 줘야 되지 않을까 개념의 생각에 아니면 못 다빈 낮음 0.8 1 5 주변에 0.7 인데 개인적으로 또 이젠 내 얘기 또 만약 만났는데 애낳고 이 소득 근로소득으로 돈 보는 분들의 소득세는 조금 낮춰야 되지 않나 생각을 하고 자본 3 를 가지고 있는 보유세 같은걸 좀 올리고 집까지 그래서 부자 잖아요 좀 어쩌겠어요 좀 조금 희생을 해야 되는게 방법이 아닐까 아님 이렇게 웃고 있겠죠 1 씨바 1 그렇게 되는게 아닌가 이제 생각을 합니다 출산일 얘기는 집에 오니까 5 자세하게 적어 왔는데 지금 와서 보니까 제자 얘기했다 가 수준을 없는 일이기 때문에 아마 우리 정치 하시는 분들이나 우리 학자 분들이나 여러분들이 열심히 노력하면 은 정말 충격적인 대체에 나올 수 있지 않을까 생각을 합니다 아무래도 그런 얘길 해도 경지에 두번째 경제 기가 하나도 없으면 쉽게 또 놀고 있네 단 소리를 들 거 기 때문에 경제 길 하나 갖고 왔어요 일로 뭐 슥 20:00 컬러가 돌아가지 않는다 바로 그 어떤 속담 이라고는 뭐고 바로 그 병원의 주인공 일로 머스크 향의 오늘도 스쿼드를 위해서 팜 말해주었습니다 일주일에 두 마디씩 하면 좀 부담이 되서 한주 한주 하나씩 나와서 요즘 좋겠어요 두 마디씩 하는 두 번 나와야 되잖아 그럼 저는 또 자꾸 쉽게 너무 하려고 한다 이런 요걸 듣기 때문에 한 주에 한 마디씩 어진 좋겠는데 뭐 제 말을 2개 하셨어도 쌩얼 기계 하셔서 어쩔 수 없이 보여드리도록 하겠습니다 일로 뭐 스카시 것도 무슨 얘기 했냐 이런 얘기를 했어요 지금 경제가 슈어 배드 1 입니다 로이터 에 나오는 쓰거든요 무슨 말인지 아시죠 경제가 너무 무조건 정말 슈퍼 하게 베드 할 것 같은 길이 온다 마이피 1 마이 스 1이 오는데 너무 슈퍼배드 할 거 같은 거야 이코노믹 아 그래 갖고 그러면 그냥 교양이 주식이나 팔면 되지 엘론 머스크가 뭐를 얘기 했냐 테슬라 하고 폐 섹스의 경제가 대단히 안좋을 것 같으니까 10% 를 감원 해라 1책 제보를 생각하는게 다르냐 우리는 경제가 안좋은 코트 빌딩을 주식 8g 않나 여기는 가서야 직원 짤로 일으키겠다는 거죠 지금 나 아까 보니까 어제 끔 보다 나은거 읽기 분들 풀 출고 나라 야짤 어 어차피 싶어 3주 주일 거니까 짤 어라 이런 얘기를 했다 글입니다 보면은 약 10% 해고를 원한다고 임원들 한테 이메일을 보낸다 전기자동차 베가 테슬라 조 테슬라 에서 약 10% 여고를 나는 원한다 왜냐 경기가 너무 큐어 베드 딩 하기 때문에 그리고 이렇게 보셨다고 합니다 모둠 고용을 일시적으로 중단 해 보지 뭉쳐 나라 전세계 모든 고용은 일시적으로 충 죄라고 머스크가 테슬라 고작 이 각각의 회사 아들한테 이메일을 보냈다 그런데 경제가 안 좋을 것 같으니까 와 정말 스킬 크게 놓은것 같은데 이렇게 얘기하는 이유가 사실 있어요 얼마전까지 굉장히 화두가 됐던 뉴스가 있었는데 바로 jp 모건 ceo 월가의 황제로 불리는 제이미 다이먼 아저씨가 이번에 컨퍼런스 에서 이런 얘길 했습니다 허리케인이 다가오고 있다 페리 케인 아니고요 허리케인 허리케인 을 견고해서 여러분들 앞에 허리케인이 다가오고 있다 경고를 알렸는데 뭐라고 했냐 허리케인이 바로 저 너머에서 다가오고 있다 이게 작은 노면이 슈퍼 부품 인지 모르겠다 이게 중요 하잖아 작은 놈이 끝나자 가 지금 따뜻하게 400% 가 밀렸는데 작은 말로 끝난거 아닌가 뭐 같 작은놈 왠지 슈퍼 폭풍 인지 모르겠지만 오고 있고 마지막에 이것때문에 2시간 됐죠 너희들은 단단하게 준비하는 게 좋을 거다 키 스스로 이렇게 준비하는 게 단단하게 하는 게 좋을 거다 라고 경고를 했습니다 왜 왜 도대체 허리케인이 오냐 그랬더니 이런 말했어요 아이돌들은 대규모 양쪽 긴축 영어에 문들 기울인 없다 역사상 최초다 되다 보니까 오크의 전쟁노래 되고 6가 댁에서 옳을 거 같고 하이튼 나도 슈퍼배드 딜링이 다 해서 슈퍼배드 필링 파의 이제 머스크 하고 재미 닮아 2 아지 가 손을 들었다 하는 건데 문제는 자기 개인 사견을 얘기 했음에도 불구하고 그 테슬라 주가가 저의 길을 듣자마자 9% 가 날라 갔어요 했겠지 아닌 그 오너가 야우리 경기 안 좋아야 슈퍼배드 빌레 이어오고 있어 애들 잘 알아 이루고 있는데 올라갈 주식에 어디 있겠어요 그 사람들이 생각하는 거냐 테슬라가 그렇겠지만 존나 상황이 차가 잘 안팔려서 줄은 얘기하는 거 아니야 야노 중국 공장 유럽 공장 부하 넌 아니야 정말 슈퍼배드 필링 1가 뭐 이런 생각을 하니까 잊어 얘기를 한 마디 하니까 9% 갈 거 좀 조용히 좀 있지 그 슈퍼배드 필링 교육 밑단이 그걸 구축 그렇게 여러 떠들며 살 필요가 있나 초인이 카모 남은 되지 그걸 떠들면서 에서 한 9% 가 날라 같구요 게다가 젤라 9% 가 날라가고 제이미 다이먼 이 저런 소릴 같이 하니까 너무 쪼끔 나서 따기 반등한 아쉽다 가정 머스크의 재 뿌리기 한 방에 지난 금요일날 - 2점 자 7% 를 맞아서 여러분들이 월요일날 아마 파란색이 줄줄이 켜지지 않을 까 생각을 하는데 리비아 높은 해달라 같구요 마이크로 멋 일에 멋쩍어 7% 날라 같구요 3 전이 걱정이 된 엔비디아 달라 봤구요 애플 4.8% 날라 가면서 가만히 또 워런 버핏 아가씨가 뺨 짜고 를 맞으면서 요즘에 워런 버핏이 몇 10주를 잃었다는 게 뉴스 줄이 줄이 나오고 있죠 사방에 머스크 제가 날리면서 지금 어린 아마 주 예 이런 그 안좋은 현상들이 좀 줄이게 펼쳐지고 있는 거죠 그래 아까 얘기했지만 은 그 와중에 이런 소리도 있구요 경기침체가 꼭 나쁜건 아니다 아닐는지 1년반 힘들겠지만 그러면 개구리가 멈췄다고 뛰듯이 우리는 더 높은 곳에 를 뛸 수 있을거고 아까전에 아틀란 cr 아저씨 오이겐 것처럼 경기 집들의 중요한 경제 정화 기능을 제공한다 아까 거기서 나온 말이죠 이렇게 얘기를 했습니다 경기 붐이 너무 너무 길게 오면 바보들한테 돈이 배부 되기 시작한다 저거 봐라 내 말에 토 다는 거 아틀리에 시장 나스카 숲과 같은 애들은 돈이 자크 가기 때문에 책임을 경욱이가 미션에 빠지는 것은 나쁜 일이 아니다 거긴 논이 빠져서 나한테 오니까 뭐 이런 소릴 했습니다 나쁜건 아니다 라고 얘기를 했는데요 이 말을 듣고 있으니까 가장 충격을 왔던 것이 있죠 바보들한테 돈이 배우 되는게 막힐 것이다 우리나라에서도 이런 현상이 약간 보이는데 전세계적으로 벤처캐피탈 스타트업에 투자하거나 가장 위험한 내 투자 하던 애들이 갑자기 요즘에 방향을 바꾸고 있죠 옛날엔 어디 취해서 집중에서 돈 자랑 하던 것에서 이제는 잠깐 잠깐 멈춘 비용절감으로 좀 바뀌고 있어요 vc 의 분위기가 바뀔 꼬모 정말 슈퍼배드 필링이 랑도 허리케인 이라도 있다 소리 하니까 충분한 현금 확보에 많이좀 나서고 있다 란 뉴스가 많이 들리고 있구요 덕분에 의지가 가장 인상 쓰고 있는 아저씨가 뭐 이런 아저씨 제 11년 소프트 그룹이 적자가 17조원 왔습니다 소프트뱅크 그룹 역대 사상 최대 적자 인데 2011 회개 난데 17쪽 않았으니까 자꾸 머스크가 바보들한테 가는 돈을 막아야 된다 뭐 이런 소릴 하니까 중 2주간 좋으시겠어요 저자 시리즈 문소리 아니라 생각하실 텐데 제 17 조 건 적대 갔다고 걱정할 필요 없는게 왜냐하면 소프트맨 그가 저 17조 원 적자 나기 전에 그 불타는 화랑 등에선 얼마를 벌어 썼냐 면은 50도를 벌었어요 가까이 기업은 덜 때는 일본이 없냐 상단 1년도 최대 순익 이고요 깨질 때는 거의 역 깨끗이 깨져요 그러니까 예 어이 무릎 밑에 별로 없어 2% 체인이 엄청난 건데 뭐 미친 기업이자 미친 제어 허가 2 스타트 받아왔기 때문에 벌떼 50조 뭐 깨질때 20조 뭐 이런식으로 깨지는 게 본업은 뒤로 가고 여기 들어가 너무 크기 때문에 이런 사람이라고 할 수 있고 다만 전세계 분 신들이 저렇게 움직이니까 우리나라에도 상장 시장이 정말 빠르게 위축되고 있습니다 작년까지 매도 역대 최고의 부장 이었어요 상당수의 완전히 부장 이었는데 지금은 ip 3 혹한기 동료 빼는 침입 아니니까 여러분들이 좋아하시는 지원 스토어나 아니면 트레저 헌터 같은데도 대부분 상당 을 초래하거나 심자 철회를 하고 있고 지금 현재 가장 뜨거운 감자가 마케 컬리 줘 과연 상장 을 올해 제대로 잘 할 수 있을까 하반기에 나온 다름이 대한 연기가 됐죠 나온다면 공모 꽉 아오 주에서 8쪽 얼마가 될지 모르겠지만 5 6주 정도 되지 않을까 생각을 하는데 가장 모 대형 아이 표라고 할 수 있구요 다만 이밖에 퀄리 고민은 예전에 한번 나왔지만 매출액은 장난아니게 성장을 하는데 제이의 쿠팡이 줘 적자 이거 새벽 빼서 할수록 적자가 나기 때문에 지금 2000억 c 깨지고 있거든요 매출액이 늘어나는데 영업이 같이 늘어나는게 뭐 적당히 하지만 여기에도 모두 파고 똑같이 아마존의 방식을 따라서 매출의 덩치를 키우고 있는 다르게 적재를 다 보존할 수 있다라는 생각으로 이제 도전하고 있는 게 아닌가 생각을 합니다 자 그리고 허리케인이 온다 슈퍼배드 클릭이나 그러니까 많은 it 기업들이 고용해서 소극적인 모습을 보이고 있다 고용 동결 미 정리해고 등도 갑자기 불타는 분위기가 확 버릴 가능성이 보이고 있다 라는 얘기들이 많이 나오는데 실제 숫자 자체는 아직 뭐 증가를 멈췄을 뿐 감소하지 않고 있습니다 5 lit 고용도 뭐 쏘쏘 했고 정리해고에 친구들 께 많이 보이는것 같지 않고 아직도 사람만 2부 하거든요 그래서 머스크가 저에게 경골 하니까 아주 열 받은 분이 계세요 누구냐 바잉 or 달 미국 고용 보고서를 통해 발표를 해요 이렇게 해서 우리가 고용이 좋았고 경기가 좋았고 내치 저 이렇고 우리 미국이 이렇게 튼튼한 경제를 자랑하고 있습니다 라고 했는데 머스켓 업체 2 슈퍼 데드 딜링 이란 운동 따라 망할 거 같아요 경기가 구인 4 시프트 짤라 는 이런 소릴 하니까 그 화기애애한 분위기로 발표하던 바이든 입장에서는 b 새끼 9분 못 놀이하는 뭐냐 지금 좋은데 숫자가 나빠진 게 없는데 지금 있길 이걸 어떻게 때처럼 얘기 아냐 그건 빌 뿐이다 실제로 이렇게 얘기했습니다 머스크의 경고는 말도 안된다 저희 춰라 그리고 뭐라고 얘기 했냐 이렇게 얘기했어요 조 월 고용 보고서를 발표하는 자리에서 공부좀 꿈꾸죠 아니 경제는 누가 보더라도 스테이블 하고 스테디 아 지금 안정적으로 견실하게 숫자를 봐봐 주 성장이 좋아 내가 이렇게 잘해 성적이 좋은데 왜 자꾸 안좋다 얘기하는 거지 아니 고용 보고서를 봐 공부 점에 지금 현실의 길재 늘어나는데 뭘 자꾸 분은 무슨 구조조정 이라는 50% 뿌린다는 도 뭐 이런 수를 왜냐구요 실업률도 낮고 해고자 해보자 역대 최저 요즘 해고자 가 미국 해고자 지표가 20 년 내 최저 칩니다 20년에 최저치 20년 최 조치 왔는데 무슨 it 기업의 고용이 안좋고 지금 보고 꺼리 캔이 온다 그러냐 라고 화를 했죠 그리고 마지막 2화를 타 된 다음에 한 말 됐습니다 보러 가신다면 이렇게 우리나라 신문의 많이 나왔죠 어 굴러 글 빈다 라 쏘 블럭을 핀다 너가 달라요 이에 라 써 블럭을 빈다 라고 스페이스 ceo 머스크 안되긴 했는데 누가 오더라도 당신의 행운을 빈다 어디 달라 라 널 보면 갈 수 있는 거죠 달나라로 이렇게 가는데 행운이 있을 되지 않겠냐 라고 그 약간 그 가시 돋힌 말을 했어요 로마를 딱 들으니까 내가 사람은 빨라야 내 우리 머스크 알지가 아까 전에 말했던 바로 그 트윗을 바른 알렸습니다 이렇게 구석 약간 날라갈 수 있어요 자기가 여기 타서 달라 가 될 수도 있기 때문에 책이 최강국 미국의 그 대통령님 이시죠 개다리 나서 하고 혀 법하지 않 아 요 잘못했다가 자기도 저 실력 할 수 있기 때문에 바로 이 땅 슴 있어 플레이어 테러를 바로 날렸고 요 또 이유가 있을 기달려야 된 이유가 이 우리 머스크 향의 옛날에 업보가 있어 무슨 오빠를 있냐면 옛날에 이런 얘기를 많이 했어요 나는 바이든 정부의 테니 아니라 굳이 얘기를 해야 되나 굳이 그럼 이 정부는 내가 보기에 그렇게 많은 일을 한 것 같잖아 난 오펜 아니야 게다가 인플레이션 때문에 너희들에게 날리지 않아요 2 플레이 션 꼬 왜 플레이 진 없겠냐 우리 정직하게 얘기해 보자 니가 돈 많이 찍어서 그런 거잖아 탈 잤냐 이거는 컴플리케이션 문제가 복잡한 문제가 솔직하게 얘기 안해서 거리가 솔직함 언니가 도 찍어서 인플레이션 해놓고 b 이제와서 금융 올린다고 달렸죠 남들이 문제야 니가 문제지 라고 얘기 했죠 돌직구를 달렸는데 어 상대는 미합중국 대통령 바이빔 이었구요 그 일하지 않는 정부 고베 펜도 아니라고 했죠 바이든 날씨가 이제 시즌 3번째 경로를 하시니까 우리 머스크 역의 트윗에 요즘 들어가보면 퀴즈 상단에 고정된 트윗이 있습니다 고정 트에 보셨습니까 딱 고정 마크가 달려있는 뭐라고 했냐 내가 정치인을 지지하는 일은 드물다 너의 생이 아니라 그러는게 아기가 있는 게 아니다 드문 얘가 원래 지지선언 사람의 내가 누구를 막 저하가 원래 원래 그런 사람이 원래 그래 사람 너무 팬이 아니라는게 너를 지지하지 않는다는 게 아니라니까 원래 그런 사람이고 나의 정식 성형은 온 건 아 뭐더라 있게끔 으 온 누굴 특별히 가 이게 아니야 란 완전한 공화당 을 지지하지 않고 아니 아니야 줘 왜 민주당도 아니라 대부분의 미국인들이 마찬가지 꾸기 때문에 노새 넣어 놈이 썬더 스탠딩 오오 예 오 해야 라고 얘기 라고 서 이거를 메인 뒤 상단에 고정 을 해봤습니다 예 그렇게 무서울 거 베는 왜 왜 그 입을 그쵸 그쵸 그렇게 그 얘기 할 거면 저희 이런거나 g 댄스 비스트 프레지던트 잘못하면 은 그게 묶여서 아까 되겠지만 그 달라 라오 갯수 토끼 보러 갈 수도 있기 때문에 여기 지금 장난이 그 고정되어 있습니다 물론 아까 적 있다 허리케인 고개 또 요즘에 가장 덩 기 이슈가 있는데 jp 모건의 ceo 인 제이미 다이먼 허리 킹이 온다고 했고 비슷한 걸을 또 b-52 뱅크 오브 아메리카의 ceo 인 프라이어 모이니 핸 또 요안 아시죠 물어봤어요 아니 gp 에서는 허리케인이 온데 포토 생각하십니까 그랬더니 무인 여러가지 이런 이렇게 있어 나는 기상캐스터가 아니다 날씨를 묻지 마라 4 체크는 얘기했어요 나는 기상 예측을 못하겠다 와 극 이상의 직에 뭐 나는 그의 기상캐스터 아냐 그리고 한마디 더 한계 허리케인은 매년 합니다 그 매년 오는 거지 올 때마다 이렇게 오두방정 떨고 허용 될 거냐 주식 이라는게 경기 라는게 올랐다 내렸다 올라 하는 거다 너희들이 얘기하는 것은 아무도 예측하지 못하는 쇼 큰데 과연 그 쇼크를 예측할 수 있을까 원래 이렇게 움직이는 커리 k 는 매년 얻는 게 아니냐 라는 소리를 했습니다 일침을 날렸죠 이것 때문에 그 마켓워치 라는 또 일명 안되죠 여기서 기업에서 설문조사 됐어요 누가 맞을 거 같냐 아 대체 믿자 의류 치려는 그쳐 배스 그룹 회장님 의 말과 무슨 뭐에 지그 로페 장님의 말을 갖다가 누가 맞을 거 아냐 라는 설문조사를 거죠 어 어 그저 어디가 맞을 거 같냐고 그런걸 한 겁니다 뭐 같잖아 눌러 이게 뭔 될 테니까 자유의 있는 다이 많은 허리케인이 온다 피해라 아래 있는 모인 이는 그러 리키 매년 온다 라고 설문조사 했는데 4d 유기 나왔어요 매년 온다 쪽이 좀 많게 나왔습니다 현재까지는 이렇게 나왔다 그리고 제가 생각하는 것은 이런건 있어요 지금 시장이 조정 장세 줘 약간 소종 맡고 있죠 어디까지 발주 아무도 모르지만 근데 제가 경우에 뭐 에 따르면 제가 뭐 저런 문처럼 통찰력 있고 유명하고 그런건 전혀 아니고 제가 짧으니 어떻게 보면은 뷰 라는게 보통 가격이 만듭니다 너가 울라 갈 때 저런 얘기 않으면 잘 없죠 가격이 필요한 반대로 반대하면 또 이제 그 롱 자가 농도를 들이 나온 거고 빠질 때는 속도 리들이 나오는 거기 때문에 가격이 뷰를 만드는 경향이 없잖아 있는데 물론 저분들은 누워라 유명한 분들이고 원아 정보도 많이 받을 테니까 뭔가 선견지명이 있지 않을까 기대 하지만 예 가격 빠지는 것 같지 않나 라는 생각이 개인적으로 이제 들고 있습니다 자 이거는 여러분은 어떻게 생각하시는지 한번 알아보는 시간을 갖도록 하겠습니다 오늘의 주제 중에 무려 두 개가 252 해줬어요 진짜 제가 트윗에 달고 싶어 땡큐 일론 땡큐 형 아니면은 어떻게 내가 유튜브 했을까 이렇게 사건 사고를 형이 만들어주지 않으면 쉽지 않다 역시 흥이나 복만 논란 적인 어찌보면 좀 말도 안되는 어떻게 온 싸우자 자기 재미없잖아요 답 id 아씨가 틈에 재밌어 요즘 바이 그 날씨 때문에 c 컬 때가 잘 안되요 트럼프 아저씨 시절에 얼마나 좋아하는데 들어온 불을 돌려달라 빌드 빽 트럼프 아니 트로트 하시는 일주일에 하나씩 꼭 그 뭔가 논란의 소지가 있었거든요 이상 뭘 하던지 바 있는 형님은 너무 신 살 수 2 53 너무 뭐랄까 대봉 플레이만 의 대 번만 하면 안되지 스테이지에 살아 있어야 되는데 트럼프 형이 좀 필요한데 트럼프 형 대신에 요즘 s 컬을 살려주고 계시는 분이 바로 일론 머스크 형님 입니다 차고로 일러 머스크 향의 또 무슨 얘기 했냐 형 때문에 3일 다신 자형 땜에 살아요 잘게 또 화제 였어요 엘론 머스크가 테슬라의 있는 직원들한테 말을 했습니다 뭐라고 이게 됐냐 쏠 타임 오피스 사무실에 풀타임으로 돌아와라 아니면 뭐 해라 퇴사 에 이까 우리나라 많은 그 근로자들이 보기에 정말 뜻 그 반소를 했습니다 뜨끔한 소리를 사무실에 풀타임으로 일하지 않을 자 재택 근무를 원하는 자는 디자인 회사랑 차이 메어 무시무시한 소리로 했어요 그러면서 뭐라고 그랬냐 이게 얘기하기 전에 이게 그냥 얘기한 게 아니라 이렇게 보냈어요 텐셀 나나 스페이스 x 근무하는 분들이 딱 자리에 앉아서 이미 를 따 켰는데 전원 거겠죠 2 에브리바디 전원 한테 지은 일론 머스크가 매일 오는거 이메일 내용이 쭉 읽어 드릴께 자리에 앉아서 딱히 니까 매료 있는거예요 절이 싫으면 중이 떠나 여러분들이 잘 해왔는데 사장님 이름으로 저런 매일 왔다고 생각하면 됩니다 주당 40시간 이상 출근을 하던가 주 올리니까 하루 8시간 축은 하던가 아니면 회사를 떠나라 어 매년 재테크 뭐 요구할 사람이 많잖아요 제 꿈을 다들 하고 싶어해서 제테크 뭐 어떻게 안되요 그랬더니 지금 제 꿈이 약간 하는데 없애겠다는 거죠 머스크는 직원들은 반드시 사무실에 주당 40시간 이상 나타나야 된다 아니면 리브 더 컴패니 싫으면 회사를 떠나라 고 보낸 건데 이게 테슬라 와 스페이스 x 직원들이 모두 공통적으로 받은 이메일 이라고 합니다 만약에 당신이 사무실에 나타나지 않으면 우리는 당신이 퇴사한 것으로 간주하게 따 디자인한 것으로 간주했다 는 거죠 자리 춰 버리겠다 의자 빼게 따라고 썼구요 제가 이집에서 그 일로 머스크 향을 야간 그 헌정 사진도 하나 만들었습니다 땡스 일러 넌 예 바지가 논쟁적인 주제 감사합니다 그렇게 공격 조리가 사람이 없어 그렇게 0 도끼를 이하 면도를 맞거든요 돌을 맞아도 할 말을 하는 당시 아 좋습니다 맞고 틀리고 1 따라서 스컬 돼 그 주제를 선정해 항상 되니까 감사하게 생각합니다 요 아래 있는 댄스 비스프리 서 트는 조금 있다가 오늘 세 번째 주제로 나오는 이용이 또 프레지던트 한테 바이트 형한테 뭐라고 한마디 했다가 이런걸 나주 날려 됐거든요 조금있다 나오미 따뜻해 x 잃는 댄스 팩스 x 자 그래서 보면 결국 사무실 근무 에 대한 강력한 의지를 보였다 했는데 이 매일 내용입니다 시니어 인 직원들이 존재를 보이는 것은 대단히 중요하다 이것이 내가 그 탓을 아펙 털이 테슬라 만든 자동차 받는 공장이 옛날에 살았던 이유다 옛날에 살았죠 막 수율 안나온다고 자동차 볼 때 못 만든다고 했을 때 대량 생산이 쉬먀 어려운 얘기 했을 때 머스크가 테슬라 공장의 살았던 유명한 얘기인데 그렇지 내가 그렇게 공장에서 살지 않았다면 태슬 나는 오래 전에 뱅크로 파산 했을 거다 내가 그렇게 했기 때문에 괴사가 돌아왔기 때문에 너희들은 무조건 사무실에 나와야 되고 그리고 굉장히 조금 의미 있는 이 아저씨 입장에서는 말이 했는데 이렇게 얘기했어요 테슬라는 지구 생각 가장 흥미롭고 의미 있는 제품을 실제로 만들고 있다 그런데 전화로는 이런 일이 일어나지 않는다 그리 생각하십니까 어 그니까 맨유 색 초 온갖 걸을 케익 사이트가 고민이 프랑 걸 프로덕츠 를 만드는데 전화로는 너는 프로덕츠 를 만들 수 없다 그리고 사실 한마디 더 했어요 니가 새로운 프로덕츠 뻗어 익사이트 하고 미니 프랑을 만든 지가 언제냐 나는 기억에 없다 요즘에 전화로 하고 있기 때문에 이런 얘기를 했음 나는 결국 딸한테 부들 전화로 는 역사가 일어나지 않는다 라고 썼는데 맞는 말입니까 틀린 말입니까 이게 논쟁이 예 너무 맞는 말이라고 it's 울렸다 라고 얘기한 사람들이 굉장히 많아요 생각보다 예를 들면 가장 대표적인 에클레시아 유명한 소프트웨어 회사입니다 지금 시가총액이 옛날에 백조 넘어갔어 지만 60조 된 했는데 100% 재택근무 제 창업자이자 ceo 의 스크 하신데 뭐라고 길 했냐면 일로 머스크 a 1 100% 오피스 출근 제 대면 그 문은 완전히 1950년대 발상이다 어디 그런 꼰대 같은 발상을 하냐 지금 무슨 뭐 60대 70대 할아버지 도 아니고 그 집의 it 기업적 발사 게 아니다 어디 그래 유치찬란 얘기를 하냐 그래서 뭐라고 이런 야미 스카시 우리의 트레시아는 언제 다 직원들이 일하는 장소와 방식을 선택할 수 있게 하고 있다 우리는 이걸 콜 2팀 애니의 요 한걸 모르게 되지 어디에나 있는 팀 이라고 부른다 이것이 우리의 지속적인 성장의 핵심인 아 버지 그럼 꼰대 같은 그런 카페 터진 소리를 하고 있냐 그러면서 마지막에 한마디 더 했어요 우리가 2026년 까지 직원 r 2만 5천 명으로 늘릴 계획이 있습니다 자 테슬라 100번째 되면 한다 그러면 여러분 맘에 안드 시조 열려 있습니다 예 열려있다고 어이 말이 칭합니다 여러 개 걸레 쉘 # 언제나 오시라고 누구나 관심 있는 사람이냐 링크까지 줬어요 여기를 찍고 들어오시면 바로 테슬라 에서 베텔 아시안 으로 옮길 수 있다 기회는 지금 인거죠 걔는 지금 입니다 아래 빠르게 잉크 루팅을 선언을 했구요 참고루 아틀라스 시안이 예전에 씨가 초에 거의 백조가 넘어져도 또 훨씬 넘었던 기업인데 최근에 많이 빠지게 했어요 나직 어 즉 기가 좀 살아 계신 거 보니까 아직 뭐하 창 빵빵한 기업이 아닌가 생각을 하고 물로 그 아래 또 댓글이 엄청 달렸어요 특히 이런 댓글이 아 야 너는 소프트웨어 안되잖아 테슬라는 은 자동차 만드는데요 그게 똑같냐 너희는 앉아서 이거 소프트웨어 만들고 그거 만들어 오면 그걸 보면 되는데 제대는 자동차주 나서려고 하는데 그 제조업체 한테 가서 너희 같은 마인드로 말하고 그의 똑같냐 답답하다 이런 분들도 굉장히 많이 달렸고 이 머스크가 답변 됐습니다 뭐라고 답변들은 야 경기침체는 대단히 중요한 경제 정확이 는 클렌징 펑션 을 제공한다 경기침체가 와야 중요한 경제가 좋아 데 어떤 정화 저렇게 바보같은 놈들한테 환기 니까 돈이 쏠리는 거야 돈이 꽉 이라서 침체가 와야 저런 멍청한 얘기를 하는 놈들이 한방에 가는 데 지금 취급 치기 외적 후 하기 때문에 저도 저리 한다는 거죠 네 경기 침체가 오면 쟤들이 갈 수 있다 라는 댓글을 달렸습니다 선문답 아깝지만 안에 있는 내용을 다시 알고 보면은 그쵸 저런 놈 자랄 때 2 돈이 가는게 개탄 스럽다 라는 댓글을 날려 오셨죠 결론적으로 요게 또 미국에서 굉장히 화제가 되고 있는데 코로나 이후에 과연 재택근무를 기소 그래야 되나 새로운 더 일하는 방식이 열린 건가 아님 과거로 이제 돌아 가야 되냐 이고 이런 내용들입니다 자 보시면 여러분 어떻게 생각하십니까 세계적인 대기업들이 git 엎드 아마존 애플 페이스북 베타 원거리 재택 근무를 아직 병행 중이에요 사무실 출근 을 아직 강제하지 않고 있습니다 대부분의 태그 기업들이 허용하고 있어요 무려 7인 얀은 차이가 있지만 일주일에 2번 이냐 3 일이냐 아닌 100% 냐 병 애인이나 차인 있지만 파이트 어느정도는 병영을 하고 있구요 방문해 닿았던 * 아 텔레 시안 같은 경우에 특히 소프트웨어 웨어 bnb 뭐 이런데 들은 일 년 내내 100% 원격 재택근무를 허용 한도 있구요 반대로 테슬라 같은 경우에 풀 출근을 지금 꽂이 한 거죠 대표적인 어떻게 it 기업 중에는 테슬라 가지고 쿨 출근하라고 아니면 짜리 게 따로 경고를 한거고 우리나라는 어떨까 여기에 우리나라의 사실 가장 대기업들의 어떻게 it 기업들 중에 하두 줘 예를 들면 카카오 얼마전에 뉴스를 보시면 알겠지만 카카오가 재택근무 일종인 매 탑 었을 근무제 를 선언했습니다 7월부터 메타 버 쓰고 문제로 가겠다 베타 번 쓰고 문제가 뭐냐면 근무 장소에 상관없이 가상의 공간에서 동료와 항상 연결이 돼 있으면 온라인으로 너가 있으면 있는걸로 인정을 해 주겠다 이외에 타워스 근무 달아라 그래야 열에 오그리마 앞에서 말라고 안될까 i5 4g 앞이나 뭐 아님을 아들 성 에서 만나 등 가 아버 이어 만났고 어 일베 태워서 되면 까 오그리마 괜찮은데 밤마다 요즘 좀 바뀌었나 위치가 학예회 받은 뭐 스타크를 부터 서버 1에서 받아 던가 뭐 채널명 하다 적 없고 그래도 될거 같긴한데 근무자 괴산 없이 온라인 공간에서 라도 대통령 와 연결만 되어 있으면 은이 준다는 거 잖아요 초보 만 호 이른바 외모를 갖고 아 아 이걸 선언을 했죠 처음 들어봤어요 메타보 쓰고 문제 의 조건이 주울 중에 4일은 이제 베타 보스급 뭐 데크 문제 특급 뭐 메타보 쌀에서 모이는 메타보 20 를 하고 오일 중에 하루만 오프라인을 장소에 모여서 회의를 하자 뭐 이런거 겠어요 문제는 이게 비판을 엄청 많았습니다 얼핏 보기에 그리 좋아 보이지 않아 근데 뭐에 비판의 받았냐 항상 치 뭔들 과 연결돼 있어야 된다 그리고 하루 네오프렌 장소에 모여 있는데 어디서 어떻게 보여서 뭐 밥을 누가 주고 이런거에 대해서 굉장히 사람들이 좀 부 많이 있었다고 합니다 그래서 예비 치매 보셨겠지만 커뮤니티에 올라온 그리거 브라 인데 올라오지 않았을까 생각이 되는데 제가 본 그리는 어느 카카오 지원해 분노 라고 올라왔어요 떠도는 글입니다 좌 친 않아요 이런 거죠 골전도 디스코 다고 비슷하다 항상 연결이 되어 있어야 되기 때문에 디스크 데 누가 있는지 게임 하다보면 판사 검사를 한다 스피커가 항상 오늘은 뭐 이런걸 불만이라는 거지 카카오 치고 입장에서는 하루 8시간이 존재가 오븐 계속 봐야 되냐 또 여기 보면은 코 타입이라고 1시에서 5시 는 반드시 접속해 있을것 우리 치면 레이드 시간이죠 레이드 시간에는 반드시 참석을 해야 될 것 이라고 있는데 요것도 맘에 안 된다는 거죠 그냥 위원 하게 금물 해야지 어 아침 8시에서 12시 까지 한 사람이 있는데 꼭 그때 레이드 한다고 간식을 다시 까지 부른 게 말이 되냐 유연하지 않다 그 서로가 서로를 있나 없나 감시 하더라 그죠 0 대장이 여야만 사자가 외 6명이 야 한 명이 빠졌네 여러 9 전화를 한다는 거죠 0 대장 입장에서 이해가 됩니다 난 40명을 채워 갔는데 잡다보니까 38 형이야 하루를 위해 쉴 때 어디갔어 청화 돌려 차 돌려 어떻겠어 한다는 거죠 어 모공 대장 입장에선 이해가 되지만 0 대원들 입장에서는 뭐야 이거 이거 강제 아니냐 라고 좀 분노를 하고 여기에 대해서 항상 연결이 돼 스피커를 편해야 된다 등등 는 조건이 이제 우리를 감시하는 것 같다 란 느낌을 이제 많이 받았다는 거구요 이게 직원 반발이 3 지니까 카카오가 메타보 쓰고 문제가 지금 실시간 입니다 실시간 재검토를 선언을 했어요 세계최초 다니지만 네타 번스 그 문제는 이름은 최초 코드 같은데 맨탑 어스 근무제가 일단은 터너 늘 댔다가 지금이 다시 뭔가 조금 좀 나아진 채로 다시 나오지 않을까 이름을 바꾸면 되지 3개 채 쪽 레이 의 근무제 엘에이 드가 그 뭔지 아시는 분 하십니다 레이드 무제 그 했었죠 세계최초 공격대 근무제 좋다 약 공격 되고 뭐 좋아 해보면 줄 공격대 의원들이 즉 능력이 장난이 아니야 생각보다 2호 프라이드 40명 놓여서 그 한 pc 방에서 잡나 우리 디스 코드로 뭐 잡나 잘 잡아 괜찮아 잘 잡아 그 책의 기록도 월드 폴 스킬도 전부다 pc 판에서 뭐져 않은 우리나라에서 안나와요 해보면 그래 외국 애들은 전부 다 디스 코드로 2 베타 버스에서 요 그래도 볼드 최초 킬은 외국인들이 우리나라 pc 방의 사십 명이 모여서 해도 멀리 추측 키를 못해 들어오기 때문에 제가 보기에는 효율성이 메타 벗으 근무제 레이드 건 문제가 혈성 있다 공부 의무자가 효율성이 제 경험상으로 있는 것 같다는 생각이 듭니다 여 쿵 갱이 어찌 게 쿵 갱구 쉣 n 인가 저런 뜻을 대비 파니까 풍경이 얼라 했더라 2 그 동유럽 이었는데 그 친구 하는걸 보니까 그 이 공격대 근무제 로 도 항상 월드 퍼 스킬 가능하기 때문에 굳이 오프라인에 그 안하더라도 되지 않을까 라고 생각을 하는데 헤드 카카오가 이거를 시도하다가 수댕이 맞죠 우리 쿡 앤 아저씨 되지 않을까 생각하는 레트 카카오는 메타보 20문제 전격 재검토를 선언을 했구요 이 글로벌로 보면 애플이 대표적으로 깐깐한 기업입니다 깐깐한 기업인데 5월 23일부터 주 3일 사무실 출근 지시 했어요 이게 1월에도 있고 뭐 사물의 됐고 력에 안되다가 코로나 마무리 했으니까 주 3일은 사무실에 다 알아 온 중에 이 일은 집에서 하더라도 그랬는데 직원들이 반발 했어요 4 진짜 주 3일 나오는 것 좀 더 할 수 있지 않을까 이름 아닌데 이 직원들이 조금만 바란 게 아니라 강력 반발 있어 강력 반발 얼마나 강력 반발 했냐며 는 여기 나오죠 이한구 텔로 괜히 유명한 사람이에요 2 스타 개발자가 구글 의지도 했어 열받는 더 리턴 또 피살 하니까 장난치냐 너 집에 제도 충분한데 지금 pc 방에 모여 써야 배가 보스를 잡을 수 있는 것은 아니다 디스코 들에도 찾더라 라고 게 라면서 구글로 전격 이직을 해서 이게 굉장히 화제가 됐어요 저 스타 개발자 이지 거라고 직원들이 애플의 대나무숲이 제 풀 대나무 숲에서 5 달리 가니까 애플이 요추 3일 축은 정책을 연기했습니다 전격 병 기습할 얼마전 1월에 시도했다가 실패 했구요 이번에 시도했다 실패했어요 이번에 우리 시 도 있는데 또 실패해서 이렇게 한번 제 특검의 맞을 들린 직원들한테 다시 나오라고 하는게 쉽지가 않은것 계속적으로 반발이 있고 심해지고 3 프리 고민고민하다가 요 자료를 만드는 6월 3일날 또 전격 발표 합니다 알겠다 시간을 더 주겠다고 9월 1월 실패하고 2월 10회 고을 실패 했거든요 요번에 3 프테 먹으로 바꿨습니다 자 부어 로 합격 발표를 했는데 과연 9월에는 그대로 될 수 있을지는 저도 잘 모르겠습니다 야 쉽지 않을 것 같은데 과연 애플 직원들이 이번에는 또 넘어갈 수 있냐 뭐 이건 모르겠구요 보면 포브스 에 나온 요런 어떤 갈등에 대한 글이 있어요 기사 이렇게 나왔습니다 이런저런 많은 이유로 지금 현재 미국에서 it 기업 유지에 요 4% 고용주 많이 풀타임 사무실 분부를 누구하고 있다 왜냐하면 제 좁은 아니겠지만 구인난 시대이기 때문에 미국에서 구인난 이잖아요 풀타임 근무 하라 그러면 들이다가 반발을 아니 근로자가 현재 우세한 시장 특히 it 쪽에서 지금 클렌저가 너무 우수하기 때문에 유연하게 대처하지 않으면 사람들이 딱 같더라 풀타임을 요걸 힘든 상황이다 반대로 얘기하면 은 노동자의 만약에 침체가 오면 과연 다시 예전처럼 꼬르 나오기 전 처럼 100% 풀 출근을 요구할 수 있을까 보보스 남아 요구하는 비중이 높아지지 않을까 라고 얘기 라고 뽑으세요 결론이 거에요 그 코로나 1 9 가 가져온 유산 중에 가장 큰 것 중에 하나가 바로 이 하이브리드 회사 일에 대해 어떤 사람들의 인식 반드시 사무실로 나가셔야 된다는 인식이 깨지고 이제는 하이브리드도 집에서 하던 제 왓다갓다 던지 아니면 그 회사의 가 그만큼 중요하다는 인식이 약해진 것 이게 지속적인 유사한 이 아니냐 라고 했는데 물론 이건 있어요 이운재 주의해야 3일 재테크 뭐라고 1일에서 2일 정도 회사에 출근하는 게 이 근로자들이 더 행복하기 때문에 거의 80퍼센트 요구합니다 젊 설문조사를 보면 이퀄 씬 더 생산적 일 것이냐 과연 재택 동물을 병행 했을 때 하이브리드 워킹을 했을 때 더 뭐 푸드 티브 할 것이냐에 대한 논쟁이 있죠 2 우리나라 또 예를 들어보면 이 배부른 소리 인게 우리나라의 게임 업계는 지금 이 실시간 입니다 풀 출근을 대부분 실시하고 있을 겁니다 대부분 작은데 빼고 왜냐하면 주가가 박살나 본 이렇게 차 향이 좋아요 배가 불러야 곳간에서 인심 인한 겁니다 아 지금 주가가 박살이 나고 큰 들은 들 내기 시작하면 은 야식 그게 문제야 지금 우리 막의 되겠는데 하면 바로 붙일 건입니다 아서 6월부터 사무실로 다 나와라 전원 풀 추운 방식이 게이머 께는 많이 도입이 되고 짤리면 은 a 대표적인 게임 얻게 될 엔씨소프트 넥슨 이런데 들은 전원주 급 직원 전면 죽은 6월부터 방학이 nc 나 넥슨 다 하시는 분들은 느끼실 거에요 전 잘 모르지만 중개자 로만 맞지만 전면 전원 출근 으로 3+2 근무제도 종료가 됐다 그러니까 2일 제 택도 종료가 됐다 그러고 위는 되긴 돼 인게 어 웰치 축가를 보며 조금 급하긴 하죠 물론 이에 그 소위 말해서 우리가 베이 형 뒤집은 배경 때 박형 이라 그렇죠 딜링 이기 때문에 이제 이렇게 올라가지만 남지 않았을까 그저 가짜 혼자 비우고 나왔으니까 좀 젊다 찍고 앞으로 쭉 상승 할 일만 남았을 것 같긴 하지만 누가 보더라도 조금 급하기 때문에 아마 우리나라의 게임 업계에서 이불 출구는 지금 대부분 하고 있고 카카오를 얘기했으면 네이버를 얘기 안할 수 없죠 네이버 틀에 있을까 네이버는 카카오 하고 비슷하게 비슷하지만 다르죠 7월 부터 출근을 선택을 할 수 있어요 전면 지탱을 할거냐 주 3일 정도를 출근을 할 거니 하이브리드 할거냐 이거를 직원들한테 설문조사를 해서 추구는 선택할 수 있게 해줬다 라고 신문기사 나왔습니다 100% 전부 선택인지 아니면 일부 직원들만 선택이 잘 모르겠는데 이거를 자기들은 이렇게 편했어요 커넥티드 워 연결이 돼 있으면 된다는 거죠 벤타 버스처럼 아니었던 것처럼 내가 일하고 있다는 걸 연결만 되어 있으면 은이라는 걸린 전에 주께 그래갖고 보면은 주 3일 이상 사무실 출근 실제로 오피스로 출근하는 타입을 오피스 베이스도 그 그 다음에 원격 근무 를 기반으로 하는 타입을 알 리모트 베이스도 못해서 5 타입 이냐 알타이 비녀를 이 설문조사 비슷한 했습니다 선택할 수 있게 또 튀는 않냐 여러분 같으면 주사 및 사무실 출근 하는 5를 선택하시겠습니까 100% 재택근무 원격근무 거의 500번 특화 90% 알을 선택하시겠습니까 5 dr 사무실 재택 오는 사무실 오피스 알은 리모트 여우가 있어요 아니 여러분들이 사장님이라고 살아가지 말고 이 사람들아 사장님이 묘는 당연히 오라 그래 게 차장이 말고 근로자 근로자 사장님 짱 말고 네이버 c25 말고 저하 분들이 일을 한다고 생각하면 주 입장이 아니라 네이버 주주는 당연히 5 겠죠 이것들아 나와서 일해라 네이버 주주는 그런데 클로제 입장으로 서클릿 o 가 비만 침 근로자 분들은 대부분 리무 t 링 아 유부남 이라고 아 그 집보다 제척 이게 꼭 쓰셔야 났다고 아 그것은 몰랐다 약 진짜 그거 몰라 나주 설마 아 집에서 있어서 그거 보다 이렇게 되고 보다 쫌 이따 가는게 낫다 뭐 참신하다 진짜 참지 아니고 생각도 못했네 아이쿠 해탈이란 그거 아 그래서 보다 정말 그 훌륭한 생각이지 않으실 수 없습니다 정말 그 대단한 결단이다 9회 10달 약한데 입어 주주 로써 정말 그 환영하는 바 구요 그러면 w 아예 상도 얻었다 아 진짜 상단 5 텐데 네이버 직원들은 그 아직 젊은 시기 때문에 유부남 유부녀가 많지 않으신 것 같습니다 그 출근 투표를 해 본 걸고 아쉬움은 나온 거죠 자 1,700 명 의 지원이 투표 했는데 풀로 채택을 하겠다 가 55% 가 나왔다 그래 오피스 사무실로 며칠을 지 몰라도 출근하게 따가 2 3일 45% 그럼 이게 우기는 미운 이고 여기는 기 옷이 그런겁니다 암이 온 키운 을 비율이 55대 4 지보다 레이버 점점 긴 하죠 직원분들이 좀 적게 하기 때문에 가능성이 있는데 아 그건 예상하지 못했는데 헤드 제테크 무가 더 높게 나오고 비디오 신호 깨닫고 아 제 생각에 고현 70% 몰빵 에 나올까 안 했는데 왜 주 3일 이상 오피스를 나오겠다는 분들이 45% 가 될까 궁금했는데 아 비밀이 풀렸다 이제 궁금했어요 이상한데 샵을 이봐 더위가 70% 이상 해야 될 거 아냐 거의 80퍼센트 아까 나올줄 알았는데 안 나온 이유가 그런 이유가 전 사실 그게 않겠습니다 윗사람의 좀 잘 봐야 되니까 이웃사람 한테 얼굴을 보이는 게 이 페이스를 보여주는게 승진에 유리 하잖아요 또 내가 뭐 근데 계속 어필해야 되고 이 거라고 생각되는데 생각이 짤만 4 그런 이유가 있다고 하구요 주 5일 다 출근 할 거냐 라는 설문 있었다 그런데 거의 없죠 주 오늘 출근은 1에서 2% 에 거의 없는거 이래서 2% 뭐지 정말 충실한 회사의 충실한 분들만 이렇게 한 걸로 알려져 있습니다 근데 이번 제 커넥티드 워크 라 그래서 지금 이런 식으로 되어 있구요 네이버 다 컨이 it 계 위 어디까 제조업은 어떻게 됐냐 대운이 또 고민하고 있는 것 같아요 뭐 재택근무 비중을 대부분 유진 하고 있는 것 같아요 30% 냐 50% 냐 유진 하고 있는 것 같은데 물론 이중에서 sk 하이닉스는 어 좋은데 세 블록 아예 새 100% 턴 창 축 어 눈물없이 볼수 없지만 뭐 우리나라 반도체 그 발전 위해서 창업의 여권으로 그렇게 열심히 해주시는 당시 정말 아름답습니다 정확히는 모르겠지만 아마도 그렇지 않을까 생각하는데 든든합니다 역시 형들 때문에 우리나라도 반도체 업체가 살지 않나 등등하게 생각하고요 즉 나오는 논란이 뭐 우리나라도 그렇고 저쪽 미국 서구에서도 그렇고 재택근무가 유노 머리 냐 코로나 끝났는데 사실을 mdma 왔는데도 계속적으로 진행된 눈물이 냐 아니면 두 번째가 효율적인 야 요거 에 대한 논란이 있는데 우리나라에 대한 예를 조금만 보여드리며 는 안구 건의 싸운 자료 옛날에 보여 드렸지만 재택근무를 하는 분의 비중이 굉장히 높아요 110만 명 이상이라고 그랬는데 아마 더 높을 겁니다 몇백만 며 어느 정도는 다 재택근무를 경험을 하고 있고 내가 못 느끼나 그것은 재택근무를 하는 기업들이 거의 대부분 대기업 이어서 비중이 3배인 의상 대기업 위주로 아무래도 정부정책 같은 형이 있겠죠 그래도 며 전체 20% 는 넘지 않고 특히 it 기업들 제조업은 굉장히 약하고 제 좁은 3% 밖에 안되요 비중이 깨닫고 제조 부터 굉장히 작은 중소기업들이 많으니까 정보통신 대기업이 주로 당연하겠지만 많이 이어지고 특히 학력이나 좀 충전이 높은 소위 말해 진짜 밥이 있는 연차가 있는 분들 이제 중심으로 지금 많이 되고 이런 특징 2 우리나라의 있자 마디를 조금 이 굴을 수 있는 선택할 수 있는 이런 능력이 있는 분들은 많이 하고 있는데 그래서 아닌데 나라 걸로도 특징 있습니다 주 1회 이상 재택근무를 하는가 라고 bbc 에서 물어보니까 제 꿈에 부정적인 나라들이 있어요 잘 안 하는 아라드 예를 들면 유럽에는 프랑스 그 다음에 일부 이 두 나라는 재택근무를 굉장히 있어 좀 어떤 문화적으로 잘 한다 그렇게 특히 일본은 글로벌 주요 국가들 중에서 재택근무 비중이 가장 낮은 국가들 중에 하납니다 굉장히 떨어져 20% 이하로 지금 오크라 와중에도 빠지고 있었기 때문에 제트 끔 1 굉장히 떨어진다고 합니다 이훈 여러가지가 있는데 심지어 일본 정부가 강력하게 재택근무를 요청을 해도 일본에서는 잘 근로자들은 원하는데 기업에서 선택을 안 한다고 해요 아무래도 약간의 번 기업들이 제조업이 많고 약간 보수적이고 그런 것들이 있고 또 이런걸 기아 못 간다고 생각하시면 된다고 하시는 거에요 일본 유세에서 나오는거라 까는건 아니고 그럴 수도 있죠 그러면 일본에서 40% 비중으로 인터넷 액세스 나 보안이나 작업 공간 등 준비가 어렵다 백스 보다 거다 도장 찍기 힘들죠 그 작가 대변으로 한다면은 뭐라 그럴까 약간 오리지날 방식으로 좀 디지털 방식이 아닌 아날로그 방식이 좀 쉽지 않기 때문에 공개적으로 그 어려운 넌 이 있겠죠 아무래도 문화가 들어오니까 그래서 일본이 가장 갭이 큰 나라를 올립니다 어떤 갭이 냐 면 근로자들은 재택근무를 정말 많이 원하는데 80퍼센트 이상이 원한다고 나오는데 기업이 그걸 원하지 않기 때문에 이제 특검은 b 중이거든요 죄책감의 비중이 코로나가 그렇게 심해도 올라가지 못하는 대표적인 나라가 일본 이라고 하구요 제 개인적인 생각에는 전 이렇게 생각을 많이 합니다 이제 특급 무가 잘 되려면 효율성을 높이려면 굉장히 뭔가 효율적이 야모 사업자들 하고 여러분들 좀 다 좋을 거 아니에요 제 생각에는 이쪽 소프트웨어 기술의 발전이 아직도 뭐 따라온 것 같다고 생각을 많이 해요 왜냐하면 이런 재택근무가 기술의 발전으로 우리가 채 끝말 하게 된게 아니라 질병으로 질 때 끔 을 하게 된 다음에 뭐 를 만들고 있거든요 일단 제 특검을 할 다음에 그 툴을 만들고 있기 때문에 좀 느려 반대야 써야되는데 툴이 우리를 재택근무 이쁜게 아니라 앞으로 내 멱살 잡혔고 50 뭐 아무것도 없지만 처음에 전화를 의자 전화를 하고 카카오톡 오라고 그러다가 카카오톡으로 회사 업무를 보 내려오니까 보안이 안돼서 보안 되는거고 찾고 전날 하려니까 얼굴 안보고 아니게 얼굴 되는거 찾고 여러명이 뭐야 되네 여러장을 뭐야 되니까 또 그런거 찾고 그저 하나하나 만들다 보니까 굉장히 좀 느려 쯤 드리고 지지의 보면 옛날에 얘기 드렸지만 소프트웨어 기업들이 이렇게 특급 용 툴이 대전입니다 되죠 진짜 대전 예 태조 적어 이 3개 정도 인데 이게 왜냐하면 여러분들께 느끼겠지만 연결과 커넥티드 하거나 매 탑 어스 를 위한 어떤 우리가 업무를 한다는 그런 공간에 퀄리티가 어 뭐 이렇게 생겼잖아요 이게 그 21세기의 세계적인 it 기업들이 모여서 회의 하는 것 치고는 물론 디자인이 뭐가 중요 하겠냐 만은 이게 2000년대 초반 게임이 누가 보더라도 월수 많이 받나요 준 일부 이런거 에서 으 8 to 1000 아기 옛날 무슨 재믹스 시절에 나왔던 것 같은데 차라리 아까 저 드렸지만 이 게임 만도 못한 것 지금 나오는 수준으로 온 앞으 점점 발전 해야겠죠 엄청난 속도로 발전하고 있는데 경우 그림 앞마당 막 못하지 조개 역 그래픽이 훨씬 낫고 전원 연결 당연히 되지 맵도 넓어요 저 그냥 조그만 됐지요 짜 이고 그렇게 다가 이거 캐릭터 커스터마이징이 장난이 아니야 이거 수백가지 촌 조언으로 커스텀 레뇨 되고 탈 것도 있어요 날라 도 아니고 포인트 공각 별로다 되는 내 요구 게다가 심 시 화면 퀘스트도 라고 캐스트 던지고 뭔가 재미있는 퍼즐 2기 게임만 못하다 원하는 것은 사실 조 게임 속보다 더 원활한 소통이 잖아요 우리가 메타 버스의 뭐 베타 벗으 출근 제 무슨 뭐 커넥티드 워크 이러는게 져 안에서 만나서 정말 나처럼 움직이면서 나처럼 되거나 처음 이라는 건데 뭐 전혀 어느정도 수준까지는 못따라 오지 않았나 생각이 되고 다만 반면에 사람들이 엄청나게 원하죠 80퍼센트가 제트 끔 을 원한다 4 기술이 못 따라온다 는 말은 반대로 말하면 기술이 따라오며 는 이쪽 시장은 미쳐 나는 거죠 재택근무를 정말 효율적으로 할 수 있는 글로벌 메가 트렌드 1 주도적 2 혜택도 뭐 추리 등장하면 야 아 참가 아닐꺼 같은데 생각에 모두가 다 클로버를 사람들이 채택이 거라면 표 쑥을 장난이고 똑같다 알아보기 라면은 회사에서도 그렇고 여러분들 그 정말 많이 원하지 않아요 제 생각에 거의 그정도 되면 j 의 도스 나무인 도모에 셀 다말 거죠 버튼에 또 이 정도가 되지 않을까 뭐 이게 그렇게 되면 그게 메타 봤을 거 같긴 한데 5 지금 으로는 식음 옛날에 그저 거 보고 여기에 나와서 이것이 미래입니다 하고 한 거 있어요 옛날에 무엇 이 어찌 자기네들이 만들어보는 툴이라고 와서 얘기해 주는 것 그걸 보더라도 수준이 뭐 오피스 태워 예 자 글로벌 페이스북이 만들었으며 느냐 v2 목표이자 나 야 이 수능에 우리가 시대를 앞서 갔어요 외국에서 엑셀 켜놓고 하는거랑 뭐가 달라 거기 생각해요 여기서 ppt 카 가면은 이게 훨씬 나치 버금 도 없어 수천 명이 모여도 공성전을 해도 우리는 안보 북의 여기고 30년 40명이 뭐야 400명 등 모이지 많이 모이기 때문에 야마 지금 이게 발전 을 굉장히 빨리 하고 재택근무 툴 같은 경우에 소프트웨어 기술 기업들이 말자 대로 정말 뭐 j 의 마이크 소프트 이상 년 의 기업이 나오면서 우리가 흔히 편하게 있게끔 물론 시대가 오지 않을까 뭔 기대를 한번 해보도록 하겠습니다 자 오늘 을 재민 얘기를 하나에게 하도록 하겠습니다 일로 머스크 형이 트위터 d 를 전격 파기를 선언했습니다 솔직히 이걸 보자마자 저는 그런 생각이 들었어요 그럴 줄 알았다 그렇지 않다 57 줄 아래쪽 57조 야 쪼끔 아닌것 같은데 개인적으로 크게 57 좋아 이곳 지나친 데라 생각을 했는데 좀 귀여움을 토 1 적 재산이 만나 싶더니 조금 지나니까 안 써레 안써 를 외치면서 터미네이터 하자 예 끝내는 게 어떻겠니 라고 무슨 물어 하지 않겠니 라고 이렇게 텐데 야 자기가 질러 그걸 무승부 라고 하지 않겠니 라고 얘기하면 그 테나 나의 펫 이 법은 다음에 어 이와 최 a 가 두 개 4 그 무슨 물어 하지 않겠니 뭐 아직 히든카드 안 봤으니까 그 윗집에서 그만두지 않겠니 뭐 이런 소리를 하면 와 뒤 집었는데 안되는건데 머스크 향은 적어 를 요구하고 있습니다 고 내용을 잠깐 에 걸쳐 보기로 하면 잘 짜 물려 달라고 얘기라는 트위터인 수지 규모는 57조 였어요 44 빌리언 달러 물론 여러분이 트위터 주거나 트위터 이 사회 라고 생각해보세요 울려 주겠습니까 57조 완 참고로 초부터 나오지만 튜토 주가 어 예 아 네 여기서 살 길을 따 말이라는 어떻겠어요 또 물려 줄 거 열어준 하면 이사회가 물려 쉬기로 했습니다 라고 8표 하면 이 섬에서 짤라 버려야 줘 맑았던 소리하고 있어 이 무료 줄 수가 없는 상황이기 때문에 그래서 이 사진들이 이번에 발표한 거에요 우리는 딜 마무리에 최선을 다하고 있다 합의된 가격으로 이해하기 위한 법적 조치를 취할 계획이다 어디 계약서 까지 써놓고도 전까지 찍은 다음에 니가 그거 뺄 수 있냐 안 된다 선화 땐 마음대로지만 파기는 2만의 아니다 라고 주장을 하고 있고 트위터 이사회 의장 프레시 라고 있어요 레테 잃는데 얘 아저씨는 아 이렇게 썼어요 소송으로 가면 우리는 승리할 것으로 확신한다 달 믿어달라 내가 57조 받아 주겠다 어 어 그쵸 어항 말 믿고 간다 브레 테일 형만 믿고 하다 57조 받아달라 왜냐면 여기 우리사주 많이 있어요 지금 입장이라 생각해봐 우리사주 갖고 있는데 57조의 사주를 해놓고 떠 이스즈 오늘 이루고 있었는데 왜냐 이후 9 안 한다 그러면 지금 보시오 얼마 됐는데 지금 와서 이러면 안되는 거죠 이제 이렇게 선언했다 할 수 있고 물론 머스크 아저씨는 입장이 있습니다 이렇게 이라는 거죠 아니 너희들이 정보를 안 좋다 트위터 너희들은 스팸 계정이 전체의 5% 로 시작하는데 자기가 보기에 아니야 정말 달라고 했는데 안 줬다는 비스타 임계점 비율이 식품 20% 되는거 아니냐 그런데 50 실제로 그런걸 5% 기준 인데 얘들이 스프레이 프롬 나이도 뭐 쪽은 아니야 경서 얘기하는 겁니다 게다가 내가 사서 내가 온 헌데 뭐 니들이 나를 무시해 써 이사회의 가서 정보 달라 그러면 안 주고 심지어 쉽고 진짜 그렇게 했어요 머스크의 연락을 씹고 나오죠 이거 무시해버리고 뭘 달라 그러면 안주 결심이 사별하고 오너가 달라는 다니는 게 말이 되냐 그리고 이번에 트위터가 여러분들 있어 보심 알겠지만 정리해 구하고 있거든요 근데 거의 통 있어 내가 동의도 안 했는데 니들이 왜 정리해고를 하냐 테슬라 도 하던데 예 딴 얘기죠 피트 테슬라 도모 뭐가 업고 갔다고 미래가 안 좋은 거 같다고 커다란 먹구름 259 뭐 퍼펙트스톰 있 무식한 그러더니 태슬 다른 하고 어 트 위 터 하니까 이 트 4 동일 아노 군인 들이 총리 오라고 있어 이 말이 안되는것 그 계약이 반이니까 그래서 어 그래서 내가 계약을 파괴하는 거지의 내가 뭐 가격이 빠지고 뭐 이래서 내가 계약을 파기하는 줄 알어 이 아니라 이들이 약속을 안지키고 개어 쌍이 적혀있는 것을 이해 하지 않으니까 라는 계약을 파기하는 거다 라고 주장을 하셨죠 본 저도 그렇게 생각을 하긴 하는데 유튜브 하다 보니까 또 어떤 불충한 생각이 살짝 살짝 드는건 2부 중 한 생각 됩니다 부축한 생각 전혀 게 맞다는 게 아니구요 머스크 아저씨가 인수하기로 한 가격이 주당 54.2 달러 합니다 인수 발표 일이 여기에 이 빨간 색이 54 달래 지금은 여기죠 32% 에 빠졌어요 57 좋 일이니까 주가 로만 따지면 현재 - 18 조 가 찍혀 거 든 요 아 물론 뭐져 3위 2% 프리미엄을 준다고 생각하면 되는데 지금 경제 상황이나 트위터에 산업이나 ss 기업들이 상황이 프리미엄을 실상 아닌가라고 생각을 해 봤을 때 어 뭔가 손해보는 거 같고 내가 계약을 파기 하면은 여기에 다시 살 수 있을 것도 같은데 느낌의 느낌 해 가 적 이따 오늘 충분히 요구할 수 있을 것 같은데 18 토우야 10조 나까지 되는거 아닌가 이런 생각을 하지 않을까 그런 2부 충아 생각을 합니다 게다가 트위터를 매수하기 를 선언하게 3 어리고 인수설 자월 했거든요 그동안 트위터 미탄 ss 기업들이 주가가 어떻게 됐냐 빗은 업체입니다 어 어 고점대비 82 풀어 봤어요 4월 대비 62% 파스 차이가 인수한 다음 꼭 있단 말이에요 스냅 책만 일이냐 ss 기업의 1위 메타 바다인 줄 알았지 5 다들 이렇게 에센스 곁을 요즘에 굉장히 크게 나락으로 가고 있고 이 얼마나 우리 우리는 잘 알고 있죠 왜냐 우리나라에도 이상하게 그것은 글로 버린 기억이 있어요 시원하게 가격이 클럽 오리야 땅 보우 는 전혀 글로벌이 아닌 데칼 다같이 하더라고 빨리 몸 관련이 있다고 그게 글로 보랴 그게 뭐 글로벌로 뭐 하는게 웹툰 맑은 뭐 카페트 가치라고 있기 때문에 우리 어 입장에서 보면은 여기서 지금의 들리면 쿼리 인수하기로 했는데 가격이 오니까 조금 뭐 그럴 수 있죠 게다가 4월에 저흰 술을 선언 한 다음에 많은 일들이 있었죠 그 동안 퍼펙트스톰 이다 그 주가가 날라가고 있다 아무 앞에도 윈터 뭐 스쿨 뭐 빈터가 고 커밍 이에 어쩌네 6월 15일에 자이언트 스텝 ts 75b p 한 번 더 한 대 한 번 좋아하고 연말 3조원 해 뭐 이런 얘기 라고 있어요 경기가 날라 한해 모 보 스태그플레이션 입어 트게 되는 뭐 소비가 박살나 4 근데 난 얼마를 질렀어요 4월에 57 질렀어 이 계약이 문제가 있어야 됩니까 없어야 됩니까 여러분들의 입장 이라며 나 57 켜를 했거든 라는 아주 비싼 집을 이렇게 샀는데 이게 했던 말 환불 놓쳐 해야 됩니까 주식을 살 계약을 했는데 내려가면 은 물론 시 거 한 분인 한데 주식은 그래도 물릴 수 있지 않을까 런 생각을 할 수 있고 또 게다가 우리 트위터를 살 때 머스크 이런 얘길 했어요 구독 경제란 것으로 제가 트위터를 살릴 것이다 이렇게 이런 샀어요 매출액도 2018년까지 5 돼 50억달러 있는데 녹두 출연했는데 33조 를 늘리겠다 2018년까지 구독 경기를 통해서 트위터로 부족한 사람들을 마치 그 내 플렉스 나무 이런것 처럼 구조 경제는 찰나 가니까 하겠다 근데 우즈 메 키 오래 많이 사람들이 느끼는 것 같은데 구독 경제가 너무 많이 하다 보니까 좀 필요하다는 분들 많이 들죠 구독권 깊이로 들어오긴 하는데 이것도 적당히 해야 적당한 이 무엇이다 구독 이야 내가 구독한 것도 세계 시작하니까 끝도 없어 뭐시냐 그리고 적당히 우도 그래야지 그냥 조 될 것 같은걸 왜 자꾸 도구 4 그냥 교우 거 살 내 돈주고 샀는데 그 까지 구독을 해야되나 별거 다 부족하고 진짜 종진 없고 10 친다 라는 얘기가 많이 나오고 요즘에 그래서 화재가 많이 되죠 커뮤니티에서 모 커뮤니티에서 가자 많이 되는거 헹구는 모 자동차 같은 경우에 무술 대체로 끊겨서 무서웠는데 좌석 시트 온유를 기능 있다며 뇌 고독하지 않은 거죠 구도 안하면 은 따끈따끈 애라고 드는게 뚝 것이 벌써 고객님 구독 기간이 끝났습니다 뭐 진짜 차가워진 에요 아니 그거 짜 배운 요즘 들어 있는 거 아냐 깔려 있는 건데 야 그거 구독 하셨다고 거 바이버 캐 뭐 이런 생각을 하는 거죠 헨델 온열기능 아직 합창이 빠 탈이다 가 31일 되니까 어헤드 이렇게 차 보면 구독 만료 구운 10 서는 타 틀어 있는데 이제야 그걸 그래도 되나 그 모티브 그냥 넣어도 될것 같은데 물론 그런거 있죠 전체 소프트웨어 업그레이드 막 한 거 있잖아요 밀리면 못해 3를 같은 경우에 자동차가 멈춰 있을 때 뭐 소프트웨어 업그레이드 한 대 메모 그랬고 기능을 완전히 3차 처럼 만들고 뭐 자율주행 을 뭐 버저 서버라고 가 그러면 당연히 올려도 내릴 수 있는데 좌석 시트 온 열은 나중에는 핸들이 가다가 폭포 캐지 겠네 핸들 구독이 끝났습니다 좌우로 40도 밖에 움직이지 않습니다 제가 뷰 턴이 안됩니다 어요 왜냐하면 풀고 나서 구도 끄다 전화해서 혹이 있을 때 야자 입장이 쭉 빠른 커 프로 프로야 완득이 4 풀어 먹을 수 있잖아요 위험하기 때문에 뭐 그런것까지 아니겠지만 점점 점점 그럼 봐도 하다가 구독을 하고 싶어하는 기업들의 그런 욕망은 알겠는데 가격가 까진 다음에 그 철저히 받겠다는 것은 알겠는데 좀 뭔가 핵심적인 걸 해야지 핵심적인 전체 소프트웨어 퍼져 그래서 한다던지 뭐 잘 기능을 그럼 어떻게 업그레 한다던지 하나야 뭐 온 열기는 이런거 기자 달아보니 거고 앞에 두고 물 물엿 이거 하다가 이렇게 멈춤 이런 어허 어허 결제하세요 어 멈추며 그럴 수도 있겠다 라고 생각이 드는데 네 그러면 좀 피로도를 좀 많이 느끼죠 제가 저런 피로도를 얼마나 느끼는지를 몸으로 보여주는 기억이 바로 구독 경제 대명사 내 플렉스 줘 좀 충격적인 하라 그랬죠 고정비 많아 73% 구독자가 - 갖다 줘 구독자 증가가 - 로 뜨는 어떤 그런 충격을 맞았기 때문에 이런 상황에서 57조 를 없단 말이에요 자 그럼 이제 어떻게 해야되냐 고민을 하는 와중에 잘 보니까 닉 계약을 내가 파괴했을 때 만약에 화기 하면은 위약금이 얼마니 라고 물어보니까 비서가 각과 겠죠 10억 달러 입니다 1.3 조원 캐기 때로 머스크가 계약을 파기할 경우 에 10억 달래 위약금을 내야 된다 생각을 하겠죠 그럼 또 어 지금 위약금 1점 삼족오 지금 - 30 막 퍼센트가 나서 내가 현재 물려 있는게 프리미엄 제외하면 18조 거든요 어 다만 18조 를 포기 한다 그러면 약간 그 그쳐 애가 에센스 많이 했는데 무슨 뭘 만들고 몸 안 되고 했는데 약간 그 책을 깎이는 게 있지만 에 스태그플레이션 이르다고 좀 구도 끔 제가 그렇게 또한 데체 명의 문제냐 18 조 중 말만 잘하면 다시 개학 책을 하면은 57조 가 아니라 이거 47 주에도 계약을 할 수 있을 것 같은 느낌이 살짝 드는 데 게다가 변호사들이 이것만 나를 위해서 잘 해주면 얘 말이 아래 익었다 내줬고 나한테 정부도 안좋고 먹고 쥐들 만들어 사는 짜르고 잘라내는 일전 3조 2 건질 수 있지 않을까 이거 안 5천억 으로 막을 수 있지 않을까 보이죠 이런 생각을 생각을 9 1 보면은 충분히 할 수 있겠죠 자 그러다 보니까 이 베팅을 하는 거죠 까까 주던가 끝까지 돔 좀 받자 답사에 안좋 구동이 안 좋고 메쎄 지금 다하고 있고 어 자이언트 스텝 넣고 모르게 보시 케치 시온주의 인상도 하고 말이야 질 안 좋으니까 30% 깍깍 아주 던가 아니면 디파이 콜드 를 외쳤다는 게 이제 오늘의 주스가 되겠습니다 아 물론 아까도 말씀드렸지만 그게 2.3 조원 된다고 그냥 끝난 야 그건 은 아니죠 요거는 소송 있어서 법정으로 가야됩니다 법장 해서 과연 어떻게 될지 모르겠는데 소송절차에 만약에 소송에 지면 은 원래 거래를 유지하는 쪽으로 할 수 있어요 트위터 이사회는 지금 이거 를 요청하는 것 같은데 많은 사람 이들은 아마 뒤를 하지 않을까 생각을 해요 머스크 더 바라는 것들 이 게 아니냐 1 5조 깎아 달라 요즘 10% 식품 아까도 57조 니까 5조 5초 10% 가까이 말라 너희 많이 것이라 10% 와 깎으면 사줄게 은 오직 가는거고 아니라 20% 할인 음식 조입니다 스피드 10조 그렇게 아마 오른쪽으로 하지 않을까 생각을 많이 하는데 헤드 트위터 입장에서는 무슨 소리하는 거야 그래서 주변 약속대로 57조 원의 사가라 이 걷는데 우리가 사법 영력을 요청하겠다 라고 얘기를 한 거죠 물론 이 사회가 이거를 마음대로 또 10% 싶은 마 깎아 질 수도 없는게 그렇게 깎아 주는 것은 우리나라 면은 아문 수료 모르겠지만 그렇게 깎아주면 소송이 줘 주주 입장에서 장난에 니가 뭔데 깎아 줘 예 내 돈인데 이거면 깎아 줘 식품은 10% 또 우리사주 도 있고 안쪽 50조 면은 개인주중 엄청나기 때문에 소송 합니다 루손 깎아주면 누구 맘대로 그걸 이거 이렇게 되니까 아마 소 성전으로 가지 않을까 생각을 하고 이 와중에 이 트위터로 정신이 없는 와중에 머스크 향은 역시 뉴스메이커 답게 휴 퀄 들을 위해서 열심히 일해 주는 뭐 스캔 오늘도 뉴스를 만들어 보셨죠 어 참 바쁜 형이야 이거 다 언제 하는지 모르겟어 몸이 두 개인가 트위터 바인 수하고 어쩌구 뭐 요즘 분 부족 뭡니까 로케트 드 맨날 쏘면서 뭐 우리가 화성의 모아야 되고 저 가서는 뭐 테슬라가 몇 개를 만들어서 공장을 뭐 어떻게 짓고 여기서 뉴런 링크가 여기서는 또 버 트위터 사네 마네 조성을 거 내 많이 하면서도 할껀 다 해가꼬 쌍둥이를 만들었어요 대단한 형입니다 어떻게 거야 어 연세대 좀 있는데 아 욥 으로 갈 무 소리야 15살이 야 임원과 비밀 연애를 통해서 쌍둥이를 낳았다 음 님 일이 아니게 되었죠 공식이 됐어요 공식이 됐는데 시 본질 리스트 누님 지금 36세 구요 뉴 얼 링크의 임원이나 대대적으로 기사가 나오고 있습니다 이런 모스 코드 인정을 했죠 옛날에 근데 엘론 머스크 향의 이런 얘길 했어요 대한민국 홍콩을 걱정해 준 형이 줘 기억 나시죠 니 그 그렇게 저출산 하면 나라 공개된다 한국은 3 세대에 걸쳐서 망할 것이다 한국과 일본 문제가 일본어 그래도 안돼 하고 건콘 문제가 많다 걱정에 쉬던 형이 어떤 말이에요 그랬는데 갑자기 쌍둥이 헙 어는 이치에 어느 그걸 치약의 오므로 애국을 힘들다고 있죠 사극에 팍팍 나면서 지가 알려진 9 9 2 5 중요한 건 알려진 아이만 원래 7이 얻는데 방금 9 됐죠 이게 얼마 될지 몰라요 더 매치 모르는데 빨려 지나 옷만 9 이기 때문에 쭉 농담인 줄 알았는데 저 상당히 보도가 미국 싶네 쫙 깔려 써요 짜 까니까 모스크 아저씨가 트위터로 뭐라고 했느냐 전 이거보고 진짜 대단하다 훌륭한 사람이 되려면 저정도 에그 백호 어떻게 보면 뻗거나 이게 필요하다 뭐라고 했느냐 너희 모두가 대 가족이 되기를 바란다 어 출산율과 애국을 위해서 인구감소를 하고 있는데 실제로 있겠어요 대가족이 되기를 바란다 나처럼 말이야 어 우리를 말이야 나인 칠드런 이미 태 가족이라면 컴 근래 츄 레이션 트 1 타회사 해드려 그렇죠 약의 자기 부하 직원 열자 쌀 그거 그렇게 해서 그렇게 이 참고로 그때 당시에 그 동부 하는 분도 화이트 마이트 그리고 나서 다짐도 하셨습니다 뭐라고 다짐을 하셔야 라는 이렇게 u 실제로 이 품에 7월 7월 7일 얼마전에 보도 나온 다음에 인구감소 의 기 반기 를 위해 최선을 다하겠다 현찰 크럼 어 밤마다 최선을 다 하시는 거죠 뭘로 최선을 다하지 모르겠지만 그 밤마다 인구감소 유기 반기를 위해서 열심히 바빠죽겠는데 저 목회도 싸이 대구 죽은 뭐 화 정도 가야 되고 트위터 더 바쁘고 이렇게 그쵸 테 슬러 도 안되지만 릭 좀 하란 말이야 2 잉 마이 베스트 써있죠 여러분들도 뒤이어 베스트 꼭 하시기 바랍니다 어쩌나요 저출산 유기 어 저 인구 얘기를 위해서 이렇게 나처럼 최선의 노력을 다 너의 문명 ab 키 스 트 대 인격 아 될 수 있다 저들 나오잖아요 출산을 국민은 력을 방지하기 위해서 내가 159 원하는걸 어기게 무엇이 팩스를 통해서 화성으로 한 것도 있지만 그 밤마다 이 최선을 다해서 원 하고 계시다 주 지키겠습니다 해지지 옛날 얘기 한번 가져 온 게 아니에요 진짜 그렇게 얘기해서 야다 좀 마인드 유 튜 브 라 운 본 받아야 된다 유튜버 라고 유튜버 라면 이런 마인드 더홈 받아야죠 누가 뭐라 하건 간에 내 생각은 툭 마이 베스트 atm 기에 대해서 정말 높은 받아야 되는 파일들의 아닌가 생각을 하는데 이걸 보면서 일침을 날린 분이 있죠 버스타 원래 사이가 안좋았던 마이클 뻘이 라는 분이 있습니다 2분 아니에요 이건 제가 빅쇼 빅서 주인공인데 빅쇼 3 이제 크리스찬 아저씨 이 사진을 악공 거고 입은 사실 안고 다 못 알아볼 테니까 픽 슛에 츄잉 골랐던 마이크 베리드 실제 있는 인물이죠 이번 이런 얘기 했어요 무슨 말도 안되는 소리야 원래 사이가 안좋은데 야 낮은 출산을 해결이 라는게 상사가 부하 직원과 어어 밤마다 그걸 이렇게 잠자리를 해야 되는게 그의 드러냄 이냐 해봐야 그쵸 그게 더 국가적 출산율 해결이 를 그렇게 하는게 그게 말이 되냐 저 일침 이긴한데 맞는 말이죠 창사 갑부가 직원과 그 잠자리 를 해야 한다는게 낮을 수단이 해결하는 것은 아니다 라고 일침을 날려 졌죠 어조 뭐가 맞는지는 잘 모르겠지만 누가 보더라도 출산을 해결로 그걸 하면 되나 멋있긴 하는 생각이 약간 들었는데 뭐 뭐 머스크 아저씨는 그랬더니 까 참고로 좀 하직할 찍어줬다 저리 등 된거 이 크라임스 하고 있죠 지금 같이 안 살지만 얼마 전까지 같이 살고 있던 그라 임스 사실혼 관계였던 그라 임스 두번째 자녀를 낳기 직전에 쌍둥이를 낳았다 아까 이쪽에서 두번째 다녀갈 벽을 쪽에서 클릭 테트 국가적 출산율 제고를 위해서 위기에 대응하기 약하다 저희 그제 값만 아닙니다 두잎 많이 베스트 하기 위해서 o 2 크라이시스 의 베스트 하기 위해서 이렇게 열심히 노력했다는 게 리버스 형의 내용이 되겠습니다 생각하신 것 같아요 본 받아야 된다 조 멘탈 부럽다 그렇다 사실은 이런 얘기는 화기가 싫었어요 너무 황색 언론 같은 그런 타블로이드판 에 나올 것 같은 그런 쪼끔 얘기긴 한데 요즘 너무 시끄러워 그럼 이제 머스크 얘기는 지 좋아서 안하려고 했는데 아니 유튜브로 라면은 안할 수 없는 주제를 자꾸 일을 해 아직 이런 황색 타블로 적인 얘기 이런 수준 떨어지는 얘기 니가 자꾸 조회 수 만 눌러서 이런거 한다고 얘기 하실까봐 이거 한동안 하고 있었는데 아니 보자보자 하니까 좀 적당히 해야지 참을 수 없는 지경까지 가서 어쩔 수 없이 가져온 제공합니다 이거는 피할 수 없었다 월스트리트저널은 특집 기사가 난 순간에 야 이거는 안아줘 수 없다 참을 수 없이 손이 나갔던 바로 그 일을 하셨습니다 월스트리트저널에 얼마전에 독점 특집기사 올랐어요 이것때문에 세기가 뜨거웠습니다 일로 머스크 와 세리 게 불인 구글 구글 창업주 공동 창업주 우정이 불륜으로 바 타났다 털 야 이거 이렇게 자극적인 내용을 알 잠깐만 이거 아마 안되는데 이건 옐로우 페이퍼 들이라는 거지 쿼리가 할순 없는데 참을 수 없습니다 죄송합니다 장 봅시다 어떤 내용인지 일로 모습과 3개의 구이를 내 우정이나 같다라는 내용인데 3 릭이 불이 누굽니까 구글의 공동창업자 의 자유투 우리 알고리즘 님의 주인님이 줘 청 93년생 이고요 제사는 1천억 달러 뭐 워낙 많이 왔다갔다 해요 뭐 2분들은 뭐 1일 잊어 왔다갔다 하는건 왔다고 생각을 하니까 백조 넘죠 대충 130조 베리 페이지 라 같이 공동 창업해 쪼 2분도 뭐 이적 달라 묻혀 $500 모은 800대 왔다갔다 해요 또한 백제에서 이렇게 맡았다는 분들입니다 자 이런 분들이 라고 할 수 있는데 2 근데 딴 데 가 무슨 뭐 좀 황색 언론 얘기했으면 재앙 같구려 그랬는데 아니 이걸 월스트리트저널이 특집기사를 내내 타 아예 안 조금 그처럼 날라리 같은 데가 됐으며 4시 보우 지온 단소리 고만 하고 넘어가려고 했는데 os 트 저널이 이걸 특집기사를 했어요 뭐라고 그랬냐 엘론 머스크 셀 괴물인 의 아내가 불륜을 자 들러서 2 억만장자 들의 올해도 정의 끝났다 아무런 얘기도 하기 전에 항상 담자 드리지만 이번주는 특별히 더 감사드립니다 어떻게 단 한 주도 조용한 주간 없이 매주 그렇게 색다르고 다른 항상 다른 이야기들로 콘텐츠를 채워주시는 g 대단해요 그냥 유튜브 하셨으면 대박 나셔서 쓸 것 같다 비탄 얘기라 됐으면 제가 이번 주도 건너 가려 그랬는데 어떻게 매주 그렇게 참 그 시끄러워 주제를 잘 만드시는 지그 능력도 4시 한번 경의를 표하고 요 9시 다 구글 창업자 세르게이 부인의 두 번째 부인 되십니다 가운데에는 니콜 씨의 넣어 니라고 부르시고 요 그걸 2 머스크 하고 뭔가 썸씽 스페셜 한계 있었다 참고로 전 니콜 샤넌 유명하지 않으시죠 이거 일반 이니까 1989년생 이고 미국의 입니다 중국계 미국인으로 됐지만 미국에서 태어나서 미국의 잘 알았으니까 뭐 마지막으로 사실상 미국이 있는데 아시아 쪽 주먹에 피가 있다는 거고 불인가 는 2018년에 교회에서 딸도 한명 있어요 현재 이혼 소송 중 이라고 합니다 ost 전 어리고 뭐라고 했냐 이렇게 살겠어요 색이 브링 가시어 놓은 이혼 소송 중인 데 그 이유가 부리니 쉔 원과 머스크가 썸씽 스페셜 하다는 말게 된 이후에 소송을 제기했고 그래서 머스크가 부 에게 무릎을 꿇고 용서를 빌었다 아 세계 최고의 부자가 200조 부자가 백조 부자 한테 무릎을 꿇고 비로 내가 돈도 많지만 뭐야 돼 조금이라도 돈이 없는 니가 요소의 주겠니 라고 얘기를 했다는 거죠 그렇죠 그래서 더 대표 밖에 없는 더 가 용서를 해야지 200조 넘는 내가 용서를 하겠냐 뭐 이런 얘기를 해서 용서를 빌었다 라는걸 기사로 됐는데 이거 기사를 낸다 왜 이게 진짠가 야 아무리 월스트리트저널이 요 이게 진짜 말하고 생각을 하고 만 3d 물어봐 끝에 머스크 한테 가서 여행가 야도 물 꿇고 눈물을 의미 그랬더니 지금 베스크가 분노의 티스 를 알려졌죠 분들 어떻게 써야 이걸 얘기해도 되나 bs 뭐야 짜리 아시겠죠 불 불 얘길 되나 불 이거 이렇게 똑같은 소리 하지 마라 왜 말도 안 되는 소리 하지 마라 이고 완전한 헛소리가 쓰리 게이 와 나는 친구고 진짜 친구 를 이용합니다 집에서 맨날 뭐가 시장 걸로 유명해요 옛날부터 어제 파티에도 같이 썼어 어 난 은근히 네가 분리를 위한 드니 코를 3년 동안 두 번 밖에 보지 못했어 두 분 모두 많은 사람들과 함께 있었어 말도 안되는 소리 마라 나 씩 로맨틱 키다 로맨틱하게 아무것도 없었다 완전한 헛소리를 하지 마라 그리고 사진도 올려 주셨죠 이렇게 증거 사진이다 우린 불이 0 얼굴이 좀 한자씩 거 같은데 샤 이거 자다 깨 션 나라 조금 더 너무 자유로운 거 아닌가 백조 문자라고 해가 대표 있으면 모여 되긴 하지만 너무 자유로운 표정인데 우리 어크 제 이렇게 놀았어 어 내가 무릎꿇고 어둔 없는 니가 용서해라 그랬으면 이런 표지도 나왔기에 있냐 아니다 좀 불 허 술이다 라고 이제 이런 마스크가 얘기했죠 그리고 니콜레 변호사 이온 조성하고 있는 부리네 와이프 변호사도 기사가 거지 실외기를 습니다 보면 명예를 훼손하는 것이다 바람을 폈다는 기사는 명백한 거짓말이다 라고 얘길 했어요 의사 올티 전을 틀렸군 아 얘 늘 그런 틀리기 살리고 어떡하냐 라고 생각을 했고 머스크 도 분노에 트위터를 시작했죠 2분의 문제 당사 분노를 트위터로 한다는데 있습니다 트위터로 뭐라고 하느냐 월스트리트 들을 전화 해 봐라 굉장히 이제 타블로이드 에 불과하다 저널리즘이 없는 놈들이야 멀티 저널은 하도 헛소리를 많이 해서 이제는 셀 수도 없다 나는 너무나 쉼 하고 입매 로서 너무 부끄러워 야 어떻게 저게 신문 이냐 어스 2개월로 아니냐 이런 얘기 라고 옛날에 경험적 이어졌어요 1c 채널이 한번은 fbi 가 나를 체포 한다는 기사를 올렸다 내가 f 에 전화해 봤더니 fbi 도 너희가 쓰레기 라고 하더라 다구 이제 분노의 트윗을 폭풍 티즈 올렸죠 얼마나 분노 있는 지면이 트위터와 우퍼 더라도 부품 q 쉬지 않고 올리면서 아 그랬구나 라고 얘기해서 많은 사람들이 그러면 아 알겠어 알겠어 ost 저널이 쓰레기라고 그러면 말도 안되는 걸렸으니까 부탁하면 되요 뭐 이렇게 고소하면 되지 확실한 에 고 수 없느 줘 그렇게 말도 안되는 올렸으면 고수의 라고 했더니 머스크가 듣더니 어 아니다 라는 퍼블릭 펄스 02.02 는 결론을 상대로 명예훼손으로 이기는게 어려워 왜냐하면 은 날 악마 라고 기대했다 그래도 걔들은 네비 저리 라고 얘기하면 되기 때문에 공인은 내 운명 에서는 이길 수 없어 때 소송은 안해 짧은 뜨 성벽의 많이 들 테니까 돈의 돔 없는 분이라면 모두 도 알 수 있는데 300원의 200조 내 하는 부자가 자기 흠 객담 바 친구하고 그거 했다 곡 올렸는데 그걸 참나 컬 고소한 알아 3 들여 크루져 고소한 할 이유가 있나 그랬더니 이렇게 얘기했습니다 나말고 니콜이 해라 니콜은 퍼블릭 펄 쓰니 아니니까 이길 수 있다 라는 니콜이 고소 아기를 심한 한다 그 여성분 파이프 그걸 왜 글루 넘겨 와우 비트코인 도 나는 팔지마 너는 갖고 있어라 뭐 이렇게 얘기 하시던 2 니가 해라 라고 지금 옮기실 상황이라고 할 수 있죠 근데 이쯤되면 고 스 2가 나오니까 니콜이 고 소화도 머스트 5 소아 돈 월 스쳐 늘이 미안하다 아임 쏘리 잘못 알았다 기사들이 있게 하고 사과를 해야 되는데 가서 보심 알겠지만 제가 이자로 만들던 시기 까지만 하더라도 기사를 안 내렸어 대문짝만하게 써 해외생활 뺐다 있습니다 맨 앞에 당당하게 떠났어야 고소 한다는데 야 세계 최고 부자 호소하면 이 얼마나 위세로 얼마나 올지도 모르는데 이거 어떻게 이들이 이걸 올리고 있어 빨리 내려 월스트릿 저널 이렇게 하겠습니다 확실한 소스가 있다 해보셨던 다 커버 커 소송 컴 합니다 야 세계 최고의 부자 하고 머리 부딪치 가 쉽지 않은데 컨피던스 1 소식이 있다 야우리 써야 것들을 보든가 한번 와 봐바 우리는 우리의 레포트를 스탠드 r 이제 할 거야 그들이 있어 걸어가 자신있으면 걸어 사시겠습니까 야 와 이런 커피도 될껍니다 초과시 쓰면 걸어 모든것 되며 보시던가 장구 에게 떤 이제 뭐니 쿼리 걸어라 뭐 이런 얘기를 하고 있는건데 그러면 확실한 소스 야 확실한 소스는 누굽니까 이고 와이프 하고 친구가 섬싱 스페셜 험 오래 쓰면 확실히 카스를 다이소 쓴 누가 키울 거야 그래서 호스텔 사람들도 물어봤어요 왜 네 확실한 쏠 수 있다는데 혹시 세력이 부리니 제 느끼는 거 아니냐 이혼소송 하니까 그게 뭐 스캇 압도 했어요 내가 전화해 봤어 세렉 에디션 해봐서 해 이끌어 야 니가 올 수청을 에이 그건 냐 그랬더니 어느 한쪽이 다 라고 얘기했다고 난 확인했다 우리는 아니라 소스 찾고 있을 쪼 찾고 아 그러면 이쯤에서 때리기 가 - 주면 되죠 내부 인가 어 머스크 친구는 그런 일이 없고 내가 이후 소중한 건 그 때문 한게 아니야 여기를 주면 되는데 에 아무런 언급을 안하고 현재까지는 아무 번 언급을 하고 있지 않아요 사람들에서 보면서 쟤는 왜 가만히 있나 쟤는 왜 아니 자기 친구가 저렇게 고난의 빠져있는데 돈이 없어 그런가 조금 9척 자기 보다 2배 부자 긴 하지만 돈이 없어서 가만히 있나 왜 함안 있을까 라는 생각을 불충 하게 하고 있죠 물론 머스크는 이렇게 얘기하고 있습니다 언론이 진실을 추구하는 기회가 아닌 클릭 을 추구하는 기회가 되어 있다 그래서 내가 트위터를 사서 이렇게 진실을 추가하려고 했는데 말이야 어 그거 못사고 말이요 멀 숫자들이 다 클릭을 추구하려 되냐 클릭을 가장 많이 추구 하신 분이 우리 편으로 관 종이라 그러죠 그 예 제 생일이 약간 색이 되게 하는데 하이트 뭐 좀 다르긴 하지만 언론이 언론 답지 못하다고 제 인가를 날려주시고 있습니다 그래서 세계가 반으로 쫙 쪼개져 있어요 무슨 세계 미국 커뮤니티 세계가 일로 머스크 를 지키는 팀과 일로 마스트를 까는 팀 가서 보시면 압니다 줘 미국 커뮤니티를 돌아다니며 냇가 보고 그러니까 싸우고 있어요 뭘로 싸운 야 뭐 를 맡고 있죠 지금 테슬라 주죠 도지 암이 그죠 머 스 터 팩 이런 분들이 많구요 그럼 할꺼 맞춰 할꺼 않고 언론들은 반대 0 언론들은 힘 합쳐서 쪽을 까고 있습니다 언론이 얼마나 힘을 합쳐 냐 이런 그림들이 나오고 있어요 일종의 풍자 드림 인데 렌즈 100m 면적 저널리스트 면 접할 때 아닌 내가 왜 당신을 고용해야 됩니까 저는 일러 마스크를 싫어합니다 합격 한다는게 휠 미국 언론계의 이렇다고 합니다 요즘에 저희 얘길 하면 바로 학교 아 당시 싫어 합니까 오케 그걸 쓰세요 지금부터 드시면 됩니다 라 구하는게 이제 미국의 상황 이라고 하죠 작은데 머스크는 사실 할말이 없는게 이 사건 하나만 있었으면 사람들이 그러냐고 넘어 갔을 거에요 그랬는데 제가 옛날에 이거는 얘기 안 했어요 왜냐면 너무 황색 타블로의 덜렁 같은 얘기 어서 안 했는데 여러분들의 유명한 2016년에 조니 뎁과 리 캐러비안 베이 해적과 앰버 허드 누나가 소송전 되는데 있습니다 이때 전의 대비 주전 한계 자기 와이프 인 엠버허드 가 모스크와 섬싱 스페셜 있었다 거쳐 그랬어요 법정에서 근데 너무 타오르다 같은 내용이어서 아이모 증명도 안된다고 넘어 왔는데 이번에는 조니 뎁이 아니라 세력이 부린 의 부인과 또 했다는 거면 머스크는 어비스 틈 갑을 살짝 안 되는데 만약 이게 정답 이라면 멤버 카드가 누구입니까 영화 쿠아 맨 의 히로인 아시죠 총액 86년생 이 고아 컴에 재미있게 보신 분들은 가장 예쁘게 나오고 그 두 날아갈 수 있는데 물론 제 얘길 했을 때 머드 강력하게 부인을 했어요 법정에서 물어 보이느냐 존이 될까 결혼 생활 할 때 머스크 루퍼 면 그 누구와도 파란 피 적이 없다 뭐 캐러비안 비해 적 조니 뎁은 나를 14번 공격했고 그는 와이프 비터 나를 때린 폭력을 사용한 사람에 불과하다 라고 주장을 했죠 그랬더니 조니 뎁이 열받아서 법정에서 공개한 게 여러분들 많이 보셨던 시 실제 배경색을 콩 개처럼 어려도 클로즈업 뜰 거에요 이거 조니뎁 집이죠 내 집에서 야시 스팀이 둘이 이러고 타던 데 라는 걸 공개 했습니까 공개 하니까 인데 이 시스 tv 발짝 없잖아요 갑자기 그 저택의 말을 바꿨죠 뭐라고 말을 바꿔 냐 어 결혼 기간동안 아니었다 그건 기간동안 진짜 이렇게 써 기간동안 아니고 11 이혼소송 한 다음에 그 다음에 일이었고 심지어 l 이 둘은 공식커플 선언 했어요 2016년에 머스크 의원을 하고 둘이 공식커플 됐죠 이거 뭐 그럭 확인 해 누린 결혼 기간동안 아니었어 * 키가 또한 예를 들면 머스크는 이렇게 엠버가 결혼생활 중 이었을 때는 근처에 있지도 않았다 이런 얘기를 해 줘 첩보액션 초 너무 타블로이드 처럼 가는데 죄송합니다 죄송합니다 이럴려고 않았는데 했더니 커플은 아시겠지만 2017년에 결별 성명을 했어요 각자의 길을 가게 따 그리고 끝날 줄 알았는데 야 이 계속 있어 유은 자치 씨즈 않은거 같아요 이 지치지도 아너 이용한 계속 나오는데 이번에는 m 버드와 일론 모스크 그리고 그 유명한 카라 델레바인 의 삼각 스캔들이 또 났었죠 이때도 제가 참았습니다 이때도 c 컬 유수율 안 가봤어요 이걸 재미있게 보고 있었지만 이런거를 하는 가져올 수 없다 라고 했는데 뭘 티저 때문에 아유 하고 한 거야 거기 됐지만 2분야에 3명이 3a 의 옆에 어 능력이 진짜 출중하다 뭐 이정도면 거의 야수가 아닌가 생각이 되는데 이게 진짜인지는 모르겠지만 3명이 그 쓰리 어페어 를 3명이 러브러브 이런 생각을 하니까 물론 이걸 누가 얘기 했냐 존이 될까 엠버허드 가 아직도 법정 다툼을 하고 있었기 때문에 그 때 법정 다툼이 증인이 나도 누가 증언을 한 것 지금은 옆에 있는 누르라는 친구 가서 3명이 앰버 허드 아직 결혼 중 때 스캔들 읽겠다고 질문을 한건데 물론 머스크는 당연히 강력 부인했습니다 그렇죠 카라 아까 전에 그 가운데 있는 그 친구 카라가 나 친구입니다 친밀한 사이가 아니기 때문에 확인을 해줄 거다 뭐 나니 교제 결혼 생활이 그런 적이 없다 라고 이랬는데 또 이번에 들더니 문제 쓰니까 공개 됐죠 하아 진짜 아 그만 하겠습니다 너무 질 탕으로 가서 이번에도 문자 메세지가 관계에 대해서 열로 머스크 하고 이오나 송 이야기를 나누는 문자메세지 할 이온 전에는 몰라 때문에 그랬는데 이야기를 나누는 부채 쓰게 나오고 이런 머스크가 저장이 되어 있기를 로켓맨 으로 저장이 되어 있죠 물론 그 화성 어를 로케 쏘는 스피 섹스 로켓맨 이기도 하지만 이 외국에서 로켓맨 해라 그러면 보통 그 회색 줘 환류 가 되게 훌륭하고 크고 훌륭한 번 을 뜻하기 때문에 많은 사람들이 그 좀 풀어 왔죠 이 아 제가 돈도 200도 300 좋은데로 캠 데니아 그렇게 거대한 우리 생각을 하기 때문에 로켓맨 이 되게 많이 또 부러움을 받았고요 해당 아 이건 끝이 아니라 얘기 너무 좀 3류 스러워서 너무 하고 끝이 아니라 참에 나왔지만 또 그 와중에 부하 직원과 쌍 중에 소식을 전해 줘 그리고 그 외에 쌍도 아직 뭔가 쌍둥이의 만들었냐 그랬더니 출산율 저하를 위해 밤마다 노력하고 있다고 이런 또 정말 새로운 드리울 알렸고 요 게다가 또 얼마전에 승무원의 대해서 성취 꽤 물론 성취는 또 이건 또 성충 좋습니까 라고 했더니 이번에는 어떨 리언 투로 물론 그런 저건 절대 없다 부인 하느라 바쁜데 그 와중에 저출산 을 걱정하면서 릴로 머스크 형의 밝혀진 아이 수만 10명 이구요 * 명인데 참고로 아이 엄마가 지금까지 나온 아기 엄마가 대리모 까지 치며 는 4명입니다 그러니까 그 싫고 그 내 병이 아까 저를 3명 o 더하고 또 로 더하고 뭐 더 아이트 테슬라 자동차 만들고 공장 세우고 스페이스 x 발사하고 화성 기획사 가지고 늘어 링크로 인간 내 책도 받고 터널 5% 땅 고파서 교통 혁신 계획 세우고 트위터 인수한 안에 하면서 아이를 열면 만들고 엄마를 4명 만드는데 3명과 연애도 하고 선문 되잖아 분이죠 로켓맨 아 음 아 그 대단한 분이 아닐까 생각을 하고요 실제 모델이 얻죠 우리 아이언맨 의 실제 모델인 데 왜 아이언맨이 얻는 지를 지금와서 보니까 확실히 이해할 수 있구요 그러다가 m 버드가 얼마전에 딸을 낳았습니다 대리모 출산을 했어요 아기 정말 예뻐요 우나 페이지 허드 라 그랬는데 문제는 뭐 사용해서 흥이 있는 일이기는 안돼 프라이버시 때문에 아빠를 안 박혀 써 다들 그랬어 어 정말 사랑 선례 를 많이 하고 있죠 이것때문에 또 사용에서는 애기 이뻐요 이타미 사진 많이 올려 하는데 이 아이 아빠가 누구야 어 혹시 로켓맨 이야 뭐 이런 또 이런 불충한 생각들을 더 많이 하는 독이 있고 머스턴 테다 너무 한거 아니냐 하더라 너무 지치지 않냐 그랬더니 성명을 했어요 뭐라고 했냐 성령이라고 단 얘기를 했죠 뭐라고 인생은 너무 짧다 아 아 명언을 알려 줘 소송과 관련해 서 모 음 뭐 이런 복잡한 일이 있지만 내가 그거 에만 신경을 쓰기에 인생론 부정적인 생각만 하기엔 먹어 짧아 모든 것이 다 끝난 다음에 법정 같은 계속 노래하는 거 누가 봐야겠어 그런거 신경쓰지말고 즐겨야지 인생은 그 정적으로 보기엔 너무 짧다 라이프 이스트 쇼 이것은 돌이 나라도 많이 드러낸 미가 얻어 들었냐 하면 공룡들이 옛날에 들었죠 아버지는 말하셨지 인생을 즐겨라 자 다시한번 추억 소 않을 해보도록 하겠습니다 자 머스크가 따이 마인드 2 마인드 마 쓰기 예 어 마 인 드 이게 아닌가 생각을 하는데 어 저는 머스크 형한테 뭐 할말은 없지만 참고로 저의 아버지는 말하셨지 인생을 즐겨라 요거 조금있다가 우리나라에서 카드사 터집니다 그렇게 이걸로 카드 열심히 긋고 인생을 즐겨라 곡을 다가 가사 터져서 그때 lg 카드가 나 예 무슨 소리야 파이튼 날라 가면서 lg 가 아직까지 금융이 없어요 이 시작하다 너무 하고 하는 가스 끝에 원흉이 됐는데 아버지는 말하셨지 인생을 즐겨라 머스크 이 마인드로 사는구나 라고 생각을 했는데 농담이 아니었어요 진짜 않습니다 또 뭐가 있냐 또 있죠 확실합니다 저 말은 진짜 아버지가 말 하셨던 것으로 현재 추정되고 있어요 왜냐하면 이번엔 일로 마스크 아버지까지 얘기가 나오고 있어 물론 스케 아버지가 양녀 와 c 크리 차일드 를 만들었다 스텝 도로와 7월 14일 어 일론 머스크 아버지도 사랑해 졌구나 아니야 지금 처음 뵙습니다 정비 안녕하세요 살아 계셨습니다 진짜 아버지가 말해줬던 거죠 아버지는 성함이 무엇이냐 머스트 옴은 lr 머스크 매일 살 때부터 키운 양녀 이름도 어려운 야 나 배 주위 된 후 트 해트 야 나와 76세 옷 35세 인데 아이를 만들었다 잘 키워 자기 직접 다른 아니고 약력 약력 4살때 키운 딸인데 기사에 따르면 님께 뭐 너무 어질어질 하니까요 마저 잘못 쓴거 아냐 스텝 토토 나고 딸을 만들었다고 미국회사 시작이 이래요 니가 읽고 있는 게 맞다 정신이 혼미해질 것 같지만 이야기는 맞다 맞아 와서 틀리게 쓴 거 아니야 무상이 보지가 맞다 에러 머스크는 양녀 와 두 명의 아이가 있다 한 명도 아니고 딸하나 아들하나 그 기억나는 어떻게 들어오신 분 일에 에러를 1992년 애가 3명이 있던 그때 당시에 과부하 이드와 결혼을 했는데 이 하인드 그때 와이프가 데려왔던 l 중에 한 명이 야 나 다 현재의 럴 2장의 엄마다 딸인데 와이프 고 내 자녀의 엄마다 아 뭐 뭐 이렇게 됐다는 거죠 그럼 머스크 입장에서 얘기를 해보면 여동생 인데 엄마예요 조카가 있는데 조크 아 동생이 줘 예 요 동생인데 엄마하고 조카가 동생이 촉촉한 동생입니다 그렇게 애는 건데 이 에러를 머스크 머스크 영의 아버지가 머스트 영은 인생은 짧다 인생을 즐겨라 그랬고 외로울 머스크 아저씨는 한수를 터 떴어요 모르고 일은 요 인터뷰 됐습니다 대단한 이 마인드를 소주 굳건하게 흔들리지 않는 말이 너희들이 뭐라고 하건 간에 흔들리지 않아 뭐뭐 2명과 녹음 불러 라고 3명과 돌과 라이프 2 더슈얼 이렇게 얘기하니까 아버지는 뭐라고 했냐 우리 다 지금의 온 목적은 번 식이다 아 아 세다 아버지가 더 쎈데 여기서 우리가 얼스 에 o 온리 쓰인 오직 하나의 목적은 니플 줬어요 그 머스크가 밤마다 그 열심히 노력하면서 저출산을 위해서 10명의 리 프로듀싱을 한 이유가 있죠 아버지가 없이 계신게 아닌가 이 프로세스가 목적이고 내가 다른 아이를 가질 수 있다면 그렇게 하지 않은 이유가 없다 에 구애의 목적이 그 립 프로듀스 유플 소유한 생각했습니다 여러분들도 밤마다 일이 풀이 리스 좀 하실 필요가 있어요 우리나라 지금 0.8 것입니까 * 파일 붙임 16점 싫어해 생겼어 꼭 힘들게 시 미리 프로세스를 좀 하시면 되지 않을까 에러 앨버스 크 아저씨에 좋은 이라고 할 수 있습니다 조언이라고 아버지한테 배웠기 때문에 지금 머스크 향은 그대로 실천을 해서 공식 10명 비고 시도 몰라요 태우기 지금 몰라요 정확한 숫자는 아무도 모른다 그런 상황에 돼 있구요 이러다 보니까 외국에서 머스크 미미 쏟아지고 있습니다 1 이면 이런거 차례 아직도 공장에서 자나 옛날에 테슬라 바 만들때 머스크가 그렇게 겠어요 나는 태세를 공장에서 맨날 먹고 자고 있다 그렇기 때문에 너희들을 재택 근무를 하면 안된다 라는 공전의 나와서 잠에서 공장을 돌렸는데 제테크 물음 그렇게 심의를 않는다 그래서 테슬라가 성공할 때 얘기를 들었었거든요 나는 공장에서 잔다 이제 알루 스틸 슬리핑 앱 털이 아직도 공장에서 자입니까 아니면 썸 바디스 와이프 하고 합니다 어부 그렇죠 또 이런 그림들이 이제 쏟아지고 있는데 좋게 했더니 버스가 이렇게 이랬어요 오해다 닛산 더스트 5회 달하는 오래 했어 어 올해 뭐라 가게나 되겠지만 어인 ag 스탯 오늘 그 어 그거 말이야 니플 지층이 사이트 마다 하는게 좀 오래됐어요 아기오리 애써 아 진짜 네 참 보여줄 수도 없고 말할 수도 없고 할기 좀 했을 때 저희가 오래 했다고 이렇게 많은 사람들이 여러분도 아마 그릇이 있겠지만 이런 표정을 짓고 있죠 야에 10명의 지금 공식 엄마만 매 명에 그쳐 뭐 중간에 뭐 3명과 쓰리 웨이 가 있고 모이게 있고 이게 있고 이게 아 예예 1볼 올해 될것 같긴 해요 오히려 표지 얘기하지만 하여튼 바람 잘 날 없는 자 말 그대로 바람 잘 날 없는 이야기를 기냥 컨텐츠를 몸으로 그냥 콱 쏟아내고 있는 머 스 02 아닌가 생각합니다 [음악] tee\""
      ]
     },
     "metadata": {},
     "output_type": "display_data"
    },
    {
     "name": "stdout",
     "output_type": "stream",
     "text": [
      "relatedness=0.838\n"
     ]
    },
    {
     "data": {
      "text/plain": [
       "'Title: 머스크, 애플 전쟁 선포; Description: 0:00 ~ 10:53 머스크, 애플에게 전쟁을 선포하다 10:53 ~ 12:55 전투에 가세하는 EU 12:55 ~ 24:04 머스크가 거대한 적들과 싸우는 ...; Content: 자 첫 번째 얘기는 머스크와 애플 전쟁 머스크가 또 애플과 싸우고 있다 저는 개인적으로 그렇게 생각합니다 그 참 체력이 좋은 형이다 참 체력 좋아요 어쩜 그렇게 매주 매달 뭘 만드니? 이 컨텐츠 생산능력과 그 체력, 열정 존경합니다 어떻게 그렇게 좋지?ㅎㅎ 뭐 하여튼 뭘 만들어! 그러면서도 보면은 뭐 누구랑 2명과 즐겁게 지냈다 뭐 이런 뉴스도 뜨고 지금 애가 뭐 10명이냐 11명이냐 뭐 이런 얘기를 하면서 뭐 트위터도 인수를 하고 자율주행 차도 가야 되는데 테슬라 주가도 (관리)해야 되고 요즘에 머리에 칩도 꽂고 있습니다 머리에 칩도 꼽아야 되는데 애플하고 싸우기도 해 정말 대단한 형이라고 할 수 있는데요 자 주간 머스크, 그쵸 주간 테슬라 다시 한 번 나왔습니다 자 그럼 또 왜 싸우냐 이 형은 이번엔 머스크가 먼저 트윗으로 포문을 날렸죠 애플이 트위터에 광고를 거의 중단했다 니들 내가 트위터 산 다음에 왜 광고 빼 장난해!? 너희는 뭐를 두려워하냐? 어 내가 지금 언론의 자유를 이렇게 트위터에 만들고 있는데 애플은 미국에서 언론의 자유를 두려워하는가 너희들 이거 싫어하는 거냐 어 내가 곧 자유잖아요 지금 언론의 자유를 하고 있는데 애플은 왜 이거를 싫어해서 돈을 빼냐 라고 일성을 날렸죠 근데 이 머스크 트위터 주인 입장에서 애플한테 뭐라 그러기가 사실 되게 힘들어요 왜 힘드냐? 애플은 트위터의 최대 광고주 중 하나입니다 사실상 최대 광고주에 가까워요 지난 1분기에만 4,800만 달러니까 이게 얼마입니까 거의 6백억 넘는 돈을 트위터에 광고비로 줬어요 그러니까 최대 광고주야 그런데 자기 광고주한테 삿대질하는 거죠 보통 사람은 아니죠 제정신이 아니거나 보통이 아니거나 두 개 중에 하나인데 뭐 하여튼 뭐든 간에 보통은 아닌 건 확실합니다 그러니까 어마무지한 광고주한테 지금 삿대질을 하는 거니까 네가 어? 언론의 자유가 싫으냐고 너는 그 언론의 자유를 반대로 가는 요즘 같으면 뭐라 그럽니까 요즘에 뭐 차별주의자 뭐 이런 거 얘기하는 거잖아요 어.. 대단하다고 할 수 있고요 자 그런데 생각해보면 애플이 트위터에 광고를 줄였다고 CEO가 저렇게 직접 나서서 돌직구를 던지는 게 일반적인 모습은 아니죠 왜냐면 광고 담당이 있잖아 회사에는 광고 담당들이 있어요 광고 담당 임원 이제 그런 쪽이 애플하고 뭐 샤바 샤바 얘기하면서  왜 줄었냐, 늘려달라 뭐 이런걸 하는 건데 아니 광고 담당 임원은 어디가고 CEO가 저렇게 난리 치냐? 어... 광고 담당 임원은? 잘렸습니다 잘렸기 때문에 ㅎㅎ많이 잘랐죠 자르다 보니까- 어 야 광고c 망했어 야 들어오라 그래! ..없는데요? 아 없지! 그렇지 없지ㅎ 이거 자기가 해야 됩니다 아 그치ㅎ 들어 오라 그랬는데 들어오는 사람이 없죠 아 담당 임원이 없는데 잘랐기 때문에 그래서 자기가 직접 이렇게 전화를 하고 있습니다ㅎ 잘 잘라야 돼 너무 많이 잘랐어 이것저것 잘랐기 때문에 뭐 보통 없어요 저긴 아마 커피 리필도 안 될걸? 리필하는 직원 잘리지 않았을까 생각을 하는데 그래서 어!? 하는데 없다는 게 요 사건이었고요 물론 머스크는 열을 내고 있죠 아니 애플은 너희 언론 자유를 지지하지 않는 거냐 어? 뭐가 무섭냐 우리는 검열 하지 않고 다 보여 주는데 너희 애플은 앱 스토어 그거 맨날 검열해대고 뭘 그리 검열해대고 있는 거야 그런 검열 하지 마라 그러면서 머스크가 설문조사까지 트위터에 올렸어요  뭐라고 올렸냐? 애플은 고객에게 영향을 미치는 모든 검열 행위를  공개해야 될까요 안 해야 될까요? 자 그런걸로 또 올렸습니다 애플 앱스토어에서 자기 마음에 안 들면 자르죠? 앱 스토어에서 제거할 수 있습니다 애플의 정책을 따르지 않는 앱은 앱스토어에서 빠질 수 있다라는 규정이 있어요 그래서 여러분들이 뭐 마음대로 올렸다가 요즘에 애플 좋아하는 것들 있죠 애플이 좋아하는 거 말고 싫어하는 걸 올리면 거기서 빠지거든요 너희들 왜 그러냐는 거죠 그래서 모든 검열 행위를 공개하라고 설문 조사했더니   85%가 이렇게 나왔습니다 그래서 강력하게 얘기하는 거죠 애플은 왜 우리를 트위터를 검열하려 그러냐 우리는 자유를 추구하는 곳인데 그러면서? 무슨 일을 하고 있는 거냐 팀 쿡! 아~ 좋아요 ㅎㅎ 이렇게 도발을 시전했습니다 광역 도발이죠 광역 도발에 가깝습니다 도대체 무슨 일을 하고 있는 거냐 팀 쿡! 하면서 아~ 좋아요 아주 쎈 도발입니다 이 정도면은 안 쳐다 볼 수 없어 아 일론 머스크 같은 사람이 여러분의 이름을 불러 주면서 무슨 일을 하고 있는 거냐 슈카! 그러면은 바로 전화했죠 어이구 형님! 그 라이브인데 전화 가능하세요? 어 헬로 머스크 오케이(?) 어~ 이렇게 하면서ㅎㅎ 야~ 이러면은 터진다 터져 야 순간 조회수 장난 아니겠죠 그.. 유튜버의 꿈입니다 유튜버의 꿈 뭐 헬로 머스크~ 왓츠 고잉 온 히얼? 이러면서 이제 얘길하고 아 좋은데 ..어려울 것 같고요 자 그런데 애플이 이렇게 트위터 하고 약간 대립하는 하는 건 사실 이유가 있어요 이유가, 뭐가 이유가 있을까요? 일론 머스크가 지금 뭐 하고 있습니까? 언론의 자유를 만들고 있죠 자기 말에 따르면 언론의 자유를 어떻게 만들고 있어요? 기존에 금지시켰던 계정들을 복원시켜! 예를 들면 트럼프 계정 살아났습니다 살아났습니다ㅎㅎ 죽지않았어요 트럼프 계정 복원시켰어요 그리고 여러 문제가 있다고 생각하는 옛날에 뭐 가짜 뉴스 계정 극우 계정 뭐 정치 계정 다 살려줬어요 막 스팸 뿌리는 계정말고는 다 살려줬어요 살려 주니까 애플 입장에서는 야! 그런 차별주의자 계정 또 애플이 뭐 PC 이런거 좋아하죠 뭐 그런거에 반하는 계정 뭐 동성애 혐오 계정 다 살려놓으니까 이게 말이 되냐 그런 차별주의적 계정을 살리는 거는 애플의 정책에 맞지 않다 이래서 트위터하고 이제 설왕설래를 하는 건데 다만 일론 머스크는 이렇게 얘기를 합니다 투표를 했는데 법을 어기거나 스팸에 가담한 계정이 아니라면 정지 계정을 사면해야 되냐? 라고 물어 봤어요 그랬더니 사면해야 된다 가 72.4%가 나왔대 그래서 이제 사면 한다고 여기에 기동력을 얻어 갖고 아니 그런데 아니 저런 식으로 트위터 투표로만 무차별적으로 계정 복원을 하는 게 너무 무책임하지 않냐 아니 뭐만 하면 트위터로 물어봐 아니 근데 슈카월드에서 슈카가 뭘 하는지 물어보면은  Okay가 많을까요 No가 많을까요? 생각해보니까 No가 많을 수도 있겠다 라는 생각이 들긴 하지만 어쨌건 우리끼리니까 오케이가 많을 가능성이 좀 있죠 그건 저기도 마찬가지란 말이예요 뭘 한다 그러면 오케이가 많이 나올 수도 있고 또 이거 어 말이야? 너가 말이야? 또 어떤 가짜 그런 걸로 막 50만 계정, 10만 계정이 YES 누르면 어떡할거냐? 이런 걸로 정하는 게 말이 되냐? 라고 항의를 많이 했어요 특히 이런 가짜 뉴스 뉴스와 선동 뉴스를 하는 그런 계정을 살려주는 걸 야 투표로 결정하는게 그 어디있냐 트위터 투표로 그랬더니 마스크가 이렇게 얘기했습니다 트위터리안의 목소리는 신의 음성이다 실제 한 얘기에요 이거 뭐라고 읽어야 될지 모르겠는데 라틴어랍니다 복수 포퓰리 복스 데이 인가? 하여튼ㅎㅎ 사람들의 목소리는 백성들의 목소리는 신의 목소리다- 옛날부터 있던 건데 야 이거는 정치인이 하는 얘기지  국민의 목소리는 신의 목소리다 이런건데 그거를 트위터리안에 갖다 놓으면 어떡해ㅎㅎ 하여튼 그렇게 얘기했어요 어 우리 국민의 목소리니까 이건 신의 목소리고 따라야 된다 그렇게 때문에 나는 저 투표로 결정한다 이제 이런 또 얘기를 했고요 요런 얘기를 하면서 차단 되었던 계정들을 속 속 속 속 복구하고 있습니다 그랬떠니 워싱턴 포스트 제목이 이렇게 떴죠 \"지옥 문이 열리고 있다\" 지옥 아래서 잠자고 있던 그 문을 열면서 온갖 비스트와 괴물들이 뛰어나오고 있는 거죠 트위터에서 활개를 치고 있다 뭐 이런 걸로ㅎㅎ 어.. 그쵸 뭐 누구라고 말은 안하겠지만 뭐 많이 나온다는 거죠 열어 보니까 뭐 그쵸 뭐 헬 비스트도 나오고 머리 3개 달린 애도 나오고 뭐 이러면서 지금 문이 열리고 있다고 할 수 있고요 사람들이 그래서 좀 쳐다보고 있죠 뭘 쳐다보고 있다고요? 과연 완벽하게 머스크가 꿈꾼다고 얘길하는 완벽하게 자유로운 언론 자유의 터, 그런 데가 될 것인가 아니면은 완벽하게 자유로운 지옥이 될 것인가 들어가면은 온갖 쓰레기 같은 게 날림하는 데가 될 것인지를  이제 보고 있는 거죠 자 그렇다 보니까 애플이나 구글 같은 그런 앱스토어나 플레이스토어를 갖고 있는  어떤 장터를 갖고 있는 애들은 좀 불안하죠 이거를 트위터를 봐 줘야 되나 근데 트위터만 봐주려니 이거 분명히 정책 위반 같은데 다른 데들은 왜 나는 안 봐 주냐고 뭐라고 할 거 아니에요? 그래서 이제 이 트위터 콘텐츠에 대한 우려를 얘기하는 겁니다 가이드 라인을 지켜라 그렇지 않으면 너희 재앙이다 빼 버릴 거다 가이드 라인을 지켜라 라고 얘기하고 있는 거고 머스크는 가이드 라인을 왜 니네가 정하냐? 이거는 언론의 자유를 막는 거다 네가 뭔데- 를 시전하고 있는 거죠 최대 광고주한테 삿대질을 하고 있는 이제 그게 현실 실시간으로 이루어지고 있는 겁니다 자 그래서 구글이나 애플은 고민이죠 지워야 되나 말아야 되나 예를 들면 트위터에서 아동 포르노를 관리하는 직원은 이제 한 명이다 직원이 뭐 관리하는 직원도 없다 아니 광고 임원이 없어서 머스크가 전화하는 판에 뭐 관리하는 직원이 있을리는 없죠ㅎ 별로 없기 때문에 인종 차별적인 내용도 되게 많아지는 거 같고 이거 트위터 지워야 되냐 말아야 되냐로 이제 고민을 하고 있다고 할 수 있죠 게다가 만약에 트위터가 앱 스토어에서 차단이 되면 어.. 엄청나죠 애플 앱스토어가 지금 연결된 기계가 15억 대라고 하니까 뭐 스마트폰이나 다른 것도 다 포함해서 15억 대라고 하니까 이거에서 빠지면 사실은 트위터는 엄청난 타격을 받는다고 할 수 있습니다 자 그렇기 때문에 일론 머스크가 동네방네 얘기하는 거죠 애플이 트위터를 앱스토어에서 내린다고 우리를 협박하고 있다 언론의 자유는 어디 갔냐? 애플은 검열을 하고 있다 어 빅 브라더다! 진짜 그렇게 얘기했습니다 그래서 옛날 그 빅 브라더 나오는 그 영상 있어요 옛날 1980년대, 90년대에 나왔던 그 영상을 자기가 링크 하면서 애플은 현실판 빅 브라더고, 자유를 원하는 나 일론 마스크를 억압하고 있다! -라고 이제 동네방네 소문을 내고 있는 겁니다 자 그리고 협박을 하는 거죠 야 너희들 애플 자꾸 그러면 여러분들이 아까 많이 얘기하시던 이걸 해 버린다? 이게 뭐냐고요? \"테슬라 폰\"을 내가 만들어 버리겠다! 어.. 어 잘 안 될 거 같은데 개인적으로 아니 아무리 머스크라고 해도 애플이 마음에 안 들게 하면은 내가 테슬라 폰을 만들어서 무슨 애플 앱스토어 그런거 안 돼도 누구나 할 수 있는 자유로운 그걸 만들겠다 그러면 애플 너네 반토막 날 수 있어! 그러니까 내 말을 잘 들어라 대안이 없다면 대체 폰을 만들겠다 실제 얘기했습니다 에이~ 이거는 약간 허풍이죠 허풍 제 생각에 그냥 한 번 질러보는 거지 근데 뭐 워낙에 이.. 어떻게 튈지 모르는 형이라 좀 불안하긴 합니다 화성도 가기 때문에 근데 만약에 여기서 폰까지 만들면은 형은 아마 뭐 하기 전에 과로사로 사망하시지 않을까? 딴 건 모르겠는데 과로사 가능성 있습니다 지금 봤을 때 트위터에 한 50조 내고 지금 목 매고 있거든요? 스페이스x도 해야 되고, 테슬라도 해야 되는데 여기다 폰도 만들겠다고? 삼성전자나 애플 하겠다는 거니까 어.... 돈은 많이 벌수도 있는데 아마 후대 자손들이 좋지 않을까 형은 누워서 쓸 가능성이 있기 때문에 아마 안 하시지 않을까 생각을 많이 하고요 물론 이게 또 언론인이 어떤 얘길 한 건데 이렇게 얘기하더라고요 물론 요쪽 이제 미국으로 치면 우파 입니다 요즘에 일론 머스크가 오른쪽을 잘 밀기 때문에 화성으로 로켓도 보내는 사람인데 그런 silly하고 little한 스마트폰은 대단히 easy하지 않냐 라는 의견을 적었는데 어ㅎㅎ 아닐 것 같아요 제 생각엔 아닐 것 같아요ㅎ 화성으로 로켓을 보내는 로켓맨이라고 할지라도 스마트폰은 좀 다르지 않나 라고 생각하는데 물론 얼핏 보면 좀 뭐 silly하고 little 할 수도 있지만 아 그래도 어렵지 않을까 생각을 하고 게다가 이게 지금 애플하고 막 삿대질 하면서 머스크가 싸우고 있는데 문제는 또 다른 곳에서도 나옵니다 어디냐? 이번에는 더 큰 적인 EU가 등장을 했어요 EU도 얘기하는 거죠, 우리도 애플하고 똑같이 트위터를 EU 내에서 금지하거나 벌금을 먹일 수 있다 왜? 너희들은 새로운 EU가 만들어낸 온라인 법률을 준수하지 않았어 앞으로 굉장한 노력을 해야 될 거야 아니면 EU에서 빼버린다?  라고 얘기를 한 거죠 여기서 말하는 EU가 말하는 법률은 뭐냐? 2022년 7월 EU에서 디지털 서비스 법이 드디어 발효가 됐습니다 계속 싸우던 법인데 어쨌건 통과가 됐어요 이게 뭐냐면 EU 내 플랫폼과 컨텐츠들에 대한 표준이예요 이런 걸 지켜라, 이런 걸 지켜라 뭐 이런 거겠죠 뭐 차별적인 내용을 빼고, 지나친 광고를 빼고, 뭐 아이들한테 유해한 거 빼고 뭐 특정한 어떤 프로필 같은 거 수집하는 거 못 하게 하고 이런 것들에 대한 가짜 뉴스 어쩌고 뭐 이런 것들이 쭉 있는 이제 그런 법을 발효시켰다 라고 할 수 있습니다 그래서 EU에서 담당하는 위원인 티에리 브르통이라는 아저씨가 있는데 요즘에 굉장히 많이 등장을 해요 트위터에 머스크하고 싸우느라고 이렇게 얘길하고 있습니다  트위터는 EU에 등급 통과를 위해서 심각한 노력을 기울여야 된다 아니면 이 디지털 서비스 법 위반이다 그럼 우리도 애플하고 똑같이 너희를 빼 버릴 수 있는 거죠 물론 머스크는 언론의 자유를 억압하는 이런 EU 시장 담당 위원 티에리 브르통 같으니라고 항의를 하고 있지만 상대는 EU죠! 애플이 아니란 말이에요ㅎㅎ 그래서 조금 더 세다고 할 수 있고요 트위터는 최선을 다해서 허위 정보에 대처하고 이제 아이들의 프로필 같은 걸 모아서 뭘 하는 거 그런 것들을 금지하는 걸 포함해서 표적광고, 아이들한테 표적하고 뭐 이런 것들을 제한하는 자기들의 규정을 따라야 된다 라고 얘길 했습니다 그리고 트위터도 날렸어요 뭐라고 얘길했냐면은 안 지키면 EU에서 빼버릴 거고 너가 Huge work, 할 일이 많을 거야 하지만 자네가 잘할 거라고 믿어 의심치 않아! 라고 이ㅎㅎ 날렸습니다ㅎㅎ 어... 거의 협박과 다름 없죠? 너가 해야 될 일이 많을 거야 아니면은 통과 못 할 거야 요런 얘길 했는데 자 그러면은 머스크 입장에서는 애플도 있고 심지어 애플보다 더 큰 EU까지 있습니다 이 난관을 어떻게 해결하면 될까요 그 아저씨 입장에서는 거대한 적들과 싸워야 되잖아 저 적들과 싸워서 이기는 방법! 여러분 같으면 어떻게 하겠습니까 자 일단 먼저 애플 갑니다 애플은 이렇게 처리하면 돼요 자 머스크가 2024년 미국 대선에서 론 드산티스를 지지한다고 공개선언을 했습니다 론 드산티스 옛날에 슈카월드에 한 번 나왔습니다 강력한 트럼프의 대항마, 떠오르는 공화당의 신성 이번 선거 최대 수혜자, 현 플로리다 주지사 론 드산티스가 아니라 Ron DeFuture로 불리는  미국에서 요즘 가장 잘 나가는 정치인이죠 어... 어디에 줄을 대서 쟤를 날릴 건지를 강력하게 보여줬다고 할 수 있는데 론 드산티스를 지지하겠다고 공개 선언을 하니까 딱 듣고 있던 드산티스 형이 \"역시 자네야!\" 하고 바로 말을 받고 애플에 대한 공격을 시작했습니다 나팔을 불었죠 만약에 애플이 트위터를 앱 스토어에서 제거하면 대단히 큰 실수가 될 것이다 공식 인터뷰 했어요 자기 그거 나오는 인터뷰가 아니죠 이거 얘기하는 데 나와서 대단히 큰 실수가 될 거다 만약에 그런 짓을 하면- 뭐라고 얘기했냐면은ㅎㅎ 미국 의회가 대응을 할거다 여기 돼 있죠 United States Congress에서 어 팀 쿡 나와봐x2 아이 뭐 우리도 국감 하면은 국정감사 하면은 뭐c 다 나오잖아요 뭐 재용이 형도 나오고 뭐 어디 그룹 회장이고 나발이고 다 부르잖아요 다 불러서 막 삿대질하죠 한 번 해 보자! 팀 쿡도 나올 수 있습니다 미국 의회가 이거를 대응하겠다 아 쎕니다 아무리 부자 기업이어도 정치인이 이런 소리 하면은 어.. 조금 떨리죠 조금 떨리고 그리고 한 마디 더 했습니다 그 정도로 공격한 게 아니라 이 분이 차기 유력 미국 대선 후보입니다 잘못하면 차기 미국 대통령이 될 수도 있어요 이길지 질지는 모르겠지만 애플은 공산당의 가신이 되지 말라 야 고거 하나 뺀다 그랬다고 중국 공산당의 가신이 됐습니다 한마디로 중국에서 돈 쪽쪽 벌면서 걔네가 말하는 건 다 따르고 다 지켜주면서 왜 미국에서는 언론의 자유 뭐 얘기하니까 그걸 빼버리냐 어? 너희들 어 중국에서 팔려고 이런 저런 거 하는 거 다 알고 너네 공장 말이야 중국에 있는 공장 그거 그거 제대로 안 돌아가고 말이야 사람들 막 그 저임금으로 쓰고 말이야  뭐 이런 얘길하는 거죠 인권은 어디 갔냐 이런 얘기를 하면서 가신이 되지 말라 이렇게 한마디 했고요 너희의 힘으로 미국인들의 표현권을 억압하려고 시도할 경우에 미국 의회가 대응을 하겠다- 자 이렇게 경고를ㅎㅎ 어.. 날렸습니다 대단하지요? 그래서 대단하게 애플이 요 드산티스로 싸바싸바해서 막았다고 할 수 있고 EU도 막아야 되니까 실시간입니다 실시간 머스크 형이 마크롱 프랑스 대통령과 미팅을 했다는 뉴스가  실시간으로 올라오고 있어요 대단한 형이에요 진짜 대단한 형이다ㅎㅎ 만나고 싶다고 만날 수 있나?ㅎㅎ 그래도 대통령인데? 뭐 만나고 싶다고 만날 수 있나 봅니다 저도 잘 모르겠는데 여기 있죠 사진? 이거 마크롱이 올린 거예요 마크롱이 와서 올린 건데 와서 얘길했겠죠 이제 머스크가 형님 저기 말입니다 그 EU 그거 무슨 법 말입니다 그거 언론의 자유 침해 아닙니까 네? 프랑스하면 자유국가인데 이거 자유로운 나라 프랑스 어? 에펠탑도 좋아하고 그러는데 어? 그거 좀 밀어 줘야 되는 거 아닙니까 뭐 이렇게 얘기를 했겠죠 얘길하고 그러니까 마크롱이 \"투명하고 정직한 대화였다\" 사람들이 의심의 눈초리로 볼 거 아니에요 여기서 과연ㅎㅎ 무슨 말을 할지를 의심의 눈초리로 싹- 보고 있으니까 이제 투명하고 정직한 대화였다 걱정하지 마라x2 내가 그렇게 쉬운 사람 아니야, 형 그렇게 쉽지 않아! 그래서 여전히 얘기는 했습니다 트위터는 EU의 제도를 이제 지키기 위해 노력해야지! 언론의 자유에는 책임과 한계가 있기 때문에 뭐 걱정하지 마라 내가 머스크에 그렇게 홀랑 구워 삶아져서 넘어가는 뭐 그런 건 아니니까 괜찮다x2 하지만 둘이 만난 건 사실이고요 자 이러다 보니까 미국 내에서도 얘기가 나오죠 아니 머스크는 트위터를 뭐 언론의 자유 뭐 어쩌고 해서 사놓고 그거 정치적 무기로 활용하는 거 아니냐 야 이게 무슨 장비의 장팔사모도 아니고 어 무슨 뭐 관우의 청룡언월도도 아니고 막 휘둘러! 막 휘두르고 야 무기처럼 이러고 휘두르면서 다니니까 야 이게 무슨 갑자기 공화당도 지지하고 우익 계정 복원시키고 아니 미국 대선 후보 지지도 하더니 프랑스 대통령까지 가면서 얘기해서  막 이걸 휘두르고 있으니까 좀 말이 나오는 편이고 그리고 끝까지 애플을 공격합니다 예를 들면 이런 거 아군을 늘려야 되잖아요 아군을 늘려야 나를 도와줄 테니까 애플 봐라! 앱스토어에 애플은 30%의 세금을 매기고 있다 이건 사실상 인터넷 세금과 같다 너희들은 인터넷을 세금을 내면서 하고 있어 게다가 세율이 30%야 너희 소득세보다 높아 이게 말이 되느냐? 너희들은 국가에도 세금 내고 애플에도 세금을 내고 있는 거야 이 바보들아 이걸 어떻게 모르고 있냐 라고 일갈을 하셨습니다 알고 있어요 알고 있는데 쓰는 거죠? 뭐 하여튼 알고 있는데 이걸 일갈을 날려 주셨고 그래서 이것 때문에 또 막 저 앱스토어 30% 세금 내는 거에 대해서 불만이 있는 그런 IT 그런 분들이 또 우와- 머스크x2 하면서 모이면서 역시 형이야! 뭐 언론의 자유를 위해서 싸우고 이 인터넷 세금 방지를 위해 싸우고 있구나 또 왁- 몰려드는 그런 효과를 노리고 있습니다 한 마디 더 해 줘야죠 요럴 땐 또 강력한 단어가 필요해요 애플에 대해서 좀 멋지게 싸우는 단어 그게 바로 요런 미사여구x2 문명의 미래를 위한 전투다 참여해라! 여기 나오죠 This is a battle for the future of civilization 아~ 멋있어요 문명의 미래를 위한 전투 그럴듯합니다 정치인해도 되겄어 정치인 해도 그 애플이 광고 적게 줬다고 삐졌는데 그걸 이제 문명의 미래를 위한 전투로 이.. 발전해나가는 거죠 사실은 처음 생각해보면 그 광고.. 안 줘서 그리고 애플 규정 어겼다고 규정 좀 지켜 주면 안될까요 요말 했더니? 그 돌아오는 거는 문명의 미래를 위한 전투가 이제 돌아오는 거죠 좀 이상하게 돌아가는데 하여튼 그렇게 됐습니다 그렇게 돼서 시작은 까먹었고 결론은 문명의 미래를 위한 전투를 여러분들이 하고 있는 거고요 미국에서도 표현의 자유를 잃으면, Tyranny 폭정 만이, 폭군 만이 여러분 앞에 놓여있다 나를 살려달라 지금 애플을 죽이고 나를 살려야  미국에 자유가 온다 라고 이제 주장을 하고 있는 거죠 힘을 모아달라는 거죠 지구인들이여 힘을 모아 줘!  이렇게 얘길하고 있는 거고요 그리고 사실은 엄청나게 많은 트윗을 이거에 관련해서 날리고 있어요 아니 도대체 왜 저렇게 딴 거 안 하고 이거에 집중을 하나- 라고 생각을 해 보면 다시 초심으로 돌아가 보면 트위터 인수 가격이 이제 와서 다시 보면 57조 입니다 열심히 날려야겠죠? 하루에 100개씩 날려도 이해할 수 있습니다 57조예요 57조 여러분 같으면 570만원만 걸려도? 그쵸 트위터 날리는데 이거 써서 할 수 있으면 나는 장난 아니지ㅎㅎ 야 이거 스팸처럼 날릴 수 있어요 스팸처럼 근데 57조입니다 57조이기 때문에 이해합니다x2 아 형의 마음을 이해할 수 있고 또 아까 자기한테 힘을 모아줘 지구인들이여 라고 외쳤더니 지원군이 등장했죠 어 물론 지구인을 외쳤는데 약간.. 약간.. 그ㅎㅎ 그쵸 조금 외부에서 오신 듯한 비주얼을 갖고 계시는 우리 마크 저커버그 형님이 등장을 하셨는데 뭐라 그랬냐? 맞다! 머스크 형의 말이 맞다 애플의 통제는 대단히 문제적이야 30% 말이 되느냐? 당연하죠 이거 마크 저커버그 형은 애플하고 구원이 있는 그런 분이죠 애플한테 옛날에 그 약간 앙금이 있단 말이에요 이래서 적을 만들면 안 돼 적을 만들면 요번에 보세요 여러분 그 가나-우루과이 전 보시면 그 수아레즈 말이야 괜히 입 털었다가 가나가 죽을둥 살둥 싸우잖아요 자기는 떨어져도 쟤는 못 올라간다 마지막까지 그 뒷발 잡으면서 안 돼 나랑 같이 죽자! 해서 물귀신 작전 하는 걸 보면 적을 만들면 안 돼 미안하다고 하지 그냥 저거 만들면 안 돼요 그래서 옛날에 애플하고 한 번 닿았던 그 저는 그 경기 양쪽 경기.. 여러분들도 그랬지만 실시간으로 보셨지 않습니까 가장 코미디가 그.. 시간 끄는 거 보면서 빵 터졌는데ㅎㅎ 가나 시간 끄는거ㅎㅎ 아 왜 이렇게 웃기지 모르겠어 우리 입장에서는 고맙기도 한데 좀 웃기기도 했죠 쟤네는 왜 시간 끄나.? 2 대 0으로 지고 있는데 자기네들은 이기면 올라가잖아요 3골 넣으면 올라가는데 뭐 상관 없죠 에이 상관없지 뭐 그쵸 누구 말마따나 게임 이기려고 하나? 상대 망하게 만들려고 하지ㅎㅎ 아 그래서 뒷발 잡고 끌어댕기는 모습 멋있었습니다 멋있었고요 똑같죠 저커버그도 애플한테 감정이 있기 때문에 머스크 형의 편을 들었고요 역시 말하는 건 똑같죠 애플은 네가 뭔데 남의 핸드폰 고객의 핸드폰에 깔릴 앱을 네가 평가하고 네가 안 된다 그러고 네가 삭제하냐 이게 뭐 법도 아니고 뭐 거기서 왜 네가 왜 검열을 하냐? -라는 머스크의 말에 이제 동감을 표현을 했구요 애플은 소비자의 기계에 설치되는 어떤 앱에 대해서 검열하고 일방적으로 통제하려는 유일한 회사다 라면서 또 비판을 날렸죠 비판을 날리면서 이 저커버그하고 머스크가 탁!- 손을 잡고 도원결의 하면서 앞으로 나가려고 했는데.. 했는데죠? 했는데 바로 실시간 뉴스가 떴죠 갑자기 팀 쿡 형 감사합니다~ 라는 뉴스가 떴어요 아 이렇게 180도 바뀌어도 되나? 친구 열심히 구하더니 갑자기 땡큐 애플, 땡큐 팀 쿡 이걸 날렸고요 뷰티풀 헤드쿼터, 애플의 헤드쿼터가 유명합니다 이렇게 우주선처럼 생긴 거 있거든요 애플 사옥? 사옥 너무 뷰티풀하다 어쩜 그렇게 뷰티풀 하니? 나를 거기를 안내 해줘서 너무 고맙다 라고 얼마나 고마웠으면 요거 동영상까지 올렸습니다 그렇게 고마워 할 필요가 있나 싶긴 한데 이렇게 이거 머스크가 찍어서 올린 거예요 어유 야 애플 사옥 봐라x2 어유야 멋있지 않니? 뭐 이런 거 올리고 있고요 하여튼 뭐 평범한 사람의 그런 인식으로 조금 알기 힘들지만 하여튼 뭐 그런 거 올리면서 땡큐x4 이거 팀 쿡이 직접 소개시켜 준 거야 직접 한 거기 때문에 갑자기 왜 이렇게 180도 바뀌었냐? 이유는 뭐 간단하죠 만나서 좋은 대화를 했다, Good Conversation 자 Good의 의미는 많은 게 함축이 돼 있죠 많은 게, 오해를 풀었다 그럽니다 Good 의미는 일단 그 뭐 광고가.. 아마 좀 낭낭하게 들어간 것과 그 트위터 안 뺀다 뭐 이런 것과 그 다음에 드산티스 형하고 나 이렇게 해서 밥 좀 먹고 이렇게 우리도 좋은 사이 뭐 등등x2 해서 이제 좋은 conversation을 나눈 다음에 바로 돌아섰죠! 바로 이렇게 확- 돌았기 때문에 오늘의 적도 내일은 친구지 영원한 적도 영원한 동지도 없는 거죠 이게 딱 이 판 알아야지 아이 순진.. 우리 저커버그 형은 너무 순진하게 삭- 들었다가 어 좀 뭐 그런 상황입니다 하여튼 그런 상황이 되고 있고요 또 이게 하다 보면은 참.. 뭐 언론의 자유를 위해 싸우는 건데 갑자기 Good conversation 그러면서 애플이 뷰티풀 하다-라고 바뀌었기 때문에 또 내일은 무슨 뉴스가 나올지 모르겠지만 이제 현재진행형으로 가고 있습니다 그런 상황이고요 그리고 끊임없이 트위터 광고를 날리고 있죠 뭐 예를 들면 증오 표현은 트위터에서 오히려 감소하고 있다 내가 그렇게 많은 계정들을 너희들이 문제 있다고 얘기하는 계정을 풀었지만 봐라 증오 표현은 오히려 감소하고 있는 거야 Hate speech는 감소하고 있다 걱정하지 마라 라고 오늘도 50 몇 조 물렸죠 이 형이? 어.. 57조 입니다 어 57조- 물린 건 아니고 넣은 형이 얘길하고 있는 거다 라고 이제 보시면 될 거 같습니다 게다가 아마 다음 주 아니면 다음 달 하여튼 언제지  머스크 형은 아마 또 나오실겁니다 왜냐면은 요즘에 또 머리에 Brain chip을 심을 것이다 요러면서 어그로를 끌고 있거든요 광역 어그로를 날마다 시전하고 있기 때문에 머리에 brain chip 뉴럴링크, 뉴럴링크도 역시 머스크 형 회사죠 여기로 또 이제 어그로를 끌고 있습니다 요거 자기 머리에도도 심을 수 있다 요런 얘길하고 있어서 옛날에 그 돼지 머리에 심고 무슨 원숭이 머리에 심고 했는데 이번엔 사람 머리 가능하다 요런 얘기로 이제 군불을 이제 때고 있어요 때고 있기 때문에 아마 곧 브레인 칩으로 여러분한테 다시 인사드릴 날이 있을 것 같습니다 진짜 바쁘게 살죠? 이렇게 해야 세계 최고의 부자인가 라는 생각이 들고 야 이 형ㅎㅎ 쓰러지겠는데? 라는 생각도 들죠 뭘 그렇게 바쁘게 사나... 돈도 많은 양반이 뭐 이런 생각이 약간 들긴 합니다 그 와중에 애가 10명이라는 게 더... 하여튼!'"
      ]
     },
     "metadata": {},
     "output_type": "display_data"
    },
    {
     "name": "stdout",
     "output_type": "stream",
     "text": [
      "relatedness=0.834\n"
     ]
    },
    {
     "data": {
      "text/plain": [
       "'Title: 머스크 57조원짜리 트위터 인수 파기 선언🚀; Description: 0:00 ~ 11:06 머스크, 트위터 인수 딜 전격 파기 선언 11:06 ~ 15:48 인구감소 해결을 위해 밤마다 노력하는 머스크 어렵고 딱딱한 경제 ...; Content: 자 오늘 재밌는 얘기를 하나 하도록 하겠습니다 일론 머스크 형이 트위터 딜 전격 파기를 선언했습니다 솔직히 이걸 보자마자 저는 그런 생각이 들었어요 그럴 줄 알았다 그럴 줄 알았다... 57조 라고 했죠 57조 야 조금 아닌 것 같은데 개인적으로 그게 57조 와 이거 좀 지나친 데 라는 생각을 했는데 기염을 토하나 재산이 많나 싶더니 조금 지나니까 아임쏘리! 를 외치면서 터미네이팅 하자 끝내는 게 어떻겠니 라고 무승부로 하지 않겠니 라고 얘기를 했다는데 야 자기가 질러 놓고 그걸 무승부라고 하지 않겠니 라고 얘기하면 그게 되나 남의 패 뒤집어본 다음에 야 쟤 A가 두 개네 ㅎㅎ 무승부로 하지 않겠니 아직 히든카드는 안 봤으니까 이 쯤에서 그만두지 않겠니 뭐 이런 소리를 하면 뒤집었는데 안 되는 건데 하여튼 머스크 형은 저거를 요구하고 있습니다 그 내용을 잠깐에 걸쳐 보기로 하면은 일단 물려달라고 얘기하는 트위터 인수 딜 규모는 57조 였어요 44 빌리언달러  물론 여러분이 트위터 주주거나 트위터 이사회 라고 생각해보세요 물려주겠습니까 57조 원? 참고로 조금 이따 나오지만 트위터주가? [다이빙] 여기서 사기로 했단 말이에요 근데 으악???!! 했어요 물려줄 거야 여러분 주주라면? 이사회가 물려주기로 했습니다 라고 발표하면 이사회 다 잘라버려야죠 말같지도 않은 소리하고 있어 이게 물려줄 수가 없는 상황이기 때문에 그래서 이 사진들이 이번에 발표한 거예요 우리는 딜 마무리에 최선을 다하고 있다 합의된 가격으로 이행하기 위한 법적 조치를 취할 계획이다 어디 계약서까지 써놓고 도장까지 찍은 다음에 니가 그걸 뺄 수 있냐 안된다 선언할 땐 마음대로지만 파기는 니 마음이 아니다 라고 주장을 하고 있고 트위터 이사회 의장 브렛이라고 있어요 브렛 테일러 인데 이 아저씨는 아예 이렇게 썼어요 소송으로 가면 우리는 승리할 것으로 확신한다 날 믿어달라 내가 57조 받아주겠다 그쵸 형만 믿고 간다 브렛 테일러 형만 믿고 간다 57조 받아 달라 왜냐하면 여기 우리사주 많이 있어요 직원 입장이라고 생각해봐 우리사주 갖고 있는데 57조에 사주기로 해놓고 나이쑤~ 직원들이 이러고 있었는데 이거 안 한다 그러면 지금 뭐 얼마 됐는데 지금 와서 이러면 안 되는 거죠 저렇게 선언했다고 할 수 있고 물론 머스크 아저씨는 입장이 있습니다 이렇게 얘기를 하는 거죠 아니 너희들이 정보를 안 줬다 트위터 너희들은 스팸계정이 전체의 5%라고 주장을 하는데 자기가 보기에는 아니야 정보를 달라고 했는데 안 줬다는 거죠 이 스팸계정비율이 10% 20% 되는 거 아니냐 내가 57조라 그런건 5% 기준인데 니들이 10% 20%면 나 이 돈 못 줘 이건 아니야 변호사 얘기하는 겁니다 게다가 내가 사서 내가 오너인데 니들이 나를 무시했어 이사회에 가서 정보 달라 그러면 안 주고 심지어 씹고 진짜 그렇게 얘기했어요 머스크 연락을 씹고 여기 나오죠 ignored 무시해버리고 뭘 달라 그러면 안 주고 이사회라고 오너가 달라는데 안 주는 게 말이 되냐 그리고 이번에 트위터가 여러분들 뉴스 보시면 알겠지만 정리해고하고 있거든요 근데 내가 언제 동의했어 내가 동의도 안 했는데 니들이 왜 정리해고를 하냐 테슬라도 하던데? 딴 얘기죠 하여튼 테슬라도 무슨 뭐가 올 것 같다고 미래가 안 좋을 것 같다고 커다란 먹구름이 오고 뭐 퍼펙트스톰 실컷 그러더니 테슬라 하고 트위터도 하니까 하여튼 내가 동의를 안 했는데 니들이 정리해고를 하고 있어 이거 말이 안 되는 거다 그래서 계약 위반이니까 그래서 내가 계약을 파기하는 거지 내가 뭐 가격이 빠지고 뭐 이래서 내가 계약을 파기하는 줄 알아? 그게 아니라 니들이 약속을 안 지키고 계약 사항에 적혀 있는 거를 이행하지 않으니까 나는 계약을 파기하는 거다 라고 주장을 하셨죠 저도 그렇게 생각을 하긴 하는데 유튜버다 보니까 어떤 불충한 생각이 살짝 살짝 드는 건... 이 불충한 생각입니다 불충한 생각 전혀 맞다는 게 아니고요 머스크 아저씨가 인수하기로 한 가격이 주당 54.2 달러입니다 인수발표일이 여기에요 이 빨간색이 54달러예요 지금은 여기죠 32%가 빠졌어요 57조 딜이니까 주가로만 따지면 현재 마이너스 18조가 찍혔거든요 물론 뭐 저 32% 프리미엄을 준다고 생각하면 되는데 지금 경제 상황이나 트위터의 상황이나 SNS 기업들의 상황이 프리미엄을 줄 상황인가 라고 생각을 해 봤을 때 뭔가 손해보는 거 같고 내가 계약을 파기하면은 여기에 다시 살 수 있을 것도 같은데 느낌에~ 가격 다운을 충분히 요구할 수 있을 것 같은데 18조... 10조 원은 깎아줘야 되는 거 아닌가 이런 생각을 하지 않을까 하는 불충한 생각을 합니다 게다가 트위터를 매수하기로 선언한 게 3월 이고 인수선언을 4월에 했거든요 그동안 트위터하고 비슷한 SNS기업들이 주가가 어떻게 됐냐 스냅챗입니다 [으어어어~~] 고점 대비 82%가 빠졌어요 4월 대비 62% 빠졌어요 자기가 인수선언을 한 다음에 어~~~ 했단 말이에요 스냅챗만 그랬냐 SNS 기업의 1위 메타 바닥인 줄 알았지 [외마디비명을 지르는 슈카] 다들 이렇게 SNS 기업들이 요즘에 굉장히 크게 나락으로 가고 있고 이게 얼마나... 우리는 잘 알고 있죠 왜냐면 우리나라에도 이상하게 그거는 글로벌인 기업이 있어요 희한하게 가격이 글로벌이야 딴 거는 전혀 글로벌이 아닌데 갈 때 같이 가더라고 ㅎㅎ 이게 뭔 관련이 있다고 그게 글로벌 이야 그게 뭐 글로벌로 뭐 하는 게 웹툰말고는 뭐... 하여튼 같이 가고 있기 때문에 그니까 우리가 여기 입장에서 보면은 여기서 지금 예를 들면 카카오를 인수하기로 했는데 가격이 여기 오니까 조금 뭐 그럴 수 있죠 게다가 4월에 저 인수를 선언한 다음에 많은 일들이 있었죠 그동안 퍼펙트스톰이다 주가가 날아가고 있다 암호화폐 윈터 스쿨?? 윈터가 커밍이네 어쩌네 6월 15일에 자이언트스텝도 했어요 75bp 한번 더 한대 한번 더 하고 연말에 3.5네 이런 얘기를 하고 있어요 경기가 날라가네 뭐 스태그플레이션이 어떻게 되네 소비가 박살나네 근데 나는 얼마를 질렀어요 4월에? 57조를 질렀어요 이 계약이 문제가 있어야 됩니까 없어야 됩니까 여러분들의 입장이라면 나 57조를 했거든? 그러니까 아주 비싼 집을 이렇게 샀는데 이게... 했단 말이에요 환불요청해야 됩니까 주식을 살 계약을 했는데 내려가면은 물론 싯가 환불이긴 한데 주식은 그래도 물릴 수 있지 않을까 이런 생각을 할 수 있고 또 게다가 우리 트위터를 살 때 머스크 형이 이런 얘기를 했어요 구독경제라는 것으로 내가 트위터를 살릴 것이다 이렇게 얘기하면서 샀어요 매출액을 2028년까지 5배 50억 달러였는데 한 6조 7조 됐는데 33조를 늘리겠다 2028년까지 구독경제를 통해서 트위터를 구독하는 사람들은 마치 그 넷플릭스나 뭐 이런 것처럼 구독경제 지금 잘 나가니까 하겠다 근데 요즘에 특히 올해 많이 사람들이 느끼는 것 같은데 구독경제가 너무 많이 하다 보니까 좀 피로하다는 분들이 많이 늘죠 구독경제 피로도라고 얘기하는데 이것들이 적당히 해야지 적당히 아니 뭐쒸 다 구독이야 내가 구독한 것 세기 시작하니까 끝도 없어 뭐 C 그리고 적당히 구독을 해야지 그냥 줘도 될 것 같은 걸 왜 자꾸 구독을 해 그냥 줘 그거 내 돈 주고 샀는데 그것까지 구독을 해야 되나 별거 다 구독하고 진짜 정신없고 지친다 라는 얘기가 많이 나오고 요즘에 그래서 화두가 많이 되죠 커뮤니티에서 모 커뮤니티에서 화제가 많이 되는거 모 자동차 같은 경우에 무슨.. ㅎㅎ 보면서 웃었는데 좌석 시트 온열기능 이딴 걸 왜 구독하냐는 거죠 구독 안하면은 따끈따끈하게 나오는 게 뚝 꺼지면서 고객님 구독기간이 끝났습니다 시트가 차가워지네요 아니 그 어차피 온열기능 들어 있는 거 아니야 깔려있는 건데 그거 구독 안했다고 꺼버리면 어떡해 뭐 이런 생각을 하는 거죠 핸들온열기능 갑자기 막 달리다가 31일 되니까 핸들 왤케 차 보면은 구독만료 그 온열 선은 다 들어있는데 그걸 그래도 되나 그러니까 어떻게 보면 그냥 넣어줘도 될 것 같은데 물론 그런 건 있죠 전체 소프트웨어 업그레이드 큰 거 있잖아요 예를 들면 테슬라같은 경우에 자동차가 멈춰 있을 때 소프트웨어 업그레이드 한다며? 그래가지고 기능을 완전히 새차처럼 만들고 자율주행을 뭐 버전업을 하고 그런거 당연히 우리가 돈을 낼 수 있는데 좌석 시트온열은... 나중에는 핸들이 가다가 뻑뻑해지겠네 핸들구독이 끝났습니다 좌우로 40도 밖에 움직이지 않습니다 잠깐만 유턴이 안 됩니다 어어어~~~ 잠깐만 구독 끝났어?? 전화해서 고객센터에 야얍 빨리 풀어 풀어 안 움직이잖아 풀어 그렇게 될 수 있잖아요 위험하기 때문에 뭐 그 정도까지는 아니겠지만 점점 점점 좀 과도하다 구독을 하고 싶어하는 기업들의 그런 욕망은 알겠는데 가격을 깎아준 다음에 그걸 천천히 받겠다는 건 알겠는데 좀 뭔가 핵심적인 걸 해야지 핵심적인 거 전체 소프트웨어 버전 업그레이드한다든지 뭐 자율주행 기능을 업그레이드 한다든지 뭐 온열기능 이런 건 다 안 하면 이거 뭐야 이거 물 [와이퍼] 이거 하다가 [동작그만] 이렇게 멈추면 결재 하세요 멈추면 그럴 수도 있겠다 라고 생각이 드는데 이제 그러면 피로도를 좀 많이 느끼죠 게다가 저런 피로도를 얼마나 느끼는지를 몸으로 보여주는 기업이 바로 구독경제 대명사 넷플릭스죠 좀 충격적인 하락을 했죠 고점 대비 마이너스 73% 구독자가 마이너스가 떴잖아요 구독자 증가가 마이너스로 뜨는 어떤 그런 충격을 맞았기 때문에 이런 상황에서 57조를 넣었단 말이에요 그러면 이제 어떻게 해야 되냐 고민을 하는 와중에 잘 보니까 이 계약을 내가 파기했을 때 만약에 파기하면 위약금이 얼마니 라고 물어보니까 비서가 갖고 왔겠죠 10억달러 입니다 1.3조원 계약에 따르면 머스크가 계약을 파기할 경우에 10억달러의 위약금을 내야 된다 스으읍~~ 생각을 하겠죠 그럼 또 지금 위약금이 1.3조고 지금 마이너스 삼십몇 퍼센트가 나서 내가 현재 물려있는 게 프리미엄 제외하면 18조거든요 어... 다만 18조를 포기한다 그러면 약간 그... 그쵸 내가 SNS 많이 했는데 무슨 뭘 만들고 뭐 만들고 했는데 약간 체면을 깎이는 게 있지만 스태그플레이션 이기도 하고 좀 구독경제가 그렇기도 한데 체면이 문제냐 18조 지금 말만 잘하면 다시 계약 체결하면 57조가 아니라 이거 47조 에도 계약을 할 수 있을 것 같은 느낌이 살짝 드는데 게다가 변호사들이 이것만 [토크토크] 나를 위해서 잘해주면 얘네 말이야 이것도 안 해줬고 나한테 정보도 안 줬고 뭐 지들 마음대로 사람 자르고 잘하면 1.3조도 건질 수 있지 않을까 요거 한 5000억으로 막을 수 있지 않을까 이런 생각... 이런 생각을 하다 보면은 충분히 할 수 있겠죠 자 그러다 보니까 배팅을 하는 거죠 깎아주던가~ 깎아주던가 지금 봤잖아 상황이 안 좋아 구독경제 안 좋고 SNS 기업 다 가고 있고 자이언트스탭 모르니? 너 무식해? 75bp 인상도 하고 말이야~ 일단 안 좋으니까 30% 깎아주던가 아니면 딜 파기 콜을 외쳤다는 게 이제 오늘의 뉴스가 되겠습니다 물론 아까도 말씀드렸지만 그게 1.3조원 된다고 그냥 끝나냐 그건 아니죠 이거는 소송이죠 소송 법정으로 가야 됩니다 법정에서 과연 어떻게 될지 모르겠는데 소송절차예요 만약에 소송에 지면 원래 거래를 유지하는 쪽으로 갈 수도 있어요 트위터 이사회는 지금 이거를 요청하는 것 같은데 많은 사람들은 아마 딜을 하지 않을까 생각을 해요 머스크가 바라는 것도 이게 아니냐 한 5조 깎아달라 예를 들면 10% 10%만 깎아도 57조 니까 5조죠 5조 10% 깎아달라 10%만 깎으면 사줄게 이러면 5조 깎는 거고 아니다 20% 할인 그럼 10조 입니다 20% 10조 이렇게 아마 이런 쪽으로 가지 않을까 생각을 많이 하는데 하여튼 트위터 입장에서는 무슨 소리 하는거야 약속대로 57조 원에 사가라 이거는 우리가 사법명령을 요청하겠다 라고 얘기를 한 거죠 물론 이사회가 이거를 마음대로 10% 20% 깎아줄 수도 없는 게 그렇게 깎아주는 것은 우리나라면은... 아이 뭔 소리야 모르겠지만 그렇게 깎아주면 소송이죠 주주 입장에서 장난해? 네가 뭔데 깎아줘 내 돈인데 네가 왜 깎아줘 10% 20% 우리사주도 있고 많죠 50조면은 개인 주주가 엄청나기 때문에 소송입니다 바로 소송 깎아주면 누구 마음대로 그걸 네가 이렇게 되니까 아마 소송전으로 가지 않을까 생각을 하고 이 와중에 트위터로 정신이 없는 와중에 머스크 형은 역시 뉴스 메이커답게 슈카월드를 위해서 열심히 일해주는 머스크형이 오늘도 뉴스를 만들어 주셨죠 어..... 참 바쁜 형이야 이거 다 언제 하는지 모르겠어요 몸이 두 갠가 트위터 인수하고 어쩌고 뭐 요즘 뭡니까 로켓도 맨날 쏘면서 우리가 화성에 가야 되고 저기 가서는 테슬라가 몇 대를 만들어서 공장을 뭐 어떻게 짓고 여기선 뉴럴링크가 여기서는 또 트위터 사네 마네 소송을 거네 마네 하면서도 할 건 다 해가지고 쌍둥이를 만들었어요 대단한 형입니다 연세도 좀 있는데 아이 부ㄹ... 무슨 소리야 15살 이하 임원과 비밀 연애를 통해서 쌍둥이를 낳았다 비밀이 아니게 됐죠 공식이 됐어요 공식이 됐는데 시본 질리스 누님 지금 36세고요 뉴럴 링크의 임원이다 대대적으로 기사가 나오고 있습니다 일론 머스크도 인정을 했죠 옛날에 근데 일론 머스크 형이 이런 얘기를 했어요 대한민국과 홍콩을 걱정해 준 형이죠 기억나시죠 너희들 그렇게 저출산하면 나라 붕괴된다 한국은 3세대에 걸쳐서 망할 것이다 한국과 일본 문제가 일본은 그래도 나은데 한국과 홍콩은 문제가 많다 걱정해주시던 형이었단 말이에요 그랬는데 갑자기 쌍둥이로 ㅎㅎ 언행일치해 언행이 그대~로 일치하게 온몸으로 애국을 실현하고 있죠 쌍둥이 팍팍 낳으면서 지금 알려진 아이만 아홉이에요 중요한 건 알려진 아이만 원래 7 이었는데 방금 9 됐죠 이게 얼마나 될지 몰라요 모르는데 알려진 아이만 아홉이기 때문에 농담인 줄 알았는데 저 쌍둥이 보도가 미국신문에 쫙 깔렸어요 쫙 깔리니까 머스크 아저씨가 트위터로 뭐라고 날렸냐 저는 이거 보고 진짜 대단하다 훌륭한 사람이 되려면 저 정도의 배포 어떻게 보면 뻔뻔한 이게 필요하다 뭐라고 날렸냐 너희 모두가 대가족이 되기를 바란다 출산율과 애국을 위해서 인구 감소를 하고 있는데 실제로 이렇게 얘기했어요 대가족이 되기를 바란다 나처럼 말이야 아홉이란 말이야 나인칠드런 이미 대가족이라면 콩그레츌레이션 축하한다... 그렇죠 자기 부하 직원 15살 그거 그렇게 해서 그렇게... 참고로 그때 당시에 동거하는 분도... 하여튼 하여튼 그리고 나서 다짐도 하셨습니다 뭐라고 다짐을 하셨냐 나는 이렇게... 이거 실제예요 보면 7월 7일 얼마 전에 보도 나온 다음에 인구 감소 위기 방지를 위해 최선을 다하겠다 어... 밤마다 최선을 다하시는 거죠 뭘로 최선을 다할 지 모르겠지만 밤마다 인구 감소 위기 방지를 위해서 열심히 바빠죽겠는데 저 로케트도 쏴야 되고 지금 화성도 가야되고 트위터도 바쁘고 테슬라도 만들어야 되지만 [화이팅...] 하란 말이야 Doing my best 써 있죠 여러분들도 Doing your best 꼭 하시기 바랍니다 나오잖아요 저출산 위기 인구위기를 위해서 이렇게 나처럼 최선의 노력을 다하는 문명의 biggest danger가 될 수 있다 나오잖아요 출산율붕괴라는 위험을 방지하기 위해서 내가 인류를 구원하는 걸 기기 뭐 스페이스 X를 통해서 화성으로 가는 것도 있지만 밤마다 최선을 다해서 구원하고 계시다 진짜 이렇게 얘기했습니다 옛날 얘기한 거 가져온 게 아니에요 진짜 그렇게 얘기해서 스읍~~ 야 대단하다 저 마인드 유튜버라면 본받아야 된다 유튜버라면 유튜버라면 이런 마인드 본받아야 하죠 누가 뭐라 하건간에  내 생각은 doing my best 이 danger에 대해서 정말 본받아야 되는 마인드가 아닌가 생각을 하는데 이걸 보면서 일침을 날린 분이 있죠 머스크하고 원래 사이가 안좋았던 마이클 버리라는 분이 있습니다 이분 아니에요 이거는 영화 빅쇼트 주인공인데 크리스찬 아저씨 사진을 갖고 온거고 이분 사진 갖고 오다가 못 알아보실테니까 빅쇼트의 주인공으로 나왔던 마이클 버리가 실제 있는 인물이죠 이분이 이런 얘기를 했어요 무슨 말도 안되는 소리야 원래 사이가 안 좋은 데 낮은 출산율 해결이라는 게 상사가 부하 직원과 밤마다 그걸 이렇게... 잠자리해야 되는 게 그게 그런 의미냐? 그쵸 그게 국가적 출산율 해결을 그렇게 하는 게 그게 말이 되냐 그렇죠 일침이긴 한데 맞는 말이죠 상사가 부하 직원과 잠자리를 해야 한다는 게 낮은 출산율 해결하는 것은 아니다 라고 일침을 날려 주셨죠 어... 뭐가 맞는지는 저는 잘 모르겠지만 누가 보더라도 출산율 해결을 그걸로 하면 되나 싶긴 하는 생각이 약간 들었는데 뭐 머스크아저씨는 그랬다니까 참고로 머스크 아저씨가 또 한 소리 듣는 건 그라임스라고 있죠 지금은 같이 안 살지만 얼마 전까지 같이 살고 있던 그라임스 사실혼 관계였던 그라임스와 두 번째 자녀를 낳기 직전에 쌍둥이를 낳았다 그니까 이렇게 이쪽에서 두 번째 자녀가 이렇게 하고 이쪽에서 (??) 하여튼 국가적 출산율 제고를 위해서 위기에 대응하기로 아까 나왔죠 제가 한 말은 아닙니다 doing my best 하기 위해서 crisis에 best하기 위해서 이렇게 열심히 노력했다는 게 머스크형의 내용이 되겠습니다 당당하신 것 같아요 본받아야 된다 저 멘탈 부럽다 저 멘탈...'"
      ]
     },
     "metadata": {},
     "output_type": "display_data"
    }
   ],
   "source": [
    "# examples\n",
    "strings, relatednesses = strings_ranked_by_relatedness(\"일론 머스크\", df2, top_n=5)\n",
    "for string, relatedness in zip(strings, relatednesses):\n",
    "    print(f\"{relatedness=:.3f}\")\n",
    "    display(string)"
   ]
  },
  {
   "cell_type": "code",
   "execution_count": 48,
   "id": "29270de8",
   "metadata": {},
   "outputs": [],
   "source": [
    "def num_tokens(text: str, model: str = GPT_MODEL) -> int:\n",
    "    \"\"\"Return the number of tokens in a string.\"\"\"\n",
    "    encoding = tiktoken.encoding_for_model(model)\n",
    "    return len(encoding.encode(text))\n",
    "\n",
    "\n",
    "def query_message(\n",
    "    query: str,\n",
    "    df: pd.DataFrame,\n",
    "    model: str,\n",
    "    token_budget: int\n",
    ") -> str:\n",
    "    \"\"\"Return a message for GPT, with relevant source texts pulled from a dataframe.\"\"\"\n",
    "    strings, relatednesses = strings_ranked_by_relatedness(query, df)\n",
    "    introduction = 'Use the below articles on the 슈카월드 to answer the subsequent question. If the answer cannot be found in the articles, write \"I could not find an answer.\"'\n",
    "    question = f\"\\n\\nQuestion: {query}\"\n",
    "    message = introduction\n",
    "    for string in strings:\n",
    "        next_article = f'\\n\\n:\\n\"\"\"\\n{string}\\n\"\"\"'\n",
    "        if (\n",
    "            num_tokens(message + next_article + question, model=model)\n",
    "            > token_budget\n",
    "        ):\n",
    "            print(num_tokens(message + next_article + question, model=model))\n",
    "            break\n",
    "        else:\n",
    "            message += next_article\n",
    "    return message + question\n",
    "\n",
    "\n",
    "def ask(\n",
    "    query: str,\n",
    "    df: pd.DataFrame = df2,\n",
    "    model: str = GPT_MODEL,\n",
    "    token_budget: int = 4096 - 500,\n",
    "    print_message: bool = False,\n",
    ") -> str:\n",
    "    \"\"\"Answers a query using GPT and a dataframe of relevant texts and embeddings.\"\"\"\n",
    "    message = query_message(query, df, model=model, token_budget=token_budget)\n",
    "    if print_message:\n",
    "        print(message)\n",
    "    messages = [\n",
    "        {\"role\": \"system\", \"content\": \"You answer questions about 슈카의 유투브 내용\"},\n",
    "        {\"role\": \"user\", \"content\": message},\n",
    "    ]\n",
    "    response = openai.ChatCompletion.create(\n",
    "        model=model,\n",
    "        messages=messages,\n",
    "        temperature=0\n",
    "    )\n",
    "    response_message = response[\"choices\"][0][\"message\"][\"content\"]\n",
    "    return response_message"
   ]
  },
  {
   "cell_type": "code",
   "execution_count": 49,
   "id": "a28d9ca9",
   "metadata": {},
   "outputs": [
    {
     "name": "stdout",
     "output_type": "stream",
     "text": [
      "17034\n",
      "Use the below articles on the 슈카월드 to answer the subsequent question. If the answer cannot be found in the articles, write \"I could not find an answer.\"\n",
      "\n",
      "Question: how much elon bought twitter?\n"
     ]
    },
    {
     "data": {
      "text/plain": [
       "'I could not find an answer.'"
      ]
     },
     "execution_count": 49,
     "metadata": {},
     "output_type": "execute_result"
    }
   ],
   "source": [
    "# set print_message=True to see the source text GPT was working off of\n",
    "ask('how much elon bought twitter?', print_message=True)"
   ]
  },
  {
   "cell_type": "code",
   "execution_count": null,
   "id": "5ae07a32",
   "metadata": {},
   "outputs": [],
   "source": [
    "ask('Which athletes won the gold medal in curling at the 2022 Winter Olympics?', model=\"gpt-4\")"
   ]
  },
  {
   "cell_type": "code",
   "execution_count": null,
   "id": "c4155d45",
   "metadata": {},
   "outputs": [],
   "source": []
  },
  {
   "cell_type": "code",
   "execution_count": null,
   "id": "a6990748",
   "metadata": {},
   "outputs": [],
   "source": []
  },
  {
   "cell_type": "code",
   "execution_count": null,
   "id": "cf911426",
   "metadata": {},
   "outputs": [],
   "source": []
  },
  {
   "cell_type": "markdown",
   "id": "473249ca",
   "metadata": {},
   "source": [
    "### Appendix"
   ]
  },
  {
   "cell_type": "code",
   "execution_count": null,
   "id": "9e8fd853",
   "metadata": {},
   "outputs": [],
   "source": [
    "def get_video_info(api_key, video_ids):\n",
    "    \n",
    "    youtube = googleapiclient.discovery.build(\"youtube\", \"v3\", developerKey=api_key)\n",
    "    ret = []\n",
    "    for video_id in video_ids:\n",
    "        try:\n",
    "            request = youtube.videos().list(\n",
    "                part=\"snippet\",\n",
    "                id=video_id\n",
    "            )\n",
    "            response = request.execute()\n",
    "            ret.append(response['items'][0])\n",
    "        except Exception as e:\n",
    "            print(f\"Error getting info for video {video_id}: {e}\")\n",
    "    \n",
    "    return ret"
   ]
  },
  {
   "cell_type": "code",
   "execution_count": null,
   "id": "1bbacac5",
   "metadata": {},
   "outputs": [],
   "source": [
    "def get_playlist_videos(api_key, playlist_id):\n",
    "    youtube = googleapiclient.discovery.build(\"youtube\", \"v3\", developerKey=api_key)\n",
    "\n",
    "    playlist_videos = []\n",
    "    next_page_token = None\n",
    "\n",
    "    while True:\n",
    "        request = youtube.playlistItems().list(\n",
    "            part=\"contentDetails\",\n",
    "            playlistId=playlist_id,\n",
    "            maxResults=50,\n",
    "            pageToken=next_page_token\n",
    "        )\n",
    "        response = request.execute()\n",
    "\n",
    "        for item in response[\"items\"]:\n",
    "            playlist_videos.append(item[\"contentDetails\"][\"videoId\"])\n",
    "\n",
    "        next_page_token = response.get(\"nextPageToken\")\n",
    "\n",
    "        if next_page_token is None:\n",
    "            break\n",
    "\n",
    "    return playlist_videos"
   ]
  }
 ],
 "metadata": {
  "kernelspec": {
   "display_name": "Python 3 (ipykernel)",
   "language": "python",
   "name": "python3"
  },
  "language_info": {
   "codemirror_mode": {
    "name": "ipython",
    "version": 3
   },
   "file_extension": ".py",
   "mimetype": "text/x-python",
   "name": "python",
   "nbconvert_exporter": "python",
   "pygments_lexer": "ipython3",
   "version": "3.10.9"
  }
 },
 "nbformat": 4,
 "nbformat_minor": 5
}
